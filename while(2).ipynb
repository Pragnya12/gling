{
 "cells": [
  {
   "cell_type": "code",
   "execution_count": null,
   "id": "cb18a5dd",
   "metadata": {},
   "outputs": [],
   "source": [
    "#func's with argumnts\n",
    "\n",
    "def evn_odd(i):\n",
    "    #i=1\n",
    "    while(i<11): \n",
    "        if(i%2==0):\n",
    "            print(\"{} is a even number\".format(i))   \n",
    "        else:\n",
    "            print(\"{} is a odd number\".format(i))\n",
    "        i=i+1\n",
    "evn_odd(10)\n"
   ]
  },
  {
   "cell_type": "code",
   "execution_count": 4,
   "id": "4529ad47",
   "metadata": {},
   "outputs": [],
   "source": [
    "#wap to get 10 random numbers & print it is a even or odd number \n",
    "\n",
    "import random\n",
    "i=1\n",
    "while(number<11):\n",
    "    number=random.randint(1,100)\n",
    "    if(i%2==0):\n",
    "        print(\"even number\")\n",
    "    else:\n",
    "        print(\"odd number\")\n",
    "    i=i+1"
   ]
  },
  {
   "cell_type": "code",
   "execution_count": 9,
   "id": "e2b22757",
   "metadata": {},
   "outputs": [
    {
     "name": "stdout",
     "output_type": "stream",
     "text": [
      "Number 1 is 1\n",
      "Enter a number: 1\n",
      "you won\n"
     ]
    }
   ],
   "source": [
    "\n",
    "number1=random.randint(1,20)\n",
    "print(\"Number 1 is {}\".format(number1))\n",
    "i=0\n",
    "while(i<3):\n",
    "    number2=eval(input(\"Enter a number: \"))\n",
    "    if(number1==number2):\n",
    "        print(\"you won\")\n",
    "        break\n",
    "    else:\n",
    "        (\"You lost\")\n",
    "    i=i+1\n",
    "    "
   ]
  },
  {
   "cell_type": "markdown",
   "id": "c1f5d673",
   "metadata": {},
   "source": []
  },
  {
   "cell_type": "code",
   "execution_count": 14,
   "id": "9a95495b",
   "metadata": {},
   "outputs": [
    {
     "name": "stdout",
     "output_type": "stream",
     "text": [
      "Enter chances: 3\n",
      "Number 1 is 13\n",
      "Enter a number2: 1\n",
      "You lost\n",
      "chncs left 2\n",
      "Enter a number2: 1\n",
      "You lost\n",
      "chncs left 1\n",
      "Enter a number2: 1\n",
      "You lost\n",
      "chncs left 0\n"
     ]
    }
   ],
   "source": [
    "#to print how many chances are left\n",
    "\n",
    "chances=eval(input(\"Enter chances: \"))\n",
    "number1=random.randint(1,20)\n",
    "print(\"Number 1 is {}\".format(number1))\n",
    "i=0\n",
    "while(i<3):\n",
    "    number2=eval(input(\"Enter a number2: \"))\n",
    "    if(number1==number2):\n",
    "        print(\"you won\")\n",
    "        break\n",
    "    else:\n",
    "        print(\"You lost\")\n",
    "        print(\"chncs left {}\".format(chances-i-1))  \n",
    "    i=i+1\n",
    "    "
   ]
  },
  {
   "cell_type": "code",
   "execution_count": 15,
   "id": "06a20885",
   "metadata": {},
   "outputs": [
    {
     "name": "stdout",
     "output_type": "stream",
     "text": [
      "Enter chances: 3\n",
      "Number 1 is 14\n",
      "Enter a number2: 1\n",
      "You lost\n",
      "chncs left 2\n",
      "Enter a number2: 1\n",
      "You lost\n",
      "chncs left 1\n",
      "Enter a number2: 9\n",
      "You lost\n",
      "chncs left 0\n",
      "All your chances are over,btr luck next tme\n"
     ]
    }
   ],
   "source": [
    "#at last when chances are compltd, print as all your chances are over, btr luck next tme\n",
    "\n",
    "chances=eval(input(\"Enter chances: \"))\n",
    "number1=random.randint(1,20)\n",
    "print(\"Number 1 is {}\".format(number1))\n",
    "i=0\n",
    "while(i<3):\n",
    "    number2=eval(input(\"Enter a number2: \"))\n",
    "    if(number1==number2):\n",
    "        print(\"you won\")\n",
    "        break\n",
    "    else:\n",
    "        print(\"You lost\")\n",
    "        print(\"chncs left {}\".format(chances-i-1))  \n",
    "    i=i+1\n",
    "print(\"All your chances are over,btr luck next tme\")"
   ]
  },
  {
   "cell_type": "code",
   "execution_count": 17,
   "id": "55732902",
   "metadata": {},
   "outputs": [
    {
     "name": "stdout",
     "output_type": "stream",
     "text": [
      "The total number of even are 50\n",
      "The total number of odd are 50\n"
     ]
    }
   ],
   "source": [
    "#To print no. of even & odd using for loop\n",
    "\n",
    "count_e=0\n",
    "count_o=0\n",
    "i=1\n",
    "while(i<101):\n",
    "    if(i%2==0):\n",
    "        count_e=count_e+1\n",
    "    else:\n",
    "        count_o=count_o+1\n",
    "    i=i+1\n",
    "print(\"The total number of even are\",count_e)\n",
    "print(\"The total number of odd are\",count_o)\n",
    "        "
   ]
  },
  {
   "cell_type": "code",
   "execution_count": 30,
   "id": "6825d0f6",
   "metadata": {},
   "outputs": [
    {
     "name": "stdout",
     "output_type": "stream",
     "text": [
      "the total number between 50 to 90:  0\n"
     ]
    }
   ],
   "source": [
    "# wap ask get a 20 random number between 1 to 100 # 20 times\n",
    "# count the number of values which are greater than 50 and less than 90\n",
    "# which are between 50 and 90\n",
    "# you need to get the count out of 20 number how many numbers are between 50 & < 90\n",
    "\n",
    "\n",
    "count=0\n",
    "i=1\n",
    "while(number<21):\n",
    "    number=random.randint(1,100)\n",
    "    if(50<number and number>90):\n",
    "        count=count+1\n",
    "    i=i+1\n",
    "print(\"the total number between 50 to 90: \",count)\n"
   ]
  },
  {
   "cell_type": "code",
   "execution_count": 27,
   "id": "534d8804",
   "metadata": {},
   "outputs": [
    {
     "name": "stdout",
     "output_type": "stream",
     "text": [
      "the total number between 50 to 90:  0\n"
     ]
    }
   ],
   "source": [
    "import random\n",
    "num=random.randint(1,100) # random is outside\n",
    "count=0\n",
    "for num in range(20):\n",
    "    if 50<num and num<90: \n",
    "        count=count+1\n",
    " \n",
    "print(\"the total number between 50 to 90: \",count)"
   ]
  },
  {
   "cell_type": "code",
   "execution_count": 33,
   "id": "1cf69457",
   "metadata": {},
   "outputs": [
    {
     "name": "stdout",
     "output_type": "stream",
     "text": [
      "invalid number\n",
      "Numbers between 50 and 90: 5\n",
      "Numbers less than 50 : 14\n"
     ]
    }
   ],
   "source": [
    "\n",
    "\n",
    "import random\n",
    "numGt50 = 0\n",
    "numLt50 = 0\n",
    "i = 1\n",
    "while(i<21):\n",
    "    num = random.randint(1, 100)\n",
    "    if(num >50 and num < 90):\n",
    "        numGt50 = numGt50 +1\n",
    "    elif(num < 50):\n",
    "        numLt50 = numLt50 +1\n",
    "    else:\n",
    "        print(\"invalid number\") # 1 is invalid\n",
    "    i=i+1\n",
    "print(\"Numbers between 50 and 90:\", numGt50)\n",
    "print(\"Numbers less than 50 :\", numLt50)"
   ]
  },
  {
   "cell_type": "code",
   "execution_count": 40,
   "id": "d28ffa77",
   "metadata": {},
   "outputs": [
    {
     "data": {
      "text/plain": [
       "True"
      ]
     },
     "execution_count": 40,
     "metadata": {},
     "output_type": "execute_result"
    }
   ],
   "source": [
    "name=\"python\"\n",
    "\"p\" in \"python\""
   ]
  },
  {
   "cell_type": "code",
   "execution_count": 39,
   "id": "559ce403",
   "metadata": {},
   "outputs": [
    {
     "data": {
      "text/plain": [
       "False"
      ]
     },
     "execution_count": 39,
     "metadata": {},
     "output_type": "execute_result"
    }
   ],
   "source": [
    "\"i\" in \"python\""
   ]
  },
  {
   "cell_type": "code",
   "execution_count": 38,
   "id": "8784add2",
   "metadata": {},
   "outputs": [
    {
     "data": {
      "text/plain": [
       "True"
      ]
     },
     "execution_count": 38,
     "metadata": {},
     "output_type": "execute_result"
    }
   ],
   "source": [
    "\"t\" in \"python\"\n"
   ]
  },
  {
   "cell_type": "code",
   "execution_count": 37,
   "id": "03614a36",
   "metadata": {},
   "outputs": [
    {
     "data": {
      "text/plain": [
       "True"
      ]
     },
     "execution_count": 37,
     "metadata": {},
     "output_type": "execute_result"
    }
   ],
   "source": [
    "\"h\" in \"python\""
   ]
  },
  {
   "cell_type": "code",
   "execution_count": 41,
   "id": "23d77564",
   "metadata": {},
   "outputs": [
    {
     "name": "stdout",
     "output_type": "stream",
     "text": [
      "p\n",
      "y\n",
      "t\n",
      "h\n",
      "o\n",
      "n\n"
     ]
    }
   ],
   "source": [
    "name=\"python\"\n",
    "for i in name:\n",
    "    print(i)"
   ]
  },
  {
   "cell_type": "markdown",
   "id": "c8426e2a",
   "metadata": {},
   "source": [
    "- range,eval======= numbers\n",
    "- in,input========== strings\n"
   ]
  },
  {
   "cell_type": "code",
   "execution_count": 48,
   "id": "ae5434cf",
   "metadata": {},
   "outputs": [
    {
     "name": "stdout",
     "output_type": "stream",
     "text": [
      "Enter name: pragnya\n",
      "Enter name: prag\n"
     ]
    },
    {
     "ename": "KeyboardInterrupt",
     "evalue": "",
     "output_type": "error",
     "traceback": [
      "\u001b[1;31m---------------------------------------------------------------------------\u001b[0m",
      "\u001b[1;31mKeyboardInterrupt\u001b[0m                         Traceback (most recent call last)",
      "Cell \u001b[1;32mIn[48], line 13\u001b[0m\n\u001b[0;32m     11\u001b[0m count\u001b[38;5;241m=\u001b[39m\u001b[38;5;241m0\u001b[39m\n\u001b[0;32m     12\u001b[0m i\u001b[38;5;241m=\u001b[39m\u001b[38;5;28minput\u001b[39m(\u001b[38;5;124m\"\u001b[39m\u001b[38;5;124mEnter name: \u001b[39m\u001b[38;5;124m\"\u001b[39m)\n\u001b[1;32m---> 13\u001b[0m \u001b[38;5;28;01mwhile\u001b[39;00m(i\u001b[38;5;241m<\u001b[39mname):\n\u001b[0;32m     14\u001b[0m     count\u001b[38;5;241m=\u001b[39mcount\u001b[38;5;241m+\u001b[39m\u001b[38;5;241m1\u001b[39m\n\u001b[0;32m     15\u001b[0m \u001b[38;5;28mprint\u001b[39m(\u001b[38;5;124m\"\u001b[39m\u001b[38;5;124mTotal count\u001b[39m\u001b[38;5;124m\"\u001b[39m,count)\n",
      "\u001b[1;31mKeyboardInterrupt\u001b[0m: "
     ]
    }
   ],
   "source": [
    "# wap ask the user enter a your name : omkar\n",
    "# count the number of letters : using for loop and in operator\n",
    "# if the count>5 : print(you have lengthy name)\n",
    "# else:print(you have small name)\n",
    "# in operator\n",
    "# loop\n",
    "# counter\n",
    "# conditional\n",
    "\n",
    "name=input(\"Enter name: \")\n",
    "count=0\n",
    "i=input(\"Enter name: \")\n",
    "while(i<name):\n",
    "    count=count+1\n",
    "print(\"Total count\",count)\n",
    "i=i+1\n",
    "if(count>5):\n",
    "    print(\"It is a lengthy name\")\n",
    "else:\n",
    "    print(\"It is a Small name\")\n",
    "        \n",
    "    "
   ]
  },
  {
   "cell_type": "code",
   "execution_count": 50,
   "id": "6caf299b",
   "metadata": {},
   "outputs": [
    {
     "name": "stdout",
     "output_type": "stream",
     "text": [
      "enter your namepragnya\n",
      "number of a 2\n"
     ]
    }
   ],
   "source": [
    "name = input(\"enter your name\")\n",
    "NumOfA = 0\n",
    "for i in name:\n",
    "    if 'a' == i:\n",
    "        NumOfA = NumOfA +1\n",
    "print(\"number of a\", NumOfA)"
   ]
  },
  {
   "cell_type": "code",
   "execution_count": 58,
   "id": "430db167",
   "metadata": {},
   "outputs": [
    {
     "name": "stdout",
     "output_type": "stream",
     "text": [
      "Enter your name:pranavi\n",
      "a letter in your name: 1\n"
     ]
    }
   ],
   "source": [
    "name_1=input(\"Enter your name:\")\n",
    "for i in name_1:\n",
    "    if i=='a':\n",
    "        count=0          #if count is given inside the loop, it is not counting properly\n",
    "        count=count+1\n",
    "print(\"a letter in your name:\",count)"
   ]
  },
  {
   "cell_type": "code",
   "execution_count": 55,
   "id": "8933eab2",
   "metadata": {},
   "outputs": [
    {
     "name": "stdout",
     "output_type": "stream",
     "text": [
      "Enter name: pranavi\n",
      " a letter in your name is  2\n"
     ]
    }
   ],
   "source": [
    "#wap ask the user enter your name : python \n",
    "# iterate your name with loop\n",
    "# check the condition if i=='a': count it\n",
    "# print how many letter 'a' are there in your name\n",
    "\n",
    "name=input(\"Enter name: \")\n",
    "numberofa=0\n",
    "for i in name:\n",
    "    if(i=='a'):\n",
    "        numberofa=numberofa+1\n",
    "print(\" a letter in your name is \",numberofa)"
   ]
  },
  {
   "cell_type": "code",
   "execution_count": 56,
   "id": "8abb61c2",
   "metadata": {},
   "outputs": [
    {
     "name": "stdout",
     "output_type": "stream",
     "text": [
      "Enter name: pranavi\n",
      " a letter in your name is  2\n"
     ]
    }
   ],
   "source": [
    "\n",
    "name=input(\"Enter name: \")\n",
    "count=0\n",
    "for i in name:\n",
    "    if(i=='a'):\n",
    "        count=count+1\n",
    "print(\" a letter in your name is \",count)"
   ]
  },
  {
   "cell_type": "code",
   "execution_count": 66,
   "id": "1b752ff9",
   "metadata": {},
   "outputs": [
    {
     "name": "stdout",
     "output_type": "stream",
     "text": [
      "Enter number1- 30\n",
      "num2 is 8\n",
      "You lost because num2 = 8 Try again till you won\n",
      "Enter number1- 20\n",
      "num2 is 4\n",
      "You lost because num2 = 4 Try again till you won\n",
      "Enter number1- 20\n",
      "num2 is 4\n",
      "You lost because num2 = 4 Try again till you won\n",
      "Enter number1- 10\n",
      "num2 is 3\n",
      "You lost because num2 = 3 Try again till you won\n",
      "Enter number1- 10\n",
      "num2 is 10\n",
      "You won\n",
      "total time taken is: 17.55043315887451\n"
     ]
    }
   ],
   "source": [
    "import time\n",
    "start= time.time()\n",
    "\n",
    "import random\n",
    "while True:\n",
    "    num1 = eval(input(\"Enter number1- \"))\n",
    "    num2 = random.randint(1,10)\n",
    "    print(\"num2 is\",num2)\n",
    "    if(num1 == num2):\n",
    "        print('You won')\n",
    "        break\n",
    "    else:\n",
    "        print('You lost because num2 = {} Try again till you won'.format(num2))\n",
    "end=time.time()\n",
    "print(\"total time taken is:\",(end-start))"
   ]
  },
  {
   "cell_type": "code",
   "execution_count": 72,
   "id": "c1d23634",
   "metadata": {},
   "outputs": [
    {
     "data": {
      "text/plain": [
       "True"
      ]
     },
     "execution_count": 72,
     "metadata": {},
     "output_type": "execute_result"
    }
   ],
   "source": [
    "import webbrowser\n",
    "import time\n",
    "time.sleep(5) # 5 seconds\n",
    "webbrowser.open(\"https://nareshit.in/course-schedule/\")"
   ]
  },
  {
   "cell_type": "code",
   "execution_count": null,
   "id": "bb47c9a4",
   "metadata": {},
   "outputs": [],
   "source": []
  }
 ],
 "metadata": {
  "kernelspec": {
   "display_name": "Python 3",
   "language": "python",
   "name": "python3"
  },
  "language_info": {
   "codemirror_mode": {
    "name": "ipython",
    "version": 3
   },
   "file_extension": ".py",
   "mimetype": "text/x-python",
   "name": "python",
   "nbconvert_exporter": "python",
   "pygments_lexer": "ipython3",
   "version": "3.11.4"
  }
 },
 "nbformat": 4,
 "nbformat_minor": 5
}
