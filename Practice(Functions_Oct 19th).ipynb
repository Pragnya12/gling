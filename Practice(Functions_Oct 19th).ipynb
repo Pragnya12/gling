{
 "cells": [
  {
   "cell_type": "code",
   "execution_count": 3,
   "id": "9c974bcc",
   "metadata": {},
   "outputs": [
    {
     "name": "stdout",
     "output_type": "stream",
     "text": [
      "30\n"
     ]
    }
   ],
   "source": [
    "#Sum of 2 numbers using functions without arguments\n",
    "\n",
    "def sum():\n",
    "    try:\n",
    "        n1=10\n",
    "        n2=20\n",
    "        n3=n1+n2\n",
    "        print(n3)\n",
    "    except Exception as e:\n",
    "        print(e)\n",
    "sum()\n",
    "    \n"
   ]
  },
  {
   "cell_type": "code",
   "execution_count": 4,
   "id": "2451e6c9",
   "metadata": {},
   "outputs": [
    {
     "name": "stdout",
     "output_type": "stream",
     "text": [
      "300\n"
     ]
    }
   ],
   "source": [
    "#sum using functions with Arguments\n",
    "\n",
    "def sum(n1,n2):\n",
    "    try:\n",
    "        n3=n1+n2\n",
    "        print(n3)\n",
    "    except Exception as e:\n",
    "        print(e)\n",
    "sum(100,200)\n",
    "    \n"
   ]
  },
  {
   "cell_type": "code",
   "execution_count": 11,
   "id": "bb5356fd",
   "metadata": {},
   "outputs": [
    {
     "ename": "TypeError",
     "evalue": "sum() missing 1 required positional argument: 'n2'",
     "output_type": "error",
     "traceback": [
      "\u001b[1;31m---------------------------------------------------------------------------\u001b[0m",
      "\u001b[1;31mTypeError\u001b[0m                                 Traceback (most recent call last)",
      "Cell \u001b[1;32mIn[11], line 9\u001b[0m\n\u001b[0;32m      7\u001b[0m     \u001b[38;5;28;01mexcept\u001b[39;00m \u001b[38;5;167;01mException\u001b[39;00m \u001b[38;5;28;01mas\u001b[39;00m e:\n\u001b[0;32m      8\u001b[0m         \u001b[38;5;28mprint\u001b[39m(e)\n\u001b[1;32m----> 9\u001b[0m \u001b[38;5;28msum\u001b[39m(\u001b[38;5;241m100\u001b[39m)\n",
      "\u001b[1;31mTypeError\u001b[0m: sum() missing 1 required positional argument: 'n2'"
     ]
    }
   ],
   "source": [
    "#sum using functions with Arguments\n",
    "\n",
    "def sum(n1,n2):\n",
    "    try:\n",
    "        n3=n1+n2\n",
    "        print(n3)\n",
    "    except Exception as e:\n",
    "        print(e)\n",
    "sum(100)              #in declaration we passed n1 &n2 (TWO VARIABLES), but while calling sum function only one value is passed\n",
    "            #so the foll' error occured--->TypeError: sum() missing 1 required positional argument: 'n2'\n",
    "\n",
    "    \n"
   ]
  },
  {
   "cell_type": "code",
   "execution_count": 12,
   "id": "de82ccf1",
   "metadata": {},
   "outputs": [
    {
     "name": "stdout",
     "output_type": "stream",
     "text": [
      "n1 is 200\n",
      "n2 is 100\n",
      "300\n"
     ]
    }
   ],
   "source": [
    "#sum using functions with Arguments\n",
    "\n",
    "def sum(n2,n1):\n",
    "    try:\n",
    "        print(\"n1 is\",n1)\n",
    "        print(\"n2 is\",n2)\n",
    "        n3=n1+n2\n",
    "        print(n3)\n",
    "    except Exception as e:\n",
    "        print(e)\n",
    "sum(100,200)         #In Intializn of sum function we passed n2 followed by n1, so while calling first value is taken as n2\n",
    "                     # and second value is taken as n1 \n",
    "                    #n2-->100, n1--->200"
   ]
  },
  {
   "cell_type": "code",
   "execution_count": 7,
   "id": "dbe36c6e",
   "metadata": {},
   "outputs": [
    {
     "name": "stdout",
     "output_type": "stream",
     "text": [
      "n1 is 10\n",
      "n2 is 100\n",
      "n3 is 110\n"
     ]
    }
   ],
   "source": [
    "#Sum using default Arguments\n",
    "#method-1 (passing n1 & n2, here n2 is default argument)\n",
    "def sum(n1,n2=100):\n",
    "    try:\n",
    "        print(\"n1 is\",n1)\n",
    "        print(\"n2 is\",n2)\n",
    "        n3=n1+n2\n",
    "    except Exception as e:\n",
    "        print(e)\n",
    "    print(\"n3 is\",n3)\n",
    "sum(10)\n",
    "    \n"
   ]
  },
  {
   "cell_type": "code",
   "execution_count": 13,
   "id": "b4093805",
   "metadata": {},
   "outputs": [
    {
     "name": "stdout",
     "output_type": "stream",
     "text": [
      "n1 is 100\n",
      "n2 is 10\n",
      "n3 is 110\n"
     ]
    }
   ],
   "source": [
    "#Sum using default Arguments\n",
    "#method-1 (passing n1 & n2, here n1 is default argument)\n",
    "def sum(n2,n1=100):      #n1 is default argument(n1-->100)\n",
    "    try:\n",
    "        print(\"n1 is\",n1)\n",
    "        print(\"n2 is\",n2)\n",
    "        n3=n1+n2\n",
    "    except Exception as e:\n",
    "        print(e)\n",
    "    print(\"n3 is\",n3)\n",
    "sum(10)            #passing n2 as 10\n",
    "    \n"
   ]
  },
  {
   "cell_type": "code",
   "execution_count": 9,
   "id": "fbb25806",
   "metadata": {},
   "outputs": [
    {
     "name": "stdout",
     "output_type": "stream",
     "text": [
      "n1 is 100\n",
      "n2 is 20\n",
      "n3 is 120\n"
     ]
    }
   ],
   "source": [
    "#Sum using default Arguments\n",
    "#method--2 (n1 is default argument , n2 is given as value)\n",
    "\n",
    "def sum(n1=10):           #n1--> 10\n",
    "    try:\n",
    "        n2=20           #n2--> 20\n",
    "        print(\"n1 is\",n1)\n",
    "        print(\"n2 is\",n2)\n",
    "        n3=n1+n2\n",
    "        print(\"n3 is\",n3)\n",
    "    except Exception as e:\n",
    "        print(e)\n",
    "sum(100)        #n1--> 100 (it is latest one & it is considered while performing SUM)"
   ]
  },
  {
   "cell_type": "code",
   "execution_count": 10,
   "id": "c0158243",
   "metadata": {},
   "outputs": [
    {
     "name": "stdout",
     "output_type": "stream",
     "text": [
      "Enter n1 value: 300\n",
      "n1 is 300\n",
      "n2 is 200\n",
      "Sum is 500\n"
     ]
    }
   ],
   "source": [
    "#Sum using default Argument\n",
    "#\n",
    "\n",
    "def sum(n2=100):           #declaration (n2-->100)\n",
    "    try:\n",
    "        n1=eval(input(\"Enter n1 value: \"))        # user input \n",
    "        print(\"n1 is\",n1)               # 300\n",
    "        print(\"n2 is\",n2)             # n2-->100 , n2=200(latest one)\n",
    "        sum=n1+n2\n",
    "        print(\"Sum is\",sum)\n",
    "    except Exception as e:\n",
    "        print(e)\n",
    "sum(200)               #while calling n2 gets overwrite by 200 value"
   ]
  },
  {
   "cell_type": "code",
   "execution_count": 17,
   "id": "80d0bd0a",
   "metadata": {},
   "outputs": [
    {
     "ename": "TypeError",
     "evalue": "sum() missing 1 required positional argument: 'n3'",
     "output_type": "error",
     "traceback": [
      "\u001b[1;31m---------------------------------------------------------------------------\u001b[0m",
      "\u001b[1;31mTypeError\u001b[0m                                 Traceback (most recent call last)",
      "Cell \u001b[1;32mIn[17], line 13\u001b[0m\n\u001b[0;32m     11\u001b[0m     \u001b[38;5;28;01mexcept\u001b[39;00m \u001b[38;5;167;01mException\u001b[39;00m \u001b[38;5;28;01mas\u001b[39;00m e:\n\u001b[0;32m     12\u001b[0m         \u001b[38;5;28mprint\u001b[39m(e)\n\u001b[1;32m---> 13\u001b[0m \u001b[38;5;28msum\u001b[39m()\n",
      "\u001b[1;31mTypeError\u001b[0m: sum() missing 1 required positional argument: 'n3'"
     ]
    }
   ],
   "source": [
    "##Sum of 3 numbers using default argument, consider n2 as default argument & passing n2,n3 and giving n1 as 200\n",
    "\n",
    "def sum(n3,n2=100):          #here n2 is default argument (n2-->100)\n",
    "    try:\n",
    "        n1=200                #n1 is 200\n",
    "        print(\"n1 is\",n1)\n",
    "        print(\"n2 is\",n2)\n",
    "        print(\"n3 is\",n3)\n",
    "        sum=n1+n2+n3\n",
    "        print(\"Sum is\",sum)\n",
    "    except Exception as e:\n",
    "        print(e)\n",
    "sum()              #no value is passed hence the foll' error occurs \n",
    "              #TypeError: sum() missing 1 required positional argument: 'n3'"
   ]
  },
  {
   "cell_type": "code",
   "execution_count": 18,
   "id": "f317a59a",
   "metadata": {},
   "outputs": [
    {
     "name": "stdout",
     "output_type": "stream",
     "text": [
      "The average is 20.0\n"
     ]
    }
   ],
   "source": [
    "#Average of 3 numbers using function w/o arguments\n",
    "\n",
    "def average():\n",
    "    try:\n",
    "        n1=10\n",
    "        n2=20\n",
    "        n3=30\n",
    "        average=(n1+n2+n3)/3\n",
    "        print(\"The average is\",average)\n",
    "    except Exception as e:\n",
    "        print(e)\n",
    "average()\n"
   ]
  },
  {
   "cell_type": "code",
   "execution_count": 20,
   "id": "5e9250ed",
   "metadata": {},
   "outputs": [
    {
     "name": "stdout",
     "output_type": "stream",
     "text": [
      "Enter n1 value: 10\n",
      "Enter n2 value: 29\n",
      "Enter n3 value: 35\n",
      "The average is 24.667\n"
     ]
    }
   ],
   "source": [
    "#Average of 3 numbers using function w/o arguments\n",
    "\n",
    "def average():\n",
    "    try:\n",
    "        n1=eval(input(\"Enter n1 value: \"))\n",
    "        n2=eval(input(\"Enter n2 value: \"))\n",
    "        n3=eval(input(\"Enter n3 value: \"))\n",
    "        average=(n1+n2+n3)/3\n",
    "        print(\"The average is\",round(average,3))\n",
    "    except Exception as e:\n",
    "        print(e)\n",
    "average()\n"
   ]
  },
  {
   "cell_type": "code",
   "execution_count": 25,
   "id": "fcbc68f9",
   "metadata": {},
   "outputs": [
    {
     "name": "stdout",
     "output_type": "stream",
     "text": [
      "The average is 20.0\n"
     ]
    }
   ],
   "source": [
    "#Average of 3 numbers using function with arguments\n",
    "\n",
    "def average(n1,n2,n3):\n",
    "    try:\n",
    "        average=(n1+n2+n3)/3\n",
    "        print(\"The average is\",round(average,3))\n",
    "    except Exception as e:\n",
    "        print(e)\n",
    "average(10,20,30)\n"
   ]
  },
  {
   "cell_type": "code",
   "execution_count": 26,
   "id": "30ce40d8",
   "metadata": {},
   "outputs": [
    {
     "name": "stdout",
     "output_type": "stream",
     "text": [
      "The average is 20.0\n"
     ]
    }
   ],
   "source": [
    "#Average of 3 numbers using function with default argument\n",
    "\n",
    "def average(n1,n2,n3=30):\n",
    "    try:\n",
    "        average=(n1+n2+n3)/3\n",
    "        print(\"The average is\",round(average,3))\n",
    "    except Exception as e:\n",
    "        print(e)\n",
    "average(10,20)\n"
   ]
  },
  {
   "cell_type": "code",
   "execution_count": 27,
   "id": "b436d3b9",
   "metadata": {},
   "outputs": [
    {
     "ename": "SyntaxError",
     "evalue": "non-default argument follows default argument (384140967.py, line 3)",
     "output_type": "error",
     "traceback": [
      "\u001b[1;36m  Cell \u001b[1;32mIn[27], line 3\u001b[1;36m\u001b[0m\n\u001b[1;33m    def average(n1,n2=30,n3):\u001b[0m\n\u001b[1;37m                         ^\u001b[0m\n\u001b[1;31mSyntaxError\u001b[0m\u001b[1;31m:\u001b[0m non-default argument follows default argument\n"
     ]
    }
   ],
   "source": [
    "#Average of 3 numbers using function with default argument\n",
    "\n",
    "def average(n1,n2=30,n3):\n",
    "    try:\n",
    "        average=(n1+n2+n3)/3\n",
    "        print(\"The average is\",round(average,3))\n",
    "    except Exception as e:\n",
    "        print(e)\n",
    "average(10,20)\n",
    "\n",
    "#SyntaxError: non-default argument follows default argument\n"
   ]
  },
  {
   "cell_type": "code",
   "execution_count": 28,
   "id": "af8b4f65",
   "metadata": {},
   "outputs": [
    {
     "ename": "SyntaxError",
     "evalue": "non-default argument follows default argument (932559106.py, line 3)",
     "output_type": "error",
     "traceback": [
      "\u001b[1;36m  Cell \u001b[1;32mIn[28], line 3\u001b[1;36m\u001b[0m\n\u001b[1;33m    def average(n1=30,n2,n3):\u001b[0m\n\u001b[1;37m                      ^\u001b[0m\n\u001b[1;31mSyntaxError\u001b[0m\u001b[1;31m:\u001b[0m non-default argument follows default argument\n"
     ]
    }
   ],
   "source": [
    "#Average of 3 numbers using function with default argument\n",
    "\n",
    "def average(n1=30,n2,n3):\n",
    "    try:\n",
    "        average=(n1+n2+n3)/3\n",
    "        print(\"The average is\",round(average,3))\n",
    "    except Exception as e:\n",
    "        print(e)\n",
    "average(10,20)\n",
    "\n",
    "#SyntaxError: non-default argument follows default argument\n"
   ]
  },
  {
   "cell_type": "code",
   "execution_count": 33,
   "id": "2e964428",
   "metadata": {},
   "outputs": [],
   "source": [
    "#Average of 3 numbers using function using return\n",
    "\n",
    "def average(n1,n2,n3):\n",
    "    try:\n",
    "        average=(n1+n2+n3)/3\n",
    "        print(\"The average is\",round(average,3))\n",
    "        return(average)\n",
    "    except Exception as e:\n",
    "        print(e)\n"
   ]
  },
  {
   "cell_type": "code",
   "execution_count": 34,
   "id": "b26f9356",
   "metadata": {},
   "outputs": [
    {
     "name": "stdout",
     "output_type": "stream",
     "text": [
      "The average is 20.0\n"
     ]
    }
   ],
   "source": [
    "average=average(10,20,30)"
   ]
  },
  {
   "cell_type": "code",
   "execution_count": 35,
   "id": "6dfd69b2",
   "metadata": {},
   "outputs": [
    {
     "name": "stdout",
     "output_type": "stream",
     "text": [
      "20.0\n"
     ]
    }
   ],
   "source": [
    "print(average)"
   ]
  },
  {
   "cell_type": "code",
   "execution_count": 38,
   "id": "ab83e782",
   "metadata": {},
   "outputs": [],
   "source": [
    "# local Variables\n",
    "\n",
    "def average(n1):\n",
    "    n2=20\n",
    "    n3=40\n",
    "    try:\n",
    "        average=(n1+n2+n3)/3\n",
    "        print(\"The average is\",round(average,3))\n",
    "    except Exception as e:\n",
    "        print(e)"
   ]
  },
  {
   "cell_type": "code",
   "execution_count": 39,
   "id": "44eed69f",
   "metadata": {},
   "outputs": [
    {
     "name": "stdout",
     "output_type": "stream",
     "text": [
      "The average is 23.333\n"
     ]
    }
   ],
   "source": [
    "average(10)"
   ]
  },
  {
   "cell_type": "code",
   "execution_count": 40,
   "id": "21b5ca99",
   "metadata": {},
   "outputs": [
    {
     "ename": "NameError",
     "evalue": "name 'n2' is not defined",
     "output_type": "error",
     "traceback": [
      "\u001b[1;31m---------------------------------------------------------------------------\u001b[0m",
      "\u001b[1;31mNameError\u001b[0m                                 Traceback (most recent call last)",
      "Cell \u001b[1;32mIn[40], line 1\u001b[0m\n\u001b[1;32m----> 1\u001b[0m \u001b[38;5;28mprint\u001b[39m(n2)\n",
      "\u001b[1;31mNameError\u001b[0m: name 'n2' is not defined"
     ]
    }
   ],
   "source": [
    "print(n2)           #since it is defined inside the function block, we get an error as n2 is not defined. hence it is a local variable"
   ]
  },
  {
   "cell_type": "code",
   "execution_count": 43,
   "id": "0e695622",
   "metadata": {},
   "outputs": [],
   "source": [
    "# global variables\n",
    "\n",
    "n3=20\n",
    "n2=30\n",
    "def average(n1):\n",
    "    try:\n",
    "        average=(n1+n2+n3)/3\n",
    "        print(\"The average is\",round(average,3))\n",
    "    except Exception as e:\n",
    "        print(e)"
   ]
  },
  {
   "cell_type": "code",
   "execution_count": 44,
   "id": "1dccacff",
   "metadata": {},
   "outputs": [
    {
     "name": "stdout",
     "output_type": "stream",
     "text": [
      "The average is 20.0\n"
     ]
    }
   ],
   "source": [
    "average(10)"
   ]
  },
  {
   "cell_type": "code",
   "execution_count": 46,
   "id": "37c68234",
   "metadata": {},
   "outputs": [
    {
     "name": "stdout",
     "output_type": "stream",
     "text": [
      "20 30\n"
     ]
    }
   ],
   "source": [
    "print(n3,n2)          # global variables --> n2,n3 "
   ]
  },
  {
   "cell_type": "code",
   "execution_count": 70,
   "id": "7f8dd9ec",
   "metadata": {},
   "outputs": [],
   "source": [
    "#\n",
    "b=10\n",
    "def val():\n",
    "    b=30\n",
    "    print(b)\n",
    "    \n",
    "    "
   ]
  },
  {
   "cell_type": "code",
   "execution_count": 71,
   "id": "3cdb3c62",
   "metadata": {},
   "outputs": [
    {
     "name": "stdout",
     "output_type": "stream",
     "text": [
      "30\n"
     ]
    }
   ],
   "source": [
    "val()"
   ]
  },
  {
   "cell_type": "code",
   "execution_count": 73,
   "id": "75dc1c40",
   "metadata": {},
   "outputs": [
    {
     "name": "stdout",
     "output_type": "stream",
     "text": [
      "10\n"
     ]
    }
   ],
   "source": [
    "# now i want to print b as 30\n",
    "\n",
    "print(b)\n",
    "\n",
    "#instead of 30, we got 10 as result. so now let us use global keyword "
   ]
  },
  {
   "cell_type": "code",
   "execution_count": 74,
   "id": "59d6b0cc",
   "metadata": {},
   "outputs": [],
   "source": [
    "#using global keyword --\n",
    "\n",
    "b=10\n",
    "def val():\n",
    "    global b       # delcaring b as global (now it is both local & global)\n",
    "    b=30\n",
    "    print(b)\n",
    "    "
   ]
  },
  {
   "cell_type": "code",
   "execution_count": 75,
   "id": "20a14041",
   "metadata": {},
   "outputs": [
    {
     "name": "stdout",
     "output_type": "stream",
     "text": [
      "30\n"
     ]
    }
   ],
   "source": [
    "val()"
   ]
  },
  {
   "cell_type": "code",
   "execution_count": 77,
   "id": "433dafe7",
   "metadata": {},
   "outputs": [
    {
     "name": "stdout",
     "output_type": "stream",
     "text": [
      "30\n"
     ]
    }
   ],
   "source": [
    "print(b)       #since b is declared as global, b value is 30"
   ]
  },
  {
   "cell_type": "code",
   "execution_count": 81,
   "id": "42f4f3b8",
   "metadata": {},
   "outputs": [],
   "source": [
    "#sum of 3 numbers using global keyword \n",
    "\n",
    "z1=10\n",
    "def sum(z2):\n",
    "    z3=20\n",
    "    print(\"sum is\",z1+z2+z3)\n",
    "    "
   ]
  },
  {
   "cell_type": "code",
   "execution_count": 82,
   "id": "41ed1516",
   "metadata": {},
   "outputs": [
    {
     "name": "stdout",
     "output_type": "stream",
     "text": [
      "sum is 60\n"
     ]
    }
   ],
   "source": [
    "sum(30)"
   ]
  },
  {
   "cell_type": "code",
   "execution_count": 86,
   "id": "7f3e24b2",
   "metadata": {},
   "outputs": [
    {
     "ename": "NameError",
     "evalue": "name 'z3' is not defined",
     "output_type": "error",
     "traceback": [
      "\u001b[1;31m---------------------------------------------------------------------------\u001b[0m",
      "\u001b[1;31mNameError\u001b[0m                                 Traceback (most recent call last)",
      "Cell \u001b[1;32mIn[86], line 1\u001b[0m\n\u001b[1;32m----> 1\u001b[0m \u001b[38;5;28mprint\u001b[39m(z3)\n",
      "\u001b[1;31mNameError\u001b[0m: name 'z3' is not defined"
     ]
    }
   ],
   "source": [
    "print(z3)"
   ]
  },
  {
   "cell_type": "code",
   "execution_count": 87,
   "id": "8cafc774",
   "metadata": {},
   "outputs": [],
   "source": [
    "#making z3 as global & printing it\n",
    "\n",
    "\n",
    "z1=10\n",
    "def sum(z2):\n",
    "    global z3\n",
    "    z3=20\n",
    "    print(\"sum is\",z1+z2+z3)"
   ]
  },
  {
   "cell_type": "code",
   "execution_count": 88,
   "id": "568750a2",
   "metadata": {},
   "outputs": [
    {
     "name": "stdout",
     "output_type": "stream",
     "text": [
      "sum is 60\n"
     ]
    }
   ],
   "source": [
    "sum(30)"
   ]
  },
  {
   "cell_type": "code",
   "execution_count": 89,
   "id": "49dfdc81",
   "metadata": {},
   "outputs": [
    {
     "name": "stdout",
     "output_type": "stream",
     "text": [
      "20\n"
     ]
    }
   ],
   "source": [
    "print(z3)        #since we made z3 as global using global keyword, the value prints as 20"
   ]
  },
  {
   "cell_type": "code",
   "execution_count": 93,
   "id": "a31a3701",
   "metadata": {},
   "outputs": [
    {
     "ename": "SyntaxError",
     "evalue": "name 'n2' is parameter and global (3918814438.py, line 5)",
     "output_type": "error",
     "traceback": [
      "\u001b[1;36m  Cell \u001b[1;32mIn[93], line 5\u001b[1;36m\u001b[0m\n\u001b[1;33m    global n2,n3   #n2 &n3 are parameters which are passed in sum function , hence they can't be declared as global\u001b[0m\n\u001b[1;37m    ^\u001b[0m\n\u001b[1;31mSyntaxError\u001b[0m\u001b[1;31m:\u001b[0m name 'n2' is parameter and global\n"
     ]
    }
   ],
   "source": [
    "#\n",
    "\n",
    "n1=10\n",
    "def sum(n2,n3):\n",
    "    global n2,n3   #n2 &n3 are parameters which are passed in sum function , hence they can't be declared as global\n",
    "    n2=30\n",
    "    n3=40\n",
    "    print(n2)\n",
    "    print(n3)\n",
    "    print(\"sum is\",n1+n2+n3)"
   ]
  },
  {
   "cell_type": "code",
   "execution_count": 116,
   "id": "3e63abbd",
   "metadata": {},
   "outputs": [],
   "source": [
    "#to overcome above scenario, give n2 or n3 as user input from keyboard\n",
    "\n",
    "#\n",
    "\n",
    "n1=10\n",
    "def sum(n1):\n",
    "    global n2,n3   \n",
    "    n2=eval(input(\"Enter n2: \"))\n",
    "    n3=eval(input(\"enter n3: \"))\n",
    "    print(\"n2 is\",n2)\n",
    "    print(\"n3 is\",n3)\n",
    "    print(\"n1 is\",n1)\n",
    "    sum=n1+n2+n3\n",
    "    print(\"sum is\",n1+n2+n3)"
   ]
  },
  {
   "cell_type": "code",
   "execution_count": 117,
   "id": "f50d157b",
   "metadata": {},
   "outputs": [
    {
     "name": "stdout",
     "output_type": "stream",
     "text": [
      "Enter n2: 30\n",
      "enter n3: 40\n",
      "n2 is 30\n",
      "n3 is 40\n",
      "n1 is 100\n",
      "sum is 170\n"
     ]
    }
   ],
   "source": [
    "sum(100)"
   ]
  },
  {
   "cell_type": "code",
   "execution_count": 128,
   "id": "6bc27bd7",
   "metadata": {},
   "outputs": [],
   "source": [
    "#using return print sum\n",
    "\n",
    "\n",
    "n1=10\n",
    "def sum(n1):\n",
    "    global n2,n3   \n",
    "    n2=eval(input(\"Enter n2: \"))\n",
    "    n3=eval(input(\"enter n3: \"))\n",
    "    print(\"n2 is\",n2)\n",
    "    print(\"n3 is\",n3)\n",
    "    print(\"n1 is\",n1)\n",
    "    sum=n1+n2+n3\n",
    "    print(\"sum is\",n1+n2+n3)\n",
    "    return(sum)"
   ]
  },
  {
   "cell_type": "code",
   "execution_count": 129,
   "id": "d334e26d",
   "metadata": {},
   "outputs": [
    {
     "name": "stdout",
     "output_type": "stream",
     "text": [
      "Enter n2: 30\n",
      "enter n3: 40\n",
      "n2 is 30\n",
      "n3 is 40\n",
      "n1 is 100\n",
      "sum is 170\n"
     ]
    }
   ],
   "source": [
    "sum=sum(100)"
   ]
  },
  {
   "cell_type": "code",
   "execution_count": 130,
   "id": "ac09c386",
   "metadata": {},
   "outputs": [
    {
     "name": "stdout",
     "output_type": "stream",
     "text": [
      "170\n"
     ]
    }
   ],
   "source": [
    "print(sum)"
   ]
  },
  {
   "cell_type": "code",
   "execution_count": 131,
   "id": "180402c7",
   "metadata": {},
   "outputs": [],
   "source": [
    "#create a function to find aggregate & percentage marks\n",
    "\n",
    "def marks():\n",
    "    subject_1=eval(input(\"Enter subject 1 marks: \"))\n",
    "    subject_2=eval(input(\"Enter subject 2 marks: \"))\n",
    "    subject_3=eval(input(\"Enter subject 3 marks: \"))\n",
    "    subject_4=eval(input(\"Enter subject 4 marks: \"))\n",
    "    subject_5=eval(input(\"Enter subject 5 marks: \"))\n",
    "    aggregate_marks=(subject_1+subject_2+subject_3+subject_4+subject_5)\n",
    "    percentage_marks=(aggregate_marks)/500 * 100\n",
    "    print(\"Aggregate marks is:\",aggregate_marks)\n",
    "    print(\"Marks in percentage is:\",percentage_marks)"
   ]
  },
  {
   "cell_type": "code",
   "execution_count": 132,
   "id": "cd7eedf2",
   "metadata": {},
   "outputs": [
    {
     "name": "stdout",
     "output_type": "stream",
     "text": [
      "Enter subject 1 marks: 50\n",
      "Enter subject 2 marks: 60\n",
      "Enter subject 3 marks: 70\n",
      "Enter subject 4 marks: 80\n",
      "Enter subject 5 marks: 90\n",
      "Aggregate marks is: 350\n",
      "Marks in percentage is: 70.0\n"
     ]
    }
   ],
   "source": [
    "marks()"
   ]
  },
  {
   "cell_type": "code",
   "execution_count": 133,
   "id": "0fd70f7a",
   "metadata": {},
   "outputs": [],
   "source": [
    "#function with arguments\n",
    "\n",
    "def marks(subject_1,subject_2,subject_3,subject_4,subject_5):\n",
    "    aggregate_marks=(subject_1+subject_2+subject_3+subject_4+subject_5)\n",
    "    percentage_marks=(aggregate_marks)/500 * 100\n",
    "    print(\"Aggregate marks is:\",aggregate_marks)\n",
    "    print(\"Marks in percentage is:\",percentage_marks)"
   ]
  },
  {
   "cell_type": "code",
   "execution_count": 134,
   "id": "0a355a80",
   "metadata": {},
   "outputs": [
    {
     "name": "stdout",
     "output_type": "stream",
     "text": [
      "Aggregate marks is: 350\n",
      "Marks in percentage is: 70.0\n"
     ]
    }
   ],
   "source": [
    "marks(50,60,70,80,90)"
   ]
  },
  {
   "cell_type": "code",
   "execution_count": 135,
   "id": "85e8331a",
   "metadata": {},
   "outputs": [],
   "source": [
    "#Function with default argument\n",
    "#method---1\n",
    "\n",
    "def marks(subject_1,subject_2,subject_3,subject_4,subject_5=100):\n",
    "    aggregate_marks=(subject_1+subject_2+subject_3+subject_4+subject_5)\n",
    "    percentage_marks=(aggregate_marks)/500 * 100\n",
    "    print(\"Aggregate marks is:\",aggregate_marks)\n",
    "    print(\"Marks in percentage is:\",percentage_marks)"
   ]
  },
  {
   "cell_type": "code",
   "execution_count": 136,
   "id": "63f069b7",
   "metadata": {},
   "outputs": [
    {
     "name": "stdout",
     "output_type": "stream",
     "text": [
      "Aggregate marks is: 360\n",
      "Marks in percentage is: 72.0\n"
     ]
    }
   ],
   "source": [
    "marks(50,60,70,80)"
   ]
  },
  {
   "cell_type": "code",
   "execution_count": 139,
   "id": "37a24dc0",
   "metadata": {},
   "outputs": [],
   "source": [
    "#Function with default argument\n",
    "#method-2\n",
    "\n",
    "def marks(subject_1,subject_2,subject_3,subject_4,subject_5=100):\n",
    "    subject_5=80                   #latest value for subject_5  (100 is overwritten by 80)\n",
    "    aggregate_marks=(subject_1+subject_2+subject_3+subject_4+subject_5)\n",
    "    percentage_marks=(aggregate_marks)/500 * 100\n",
    "    print(\"subj1 is\",subject_1)\n",
    "    print(\"subj2 is\",subject_2)\n",
    "    print(\"subj3 is\",subject_3)\n",
    "    print(\"subj4 is\",subject_4)\n",
    "    print(\"subj5 is\",subject_5)\n",
    "    print(\"Aggregate marks is:\",aggregate_marks)\n",
    "    print(\"Marks in percentage is:\",percentage_marks)"
   ]
  },
  {
   "cell_type": "code",
   "execution_count": 140,
   "id": "08e8c531",
   "metadata": {},
   "outputs": [
    {
     "name": "stdout",
     "output_type": "stream",
     "text": [
      "subj1 is 50\n",
      "subj2 is 60\n",
      "subj3 is 70\n",
      "subj4 is 90\n",
      "subj5 is 80\n",
      "Aggregate marks is: 350\n",
      "Marks in percentage is: 70.0\n"
     ]
    }
   ],
   "source": [
    "marks(50,60,70,90)"
   ]
  },
  {
   "cell_type": "code",
   "execution_count": 141,
   "id": "30c693f1",
   "metadata": {},
   "outputs": [],
   "source": [
    "#Function with default argument\n",
    "#method-3\n",
    "\n",
    "def marks(subject_1,subject_2,subject_3,subject_4,subject_5=100):\n",
    "    subject_5=80\n",
    "    aggregate_marks=(subject_1+subject_2+subject_3+subject_4+subject_5)\n",
    "    percentage_marks=(aggregate_marks)/500 * 100\n",
    "    print(\"subj1 is\",subject_1)\n",
    "    print(\"subj2 is\",subject_2)\n",
    "    print(\"subj3 is\",subject_3)\n",
    "    print(\"subj4 is\",subject_4)\n",
    "    print(\"subj5 is\",subject_5)\n",
    "    print(\"Aggregate marks is:\",aggregate_marks)\n",
    "    print(\"Marks in percentage is:\",percentage_marks)"
   ]
  },
  {
   "cell_type": "code",
   "execution_count": 142,
   "id": "55abc0da",
   "metadata": {},
   "outputs": [
    {
     "name": "stdout",
     "output_type": "stream",
     "text": [
      "subj1 is 50\n",
      "subj2 is 60\n",
      "subj3 is 70\n",
      "subj4 is 80\n",
      "subj5 is 80\n",
      "Aggregate marks is: 340\n",
      "Marks in percentage is: 68.0\n"
     ]
    }
   ],
   "source": [
    "marks(50,60,70,80,55)"
   ]
  },
  {
   "cell_type": "code",
   "execution_count": 143,
   "id": "1b6fecca",
   "metadata": {},
   "outputs": [],
   "source": [
    "#Function with default argument\n",
    "#method-4\n",
    "\n",
    "def marks(subject_1,subject_2,subject_3,subject_4,subject_5=100):\n",
    "    aggregate_marks=(subject_1+subject_2+subject_3+subject_4+subject_5)\n",
    "    percentage_marks=(aggregate_marks)/500 * 100\n",
    "    print(\"subj1 is\",subject_1)\n",
    "    print(\"subj2 is\",subject_2)\n",
    "    print(\"subj3 is\",subject_3)\n",
    "    print(\"subj4 is\",subject_4)\n",
    "    print(\"subj5 is\",subject_5)\n",
    "    print(\"Aggregate marks is:\",aggregate_marks)\n",
    "    print(\"Marks in percentage is:\",percentage_marks)"
   ]
  },
  {
   "cell_type": "code",
   "execution_count": 144,
   "id": "8fba496e",
   "metadata": {},
   "outputs": [
    {
     "name": "stdout",
     "output_type": "stream",
     "text": [
      "subj1 is 40\n",
      "subj2 is 50\n",
      "subj3 is 60\n",
      "subj4 is 70\n",
      "subj5 is 80\n",
      "Aggregate marks is: 300\n",
      "Marks in percentage is: 60.0\n"
     ]
    }
   ],
   "source": [
    "marks(40,50,60,70,80)            #here subject_5 which is given as default argument will be overwrriten as 80"
   ]
  },
  {
   "cell_type": "code",
   "execution_count": 184,
   "id": "48d8177c",
   "metadata": {},
   "outputs": [],
   "source": [
    "#Using return statement, print aggregate & % marks\n",
    "\n",
    "\n",
    "def marks(subject_1,subject_2,subject_3,subject_4,subject_5):\n",
    "    aggregate_marks=(subject_1+subject_2+subject_3+subject_4+subject_5)\n",
    "    percentage_marks=(aggregate_marks)/500 * 100\n",
    "    print(\"subj1 is\",subject_1)\n",
    "    print(\"subj2 is\",subject_2)\n",
    "    print(\"subj3 is\",subject_3)\n",
    "    print(\"subj4 is\",subject_4)\n",
    "    print(\"subj5 is\",subject_5)\n",
    "    print(\"Aggregate marks is:\",aggregate_marks)\n",
    "    print(\"Marks in percentage is:\",percentage_marks)\n",
    "    return(aggregate_marks,percentage_marks)"
   ]
  },
  {
   "cell_type": "code",
   "execution_count": 185,
   "id": "64b33771",
   "metadata": {},
   "outputs": [
    {
     "name": "stdout",
     "output_type": "stream",
     "text": [
      "subj1 is 50\n",
      "subj2 is 60\n",
      "subj3 is 70\n",
      "subj4 is 80\n",
      "subj5 is 90\n",
      "Aggregate marks is: 350\n",
      "Marks in percentage is: 70.0\n"
     ]
    }
   ],
   "source": [
    "(aggregate_marks,percentage_marks)=marks(50,60,70,80,90)       # storing aggregate_marks "
   ]
  },
  {
   "cell_type": "code",
   "execution_count": 187,
   "id": "b091eb56",
   "metadata": {},
   "outputs": [
    {
     "name": "stdout",
     "output_type": "stream",
     "text": [
      "350 70.0\n"
     ]
    }
   ],
   "source": [
    "print(aggregate_marks,percentage_marks)"
   ]
  },
  {
   "cell_type": "code",
   "execution_count": 171,
   "id": "79d693d2",
   "metadata": {},
   "outputs": [],
   "source": [
    "#\n",
    "subject_1=50\n",
    "subject_2=60\n",
    "def marks(subject_3,subject_4):\n",
    "    subject_5=90\n",
    "    aggregate_marks=(subject_1+subject_2+subject_3+subject_4+subject_5)\n",
    "    percentage_marks=(aggregate_marks)/500 * 100\n",
    "    print(\"subj1 is\",subject_1)\n",
    "    print(\"subj2 is\",subject_2)\n",
    "    print(\"subj3 is\",subject_3)\n",
    "    print(\"subj4 is\",subject_4)\n",
    "    print(\"subj5 is\",subject_5)\n",
    "    print(\"Aggregate marks is:\",aggregate_marks)\n",
    "    print(\"Marks in percentage is:\",percentage_marks)"
   ]
  },
  {
   "cell_type": "code",
   "execution_count": 172,
   "id": "887b6041",
   "metadata": {},
   "outputs": [
    {
     "name": "stdout",
     "output_type": "stream",
     "text": [
      "subj1 is 50\n",
      "subj2 is 60\n",
      "subj3 is 75\n",
      "subj4 is 65\n",
      "subj5 is 90\n",
      "Aggregate marks is: 340\n",
      "Marks in percentage is: 68.0\n"
     ]
    }
   ],
   "source": [
    "marks(75,65)"
   ]
  },
  {
   "cell_type": "code",
   "execution_count": 173,
   "id": "16108169",
   "metadata": {},
   "outputs": [
    {
     "ename": "NameError",
     "evalue": "name 'subject_5' is not defined",
     "output_type": "error",
     "traceback": [
      "\u001b[1;31m---------------------------------------------------------------------------\u001b[0m",
      "\u001b[1;31mNameError\u001b[0m                                 Traceback (most recent call last)",
      "Cell \u001b[1;32mIn[173], line 1\u001b[0m\n\u001b[1;32m----> 1\u001b[0m \u001b[38;5;28mprint\u001b[39m(subject_5)\n",
      "\u001b[1;31mNameError\u001b[0m: name 'subject_5' is not defined"
     ]
    }
   ],
   "source": [
    "print(subject_5)      #since it is local,"
   ]
  },
  {
   "cell_type": "code",
   "execution_count": 174,
   "id": "fc04eb15",
   "metadata": {},
   "outputs": [],
   "source": [
    "#making subject_5 as global using global keyword\n",
    "\n",
    "subject_1=50\n",
    "subject_2=60\n",
    "def marks(subject_3,subject_4):\n",
    "    global subject_5\n",
    "    subject_5=90\n",
    "    aggregate_marks=(subject_1+subject_2+subject_3+subject_4+subject_5)\n",
    "    percentage_marks=(aggregate_marks)/500 * 100\n",
    "    print(\"subj1 is\",subject_1)\n",
    "    print(\"subj2 is\",subject_2)\n",
    "    print(\"subj3 is\",subject_3)\n",
    "    print(\"subj4 is\",subject_4)\n",
    "    print(\"subj5 is\",subject_5)\n",
    "    print(\"Aggregate marks is:\",aggregate_marks)\n",
    "    print(\"Marks in percentage is:\",percentage_marks)"
   ]
  },
  {
   "cell_type": "code",
   "execution_count": 175,
   "id": "1e5b6cb8",
   "metadata": {},
   "outputs": [
    {
     "name": "stdout",
     "output_type": "stream",
     "text": [
      "subj1 is 50\n",
      "subj2 is 60\n",
      "subj3 is 75\n",
      "subj4 is 65\n",
      "subj5 is 90\n",
      "Aggregate marks is: 340\n",
      "Marks in percentage is: 68.0\n"
     ]
    }
   ],
   "source": [
    "marks(75,65)"
   ]
  },
  {
   "cell_type": "code",
   "execution_count": 176,
   "id": "4cc76892",
   "metadata": {},
   "outputs": [
    {
     "name": "stdout",
     "output_type": "stream",
     "text": [
      "90\n"
     ]
    }
   ],
   "source": [
    "print(subject_5)"
   ]
  },
  {
   "cell_type": "code",
   "execution_count": 182,
   "id": "099dc88a",
   "metadata": {},
   "outputs": [
    {
     "name": "stdout",
     "output_type": "stream",
     "text": [
      "sum is 90\n",
      "sub is 10\n"
     ]
    }
   ],
   "source": [
    "# function inside of other function\n",
    "\n",
    "def sum(a,b):\n",
    "    sum=a+b\n",
    "    print(\"sum is\",sum)\n",
    "def sub(a,b):\n",
    "    sub=a-b\n",
    "    print(\"sub is\",sub)\n",
    "def val(a,b):\n",
    "    sum(a,b)\n",
    "    sub(a,b)\n",
    "val(50,40)"
   ]
  },
  {
   "cell_type": "code",
   "execution_count": null,
   "id": "25089c40",
   "metadata": {},
   "outputs": [],
   "source": []
  }
 ],
 "metadata": {
  "kernelspec": {
   "display_name": "Python 3",
   "language": "python",
   "name": "python3"
  },
  "language_info": {
   "codemirror_mode": {
    "name": "ipython",
    "version": 3
   },
   "file_extension": ".py",
   "mimetype": "text/x-python",
   "name": "python",
   "nbconvert_exporter": "python",
   "pygments_lexer": "ipython3",
   "version": "3.11.4"
  }
 },
 "nbformat": 4,
 "nbformat_minor": 5
}
