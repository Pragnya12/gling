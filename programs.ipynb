{
 "cells": [
  {
   "cell_type": "code",
   "execution_count": 1,
   "id": "feca0290",
   "metadata": {},
   "outputs": [
    {
     "name": "stdout",
     "output_type": "stream",
     "text": [
      "sum= 30\n"
     ]
    }
   ],
   "source": [
    "a=10\n",
    "b=20\n",
    "c=a+b\n",
    "print(\"sum=\",c)"
   ]
  },
  {
   "cell_type": "code",
   "execution_count": 4,
   "id": "6ed7fdeb",
   "metadata": {},
   "outputs": [
    {
     "name": "stdout",
     "output_type": "stream",
     "text": [
      "sum of 10 and 20 = 30\n"
     ]
    }
   ],
   "source": [
    "a=10\n",
    "b=20\n",
    "c=a+b\n",
    "print(\"sum of\",a,\"and\",b,\"=\", c)"
   ]
  },
  {
   "cell_type": "code",
   "execution_count": 8,
   "id": "d8897901",
   "metadata": {},
   "outputs": [
    {
     "name": "stdout",
     "output_type": "stream",
     "text": [
      "sum of 1 , 2 and 3 = 6\n"
     ]
    }
   ],
   "source": [
    "a=1\n",
    "b=2\n",
    "c=3\n",
    "d=a+b+c\n",
    "print(\"sum of\", a, \",\" ,b, \"and\" ,c, \"=\", d)"
   ]
  },
  {
   "cell_type": "code",
   "execution_count": 9,
   "id": "0d5011cd",
   "metadata": {},
   "outputs": [
    {
     "name": "stdout",
     "output_type": "stream",
     "text": [
      "sum=30\n"
     ]
    }
   ],
   "source": [
    "a=10\n",
    "b=20\n",
    "c=a+b\n",
    "print(\"sum={}\".format(c))"
   ]
  },
  {
   "cell_type": "code",
   "execution_count": 11,
   "id": "fd2ea62b",
   "metadata": {},
   "outputs": [
    {
     "name": "stdout",
     "output_type": "stream",
     "text": [
      "sum is 30\n"
     ]
    }
   ],
   "source": [
    "a=10\n",
    "b=20\n",
    "c=a+b\n",
    "print(\"sum is {}\".format(c))"
   ]
  },
  {
   "cell_type": "code",
   "execution_count": 13,
   "id": "b9ecaeb6",
   "metadata": {},
   "outputs": [
    {
     "name": "stdout",
     "output_type": "stream",
     "text": [
      "sum of 10, 20 =30\n"
     ]
    }
   ],
   "source": [
    "a=10\n",
    "b=20\n",
    "c=a+b\n",
    "print(\"sum of {}, {} ={}\".format(a,b,c))"
   ]
  },
  {
   "cell_type": "code",
   "execution_count": 14,
   "id": "0d912f12",
   "metadata": {},
   "outputs": [
    {
     "name": "stdout",
     "output_type": "stream",
     "text": [
      "30 is the sum\n"
     ]
    }
   ],
   "source": [
    "a=10\n",
    "b=20\n",
    "c=a+b\n",
    "print(\"{} is the sum\".format(c))"
   ]
  },
  {
   "cell_type": "code",
   "execution_count": 18,
   "id": "70b58438",
   "metadata": {},
   "outputs": [
    {
     "name": "stdout",
     "output_type": "stream",
     "text": [
      "sum of 1, 2 and 3 = 6\n"
     ]
    }
   ],
   "source": [
    "a=1\n",
    "b=2\n",
    "c=3\n",
    "d=a+b+c\n",
    "print(\"sum of {}, {} and {} = {}\".format(a,b,c,d))"
   ]
  },
  {
   "cell_type": "code",
   "execution_count": 19,
   "id": "e35e31c1",
   "metadata": {},
   "outputs": [
    {
     "name": "stdout",
     "output_type": "stream",
     "text": [
      "My number is 10 and name is Rossum\n"
     ]
    }
   ],
   "source": [
    "stno=10\n",
    "stname=\"Rossum\"\n",
    "print(\"My number is {} and name is {}\".format(stno,stname))"
   ]
  },
  {
   "cell_type": "code",
   "execution_count": 21,
   "id": "d25390e3",
   "metadata": {},
   "outputs": [
    {
     "name": "stdout",
     "output_type": "stream",
     "text": [
      "mul(10,20)=200\n"
     ]
    }
   ],
   "source": [
    "a=10\n",
    "b=20\n",
    "c=a*b\n",
    "print(\"mul({},{})={}\".format(a,b,c))"
   ]
  },
  {
   "cell_type": "code",
   "execution_count": 23,
   "id": "07b3b49f",
   "metadata": {},
   "outputs": [
    {
     "name": "stdout",
     "output_type": "stream",
     "text": [
      "sum(10,20)=30\n"
     ]
    }
   ],
   "source": [
    "print(\"sum({},{})={}\".format(a,b,a+b))"
   ]
  },
  {
   "cell_type": "code",
   "execution_count": 4,
   "id": "5935c87e",
   "metadata": {},
   "outputs": [
    {
     "name": "stdout",
     "output_type": "stream",
     "text": [
      "p\n",
      "y\n",
      "t\n",
      "h\n",
      "o\n",
      "n\n",
      "for loop else part\n",
      "-----------\n",
      "p\n",
      "y\n",
      "t\n",
      "h\n",
      "Other statements in Program\n"
     ]
    }
   ],
   "source": [
    "#Break& using for loop ( To print till 'h' without using indexing & slicing)\n",
    "s='python'\n",
    "for i in s:\n",
    "    print(i)\n",
    "else:\n",
    "    print(\"for loop else part\")\n",
    "print(\"-----------\")\n",
    "for i in s:\n",
    "    if(i==\"o\"):        #here firstly, p(bcz frst value in 's') , p is compared with o --> not equal so loop continues\n",
    "        break          #->Then 'y' compared with 'o'.\n",
    "    else:\n",
    "        print(i)       #->'t' compared with 'o','h' compared with 'o' and 'o' compared with 'o',so exceution stops over there& it comes out of loop(even else stmnt is nt printed & last print stmnt will be printed)\n",
    "        \n",
    "                       \n",
    "else:\n",
    "    print(\"for loop else part\")\n",
    "print(\"Other statements in Program\")"
   ]
  },
  {
   "cell_type": "code",
   "execution_count": 19,
   "id": "c08e282b",
   "metadata": {},
   "outputs": [
    {
     "name": "stdout",
     "output_type": "stream",
     "text": [
      "p\n",
      "y\n",
      "t\n",
      "h\n",
      "o\n",
      "n\n",
      "for loop else part\n",
      "---------------\n",
      "p\n",
      "y\n",
      "t\n",
      "h\n",
      "Other statments in program\n"
     ]
    }
   ],
   "source": [
    "# Using break & while loop ( To print till 'h' without using indexing & slicing)\n",
    "\n",
    "s='python'\n",
    "for i in s:\n",
    "    print(i)\n",
    "else:\n",
    "    print(\"for loop else part\")\n",
    "print(\"---------------\")\n",
    "i=0\n",
    "while(i<len(s)):\n",
    "    if(s[i]=='o'):\n",
    "        break\n",
    "    print(s[i])\n",
    "    i=i+1\n",
    "else:\n",
    "    print(\"for loop else part\")\n",
    "print(\"Other statments in program\")"
   ]
  },
  {
   "cell_type": "code",
   "execution_count": null,
   "id": "1cf3f77e",
   "metadata": {},
   "outputs": [],
   "source": []
  },
  {
   "cell_type": "code",
   "execution_count": null,
   "id": "103867b3",
   "metadata": {},
   "outputs": [],
   "source": []
  },
  {
   "cell_type": "code",
   "execution_count": null,
   "id": "71e172dd",
   "metadata": {},
   "outputs": [],
   "source": []
  },
  {
   "cell_type": "code",
   "execution_count": null,
   "id": "ae28eee7",
   "metadata": {},
   "outputs": [],
   "source": []
  },
  {
   "cell_type": "code",
   "execution_count": 12,
   "id": "61a0a88e",
   "metadata": {},
   "outputs": [
    {
     "name": "stdout",
     "output_type": "stream",
     "text": [
      "Enter Value of a:20\n",
      "Enter Value of b:10\n",
      "**************************************************\n",
      "\tARITHMETIC OPERATORS RESULTS\n",
      "**************************************************\n",
      "\t20 + 10 = 30\n",
      "\t20 - 10 = 10\n",
      "\t20 * 10 = 200\n",
      "\t20 / 10 = 2.0\n",
      "\t20 // 10 = 2\n",
      "\t20 % 10 = 0\n",
      "\t20 ** 10 = 10240000000000\n",
      "**************************************************\n"
     ]
    }
   ],
   "source": [
    "#Proghram for Demonstrating Arithmetic Operators\n",
    "#ArithmeticOpEx1.py\n",
    "a=int(input(\"Enter Value of a:\"))\n",
    "b=int(input(\"Enter Value of b:\"))\n",
    "print(\"*\"*50)\n",
    "print(\"\\tARITHMETIC OPERATORS RESULTS\")\n",
    "print(\"*\"*50)\n",
    "print(\"\\t{} + {} = {}\".format(a,b,a+b))\n",
    "print(\"\\t{} - {} = {}\".format(a,b,a-b))\n",
    "print(\"\\t{} * {} = {}\".format(a,b,a*b))\n",
    "print(\"\\t{} / {} = {}\".format(a,b,a/b))\n",
    "print(\"\\t{} // {} = {}\".format(a,b,a//b))\n",
    "print(\"\\t{} % {} = {}\".format(a,b,a%b))\n",
    "print(\"\\t{} ** {} = {}\".format(a,b,a**b))\n",
    "print(\"*\"*50)"
   ]
  },
  {
   "cell_type": "code",
   "execution_count": null,
   "id": "fece9663",
   "metadata": {},
   "outputs": [],
   "source": []
  }
 ],
 "metadata": {
  "kernelspec": {
   "display_name": "Python 3",
   "language": "python",
   "name": "python3"
  },
  "language_info": {
   "codemirror_mode": {
    "name": "ipython",
    "version": 3
   },
   "file_extension": ".py",
   "mimetype": "text/x-python",
   "name": "python",
   "nbconvert_exporter": "python",
   "pygments_lexer": "ipython3",
   "version": "3.11.4"
  }
 },
 "nbformat": 4,
 "nbformat_minor": 5
}
