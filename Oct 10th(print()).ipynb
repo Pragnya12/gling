{
 "cells": [
  {
   "cell_type": "code",
   "execution_count": 2,
   "id": "0dd9e3f4",
   "metadata": {},
   "outputs": [
    {
     "name": "stdout",
     "output_type": "stream",
     "text": [
      "The value of num1 is 30\n",
      "The value of num1 is 30\n"
     ]
    }
   ],
   "source": [
    "num1=30\n",
    "print(\"The value of num1 is\",num1)\n",
    "print(\"The value of num1 is 30\")"
   ]
  },
  {
   "cell_type": "code",
   "execution_count": 6,
   "id": "c7b63395",
   "metadata": {},
   "outputs": [
    {
     "name": "stdout",
     "output_type": "stream",
     "text": [
      "The value of num1 is: 30\n"
     ]
    }
   ],
   "source": [
    "#the value of num1 is:30\n",
    "\n",
    "print(\"The value of num1 is:\",num1)"
   ]
  },
  {
   "cell_type": "code",
   "execution_count": 7,
   "id": "376012ea",
   "metadata": {},
   "outputs": [
    {
     "name": "stdout",
     "output_type": "stream",
     "text": [
      "hai\n",
      "how ruh\n"
     ]
    }
   ],
   "source": [
    "print(\"hai\")\n",
    "print(\"how ruh\")"
   ]
  },
  {
   "cell_type": "code",
   "execution_count": 8,
   "id": "4d58bb5f",
   "metadata": {},
   "outputs": [
    {
     "name": "stdout",
     "output_type": "stream",
     "text": [
      "haihow ruh\n"
     ]
    }
   ],
   "source": [
    "#using end\n",
    "\n",
    "print(\"hai\",end='')\n",
    "print(\"how ruh\")\n"
   ]
  },
  {
   "cell_type": "code",
   "execution_count": 9,
   "id": "05a4d8fb",
   "metadata": {},
   "outputs": [
    {
     "name": "stdout",
     "output_type": "stream",
     "text": [
      "hai how ruh\n"
     ]
    }
   ],
   "source": [
    "\n",
    "print(\"hai\",end=' ')\n",
    "print(\"how ruh\")"
   ]
  },
  {
   "cell_type": "code",
   "execution_count": 10,
   "id": "7e2fbd3d",
   "metadata": {},
   "outputs": [
    {
     "name": "stdout",
     "output_type": "stream",
     "text": [
      "hai-->how ruh\n"
     ]
    }
   ],
   "source": [
    "\n",
    "print(\"hai\",end='-->')\n",
    "print(\"how ruh\")"
   ]
  },
  {
   "cell_type": "code",
   "execution_count": 16,
   "id": "2ec94f65",
   "metadata": {},
   "outputs": [
    {
     "name": "stdout",
     "output_type": "stream",
     "text": [
      "hai\n",
      "how\n",
      "are\n",
      "you\n"
     ]
    }
   ],
   "source": [
    "#hai\n",
    "#how\n",
    "#are\n",
    "#you\n",
    "\n",
    "#hai how r uh\n",
    "\n",
    "print(\"hai\")\n",
    "print(\"how\")\n",
    "print(\"are\")\n",
    "print(\"you\")\n"
   ]
  },
  {
   "cell_type": "code",
   "execution_count": 17,
   "id": "badecb8d",
   "metadata": {},
   "outputs": [
    {
     "name": "stdout",
     "output_type": "stream",
     "text": [
      "hai how are you\n"
     ]
    }
   ],
   "source": [
    "print(\"hai\",end=' ')\n",
    "print(\"how\",end=' ')\n",
    "print(\"are\",end=' ')\n",
    "print(\"you\")"
   ]
  },
  {
   "cell_type": "code",
   "execution_count": 25,
   "id": "1e0eecad",
   "metadata": {},
   "outputs": [
    {
     "name": "stdout",
     "output_type": "stream",
     "text": [
      "The addition of 100 and 500 is 600\n",
      "The addition of 100 and 500 is 600\n"
     ]
    }
   ],
   "source": [
    "number1=100\n",
    "number2=500\n",
    "add=number1+number2\n",
    "print(\"The addition of\",number1, \"and\",number2, \"is\",add)\n",
    "print(\"The addition of {} and {} is {}\".format(number1,number2,add))"
   ]
  },
  {
   "cell_type": "code",
   "execution_count": 26,
   "id": "7e253e39",
   "metadata": {},
   "outputs": [
    {
     "name": "stdout",
     "output_type": "stream",
     "text": [
      "The multiplication of 20 and 30 is 600\n"
     ]
    }
   ],
   "source": [
    "a=20\n",
    "b=30\n",
    "mul=a*b\n",
    "#the mul of 20 & 30 is 600\n",
    "print(\"The multiplication of\", a, 'and', b ,'is',mul)"
   ]
  },
  {
   "cell_type": "code",
   "execution_count": 27,
   "id": "d52d4661",
   "metadata": {},
   "outputs": [
    {
     "name": "stdout",
     "output_type": "stream",
     "text": [
      "The multiplication of 20 and 30 is 600\n"
     ]
    }
   ],
   "source": [
    "#using format method\n",
    "\n",
    "a=20\n",
    "b=30\n",
    "mul=a*b\n",
    "print(\"The multiplication of {} and {} is {}\".format(a,b,mul))"
   ]
  },
  {
   "cell_type": "code",
   "execution_count": 28,
   "id": "db1fa7cf",
   "metadata": {},
   "outputs": [
    {
     "name": "stdout",
     "output_type": "stream",
     "text": [
      "The addition of 100 and 200 is 300\n"
     ]
    }
   ],
   "source": [
    "number1=100\n",
    "number2=200\n",
    "add=number1+number2\n",
    "print(\"The addition of {} and {} is {}\".format(number1,number2,add))"
   ]
  },
  {
   "cell_type": "code",
   "execution_count": 29,
   "id": "f033c3b9",
   "metadata": {},
   "outputs": [
    {
     "name": "stdout",
     "output_type": "stream",
     "text": [
      "My name is python, i live in hyd and my age is 30\n"
     ]
    }
   ],
   "source": [
    "name='python'\n",
    "city='hyd'\n",
    "age=30\n",
    "#my name is python, i live in hyd and my age is 30\n",
    "\n",
    "print(\"My name is {}, i live in {} and my age is {}\".format(name,city,age))\n"
   ]
  },
  {
   "cell_type": "code",
   "execution_count": 32,
   "id": "e9e43ed2",
   "metadata": {},
   "outputs": [
    {
     "name": "stdout",
     "output_type": "stream",
     "text": [
      "the addition of 10 and 20 is 30\n"
     ]
    }
   ],
   "source": [
    "#WAP to add two numbers \n",
    "num1=10\n",
    "num2=20\n",
    "add=num1+num2\n",
    "print(\"the addition of {} and {} is {}\".format(num1,num2,add))"
   ]
  },
  {
   "cell_type": "code",
   "execution_count": 33,
   "id": "684e6dad",
   "metadata": {},
   "outputs": [
    {
     "name": "stdout",
     "output_type": "stream",
     "text": [
      "Enter value of num1:1000\n",
      "Enter value of num2:2000\n",
      "the addition of 1000 and 2000 is 3000\n"
     ]
    }
   ],
   "source": [
    "#using input statement\n",
    "num1=int(input(\"Enter value of num1:\"))\n",
    "num2=int(input(\"Enter value of num2:\"))\n",
    "add=num1+num2\n",
    "print(\"the addition of {} and {} is {}\".format(num1,num2,add))"
   ]
  },
  {
   "cell_type": "code",
   "execution_count": 34,
   "id": "b652f224",
   "metadata": {},
   "outputs": [
    {
     "name": "stdout",
     "output_type": "stream",
     "text": [
      "Enter value of num1:prag\n"
     ]
    },
    {
     "ename": "ValueError",
     "evalue": "invalid literal for int() with base 10: 'prag'",
     "output_type": "error",
     "traceback": [
      "\u001b[1;31m---------------------------------------------------------------------------\u001b[0m",
      "\u001b[1;31mValueError\u001b[0m                                Traceback (most recent call last)",
      "Cell \u001b[1;32mIn[34], line 1\u001b[0m\n\u001b[1;32m----> 1\u001b[0m num1\u001b[38;5;241m=\u001b[39m\u001b[38;5;28mint\u001b[39m(\u001b[38;5;28minput\u001b[39m(\u001b[38;5;124m\"\u001b[39m\u001b[38;5;124mEnter value of num1:\u001b[39m\u001b[38;5;124m\"\u001b[39m))\n\u001b[0;32m      2\u001b[0m num2\u001b[38;5;241m=\u001b[39m\u001b[38;5;28mint\u001b[39m(\u001b[38;5;28minput\u001b[39m(\u001b[38;5;124m\"\u001b[39m\u001b[38;5;124mEnter value of num2:\u001b[39m\u001b[38;5;124m\"\u001b[39m))\n\u001b[0;32m      3\u001b[0m add\u001b[38;5;241m=\u001b[39mnum1\u001b[38;5;241m+\u001b[39mnum2\n",
      "\u001b[1;31mValueError\u001b[0m: invalid literal for int() with base 10: 'prag'"
     ]
    }
   ],
   "source": [
    "num1=int(input(\"Enter value of num1:\"))\n",
    "num2=int(input(\"Enter value of num2:\"))\n",
    "add=num1+num2\n",
    "print(\"the addition of {} and {} is {}\".format(num1,num2,add))"
   ]
  },
  {
   "cell_type": "code",
   "execution_count": 35,
   "id": "5c5eafa9",
   "metadata": {},
   "outputs": [
    {
     "name": "stdout",
     "output_type": "stream",
     "text": [
      "Enter value of num1:100.044\n"
     ]
    },
    {
     "ename": "ValueError",
     "evalue": "invalid literal for int() with base 10: '100.044'",
     "output_type": "error",
     "traceback": [
      "\u001b[1;31m---------------------------------------------------------------------------\u001b[0m",
      "\u001b[1;31mValueError\u001b[0m                                Traceback (most recent call last)",
      "Cell \u001b[1;32mIn[35], line 1\u001b[0m\n\u001b[1;32m----> 1\u001b[0m num1\u001b[38;5;241m=\u001b[39m\u001b[38;5;28mint\u001b[39m(\u001b[38;5;28minput\u001b[39m(\u001b[38;5;124m\"\u001b[39m\u001b[38;5;124mEnter value of num1:\u001b[39m\u001b[38;5;124m\"\u001b[39m))\n\u001b[0;32m      2\u001b[0m num2\u001b[38;5;241m=\u001b[39m\u001b[38;5;28mint\u001b[39m(\u001b[38;5;28minput\u001b[39m(\u001b[38;5;124m\"\u001b[39m\u001b[38;5;124mEnter value of num2:\u001b[39m\u001b[38;5;124m\"\u001b[39m))\n\u001b[0;32m      3\u001b[0m add\u001b[38;5;241m=\u001b[39mnum1\u001b[38;5;241m+\u001b[39mnum2\n",
      "\u001b[1;31mValueError\u001b[0m: invalid literal for int() with base 10: '100.044'"
     ]
    }
   ],
   "source": [
    "num1=int(input(\"Enter value of num1:\"))\n",
    "num2=int(input(\"Enter value of num2:\"))\n",
    "add=num1+num2\n",
    "print(\"the addition of {} and {} is {}\".format(num1,num2,add))"
   ]
  },
  {
   "cell_type": "code",
   "execution_count": 36,
   "id": "3394051f",
   "metadata": {},
   "outputs": [
    {
     "name": "stdout",
     "output_type": "stream",
     "text": [
      "Enter value of num1:prag\n",
      "Enter value of num2:pran\n",
      "the addition of prag and pran is pragpran\n"
     ]
    }
   ],
   "source": [
    "num1=input(\"Enter value of num1:\")          #if only input() is given, it will take as str\n",
    "num2=input(\"Enter value of num2:\")\n",
    "add=num1+num2\n",
    "print(\"the addition of {} and {} is {}\".format(num1,num2,add))"
   ]
  },
  {
   "cell_type": "code",
   "execution_count": 38,
   "id": "2431f05a",
   "metadata": {},
   "outputs": [
    {
     "name": "stdout",
     "output_type": "stream",
     "text": [
      "Enter value of num1:100\n",
      "Enter value of num2:250\n",
      "the addition of 100 and 250 is 100250\n"
     ]
    }
   ],
   "source": [
    "num1=input(\"Enter value of num1:\")\n",
    "num2=input(\"Enter value of num2:\")\n",
    "add=num1+num2\n",
    "print(\"the addition of {} and {} is {}\".format(num1,num2,add))"
   ]
  },
  {
   "cell_type": "code",
   "execution_count": 37,
   "id": "e50ddd5e",
   "metadata": {},
   "outputs": [
    {
     "name": "stdout",
     "output_type": "stream",
     "text": [
      "Enter value of num1:10.25\n",
      "Enter value of num2:20\n",
      "the addition of 10.25 and 20 is 30.25\n"
     ]
    }
   ],
   "source": [
    "num1=float(input(\"Enter value of num1:\"))\n",
    "num2=int(input(\"Enter value of num2:\"))\n",
    "add=num1+num2\n",
    "print(\"the addition of {} and {} is {}\".format(num1,num2,add))"
   ]
  },
  {
   "cell_type": "code",
   "execution_count": 3,
   "id": "c87a87c2",
   "metadata": {},
   "outputs": [
    {
     "name": "stdout",
     "output_type": "stream",
     "text": [
      "Enter value of num1:10.25\n",
      "Enter value of num4:20\n",
      "Enter value of num5:2+3j\n"
     ]
    },
    {
     "data": {
      "text/plain": [
       "(13.25+3j)"
      ]
     },
     "execution_count": 3,
     "metadata": {},
     "output_type": "execute_result"
    }
   ],
   "source": [
    "num1=float(input(\"Enter value of num1:\"))\n",
    "#num2=int(input(\"Enter value of num2:\"))\n",
    "#num3=str(input(\"Enter value of num3:\"))\n",
    "num4=bool(input(\"Enter value of num4:\"))\n",
    "num5=complex(input(\"Enter value of num5:\"))\n",
    "add=num1+num4+num5\n",
    "add"
   ]
  },
  {
   "cell_type": "code",
   "execution_count": 1,
   "id": "5dc6863c",
   "metadata": {},
   "outputs": [
    {
     "name": "stdout",
     "output_type": "stream",
     "text": [
      "Enter value of num1:10.25\n",
      "Enter value of num2:20\n",
      "Enter value of num4:\n",
      "Enter value of num5:10+30j\n"
     ]
    },
    {
     "data": {
      "text/plain": [
       "(40.25+30j)"
      ]
     },
     "execution_count": 1,
     "metadata": {},
     "output_type": "execute_result"
    }
   ],
   "source": [
    "num1=float(input(\"Enter value of num1:\"))\n",
    "num2=int(input(\"Enter value of num2:\"))\n",
    "#num3=str(input(\"Enter value of num3:\"))\n",
    "num4=bool(input(\"Enter value of num4:\"))\n",
    "num5=complex(input(\"Enter value of num5:\"))\n",
    "add=num1+num2+num4+num5\n",
    "add"
   ]
  },
  {
   "cell_type": "code",
   "execution_count": 2,
   "id": "4bb9016e",
   "metadata": {},
   "outputs": [
    {
     "name": "stdout",
     "output_type": "stream",
     "text": [
      "Enter value of num1:10.20\n",
      "Enter value of num2:20\n",
      "Enter value of num3:prag\n",
      "Enter value of num4:20\n",
      "Enter value of num5:2+3j\n"
     ]
    },
    {
     "ename": "TypeError",
     "evalue": "unsupported operand type(s) for +: 'float' and 'str'",
     "output_type": "error",
     "traceback": [
      "\u001b[1;31m---------------------------------------------------------------------------\u001b[0m",
      "\u001b[1;31mTypeError\u001b[0m                                 Traceback (most recent call last)",
      "Cell \u001b[1;32mIn[2], line 6\u001b[0m\n\u001b[0;32m      4\u001b[0m num4\u001b[38;5;241m=\u001b[39m\u001b[38;5;28mbool\u001b[39m(\u001b[38;5;28minput\u001b[39m(\u001b[38;5;124m\"\u001b[39m\u001b[38;5;124mEnter value of num4:\u001b[39m\u001b[38;5;124m\"\u001b[39m))\n\u001b[0;32m      5\u001b[0m num5\u001b[38;5;241m=\u001b[39m\u001b[38;5;28mcomplex\u001b[39m(\u001b[38;5;28minput\u001b[39m(\u001b[38;5;124m\"\u001b[39m\u001b[38;5;124mEnter value of num5:\u001b[39m\u001b[38;5;124m\"\u001b[39m))\n\u001b[1;32m----> 6\u001b[0m add\u001b[38;5;241m=\u001b[39mnum1\u001b[38;5;241m+\u001b[39mnum2\u001b[38;5;241m+\u001b[39mnum3\u001b[38;5;241m+\u001b[39mnum4\u001b[38;5;241m+\u001b[39mnum5\n\u001b[0;32m      7\u001b[0m add\n",
      "\u001b[1;31mTypeError\u001b[0m: unsupported operand type(s) for +: 'float' and 'str'"
     ]
    }
   ],
   "source": [
    "num1=float(input(\"Enter value of num1:\"))\n",
    "num2=int(input(\"Enter value of num2:\"))\n",
    "num3=input(\"Enter value of num3:\")\n",
    "num4=bool(input(\"Enter value of num4:\"))\n",
    "num5=complex(input(\"Enter value of num5:\"))\n",
    "add=num1+num2+num3+num4+num5\n",
    "add"
   ]
  },
  {
   "cell_type": "code",
   "execution_count": 1,
   "id": "476bbabd",
   "metadata": {},
   "outputs": [
    {
     "name": "stdout",
     "output_type": "stream",
     "text": [
      "Enter value of num1:10.25\n",
      "Enter value of num2:20\n",
      "Enter value of num3:prag\n",
      "Enter value of num4:20\n",
      "Enter value of num5:2+3j\n"
     ]
    },
    {
     "data": {
      "text/plain": [
       "(34.25+3j)"
      ]
     },
     "execution_count": 1,
     "metadata": {},
     "output_type": "execute_result"
    }
   ],
   "source": [
    "num1=float(input(\"Enter value of num1:\"))\n",
    "num2=int(input(\"Enter value of num2:\"))\n",
    "num3=str(input(\"Enter value of num3:\"))\n",
    "num3=bool(num3)\n",
    "num4=bool(input(\"Enter value of num4:\"))\n",
    "num5=complex(input(\"Enter value of num5:\"))\n",
    "add=num1+num2+num3+num4+num5\n",
    "add"
   ]
  },
  {
   "cell_type": "code",
   "execution_count": 5,
   "id": "503d059b",
   "metadata": {},
   "outputs": [
    {
     "name": "stdout",
     "output_type": "stream",
     "text": [
      "Enter value of num1:20.25\n",
      "Enter value of num2:20\n",
      "Enter value of num3:prag\n",
      "Enter value of num4:20\n",
      "Enter value of num5:2+3j\n",
      "(44.25+3j)\n",
      "True\n"
     ]
    }
   ],
   "source": [
    "num1=float(input(\"Enter value of num1:\"))\n",
    "num2=int(input(\"Enter value of num2:\"))\n",
    "num3=str(input(\"Enter value of num3:\"))\n",
    "num3=bool(num3)\n",
    "num4=bool(input(\"Enter value of num4:\"))\n",
    "num5=complex(input(\"Enter value of num5:\"))\n",
    "add=num1+num2+num3+num4+num5\n",
    "print(add)\n",
    "print(num3)"
   ]
  },
  {
   "cell_type": "code",
   "execution_count": null,
   "id": "14a8bb23",
   "metadata": {},
   "outputs": [],
   "source": [
    "#oct 11th"
   ]
  },
  {
   "cell_type": "code",
   "execution_count": 6,
   "id": "ddd30f16",
   "metadata": {},
   "outputs": [
    {
     "name": "stdout",
     "output_type": "stream",
     "text": [
      "Enter number10.5\n"
     ]
    },
    {
     "ename": "ValueError",
     "evalue": "invalid literal for int() with base 10: '10.5'",
     "output_type": "error",
     "traceback": [
      "\u001b[1;31m---------------------------------------------------------------------------\u001b[0m",
      "\u001b[1;31mValueError\u001b[0m                                Traceback (most recent call last)",
      "Cell \u001b[1;32mIn[6], line 2\u001b[0m\n\u001b[0;32m      1\u001b[0m a\u001b[38;5;241m=\u001b[39m\u001b[38;5;241m10.5\u001b[39m\n\u001b[1;32m----> 2\u001b[0m a\u001b[38;5;241m=\u001b[39m\u001b[38;5;28mint\u001b[39m(\u001b[38;5;28minput\u001b[39m(\u001b[38;5;124m\"\u001b[39m\u001b[38;5;124mEnter number\u001b[39m\u001b[38;5;124m\"\u001b[39m))\n",
      "\u001b[1;31mValueError\u001b[0m: invalid literal for int() with base 10: '10.5'"
     ]
    }
   ],
   "source": [
    "a=10.5\n",
    "a=int(input(\"Enter number\"))\n"
   ]
  },
  {
   "cell_type": "code",
   "execution_count": 7,
   "id": "467c5a82",
   "metadata": {},
   "outputs": [
    {
     "name": "stdout",
     "output_type": "stream",
     "text": [
      "Enter value of number 1100\n",
      "Enter value of number 2200\n"
     ]
    },
    {
     "data": {
      "text/plain": [
       "300"
      ]
     },
     "execution_count": 7,
     "metadata": {},
     "output_type": "execute_result"
    }
   ],
   "source": [
    "#using eval( Evaluate)--> it is used only for numericals \n",
    "\n",
    "n1=eval(input(\"Enter value of number 1\"))\n",
    "n2=eval(input(\"Enter value of number 2\"))\n",
    "n1+n2"
   ]
  },
  {
   "cell_type": "code",
   "execution_count": 8,
   "id": "fc85599b",
   "metadata": {},
   "outputs": [
    {
     "name": "stdout",
     "output_type": "stream",
     "text": [
      "Enter value of number 1100.5\n",
      "Enter value of number 2200\n"
     ]
    },
    {
     "data": {
      "text/plain": [
       "300.5"
      ]
     },
     "execution_count": 8,
     "metadata": {},
     "output_type": "execute_result"
    }
   ],
   "source": [
    "#using eval\n",
    "\n",
    "n1=eval(input(\"Enter value of number 1\"))\n",
    "n2=eval(input(\"Enter value of number 2\"))\n",
    "n1+n2"
   ]
  },
  {
   "cell_type": "code",
   "execution_count": 1,
   "id": "684ff265",
   "metadata": {},
   "outputs": [
    {
     "name": "stdout",
     "output_type": "stream",
     "text": [
      "Enter value of number 1prag\n",
      "Enter value of number 220\n"
     ]
    },
    {
     "data": {
      "text/plain": [
       "21"
      ]
     },
     "execution_count": 1,
     "metadata": {},
     "output_type": "execute_result"
    }
   ],
   "source": [
    "#using eval\n",
    "#using eval\n",
    "\n",
    "n1=bool(input(\"Enter value of number 1\"))\n",
    "n2=eval(input(\"Enter value of number 2\"))\n",
    "n1+n2\n"
   ]
  },
  {
   "cell_type": "code",
   "execution_count": 2,
   "id": "c0b9dbee",
   "metadata": {},
   "outputs": [
    {
     "name": "stdout",
     "output_type": "stream",
     "text": [
      "enter n1:100.5\n",
      "enter n2:200\n",
      "The sum is 300.5\n"
     ]
    }
   ],
   "source": [
    "n1=input(\"enter n1:\")\n",
    "n2=input(\"enter n2:\")\n",
    "n1+n2\n",
    "print(\"The sum is {}\".format(eval(n1)+eval(n2)))"
   ]
  },
  {
   "cell_type": "code",
   "execution_count": null,
   "id": "ef85a833",
   "metadata": {},
   "outputs": [],
   "source": [
    "#eval(n1+n2)--> wrong\n",
    "#eval(n1)=eval(n2) --> correct"
   ]
  },
  {
   "cell_type": "code",
   "execution_count": 5,
   "id": "381654a2",
   "metadata": {},
   "outputs": [
    {
     "name": "stdout",
     "output_type": "stream",
     "text": [
      "Enter number1: 100\n",
      "Enter number2: 200\n",
      "The addition of 100 and 200 is 300\n",
      "The subtraction of 100 and 200 is -100\n",
      "The multiplication of 100 and 200 is 20000\n"
     ]
    }
   ],
   "source": [
    "#wap to ask the user to enter 2 numbers \n",
    "#n1= from keyboard enter 100\n",
    "#n2= from keyboard enter 100\n",
    "#the addition of 100 and 200 is 300\n",
    "# the sub of 100 and 200 is -100\n",
    "#the mul of 100 and 200 is 20000\n",
    "\n",
    "n1=eval(input(\"Enter number1: \"))\n",
    "n2=eval(input(\"Enter number2: \"))\n",
    "add=n1+n2\n",
    "sub=n1-n2\n",
    "mul=n1*n2\n",
    "print(\"The addition of {} and {} is {}\".format(n1,n2,add))\n",
    "print(\"The subtraction of {} and {} is {}\".format(n1,n2,sub))\n",
    "print(\"The multiplication of {} and {} is {}\".format(n1,n2,mul))"
   ]
  },
  {
   "cell_type": "code",
   "execution_count": 2,
   "id": "d161f4f4",
   "metadata": {},
   "outputs": [
    {
     "name": "stdout",
     "output_type": "stream",
     "text": [
      "Enter number1: 100\n",
      "Enter number2: 200\n",
      "Enter number3: 300\n",
      "The average of 100,200 and 300 is 200.0\n"
     ]
    }
   ],
   "source": [
    "#wap to enter 3 numbers & find avg\n",
    "\n",
    "n1=eval(input(\"Enter number1: \"))\n",
    "n2=eval(input(\"Enter number2: \"))\n",
    "n3=eval(input(\"Enter number3: \"))\n",
    "sum=n1+n2+n3\n",
    "avg=sum/3\n",
    "print(\"The average of {},{} and {} is {}\".format(n1,n2,n3,avg))\n"
   ]
  },
  {
   "cell_type": "code",
   "execution_count": 5,
   "id": "39dcc75b",
   "metadata": {},
   "outputs": [
    {
     "name": "stdout",
     "output_type": "stream",
     "text": [
      "Enter number1: 2\n",
      "Enter number2: 3\n",
      "Enter number3: 5\n",
      "The average of 2,3 and 5 is 3.3333333333333335\n"
     ]
    }
   ],
   "source": [
    "#w/o round off\n",
    "\n",
    "n1=eval(input(\"Enter number1: \"))\n",
    "n2=eval(input(\"Enter number2: \"))\n",
    "n3=eval(input(\"Enter number3: \"))\n",
    "sum=n1+n2+n3\n",
    "avg=sum/3\n",
    "print(\"The average of {},{} and {} is {}\".format(n1,n2,n3,avg))\n",
    "\n"
   ]
  },
  {
   "cell_type": "code",
   "execution_count": 3,
   "id": "6935440b",
   "metadata": {},
   "outputs": [
    {
     "name": "stdout",
     "output_type": "stream",
     "text": [
      "Enter number1: 2\n",
      "Enter number2: 3\n",
      "Enter number3: 5\n",
      "The average of 2,3 and 5 is 3.33\n"
     ]
    }
   ],
   "source": [
    "#using round off\n",
    "\n",
    "\n",
    "n1=eval(input(\"Enter number1: \"))\n",
    "n2=eval(input(\"Enter number2: \"))\n",
    "n3=eval(input(\"Enter number3: \"))\n",
    "sum=n1+n2+n3\n",
    "avg=sum/3\n",
    "final_avg=round(avg,2)\n",
    "print(\"The average of {},{} and {} is {}\".format(n1,n2,n3,final_avg))\n"
   ]
  },
  {
   "cell_type": "code",
   "execution_count": 6,
   "id": "bd96c0b9",
   "metadata": {},
   "outputs": [
    {
     "data": {
      "text/plain": [
       "6.0"
      ]
     },
     "execution_count": 6,
     "metadata": {},
     "output_type": "execute_result"
    }
   ],
   "source": [
    "/(division)     -> # \n",
    "12/2"
   ]
  },
  {
   "cell_type": "code",
   "execution_count": 9,
   "id": "d518bd13",
   "metadata": {},
   "outputs": [
    {
     "data": {
      "text/plain": [
       "0"
      ]
     },
     "execution_count": 9,
     "metadata": {},
     "output_type": "execute_result"
    }
   ],
   "source": [
    "%(modulus) -> # it will provide remainder\n",
    "12%2"
   ]
  },
  {
   "cell_type": "code",
   "execution_count": 8,
   "id": "f86e7094",
   "metadata": {},
   "outputs": [
    {
     "data": {
      "text/plain": [
       "6"
      ]
     },
     "execution_count": 8,
     "metadata": {},
     "output_type": "execute_result"
    }
   ],
   "source": [
    "#floor division (//)  -> # prints quotient\n",
    "12//2"
   ]
  },
  {
   "cell_type": "code",
   "execution_count": 10,
   "id": "8f5a36f2",
   "metadata": {},
   "outputs": [
    {
     "data": {
      "text/plain": [
       "2.4"
      ]
     },
     "execution_count": 10,
     "metadata": {},
     "output_type": "execute_result"
    }
   ],
   "source": [
    "12/5"
   ]
  },
  {
   "cell_type": "code",
   "execution_count": 11,
   "id": "16655ae3",
   "metadata": {},
   "outputs": [
    {
     "data": {
      "text/plain": [
       "2"
      ]
     },
     "execution_count": 11,
     "metadata": {},
     "output_type": "execute_result"
    }
   ],
   "source": [
    "12//5"
   ]
  },
  {
   "cell_type": "code",
   "execution_count": 12,
   "id": "0b2d33c6",
   "metadata": {},
   "outputs": [
    {
     "data": {
      "text/plain": [
       "2"
      ]
     },
     "execution_count": 12,
     "metadata": {},
     "output_type": "execute_result"
    }
   ],
   "source": [
    "12%5"
   ]
  },
  {
   "cell_type": "code",
   "execution_count": 13,
   "id": "26aebc12",
   "metadata": {},
   "outputs": [
    {
     "name": "stdout",
     "output_type": "stream",
     "text": [
      "Enter bill amount: 500\n",
      "Enter tip amount: 20\n",
      "The total amount is 520\n"
     ]
    }
   ],
   "source": [
    "# WAP to enter bill amnt, tip amnt & total amnt\n",
    "\n",
    "bill_amt=eval(input(\"Enter bill amount: \"))\n",
    "tip_amt=eval(input(\"Enter tip amount: \"))\n",
    "total_amt=bill_amt+tip_amt\n",
    "print(\"The total amount is {}\".format(total_amt))\n",
    "print(\"the total amount is\",)"
   ]
  },
  {
   "cell_type": "code",
   "execution_count": 2,
   "id": "d082c3e0",
   "metadata": {},
   "outputs": [
    {
     "name": "stdout",
     "output_type": "stream",
     "text": [
      "Enter bill amount: 500\n",
      "Enter tip percentage: 10\n",
      "the tip amount is : 50.0\n",
      "the total amount is 550.0\n"
     ]
    }
   ],
   "source": [
    "#WAP to ask the user to enter bill amount\n",
    "#Tip % on bill amount\n",
    "#how much % want to give\n",
    "#total amount\n",
    "\n",
    "bill_amt=eval(input(\"Enter bill amount: \"))\n",
    "tip_Perc=eval(input(\"Enter tip percentage: \"))\n",
    "tip_amount= bill_amt * tip_Perc/100\n",
    "total_amount=bill_amt+tip_amount\n",
    "print(\"the tip amount is :\",tip_amount)\n",
    "print(\"the total amount is\",total_amount)"
   ]
  },
  {
   "cell_type": "code",
   "execution_count": 2,
   "id": "eb48c7eb",
   "metadata": {},
   "outputs": [
    {
     "name": "stdout",
     "output_type": "stream",
     "text": [
      "How many dollars you want to pay: 100\n",
      "No dollars are accepted\n",
      "Then what is accepted\n",
      "Only indian rupee is accepted\n",
      "One dollar is equal to how many rupees: 80\n",
      "the total amount to pay is 8000\n"
     ]
    }
   ],
   "source": [
    "#wap to enter dollars\n",
    "#how many dollar you want to pay\n",
    "#print(no dollars are accptd)\n",
    "#print(then wt is accptd )\n",
    "#print(only indian rupee)\n",
    "#one dollar= 80rs\n",
    "#total amt to pay\n",
    "\n",
    "dollar=eval(input(\"How many dollars you want to pay: \"))\n",
    "print(\"No dollars are accepted\")\n",
    "print(\"Then what is accepted\")\n",
    "print(\"Only indian rupee is accepted\")\n",
    "one_dollar=eval(input(\"One dollar is equal to how many rupees: \"))\n",
    "print(\"the total amount to pay is\",dollar*one_dollar)"
   ]
  },
  {
   "cell_type": "markdown",
   "id": "f5eef43d",
   "metadata": {},
   "source": [
    "# oct 12th"
   ]
  },
  {
   "cell_type": "code",
   "execution_count": 12,
   "id": "30344650",
   "metadata": {},
   "outputs": [
    {
     "name": "stdout",
     "output_type": "stream",
     "text": [
      "The addition of a and b is: 30 .\n"
     ]
    }
   ],
   "source": [
    "#using separator\n",
    "a=10\n",
    "b=20\n",
    "c=a+b\n",
    "print(\"The addition of a and b is:\",c,'.')"
   ]
  },
  {
   "cell_type": "code",
   "execution_count": 34,
   "id": "f8c5e89b",
   "metadata": {},
   "outputs": [
    {
     "name": "stdout",
     "output_type": "stream",
     "text": [
      "hai.hello\n"
     ]
    }
   ],
   "source": [
    "print('hai','hello',sep='.')"
   ]
  },
  {
   "cell_type": "code",
   "execution_count": 35,
   "id": "54d93e86",
   "metadata": {},
   "outputs": [
    {
     "name": "stdout",
     "output_type": "stream",
     "text": [
      "hai&hello\n"
     ]
    }
   ],
   "source": [
    "print('hai','hello',sep='&')"
   ]
  },
  {
   "cell_type": "code",
   "execution_count": 37,
   "id": "1ed58217",
   "metadata": {},
   "outputs": [
    {
     "name": "stdout",
     "output_type": "stream",
     "text": [
      "12-10-2023\n"
     ]
    }
   ],
   "source": [
    "print('12','10','2023',sep='-')"
   ]
  },
  {
   "cell_type": "code",
   "execution_count": 38,
   "id": "7ffc34b6",
   "metadata": {},
   "outputs": [
    {
     "name": "stdout",
     "output_type": "stream",
     "text": [
      "3***5\n"
     ]
    }
   ],
   "source": [
    "print('3','5',sep='***')"
   ]
  },
  {
   "cell_type": "code",
   "execution_count": 49,
   "id": "6c1d5d62",
   "metadata": {},
   "outputs": [
    {
     "name": "stdout",
     "output_type": "stream",
     "text": [
      "Enter the distance: 10\n",
      "Enter fare: 400\n",
      "For 10 kms the fare is 4000 rs.\n"
     ]
    }
   ],
   "source": [
    "#wap to ask the user to enter  distnace in kms &\n",
    "#ask user to enter fare in RS\n",
    "#calculate total amnt\n",
    "#for 2 kms th fare is 20rs.\n",
    "\n",
    "distance=eval(input(\"Enter the distance: \"))\n",
    "fare=eval(input(\"Enter fare: \"))\n",
    "total_amount=distance * fare\n",
    "print(\"For {} kms the fare is {} rs.\".format(distance,total_amount))"
   ]
  },
  {
   "cell_type": "code",
   "execution_count": 48,
   "id": "cf8bf309",
   "metadata": {},
   "outputs": [
    {
     "name": "stdout",
     "output_type": "stream",
     "text": [
      "Enter the distance: 10\n",
      "Enter fare: 400\n",
      "For 10 kms the fare is 4000 rs.\n"
     ]
    }
   ],
   "source": [
    "#wap to ask the user to enter  distnace in kms &\n",
    "#ask user to enter fare in RS\n",
    "#calculate total amnt\n",
    "#for 2 kms th fare is 20rs.\n",
    "\n",
    "distance=eval(input(\"Enter the distance: \"))\n",
    "fare=eval(input(\"Enter fare: \"))\n",
    "total_amount=distance * fare\n",
    "print(\"For {} kms the fare is {} rs\".format(distance,total_amount),'.',sep='')"
   ]
  },
  {
   "cell_type": "code",
   "execution_count": 51,
   "id": "b38ac579",
   "metadata": {},
   "outputs": [
    {
     "name": "stdout",
     "output_type": "stream",
     "text": [
      "Ramesh & 35\n"
     ]
    }
   ],
   "source": [
    "# Ramesh & 35\n",
    "print(\"Ramesh\",\"35\",sep=\" & \")"
   ]
  },
  {
   "cell_type": "code",
   "execution_count": null,
   "id": "02fbb68a",
   "metadata": {},
   "outputs": [],
   "source": [
    "#\n",
    "print(\"Ramesh\")"
   ]
  },
  {
   "cell_type": "code",
   "execution_count": 14,
   "id": "b3a252c6",
   "metadata": {},
   "outputs": [
    {
     "name": "stdout",
     "output_type": "stream",
     "text": [
      "The addition of a and b is:30.\n"
     ]
    }
   ],
   "source": [
    "\n",
    "a=10\n",
    "b=20\n",
    "c=a+b\n",
    "print(\"The addition of a and b is:\",c,'.',sep='')"
   ]
  },
  {
   "cell_type": "code",
   "execution_count": 8,
   "id": "0b943c9a",
   "metadata": {},
   "outputs": [
    {
     "name": "stdout",
     "output_type": "stream",
     "text": [
      "The addition of a and b is-->30\n"
     ]
    }
   ],
   "source": [
    "\n",
    "a=10\n",
    "b=20\n",
    "c=a+b\n",
    "print(\"The addition of a and b is\",'-->',c,sep='')"
   ]
  },
  {
   "cell_type": "code",
   "execution_count": 17,
   "id": "d79664a8",
   "metadata": {},
   "outputs": [
    {
     "name": "stdout",
     "output_type": "stream",
     "text": [
      "Enter number: 5\n",
      "The square of 5 is 25.\n"
     ]
    }
   ],
   "source": [
    "#To find Square of the number\n",
    "\n",
    "number=eval(input(\"Enter number: \"))\n",
    "square_of_number=number*number\n",
    "print(\"The square of {} is {}\".format(number,square_of_number),'.',sep='')"
   ]
  },
  {
   "cell_type": "code",
   "execution_count": 36,
   "id": "d9a057f6",
   "metadata": {},
   "outputs": [
    {
     "name": "stdout",
     "output_type": "stream",
     "text": [
      "Enter value of x: 7\n",
      "7---14---21---28---35\n"
     ]
    }
   ],
   "source": [
    "#To print x,2x,3x,4x,5x\n",
    "\n",
    "x=eval(input(\"Enter value of x: \"))\n",
    "print(x,2*x,3*x,4*x,5*x,sep='---')\n"
   ]
  },
  {
   "cell_type": "code",
   "execution_count": 27,
   "id": "24eac3f7",
   "metadata": {},
   "outputs": [
    {
     "name": "stdout",
     "output_type": "stream",
     "text": [
      "Enter the weight: 50\n",
      "The weight in pounds is:  110.00000000000001\n"
     ]
    }
   ],
   "source": [
    "#To ask user to enter weight in kgs & convert into pounds\n",
    "\n",
    "#2.2 pounds in kg\n",
    "\n",
    "weight=eval(input(\"Enter the weight: \"))\n",
    "pounds=2.2*weight\n",
    "print(\"The weight in pounds is: \",pounds)"
   ]
  },
  {
   "cell_type": "code",
   "execution_count": 29,
   "id": "f179dc32",
   "metadata": {},
   "outputs": [
    {
     "name": "stdout",
     "output_type": "stream",
     "text": [
      "Enter first number: 10\n",
      "Enter second number: 20\n",
      "Enter third number: 30\n",
      "The value of total is: 60\n",
      "The value of average is: 20.0\n"
     ]
    }
   ],
   "source": [
    "#To find average,total of 3 numbers\n",
    "\n",
    "a=eval(input(\"Enter first number: \"))\n",
    "b=eval(input(\"Enter second number: \"))\n",
    "c=eval(input(\"Enter third number: \"))\n",
    "total=a+b+c\n",
    "average=total/3\n",
    "print(\"The value of total is:\",total)\n",
    "print(\"The value of average is:\",average)"
   ]
  },
  {
   "cell_type": "code",
   "execution_count": 30,
   "id": "95042df9",
   "metadata": {},
   "outputs": [
    {
     "name": "stdout",
     "output_type": "stream",
     "text": [
      "Enter the price of meal: 500\n",
      "Enter the value of tip percentage: 10\n",
      "The tip amount is: 50.0\n",
      "The total amount is: 550.0\n"
     ]
    }
   ],
   "source": [
    "#To find tip amount & total amount\n",
    "\n",
    "price=eval(input(\"Enter the price of meal: \"))\n",
    "tip_in_percentage=eval(input(\"Enter the value of tip percentage: \"))\n",
    "tip_amount=price*tip_in_percentage/100\n",
    "total_amount=tip_amount+price\n",
    "print(\"The tip amount is:\",tip_amount)\n",
    "print(\"The total amount is:\",total_amount)"
   ]
  },
  {
   "cell_type": "markdown",
   "id": "50f0acf8",
   "metadata": {},
   "source": [
    "# Oct 13th (Exception handling)"
   ]
  },
  {
   "cell_type": "code",
   "execution_count": null,
   "id": "0c4f9049",
   "metadata": {},
   "outputs": [],
   "source": [
    "# try-- it exceutes the program in try block \n",
    "# except -- error is exceuted in this block\n",
    "\n"
   ]
  },
  {
   "cell_type": "code",
   "execution_count": 3,
   "id": "27650210",
   "metadata": {},
   "outputs": [
    {
     "name": "stdout",
     "output_type": "stream",
     "text": [
      "ENter n1 p\n",
      "Error occured\n"
     ]
    }
   ],
   "source": [
    "try:\n",
    "    n1=eval(input(\"ENter n1 \"))\n",
    "    n2=100\n",
    "    add=n1+n2\n",
    "    print(add)\n",
    "except:\n",
    "    print(\"Error occured\")"
   ]
  },
  {
   "cell_type": "code",
   "execution_count": 2,
   "id": "b82ac688",
   "metadata": {},
   "outputs": [
    {
     "name": "stdout",
     "output_type": "stream",
     "text": [
      "ENter n1 10\n",
      "Error occured\n"
     ]
    }
   ],
   "source": [
    "try:\n",
    "    n1=eval(input(\"ENter n1 \"))\n",
    "    n2='100'\n",
    "    add=n1+n2\n",
    "    print(add)\n",
    "except:\n",
    "    print(\"Error occured\")"
   ]
  },
  {
   "cell_type": "code",
   "execution_count": 5,
   "id": "9a994c2e",
   "metadata": {},
   "outputs": [
    {
     "name": "stdout",
     "output_type": "stream",
     "text": [
      "ENter n1 python\n",
      "name 'python' is not defined\n"
     ]
    }
   ],
   "source": [
    "#using exception\n",
    "try:\n",
    "    n1=eval(input(\"ENter n1 \"))\n",
    "    n2=100\n",
    "    add=n1+n2\n",
    "    print(add)\n",
    "except Exception as e:\n",
    "    print(e)"
   ]
  },
  {
   "cell_type": "code",
   "execution_count": 6,
   "id": "d7edd362",
   "metadata": {},
   "outputs": [
    {
     "name": "stdout",
     "output_type": "stream",
     "text": [
      "ENter n1 10\n",
      "unsupported operand type(s) for +: 'int' and 'str'\n"
     ]
    }
   ],
   "source": [
    "#using exception\n",
    "try:\n",
    "    n1=eval(input(\"ENter n1 \"))\n",
    "    n2='100'\n",
    "    add=n1+n2\n",
    "    print(add)\n",
    "except Exception as e:\n",
    "    print(e)"
   ]
  },
  {
   "cell_type": "code",
   "execution_count": 9,
   "id": "c912da08",
   "metadata": {},
   "outputs": [
    {
     "name": "stdout",
     "output_type": "stream",
     "text": [
      "ENter n1 0\n",
      "division by zero\n"
     ]
    }
   ],
   "source": [
    "#using exception\n",
    "try:\n",
    "    n1=eval(input(\"ENter n1 \"))\n",
    "    n2=0\n",
    "    add=n1/n2\n",
    "    print(add)\n",
    "except Exception as e:\n",
    "    print(e)"
   ]
  },
  {
   "cell_type": "code",
   "execution_count": 1,
   "id": "f8e34fb4",
   "metadata": {},
   "outputs": [
    {
     "name": "stdout",
     "output_type": "stream",
     "text": [
      "ENter n1 1\n",
      "division by zero\n"
     ]
    }
   ],
   "source": [
    "#using exception\n",
    "try:\n",
    "    n1=eval(input(\"ENter n1 \"))\n",
    "    n2=0\n",
    "    add=n1/n2\n",
    "    print(add)\n",
    "except Exception as e:\n",
    "    print(e)"
   ]
  },
  {
   "cell_type": "code",
   "execution_count": 2,
   "id": "599562a2",
   "metadata": {},
   "outputs": [
    {
     "name": "stdout",
     "output_type": "stream",
     "text": [
      "Enter the price of meal: p\n",
      "name 'p' is not defined\n"
     ]
    }
   ],
   "source": [
    "#To find tip amount & total amount\n",
    "\n",
    "try:\n",
    "    price=eval(input(\"Enter the price of meal: \"))\n",
    "    tip_in_percentage=eval(input(\"Enter the value of tip percentage: \"))\n",
    "    tip_amount=price*tip_in_percentage/100\n",
    "    total_amount=tip_amount+price\n",
    "    print(\"The tip amount is:\",tip_amount)\n",
    "    print(\"The total amount is:\",total_amount)\n",
    "except Exception as e:\n",
    "    print(e)"
   ]
  },
  {
   "cell_type": "code",
   "execution_count": 3,
   "id": "6f9962b3",
   "metadata": {},
   "outputs": [
    {
     "name": "stdout",
     "output_type": "stream",
     "text": [
      "Enter the price of meal: 10\n",
      "Enter the value of tip percentage: ppp\n",
      "name 'ppp' is not defined\n"
     ]
    }
   ],
   "source": [
    "#To find tip amount & total amount\n",
    "\n",
    "try:\n",
    "    price=eval(input(\"Enter the price of meal: \"))\n",
    "    tip_in_percentage=eval(input(\"Enter the value of tip percentage: \"))\n",
    "    tip_amount=price*tip_in_percentage/100\n",
    "    total_amount=tip_amount+price\n",
    "    print(\"The tip amount is:\",tip_amount)\n",
    "    print(\"The total amount is:\",total_amount)\n",
    "except Exception as e:\n",
    "    print(e)"
   ]
  },
  {
   "cell_type": "code",
   "execution_count": 4,
   "id": "4f139610",
   "metadata": {},
   "outputs": [
    {
     "name": "stdout",
     "output_type": "stream",
     "text": [
      "Enter first number: 10\n",
      "Enter second number: 20\n",
      "Enter third number: aa\n",
      "name 'aa' is not defined\n"
     ]
    }
   ],
   "source": [
    "#To find average,total of 3 numbers\n",
    "\n",
    "try:\n",
    "    a=eval(input(\"Enter first number: \"))\n",
    "    b=eval(input(\"Enter second number: \"))\n",
    "    c=eval(input(\"Enter third number: \"))\n",
    "    total=a+b+c\n",
    "    average=total/3\n",
    "    print(\"The value of total is:\",total)\n",
    "    print(\"The value of average is:\",average)\n",
    "except Exception as e:\n",
    "    print(e)"
   ]
  },
  {
   "cell_type": "code",
   "execution_count": 5,
   "id": "ecdd5481",
   "metadata": {},
   "outputs": [
    {
     "name": "stdout",
     "output_type": "stream",
     "text": [
      "Enter first number: abc\n",
      "name 'abc' is not defined\n"
     ]
    }
   ],
   "source": [
    "#To find average,total of 3 numbers\n",
    "\n",
    "try:\n",
    "    a=eval(input(\"Enter first number: \"))\n",
    "    b=eval(input(\"Enter second number: \"))\n",
    "    c=eval(input(\"Enter third number: \"))\n",
    "    total=a+b+c\n",
    "    average=total/3\n",
    "    print(\"The value of total is:\",total)\n",
    "    print(\"The value of average is:\",average)\n",
    "except Exception as e:\n",
    "    print(e)"
   ]
  },
  {
   "cell_type": "code",
   "execution_count": 2,
   "id": "dd686c8b",
   "metadata": {},
   "outputs": [
    {
     "name": "stdout",
     "output_type": "stream",
     "text": [
      "Enter the weight: abc\n",
      "error occured\n"
     ]
    }
   ],
   "source": [
    "#To ask user to enter weight in kgs & convert into pounds\n",
    "\n",
    "#2.2 pounds in kg\n",
    "\n",
    "try:\n",
    "    weight=eval(input(\"Enter the weight: \"))\n",
    "    pounds=2.2*weight\n",
    "    print(\"The weight in pounds is: \",pounds)\n",
    "except:\n",
    "    print(\"error occured\")"
   ]
  },
  {
   "cell_type": "code",
   "execution_count": 4,
   "id": "46155a8f",
   "metadata": {},
   "outputs": [
    {
     "name": "stdout",
     "output_type": "stream",
     "text": [
      "Enter the weight: hlo\n",
      "name 'hlo' is not defined\n"
     ]
    }
   ],
   "source": [
    "\n",
    "try:\n",
    "    weight=eval(input(\"Enter the weight: \"))\n",
    "    pounds=2.2*weight\n",
    "    print(\"The weight in pounds is: \",pounds)\n",
    "except Exception as e:\n",
    "    print(e)"
   ]
  },
  {
   "cell_type": "code",
   "execution_count": 7,
   "id": "b9f666d3",
   "metadata": {},
   "outputs": [
    {
     "name": "stdout",
     "output_type": "stream",
     "text": [
      "Enter value of x: Ab\n",
      "name 'Ab' is not defined\n"
     ]
    }
   ],
   "source": [
    "#To print x,2x,3x,4x,5x\n",
    "\n",
    "try:\n",
    "    x=eval(input(\"Enter value of x: \"))\n",
    "    print(x,2*x,3*x,4*x,5*x,sep='---')\n",
    "except Exception as e:\n",
    "    print(e)\n"
   ]
  },
  {
   "cell_type": "code",
   "execution_count": 8,
   "id": "b0499329",
   "metadata": {},
   "outputs": [
    {
     "name": "stdout",
     "output_type": "stream",
     "text": [
      "Enter number: python\n",
      "name 'python' is not defined\n"
     ]
    }
   ],
   "source": [
    "#To find Square of the number\n",
    "\n",
    "try:\n",
    "    number=eval(input(\"Enter number: \"))\n",
    "    square_of_number=number*number\n",
    "    print(\"The square of {} is {}\".format(number,square_of_number),'.',sep='')\n",
    "except Exception as e:\n",
    "    print(e)"
   ]
  },
  {
   "cell_type": "code",
   "execution_count": null,
   "id": "c7ee42bc",
   "metadata": {},
   "outputs": [],
   "source": [
    "#Wap to ask theuser to enter 2 numbers\n",
    "\n",
    "a=10\n",
    "b=20\n",
    "c=a+b\n",
    "print(c)"
   ]
  },
  {
   "cell_type": "code",
   "execution_count": 9,
   "id": "06eaad6b",
   "metadata": {},
   "outputs": [
    {
     "name": "stdout",
     "output_type": "stream",
     "text": [
      "Enter n1: 10\n",
      "Enter n2: 20\n",
      "30\n"
     ]
    }
   ],
   "source": [
    "#Wap to ask user to enter random integer numbers & add those numbers\n",
    "\n",
    "n1=eval(input(\"Enter n1: \"))\n",
    "n2=eval(input(\"Enter n2: \"))\n",
    "n=n1+n2\n",
    "print(n)"
   ]
  },
  {
   "cell_type": "code",
   "execution_count": 12,
   "id": "ccdd2fb1",
   "metadata": {},
   "outputs": [
    {
     "name": "stdout",
     "output_type": "stream",
     "text": [
      "147\n"
     ]
    }
   ],
   "source": [
    "#Wap to ask the user to get random 2 integers & add those integers\n",
    "\n",
    "import random\n",
    "n1=random.randint(1,100)\n",
    "n2=random.randint(1,200)\n",
    "add=n1+n2\n",
    "print(add)"
   ]
  },
  {
   "cell_type": "code",
   "execution_count": null,
   "id": "02c66df6",
   "metadata": {},
   "outputs": [],
   "source": [
    "import <package_name>\n",
    "dir(<package_name>)\n",
    "help(<package_name>.method)"
   ]
  },
  {
   "cell_type": "code",
   "execution_count": 13,
   "id": "9885b4e5",
   "metadata": {},
   "outputs": [],
   "source": [
    "import random"
   ]
  },
  {
   "cell_type": "code",
   "execution_count": 14,
   "id": "ad2ba970",
   "metadata": {},
   "outputs": [
    {
     "data": {
      "text/plain": [
       "['BPF',\n",
       " 'LOG4',\n",
       " 'NV_MAGICCONST',\n",
       " 'RECIP_BPF',\n",
       " 'Random',\n",
       " 'SG_MAGICCONST',\n",
       " 'SystemRandom',\n",
       " 'TWOPI',\n",
       " '_ONE',\n",
       " '_Sequence',\n",
       " '_Set',\n",
       " '__all__',\n",
       " '__builtins__',\n",
       " '__cached__',\n",
       " '__doc__',\n",
       " '__file__',\n",
       " '__loader__',\n",
       " '__name__',\n",
       " '__package__',\n",
       " '__spec__',\n",
       " '_accumulate',\n",
       " '_acos',\n",
       " '_bisect',\n",
       " '_ceil',\n",
       " '_cos',\n",
       " '_e',\n",
       " '_exp',\n",
       " '_floor',\n",
       " '_index',\n",
       " '_inst',\n",
       " '_isfinite',\n",
       " '_log',\n",
       " '_os',\n",
       " '_pi',\n",
       " '_random',\n",
       " '_repeat',\n",
       " '_sha512',\n",
       " '_sin',\n",
       " '_sqrt',\n",
       " '_test',\n",
       " '_test_generator',\n",
       " '_urandom',\n",
       " '_warn',\n",
       " 'betavariate',\n",
       " 'choice',\n",
       " 'choices',\n",
       " 'expovariate',\n",
       " 'gammavariate',\n",
       " 'gauss',\n",
       " 'getrandbits',\n",
       " 'getstate',\n",
       " 'lognormvariate',\n",
       " 'normalvariate',\n",
       " 'paretovariate',\n",
       " 'randbytes',\n",
       " 'randint',\n",
       " 'random',\n",
       " 'randrange',\n",
       " 'sample',\n",
       " 'seed',\n",
       " 'setstate',\n",
       " 'shuffle',\n",
       " 'triangular',\n",
       " 'uniform',\n",
       " 'vonmisesvariate',\n",
       " 'weibullvariate']"
      ]
     },
     "execution_count": 14,
     "metadata": {},
     "output_type": "execute_result"
    }
   ],
   "source": [
    "dir(random)"
   ]
  },
  {
   "cell_type": "code",
   "execution_count": 16,
   "id": "eb1ab5f9",
   "metadata": {},
   "outputs": [
    {
     "name": "stdout",
     "output_type": "stream",
     "text": [
      "Help on method randint in module random:\n",
      "\n",
      "randint(a, b) method of random.Random instance\n",
      "    Return random integer in range [a, b], including both end points.\n",
      "\n"
     ]
    }
   ],
   "source": [
    "help(random.randint)"
   ]
  },
  {
   "cell_type": "code",
   "execution_count": 17,
   "id": "662fd677",
   "metadata": {},
   "outputs": [
    {
     "name": "stdout",
     "output_type": "stream",
     "text": [
      "Help on method randrange in module random:\n",
      "\n",
      "randrange(start, stop=None, step=1) method of random.Random instance\n",
      "    Choose a random item from range(stop) or range(start, stop[, step]).\n",
      "    \n",
      "    Roughly equivalent to ``choice(range(start, stop, step))`` but\n",
      "    supports arbitrarily large ranges and is optimized for common cases.\n",
      "\n"
     ]
    }
   ],
   "source": [
    "help(random.randrange)"
   ]
  },
  {
   "cell_type": "code",
   "execution_count": 22,
   "id": "c8ff0dab",
   "metadata": {},
   "outputs": [
    {
     "data": {
      "text/plain": [
       "18"
      ]
     },
     "execution_count": 22,
     "metadata": {},
     "output_type": "execute_result"
    }
   ],
   "source": [
    "a=random.randrange(10,20,4)\n",
    "a"
   ]
  },
  {
   "cell_type": "code",
   "execution_count": 26,
   "id": "61fddf27",
   "metadata": {},
   "outputs": [
    {
     "ename": "ValueError",
     "evalue": "empty range for randrange() (10, 4, -6)",
     "output_type": "error",
     "traceback": [
      "\u001b[1;31m---------------------------------------------------------------------------\u001b[0m",
      "\u001b[1;31mValueError\u001b[0m                                Traceback (most recent call last)",
      "Cell \u001b[1;32mIn[26], line 1\u001b[0m\n\u001b[1;32m----> 1\u001b[0m a\u001b[38;5;241m=\u001b[39mrandom\u001b[38;5;241m.\u001b[39mrandrange(\u001b[38;5;241m10\u001b[39m,\u001b[38;5;241m4\u001b[39m)\n\u001b[0;32m      2\u001b[0m a\n",
      "File \u001b[1;32m~\\anaconda3\\Lib\\random.py:345\u001b[0m, in \u001b[0;36mRandom.randrange\u001b[1;34m(self, start, stop, step)\u001b[0m\n\u001b[0;32m    343\u001b[0m     \u001b[38;5;28;01mif\u001b[39;00m width \u001b[38;5;241m>\u001b[39m \u001b[38;5;241m0\u001b[39m:\n\u001b[0;32m    344\u001b[0m         \u001b[38;5;28;01mreturn\u001b[39;00m istart \u001b[38;5;241m+\u001b[39m \u001b[38;5;28mself\u001b[39m\u001b[38;5;241m.\u001b[39m_randbelow(width)\n\u001b[1;32m--> 345\u001b[0m     \u001b[38;5;28;01mraise\u001b[39;00m \u001b[38;5;167;01mValueError\u001b[39;00m(\u001b[38;5;124m\"\u001b[39m\u001b[38;5;124mempty range for randrange() (\u001b[39m\u001b[38;5;132;01m%d\u001b[39;00m\u001b[38;5;124m, \u001b[39m\u001b[38;5;132;01m%d\u001b[39;00m\u001b[38;5;124m, \u001b[39m\u001b[38;5;132;01m%d\u001b[39;00m\u001b[38;5;124m)\u001b[39m\u001b[38;5;124m\"\u001b[39m \u001b[38;5;241m%\u001b[39m (istart, istop, width))\n\u001b[0;32m    347\u001b[0m \u001b[38;5;66;03m# Non-unit step argument supplied.\u001b[39;00m\n\u001b[0;32m    348\u001b[0m \u001b[38;5;28;01mif\u001b[39;00m istep \u001b[38;5;241m>\u001b[39m \u001b[38;5;241m0\u001b[39m:\n",
      "\u001b[1;31mValueError\u001b[0m: empty range for randrange() (10, 4, -6)"
     ]
    }
   ],
   "source": [
    "a=random.randrange(10,4)\n",
    "a"
   ]
  },
  {
   "cell_type": "code",
   "execution_count": 28,
   "id": "869a21b5",
   "metadata": {},
   "outputs": [
    {
     "data": {
      "text/plain": [
       "24"
      ]
     },
     "execution_count": 28,
     "metadata": {},
     "output_type": "execute_result"
    }
   ],
   "source": [
    "random.randrange(100)\n"
   ]
  },
  {
   "cell_type": "code",
   "execution_count": 31,
   "id": "d243f667",
   "metadata": {},
   "outputs": [
    {
     "data": {
      "text/plain": [
       "'54321'"
      ]
     },
     "execution_count": 31,
     "metadata": {},
     "output_type": "execute_result"
    }
   ],
   "source": [
    "n='12345'\n",
    "n[::-1]"
   ]
  },
  {
   "cell_type": "markdown",
   "id": "ba294b9b",
   "metadata": {},
   "source": [
    "# Conditional Statements(oct 16th)"
   ]
  },
  {
   "cell_type": "code",
   "execution_count": 1,
   "id": "3d12ffc6",
   "metadata": {},
   "outputs": [
    {
     "name": "stdout",
     "output_type": "stream",
     "text": [
      "Enter name: python\n",
      "hello\n"
     ]
    }
   ],
   "source": [
    "name=input(\"Enter name: \")\n",
    "if name=='python':\n",
    "    print(\"hello\")\n",
    "    \n",
    "#Here python is compared with name(user entered value--python)  ,since both are same \"hello\" will be printed"
   ]
  },
  {
   "cell_type": "code",
   "execution_count": 2,
   "id": "b447aa26",
   "metadata": {},
   "outputs": [
    {
     "name": "stdout",
     "output_type": "stream",
     "text": [
      "Enter name: p\n"
     ]
    }
   ],
   "source": [
    "name=input(\"Enter name: \")\n",
    "if name=='python':\n",
    "    print(\"hello\")"
   ]
  },
  {
   "cell_type": "code",
   "execution_count": 3,
   "id": "1250f1b3",
   "metadata": {},
   "outputs": [
    {
     "data": {
      "text/plain": [
       "False"
      ]
     },
     "execution_count": 3,
     "metadata": {},
     "output_type": "execute_result"
    }
   ],
   "source": [
    "\"pragnya\"=='python'"
   ]
  },
  {
   "cell_type": "code",
   "execution_count": 4,
   "id": "d313de00",
   "metadata": {},
   "outputs": [
    {
     "name": "stdout",
     "output_type": "stream",
     "text": [
      "Enter name: python\n",
      "hello\n",
      "python\n"
     ]
    }
   ],
   "source": [
    "#Multiple statements using if\n",
    "name=input(\"Enter name: \")\n",
    "if name=='python':\n",
    "    print(\"hello\")\n",
    "    print(name)"
   ]
  },
  {
   "cell_type": "code",
   "execution_count": 5,
   "id": "b9694a8a",
   "metadata": {},
   "outputs": [
    {
     "name": "stdout",
     "output_type": "stream",
     "text": [
      "Enter name: aa\n"
     ]
    }
   ],
   "source": [
    "#Multiple statements using if\n",
    "name=input(\"Enter name: \")\n",
    "if name=='python':\n",
    "    print(\"hello\")\n",
    "    print(name)\n",
    "    \n",
    "    #since aa is not equal to python, if loop won't execute"
   ]
  },
  {
   "cell_type": "code",
   "execution_count": 6,
   "id": "aeed94c3",
   "metadata": {},
   "outputs": [
    {
     "name": "stdout",
     "output_type": "stream",
     "text": [
      "Enter name: python\n",
      "hello\n",
      "python\n"
     ]
    }
   ],
   "source": [
    "name=input(\"Enter name: \")\n",
    "if name=='python':\n",
    "    print(\"hello\")\n",
    "print(name)\n",
    "\n",
    "#pythn is matched with python , hence it goes to if block, hello is printed & it comes out of loop & prints the name (python)"
   ]
  },
  {
   "cell_type": "code",
   "execution_count": 7,
   "id": "808cff40",
   "metadata": {},
   "outputs": [
    {
     "name": "stdout",
     "output_type": "stream",
     "text": [
      "Enter name: p\n",
      "p\n"
     ]
    }
   ],
   "source": [
    "name=input(\"Enter name: \")\n",
    "if name=='python':\n",
    "    print(\"hello\")\n",
    "print(name)\n"
   ]
  },
  {
   "cell_type": "code",
   "execution_count": 8,
   "id": "37235ef9",
   "metadata": {},
   "outputs": [
    {
     "name": "stdout",
     "output_type": "stream",
     "text": [
      "8\n"
     ]
    }
   ],
   "source": [
    "name='python'             #step-1 -name -> python\n",
    "if name=='python':        #step-2 - 'python'=='python' --> True\n",
    "    print(3+5)            #step-3 --> 3+5= 8\n",
    "else:\n",
    "    print(\"Enter correct one\")  #it will execute only if \"if\" block goes wrong"
   ]
  },
  {
   "cell_type": "code",
   "execution_count": 9,
   "id": "19f51ce0",
   "metadata": {},
   "outputs": [
    {
     "name": "stdout",
     "output_type": "stream",
     "text": [
      "Enter correct one\n"
     ]
    }
   ],
   "source": [
    "name='p'              # name= p\n",
    "if name=='python':    #'p'='python' -->False \n",
    "    print(3+5)\n",
    "else:\n",
    "    print(\"Enter correct one\")  ->hence else block gets executed"
   ]
  },
  {
   "cell_type": "code",
   "execution_count": 10,
   "id": "26c71b53",
   "metadata": {},
   "outputs": [
    {
     "name": "stdout",
     "output_type": "stream",
     "text": [
      "Enter namepython\n",
      "hello python\n",
      "how are you\n",
      "hey\n",
      "bro\n"
     ]
    }
   ],
   "source": [
    "name=input(\"Enter name\")\n",
    "if name=='python':\n",
    "    print('hello',name)\n",
    "    print(\"how are you\")\n",
    "else:\n",
    "    print('provide a valid one')\n",
    "    print('you are out')\n",
    "print('hey')\n",
    "print('bro')"
   ]
  },
  {
   "cell_type": "code",
   "execution_count": 11,
   "id": "cc9e5616",
   "metadata": {},
   "outputs": [
    {
     "name": "stdout",
     "output_type": "stream",
     "text": [
      "Enter name: p\n",
      "provide a valid one\n",
      "you are out\n",
      "hey\n",
      "bro\n"
     ]
    }
   ],
   "source": [
    "name=input(\"Enter name: \")            #p\n",
    "if name=='python':                    #\"p\" is not equal to \"python\" ->False\n",
    "    print('hello',name)\n",
    "    print(\"how are you\")\n",
    "else:                                #so else block gets executed\n",
    "    print('provide a valid one')        #print ->provide a valid one\n",
    "    print('you are out')                #print -> you are out\n",
    "print('hey')                            #print ->hey\n",
    "print('bro')                            #print- > bro"
   ]
  },
  {
   "cell_type": "code",
   "execution_count": 14,
   "id": "3358302b",
   "metadata": {},
   "outputs": [
    {
     "name": "stdout",
     "output_type": "stream",
     "text": [
      "Enter name: p\n",
      "provide a valid one\n",
      "you are out\n",
      "heybro\n"
     ]
    }
   ],
   "source": [
    "#using end\n",
    "\n",
    "name=input(\"Enter name: \")\n",
    "if name=='python':\n",
    "    print('hello',name)\n",
    "    print(\"how are you\")\n",
    "else:\n",
    "    print('provide a valid one')\n",
    "    print('you are out')\n",
    "print('hey',end='')\n",
    "print('bro')"
   ]
  },
  {
   "cell_type": "code",
   "execution_count": 13,
   "id": "927c1ac0",
   "metadata": {},
   "outputs": [
    {
     "name": "stdout",
     "output_type": "stream",
     "text": [
      "ENter a number: 7\n",
      "It is odd number\n"
     ]
    }
   ],
   "source": [
    "#even or odd\n",
    "\n",
    "n=eval(input(\"Enter a number: \"))\n",
    "if n%2==0:\n",
    "    print(\"It is even number\")\n",
    "else:\n",
    "    print(\"It is odd number\")"
   ]
  },
  {
   "cell_type": "code",
   "execution_count": 15,
   "id": "3cbae373",
   "metadata": {},
   "outputs": [
    {
     "name": "stdout",
     "output_type": "stream",
     "text": [
      "Enter a number: 100\n",
      "It is even number\n"
     ]
    }
   ],
   "source": [
    "try:\n",
    "    n=eval(input(\"Enter a number: \"))\n",
    "    if n%2==0:\n",
    "        print(\"It is even number\")\n",
    "    else:\n",
    "        print(\"It is odd number\")\n",
    "except Exception as e:\n",
    "    print(e)"
   ]
  },
  {
   "cell_type": "code",
   "execution_count": 16,
   "id": "bd9e8c62",
   "metadata": {},
   "outputs": [
    {
     "name": "stdout",
     "output_type": "stream",
     "text": [
      "Enter a number: python\n",
      "name 'python' is not defined\n"
     ]
    }
   ],
   "source": [
    "try:\n",
    "    n=eval(input(\"Enter a number: \"))\n",
    "    if n%2==0:\n",
    "        print(\"It is even number\")\n",
    "    else:\n",
    "        print(\"It is odd number\")\n",
    "except Exception as e:\n",
    "    print(e)"
   ]
  },
  {
   "cell_type": "code",
   "execution_count": 20,
   "id": "b6716ac7",
   "metadata": {},
   "outputs": [
    {
     "name": "stdout",
     "output_type": "stream",
     "text": [
      "The value of a is 91\n",
      "It is a odd number\n"
     ]
    }
   ],
   "source": [
    "#WAP to ask the user to generate a randm integer number & print it is a even or odd number\n",
    "#using try, except\n",
    "\n",
    "import random\n",
    "try:\n",
    "    a=random.randint(1,100)       #a--> 91\n",
    "    print(\"The value of a is\",a)\n",
    "    if a%2==0:\n",
    "        print(\"It is a even number\")\n",
    "    else:\n",
    "        print(\"It is a odd number\")\n",
    "except Exception as e:\n",
    "    print(e)"
   ]
  },
  {
   "cell_type": "code",
   "execution_count": 22,
   "id": "fb1b6e7a",
   "metadata": {},
   "outputs": [
    {
     "name": "stdout",
     "output_type": "stream",
     "text": [
      "53 is a odd number\n"
     ]
    }
   ],
   "source": [
    "import random\n",
    "try:\n",
    "    a=random.randint(1,100)       #a--> 91\n",
    "    #print(\"The value of a is\",a)   #instead of using print,use  format in below print stmnt\n",
    "    if a%2==0:\n",
    "        print(\"{} is a even number\".format(a))\n",
    "    else:\n",
    "        print(\"{} is a odd number\".format(a))\n",
    "except Exception as e:\n",
    "    print(e)"
   ]
  },
  {
   "cell_type": "code",
   "execution_count": 21,
   "id": "145879ca",
   "metadata": {},
   "outputs": [
    {
     "name": "stdout",
     "output_type": "stream",
     "text": [
      "The value of a is 13\n",
      "It is a odd number\n"
     ]
    }
   ],
   "source": [
    "#w/o using try & except\n",
    "\n",
    "a=random.randint(1,100)\n",
    "print(\"The value of a is\",a)\n",
    "if a%2==0:\n",
    "    print(\"It is a even number\")\n",
    "else:\n",
    "    print(\"It is a odd number\")"
   ]
  },
  {
   "cell_type": "code",
   "execution_count": 24,
   "id": "af259fd6",
   "metadata": {},
   "outputs": [
    {
     "name": "stdout",
     "output_type": "stream",
     "text": [
      "Enter a number: 12\n",
      "12 is a positive number\n"
     ]
    }
   ],
   "source": [
    "# WAP to ask the user to enter a number if it is greater thn equal to 0 then print postve number else ngve number\n",
    "\n",
    "n=eval(input(\"Enter a number: \"))\n",
    "if n>=0:\n",
    "    print(\"{} is a positive number\".format(n))\n",
    "else:\n",
    "    print(\"{} is a negative number\".format(n))"
   ]
  },
  {
   "cell_type": "code",
   "execution_count": 25,
   "id": "f18c214c",
   "metadata": {},
   "outputs": [
    {
     "name": "stdout",
     "output_type": "stream",
     "text": [
      "Enter a number: -12\n",
      "-12 is a negative number\n"
     ]
    }
   ],
   "source": [
    "n=eval(input(\"Enter a number: \"))\n",
    "if n>=0:\n",
    "    print(\"{} is a positive number\".format(n))\n",
    "else:\n",
    "    print(\"{} is a negative number\".format(n))"
   ]
  },
  {
   "cell_type": "code",
   "execution_count": 26,
   "id": "cff57d34",
   "metadata": {},
   "outputs": [
    {
     "name": "stdout",
     "output_type": "stream",
     "text": [
      "Enter a number: pp\n",
      "name 'pp' is not defined\n"
     ]
    }
   ],
   "source": [
    "try:\n",
    "    n=eval(input(\"Enter a number: \"))\n",
    "    if n>=0:\n",
    "        print(\"{} is a positive number\".format(n))\n",
    "    else:\n",
    "        print(\"{} is a negative number\".format(n))\n",
    "except Exception as e:\n",
    "    print(e)"
   ]
  },
  {
   "cell_type": "code",
   "execution_count": 27,
   "id": "03758aab",
   "metadata": {},
   "outputs": [
    {
     "name": "stdout",
     "output_type": "stream",
     "text": [
      "29 is a positive number\n"
     ]
    }
   ],
   "source": [
    "#using random\n",
    "\n",
    "import random\n",
    "try:\n",
    "    n=random.randint(1,100)\n",
    "    if n>=0:\n",
    "        print(\"{} is a positive number\".format(n))\n",
    "    else:\n",
    "        print(\"{} is a negative number\".format(n))\n",
    "except Exception as e:\n",
    "    print(e)"
   ]
  },
  {
   "cell_type": "code",
   "execution_count": null,
   "id": "7be19ab5",
   "metadata": {},
   "outputs": [],
   "source": [
    "#if <condition>\n",
    "\n",
    "# elif< cndn>\n",
    "\n",
    "#else< no condition>"
   ]
  },
  {
   "cell_type": "code",
   "execution_count": 33,
   "id": "c0036393",
   "metadata": {},
   "outputs": [
    {
     "name": "stdout",
     "output_type": "stream",
     "text": [
      "Enter a number: 12\n",
      "12 is a positive number\n"
     ]
    }
   ],
   "source": [
    "n=eval(input(\"Enter a number: \"))\n",
    "if n>0:\n",
    "    print(\"{} is a positive number\".format(n))\n",
    "elif(n<0):\n",
    "    print(\"{} is a negative number\".format(n))\n",
    "else:\n",
    "    print(\"{} is a zero number\".format(n))"
   ]
  },
  {
   "cell_type": "code",
   "execution_count": 34,
   "id": "21846623",
   "metadata": {},
   "outputs": [
    {
     "name": "stdout",
     "output_type": "stream",
     "text": [
      "Enter a number: -12\n",
      "-12 is a negative number\n"
     ]
    }
   ],
   "source": [
    "n=eval(input(\"Enter a number: \"))\n",
    "if n>0:\n",
    "    print(\"{} is a positive number\".format(n))\n",
    "elif(n<0):\n",
    "    print(\"{} is a negative number\".format(n))\n",
    "else:\n",
    "    print(\"{} is a zero number\".format(n))"
   ]
  },
  {
   "cell_type": "code",
   "execution_count": 35,
   "id": "b8818232",
   "metadata": {},
   "outputs": [
    {
     "name": "stdout",
     "output_type": "stream",
     "text": [
      "Enter a number: 0\n",
      "0 is a zero number\n"
     ]
    }
   ],
   "source": [
    "n=eval(input(\"Enter a number: \"))\n",
    "if n>0:\n",
    "    print(\"{} is a positive number\".format(n))\n",
    "elif(n<0):\n",
    "    print(\"{} is a negative number\".format(n))\n",
    "else:\n",
    "    print(\"{} is a zero number\".format(n))"
   ]
  },
  {
   "cell_type": "code",
   "execution_count": 36,
   "id": "b701ab74",
   "metadata": {},
   "outputs": [
    {
     "name": "stdout",
     "output_type": "stream",
     "text": [
      "Enter a number: pragnya\n",
      "name 'pragnya' is not defined\n"
     ]
    }
   ],
   "source": [
    "#Using try & except\n",
    "try:\n",
    "    n=eval(input(\"Enter a number: \"))\n",
    "    if n>0:\n",
    "        print(\"{} is a positive number\".format(n))\n",
    "    elif(n<0):\n",
    "        print(\"{} is a negative number\".format(n))\n",
    "    else:\n",
    "        print(\"{} is a zero number\".format(n))\n",
    "except Exception as e:\n",
    "    print(e)"
   ]
  },
  {
   "cell_type": "code",
   "execution_count": 44,
   "id": "d7baab05",
   "metadata": {},
   "outputs": [
    {
     "name": "stdout",
     "output_type": "stream",
     "text": [
      "Enter a number: 2\n",
      "two\n"
     ]
    }
   ],
   "source": [
    "# to enter a number if n=1 print one\n",
    "#if n=2 print two\n",
    "#if n=3 print three\n",
    "#if n=4 print four\n",
    "#otherwise print enter only 1 2 3 4\n",
    "\n",
    "try:\n",
    "    n=eval(input(\"Enter a number: \"))\n",
    "    if n==1:\n",
    "        print(\"one\")\n",
    "    elif n==2:\n",
    "        print(\"two\")\n",
    "    elif n==3:\n",
    "        print(\"three\")\n",
    "    elif n==4:\n",
    "        print(\"four\")\n",
    "    else:\n",
    "        print(\"1 2 3 4\")\n",
    "except Exception as e:\n",
    "    print(e)"
   ]
  },
  {
   "cell_type": "markdown",
   "id": "9602e841",
   "metadata": {},
   "source": [
    "# oct 17th"
   ]
  },
  {
   "cell_type": "code",
   "execution_count": 52,
   "id": "3c1a8478",
   "metadata": {},
   "outputs": [
    {
     "name": "stdout",
     "output_type": "stream",
     "text": [
      "Enter distance in kms: 1.5\n",
      "The fare between 0 & 2kms is 20rs\n"
     ]
    }
   ],
   "source": [
    "#WAP to enter distance. if distance between 0 & 2kms, then print the fare is 20rs\n",
    "#if the distance  2& 4kms, fare is 40 rs\n",
    "#4 & 6 kms, the fare is 60 rs\n",
    "#if the distance is more than 6 kms, then print the fare is 100 rs\n",
    "\n",
    "try:\n",
    "    distance=eval(input(\"Enter distance in kms: \"))\n",
    "    if distance>0 and distance <=2:                 #1.5>0 and 1.5<2 , so True\n",
    "        print(\"The fare between 0 & 2kms is 20rs\")\n",
    "    elif distance>2 and distance <=4:\n",
    "        print(\"The fare between 2 & 4kms is  40rs\")\n",
    "    elif distance>4 and distance<=6:\n",
    "        print(\"the fare between 4 & 6kms is 60rs\")\n",
    "    else:\n",
    "        print(\"The fare if distance is more than 6kms is 100rs\")\n",
    "except Exception as e:\n",
    "    print(e)"
   ]
  },
  {
   "cell_type": "code",
   "execution_count": 53,
   "id": "7e2f7f63",
   "metadata": {},
   "outputs": [
    {
     "name": "stdout",
     "output_type": "stream",
     "text": [
      "Enter distance in kms: 1.5\n",
      "The fare between 0 & 2kms is 20rs\n"
     ]
    }
   ],
   "source": [
    "#\n",
    "\n",
    "try:\n",
    "    distance=eval(input(\"Enter distance in kms: \"))\n",
    "    if 0<distance<2:\n",
    "        print(\"The fare between 0 & 2kms is 20rs\")\n",
    "    elif 2<distance<4:\n",
    "        print(\"The fare between 2 & 4kms is  40rs\")\n",
    "    elif 4<distance<6:\n",
    "        print(\"the fare between 4 & 6kms is 60rs\")\n",
    "    else:\n",
    "        print(\"The fare if distance is more than 6kms is 100rs\")\n",
    "except Exception as e:\n",
    "    print(e)\n",
    "    "
   ]
  },
  {
   "cell_type": "code",
   "execution_count": null,
   "id": "8f074aad",
   "metadata": {},
   "outputs": [],
   "source": [
    "x    y     xandy             x   y   xory\n",
    "                       \n",
    "0    0----> 0                0   0--->0\n",
    "0    1      0                0   1--->1\n",
    "1    0      0                1   0--->1\n",
    "1    1      1                1   1--->1"
   ]
  },
  {
   "cell_type": "code",
   "execution_count": 57,
   "id": "ca268638",
   "metadata": {},
   "outputs": [
    {
     "name": "stdout",
     "output_type": "stream",
     "text": [
      "Enter distance in kms: 6\n",
      "The fare for greater than 6kms is 100 rs\n"
     ]
    }
   ],
   "source": [
    "# follow this method\n",
    "\n",
    "try:\n",
    "    distance=eval(input(\"Enter distance in kms: \"))\n",
    "    if distance>=6:                                      #6>=6 (True) so 100 rs is printed (since python exceutes step by step)\n",
    "        print(\"The fare for greater than 6kms is 100 rs\")\n",
    "    elif distance>=4:\n",
    "        print(\"The fare between 4 & 6 kms is  60rs\")\n",
    "    elif distance>=2:\n",
    "        print(\"the fare between 2 & 4 kms is 40rs\")\n",
    "    else:\n",
    "        print(\"The fare if less than 2kms is 20 rs\")\n",
    "except Exception as e:\n",
    "    print(e)\n"
   ]
  },
  {
   "cell_type": "code",
   "execution_count": 61,
   "id": "d3fcdb5c",
   "metadata": {
    "scrolled": true
   },
   "outputs": [
    {
     "name": "stdout",
     "output_type": "stream",
     "text": [
      "ENter percentage: 60\n",
      "The grade is C\n"
     ]
    }
   ],
   "source": [
    "#WAP ask the user to enter percentage\n",
    "#if %>90 ->print A grade\n",
    "#if % between 70 & 90 -> print B \n",
    "#if %bw 50 & 70 -> print C\n",
    "#if % < 50 -> print D\n",
    "\n",
    "try:\n",
    "    percentage=eval(input(\"Enter percentage: \"))\n",
    "    if percentage>=90:\n",
    "        print(\"The grade is A\")\n",
    "    elif percentage>=70:\n",
    "        print(\"The grade is B\")\n",
    "    elif percentage>=50:\n",
    "        print(\"The grade is C\")\n",
    "    else:\n",
    "        print(\"The grade is D\")\n",
    "except Exception as e:\n",
    "    print(e) "
   ]
  },
  {
   "cell_type": "code",
   "execution_count": 64,
   "id": "6d55026a",
   "metadata": {},
   "outputs": [
    {
     "name": "stdout",
     "output_type": "stream",
     "text": [
      "Enter a number:-12\n",
      "negatve number\n"
     ]
    }
   ],
   "source": [
    "#WAP to ask the user to enter a no.\n",
    "#check te frst cndtn if no. >=0, if it is true check another cndn\n",
    "#if no. ==0, print it is a zero number, otherwise it is a pstve number \n",
    "#otherwise, it s a ngtve no.\n",
    "\n",
    "#method---1\n",
    "number=eval(input(\"Enter a number:\"))\n",
    "if number>=0:\n",
    "    print(\"True\")\n",
    "    if number==0:\n",
    "        print(\"zero number\")\n",
    "    else:\n",
    "        print(\"positive number\")\n",
    "else:\n",
    "    print(\"negatve number\")"
   ]
  },
  {
   "cell_type": "code",
   "execution_count": null,
   "id": "adeecbfa",
   "metadata": {},
   "outputs": [],
   "source": [
    "#Method-2\n",
    "\n",
    "number=eval(input(\"Enter a number: \"))\n",
    "if number>=0:\n",
    "    print(\"Postve no.\")\n",
    "elif number==0:\n",
    "    print(\"Zero no.\")\n",
    "else:\n",
    "    print(\"Negtave no.\")"
   ]
  },
  {
   "cell_type": "code",
   "execution_count": 66,
   "id": "044fe915",
   "metadata": {},
   "outputs": [
    {
     "name": "stdout",
     "output_type": "stream",
     "text": [
      "ENter a number which is greater than equal to zero:999\n",
      "The number is out of range\n"
     ]
    }
   ],
   "source": [
    "#WAP to ask the user to enter a number which is gretaer than equal to 0\n",
    "#checkc if it s bw 1 & 99 then print the number 1 & 99 is \n",
    "#check if it s 0 , then print zero\n",
    "#check if it s more than 99,print number is out of range\n",
    "\n",
    "#method---1\n",
    "number=eval(input(\"ENter a number which is greater than equal to zero:\"))\n",
    "if number<=99:\n",
    "    print(\"The number between 1 and 99 is\",)\n",
    "elif number==0:\n",
    "    print(\"Zero number\")\n",
    "else:\n",
    "    print(\"The number is out of range\")"
   ]
  },
  {
   "cell_type": "code",
   "execution_count": 81,
   "id": "036c0b38",
   "metadata": {},
   "outputs": [
    {
     "name": "stdout",
     "output_type": "stream",
     "text": [
      "ENter a number which is greater than equal to zero:200\n",
      "Out of range\n"
     ]
    }
   ],
   "source": [
    "#mthd -2\n",
    "number=eval(input(\"ENter a number which is greater than equal to zero:\"))\n",
    "if number<=99:        # if number is <=99, it might be 0 too, so check if n==0\n",
    "    if number==0:\n",
    "        print(\"Zero\")\n",
    "    else:\n",
    "        print(\"number between 1 & 99\")\n",
    "else:\n",
    "    print(\"Out of range\")"
   ]
  },
  {
   "cell_type": "code",
   "execution_count": null,
   "id": "07300cc0",
   "metadata": {},
   "outputs": [],
   "source": [
    "number=eval(input(\"ENter a number which is greater than equal to zero:\"))\n",
    "if number>=99:        \n",
    "    if number==0:\n",
    "        print(\"Zero\")\n",
    "    elif number>=1:\n",
    "        print(\"number between 1 & 99\")\n",
    "else:\n",
    "    print(\"Out of range\")"
   ]
  },
  {
   "cell_type": "code",
   "execution_count": null,
   "id": "91616e03",
   "metadata": {},
   "outputs": [],
   "source": []
  },
  {
   "cell_type": "code",
   "execution_count": null,
   "id": "4f321aa6",
   "metadata": {},
   "outputs": [],
   "source": []
  },
  {
   "cell_type": "code",
   "execution_count": 82,
   "id": "6aa7be42",
   "metadata": {},
   "outputs": [
    {
     "name": "stdout",
     "output_type": "stream",
     "text": [
      "ENter a number which is greater than equal to zero:-12\n",
      "Negatve number\n"
     ]
    }
   ],
   "source": [
    "# ngtv enumber\n",
    "\n",
    "number=eval(input(\"ENter a number which is greater than equal to zero:\"))\n",
    "if number<=99:\n",
    "    if number==0:\n",
    "        print(\"Zero\")\n",
    "    elif number<0:\n",
    "        print(\"Negatve number\")\n",
    "    else:\n",
    "        print(\"number between 1 & 99\")\n",
    "else:\n",
    "    print(\"Out of range\")"
   ]
  },
  {
   "cell_type": "code",
   "execution_count": 90,
   "id": "6dd9fd7b",
   "metadata": {},
   "outputs": [
    {
     "name": "stdout",
     "output_type": "stream",
     "text": [
      "Enter gender: Female\n",
      "Enter age: 23\n",
      "She is a girl\n"
     ]
    }
   ],
   "source": [
    "#wap to ask the user to enter a gender, \n",
    "#If gender==male, ask the user to enter age\n",
    "#if age>25, print as he is a man\n",
    "#otherwise, he is a boy \n",
    "\n",
    "#otherwise\n",
    "#ask the user to enter a age\n",
    "#if age>25, print as she is a woman\n",
    "#otherwise , she is a grl\n",
    "\n",
    "\n",
    "gender=str(input(\"Enter gender: \"))\n",
    "if gender=='Male':\n",
    "    age=eval(input(\"Enter age: \"))\n",
    "    if age>25:\n",
    "        print(\"He is a man\")\n",
    "    else:\n",
    "        print(\"He is a boy\")\n",
    "else:\n",
    "    age=eval(input(\"Enter age: \"))\n",
    "    if age>25:\n",
    "        print(\"She is a woman\")\n",
    "    else:\n",
    "        print(\"She is a girl\")"
   ]
  },
  {
   "cell_type": "code",
   "execution_count": 93,
   "id": "2bd8c012",
   "metadata": {},
   "outputs": [
    {
     "name": "stdout",
     "output_type": "stream",
     "text": [
      "Enter number1: 90\n",
      "Enter number2: 999\n",
      "Enter number3: 1000\n",
      "1000 is greatest number\n"
     ]
    }
   ],
   "source": [
    "#WAP ask the user to enter 3 numbers to find whch is greatest number \n",
    "\n",
    "n1=eval(input(\"Enter number1: \"))\n",
    "n2=eval(input(\"Enter number2: \"))\n",
    "n3=eval(input(\"Enter number3: \"))\n",
    "if n1>n2 and n1>n3:\n",
    "    print(\"{} is greatest number\".format(n1))\n",
    "elif n2>n3 and n2>n3:\n",
    "    print(\"{} is greatest number\".format(n2))\n",
    "else:\n",
    "    print(\"{} is greatest number\".format(n3))"
   ]
  },
  {
   "cell_type": "code",
   "execution_count": null,
   "id": "2532dd9e",
   "metadata": {},
   "outputs": [],
   "source": []
  }
 ],
 "metadata": {
  "kernelspec": {
   "display_name": "Python 3",
   "language": "python",
   "name": "python3"
  },
  "language_info": {
   "codemirror_mode": {
    "name": "ipython",
    "version": 3
   },
   "file_extension": ".py",
   "mimetype": "text/x-python",
   "name": "python",
   "nbconvert_exporter": "python",
   "pygments_lexer": "ipython3",
   "version": "3.11.4"
  }
 },
 "nbformat": 4,
 "nbformat_minor": 5
}
