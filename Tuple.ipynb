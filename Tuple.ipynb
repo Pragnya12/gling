{
 "cells": [
  {
   "cell_type": "markdown",
   "id": "ee4c7952",
   "metadata": {},
   "source": [
    "- Tuple includes all type of data types(int,float,complex,str,list)\n",
    "- It is represented by ()\n",
    "- Tuple is immutable(Item assignment is not possible)"
   ]
  },
  {
   "cell_type": "code",
   "execution_count": 9,
   "id": "df5c86ae",
   "metadata": {},
   "outputs": [
    {
     "data": {
      "text/plain": [
       "(10, 20, 30, 40, 50)"
      ]
     },
     "execution_count": 9,
     "metadata": {},
     "output_type": "execute_result"
    }
   ],
   "source": [
    "t=(10,20,30,40,50)\n",
    "t"
   ]
  },
  {
   "cell_type": "code",
   "execution_count": 2,
   "id": "647775c6",
   "metadata": {},
   "outputs": [
    {
     "data": {
      "text/plain": [
       "tuple"
      ]
     },
     "execution_count": 2,
     "metadata": {},
     "output_type": "execute_result"
    }
   ],
   "source": [
    "#to find the type of t\n",
    "type(t)"
   ]
  },
  {
   "cell_type": "code",
   "execution_count": 3,
   "id": "cdc0014e",
   "metadata": {},
   "outputs": [
    {
     "data": {
      "text/plain": [
       "5"
      ]
     },
     "execution_count": 3,
     "metadata": {},
     "output_type": "execute_result"
    }
   ],
   "source": [
    "# To find the length of a tuple\n",
    "\n",
    "len(t)"
   ]
  },
  {
   "cell_type": "code",
   "execution_count": 4,
   "id": "f01bf39b",
   "metadata": {},
   "outputs": [
    {
     "data": {
      "text/plain": [
       "50"
      ]
     },
     "execution_count": 4,
     "metadata": {},
     "output_type": "execute_result"
    }
   ],
   "source": [
    "#To find maximum of a tuple\n",
    "\n",
    "max(t)"
   ]
  },
  {
   "cell_type": "code",
   "execution_count": 5,
   "id": "e106f8c8",
   "metadata": {},
   "outputs": [
    {
     "data": {
      "text/plain": [
       "10"
      ]
     },
     "execution_count": 5,
     "metadata": {},
     "output_type": "execute_result"
    }
   ],
   "source": [
    "#To find manimum of a tuple\n",
    "\n",
    "min(t)"
   ]
  },
  {
   "cell_type": "code",
   "execution_count": 7,
   "id": "0afd320f",
   "metadata": {},
   "outputs": [
    {
     "data": {
      "text/plain": [
       "(10, 10.34, 'python', (3+5j), [1, 2, 3])"
      ]
     },
     "execution_count": 7,
     "metadata": {},
     "output_type": "execute_result"
    }
   ],
   "source": [
    "t1=(10,10.34,\"python\",3+5j,[1,2,3])\n",
    "t1"
   ]
  },
  {
   "cell_type": "code",
   "execution_count": 10,
   "id": "6f78b900",
   "metadata": {},
   "outputs": [
    {
     "name": "stdout",
     "output_type": "stream",
     "text": [
      "10\n",
      "10.34\n",
      "python\n",
      "(3+5j)\n",
      "[1, 2, 3]\n"
     ]
    }
   ],
   "source": [
    "#Using for loop, printing the values in t1\n",
    "\n",
    "for i in t1:\n",
    "    print(i)"
   ]
  },
  {
   "cell_type": "code",
   "execution_count": 12,
   "id": "3f4dbfc3",
   "metadata": {},
   "outputs": [
    {
     "name": "stdout",
     "output_type": "stream",
     "text": [
      "10\n",
      "10.34\n",
      "python\n",
      "(3+5j)\n",
      "[1, 2, 3]\n"
     ]
    }
   ],
   "source": [
    "#Using while loop, printing the values in t1\n",
    "\n",
    "i=0\n",
    "while(i<len(t1)):\n",
    "    print(t1[i])\n",
    "    i=i+1"
   ]
  },
  {
   "cell_type": "markdown",
   "id": "f5c462b6",
   "metadata": {},
   "source": [
    "- Concatenation of two tuples is possible\n",
    "- Subtraction/Multiplication/Division/Floor Division/Modulo Division are not possible\n",
    "- Repetition operator(*) on tuple is possible"
   ]
  },
  {
   "cell_type": "code",
   "execution_count": 25,
   "id": "58c88b79",
   "metadata": {},
   "outputs": [
    {
     "name": "stdout",
     "output_type": "stream",
     "text": [
      "The concatenation of t1 and t2 is (10, 20, 30, 40, 1, 2, 3, 4)\n"
     ]
    }
   ],
   "source": [
    "t1=(10,20,30,40)\n",
    "t2=(1,2,3,4)\n",
    "print(\"The concatenation of t1 and t2 is\",t1+t2)"
   ]
  },
  {
   "cell_type": "code",
   "execution_count": 27,
   "id": "85dd898b",
   "metadata": {},
   "outputs": [
    {
     "ename": "TypeError",
     "evalue": "unsupported operand type(s) for -: 'tuple' and 'tuple'",
     "output_type": "error",
     "traceback": [
      "\u001b[1;31m---------------------------------------------------------------------------\u001b[0m",
      "\u001b[1;31mTypeError\u001b[0m                                 Traceback (most recent call last)",
      "Cell \u001b[1;32mIn[27], line 1\u001b[0m\n\u001b[1;32m----> 1\u001b[0m \u001b[38;5;28mprint\u001b[39m(\u001b[38;5;124m\"\u001b[39m\u001b[38;5;124mThe subtraction of t1 and t2 is\u001b[39m\u001b[38;5;124m\"\u001b[39m,t1\u001b[38;5;241m-\u001b[39mt2)\n",
      "\u001b[1;31mTypeError\u001b[0m: unsupported operand type(s) for -: 'tuple' and 'tuple'"
     ]
    }
   ],
   "source": [
    "print(\"The subtraction of t1 and t2 is\",t1-t2)"
   ]
  },
  {
   "cell_type": "code",
   "execution_count": 28,
   "id": "6063a4eb",
   "metadata": {},
   "outputs": [
    {
     "ename": "TypeError",
     "evalue": "can't multiply sequence by non-int of type 'tuple'",
     "output_type": "error",
     "traceback": [
      "\u001b[1;31m---------------------------------------------------------------------------\u001b[0m",
      "\u001b[1;31mTypeError\u001b[0m                                 Traceback (most recent call last)",
      "Cell \u001b[1;32mIn[28], line 1\u001b[0m\n\u001b[1;32m----> 1\u001b[0m \u001b[38;5;28mprint\u001b[39m(\u001b[38;5;124m\"\u001b[39m\u001b[38;5;124mThe multiplication of t1 and t2 is\u001b[39m\u001b[38;5;124m\"\u001b[39m,t1\u001b[38;5;241m*\u001b[39mt2)\n",
      "\u001b[1;31mTypeError\u001b[0m: can't multiply sequence by non-int of type 'tuple'"
     ]
    }
   ],
   "source": [
    "print(\"The multiplication of t1 and t2 is\",t1*t2)"
   ]
  },
  {
   "cell_type": "code",
   "execution_count": 36,
   "id": "228a476f",
   "metadata": {},
   "outputs": [
    {
     "ename": "TypeError",
     "evalue": "unsupported operand type(s) for /: 'tuple' and 'tuple'",
     "output_type": "error",
     "traceback": [
      "\u001b[1;31m---------------------------------------------------------------------------\u001b[0m",
      "\u001b[1;31mTypeError\u001b[0m                                 Traceback (most recent call last)",
      "Cell \u001b[1;32mIn[36], line 1\u001b[0m\n\u001b[1;32m----> 1\u001b[0m \u001b[38;5;28mprint\u001b[39m(\u001b[38;5;124m\"\u001b[39m\u001b[38;5;124mThe division of t1 and t2 is\u001b[39m\u001b[38;5;124m\"\u001b[39m,t1\u001b[38;5;241m/\u001b[39mt2)\n",
      "\u001b[1;31mTypeError\u001b[0m: unsupported operand type(s) for /: 'tuple' and 'tuple'"
     ]
    }
   ],
   "source": [
    "print(\"The division of t1 and t2 is\",t1/t2)"
   ]
  },
  {
   "cell_type": "code",
   "execution_count": 35,
   "id": "6d5f2b0b",
   "metadata": {},
   "outputs": [
    {
     "ename": "TypeError",
     "evalue": "unsupported operand type(s) for %: 'tuple' and 'tuple'",
     "output_type": "error",
     "traceback": [
      "\u001b[1;31m---------------------------------------------------------------------------\u001b[0m",
      "\u001b[1;31mTypeError\u001b[0m                                 Traceback (most recent call last)",
      "Cell \u001b[1;32mIn[35], line 1\u001b[0m\n\u001b[1;32m----> 1\u001b[0m \u001b[38;5;28mprint\u001b[39m(\u001b[38;5;124m\"\u001b[39m\u001b[38;5;124mThe modulo division of t1 and t2 is\u001b[39m\u001b[38;5;124m\"\u001b[39m,t1\u001b[38;5;241m%\u001b[39mt2)\n",
      "\u001b[1;31mTypeError\u001b[0m: unsupported operand type(s) for %: 'tuple' and 'tuple'"
     ]
    }
   ],
   "source": [
    "print(\"The modulo division of t1 and t2 is\",t1%t2)"
   ]
  },
  {
   "cell_type": "code",
   "execution_count": 34,
   "id": "a5977600",
   "metadata": {},
   "outputs": [
    {
     "ename": "TypeError",
     "evalue": "unsupported operand type(s) for //: 'tuple' and 'tuple'",
     "output_type": "error",
     "traceback": [
      "\u001b[1;31m---------------------------------------------------------------------------\u001b[0m",
      "\u001b[1;31mTypeError\u001b[0m                                 Traceback (most recent call last)",
      "Cell \u001b[1;32mIn[34], line 1\u001b[0m\n\u001b[1;32m----> 1\u001b[0m \u001b[38;5;28mprint\u001b[39m(\u001b[38;5;124m\"\u001b[39m\u001b[38;5;124mThe floor division of t1 and t2 is\u001b[39m\u001b[38;5;124m\"\u001b[39m,t1\u001b[38;5;241m/\u001b[39m\u001b[38;5;241m/\u001b[39mt2)\n",
      "\u001b[1;31mTypeError\u001b[0m: unsupported operand type(s) for //: 'tuple' and 'tuple'"
     ]
    }
   ],
   "source": [
    "print(\"The floor division of t1 and t2 is\",t1//t2)"
   ]
  },
  {
   "cell_type": "code",
   "execution_count": 33,
   "id": "753c5771",
   "metadata": {},
   "outputs": [
    {
     "name": "stdout",
     "output_type": "stream",
     "text": [
      "The repetition of t1 is (10, 20, 30, 40, 10, 20, 30, 40)\n"
     ]
    }
   ],
   "source": [
    "print(\"The repetition of t1 is\",t1*2)"
   ]
  },
  {
   "cell_type": "code",
   "execution_count": 38,
   "id": "dcf5f745",
   "metadata": {},
   "outputs": [
    {
     "name": "stdout",
     "output_type": "stream",
     "text": [
      "The repetition of t2 is (1, 2, 3, 4, 1, 2, 3, 4, 1, 2, 3, 4, 1, 2, 3, 4, 1, 2, 3, 4)\n"
     ]
    }
   ],
   "source": [
    "print(\"The repetition of t2 is\",t2*5)"
   ]
  },
  {
   "cell_type": "markdown",
   "id": "e5e745d1",
   "metadata": {},
   "source": [
    "**in Operator**\n",
    "- Operator is used to check whether element is existing in tuple or not\n",
    "- If value is there in tuple , True is returned else False is returned\n",
    "\n",
    "**not in operator**\n",
    "- If value is not there in tuple, True is returned else False is returned"
   ]
  },
  {
   "cell_type": "code",
   "execution_count": 3,
   "id": "6568f147",
   "metadata": {},
   "outputs": [
    {
     "data": {
      "text/plain": [
       "True"
      ]
     },
     "execution_count": 3,
     "metadata": {},
     "output_type": "execute_result"
    }
   ],
   "source": [
    "t=(10,10.35,3+4j,[1,2,3])\n",
    "10 in t"
   ]
  },
  {
   "cell_type": "code",
   "execution_count": 42,
   "id": "085ce633",
   "metadata": {},
   "outputs": [
    {
     "data": {
      "text/plain": [
       "True"
      ]
     },
     "execution_count": 42,
     "metadata": {},
     "output_type": "execute_result"
    }
   ],
   "source": [
    "10.35 in t"
   ]
  },
  {
   "cell_type": "code",
   "execution_count": 43,
   "id": "bc26c71d",
   "metadata": {},
   "outputs": [
    {
     "data": {
      "text/plain": [
       "False"
      ]
     },
     "execution_count": 43,
     "metadata": {},
     "output_type": "execute_result"
    }
   ],
   "source": [
    "2 in t  #If Sub-value of a list is given, it returns False"
   ]
  },
  {
   "cell_type": "code",
   "execution_count": 44,
   "id": "ba88cd03",
   "metadata": {},
   "outputs": [
    {
     "data": {
      "text/plain": [
       "True"
      ]
     },
     "execution_count": 44,
     "metadata": {},
     "output_type": "execute_result"
    }
   ],
   "source": [
    "[1,2,3] in t  #Here, the whole list is given, hence it returns True"
   ]
  },
  {
   "cell_type": "code",
   "execution_count": 45,
   "id": "3d823b34",
   "metadata": {},
   "outputs": [
    {
     "data": {
      "text/plain": [
       "False"
      ]
     },
     "execution_count": 45,
     "metadata": {},
     "output_type": "execute_result"
    }
   ],
   "source": [
    "10 not in t"
   ]
  },
  {
   "cell_type": "code",
   "execution_count": 46,
   "id": "32e25f6e",
   "metadata": {},
   "outputs": [
    {
     "data": {
      "text/plain": [
       "False"
      ]
     },
     "execution_count": 46,
     "metadata": {},
     "output_type": "execute_result"
    }
   ],
   "source": [
    "10.35 not in t"
   ]
  },
  {
   "cell_type": "code",
   "execution_count": 47,
   "id": "f5c43d1e",
   "metadata": {},
   "outputs": [
    {
     "data": {
      "text/plain": [
       "True"
      ]
     },
     "execution_count": 47,
     "metadata": {},
     "output_type": "execute_result"
    }
   ],
   "source": [
    "2 not in t"
   ]
  },
  {
   "cell_type": "code",
   "execution_count": 48,
   "id": "13c21ba2",
   "metadata": {},
   "outputs": [
    {
     "data": {
      "text/plain": [
       "False"
      ]
     },
     "execution_count": 48,
     "metadata": {},
     "output_type": "execute_result"
    }
   ],
   "source": [
    "[1,2,3] not in t"
   ]
  },
  {
   "cell_type": "markdown",
   "id": "1db9ebcf",
   "metadata": {},
   "source": [
    "**Indexing**\n",
    "- It is used to get individual value from tuple\n",
    "- It is represented by tuple[]"
   ]
  },
  {
   "cell_type": "code",
   "execution_count": 4,
   "id": "6f9ec140",
   "metadata": {},
   "outputs": [
    {
     "data": {
      "text/plain": [
       "(10, 10.35, (3+4j), [1, 2, 3])"
      ]
     },
     "execution_count": 4,
     "metadata": {},
     "output_type": "execute_result"
    }
   ],
   "source": [
    "t"
   ]
  },
  {
   "cell_type": "code",
   "execution_count": 51,
   "id": "c59713cc",
   "metadata": {},
   "outputs": [
    {
     "data": {
      "text/plain": [
       "10"
      ]
     },
     "execution_count": 51,
     "metadata": {},
     "output_type": "execute_result"
    }
   ],
   "source": [
    "t[0]"
   ]
  },
  {
   "cell_type": "code",
   "execution_count": 52,
   "id": "c3cd1e39",
   "metadata": {},
   "outputs": [
    {
     "data": {
      "text/plain": [
       "(3+4j)"
      ]
     },
     "execution_count": 52,
     "metadata": {},
     "output_type": "execute_result"
    }
   ],
   "source": [
    "t[2]"
   ]
  },
  {
   "cell_type": "code",
   "execution_count": 53,
   "id": "00c8b566",
   "metadata": {},
   "outputs": [
    {
     "data": {
      "text/plain": [
       "[1, 2, 3]"
      ]
     },
     "execution_count": 53,
     "metadata": {},
     "output_type": "execute_result"
    }
   ],
   "source": [
    "t[3]"
   ]
  },
  {
   "cell_type": "code",
   "execution_count": 5,
   "id": "6e8c7cb2",
   "metadata": {},
   "outputs": [
    {
     "data": {
      "text/plain": [
       "10.35"
      ]
     },
     "execution_count": 5,
     "metadata": {},
     "output_type": "execute_result"
    }
   ],
   "source": [
    "t[True]"
   ]
  },
  {
   "cell_type": "code",
   "execution_count": 6,
   "id": "567c5434",
   "metadata": {},
   "outputs": [
    {
     "data": {
      "text/plain": [
       "10"
      ]
     },
     "execution_count": 6,
     "metadata": {},
     "output_type": "execute_result"
    }
   ],
   "source": [
    "t[False]"
   ]
  },
  {
   "cell_type": "code",
   "execution_count": 11,
   "id": "9704c423",
   "metadata": {},
   "outputs": [
    {
     "name": "stdout",
     "output_type": "stream",
     "text": [
      "The positive index of 10 is 0\n",
      "The positive index of 10.35 is 1\n",
      "The positive index of (3+4j) is 2\n",
      "The positive index of [1, 2, 3] is 3\n"
     ]
    }
   ],
   "source": [
    "#To print positive index\n",
    "\n",
    "for i in range(len(t)):\n",
    "    print(\"The positive index of {} is {}\".format(t[i],i))"
   ]
  },
  {
   "cell_type": "code",
   "execution_count": 15,
   "id": "ea1f8ef6",
   "metadata": {},
   "outputs": [
    {
     "name": "stdout",
     "output_type": "stream",
     "text": [
      "The negative index of 10 is -4\n",
      "The negative index of 10.35 is -3\n",
      "The negative index of (3+4j) is -2\n",
      "The negative index of [1, 2, 3] is -1\n"
     ]
    }
   ],
   "source": [
    "#To print negative index\n",
    "\n",
    "for i in range(-len(t),0):\n",
    "    print(\"The negative index of {} is {}\".format(t[i],i))"
   ]
  },
  {
   "cell_type": "code",
   "execution_count": 16,
   "id": "67af5eab",
   "metadata": {},
   "outputs": [
    {
     "name": "stdout",
     "output_type": "stream",
     "text": [
      "The positive index is 0 and negative index is -4 for 10\n",
      "The positive index is 1 and negative index is -3 for 10.35\n",
      "The positive index is 2 and negative index is -2 for (3+4j)\n",
      "The positive index is 3 and negative index is -1 for [1, 2, 3]\n"
     ]
    }
   ],
   "source": [
    "#To print both positive & negative indices\n",
    "\n",
    "for i in range(len(t)):\n",
    "    print(\"The positive index is {} and negative index is {} for {}\".format(i,i-len(t),t[i]))\n"
   ]
  },
  {
   "cell_type": "markdown",
   "id": "67e7e2af",
   "metadata": {},
   "source": [
    "**Slicing**\n",
    "- It is used to get the sub-values from the main tuple\n",
    "\n",
    "- It is represented by tuple[Begin:End] or tuple[Begin:End:Step=Positive] or tuple[Begin:End:Step=Negative]\n",
    "  or tuple[Begin :] or tuple[:End] or str[::]\n",
    "  \n",
    "- In tuple[Begin:End] or tuple[Begin :] or tuple[:End] -->Since step is not mentioned , by default it is taken as positive and End is end-1\n",
    "\n",
    "- In tuple[Begin:End:Step=Positive] --> Here step is positive, End=End-1 and Slicing takes place in positive direction\n",
    "\n",
    "- In tuple[Begin:End:Step=Negative] --> Here step is Negative, End=End+1 and Slicing takes place in negative direction\n"
   ]
  },
  {
   "cell_type": "code",
   "execution_count": 55,
   "id": "cbd2aeeb",
   "metadata": {},
   "outputs": [
    {
     "data": {
      "text/plain": [
       "(10, 10.35, (3+4j), [1, 2, 3])"
      ]
     },
     "execution_count": 55,
     "metadata": {},
     "output_type": "execute_result"
    }
   ],
   "source": [
    "t[0:]    #Here Begin=0, end is not specified so it takes length of tuple"
   ]
  },
  {
   "cell_type": "code",
   "execution_count": 56,
   "id": "829a9366",
   "metadata": {},
   "outputs": [
    {
     "data": {
      "text/plain": [
       "(10, 10.35, (3+4j), [1, 2, 3])"
      ]
     },
     "execution_count": 56,
     "metadata": {},
     "output_type": "execute_result"
    }
   ],
   "source": [
    "t[:]     #Here both begin and end index is not specified, so full tuple will be returned"
   ]
  },
  {
   "cell_type": "code",
   "execution_count": 57,
   "id": "18a80a72",
   "metadata": {},
   "outputs": [
    {
     "data": {
      "text/plain": [
       "(10, 10.35, (3+4j), [1, 2, 3])"
      ]
     },
     "execution_count": 57,
     "metadata": {},
     "output_type": "execute_result"
    }
   ],
   "source": [
    "t[::]    #Here begin, end and step is not specified, so full tuple will be returned"
   ]
  },
  {
   "cell_type": "code",
   "execution_count": 58,
   "id": "f57da9d8",
   "metadata": {},
   "outputs": [
    {
     "data": {
      "text/plain": [
       "([1, 2, 3], (3+4j), 10.35, 10)"
      ]
     },
     "execution_count": 58,
     "metadata": {},
     "output_type": "execute_result"
    }
   ],
   "source": [
    "t[::-1]     #It returns the reverse of tuple"
   ]
  },
  {
   "cell_type": "code",
   "execution_count": 60,
   "id": "86b94790",
   "metadata": {},
   "outputs": [
    {
     "data": {
      "text/plain": [
       "(10, 10.35, (3+4j), [1, 2, 3])"
      ]
     },
     "execution_count": 60,
     "metadata": {},
     "output_type": "execute_result"
    }
   ],
   "source": [
    "t[:4]        #Here only end index is specified, so begin index would be starting from 0"
   ]
  },
  {
   "cell_type": "code",
   "execution_count": 18,
   "id": "c44cebde",
   "metadata": {},
   "outputs": [
    {
     "data": {
      "text/plain": [
       "(10, 'python', 'Datascience', (1+3j))"
      ]
     },
     "execution_count": 18,
     "metadata": {},
     "output_type": "execute_result"
    }
   ],
   "source": [
    "t1=(10,20,\"python\",2+3j,\"Datascience\",20.34,1+3j,[40,80,120,160])\n",
    "t1[0:7:2]         #Begin=0, End=7(7-1=6), Step=2 (Tuple traverse in positive direction by leaving 2 values)"
   ]
  },
  {
   "cell_type": "code",
   "execution_count": 65,
   "id": "bc0fb3ff",
   "metadata": {},
   "outputs": [
    {
     "data": {
      "text/plain": [
       "120"
      ]
     },
     "execution_count": 65,
     "metadata": {},
     "output_type": "execute_result"
    }
   ],
   "source": [
    "t1[7][2]  #To get the 2nd value of list which is in 7th index"
   ]
  },
  {
   "cell_type": "code",
   "execution_count": 66,
   "id": "3260d65b",
   "metadata": {},
   "outputs": [
    {
     "data": {
      "text/plain": [
       "()"
      ]
     },
     "execution_count": 66,
     "metadata": {},
     "output_type": "execute_result"
    }
   ],
   "source": [
    "t1[0:7:-2]   #Begin=0, End=7(7+1=8), Step=negative(Tuple traverse in negative direction)\n",
    "             #But 7 is towards positive direction, since tuple traverse in negative direction no where it reaches 7 so no o/p is displayed"
   ]
  },
  {
   "cell_type": "code",
   "execution_count": 69,
   "id": "8e3e276f",
   "metadata": {},
   "outputs": [
    {
     "data": {
      "text/plain": [
       "(20,)"
      ]
     },
     "execution_count": 69,
     "metadata": {},
     "output_type": "execute_result"
    }
   ],
   "source": [
    "t1[1::-2]"
   ]
  },
  {
   "cell_type": "code",
   "execution_count": 68,
   "id": "7315517a",
   "metadata": {},
   "outputs": [
    {
     "data": {
      "text/plain": [
       "()"
      ]
     },
     "execution_count": 68,
     "metadata": {},
     "output_type": "execute_result"
    }
   ],
   "source": [
    "t1[1:8:-2]"
   ]
  },
  {
   "cell_type": "code",
   "execution_count": 71,
   "id": "6ec03281",
   "metadata": {},
   "outputs": [
    {
     "data": {
      "text/plain": [
       "([40, 80, 120, 160], (1+3j), 20.34, 'Datascience', (2+3j), 'python', 20, 10)"
      ]
     },
     "execution_count": 71,
     "metadata": {},
     "output_type": "execute_result"
    }
   ],
   "source": [
    "t1[::-1]     #It returns reverse of tuple"
   ]
  },
  {
   "cell_type": "code",
   "execution_count": 72,
   "id": "83c8402f",
   "metadata": {},
   "outputs": [
    {
     "data": {
      "text/plain": [
       "('python', 20.34)"
      ]
     },
     "execution_count": 72,
     "metadata": {},
     "output_type": "execute_result"
    }
   ],
   "source": [
    "t1[2:8:3]"
   ]
  },
  {
   "cell_type": "code",
   "execution_count": 73,
   "id": "e4b11052",
   "metadata": {},
   "outputs": [
    {
     "data": {
      "text/plain": [
       "(10, 20, 'python', (2+3j), 'Datascience', 20.34, (1+3j), [40, 80, 120, 160])"
      ]
     },
     "execution_count": 73,
     "metadata": {},
     "output_type": "execute_result"
    }
   ],
   "source": [
    "t1[0:8]"
   ]
  },
  {
   "cell_type": "code",
   "execution_count": 19,
   "id": "cbeb4841",
   "metadata": {},
   "outputs": [
    {
     "data": {
      "text/plain": [
       "(10, 20, 'python', (2+3j), 'Datascience', 20.34, (1+3j), [40, 80, 120, 160])"
      ]
     },
     "execution_count": 19,
     "metadata": {},
     "output_type": "execute_result"
    }
   ],
   "source": [
    "#DIfferent methods to print tuple (t1)\n",
    "#Method-1\n",
    "\n",
    "t1[0:]"
   ]
  },
  {
   "cell_type": "code",
   "execution_count": 21,
   "id": "c765185d",
   "metadata": {},
   "outputs": [
    {
     "data": {
      "text/plain": [
       "(10, 20, 'python', (2+3j), 'Datascience', 20.34, (1+3j), [40, 80, 120, 160])"
      ]
     },
     "execution_count": 21,
     "metadata": {},
     "output_type": "execute_result"
    }
   ],
   "source": [
    "#Method-2\n",
    "\n",
    "t1[:8]"
   ]
  },
  {
   "cell_type": "code",
   "execution_count": 22,
   "id": "2bd6cec1",
   "metadata": {},
   "outputs": [
    {
     "data": {
      "text/plain": [
       "(10, 20, 'python', (2+3j), 'Datascience', 20.34, (1+3j), [40, 80, 120, 160])"
      ]
     },
     "execution_count": 22,
     "metadata": {},
     "output_type": "execute_result"
    }
   ],
   "source": [
    "#Method-3\n",
    "\n",
    "t1[:]"
   ]
  },
  {
   "cell_type": "code",
   "execution_count": 23,
   "id": "8035a078",
   "metadata": {},
   "outputs": [
    {
     "data": {
      "text/plain": [
       "(10, 20, 'python', (2+3j), 'Datascience', 20.34, (1+3j), [40, 80, 120, 160])"
      ]
     },
     "execution_count": 23,
     "metadata": {},
     "output_type": "execute_result"
    }
   ],
   "source": [
    "#Method-4\n",
    "\n",
    "t1[::]"
   ]
  },
  {
   "cell_type": "code",
   "execution_count": 24,
   "id": "09e6a242",
   "metadata": {},
   "outputs": [
    {
     "data": {
      "text/plain": [
       "(10, 20, 'python', (2+3j), 'Datascience', 20.34, (1+3j), [40, 80, 120, 160])"
      ]
     },
     "execution_count": 24,
     "metadata": {},
     "output_type": "execute_result"
    }
   ],
   "source": [
    "#Method-5\n",
    "\n",
    "t1[::1]"
   ]
  },
  {
   "cell_type": "markdown",
   "id": "6d4fd8a3",
   "metadata": {},
   "source": [
    "- Tuple is immutable. It don't support item assignment(Values can't be updated)"
   ]
  },
  {
   "cell_type": "code",
   "execution_count": 25,
   "id": "46a86bdd",
   "metadata": {},
   "outputs": [
    {
     "data": {
      "text/plain": [
       "(10, 20, 'python', (2+3j), 'Datascience', 20.34, (1+3j), [40, 80, 120, 160])"
      ]
     },
     "execution_count": 25,
     "metadata": {},
     "output_type": "execute_result"
    }
   ],
   "source": [
    "t1"
   ]
  },
  {
   "cell_type": "code",
   "execution_count": 26,
   "id": "372f2a4a",
   "metadata": {},
   "outputs": [
    {
     "ename": "TypeError",
     "evalue": "'tuple' object does not support item assignment",
     "output_type": "error",
     "traceback": [
      "\u001b[1;31m---------------------------------------------------------------------------\u001b[0m",
      "\u001b[1;31mTypeError\u001b[0m                                 Traceback (most recent call last)",
      "Cell \u001b[1;32mIn[26], line 1\u001b[0m\n\u001b[1;32m----> 1\u001b[0m t1[\u001b[38;5;241m2\u001b[39m]\u001b[38;5;241m=\u001b[39m\u001b[38;5;124m\"\u001b[39m\u001b[38;5;124mPYTHON\u001b[39m\u001b[38;5;124m\"\u001b[39m\n",
      "\u001b[1;31mTypeError\u001b[0m: 'tuple' object does not support item assignment"
     ]
    }
   ],
   "source": [
    "t1[2]=\"PYTHON\""
   ]
  },
  {
   "cell_type": "code",
   "execution_count": 27,
   "id": "d9014da5",
   "metadata": {},
   "outputs": [
    {
     "ename": "TypeError",
     "evalue": "'tuple' object does not support item assignment",
     "output_type": "error",
     "traceback": [
      "\u001b[1;31m---------------------------------------------------------------------------\u001b[0m",
      "\u001b[1;31mTypeError\u001b[0m                                 Traceback (most recent call last)",
      "Cell \u001b[1;32mIn[27], line 1\u001b[0m\n\u001b[1;32m----> 1\u001b[0m t1[\u001b[38;5;241m7\u001b[39m]\u001b[38;5;241m=\u001b[39m\u001b[38;5;241m90\u001b[39m\n",
      "\u001b[1;31mTypeError\u001b[0m: 'tuple' object does not support item assignment"
     ]
    }
   ],
   "source": [
    "t1[7]=90"
   ]
  },
  {
   "cell_type": "markdown",
   "id": "ce8ccd68",
   "metadata": {},
   "source": [
    "**Tuple Methods**"
   ]
  },
  {
   "cell_type": "code",
   "execution_count": 28,
   "id": "fee83d8d",
   "metadata": {},
   "outputs": [
    {
     "data": {
      "text/plain": [
       "['__add__',\n",
       " '__class__',\n",
       " '__class_getitem__',\n",
       " '__contains__',\n",
       " '__delattr__',\n",
       " '__dir__',\n",
       " '__doc__',\n",
       " '__eq__',\n",
       " '__format__',\n",
       " '__ge__',\n",
       " '__getattribute__',\n",
       " '__getitem__',\n",
       " '__getnewargs__',\n",
       " '__getstate__',\n",
       " '__gt__',\n",
       " '__hash__',\n",
       " '__init__',\n",
       " '__init_subclass__',\n",
       " '__iter__',\n",
       " '__le__',\n",
       " '__len__',\n",
       " '__lt__',\n",
       " '__mul__',\n",
       " '__ne__',\n",
       " '__new__',\n",
       " '__reduce__',\n",
       " '__reduce_ex__',\n",
       " '__repr__',\n",
       " '__rmul__',\n",
       " '__setattr__',\n",
       " '__sizeof__',\n",
       " '__str__',\n",
       " '__subclasshook__',\n",
       " 'count',\n",
       " 'index']"
      ]
     },
     "execution_count": 28,
     "metadata": {},
     "output_type": "execute_result"
    }
   ],
   "source": [
    "dir(t1)"
   ]
  },
  {
   "cell_type": "markdown",
   "id": "7a814d51",
   "metadata": {},
   "source": [
    "**count()**\n",
    "- It returns the number of occurences in a tuple\n",
    "- If other than values present in tuple are passed inside count function, 0 is returned"
   ]
  },
  {
   "cell_type": "code",
   "execution_count": 30,
   "id": "1f826b14",
   "metadata": {},
   "outputs": [
    {
     "data": {
      "text/plain": [
       "(10, 20, 10, 'python', (2+3j), 'python', 23.45, 10, 20.34, 23.45)"
      ]
     },
     "execution_count": 30,
     "metadata": {},
     "output_type": "execute_result"
    }
   ],
   "source": [
    "t1=(10,20,10,\"python\",2+3j,\"python\",23.45,10,20.34,23.45)\n",
    "t1"
   ]
  },
  {
   "cell_type": "code",
   "execution_count": 31,
   "id": "213fe1e9",
   "metadata": {},
   "outputs": [
    {
     "data": {
      "text/plain": [
       "3"
      ]
     },
     "execution_count": 31,
     "metadata": {},
     "output_type": "execute_result"
    }
   ],
   "source": [
    "t1.count(10)"
   ]
  },
  {
   "cell_type": "code",
   "execution_count": 32,
   "id": "d4dff35f",
   "metadata": {},
   "outputs": [
    {
     "data": {
      "text/plain": [
       "2"
      ]
     },
     "execution_count": 32,
     "metadata": {},
     "output_type": "execute_result"
    }
   ],
   "source": [
    "t1.count(\"python\")"
   ]
  },
  {
   "cell_type": "code",
   "execution_count": 33,
   "id": "cbd79eb2",
   "metadata": {},
   "outputs": [
    {
     "data": {
      "text/plain": [
       "0"
      ]
     },
     "execution_count": 33,
     "metadata": {},
     "output_type": "execute_result"
    }
   ],
   "source": [
    "t1.count(\"y\")"
   ]
  },
  {
   "cell_type": "code",
   "execution_count": 34,
   "id": "495686ec",
   "metadata": {},
   "outputs": [
    {
     "data": {
      "text/plain": [
       "0"
      ]
     },
     "execution_count": 34,
     "metadata": {},
     "output_type": "execute_result"
    }
   ],
   "source": [
    "t1.count(\"z\")   #\"z\" is not available in given tuple, so it returns 0"
   ]
  },
  {
   "cell_type": "markdown",
   "id": "4dc28267",
   "metadata": {},
   "source": [
    "**index()**\n",
    "- It gives the index of value in a tuple"
   ]
  },
  {
   "cell_type": "code",
   "execution_count": 36,
   "id": "88ff794c",
   "metadata": {},
   "outputs": [
    {
     "data": {
      "text/plain": [
       "(10, 20, 10, 'python', (2+3j), 'python', 23.45, 10, 20.34, 23.45)"
      ]
     },
     "execution_count": 36,
     "metadata": {},
     "output_type": "execute_result"
    }
   ],
   "source": [
    "t1"
   ]
  },
  {
   "cell_type": "code",
   "execution_count": 38,
   "id": "420e4c0b",
   "metadata": {},
   "outputs": [
    {
     "data": {
      "text/plain": [
       "0"
      ]
     },
     "execution_count": 38,
     "metadata": {},
     "output_type": "execute_result"
    }
   ],
   "source": [
    "#first occurence of 10\n",
    "\n",
    "first_occ=t1.index(10)\n",
    "first_occ"
   ]
  },
  {
   "cell_type": "code",
   "execution_count": 40,
   "id": "92bd7467",
   "metadata": {},
   "outputs": [
    {
     "data": {
      "text/plain": [
       "2"
      ]
     },
     "execution_count": 40,
     "metadata": {},
     "output_type": "execute_result"
    }
   ],
   "source": [
    "#Second occurence of 10\n",
    "\n",
    "second_occ=t1.index(10,first_occ+1)\n",
    "second_occ"
   ]
  },
  {
   "cell_type": "code",
   "execution_count": 41,
   "id": "9150cce4",
   "metadata": {},
   "outputs": [
    {
     "data": {
      "text/plain": [
       "7"
      ]
     },
     "execution_count": 41,
     "metadata": {},
     "output_type": "execute_result"
    }
   ],
   "source": [
    "#Third occurence of 10\n",
    "\n",
    "third_occ=t1.index(10,second_occ+1)\n",
    "third_occ\n"
   ]
  },
  {
   "cell_type": "code",
   "execution_count": null,
   "id": "795d7c96",
   "metadata": {},
   "outputs": [],
   "source": []
  }
 ],
 "metadata": {
  "kernelspec": {
   "display_name": "Python 3",
   "language": "python",
   "name": "python3"
  },
  "language_info": {
   "codemirror_mode": {
    "name": "ipython",
    "version": 3
   },
   "file_extension": ".py",
   "mimetype": "text/x-python",
   "name": "python",
   "nbconvert_exporter": "python",
   "pygments_lexer": "ipython3",
   "version": "3.11.4"
  }
 },
 "nbformat": 4,
 "nbformat_minor": 5
}
