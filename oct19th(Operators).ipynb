{
 "cells": [
  {
   "cell_type": "code",
   "execution_count": 5,
   "id": "8a5a0181",
   "metadata": {},
   "outputs": [
    {
     "name": "stdout",
     "output_type": "stream",
     "text": [
      "Enter a value: 10\n",
      "Enter b value: 10\n",
      "10+10=20\n",
      "10-10=0\n",
      "10*10=100\n",
      "10/10=1.0\n",
      "10%10=0\n",
      "10//10=1\n",
      "10**10=10000000000\n"
     ]
    }
   ],
   "source": [
    "#Arithmetic operators\n",
    "a=eval(input(\"Enter a value: \"))\n",
    "b=eval(input(\"Enter b value: \"))\n",
    "sum=print(\"{}+{}={}\".format(a,b,a+b))\n",
    "sub=print(\"{}-{}={}\".format(a,b,a-b))\n",
    "mul=print(\"{}*{}={}\".format(a,b,a*b))\n",
    "div=print(\"{}/{}={}\".format(a,b,a/b))\n",
    "modulus=print(\"{}%{}={}\".format(a,b,a%b))\n",
    "floordivision=print(\"{}//{}={}\".format(a,b,a//b))\n",
    "exponent=print(\"{}**{}={}\".format(a,b,a**b))"
   ]
  },
  {
   "cell_type": "code",
   "execution_count": 8,
   "id": "c528edf0",
   "metadata": {},
   "outputs": [
    {
     "name": "stdout",
     "output_type": "stream",
     "text": [
      "True\n",
      "False\n",
      "False\n"
     ]
    }
   ],
   "source": [
    "#Relational operators (< , >, <= , >=, ==, !=)\n",
    "# <\n",
    "a=10\n",
    "b=20 \n",
    "c=10\n",
    "print(a<b)\n",
    "print(b<c)\n",
    "print(a<c)"
   ]
  },
  {
   "cell_type": "code",
   "execution_count": 9,
   "id": "5557c277",
   "metadata": {},
   "outputs": [
    {
     "name": "stdout",
     "output_type": "stream",
     "text": [
      "False\n",
      "True\n",
      "False\n"
     ]
    }
   ],
   "source": [
    "#greater than (>)\n",
    "\n",
    "a=10\n",
    "b=20 \n",
    "c=10\n",
    "print(a>b)\n",
    "print(b>c)\n",
    "print(a>c)"
   ]
  },
  {
   "cell_type": "code",
   "execution_count": 10,
   "id": "b2aa7020",
   "metadata": {},
   "outputs": [
    {
     "name": "stdout",
     "output_type": "stream",
     "text": [
      "True\n",
      "False\n",
      "True\n"
     ]
    }
   ],
   "source": [
    "# <=\n",
    "\n",
    "a=10\n",
    "b=20 \n",
    "c=10\n",
    "print(a<=b)\n",
    "print(b<=c)\n",
    "print(a<=c)"
   ]
  },
  {
   "cell_type": "code",
   "execution_count": 11,
   "id": "0f9a8e53",
   "metadata": {},
   "outputs": [
    {
     "name": "stdout",
     "output_type": "stream",
     "text": [
      "False\n",
      "True\n",
      "True\n"
     ]
    }
   ],
   "source": [
    "# >=\n",
    "\n",
    "a=10\n",
    "b=20 \n",
    "c=10\n",
    "print(a>=b)\n",
    "print(b>=c)\n",
    "print(a>=c)"
   ]
  },
  {
   "cell_type": "code",
   "execution_count": 12,
   "id": "9ee648d6",
   "metadata": {},
   "outputs": [
    {
     "name": "stdout",
     "output_type": "stream",
     "text": [
      "False\n",
      "False\n",
      "True\n"
     ]
    }
   ],
   "source": [
    "#  ==\n",
    "\n",
    "a=10\n",
    "b=20 \n",
    "c=10\n",
    "print(a==b)\n",
    "print(b==c)\n",
    "print(a==c)"
   ]
  },
  {
   "cell_type": "code",
   "execution_count": 13,
   "id": "02af21c6",
   "metadata": {},
   "outputs": [
    {
     "name": "stdout",
     "output_type": "stream",
     "text": [
      "True\n",
      "True\n",
      "False\n"
     ]
    }
   ],
   "source": [
    "#  !=\n",
    "\n",
    "a=10\n",
    "b=20 \n",
    "c=10\n",
    "print(a!=b)\n",
    "print(b!=c)\n",
    "print(a!=c)"
   ]
  },
  {
   "cell_type": "code",
   "execution_count": null,
   "id": "5fba6c2b",
   "metadata": {},
   "outputs": [],
   "source": [
    "# LOGIC OPERATORS (and, or , not)\n",
    "# and\n",
    "\n",
    "A   B    A AND B      A OR B     \n",
    "\n",
    "T  F  --->F         -->T\n",
    "F  T  --->F         --->T\n",
    "F  F  --> F         -->F\n",
    "T  T  --->T         -->T\n",
    "\n",
    "\n",
    "A    A NOT B\n",
    "T  --> FALSE\n",
    "F  --> TRUE"
   ]
  },
  {
   "cell_type": "code",
   "execution_count": 14,
   "id": "87d7805d",
   "metadata": {},
   "outputs": [
    {
     "name": "stdout",
     "output_type": "stream",
     "text": [
      "True\n"
     ]
    }
   ],
   "source": [
    "print(10<30 and 20>10)"
   ]
  },
  {
   "cell_type": "code",
   "execution_count": 15,
   "id": "e30ec3b2",
   "metadata": {},
   "outputs": [
    {
     "name": "stdout",
     "output_type": "stream",
     "text": [
      "False\n"
     ]
    }
   ],
   "source": [
    "print(30<10 and 20>10)"
   ]
  },
  {
   "cell_type": "code",
   "execution_count": 16,
   "id": "ce940cfb",
   "metadata": {},
   "outputs": [
    {
     "name": "stdout",
     "output_type": "stream",
     "text": [
      "False\n"
     ]
    }
   ],
   "source": [
    "print(100>40 and 20>80)"
   ]
  },
  {
   "cell_type": "code",
   "execution_count": 17,
   "id": "b9a42587",
   "metadata": {},
   "outputs": [
    {
     "name": "stdout",
     "output_type": "stream",
     "text": [
      "False\n"
     ]
    }
   ],
   "source": [
    "print(10>2 and 10>20)"
   ]
  },
  {
   "cell_type": "code",
   "execution_count": 18,
   "id": "4d8b8e72",
   "metadata": {},
   "outputs": [
    {
     "name": "stdout",
     "output_type": "stream",
     "text": [
      "True\n"
     ]
    }
   ],
   "source": [
    "print(10<30 or 20>10)"
   ]
  },
  {
   "cell_type": "code",
   "execution_count": 19,
   "id": "5b7632de",
   "metadata": {},
   "outputs": [
    {
     "name": "stdout",
     "output_type": "stream",
     "text": [
      "True\n"
     ]
    }
   ],
   "source": [
    "print(30<10 or 20>10)"
   ]
  },
  {
   "cell_type": "code",
   "execution_count": 20,
   "id": "64a1d64a",
   "metadata": {},
   "outputs": [
    {
     "name": "stdout",
     "output_type": "stream",
     "text": [
      "True\n"
     ]
    }
   ],
   "source": [
    "print(100>40 or 20>80)"
   ]
  },
  {
   "cell_type": "code",
   "execution_count": 21,
   "id": "367c277f",
   "metadata": {},
   "outputs": [
    {
     "name": "stdout",
     "output_type": "stream",
     "text": [
      "True\n"
     ]
    }
   ],
   "source": [
    "print(10>2 or 10>20)"
   ]
  },
  {
   "cell_type": "code",
   "execution_count": 22,
   "id": "210618cb",
   "metadata": {},
   "outputs": [
    {
     "name": "stdout",
     "output_type": "stream",
     "text": [
      "False\n"
     ]
    }
   ],
   "source": [
    "print(10>100 or 2>10)"
   ]
  },
  {
   "cell_type": "code",
   "execution_count": 23,
   "id": "34bb0eaf",
   "metadata": {},
   "outputs": [
    {
     "name": "stdout",
     "output_type": "stream",
     "text": [
      "True\n"
     ]
    }
   ],
   "source": [
    "print(not(10>100 or 2>10))"
   ]
  },
  {
   "cell_type": "code",
   "execution_count": 24,
   "id": "a811dbd6",
   "metadata": {},
   "outputs": [
    {
     "name": "stdout",
     "output_type": "stream",
     "text": [
      "False\n"
     ]
    }
   ],
   "source": [
    "print(not(10>2 or 10>20))"
   ]
  },
  {
   "cell_type": "markdown",
   "id": "55af8859",
   "metadata": {},
   "source": [
    "# Oct 20th"
   ]
  },
  {
   "cell_type": "markdown",
   "id": "10d30145",
   "metadata": {},
   "source": [
    "**BITWISE OPERATORS**"
   ]
  },
  {
   "cell_type": "code",
   "execution_count": 25,
   "id": "8d18388f",
   "metadata": {},
   "outputs": [
    {
     "name": "stdout",
     "output_type": "stream",
     "text": [
      "80\n"
     ]
    }
   ],
   "source": [
    "#Bitwise Left Shift\n",
    "\n",
    "print(20<<2)          \n",
    "\n",
    "# left shift-- > number * 2 ^number of bits ( 20 * 2^2)== 20 *4= 80"
   ]
  },
  {
   "cell_type": "code",
   "execution_count": 26,
   "id": "0eab51d2",
   "metadata": {},
   "outputs": [
    {
     "name": "stdout",
     "output_type": "stream",
     "text": [
      "400\n"
     ]
    }
   ],
   "source": [
    "print(50 <<3)"
   ]
  },
  {
   "cell_type": "code",
   "execution_count": 27,
   "id": "33a26ac8",
   "metadata": {},
   "outputs": [
    {
     "name": "stdout",
     "output_type": "stream",
     "text": [
      "5\n"
     ]
    }
   ],
   "source": [
    "#Bitwise Right Shift --> number/2^number of bits -->  20//2^2  = 20//4 = 5 \n",
    "\n",
    "print(20>>2)"
   ]
  },
  {
   "cell_type": "code",
   "execution_count": 28,
   "id": "07f24b87",
   "metadata": {},
   "outputs": [
    {
     "name": "stdout",
     "output_type": "stream",
     "text": [
      "18\n"
     ]
    }
   ],
   "source": [
    "print(300>>4)"
   ]
  },
  {
   "cell_type": "code",
   "execution_count": null,
   "id": "23ca9de2",
   "metadata": {},
   "outputs": [],
   "source": [
    "#BItwise and operator(&) (Product rule)\n",
    "\n",
    "Input1    Input2       Input1 & Input2\n",
    "0          1                 0  (0*1=0)\n",
    "1          0                 0  (1*0=0)\n",
    "0          0                 0  (0*0=0)\n",
    "1          1                 1  (1*1=1)\n"
   ]
  },
  {
   "cell_type": "code",
   "execution_count": 32,
   "id": "e13750ca",
   "metadata": {},
   "outputs": [
    {
     "name": "stdout",
     "output_type": "stream",
     "text": [
      "10\n"
     ]
    }
   ],
   "source": [
    "a=10               # a= 1 0 1 0\n",
    "b=15              # b=  1 1 1 1\n",
    "c=a&b                __________\n",
    "print(c)            #   1 0 1 0 ( -->10 )"
   ]
  },
  {
   "cell_type": "code",
   "execution_count": 33,
   "id": "7e0ca51c",
   "metadata": {},
   "outputs": [
    {
     "name": "stdout",
     "output_type": "stream",
     "text": [
      "0\n"
     ]
    }
   ],
   "source": [
    "print(3&4)         # 3-> 0 0 1 1\n",
    "                   # 4 ->0 1 0 0\n",
    "                 _______________\n",
    "                        0  0  0 0(-->0)"
   ]
  },
  {
   "cell_type": "code",
   "execution_count": 35,
   "id": "a882b28f",
   "metadata": {},
   "outputs": [
    {
     "name": "stdout",
     "output_type": "stream",
     "text": [
      "2\n"
     ]
    }
   ],
   "source": [
    "print(10&3)       # 10 --- 1 0 1 0\n",
    "                  # 3 ---- 0 0 1 1\n",
    "                 # ________________\n",
    "                           0 0 1 1 (--> 1 * 2^1)"
   ]
  },
  {
   "cell_type": "code",
   "execution_count": 36,
   "id": "56d59669",
   "metadata": {},
   "outputs": [
    {
     "name": "stdout",
     "output_type": "stream",
     "text": [
      "16\n"
     ]
    }
   ],
   "source": [
    "print(18 & 20)       # 18--->    1 0 0 1 0\n",
    "                     # 20-->     1 0 1 0 0\n",
    "                           ________________\n",
    "                                 1 0 0 0 0 ( --> 1 * 2^4 = 1 *16= 16)"
   ]
  },
  {
   "cell_type": "code",
   "execution_count": 37,
   "id": "058b1db5",
   "metadata": {},
   "outputs": [
    {
     "name": "stdout",
     "output_type": "stream",
     "text": [
      "{30}\n"
     ]
    }
   ],
   "source": [
    "s1={10,20,30}\n",
    "s2={40,30,50}\n",
    "s3=s1.intersection(s2)    # common elements from s1 & s2 are printed (i.e, only 30 is common so it is printed)\n",
    "print(s3)"
   ]
  },
  {
   "cell_type": "code",
   "execution_count": 39,
   "id": "9643c326",
   "metadata": {},
   "outputs": [
    {
     "name": "stdout",
     "output_type": "stream",
     "text": [
      "{30}\n"
     ]
    }
   ],
   "source": [
    "s4=s1&s2              # here from s1 --> 10 is compared with  s2(40,30,50)\n",
    "                      # again from s1 -> 20 is compared with s2(40,30,50)\n",
    "                      #again from s1 -> 30 is compared with s2(40,30,50)-- \n",
    "                    # -- 30 with 40(not matched-false) , 30 with 30->matched(true),so 30 is printed , 30 with 50(false)\n",
    "print(s4)"
   ]
  },
  {
   "cell_type": "code",
   "execution_count": null,
   "id": "c8bbebf5",
   "metadata": {},
   "outputs": [],
   "source": [
    "# BITWISE OR OPERATOR (|) ( Addition rule)\n",
    "\n",
    "varname=value1+value2\n",
    "\n",
    "Input1     Input2    Input | Input2\n",
    "0           1            1\n",
    "1           0            1\n",
    "0           0            0\n",
    "1           1            1"
   ]
  },
  {
   "cell_type": "code",
   "execution_count": 40,
   "id": "ab177f2d",
   "metadata": {},
   "outputs": [
    {
     "name": "stdout",
     "output_type": "stream",
     "text": [
      "30\n"
     ]
    }
   ],
   "source": [
    "print(10|20)            #10--->0 1 0 1 0\n",
    "                        #20--> 1 0 1 0 0\n",
    "                        ________________\n",
    "        \n",
    "                             1  1  1 1 0 (2^4 * 1 + 2^3 *1 + 2^2 * 1 + 2^1 *1 = 14+8+4+2=30)"
   ]
  },
  {
   "cell_type": "code",
   "execution_count": 41,
   "id": "0806d674",
   "metadata": {},
   "outputs": [
    {
     "name": "stdout",
     "output_type": "stream",
     "text": [
      "15\n"
     ]
    }
   ],
   "source": [
    "a=10                                 #10-- > 1 0 1 0\n",
    "b=7                                  #7 ---> 0 1 1 1\n",
    "c=a|b                                ______________\n",
    "                                             1 1 1 1( 2^3*1 + 2^2*1 + 2^1*1 + 2^0*1 ==>8+4+2+1 = 15)\n",
    "print(c)"
   ]
  },
  {
   "cell_type": "code",
   "execution_count": 42,
   "id": "6e536111",
   "metadata": {},
   "outputs": [
    {
     "name": "stdout",
     "output_type": "stream",
     "text": [
      "0\n"
     ]
    }
   ],
   "source": [
    "print(3|4)                    # 3--> 0 1 1\n",
    "                             # 4 --> 1 0 0 \n",
    "                             ______________\n",
    "                                    1 1 1 ( 2^2*1 + 2^1*1 + 2^0*1-->7)"
   ]
  },
  {
   "cell_type": "code",
   "execution_count": null,
   "id": "06e39d3a",
   "metadata": {},
   "outputs": [],
   "source": [
    "# BITWISE COMPLEMENT OPERATOR (~)\n",
    "\n",
    "2 variables->a, b\n",
    "Syntax--> -(a+1)"
   ]
  },
  {
   "cell_type": "code",
   "execution_count": 43,
   "id": "76952208",
   "metadata": {},
   "outputs": [
    {
     "name": "stdout",
     "output_type": "stream",
     "text": [
      "-16\n"
     ]
    }
   ],
   "source": [
    "a=10            #10-->   1 0 1 0\n",
    "                #b=15 -> 1 1 1 1\n",
    "b=15               ~b->  -(1111 +1) --> 1 1 1 1\n",
    "                                        0 0 0 1\n",
    "                                Carry->  1  1 1\n",
    "                                       ________\n",
    "                                        1 0 0 0 0        #binary addition\n",
    "\n",
    "print(~(b))        #~b = -(b+1)==> (-(15+1))= -16"
   ]
  },
  {
   "cell_type": "code",
   "execution_count": 44,
   "id": "2d3b65f8",
   "metadata": {},
   "outputs": [
    {
     "name": "stdout",
     "output_type": "stream",
     "text": [
      "-11\n"
     ]
    }
   ],
   "source": [
    "b=~a          # -(a+1)= -(10+1) =   -11\n",
    "print(b)        #a=10-- > 1 0 1 0\n",
    "                # +1 -->  0 0 0 1\n",
    "               _____________________\n",
    "                          1 0 1 1 --> (2^3 + 2^1 + 2^0)= 8+2+1"
   ]
  },
  {
   "cell_type": "code",
   "execution_count": null,
   "id": "779ce54b",
   "metadata": {},
   "outputs": [],
   "source": [
    "#BITWISE XOR OPERATOR--- (Similar bits -> Result is 0 & Disimilar bits-> Result is 1)\n",
    "\n",
    "Input1    Input2       Input1 ^ Input2\n",
    " \n",
    "0          1                1\n",
    "1          0                1\n",
    "0          0                0\n",
    "1          1                0"
   ]
  },
  {
   "cell_type": "code",
   "execution_count": 45,
   "id": "408faf31",
   "metadata": {},
   "outputs": [
    {
     "data": {
      "text/plain": [
       "7"
      ]
     },
     "execution_count": 45,
     "metadata": {},
     "output_type": "execute_result"
    }
   ],
   "source": [
    "a=3                    #3-> 0 0 1 1\n",
    "b=4                    #4-> 0 1 0 0\n",
    "c=a^b                 _____________\n",
    "                           0 1 1 1 (4 + 2 +1 =7)\n",
    "c"
   ]
  },
  {
   "cell_type": "code",
   "execution_count": 47,
   "id": "9924ee77",
   "metadata": {},
   "outputs": [
    {
     "name": "stdout",
     "output_type": "stream",
     "text": [
      "5\n"
     ]
    }
   ],
   "source": [
    "print(15^10)        #15 -> 1 1 1 1\n",
    "                   #10 -> 1 0 1 0\n",
    "                    ______________\n",
    "                          0 1 0 1(4 +1 =5)"
   ]
  },
  {
   "cell_type": "code",
   "execution_count": 48,
   "id": "d1382bfa",
   "metadata": {},
   "outputs": [
    {
     "name": "stdout",
     "output_type": "stream",
     "text": [
      "24\n"
     ]
    }
   ],
   "source": [
    "print(16^8)            #16- > 1 0 0 0 0\n",
    "                       #8->   0 1 0 0 0\n",
    "                       ________________\n",
    "                             1 1 0 0 0 ( 16+ 8 =24)"
   ]
  },
  {
   "cell_type": "code",
   "execution_count": 49,
   "id": "f614b8a4",
   "metadata": {},
   "outputs": [
    {
     "name": "stdout",
     "output_type": "stream",
     "text": [
      "{50, 20, 60, 30}\n"
     ]
    }
   ],
   "source": [
    "# special case--\n",
    "s1={10,20,30,40}\n",
    "s2={10,40,50,60}\n",
    "s3=s1.symmetric_difference(s2)      #means similar elements will be removed & remaining elemnts from s1 & s2 are printed\n",
    "print(s3)"
   ]
  },
  {
   "cell_type": "code",
   "execution_count": null,
   "id": "aa4481e4",
   "metadata": {},
   "outputs": [],
   "source": [
    "#wap to accept two numerical intege value & swap them by using bitwise xor\n",
    "\n",
    "a=3\n",
    "b=4\n",
    "a=a^b         # a=3--> 0 0 1 1\n",
    "              #b=4 --> 0 1 0 0\n",
    "               _______________\n",
    "                   a=  0 1 1 1 (7)\n",
    "\n",
    "b=a^b       #a value is 7--> 0 1 1 1\n",
    "            #b=4         --> 0 1 0 0\n",
    "                   __________________\n",
    "                      b=     0 0 1 1 (2+1 =3)\n",
    "            \n",
    "a=a^b        # a =7  --> 0 1 1 1\n",
    "             #b=3    --> 0 0 1 1\n",
    "             ___________________\n",
    "                 a=      0 1 0 0 (4)\n",
    "                        "
   ]
  },
  {
   "cell_type": "code",
   "execution_count": 51,
   "id": "c4b533a3",
   "metadata": {},
   "outputs": [
    {
     "name": "stdout",
     "output_type": "stream",
     "text": [
      "value of a is 7\n"
     ]
    }
   ],
   "source": [
    "a=3\n",
    "b=4\n",
    "a=a^b\n",
    "print(\"value of a is\",a)"
   ]
  },
  {
   "cell_type": "code",
   "execution_count": 52,
   "id": "bdb97bdb",
   "metadata": {},
   "outputs": [
    {
     "name": "stdout",
     "output_type": "stream",
     "text": [
      "b is 3\n"
     ]
    }
   ],
   "source": [
    "b=a^b\n",
    "print(\"b is\",b)"
   ]
  },
  {
   "cell_type": "code",
   "execution_count": 53,
   "id": "25ad20d7",
   "metadata": {},
   "outputs": [
    {
     "name": "stdout",
     "output_type": "stream",
     "text": [
      "a is 4\n"
     ]
    }
   ],
   "source": [
    "a=a^b\n",
    "print(\"a is\",a)"
   ]
  },
  {
   "cell_type": "code",
   "execution_count": 55,
   "id": "dd0bba1a",
   "metadata": {},
   "outputs": [
    {
     "name": "stdout",
     "output_type": "stream",
     "text": [
      "Enter a value: 3\n",
      "Enter b value: 4\n",
      "----------------------------------------\n",
      "Original value of a is 3\n",
      "Original value of b is 4\n",
      "----------------------------------------\n",
      "Swapping value of a is 4\n",
      "Swapping value of b is 3\n"
     ]
    }
   ],
   "source": [
    "#wap to accept two numerical intege value & swap them by using bitwise xor\n",
    "\n",
    "a=eval(input(\"Enter a value: \"))\n",
    "b=eval(input(\"Enter b value: \"))\n",
    "print(\"-\"*40)\n",
    "print(\"Original value of a is\",a)\n",
    "print(\"Original value of b is\",b)\n",
    "a=a^b\n",
    "b=a^b\n",
    "a=a^b\n",
    "print(\"-\"*40)\n",
    "print(\"Swapping value of a is\",a)\n",
    "print(\"Swapping value of b is\",b)"
   ]
  },
  {
   "cell_type": "markdown",
   "id": "e7e3d59a",
   "metadata": {},
   "source": [
    "**Membership operators**\n",
    "- in\n",
    "- not in"
   ]
  },
  {
   "cell_type": "code",
   "execution_count": 56,
   "id": "6677ecb0",
   "metadata": {},
   "outputs": [],
   "source": [
    "lst=[10,20,30,'prag','pranu']"
   ]
  },
  {
   "cell_type": "code",
   "execution_count": 57,
   "id": "da9a3f88",
   "metadata": {},
   "outputs": [
    {
     "data": {
      "text/plain": [
       "True"
      ]
     },
     "execution_count": 57,
     "metadata": {},
     "output_type": "execute_result"
    }
   ],
   "source": [
    "10 in lst  #10 is available in the list, so it returns True"
   ]
  },
  {
   "cell_type": "code",
   "execution_count": 58,
   "id": "636acd0b",
   "metadata": {},
   "outputs": [
    {
     "data": {
      "text/plain": [
       "True"
      ]
     },
     "execution_count": 58,
     "metadata": {},
     "output_type": "execute_result"
    }
   ],
   "source": [
    "20 in lst"
   ]
  },
  {
   "cell_type": "code",
   "execution_count": 59,
   "id": "41641bfc",
   "metadata": {},
   "outputs": [
    {
     "data": {
      "text/plain": [
       "False"
      ]
     },
     "execution_count": 59,
     "metadata": {},
     "output_type": "execute_result"
    }
   ],
   "source": [
    "10 not in lst         # 10 is available in the list, so it returns False"
   ]
  },
  {
   "cell_type": "code",
   "execution_count": 60,
   "id": "28683697",
   "metadata": {},
   "outputs": [
    {
     "data": {
      "text/plain": [
       "False"
      ]
     },
     "execution_count": 60,
     "metadata": {},
     "output_type": "execute_result"
    }
   ],
   "source": [
    "20 not in lst"
   ]
  },
  {
   "cell_type": "code",
   "execution_count": 66,
   "id": "77965679",
   "metadata": {},
   "outputs": [
    {
     "data": {
      "text/plain": [
       "True"
      ]
     },
     "execution_count": 66,
     "metadata": {},
     "output_type": "execute_result"
    }
   ],
   "source": [
    "'prag' in lst"
   ]
  },
  {
   "cell_type": "code",
   "execution_count": 68,
   "id": "1e3c3d9c",
   "metadata": {},
   "outputs": [
    {
     "data": {
      "text/plain": [
       "False"
      ]
     },
     "execution_count": 68,
     "metadata": {},
     "output_type": "execute_result"
    }
   ],
   "source": [
    "'Prag' in lst"
   ]
  },
  {
   "cell_type": "code",
   "execution_count": null,
   "id": "5d8398c9",
   "metadata": {},
   "outputs": [],
   "source": []
  },
  {
   "cell_type": "code",
   "execution_count": 62,
   "id": "fc9132dd",
   "metadata": {},
   "outputs": [
    {
     "data": {
      "text/plain": [
       "True"
      ]
     },
     "execution_count": 62,
     "metadata": {},
     "output_type": "execute_result"
    }
   ],
   "source": [
    "a=20 in lst     # storing in a & result is True (it meant 20 is available in list)       \n",
    "a"
   ]
  },
  {
   "cell_type": "code",
   "execution_count": 63,
   "id": "adf7d671",
   "metadata": {},
   "outputs": [
    {
     "name": "stdout",
     "output_type": "stream",
     "text": [
      "True <class 'bool'>\n"
     ]
    }
   ],
   "source": [
    "print(a,type(a))"
   ]
  },
  {
   "cell_type": "code",
   "execution_count": 64,
   "id": "76ebbdaa",
   "metadata": {},
   "outputs": [
    {
     "name": "stdout",
     "output_type": "stream",
     "text": [
      "False <class 'bool'>\n"
     ]
    }
   ],
   "source": [
    "b=20 not in lst    #storing in b & result is False(It meant 20 is not available in list)\n",
    "print(b,type(b))"
   ]
  },
  {
   "cell_type": "code",
   "execution_count": 69,
   "id": "9d6516e5",
   "metadata": {},
   "outputs": [],
   "source": [
    "s='PYTHON'\n"
   ]
  },
  {
   "cell_type": "code",
   "execution_count": 70,
   "id": "6be74f00",
   "metadata": {},
   "outputs": [
    {
     "data": {
      "text/plain": [
       "True"
      ]
     },
     "execution_count": 70,
     "metadata": {},
     "output_type": "execute_result"
    }
   ],
   "source": [
    "\"P\" in s"
   ]
  },
  {
   "cell_type": "code",
   "execution_count": 71,
   "id": "e6038649",
   "metadata": {},
   "outputs": [
    {
     "data": {
      "text/plain": [
       "False"
      ]
     },
     "execution_count": 71,
     "metadata": {},
     "output_type": "execute_result"
    }
   ],
   "source": [
    "\"P\" not in s"
   ]
  },
  {
   "cell_type": "code",
   "execution_count": 74,
   "id": "bfe9ed58",
   "metadata": {},
   "outputs": [
    {
     "data": {
      "text/plain": [
       "True"
      ]
     },
     "execution_count": 74,
     "metadata": {},
     "output_type": "execute_result"
    }
   ],
   "source": [
    "\"P\" in s"
   ]
  },
  {
   "cell_type": "code",
   "execution_count": 75,
   "id": "99c24588",
   "metadata": {},
   "outputs": [
    {
     "data": {
      "text/plain": [
       "True"
      ]
     },
     "execution_count": 75,
     "metadata": {},
     "output_type": "execute_result"
    }
   ],
   "source": [
    "\"T\" in s"
   ]
  },
  {
   "cell_type": "code",
   "execution_count": 72,
   "id": "0bff9876",
   "metadata": {},
   "outputs": [
    {
     "data": {
      "text/plain": [
       "False"
      ]
     },
     "execution_count": 72,
     "metadata": {},
     "output_type": "execute_result"
    }
   ],
   "source": [
    "\"T\" not in s"
   ]
  },
  {
   "cell_type": "code",
   "execution_count": 73,
   "id": "231781dd",
   "metadata": {},
   "outputs": [
    {
     "data": {
      "text/plain": [
       "True"
      ]
     },
     "execution_count": 73,
     "metadata": {},
     "output_type": "execute_result"
    }
   ],
   "source": [
    "\"H\" in s"
   ]
  },
  {
   "cell_type": "code",
   "execution_count": 76,
   "id": "45e0708b",
   "metadata": {},
   "outputs": [
    {
     "data": {
      "text/plain": [
       "False"
      ]
     },
     "execution_count": 76,
     "metadata": {},
     "output_type": "execute_result"
    }
   ],
   "source": [
    "\"H\" not in s"
   ]
  },
  {
   "cell_type": "code",
   "execution_count": 77,
   "id": "d603dc3e",
   "metadata": {},
   "outputs": [
    {
     "data": {
      "text/plain": [
       "True"
      ]
     },
     "execution_count": 77,
     "metadata": {},
     "output_type": "execute_result"
    }
   ],
   "source": [
    "\"O\" in s"
   ]
  },
  {
   "cell_type": "code",
   "execution_count": 78,
   "id": "c7468fb9",
   "metadata": {},
   "outputs": [
    {
     "data": {
      "text/plain": [
       "False"
      ]
     },
     "execution_count": 78,
     "metadata": {},
     "output_type": "execute_result"
    }
   ],
   "source": [
    "\"o\" in s"
   ]
  },
  {
   "cell_type": "code",
   "execution_count": 79,
   "id": "c5a998aa",
   "metadata": {},
   "outputs": [
    {
     "data": {
      "text/plain": [
       "False"
      ]
     },
     "execution_count": 79,
     "metadata": {},
     "output_type": "execute_result"
    }
   ],
   "source": [
    "\"O\" not in s"
   ]
  },
  {
   "cell_type": "code",
   "execution_count": 80,
   "id": "4d077751",
   "metadata": {},
   "outputs": [
    {
     "data": {
      "text/plain": [
       "True"
      ]
     },
     "execution_count": 80,
     "metadata": {},
     "output_type": "execute_result"
    }
   ],
   "source": [
    "\"N\" in s"
   ]
  },
  {
   "cell_type": "code",
   "execution_count": 81,
   "id": "a93a3ad7",
   "metadata": {},
   "outputs": [
    {
     "data": {
      "text/plain": [
       "True"
      ]
     },
     "execution_count": 81,
     "metadata": {},
     "output_type": "execute_result"
    }
   ],
   "source": [
    "\"N\" in s"
   ]
  },
  {
   "cell_type": "code",
   "execution_count": 82,
   "id": "5f06bde9",
   "metadata": {},
   "outputs": [
    {
     "data": {
      "text/plain": [
       "True"
      ]
     },
     "execution_count": 82,
     "metadata": {},
     "output_type": "execute_result"
    }
   ],
   "source": [
    "\"TH\" in s"
   ]
  },
  {
   "cell_type": "code",
   "execution_count": 83,
   "id": "82e569ca",
   "metadata": {},
   "outputs": [
    {
     "data": {
      "text/plain": [
       "False"
      ]
     },
     "execution_count": 83,
     "metadata": {},
     "output_type": "execute_result"
    }
   ],
   "source": [
    "\"PO\" in s"
   ]
  },
  {
   "cell_type": "code",
   "execution_count": 84,
   "id": "f0f3bec0",
   "metadata": {},
   "outputs": [
    {
     "data": {
      "text/plain": [
       "True"
      ]
     },
     "execution_count": 84,
     "metadata": {},
     "output_type": "execute_result"
    }
   ],
   "source": [
    "\"THON\" in s"
   ]
  },
  {
   "cell_type": "code",
   "execution_count": 85,
   "id": "fecdeb33",
   "metadata": {},
   "outputs": [
    {
     "data": {
      "text/plain": [
       "True"
      ]
     },
     "execution_count": 85,
     "metadata": {},
     "output_type": "execute_result"
    }
   ],
   "source": [
    "\"THON\" in s"
   ]
  },
  {
   "cell_type": "code",
   "execution_count": 86,
   "id": "e607e7f3",
   "metadata": {},
   "outputs": [
    {
     "data": {
      "text/plain": [
       "False"
      ]
     },
     "execution_count": 86,
     "metadata": {},
     "output_type": "execute_result"
    }
   ],
   "source": [
    "\"PTO\" in s"
   ]
  },
  {
   "cell_type": "code",
   "execution_count": 87,
   "id": "224bbd57",
   "metadata": {},
   "outputs": [
    {
     "data": {
      "text/plain": [
       "False"
      ]
     },
     "execution_count": 87,
     "metadata": {},
     "output_type": "execute_result"
    }
   ],
   "source": [
    "\"YON\" in s"
   ]
  },
  {
   "cell_type": "code",
   "execution_count": 88,
   "id": "92bed0d9",
   "metadata": {},
   "outputs": [
    {
     "data": {
      "text/plain": [
       "False"
      ]
     },
     "execution_count": 88,
     "metadata": {},
     "output_type": "execute_result"
    }
   ],
   "source": [
    "\"NOH\" in s"
   ]
  },
  {
   "cell_type": "code",
   "execution_count": 96,
   "id": "f557f143",
   "metadata": {},
   "outputs": [
    {
     "data": {
      "text/plain": [
       "True"
      ]
     },
     "execution_count": 96,
     "metadata": {},
     "output_type": "execute_result"
    }
   ],
   "source": [
    "\"NOH\" not in s"
   ]
  },
  {
   "cell_type": "code",
   "execution_count": 89,
   "id": "af6c266e",
   "metadata": {},
   "outputs": [
    {
     "data": {
      "text/plain": [
       "True"
      ]
     },
     "execution_count": 89,
     "metadata": {},
     "output_type": "execute_result"
    }
   ],
   "source": [
    "\"HON\" in s"
   ]
  },
  {
   "cell_type": "code",
   "execution_count": 95,
   "id": "a1565952",
   "metadata": {},
   "outputs": [
    {
     "data": {
      "text/plain": [
       "False"
      ]
     },
     "execution_count": 95,
     "metadata": {},
     "output_type": "execute_result"
    }
   ],
   "source": [
    "\"HON\" not in s"
   ]
  },
  {
   "cell_type": "code",
   "execution_count": 90,
   "id": "da5cd419",
   "metadata": {},
   "outputs": [
    {
     "data": {
      "text/plain": [
       "True"
      ]
     },
     "execution_count": 90,
     "metadata": {},
     "output_type": "execute_result"
    }
   ],
   "source": [
    "\"PYT\" in s"
   ]
  },
  {
   "cell_type": "code",
   "execution_count": 91,
   "id": "0b4f451b",
   "metadata": {},
   "outputs": [
    {
     "data": {
      "text/plain": [
       "True"
      ]
     },
     "execution_count": 91,
     "metadata": {},
     "output_type": "execute_result"
    }
   ],
   "source": [
    "\"YTHON\" in s"
   ]
  },
  {
   "cell_type": "code",
   "execution_count": 92,
   "id": "d9cf2192",
   "metadata": {},
   "outputs": [
    {
     "data": {
      "text/plain": [
       "False"
      ]
     },
     "execution_count": 92,
     "metadata": {},
     "output_type": "execute_result"
    }
   ],
   "source": [
    "\"PYON\" in s"
   ]
  },
  {
   "cell_type": "code",
   "execution_count": 94,
   "id": "83938767",
   "metadata": {},
   "outputs": [
    {
     "data": {
      "text/plain": [
       "True"
      ]
     },
     "execution_count": 94,
     "metadata": {},
     "output_type": "execute_result"
    }
   ],
   "source": [
    "\"PYON\" not in s"
   ]
  },
  {
   "cell_type": "code",
   "execution_count": 98,
   "id": "e64fd50d",
   "metadata": {},
   "outputs": [
    {
     "data": {
      "text/plain": [
       "True"
      ]
     },
     "execution_count": 98,
     "metadata": {},
     "output_type": "execute_result"
    }
   ],
   "source": [
    "\"NOH\" in s[::-1]             # s[::-1] gives reverse of s --> NOHTYP"
   ]
  },
  {
   "cell_type": "code",
   "execution_count": 99,
   "id": "588cfaa8",
   "metadata": {},
   "outputs": [],
   "source": [
    "l1=[10,20,30,\"python\",\"PYTHON\"]"
   ]
  },
  {
   "cell_type": "code",
   "execution_count": 100,
   "id": "52135c94",
   "metadata": {},
   "outputs": [
    {
     "data": {
      "text/plain": [
       "True"
      ]
     },
     "execution_count": 100,
     "metadata": {},
     "output_type": "execute_result"
    }
   ],
   "source": [
    "\"python\" in l1"
   ]
  },
  {
   "cell_type": "code",
   "execution_count": 101,
   "id": "be24a40f",
   "metadata": {},
   "outputs": [
    {
     "data": {
      "text/plain": [
       "False"
      ]
     },
     "execution_count": 101,
     "metadata": {},
     "output_type": "execute_result"
    }
   ],
   "source": [
    "\"PYTH\" in l1"
   ]
  },
  {
   "cell_type": "code",
   "execution_count": 102,
   "id": "3a1405bc",
   "metadata": {},
   "outputs": [
    {
     "data": {
      "text/plain": [
       "True"
      ]
     },
     "execution_count": 102,
     "metadata": {},
     "output_type": "execute_result"
    }
   ],
   "source": [
    "\"pyt\" in l1[3]     #l1[3] --> \"python\""
   ]
  },
  {
   "cell_type": "code",
   "execution_count": 103,
   "id": "bc9f937e",
   "metadata": {},
   "outputs": [
    {
     "data": {
      "text/plain": [
       "True"
      ]
     },
     "execution_count": 103,
     "metadata": {},
     "output_type": "execute_result"
    }
   ],
   "source": [
    "\"PYT\" in l1[4]"
   ]
  },
  {
   "cell_type": "code",
   "execution_count": 104,
   "id": "c356ae9c",
   "metadata": {},
   "outputs": [
    {
     "data": {
      "text/plain": [
       "False"
      ]
     },
     "execution_count": 104,
     "metadata": {},
     "output_type": "execute_result"
    }
   ],
   "source": [
    "\"PYT\" not in l1[4]"
   ]
  },
  {
   "cell_type": "code",
   "execution_count": 105,
   "id": "379494b9",
   "metadata": {},
   "outputs": [
    {
     "data": {
      "text/plain": [
       "True"
      ]
     },
     "execution_count": 105,
     "metadata": {},
     "output_type": "execute_result"
    }
   ],
   "source": [
    "\"noh\" not in l1[3]"
   ]
  },
  {
   "cell_type": "code",
   "execution_count": 109,
   "id": "6968b731",
   "metadata": {},
   "outputs": [
    {
     "data": {
      "text/plain": [
       "True"
      ]
     },
     "execution_count": 109,
     "metadata": {},
     "output_type": "execute_result"
    }
   ],
   "source": [
    "\"noh\" in l1[3][::-1]         #l1[3][::-1]  -->    nohtyp"
   ]
  },
  {
   "cell_type": "markdown",
   "id": "eb2ddb4c",
   "metadata": {},
   "source": [
    "**Identity operators**  - To compare the memory address of objects\n",
    "- is -> If obj1 memory address = to obj2 memory address\n",
    "- is not -> If obj1 memory address Not equal to obj2 memory address"
   ]
  },
  {
   "cell_type": "code",
   "execution_count": 110,
   "id": "19a81264",
   "metadata": {},
   "outputs": [
    {
     "name": "stdout",
     "output_type": "stream",
     "text": [
      "python 1883592163568\n",
      "python 1883592163568\n"
     ]
    }
   ],
   "source": [
    "a='python'\n",
    "b='python'\n",
    "print(a,id(a))\n",
    "print(b,id(b))\n",
    "\n",
    "#Deep copy (For is -> it will return True else False for is not operator)"
   ]
  },
  {
   "cell_type": "code",
   "execution_count": 117,
   "id": "adc42bfc",
   "metadata": {},
   "outputs": [
    {
     "name": "stdout",
     "output_type": "stream",
     "text": [
      "True\n"
     ]
    }
   ],
   "source": [
    "c=a is b       #comparing a with b \n",
    "print(c)       #it returns True , since a('python') & b('python') have same memory address"
   ]
  },
  {
   "cell_type": "code",
   "execution_count": 118,
   "id": "89218159",
   "metadata": {},
   "outputs": [
    {
     "name": "stdout",
     "output_type": "stream",
     "text": [
      "False\n"
     ]
    }
   ],
   "source": [
    "c=a is not b\n",
    "print(c)"
   ]
  },
  {
   "cell_type": "code",
   "execution_count": 119,
   "id": "001c91bb",
   "metadata": {},
   "outputs": [
    {
     "name": "stdout",
     "output_type": "stream",
     "text": [
      "hello 1883620391984\n",
      "hiiii 1883640772464\n"
     ]
    }
   ],
   "source": [
    "a='hello'\n",
    "b=\"hiiii\"\n",
    "print(a,id(a))\n",
    "print(b,id(b))"
   ]
  },
  {
   "cell_type": "code",
   "execution_count": 120,
   "id": "fa0f9328",
   "metadata": {},
   "outputs": [
    {
     "data": {
      "text/plain": [
       "False"
      ]
     },
     "execution_count": 120,
     "metadata": {},
     "output_type": "execute_result"
    }
   ],
   "source": [
    "c=a is b\n",
    "c"
   ]
  },
  {
   "cell_type": "code",
   "execution_count": 121,
   "id": "2dfc138a",
   "metadata": {},
   "outputs": [
    {
     "data": {
      "text/plain": [
       "True"
      ]
     },
     "execution_count": 121,
     "metadata": {},
     "output_type": "execute_result"
    }
   ],
   "source": [
    "c=a is not b\n",
    "c"
   ]
  },
  {
   "cell_type": "code",
   "execution_count": 122,
   "id": "f39b147e",
   "metadata": {},
   "outputs": [
    {
     "name": "stdout",
     "output_type": "stream",
     "text": [
      "None 140714756238064\n",
      "None 140714756238064\n"
     ]
    }
   ],
   "source": [
    "a=None\n",
    "b=None\n",
    "print(a,id(a))\n",
    "print(b,id(b))"
   ]
  },
  {
   "cell_type": "code",
   "execution_count": 123,
   "id": "d360f9c2",
   "metadata": {},
   "outputs": [
    {
     "data": {
      "text/plain": [
       "True"
      ]
     },
     "execution_count": 123,
     "metadata": {},
     "output_type": "execute_result"
    }
   ],
   "source": [
    "c=a is b        #comparing memory address of a with b (since both are same, it returns True)\n",
    "c"
   ]
  },
  {
   "cell_type": "code",
   "execution_count": 124,
   "id": "ffb48a5c",
   "metadata": {},
   "outputs": [
    {
     "data": {
      "text/plain": [
       "False"
      ]
     },
     "execution_count": 124,
     "metadata": {},
     "output_type": "execute_result"
    }
   ],
   "source": [
    "a is not b"
   ]
  },
  {
   "cell_type": "code",
   "execution_count": 128,
   "id": "3bcca095",
   "metadata": {},
   "outputs": [
    {
     "name": "stdout",
     "output_type": "stream",
     "text": [
      "1883657806400\n",
      "1883646962432\n"
     ]
    }
   ],
   "source": [
    "#dict data type\n",
    "d1={10:\"apple\",20:\"orange\"}\n",
    "d2={10:\"apple\",20:\"orange\"}\n",
    "print(id(d1))      #memory address is different for d1 &d2\n",
    "print(id(d2))"
   ]
  },
  {
   "cell_type": "code",
   "execution_count": 126,
   "id": "d9e9cfa7",
   "metadata": {},
   "outputs": [
    {
     "data": {
      "text/plain": [
       "False"
      ]
     },
     "execution_count": 126,
     "metadata": {},
     "output_type": "execute_result"
    }
   ],
   "source": [
    "d1 is d2"
   ]
  },
  {
   "cell_type": "code",
   "execution_count": 127,
   "id": "e5240750",
   "metadata": {},
   "outputs": [
    {
     "data": {
      "text/plain": [
       "True"
      ]
     },
     "execution_count": 127,
     "metadata": {},
     "output_type": "execute_result"
    }
   ],
   "source": [
    "d1 is not d2"
   ]
  },
  {
   "cell_type": "markdown",
   "id": "3dc7d85e",
   "metadata": {},
   "source": [
    "- if two objects of dict are same , if \"is\" operator is applied, it returns False (Since Memory address is getting varied)\n",
    "- if two objects of dict are same , if \"is not\" operator is applied, it returns True (Since Memory address is getting varied)\n"
   ]
  },
  {
   "cell_type": "code",
   "execution_count": 132,
   "id": "26da48c6",
   "metadata": {},
   "outputs": [
    {
     "name": "stdout",
     "output_type": "stream",
     "text": [
      "{10, 20, 30} 1883657633376\n",
      "{10, 20, 30} 1883658177216\n"
     ]
    }
   ],
   "source": [
    "#set\n",
    "\n",
    "s1={10,20,30}\n",
    "s2={10,20,30}\n",
    "print(s1,id(s1))\n",
    "print(s2,id(s2))"
   ]
  },
  {
   "cell_type": "code",
   "execution_count": 130,
   "id": "c4c10a4a",
   "metadata": {},
   "outputs": [
    {
     "data": {
      "text/plain": [
       "False"
      ]
     },
     "execution_count": 130,
     "metadata": {},
     "output_type": "execute_result"
    }
   ],
   "source": [
    "s1 is s2      #since set s1 & s2 are varied ,it returns False"
   ]
  },
  {
   "cell_type": "code",
   "execution_count": 131,
   "id": "7b84c3ba",
   "metadata": {},
   "outputs": [
    {
     "data": {
      "text/plain": [
       "True"
      ]
     },
     "execution_count": 131,
     "metadata": {},
     "output_type": "execute_result"
    }
   ],
   "source": [
    "s1 is not s2"
   ]
  },
  {
   "cell_type": "code",
   "execution_count": 133,
   "id": "052a70ae",
   "metadata": {},
   "outputs": [
    {
     "name": "stdout",
     "output_type": "stream",
     "text": [
      "frozenset({10, 20, 30}) 1883658179232\n",
      "frozenset({10, 20, 30}) 1883658178560\n"
     ]
    }
   ],
   "source": [
    "#frozen set\n",
    "\n",
    "fs1=frozenset(s1)\n",
    "fs2=frozenset(s2)\n",
    "print(fs1,id(fs1))\n",
    "print(fs2,id(fs2))"
   ]
  },
  {
   "cell_type": "code",
   "execution_count": 134,
   "id": "28dea0c9",
   "metadata": {},
   "outputs": [
    {
     "data": {
      "text/plain": [
       "False"
      ]
     },
     "execution_count": 134,
     "metadata": {},
     "output_type": "execute_result"
    }
   ],
   "source": [
    "fs1 is fs2"
   ]
  },
  {
   "cell_type": "code",
   "execution_count": 135,
   "id": "f0bed522",
   "metadata": {},
   "outputs": [
    {
     "data": {
      "text/plain": [
       "True"
      ]
     },
     "execution_count": 135,
     "metadata": {},
     "output_type": "execute_result"
    }
   ],
   "source": [
    "fs1 is not fs2"
   ]
  },
  {
   "cell_type": "markdown",
   "id": "824dea73",
   "metadata": {},
   "source": [
    "- if two objects of set & frozenset are same , if \"is\" operator is applied, it returns False (Since Memory address is getting varied)\n",
    "- if two objects of set & frozenset are same , if \"is not\" operator is applied, it returns True (Since Memory address is getting varied)\n"
   ]
  },
  {
   "cell_type": "code",
   "execution_count": 137,
   "id": "b1b057d2",
   "metadata": {},
   "outputs": [
    {
     "name": "stdout",
     "output_type": "stream",
     "text": [
      "1883658457280\n",
      "1883654765184\n"
     ]
    }
   ],
   "source": [
    "#list\n",
    "l1=[10,\"Rossum\",\"Python\"]\n",
    "l2=[10,\"Rossum\",\"Python\"]\n",
    "print(id(l1))\n",
    "print(id(l2))"
   ]
  },
  {
   "cell_type": "code",
   "execution_count": 138,
   "id": "a04e536e",
   "metadata": {},
   "outputs": [
    {
     "data": {
      "text/plain": [
       "False"
      ]
     },
     "execution_count": 138,
     "metadata": {},
     "output_type": "execute_result"
    }
   ],
   "source": [
    "l1 is l2"
   ]
  },
  {
   "cell_type": "code",
   "execution_count": 139,
   "id": "32f52d78",
   "metadata": {},
   "outputs": [
    {
     "data": {
      "text/plain": [
       "True"
      ]
     },
     "execution_count": 139,
     "metadata": {},
     "output_type": "execute_result"
    }
   ],
   "source": [
    "l1 is not l2"
   ]
  },
  {
   "cell_type": "code",
   "execution_count": 140,
   "id": "5661feab",
   "metadata": {},
   "outputs": [
    {
     "name": "stdout",
     "output_type": "stream",
     "text": [
      "(10, 'Rossum', 'Python') 1883658899008\n",
      "(10, 'Rossum', 'Python') 1883658898624\n"
     ]
    }
   ],
   "source": [
    "#tuple\n",
    "t1=tuple(l1)\n",
    "t2=tuple(l2)\n",
    "print(t1,id(t1))\n",
    "print(t2,id(t2))"
   ]
  },
  {
   "cell_type": "code",
   "execution_count": 141,
   "id": "3ea3903f",
   "metadata": {},
   "outputs": [
    {
     "data": {
      "text/plain": [
       "False"
      ]
     },
     "execution_count": 141,
     "metadata": {},
     "output_type": "execute_result"
    }
   ],
   "source": [
    "t1 is t2"
   ]
  },
  {
   "cell_type": "code",
   "execution_count": 142,
   "id": "8a4b2124",
   "metadata": {},
   "outputs": [
    {
     "data": {
      "text/plain": [
       "True"
      ]
     },
     "execution_count": 142,
     "metadata": {},
     "output_type": "execute_result"
    }
   ],
   "source": [
    "t1 is not t2"
   ]
  },
  {
   "cell_type": "code",
   "execution_count": 143,
   "id": "446436bd",
   "metadata": {},
   "outputs": [
    {
     "name": "stdout",
     "output_type": "stream",
     "text": [
      "range(10, 20) 1883642976352\n",
      "range(10, 20) 1883642975536\n"
     ]
    }
   ],
   "source": [
    "#range\n",
    "r1=range(10,20)\n",
    "r2=range(10,20)\n",
    "print(r1,id(r1))\n",
    "print(r2,id(r2))"
   ]
  },
  {
   "cell_type": "code",
   "execution_count": 144,
   "id": "3382729a",
   "metadata": {},
   "outputs": [
    {
     "data": {
      "text/plain": [
       "False"
      ]
     },
     "execution_count": 144,
     "metadata": {},
     "output_type": "execute_result"
    }
   ],
   "source": [
    "r1 is r2"
   ]
  },
  {
   "cell_type": "code",
   "execution_count": 145,
   "id": "4771d878",
   "metadata": {},
   "outputs": [
    {
     "data": {
      "text/plain": [
       "True"
      ]
     },
     "execution_count": 145,
     "metadata": {},
     "output_type": "execute_result"
    }
   ],
   "source": [
    "r1 is not r2"
   ]
  },
  {
   "cell_type": "code",
   "execution_count": 159,
   "id": "8a83bcf9",
   "metadata": {},
   "outputs": [
    {
     "name": "stdout",
     "output_type": "stream",
     "text": [
      "b'\\n\\x14' 1883640623680\n",
      "b'\\x1e(' 1883642977888\n"
     ]
    }
   ],
   "source": [
    "#Bytes\n",
    "b1=[10,20]\n",
    "b2=[10,10]\n",
    "a=bytes(l1)\n",
    "b=bytes(l2)\n",
    "print(a,id(a))\n",
    "print(b,id(b))"
   ]
  },
  {
   "cell_type": "code",
   "execution_count": 160,
   "id": "21479bb2",
   "metadata": {},
   "outputs": [
    {
     "data": {
      "text/plain": [
       "False"
      ]
     },
     "execution_count": 160,
     "metadata": {},
     "output_type": "execute_result"
    }
   ],
   "source": [
    "b1 is b2"
   ]
  },
  {
   "cell_type": "code",
   "execution_count": 161,
   "id": "c0f66515",
   "metadata": {},
   "outputs": [
    {
     "data": {
      "text/plain": [
       "True"
      ]
     },
     "execution_count": 161,
     "metadata": {},
     "output_type": "execute_result"
    }
   ],
   "source": [
    "b1 is not b2"
   ]
  },
  {
   "cell_type": "code",
   "execution_count": 162,
   "id": "2fad9c22",
   "metadata": {},
   "outputs": [
    {
     "name": "stdout",
     "output_type": "stream",
     "text": [
      "bytearray(b'\\n\\x14') 1883655302064\n",
      "bytearray(b'\\x1e(') 1883655124080\n"
     ]
    }
   ],
   "source": [
    "#Byte array\n",
    "\n",
    "b1=[10,20]\n",
    "b2=[10,20]\n",
    "a=bytearray(l1)\n",
    "b=bytearray(l2)\n",
    "print(a,id(a))\n",
    "print(b,id(b))"
   ]
  },
  {
   "cell_type": "code",
   "execution_count": 163,
   "id": "620e9c0a",
   "metadata": {},
   "outputs": [
    {
     "data": {
      "text/plain": [
       "False"
      ]
     },
     "execution_count": 163,
     "metadata": {},
     "output_type": "execute_result"
    }
   ],
   "source": [
    "b1 is b2"
   ]
  },
  {
   "cell_type": "code",
   "execution_count": 164,
   "id": "98e56241",
   "metadata": {},
   "outputs": [
    {
     "data": {
      "text/plain": [
       "True"
      ]
     },
     "execution_count": 164,
     "metadata": {},
     "output_type": "execute_result"
    }
   ],
   "source": [
    "b1 is not b2"
   ]
  },
  {
   "cell_type": "markdown",
   "id": "38dba4e6",
   "metadata": {},
   "source": [
    "- if two objects of bytes & bytearray are same , if \"is\" operator is applied, it returns False (Since Memory address is getting varied)\n",
    "- if two objects of bytes & bytearray are same , if \"is not\" operator is applied, it returns True (Since Memory address is getting varied)\n"
   ]
  },
  {
   "cell_type": "code",
   "execution_count": 168,
   "id": "19be620e",
   "metadata": {},
   "outputs": [
    {
     "name": "stdout",
     "output_type": "stream",
     "text": [
      "INDIA 1883658488304\n",
      "INDIA 1883658488304\n"
     ]
    }
   ],
   "source": [
    "#str\n",
    "\n",
    "s1=\"INDIA\"\n",
    "s2=\"INDIA\"\n",
    "print(s1,id(s1))\n",
    "print(s2,id(s2))"
   ]
  },
  {
   "cell_type": "code",
   "execution_count": 169,
   "id": "b4a9d418",
   "metadata": {},
   "outputs": [
    {
     "data": {
      "text/plain": [
       "True"
      ]
     },
     "execution_count": 169,
     "metadata": {},
     "output_type": "execute_result"
    }
   ],
   "source": [
    "s1 is s2     #same memory address, so it returns True"
   ]
  },
  {
   "cell_type": "code",
   "execution_count": 170,
   "id": "a21ec929",
   "metadata": {},
   "outputs": [
    {
     "data": {
      "text/plain": [
       "False"
      ]
     },
     "execution_count": 170,
     "metadata": {},
     "output_type": "execute_result"
    }
   ],
   "source": [
    "s1 is not s2"
   ]
  },
  {
   "cell_type": "markdown",
   "id": "6018c205",
   "metadata": {},
   "source": [
    "- if two objects of str are same(Same case,same meaning & same order) , if \"is\" operator is applied, it returns True (Since Memory address is getting varied)\n",
    "- if two objects of str are same(Same case,same meaning & same order) , if \"is not\" operator is applied, it returns False (Since Memory address is getting varied)\n"
   ]
  },
  {
   "cell_type": "code",
   "execution_count": 171,
   "id": "1e7d8ece",
   "metadata": {},
   "outputs": [
    {
     "data": {
      "text/plain": [
       "False"
      ]
     },
     "execution_count": 171,
     "metadata": {},
     "output_type": "execute_result"
    }
   ],
   "source": [
    "s3=\"python\"\n",
    "s1 is s3       #s1 is \"INDIA\" & s3 is \"python\" -> both the memory address are dfrnt, so it returns False"
   ]
  },
  {
   "cell_type": "code",
   "execution_count": 172,
   "id": "8dc5521e",
   "metadata": {},
   "outputs": [
    {
     "data": {
      "text/plain": [
       "True"
      ]
     },
     "execution_count": 172,
     "metadata": {},
     "output_type": "execute_result"
    }
   ],
   "source": [
    "s1 is not s3"
   ]
  },
  {
   "cell_type": "code",
   "execution_count": 182,
   "id": "bd9dc7e5",
   "metadata": {},
   "outputs": [
    {
     "name": "stdout",
     "output_type": "stream",
     "text": [
      "2.0 1883658126416\n",
      "2.0 1883658127440\n"
     ]
    }
   ],
   "source": [
    "#complex\n",
    "a=2+3j\n",
    "b=2+3j\n",
    "print(a.real,id(a))        #internally, if we print a.real it might vary so dfrnt memory address\n",
    "print(b.real,id(b))"
   ]
  },
  {
   "cell_type": "code",
   "execution_count": 175,
   "id": "a1cdb0af",
   "metadata": {},
   "outputs": [
    {
     "data": {
      "text/plain": [
       "False"
      ]
     },
     "execution_count": 175,
     "metadata": {},
     "output_type": "execute_result"
    }
   ],
   "source": [
    "a is b"
   ]
  },
  {
   "cell_type": "code",
   "execution_count": 176,
   "id": "74d62275",
   "metadata": {},
   "outputs": [
    {
     "data": {
      "text/plain": [
       "True"
      ]
     },
     "execution_count": 176,
     "metadata": {},
     "output_type": "execute_result"
    }
   ],
   "source": [
    "a is not b"
   ]
  },
  {
   "cell_type": "code",
   "execution_count": 179,
   "id": "ce166677",
   "metadata": {},
   "outputs": [
    {
     "name": "stdout",
     "output_type": "stream",
     "text": [
      "10 <class 'int'> 140714757624904\n",
      "10 140714757624904\n"
     ]
    }
   ],
   "source": [
    "#int\n",
    "a=10\n",
    "b=10\n",
    "print(a,type(a),id(a))\n",
    "print(b,id(b))"
   ]
  },
  {
   "cell_type": "code",
   "execution_count": 180,
   "id": "0ad46fa9",
   "metadata": {},
   "outputs": [
    {
     "data": {
      "text/plain": [
       "True"
      ]
     },
     "execution_count": 180,
     "metadata": {},
     "output_type": "execute_result"
    }
   ],
   "source": [
    "a is b"
   ]
  },
  {
   "cell_type": "code",
   "execution_count": 181,
   "id": "d5033981",
   "metadata": {},
   "outputs": [
    {
     "data": {
      "text/plain": [
       "False"
      ]
     },
     "execution_count": 181,
     "metadata": {},
     "output_type": "execute_result"
    }
   ],
   "source": [
    "a is not b"
   ]
  },
  {
   "cell_type": "code",
   "execution_count": 186,
   "id": "c762d028",
   "metadata": {},
   "outputs": [
    {
     "name": "stdout",
     "output_type": "stream",
     "text": [
      "140714757632776\n",
      "140714757632776\n"
     ]
    }
   ],
   "source": [
    "a=256\n",
    "b=256\n",
    "print(id(a))\n",
    "print(id(b))"
   ]
  },
  {
   "cell_type": "code",
   "execution_count": 187,
   "id": "078db481",
   "metadata": {},
   "outputs": [
    {
     "data": {
      "text/plain": [
       "True"
      ]
     },
     "execution_count": 187,
     "metadata": {},
     "output_type": "execute_result"
    }
   ],
   "source": [
    "a is b"
   ]
  },
  {
   "cell_type": "code",
   "execution_count": 188,
   "id": "1668395a",
   "metadata": {},
   "outputs": [
    {
     "data": {
      "text/plain": [
       "False"
      ]
     },
     "execution_count": 188,
     "metadata": {},
     "output_type": "execute_result"
    }
   ],
   "source": [
    "a is not b"
   ]
  },
  {
   "cell_type": "code",
   "execution_count": 189,
   "id": "4f345e7b",
   "metadata": {},
   "outputs": [
    {
     "name": "stdout",
     "output_type": "stream",
     "text": [
      "1883658131472\n",
      "1883658131824\n"
     ]
    }
   ],
   "source": [
    "#\n",
    "a=257\n",
    "b=257\n",
    "print(id(a))\n",
    "print(id(b))"
   ]
  },
  {
   "cell_type": "code",
   "execution_count": 190,
   "id": "41f4e5e7",
   "metadata": {},
   "outputs": [
    {
     "data": {
      "text/plain": [
       "False"
      ]
     },
     "execution_count": 190,
     "metadata": {},
     "output_type": "execute_result"
    }
   ],
   "source": [
    "#different memory address\n",
    "a is b"
   ]
  },
  {
   "cell_type": "code",
   "execution_count": 191,
   "id": "ce5cbaca",
   "metadata": {},
   "outputs": [
    {
     "data": {
      "text/plain": [
       "True"
      ]
     },
     "execution_count": 191,
     "metadata": {},
     "output_type": "execute_result"
    }
   ],
   "source": [
    "a is not b"
   ]
  },
  {
   "cell_type": "markdown",
   "id": "27fbed48",
   "metadata": {},
   "source": [
    "- if two objects of int are same, if \"is\" operator is applied, it returns True (Since Memory address is getting varied)\n",
    "- if two objects of int are same, if \"is not\" operator is applied, it returns False (Since Memory address is getting varied)\n",
    "\n",
    "- Values from 0 to 256 gets stored in same memory address, hence if \"is\" operator is applied, it returns True & if \"is not\" operator is applied, it returns False\n",
    "\n",
    "- Values after 256 gets stored in dfrnt memory address, hence if \"is\" operator is applied, it returns False & if \"is not\" operator is applied, it returns True\n"
   ]
  },
  {
   "cell_type": "code",
   "execution_count": 208,
   "id": "a1f918f3",
   "metadata": {},
   "outputs": [
    {
     "name": "stdout",
     "output_type": "stream",
     "text": [
      "1883658131632\n",
      "1883658131984\n"
     ]
    }
   ],
   "source": [
    "a=-1\n",
    "b=-1\n",
    "print(id(a))\n",
    "print(id(b))\n"
   ]
  },
  {
   "cell_type": "code",
   "execution_count": 195,
   "id": "15699fa4",
   "metadata": {},
   "outputs": [
    {
     "data": {
      "text/plain": [
       "True"
      ]
     },
     "execution_count": 195,
     "metadata": {},
     "output_type": "execute_result"
    }
   ],
   "source": [
    "a is b"
   ]
  },
  {
   "cell_type": "code",
   "execution_count": 196,
   "id": "7113cddd",
   "metadata": {},
   "outputs": [
    {
     "data": {
      "text/plain": [
       "False"
      ]
     },
     "execution_count": 196,
     "metadata": {},
     "output_type": "execute_result"
    }
   ],
   "source": [
    "a is not b"
   ]
  },
  {
   "cell_type": "code",
   "execution_count": 197,
   "id": "56ab5814",
   "metadata": {},
   "outputs": [
    {
     "name": "stdout",
     "output_type": "stream",
     "text": [
      "140714757624424\n",
      "140714757624424\n"
     ]
    }
   ],
   "source": [
    "a=-5\n",
    "b=-5\n",
    "print(id(a))\n",
    "print(id(b))"
   ]
  },
  {
   "cell_type": "code",
   "execution_count": 198,
   "id": "63e79c19",
   "metadata": {},
   "outputs": [
    {
     "data": {
      "text/plain": [
       "True"
      ]
     },
     "execution_count": 198,
     "metadata": {},
     "output_type": "execute_result"
    }
   ],
   "source": [
    "a is b"
   ]
  },
  {
   "cell_type": "code",
   "execution_count": 199,
   "id": "3a96c58a",
   "metadata": {},
   "outputs": [
    {
     "data": {
      "text/plain": [
       "False"
      ]
     },
     "execution_count": 199,
     "metadata": {},
     "output_type": "execute_result"
    }
   ],
   "source": [
    "a is not b"
   ]
  },
  {
   "cell_type": "code",
   "execution_count": 200,
   "id": "163710c2",
   "metadata": {},
   "outputs": [
    {
     "name": "stdout",
     "output_type": "stream",
     "text": [
      "1883658127440\n",
      "1883658127344\n"
     ]
    }
   ],
   "source": [
    "a=-9\n",
    "b=-9\n",
    "print(id(a))\n",
    "print(id(b))"
   ]
  },
  {
   "cell_type": "code",
   "execution_count": 201,
   "id": "7df6e584",
   "metadata": {},
   "outputs": [
    {
     "data": {
      "text/plain": [
       "False"
      ]
     },
     "execution_count": 201,
     "metadata": {},
     "output_type": "execute_result"
    }
   ],
   "source": [
    "a is b"
   ]
  },
  {
   "cell_type": "code",
   "execution_count": 202,
   "id": "019aac9e",
   "metadata": {},
   "outputs": [
    {
     "data": {
      "text/plain": [
       "True"
      ]
     },
     "execution_count": 202,
     "metadata": {},
     "output_type": "execute_result"
    }
   ],
   "source": [
    "a is not b"
   ]
  },
  {
   "cell_type": "markdown",
   "id": "64f9ba8c",
   "metadata": {},
   "source": [
    "- In negative values, only -1 to -5 stores same memory address. Hence if \"is\" operator is applied, it returns True & if \"is not\" operator is applied, it returns False"
   ]
  },
  {
   "cell_type": "code",
   "execution_count": 192,
   "id": "157e17d3",
   "metadata": {},
   "outputs": [
    {
     "name": "stdout",
     "output_type": "stream",
     "text": [
      "1883653889616\n",
      "1883653889584\n"
     ]
    }
   ],
   "source": [
    "#float\n",
    "\n",
    "a=12.3\n",
    "b=12.3\n",
    "print(id(a))\n",
    "print(id(b))"
   ]
  },
  {
   "cell_type": "code",
   "execution_count": 184,
   "id": "0d415f9c",
   "metadata": {},
   "outputs": [
    {
     "data": {
      "text/plain": [
       "False"
      ]
     },
     "execution_count": 184,
     "metadata": {},
     "output_type": "execute_result"
    }
   ],
   "source": [
    "a is b"
   ]
  },
  {
   "cell_type": "code",
   "execution_count": 185,
   "id": "c905987d",
   "metadata": {},
   "outputs": [
    {
     "data": {
      "text/plain": [
       "True"
      ]
     },
     "execution_count": 185,
     "metadata": {},
     "output_type": "execute_result"
    }
   ],
   "source": [
    "a is not b"
   ]
  },
  {
   "cell_type": "markdown",
   "id": "168f116f",
   "metadata": {},
   "source": [
    "- if two objects of float,complex are same, if \"is\" operator is applied, it returns False (Since Memory address is getting varied)\n",
    "- if two objects of float,complex are same, if \"is not\" operator is applied, it returns True (Since Memory address is getting varied)\n"
   ]
  },
  {
   "cell_type": "code",
   "execution_count": 209,
   "id": "8c0cf4f8",
   "metadata": {},
   "outputs": [
    {
     "name": "stdout",
     "output_type": "stream",
     "text": [
      "140714756155936 140714756155936\n"
     ]
    }
   ],
   "source": [
    "#bool\n",
    "a=True\n",
    "b=True\n",
    "print(id(a),id(b))"
   ]
  },
  {
   "cell_type": "code",
   "execution_count": 210,
   "id": "9c0ffb46",
   "metadata": {},
   "outputs": [
    {
     "data": {
      "text/plain": [
       "True"
      ]
     },
     "execution_count": 210,
     "metadata": {},
     "output_type": "execute_result"
    }
   ],
   "source": [
    "a is b"
   ]
  },
  {
   "cell_type": "code",
   "execution_count": 211,
   "id": "417ad1e2",
   "metadata": {},
   "outputs": [
    {
     "data": {
      "text/plain": [
       "False"
      ]
     },
     "execution_count": 211,
     "metadata": {},
     "output_type": "execute_result"
    }
   ],
   "source": [
    "a is not b"
   ]
  },
  {
   "cell_type": "code",
   "execution_count": 212,
   "id": "b7d26cf8",
   "metadata": {},
   "outputs": [
    {
     "name": "stdout",
     "output_type": "stream",
     "text": [
      "140714756155968 140714756155968\n"
     ]
    }
   ],
   "source": [
    "a=False\n",
    "b=False\n",
    "print(id(a),id(b))"
   ]
  },
  {
   "cell_type": "code",
   "execution_count": 213,
   "id": "28485351",
   "metadata": {},
   "outputs": [
    {
     "data": {
      "text/plain": [
       "True"
      ]
     },
     "execution_count": 213,
     "metadata": {},
     "output_type": "execute_result"
    }
   ],
   "source": [
    "a is b"
   ]
  },
  {
   "cell_type": "code",
   "execution_count": 214,
   "id": "d916ea65",
   "metadata": {},
   "outputs": [
    {
     "data": {
      "text/plain": [
       "False"
      ]
     },
     "execution_count": 214,
     "metadata": {},
     "output_type": "execute_result"
    }
   ],
   "source": [
    "a is not b"
   ]
  },
  {
   "cell_type": "code",
   "execution_count": 215,
   "id": "854b6a85",
   "metadata": {},
   "outputs": [
    {
     "name": "stdout",
     "output_type": "stream",
     "text": [
      "1883658127344\n",
      "1883658127344\n"
     ]
    }
   ],
   "source": [
    "#Multi assignment operator\n",
    "\n",
    "a,b=300,300\n",
    "print(id(a))  #same memory address, while storing a=300, b =300, PVM takes 300 as a same value & hence same memory add' is stored\n",
    "print(id(b))"
   ]
  },
  {
   "cell_type": "code",
   "execution_count": 216,
   "id": "9d2a698e",
   "metadata": {},
   "outputs": [
    {
     "data": {
      "text/plain": [
       "True"
      ]
     },
     "execution_count": 216,
     "metadata": {},
     "output_type": "execute_result"
    }
   ],
   "source": [
    "a is b"
   ]
  },
  {
   "cell_type": "code",
   "execution_count": 217,
   "id": "5fea4053",
   "metadata": {},
   "outputs": [
    {
     "data": {
      "text/plain": [
       "False"
      ]
     },
     "execution_count": 217,
     "metadata": {},
     "output_type": "execute_result"
    }
   ],
   "source": [
    "a is not b"
   ]
  },
  {
   "cell_type": "code",
   "execution_count": 225,
   "id": "22d1537f",
   "metadata": {},
   "outputs": [
    {
     "name": "stdout",
     "output_type": "stream",
     "text": [
      "1883658132304\n",
      "1883658132304\n"
     ]
    }
   ],
   "source": [
    "#Negtve values (Any range is allowed)\n",
    "a,b=-10,-10\n",
    "print(id(a))\n",
    "print(id(b))"
   ]
  },
  {
   "cell_type": "code",
   "execution_count": 226,
   "id": "5de11c25",
   "metadata": {},
   "outputs": [
    {
     "data": {
      "text/plain": [
       "True"
      ]
     },
     "execution_count": 226,
     "metadata": {},
     "output_type": "execute_result"
    }
   ],
   "source": [
    "a is b"
   ]
  },
  {
   "cell_type": "code",
   "execution_count": 227,
   "id": "21e267d8",
   "metadata": {},
   "outputs": [
    {
     "data": {
      "text/plain": [
       "False"
      ]
     },
     "execution_count": 227,
     "metadata": {},
     "output_type": "execute_result"
    }
   ],
   "source": [
    "a is not b"
   ]
  },
  {
   "cell_type": "markdown",
   "id": "e60fdb91",
   "metadata": {},
   "source": [
    "- In Multi line assignment, 0 to 256 range is not applicable\n",
    "- Any range of values are allowed hence they store same memory address.\n",
    "- Hence if \"is\" operator is applied, it returns True & if \"is not\" operator is applied, it returns False"
   ]
  },
  {
   "cell_type": "markdown",
   "id": "b3e0561d",
   "metadata": {},
   "source": [
    "# Conditional Stmnts\n"
   ]
  },
  {
   "cell_type": "code",
   "execution_count": 14,
   "id": "ac9db5a3",
   "metadata": {},
   "outputs": [
    {
     "name": "stdout",
     "output_type": "stream",
     "text": [
      "Enter n1: 10\n",
      "10 is positive number\n",
      "program compiled\n"
     ]
    }
   ],
   "source": [
    "#if\n",
    "#WAPP which will read 1 number & find ngtve no. or pstve no. or zero\n",
    "\n",
    "n1=eval(input(\"Enter n1: \"))\n",
    "if(n1>0):\n",
    "    print(\"{} is positive number\".format(n1))\n",
    "if(n1<0):\n",
    "    print(\"{} is negative number\".format(n1))\n",
    "if(n1==0):\n",
    "    print(\"{} is zeronumber\".format(n1))\n",
    "print(\"program compiled\")                #since 10 is pstve number, that particular indentation blck is executed\n",
    "                                        # and other print stmnt which is outside the block is printed"
   ]
  },
  {
   "cell_type": "code",
   "execution_count": 15,
   "id": "09888c30",
   "metadata": {},
   "outputs": [
    {
     "name": "stdout",
     "output_type": "stream",
     "text": [
      "Enter n1: 0\n",
      "0 is zeronumber\n",
      "program compiled\n"
     ]
    }
   ],
   "source": [
    "\n",
    "n1=eval(input(\"Enter n1: \"))\n",
    "if(n1>0):\n",
    "    print(\"{} is positive number\".format(n1))\n",
    "if(n1<0):\n",
    "    print(\"{} is negative number\".format(n1))\n",
    "if(n1==0):\n",
    "    print(\"{} is zeronumber\".format(n1))\n",
    "print(\"program compiled\")   "
   ]
  },
  {
   "cell_type": "code",
   "execution_count": 16,
   "id": "f1962379",
   "metadata": {},
   "outputs": [
    {
     "name": "stdout",
     "output_type": "stream",
     "text": [
      "Enter n1: -10\n",
      "-10 is negative number\n",
      "program compiled\n"
     ]
    }
   ],
   "source": [
    "\n",
    "n1=eval(input(\"Enter n1: \"))\n",
    "if(n1>0):\n",
    "    print(\"{} is positive number\".format(n1))\n",
    "if(n1<0):\n",
    "    print(\"{} is negative number\".format(n1))\n",
    "if(n1==0):\n",
    "    print(\"{} is zeronumber\".format(n1))\n",
    "print(\"program compiled\")   "
   ]
  },
  {
   "cell_type": "code",
   "execution_count": 20,
   "id": "5e76b913",
   "metadata": {},
   "outputs": [
    {
     "name": "stdout",
     "output_type": "stream",
     "text": [
      "Enter n value: 10\n",
      "10 is a even number\n",
      "Program compiled\n"
     ]
    }
   ],
   "source": [
    "#WAPP which will accpt a number & decide whether it s even or odd\n",
    "n=eval(input(\"Enter n value: \"))\n",
    "if(n%2==0):\n",
    "    print(\"{} is a even number\".format(n))\n",
    "if(n%2!=0):\n",
    "    print(\"{} is a odd number\".format(n))\n",
    "print(\"Program compiled\")"
   ]
  },
  {
   "cell_type": "code",
   "execution_count": 21,
   "id": "22374eae",
   "metadata": {},
   "outputs": [
    {
     "name": "stdout",
     "output_type": "stream",
     "text": [
      "Enter n value: 3\n",
      "3 is a odd number\n",
      "Program compiled\n"
     ]
    }
   ],
   "source": [
    "#WAPP which will accpt a number & decide whether it s even or odd\n",
    "n=eval(input(\"Enter n value: \"))\n",
    "if(n%2==0):\n",
    "    print(\"{} is a even number\".format(n))\n",
    "if(n%2!=0):\n",
    "    print(\"{} is a odd number\".format(n))\n",
    "print(\"Program compiled\")"
   ]
  },
  {
   "cell_type": "code",
   "execution_count": 23,
   "id": "a4839730",
   "metadata": {},
   "outputs": [
    {
     "name": "stdout",
     "output_type": "stream",
     "text": [
      "Enter n value: 10\n",
      "10 is a even number\n",
      "Program compiled\n"
     ]
    }
   ],
   "source": [
    "#WAPP which will accpt a number & decide whether it s even or odd using if else stmnt\n",
    "\n",
    "n=eval(input(\"Enter n value: \"))\n",
    "if(n%2==0):\n",
    "    print(\"{} is a even number\".format(n))\n",
    "else:\n",
    "    print(\"{} is a odd number\".format(n))\n",
    "print(\"Program compiled\")"
   ]
  },
  {
   "cell_type": "code",
   "execution_count": 29,
   "id": "18d9386f",
   "metadata": {},
   "outputs": [
    {
     "name": "stdout",
     "output_type": "stream",
     "text": [
      "Enter n1: 90\n",
      "90 is positive number\n",
      "program compiled\n"
     ]
    }
   ],
   "source": [
    "#if else stmnt\n",
    "#WAPP which will read 1 number & find ngtve no. or pstve no. or zero\n",
    "\n",
    "n1=eval(input(\"Enter n1: \"))\n",
    "if(n1>0):\n",
    "    print(\"{} is positive number\".format(n1))\n",
    "else:\n",
    "    if(n1<0):\n",
    "        print(\"{} is negative number\".format(n1))\n",
    "    else:\n",
    "        print(\"{} is zeronumber\".format(n1))\n",
    "print(\"program compiled\") "
   ]
  },
  {
   "cell_type": "code",
   "execution_count": 33,
   "id": "5fb45863",
   "metadata": {},
   "outputs": [
    {
     "name": "stdout",
     "output_type": "stream",
     "text": [
      "Enter a digit: 9\n",
      "9 is nine\n"
     ]
    }
   ],
   "source": [
    "#wAPP which will accept any digit & print it's name \n",
    "#using if\n",
    "\n",
    "n=eval(input(\"Enter a digit: \"))\n",
    "if(n==0):\n",
    "    print(\"{} is zero\".format(n))\n",
    "if(n==1):\n",
    "    print(\"{} is one\".format(n))\n",
    "if(n==2):\n",
    "    print(\"{} is two\".format(n))\n",
    "if(n==3):\n",
    "    print(\"{} is three\".format(n))\n",
    "if(n==4):\n",
    "    print(\"{} is four\".format(n))\n",
    "if(n==5):\n",
    "    print(\"{} is five\".format(n))\n",
    "if(n==6):\n",
    "    print(\"{} is six\".format(n))\n",
    "if(n==7):\n",
    "    print(\"{} is seven\".format(n))\n",
    "if(n==8):\n",
    "    print(\"{} is eight\".format(n))\n",
    "if(n==9):\n",
    "    print(\"{} is nine\".format(n))\n",
    "if n not in [0,1,2,3,4,5,6,7,8,9]:      #that meant n is not in range bw 0 to 9, then the below stmnt prints\n",
    "    print(\"{} is number\".format(n))\n"
   ]
  },
  {
   "cell_type": "code",
   "execution_count": 44,
   "id": "273b0687",
   "metadata": {},
   "outputs": [
    {
     "name": "stdout",
     "output_type": "stream",
     "text": [
      "Enter a digit: 4\n",
      "4 is four\n"
     ]
    }
   ],
   "source": [
    "#using if else or Nested if else\n",
    "\n",
    "\n",
    "n=eval(input(\"Enter a digit: \"))\n",
    "if(n==0):\n",
    "    print(\"{} is zero\".format(n))\n",
    "else:\n",
    "    if(n==1):\n",
    "        print(\"{} is one\".format(n))\n",
    "    else:\n",
    "        if(n==2):\n",
    "            print(\"{} is two\".format(n))\n",
    "        else:\n",
    "            if(n==3):\n",
    "                print(\"{} is three\".format(n))\n",
    "            else:\n",
    "                if(n==4):\n",
    "                    print(\"{} is four\".format(n))\n",
    "                else:\n",
    "                    if(n==5):\n",
    "                        print(\"{} is five\".format(n))\n",
    "                    else:\n",
    "                        if(n==6):\n",
    "                            print(\"{} is six\".format(n))\n",
    "                        else:\n",
    "                            if(n==7):\n",
    "                                print(\"{} is seven\".format(n))\n",
    "                            else:\n",
    "                                if(n==8):\n",
    "                                    print(\"{} is eight\".format(n))\n",
    "                                else:\n",
    "                                    if(n==9):  \n",
    "                                        print(\"{} is a number\".format(n))\n",
    "                                    else:\n",
    "                                        print(\"{} is nine\".format(n))\n",
    "\n"
   ]
  },
  {
   "cell_type": "code",
   "execution_count": 52,
   "id": "7d9b9096",
   "metadata": {},
   "outputs": [
    {
     "name": "stdout",
     "output_type": "stream",
     "text": [
      "Enter employee number: 12345\n",
      "Enter employee name: abc\n",
      "Enter basic salary: 15000\n",
      "============================================================\n",
      "\t Employee pay slip of the month - Oct 2023\n",
      "============================================================\n",
      "\t Employee number is 12345\n",
      "\t Employee name is abc\n",
      "\t Basic salary is 15000\n",
      "\t Employee DA is 3000.0\n",
      "\t Employee TA is 2250.0\n",
      "\t Employee HRA is 1800.0\n",
      "\t Employee CCA is 300.0\n",
      "\t Employee MA is 300.0\n",
      "\t Employee GPF is 300.0\n",
      "\t Employee LIC is 150.0\n",
      "============================================================\n",
      "\t Employee Net Salary is 8150.0\n",
      "============================================================\n"
     ]
    }
   ],
   "source": [
    "#WAPP which will calculate the net salary of an employee based on the foll' prblm stmnt (USING IF)\n",
    "#accept emp number, emp name & basic salary \n",
    "#if the basic salary is more than 10,000, give DA=20% basic salary , TA=15%basic salry,HRA=12%basicsal,cca=2%basicsal,ma(medicalallownce)=2%basicsal\n",
    "#- gpf=2%basicsalary, LIC=1%basicsalary (Deductn)\n",
    "\n",
    "#if the basic salary is less than 10,000, give DA=25% basic salary , TA=20%basic salry,HRA=16%basicsal,cca=3%basicsal,ma=2%basicsal\n",
    "#- gpf=2%basicsalary, LIC=1%basicsalary (Deductn)\n",
    "\n",
    "#NEtsalary=(basicsalary+DA+TA+HRA+CCA+MA)-(GPF+LIC)\n",
    "\n",
    "emp_number=eval(input(\"Enter employee number: \"))\n",
    "emp_name=(input(\"Enter employee name: \"))\n",
    "basic_salary=eval(input(\"Enter basic salary: \"))\n",
    "if(basic_salary>10000):\n",
    "    DA=(20*basic_salary)/100\n",
    "    TA=(15*basic_salary)/100\n",
    "    HRA=(12*basic_salary)/100\n",
    "    CCA=(2*basic_salary)/100\n",
    "    MA=(2*basic_salary)/100\n",
    "    GPF=(2*basic_salary)/100\n",
    "    LIC=(1*basic_salary)/100\n",
    "if(basic_salary<10000):\n",
    "    DA=(25*basic_salary)/100\n",
    "    TA=(20*basic_salary)/100\n",
    "    HRA=(16*basic_salary)/100\n",
    "    CCA=(3*basic_salary)/100\n",
    "    MA=(2*basic_salary)/100\n",
    "    GPF=(2*basic_salary)/100\n",
    "    LIC=(1*basic_salary)/100\n",
    "    Net_Salary=(basic_salary+DA+TA+HRA+CCA+MA)-(GPF+LIC)\n",
    "#print(\"Net Salary is {}\".format(Net_Salary))\n",
    "#Display the pay slip of an employee\n",
    "print(\"=\"*60)\n",
    "print(\"\\t Employee pay slip of the month - Oct 2023\")\n",
    "print(\"=\"*60)\n",
    "print(\"\\t Employee number is\",emp_number)\n",
    "print(\"\\t Employee name is\",emp_name)\n",
    "print(\"\\t Basic salary is\",basic_salary)\n",
    "print(\"\\t Employee DA is\",DA)\n",
    "print(\"\\t Employee TA is\",TA)\n",
    "print(\"\\t Employee HRA is\",HRA)\n",
    "print(\"\\t Employee CCA is\",CCA)\n",
    "print(\"\\t Employee MA is\",MA)\n",
    "print(\"\\t Employee GPF is\",GPF)\n",
    "print(\"\\t Employee LIC is\",LIC)\n",
    "print(\"=\"*60)\n",
    "print(\"\\t Employee Net Salary is\",Net_Salary)\n",
    "print(\"=\"*60)"
   ]
  },
  {
   "cell_type": "code",
   "execution_count": 1,
   "id": "e7ad21a8",
   "metadata": {},
   "outputs": [
    {
     "name": "stdout",
     "output_type": "stream",
     "text": [
      "Enter employee number: 14532\n",
      "Enter employee name: xyz\n",
      "Enter basic salary: 5000\n",
      "============================================================\n",
      "\t Employee pay slip of the month - Oct 2023\n",
      "============================================================\n",
      "\t Employee number is 14532\n",
      "\t Employee name is xyz\n",
      "\t Basic salary is 5000\n",
      "\t Employee DA is 1250.0\n",
      "\t Employee TA is 1000.0\n",
      "\t Employee HRA is 800.0\n",
      "\t Employee CCA is 150.0\n",
      "\t Employee MA is 100.0\n",
      "\t Employee GPF is 100.0\n",
      "\t Employee LIC is 50.0\n",
      "============================================================\n",
      "\t Employee Net Salary is 8150.0\n",
      "============================================================\n"
     ]
    }
   ],
   "source": [
    "#WAPP which will calculate the net salary of an employee based on the foll' prblm stmnt (USING IF ELSE)\n",
    "#accept emp number, emp name & basic salary \n",
    "#if the basic salary is more than 10,000, give DA=20% basic salary , TA=15%basic salry,HRA=12%basicsal,cca=2%basicsal,ma(medicalallownce)=2%basicsal\n",
    "#- gpf=2%basicsalary, LIC=1%basicsalary (Deductn)\n",
    "\n",
    "#if the basic salary is less than 10,000, give DA=25% basic salary , TA=20%basic salry,HRA=16%basicsal,cca=3%basicsal,ma=2%basicsal\n",
    "#- gpf=2%basicsalary, LIC=1%basicsalary (Deductn)\n",
    "\n",
    "#NEtsalary=(basicsalary+DA+TA+HRA+CCA+MA)-(GPF+LIC)\n",
    "\n",
    "emp_number=eval(input(\"Enter employee number: \"))\n",
    "emp_name=(input(\"Enter employee name: \"))\n",
    "basic_salary=eval(input(\"Enter basic salary: \"))\n",
    "if(basic_salary>10000):\n",
    "    DA=(20*basic_salary)/100\n",
    "    TA=(15*basic_salary)/100\n",
    "    HRA=(12*basic_salary)/100\n",
    "    CCA=(2*basic_salary)/100\n",
    "    MA=(2*basic_salary)/100\n",
    "    GPF=(2*basic_salary)/100\n",
    "    LIC=(1*basic_salary)/100\n",
    "else:\n",
    "    DA=(25*basic_salary)/100\n",
    "    TA=(20*basic_salary)/100\n",
    "    HRA=(16*basic_salary)/100\n",
    "    CCA=(3*basic_salary)/100\n",
    "    MA=(2*basic_salary)/100\n",
    "    GPF=(2*basic_salary)/100\n",
    "    LIC=(1*basic_salary)/100\n",
    "    Net_Salary=(basic_salary+DA+TA+HRA+CCA+MA)-(GPF+LIC)\n",
    "#print(\"Net Salary is {}\".format(Net_Salary))\n",
    "#Display the pay slip of an employee\n",
    "print(\"=\"*60)\n",
    "print(\"\\t Employee pay slip of the month - Oct 2023\")          #\\t for tab space\n",
    "print(\"=\"*60)\n",
    "print(\"\\t Employee number is\",emp_number)\n",
    "print(\"\\t Employee name is\",emp_name)\n",
    "print(\"\\t Basic salary is\",basic_salary)\n",
    "print(\"\\t Employee DA is\",DA)\n",
    "print(\"\\t Employee TA is\",TA)\n",
    "print(\"\\t Employee HRA is\",HRA)\n",
    "print(\"\\t Employee CCA is\",CCA)\n",
    "print(\"\\t Employee MA is\",MA)\n",
    "print(\"\\t Employee GPF is\",GPF)\n",
    "print(\"\\t Employee LIC is\",LIC)\n",
    "print(\"=\"*60)\n",
    "print(\"\\t Employee Net Salary is\",Net_Salary)\n",
    "print(\"=\"*60)"
   ]
  },
  {
   "cell_type": "code",
   "execution_count": 17,
   "id": "ad75acef",
   "metadata": {},
   "outputs": [
    {
     "name": "stdout",
     "output_type": "stream",
     "text": [
      "Enter n value: l\n",
      "l is a consonant\n"
     ]
    }
   ],
   "source": [
    "#WAPP which will accept an alphabet from keyboard and decide whether it is a vowel or consonant\n",
    "#Method-1\n",
    "\n",
    "n=input(\"Enter n value: \")\n",
    "if(n=='a')or(n=='e')or(n=='i')or(n=='o')or(n=='u'):\n",
    "    print(\"{} is a vowel\".format(n))\n",
    "else:\n",
    "    print(\"{} is a consonant\".format(n))"
   ]
  },
  {
   "cell_type": "code",
   "execution_count": 27,
   "id": "3bcf003c",
   "metadata": {},
   "outputs": [
    {
     "name": "stdout",
     "output_type": "stream",
     "text": [
      "Enter n value: z\n",
      "z is a consonant\n"
     ]
    }
   ],
   "source": [
    "#Method-2\n",
    "\n",
    "n=input(\"Enter n value: \")\n",
    "if n in ['a','e','i','o','u']:\n",
    "    print(\"{} is a vowel\".format(n))\n",
    "else:\n",
    "    print(\"{} is a consonant\".format(n))"
   ]
  },
  {
   "cell_type": "code",
   "execution_count": 54,
   "id": "5bb6e26c",
   "metadata": {},
   "outputs": [
    {
     "name": "stdout",
     "output_type": "stream",
     "text": [
      "Enter a digit: -9\n",
      "-9 is a negative digit number\n"
     ]
    }
   ],
   "source": [
    "#wAPP which will accept any digit & print it's name \n",
    "#using elif\n",
    "\n",
    "\n",
    "n=eval(input(\"Enter a digit: \"))\n",
    "if(n==0):\n",
    "    print(\"{} is zero\".format(n))\n",
    "elif(n==1):                       #instead of using else  & if , using elif \n",
    "    print(\"{} is one\".format(n))\n",
    "elif(n==2):\n",
    "    print(\"{} is two\".format(n))\n",
    "elif(n==3):\n",
    "    print(\"{} is three\".format(n))\n",
    "elif(n==4):\n",
    "    print(\"{} is four\".format(n))\n",
    "elif(n==5):\n",
    "    print(\"{} is five\".format(n))\n",
    "elif(n==6):\n",
    "    print(\"{} is six\".format(n))\n",
    "elif(n==7):\n",
    "    print(\"{} is seven\".format(n))\n",
    "elif(n==8):\n",
    "    print(\"{} is eight\".format(n))\n",
    "elif(n==9):\n",
    "    print(\"{} is nine\".format(n))\n",
    "elif n in [0,1,2,3,4,5,6,7,8,9]:\n",
    "    print(\"{} is a number\".format(n))\n",
    "elif n in [-1,-2,-3,-4,-5,-6,-7,-8,-9]:\n",
    "    print(\"{} is a negative digit number\".format(n))\n"
   ]
  },
  {
   "cell_type": "code",
   "execution_count": 41,
   "id": "d0ad8ce1",
   "metadata": {},
   "outputs": [
    {
     "name": "stdout",
     "output_type": "stream",
     "text": [
      "Enter n value: 0\n",
      "0 is a zero number\n"
     ]
    }
   ],
   "source": [
    "#WAPP to find postve, ngtve or zero number using elif\n",
    "# without using else\n",
    "\n",
    "n=eval(input(\"Enter n value: \"))\n",
    "if(n>0):\n",
    "    print(\"{} is a positive number\".format(n))\n",
    "elif(n<0):\n",
    "    print(\"{} is a negative number\".format(n))\n",
    "elif(n==0):\n",
    "    print(\"{} is a zero number\".format(n))"
   ]
  },
  {
   "cell_type": "code",
   "execution_count": 45,
   "id": "fada8819",
   "metadata": {},
   "outputs": [
    {
     "name": "stdout",
     "output_type": "stream",
     "text": [
      "Enter n value: 90\n",
      "90 is a positive number\n"
     ]
    }
   ],
   "source": [
    "#WAPP to find postve, ngtve or zero number using elif\n",
    "# including else\n",
    "\n",
    "n=eval(input(\"Enter n value: \"))\n",
    "if(n>0):\n",
    "    print(\"{} is a positive number\".format(n))\n",
    "elif(n<0):\n",
    "    print(\"{} is a negative number\".format(n))\n",
    "else:\n",
    "    print(\"{} is a zero number\".format(n))"
   ]
  },
  {
   "cell_type": "code",
   "execution_count": 61,
   "id": "c5cf3a7a",
   "metadata": {},
   "outputs": [
    {
     "name": "stdout",
     "output_type": "stream",
     "text": [
      "Enter n1 value: 10\n",
      "Enter n2 value: 20\n",
      "Enter n3 value: 30\n",
      "30 is greatest number\n"
     ]
    }
   ],
   "source": [
    "#WAPP which will accpt 3 integer numbers & find the greatest of 3 numbers\n",
    "#Using elif\n",
    "\n",
    "n1=eval(input(\"Enter n1 value: \"))\n",
    "n2=eval(input(\"Enter n2 value: \"))\n",
    "n3=eval(input(\"Enter n3 value: \"))\n",
    "if(n1>n2 and n1>n3):\n",
    "    print(\"{} is greatest number\".format(n1))\n",
    "elif(n2>n1 and n2>n3):\n",
    "    print(\"{} is greatest number\".format(n2))\n",
    "elif(n3>n1 and n3>n2):\n",
    "    print(\"{} is greatest number\".format(n3))\n",
    "else:\n",
    "    print(\"all values are equal\")\n"
   ]
  },
  {
   "cell_type": "code",
   "execution_count": 2,
   "id": "2a476c02",
   "metadata": {},
   "outputs": [
    {
     "name": "stdout",
     "output_type": "stream",
     "text": [
      "Enter n1 value: 90\n",
      "Enter n2 value: 90\n",
      "Enter n3 value: 90\n",
      "all values are equal\n"
     ]
    }
   ],
   "source": [
    "\n",
    "n1=eval(input(\"Enter n1 value: \"))\n",
    "n2=eval(input(\"Enter n2 value: \"))\n",
    "n3=eval(input(\"Enter n3 value: \"))\n",
    "if(n1>n2 and n1>n3):\n",
    "    print(\"max({},{},{})={}\".format(n1,n2,n3,n1))\n",
    "elif(n2>n1 and n2>n3):\n",
    "    print(\"max({},{},{})={}\".format(n1,n2,n3,n2))\n",
    "elif(n3>n1 and n3>n2):\n",
    "    print(\"max({},{},{})={}\".format(n1,n2,n3,n3))\n",
    "else:\n",
    "    print(\"all values are equal\")\n",
    "\n"
   ]
  },
  {
   "cell_type": "code",
   "execution_count": 6,
   "id": "3bd7f3fa",
   "metadata": {},
   "outputs": [
    {
     "name": "stdout",
     "output_type": "stream",
     "text": [
      "Enter n1 value: 10\n",
      "Enter n2 value: 98\n",
      "Enter n3 value: 76\n",
      "min(10,98,76)=10\n"
     ]
    }
   ],
   "source": [
    "#WAPP which will find the smallest number among 3 numbers\n",
    "#using elif\n",
    "\n",
    "\n",
    "n1=eval(input(\"Enter n1 value: \"))\n",
    "n2=eval(input(\"Enter n2 value: \"))\n",
    "n3=eval(input(\"Enter n3 value: \"))\n",
    "if(n1<n2 and n1<n3):\n",
    "    print(\"min({},{},{})={}\".format(n1,n2,n3,n1))\n",
    "elif(n2<n1 and n2<n3):\n",
    "    print(\"min({},{},{})={}\".format(n1,n2,n3,n2))\n",
    "elif(n3<n1 and n3<n2):\n",
    "    print(\"min({},{},{})={}\".format(n1,n2,n3,n3))\n",
    "else:\n",
    "    print(\"all values are equal\")\n",
    "\n"
   ]
  },
  {
   "cell_type": "code",
   "execution_count": 3,
   "id": "56f7fd66",
   "metadata": {},
   "outputs": [
    {
     "name": "stdout",
     "output_type": "stream",
     "text": [
      "==================================================\n",
      "\t Arithmetic operators\n",
      "==================================================\n",
      "\t 1.Addition\n",
      "\t 2.Subtraction\n",
      "\t 3.Multiplication\n",
      "\t 4.Division\n",
      "\t 5.Modulo Division\n",
      "\t 6.Exponentiation\n",
      "\t 7.Exit\n",
      "Enter your choice: 5\n",
      "Enter a value for Division: 10\n",
      "Enter b value for Division: 2\n",
      "moddiv(10.0,2.0=0.0)\n"
     ]
    }
   ],
   "source": [
    "#Match stmnt\n",
    "#WAPP which will implement the foll' menu driven application\n",
    "# ============================\n",
    "#     Arithmetic operators\n",
    "# ============================\n",
    "# 1.Addition\n",
    "# 2.Subtraction\n",
    "# 3.Multiplication\n",
    "# 4.Division\n",
    "# 5.Modulo Division\n",
    "# 6.Exponentiation\n",
    "# 7.Exit\n",
    "# ==========================\n",
    "# ENter your choice: \n",
    "#==========================\n",
    "\n",
    "#Menu driven application \n",
    "import sys\n",
    "print(\"=\"*50)\n",
    "print(\"\\t Arithmetic operators\")\n",
    "print(\"=\"*50)\n",
    "print(\"\\t 1.Addition\")\n",
    "print(\"\\t 2.Subtraction\")\n",
    "print(\"\\t 3.Multiplication\")\n",
    "print(\"\\t 4.Division\")\n",
    "print(\"\\t 5.Modulo Division\")\n",
    "print(\"\\t 6.Exponentiation\")\n",
    "print(\"\\t 7.Exit\")\n",
    "ch=eval(input(\"Enter your choice: \"))\n",
    "match(ch):\n",
    "    case 1:\n",
    "        a,b=float(input(\"Enter a value: \")),float(input(\"Enter b value: \"))\n",
    "        print(\"sum({},{}={})\".format(a,b,a+b))\n",
    "    case 2:\n",
    "        a=float(input(\"Enter a value for subtraction: \"))\n",
    "        b=float(input(\"Enter b value for subtraction: \"))\n",
    "        print(\"sub({},{}={})\".format(a,b,a-b))\n",
    "    case 3:\n",
    "        a=float(input(\"Enter a value for multiplication: \"))\n",
    "        b=float(input(\"Enter b value for multiplication: \"))\n",
    "        print(\"mul({},{}={})\".format(a,b,a-b))\n",
    "    case 4:\n",
    "        a=float(input(\"Enter a value for Division: \"))\n",
    "        b=float(input(\"Enter b value for Division: \"))\n",
    "        print(\"div({},{}={})\".format(a,b,a/b))\n",
    "        print(\"floordiv({},{}={})\".format(a,b,a//b))\n",
    "    case 5:\n",
    "        a=float(input(\"Enter a value for Division: \"))\n",
    "        b=float(input(\"Enter b value for Division: \"))\n",
    "        print(\"moddiv({},{}={})\".format(a,b,a%b))\n",
    "    case 6:\n",
    "        a=float(input(\"Enter a value for Division: \"))\n",
    "        b=float(input(\"Enter b value for Division: \"))\n",
    "        print(\"exp({},{}={})\".format(a,b,a**b))\n",
    "    case 7:\n",
    "        print(\"Thanks for using this program\")\n",
    "        exit()\n",
    "    case _:\n",
    "        print(\"Your choice of selection is wrong\")\n",
    "        "
   ]
  },
  {
   "cell_type": "code",
   "execution_count": 11,
   "id": "3ac17700",
   "metadata": {},
   "outputs": [
    {
     "name": "stdout",
     "output_type": "stream",
     "text": [
      "Enter week name: tuesday\n",
      "tuesday is a weekday\n"
     ]
    }
   ],
   "source": [
    "#WAPP to find weekday or weekend using match stmnt\n",
    "\n",
    "week_name=input(\"Enter week name: \")\n",
    "match(week_name):\n",
    "    case \"monday\":\n",
    "        print(\"{} is a weekday\".format(week_name))\n",
    "    case \"tuesday\":\n",
    "        print(\"{} is a weekday\".format(week_name))\n",
    "    case \"wednesday\":\n",
    "        print(\"{} is a weekday\".format(week_name))\n",
    "    case \"thursday\":\n",
    "        print(\"{} is a weekday\".format(week_name))\n",
    "    case \"friday\":\n",
    "        print(\"{} is a weekday\".format(week_name))\n",
    "    case \"saturday\":\n",
    "        print(\"{} is a weekend\".format(week_name))\n",
    "    case \"sunday\":\n",
    "        print(\"{} is a holiday\".format(week_name))\n",
    "    case _:\n",
    "        print(\"{} is not week day\".format(week_name))"
   ]
  },
  {
   "cell_type": "code",
   "execution_count": 14,
   "id": "bcd22213",
   "metadata": {},
   "outputs": [
    {
     "name": "stdout",
     "output_type": "stream",
     "text": [
      "Enter week name: strdy\n",
      "strdy is a weekend\n"
     ]
    }
   ],
   "source": [
    "#using bitwise or(|) for above program\n",
    "\n",
    "\n",
    "week_name=input(\"Enter week name: \")\n",
    "match(week_name):\n",
    "    case \"monday\" | \"tuesday\" | \"wednesday\" |\"thursday\"|\"friday\":\n",
    "        print(\"{} is a weekday\".format(week_name))\n",
    "    case \"strdy\":\n",
    "        print(\"{} is a weekend\".format(week_name))\n",
    "    case \"sunday\":\n",
    "        print(\"{} is a hldy\".format(week_name))\n",
    "    case _:\n",
    "        print(\"{} is not a weekday\".format(week_name))"
   ]
  },
  {
   "cell_type": "markdown",
   "id": "1c8bd0f1",
   "metadata": {},
   "source": [
    "# oct 26th"
   ]
  },
  {
   "cell_type": "code",
   "execution_count": 3,
   "id": "02d455d6",
   "metadata": {},
   "outputs": [
    {
     "name": "stdout",
     "output_type": "stream",
     "text": [
      "Enter n: 19\n",
      "1\n",
      "2\n",
      "3\n",
      "4\n",
      "5\n",
      "6\n",
      "7\n",
      "8\n",
      "9\n",
      "10\n",
      "11\n",
      "12\n",
      "13\n",
      "14\n",
      "15\n",
      "16\n",
      "17\n",
      "18\n",
      "19\n",
      "out of while block\n"
     ]
    }
   ],
   "source": [
    "#while loop\n",
    "#WAPP which will display 1 to n numbers where n is positive \n",
    "\n",
    "i=1        #intialization part\n",
    "n=eval(input(\"Enter n: \"))\n",
    "while(i<=n):      #condition part\n",
    "    print(i)\n",
    "    i=i+1       #updation part\n",
    "print(\"out of while block\")\n"
   ]
  },
  {
   "cell_type": "code",
   "execution_count": 6,
   "id": "3a84e5bd",
   "metadata": {},
   "outputs": [
    {
     "name": "stdout",
     "output_type": "stream",
     "text": [
      "Enter n: -4\n",
      "-4 is a invalid input\n"
     ]
    }
   ],
   "source": [
    "##while loop\n",
    "\n",
    "n=eval(input(\"Enter n: \"))\n",
    "if(n<=0):\n",
    "    print(\"{} is a invalid input\".format(n))\n",
    "else:\n",
    "    i=1\n",
    "    while(i<=n):\n",
    "        print(\"i is\",i)\n",
    "        i=i+1"
   ]
  },
  {
   "cell_type": "code",
   "execution_count": 7,
   "id": "a9cf266e",
   "metadata": {},
   "outputs": [
    {
     "name": "stdout",
     "output_type": "stream",
     "text": [
      "Enter n: 8\n",
      "i is 1\n",
      "i is 2\n",
      "i is 3\n",
      "i is 4\n",
      "i is 5\n",
      "i is 6\n",
      "i is 7\n",
      "i is 8\n"
     ]
    }
   ],
   "source": [
    "##while loop\n",
    "\n",
    "n=eval(input(\"Enter n: \"))\n",
    "if(n<=0):\n",
    "    print(\"{} is a invalid input\".format(n))\n",
    "else:\n",
    "    i=1\n",
    "    while(i<=n):\n",
    "        print(\"i is\",i)\n",
    "        i=i+1"
   ]
  },
  {
   "cell_type": "code",
   "execution_count": 9,
   "id": "c79cd335",
   "metadata": {},
   "outputs": [
    {
     "name": "stdout",
     "output_type": "stream",
     "text": [
      "Enter n: 5\n",
      "==================================================\n",
      "Range of values within:5\n",
      "==================================================\n",
      "i is 1\n",
      "i is 2\n",
      "i is 3\n",
      "i is 4\n",
      "i is 5\n",
      "==================================================\n",
      "\n",
      " I'm from else part of while loop\n"
     ]
    }
   ],
   "source": [
    "##while loop\n",
    "\n",
    "n=eval(input(\"Enter n: \"))\n",
    "if(n<=0):\n",
    "    print(\"{} is a invalid input\".format(n))\n",
    "else:\n",
    "    i=1\n",
    "    print(\"=\"*50)\n",
    "    print(\"Range of values within:{}\".format(n))\n",
    "    print(\"=\"*50)\n",
    "    while(i<=n):\n",
    "        print(\"i is\",i)\n",
    "        i=i+1\n",
    "    else:\n",
    "        print(\"=\"*50)\n",
    "        print(\"\\n I'm from else part of while loop\")\n"
   ]
  },
  {
   "cell_type": "code",
   "execution_count": 11,
   "id": "7f49389e",
   "metadata": {},
   "outputs": [
    {
     "name": "stdout",
     "output_type": "stream",
     "text": [
      "Enter n: 4\n",
      "==================================================\n",
      "Range of values within:4\n",
      "==================================================\n",
      "i is 1\n",
      "i is 2\n",
      "i is 3\n",
      "i is 4\n",
      "==================================================\n",
      "\n",
      " I'm from else part of while loop\n",
      "========================================\n",
      "\n",
      " I'm from other part of program\n"
     ]
    }
   ],
   "source": [
    "##while loop\n",
    "\n",
    "n=eval(input(\"Enter n: \"))\n",
    "if(n<=0):\n",
    "    print(\"{} is a invalid input\".format(n))\n",
    "else:\n",
    "    i=1\n",
    "    print(\"=\"*50)\n",
    "    print(\"Range of values within:{}\".format(n))\n",
    "    print(\"=\"*50)\n",
    "    while(i<=n):\n",
    "        print(\"i is\",i)\n",
    "        i=i+1\n",
    "    else:\n",
    "        print(\"=\"*50)\n",
    "        print(\"\\n I'm from else part of while loop\")          #else block print stmnt\n",
    "print(\"=\"*40)\n",
    "print(\"\\n I'm from other part of program\")              #out of while block"
   ]
  },
  {
   "cell_type": "code",
   "execution_count": 1,
   "id": "fe6d136f",
   "metadata": {},
   "outputs": [
    {
     "name": "stdout",
     "output_type": "stream",
     "text": [
      "Enter n value: 4\n",
      "i value is 2\n",
      "i value is 4\n",
      "==================================================\n",
      "ELse block of while loop\n",
      "==================================================\n",
      "Outside of while loop\n"
     ]
    }
   ],
   "source": [
    "#WAPP which will accpt any numerical integer value & display even numbers within it \n",
    "#while loop\n",
    "\n",
    "n=eval(input(\"Enter n value: \"))\n",
    "i=2\n",
    "while(i<=n):\n",
    "    print(\"i value is\",i)\n",
    "    i=i+2\n",
    "else:\n",
    "    print(\"=\"*50)\n",
    "    print(\"ELse block of while loop\")\n",
    "    print(\"=\"*50)\n",
    "print(\"Outside of while loop\")"
   ]
  },
  {
   "cell_type": "code",
   "execution_count": 5,
   "id": "f8374a5e",
   "metadata": {},
   "outputs": [
    {
     "name": "stdout",
     "output_type": "stream",
     "text": [
      "Enter n value: 21\n",
      "i value is 1\n",
      "i value is 3\n",
      "i value is 5\n",
      "i value is 7\n",
      "i value is 9\n",
      "i value is 11\n",
      "i value is 13\n",
      "i value is 15\n",
      "i value is 17\n",
      "i value is 19\n",
      "i value is 21\n",
      "==================================================\n",
      "ELse block of while loop\n",
      "==================================================\n",
      "Outside of while loop\n"
     ]
    }
   ],
   "source": [
    "#WAPP which will accpt any numerical integer value & display odd numbers within it \n",
    "#While loop\n",
    "\n",
    "n=eval(input(\"Enter n value: \"))\n",
    "i=1\n",
    "while(i<=n):\n",
    "    print(\"i value is\",i)\n",
    "    i=i+2\n",
    "else:\n",
    "    print(\"=\"*50)\n",
    "    print(\"ELse block of while loop\")\n",
    "    print(\"=\"*50)\n",
    "print(\"Outside of while loop\")"
   ]
  },
  {
   "cell_type": "code",
   "execution_count": 14,
   "id": "8983d09e",
   "metadata": {},
   "outputs": [
    {
     "name": "stdout",
     "output_type": "stream",
     "text": [
      "Enter n value: 9\n",
      "==================================================\n",
      "\t Mulitiplication table for 9\n",
      "==================================================\n",
      "\t Mult of 9,1 is 9\n",
      "\t Mult of 9,2 is 18\n",
      "\t Mult of 9,3 is 27\n",
      "\t Mult of 9,4 is 36\n",
      "\t Mult of 9,5 is 45\n",
      "\t Mult of 9,6 is 54\n",
      "\t Mult of 9,7 is 63\n",
      "\t Mult of 9,8 is 72\n",
      "\t Mult of 9,9 is 81\n",
      "\t Mult of 9,10 is 90\n",
      "==================================================\n"
     ]
    }
   ],
   "source": [
    "#WAPP which will generate multiplication table for a given positive integer value\n",
    "#If ngtve number -> print as invalid input\n",
    "#While loop\n",
    "\n",
    "n=eval(input(\"Enter n value: \"))\n",
    "if(n<0):\n",
    "    print(\"{} is invalid input\".format(n))\n",
    "else:\n",
    "    i=1   #initializn\n",
    "    print(\"=\"*50)\n",
    "    print(\"\\t Mulitiplication table for {}\".format(n))\n",
    "    print(\"=\"*50)\n",
    "    while(i<=10):    #condition\n",
    "        print(\"\\t Mult of {},{} is {}\".format(n,i,n*i))\n",
    "        i=i+1        #updation \n",
    "    else:\n",
    "        print(\"=\"*50)"
   ]
  },
  {
   "cell_type": "code",
   "execution_count": 15,
   "id": "dffe6b89",
   "metadata": {},
   "outputs": [
    {
     "name": "stdout",
     "output_type": "stream",
     "text": [
      "Enter n value: -10\n",
      "-10 is invalid input\n"
     ]
    }
   ],
   "source": [
    "#WAPP which will generate multiplication table for a given positive integer value\n",
    "#If ngtve number -> print as invalid input\n",
    "#while loop\n",
    "\n",
    "\n",
    "n=eval(input(\"Enter n value: \"))\n",
    "if(n<0):\n",
    "    print(\"{} is invalid input\".format(n))\n",
    "else:\n",
    "    i=1   #initializn\n",
    "    print(\"=\"*50)\n",
    "    print(\"\\t Mulitiplication table for {}\".format(n))\n",
    "    print(\"=\"*50)\n",
    "    while(i<=10):    #condition\n",
    "        print(\"\\t Mult of {},{} is {}\".format(n,i,n*i))\n",
    "        i=i+1        #updation \n",
    "    else:\n",
    "        print(\"=\"*50)"
   ]
  },
  {
   "cell_type": "code",
   "execution_count": 19,
   "id": "c00e0181",
   "metadata": {},
   "outputs": [
    {
     "name": "stdout",
     "output_type": "stream",
     "text": [
      "Enter n value:1234\n",
      "==================================================\n",
      "Given number=1234\n",
      "==================================================\n",
      "==================================================\n",
      "sum of digits is 10\n",
      "==================================================\n"
     ]
    }
   ],
   "source": [
    "# WAPP which will accept a number & find sum of the digits of the given number (Imp)\n",
    "#while loop \n",
    "\n",
    "n=eval(input(\"Enter n value:\"))\n",
    "if(n<=0):\n",
    "    print(\"{} is invalid input\".format(n))\n",
    "else:\n",
    "    print(\"=\"*50)\n",
    "    print(\"Given number={}\".format(n))\n",
    "    print(\"=\"*50)\n",
    "    s=0\n",
    "    while(n>0):\n",
    "        d=n%10\n",
    "        s=s+d\n",
    "        n=n//10\n",
    "    else:\n",
    "        print(\"=\"*50)\n",
    "        print(\"sum of digits is {}\".format(s))\n",
    "        print(\"=\"*50)"
   ]
  },
  {
   "cell_type": "code",
   "execution_count": 20,
   "id": "2e57e1b0",
   "metadata": {},
   "outputs": [
    {
     "name": "stdout",
     "output_type": "stream",
     "text": [
      "Enter s value: python\n",
      "nohtyp\n"
     ]
    }
   ],
   "source": [
    "#WAPP which will accpt a string & print it's reverse order\n",
    "\n",
    "s=input(\"Enter s value: \")\n",
    "print(s[::-1])"
   ]
  },
  {
   "cell_type": "code",
   "execution_count": 23,
   "id": "563a2868",
   "metadata": {},
   "outputs": [
    {
     "name": "stdout",
     "output_type": "stream",
     "text": [
      "Enter s value: liril\n",
      "liril\n"
     ]
    },
    {
     "data": {
      "text/plain": [
       "True"
      ]
     },
     "execution_count": 23,
     "metadata": {},
     "output_type": "execute_result"
    }
   ],
   "source": [
    "#WAPP which will accpt a string & check for it's palindrome\n",
    "#EX= s1= \"liril\" , s3=s1[::-1], compare s3 with s1\n",
    "\n",
    "s1=input(\"Enter s value: \")\n",
    "s2_reverse=(s1[::-1])\n",
    "print(s2_reverse)\n",
    "s1==s2_reverse\n"
   ]
  },
  {
   "cell_type": "code",
   "execution_count": 1,
   "id": "b2991e5b",
   "metadata": {},
   "outputs": [
    {
     "name": "stdout",
     "output_type": "stream",
     "text": [
      "P\n",
      "Y\n",
      "T\n",
      "H\n",
      "O\n",
      "N\n"
     ]
    }
   ],
   "source": [
    "#while loop\n",
    "#WAPP to retrieve the data from given string\n",
    "\n",
    "s=\"PYTHON\"\n",
    "i=0\n",
    "while(i<len(s)):\n",
    "    print(s[i])\n",
    "    i=i+1\n",
    "\n"
   ]
  },
  {
   "cell_type": "code",
   "execution_count": 30,
   "id": "95aef900",
   "metadata": {},
   "outputs": [
    {
     "name": "stdout",
     "output_type": "stream",
     "text": [
      "P\n",
      "Y\n",
      "T\n",
      "H\n",
      "O\n",
      "N\n"
     ]
    }
   ],
   "source": [
    "#using for loop\n",
    "\n",
    "s=\"PYTHON\"\n",
    "for i in s:\n",
    "    print(i)"
   ]
  },
  {
   "cell_type": "code",
   "execution_count": 9,
   "id": "d9ab503d",
   "metadata": {},
   "outputs": [
    {
     "name": "stdout",
     "output_type": "stream",
     "text": [
      "By using while loop\n",
      "P\n",
      "Y\n",
      "T\n",
      "H\n",
      "O\n",
      "N\n",
      "==================================================\n",
      "By using for loop\n",
      "P Y T H O N "
     ]
    }
   ],
   "source": [
    "#combining them\n",
    "\n",
    "s=\"PYTHON\"\n",
    "print(\"By using while loop\")\n",
    "i=0\n",
    "while(i<len(s)):\n",
    "    print(s[i])\n",
    "    i=i+1\n",
    "print(\"=\"*50)\n",
    "print(\"By using for loop\")\n",
    "for i in s:\n",
    "    print(i,end=\" \")"
   ]
  },
  {
   "cell_type": "code",
   "execution_count": 17,
   "id": "27d0ff39",
   "metadata": {},
   "outputs": [
    {
     "name": "stdout",
     "output_type": "stream",
     "text": [
      "by using while loop\n",
      "10\n",
      "prag\n",
      "rossum\n",
      "30\n",
      "========================================\n",
      "by using for loop\n",
      "10\n",
      "prag\n",
      "rossum\n",
      "30\n"
     ]
    }
   ],
   "source": [
    "#\n",
    "l=[10,\"prag\",\"rossum\",30]\n",
    "i=0\n",
    "print(\"by using while loop\")\n",
    "while(i<len(l)):\n",
    "    print(l[i])\n",
    "    i=i+1\n",
    "print(\"=\"*40)\n",
    "print(\"by using for loop\")\n",
    "for i in l:\n",
    "    print(i)"
   ]
  },
  {
   "cell_type": "code",
   "execution_count": 20,
   "id": "7c21a2ce",
   "metadata": {},
   "outputs": [
    {
     "name": "stdout",
     "output_type": "stream",
     "text": [
      "0\n",
      "1\n",
      "2\n",
      "3\n",
      "4\n",
      "5\n",
      "using for loop\n",
      "0\n",
      "1\n",
      "2\n",
      "3\n",
      "4\n",
      "5\n"
     ]
    }
   ],
   "source": [
    "#to print 0 to 5 numbers using while & for loop \n",
    "\n",
    "i=0\n",
    "while(i<6):\n",
    "    print(i)\n",
    "    i=i+1\n",
    "print(\"using for loop\")\n",
    "for i in range(6):\n",
    "    print(i)"
   ]
  },
  {
   "cell_type": "code",
   "execution_count": 25,
   "id": "3ef36b41",
   "metadata": {},
   "outputs": [
    {
     "name": "stdout",
     "output_type": "stream",
     "text": [
      "100\n",
      "101\n",
      "102\n",
      "103\n",
      "104\n",
      "105\n",
      "106\n",
      "107\n",
      "108\n",
      "109\n",
      "========================================\n",
      "By using for loop\n",
      "100\n",
      "101\n",
      "102\n",
      "103\n",
      "104\n",
      "105\n",
      "106\n",
      "107\n",
      "108\n",
      "109\n"
     ]
    }
   ],
   "source": [
    "#\n",
    "s=range(100,110)\n",
    "i=0\n",
    "while(i<len(s)):\n",
    "    print(s[i])\n",
    "    i=i+1\n",
    "print(\"=\"*40)\n",
    "print(\"By using for loop\")\n",
    "for i in s:\n",
    "      print(i)"
   ]
  },
  {
   "cell_type": "code",
   "execution_count": 4,
   "id": "e0276c06",
   "metadata": {},
   "outputs": [
    {
     "name": "stdout",
     "output_type": "stream",
     "text": [
      "Enter n : 9\n",
      "==================================================\n",
      "Numbers within 9\n",
      "==================================================\n",
      "1\n",
      "2\n",
      "3\n",
      "4\n",
      "5\n",
      "6\n",
      "7\n",
      "8\n",
      "9\n"
     ]
    }
   ],
   "source": [
    "# WAPP which will generate 1 to n numbers where n is the positive ( using for loop)\n",
    "\n",
    "n=int(input(\"Enter n : \"))\n",
    "if(n<0):\n",
    "    print(\"{} is invalid input\".format(n))\n",
    "else:\n",
    "    print(\"=\"*50)\n",
    "    print(\"Numbers within {}\".format(n))\n",
    "    print(\"=\"*50)\n",
    "    for i in range(1,n+1):             #if we give (1,n) --> (1,9) -> it prints from 1 to 8\n",
    "        print(i)"
   ]
  },
  {
   "cell_type": "code",
   "execution_count": 7,
   "id": "1d1791ab",
   "metadata": {},
   "outputs": [
    {
     "name": "stdout",
     "output_type": "stream",
     "text": [
      "Enter n value: 10\n",
      "Even numbers within 10\n",
      "==================================================\n",
      "2\n",
      "4\n",
      "6\n",
      "8\n",
      "10\n",
      "==================================================\n",
      "Odd numbers within 10\n",
      "==================================================\n",
      "1\n",
      "3\n",
      "5\n",
      "7\n",
      "9\n",
      "##################################################\n"
     ]
    }
   ],
   "source": [
    "##WAPP which will accpt any integer value & generate even numbers & odd number seperatly\n",
    "\n",
    "n=int(input(\"Enter n value: \"))\n",
    "if(n<0):\n",
    "    print(\"Invalid input\")\n",
    "else:\n",
    "    print(\"Even numbers within {}\".format(n))\n",
    "    print(\"=\"*50)\n",
    "    for even in range(2,n+1,2):\n",
    "        print(\"{}\".format(even))\n",
    "    else:\n",
    "        print(\"=\"*50)\n",
    "        print(\"Odd numbers within {}\".format(n))\n",
    "        print(\"=\"*50)\n",
    "        for odd in range(1,n+1,2):\n",
    "            print(\"{}\".format(odd))\n",
    "        else:\n",
    "            print(\"#\"*50)"
   ]
  },
  {
   "cell_type": "code",
   "execution_count": 12,
   "id": "0a9d7a09",
   "metadata": {},
   "outputs": [
    {
     "name": "stdout",
     "output_type": "stream",
     "text": [
      "Enter n value: 4\n",
      "==================================================\n",
      "Multiplication table for 4\n",
      "4x1=4\n",
      "4x2=8\n",
      "4x3=12\n",
      "4x4=16\n",
      "4x5=20\n",
      "4x6=24\n",
      "4x7=28\n",
      "4x8=32\n",
      "4x9=36\n",
      "4x10=40\n",
      "--------------------------------------------------\n"
     ]
    }
   ],
   "source": [
    "#Multiplication table\n",
    "\n",
    "n=int(input(\"Enter n value: \"))\n",
    "if(n<0):\n",
    "    print(\"Invalid input\")\n",
    "else:\n",
    "    print(\"=\"*50)\n",
    "    print(\"Multiplication table for {}\".format(n))\n",
    "    for i in range(1,11):\n",
    "        print(\"{}x{}={}\".format(n,i,n*i))\n",
    "    else:\n",
    "        print(\"-\"*50)\n",
    "    \n"
   ]
  },
  {
   "cell_type": "code",
   "execution_count": 46,
   "id": "421cab89",
   "metadata": {},
   "outputs": [
    {
     "name": "stdout",
     "output_type": "stream",
     "text": [
      "Enter n value: 10\n",
      "55\n",
      "==================================================\n",
      "110\n"
     ]
    }
   ],
   "source": [
    "#Sum of first N natural numbers\n",
    "\n",
    "n=int(input(\"Enter n value: \"))\n",
    "if(n<0):\n",
    "    print(\"Invalid input\")\n",
    "else:\n",
    "    s=0\n",
    "    i=0\n",
    "    while(i<=n):\n",
    "        s=s+i\n",
    "        i=i+1\n",
    "print(s)\n",
    "print(\"=\"*50)\n",
    "for i in range(1,n+1):\n",
    "    s=s+i\n",
    "    i=i+1\n",
    "print(s)"
   ]
  },
  {
   "cell_type": "code",
   "execution_count": 45,
   "id": "4e1e2fad",
   "metadata": {},
   "outputs": [
    {
     "name": "stdout",
     "output_type": "stream",
     "text": [
      "Enter n value: 10\n",
      "==================================================\n",
      "1\n",
      "2\n",
      "3\n",
      "4\n",
      "5\n",
      "6\n",
      "7\n",
      "8\n",
      "9\n",
      "10\n",
      "==================================================\n",
      "Sum of first 10 natural numbers is 55\n"
     ]
    }
   ],
   "source": [
    "# for loop \n",
    "\n",
    "n=int(input(\"Enter n value: \"))\n",
    "if(n<0):\n",
    "    print(\"Invalid input\")\n",
    "else:\n",
    "    s=0\n",
    "    print(\"=\"*50)\n",
    "    for val in range(1,n+1):        #already defined that loop to be runned from 1 to n+1 so no need of updation(incremnt prt)\n",
    "        print(\"{}\".format(val))\n",
    "        s=s+val\n",
    "    else:\n",
    "        print(\"=\"*50)\n",
    "        print(\"Sum of first {} natural numbers is {}\".format(n,s))"
   ]
  },
  {
   "cell_type": "code",
   "execution_count": 44,
   "id": "d492cd68",
   "metadata": {},
   "outputs": [
    {
     "name": "stdout",
     "output_type": "stream",
     "text": [
      "Enter n value: 10\n",
      "==================================================\n",
      "Natural numbers\n",
      "==================================================\n",
      "1\n",
      "2\n",
      "3\n",
      "4\n",
      "5\n",
      "6\n",
      "7\n",
      "8\n",
      "9\n",
      "==================================================\n",
      "Sum of first 10 natural numbers is 45\n"
     ]
    }
   ],
   "source": [
    "#while loop\n",
    "\n",
    "\n",
    "n=int(input(\"Enter n value: \"))\n",
    "if(n<0):\n",
    "    print(\"Invalid input\")\n",
    "else:\n",
    "    s=0\n",
    "    val=1\n",
    "    print(\"=\"*50)\n",
    "    print(\"Natural numbers\")\n",
    "    print(\"=\"*50)\n",
    "    while(val<n):\n",
    "        print(\"{}\".format(val))\n",
    "        s=s+val\n",
    "        val=val+1\n",
    "    else:\n",
    "        print(\"=\"*50)\n",
    "        print(\"Sum of first {} natural numbers is {}\".format(n,s))\n"
   ]
  },
  {
   "cell_type": "code",
   "execution_count": 43,
   "id": "a01e7b50",
   "metadata": {},
   "outputs": [
    {
     "name": "stdout",
     "output_type": "stream",
     "text": [
      "Enter n value: 10\n",
      "==================================================\n",
      "Squares of numbers\n",
      "==================================================\n",
      "2\n",
      "4\n",
      "6\n",
      "8\n",
      "10\n",
      "12\n",
      "14\n",
      "16\n",
      "18\n",
      "20\n",
      "==================================================\n",
      "Sum of squares of first 10 natural numbers is 55\n"
     ]
    }
   ],
   "source": [
    "#Sum of sqaures of first N natural number using for loop\n",
    "# for loop \n",
    "\n",
    "n=int(input(\"Enter n value: \"))\n",
    "if(n<0):\n",
    "    print(\"Invalid input\")\n",
    "else:\n",
    "    ss=0\n",
    "    print(\"=\"*50)\n",
    "    print(\"Squares of numbers\")\n",
    "    print(\"=\"*50)\n",
    "    for val in range(1,n+1):        #already defined that loop to be runned from 1 to n+1 so no need of updation(incremnt prt)\n",
    "        print(\"{}\".format(val*2))\n",
    "        ss=ss+val\n",
    "    else:\n",
    "        print(\"=\"*50)\n",
    "        print(\"Sum of squares of first {} natural numbers is {}\".format(n,ss))"
   ]
  },
  {
   "cell_type": "code",
   "execution_count": 42,
   "id": "543f8f4e",
   "metadata": {},
   "outputs": [
    {
     "name": "stdout",
     "output_type": "stream",
     "text": [
      "Enter n value: 10\n",
      "==================================================\n",
      "Squares of numbers\n",
      "==================================================\n",
      "2\n",
      "4\n",
      "6\n",
      "8\n",
      "10\n",
      "12\n",
      "14\n",
      "16\n",
      "18\n",
      "==================================================\n",
      "Sum of squares of first 10 natural numbers is 45\n"
     ]
    }
   ],
   "source": [
    "#Sum of squares of first N natural number using while loop\n",
    "# for loop \n",
    "\n",
    "n=int(input(\"Enter n value: \"))\n",
    "if(n<0):\n",
    "    print(\"Invalid input\")\n",
    "else:\n",
    "    ss=0\n",
    "    i=1\n",
    "    print(\"=\"*50)\n",
    "    print(\"Squares of numbers\")\n",
    "    print(\"=\"*50)\n",
    "    while(i<n):            #already defined that loop to be runned from 1 to n+1 so no need of updation(incremnt prt)\n",
    "        print(\"{}\".format(i*2))\n",
    "        ss=ss+i\n",
    "        i=i+1\n",
    "    else:\n",
    "        print(\"=\"*50)\n",
    "        print(\"Sum of squares of first {} natural numbers is {}\".format(n,ss))"
   ]
  },
  {
   "cell_type": "code",
   "execution_count": 47,
   "id": "8028c06f",
   "metadata": {},
   "outputs": [
    {
     "name": "stdout",
     "output_type": "stream",
     "text": [
      "Enter n value: 10\n",
      "==================================================\n",
      "Cubes of numbers\n",
      "==================================================\n",
      "3\n",
      "6\n",
      "9\n",
      "12\n",
      "15\n",
      "18\n",
      "21\n",
      "24\n",
      "27\n",
      "30\n",
      "==================================================\n",
      "Sum of cubes of first 10 natural numbers is 55\n"
     ]
    }
   ],
   "source": [
    "#Sum of cubes of first N natural number using for loop\n",
    "# for loop \n",
    "\n",
    "n=int(input(\"Enter n value: \"))\n",
    "if(n<0):\n",
    "    print(\"Invalid input\")\n",
    "else:\n",
    "    ss=0\n",
    "    print(\"=\"*50)\n",
    "    print(\"Cubes of numbers\")\n",
    "    print(\"=\"*50)\n",
    "    for val in range(1,n+1):        #already defined that loop to be runned from 1 to n+1 so no need of updation(incremnt prt)\n",
    "        print(\"{}\".format(val*3))\n",
    "        ss=ss+val\n",
    "    else:\n",
    "        print(\"=\"*50)\n",
    "        print(\"Sum of cubes of first {} natural numbers is {}\".format(n,ss))"
   ]
  },
  {
   "cell_type": "code",
   "execution_count": 48,
   "id": "0f5c125d",
   "metadata": {},
   "outputs": [
    {
     "name": "stdout",
     "output_type": "stream",
     "text": [
      "Enter n value: 10\n",
      "==================================================\n",
      "Cubes of numbers\n",
      "==================================================\n",
      "3\n",
      "6\n",
      "9\n",
      "12\n",
      "15\n",
      "18\n",
      "21\n",
      "24\n",
      "27\n",
      "==================================================\n",
      "Sum of cubes of first 10 natural numbers is 90\n"
     ]
    }
   ],
   "source": [
    "#Sum of cubes of first N natural number using while loop\n",
    "#while loop \n",
    "\n",
    "n=int(input(\"Enter n value: \"))\n",
    "if(n<0):\n",
    "    print(\"Invalid input\")\n",
    "else:\n",
    "    ss=0\n",
    "    i=1\n",
    "    print(\"=\"*50)\n",
    "    print(\"Cubes of numbers\")\n",
    "    print(\"=\"*50)\n",
    "    while(i<n):                 #already defined that loop to be runned from 1 to n+1 so no need of updation(incremnt prt)\n",
    "        print(\"{}\".format(i*3))\n",
    "        ss=ss+val\n",
    "        i=i+1\n",
    "    else:\n",
    "        print(\"=\"*50)\n",
    "        print(\"Sum of cubes of first {} natural numbers is {}\".format(n,ss))"
   ]
  },
  {
   "cell_type": "code",
   "execution_count": 53,
   "id": "39a80c85",
   "metadata": {},
   "outputs": [
    {
     "name": "stdout",
     "output_type": "stream",
     "text": [
      "Enter n value: 5\n",
      "ENter 1 value: 10\n",
      "ENter 2 value: 20\n",
      "ENter 3 value: 30\n",
      "ENter 4 value: 40\n",
      "ENter 5 value: 50\n",
      "========================================\n",
      "Content of list [10.0, 20.0, 30.0, 40.0, 50.0]\n",
      "========================================\n",
      "Sum is 15\n",
      "Average is 5 \n"
     ]
    }
   ],
   "source": [
    "#WAPP to accept numerical integers & find avg, sum (using list)\n",
    "#for loop\n",
    "\n",
    "n=int(input(\"Enter n value: \"))\n",
    "if(n<0):\n",
    "    print(\"Invalid input\")\n",
    "else:\n",
    "    lst=list()\n",
    "    for i in range(1,n+1):\n",
    "        val=float(input(\"ENter {} value: \".format(i)))           #giving values\n",
    "        lst.append(val)                        #adding value by value into lst\n",
    "    else:\n",
    "        print(\"=\"*40)\n",
    "        print(\"Content of list {}\".format(lst))\n",
    "        print(\"=\"*40)\n",
    "        s=0\n",
    "        val=0\n",
    "        for val in range(1,n+1):\n",
    "            s=s+val\n",
    "        else:\n",
    "            print(\"Sum is {}\".format(s))\n",
    "            print(\"Average is {} \".format(len(lst)))"
   ]
  },
  {
   "cell_type": "code",
   "execution_count": 54,
   "id": "fc262f67",
   "metadata": {},
   "outputs": [
    {
     "name": "stdout",
     "output_type": "stream",
     "text": [
      "Enter n value: 5\n",
      "ENter 1 value: 10\n",
      "ENter 2 value: 20\n",
      "ENter 3 value: 30\n",
      "ENter 4 value: 40\n",
      "ENter 5 value: 50\n",
      "========================================\n",
      "Content of list [10.0, 20.0, 30.0, 40.0, 50.0]\n",
      "========================================\n",
      "Sum is 15\n",
      "Average is 5 \n"
     ]
    }
   ],
   "source": [
    "#WAPP to accept numerical integers & find avg, sum(Using list)\n",
    "#while loop\n",
    "\n",
    "n=int(input(\"Enter n value: \"))\n",
    "if(n<0):\n",
    "    print(\"Invalid input\")\n",
    "else:\n",
    "    lst=list()\n",
    "    for i in range(1,n+1):\n",
    "        val=float(input(\"ENter {} value: \".format(i)))           #giving values\n",
    "        lst.append(val)                        #adding value by value into lst\n",
    "    else:\n",
    "        print(\"=\"*40)\n",
    "        print(\"Content of list {}\".format(lst))\n",
    "        print(\"=\"*40)\n",
    "        s=0\n",
    "        val=0\n",
    "        while(val<n+1):\n",
    "            s=s+val\n",
    "            val=val+1\n",
    "        else:\n",
    "            print(\"Sum is {}\".format(s))\n",
    "            print(\"Average is {} \".format(len(lst)))  or # print(\"Average is {} \".format(s/len(lst)))"
   ]
  },
  {
   "cell_type": "code",
   "execution_count": 63,
   "id": "e3db34cb",
   "metadata": {},
   "outputs": [
    {
     "name": "stdout",
     "output_type": "stream",
     "text": [
      "Enter n value: 5\n",
      "Enter a number: 10\n",
      "Enter a number: 20\n",
      "Enter a number: 30\n",
      "Enter a number: 40\n",
      "Enter a number: 50\n",
      "sum is 150.0\n",
      "Average is 30.0\n"
     ]
    }
   ],
   "source": [
    "#WAPP to accept numerical integers & find avg, sum (without using list)\n",
    "\n",
    "n=int(input(\"Enter n value: \"))\n",
    "if(n<0):\n",
    "    print(\"Invalid input\")\n",
    "else:\n",
    "    s=0\n",
    "    for val in range(1,n+1):\n",
    "        val=float(input(\"Enter a number: \"))\n",
    "        s=val+s\n",
    "    else:\n",
    "        print(\"sum is {}\".format(s))\n",
    "        print(\"Average is {}\".format(s/n))\n",
    "        "
   ]
  },
  {
   "cell_type": "code",
   "execution_count": 65,
   "id": "0b37aa98",
   "metadata": {},
   "outputs": [
    {
     "name": "stdout",
     "output_type": "stream",
     "text": [
      "P\n",
      "Y\n",
      "T\n",
      "H\n",
      "O\n",
      "N\n"
     ]
    }
   ],
   "source": [
    "#To print python using while loop \n",
    "s=\"PYTHON\"\n",
    "i=0\n",
    "while(i<len(s)):\n",
    "    print(\"{}\".format(s[i]))\n",
    "    i=i+1"
   ]
  },
  {
   "cell_type": "code",
   "execution_count": 68,
   "id": "6ce09c8f",
   "metadata": {},
   "outputs": [
    {
     "name": "stdout",
     "output_type": "stream",
     "text": [
      "P Y T H O N "
     ]
    }
   ],
   "source": [
    "#using for loop\n",
    "for i in s:\n",
    "    print(i,end=\" \")"
   ]
  },
  {
   "cell_type": "code",
   "execution_count": 69,
   "id": "67d0dd27",
   "metadata": {},
   "outputs": [
    {
     "name": "stdout",
     "output_type": "stream",
     "text": [
      "-----------------------------\n",
      "By using while loop\n",
      "-----------------------------\n",
      "\tP\n",
      "\tY\n",
      "\tT\n",
      "\tH\n",
      "\tO\n",
      "\tN\n",
      "-----------------------------\n",
      "By using for loop\n",
      "-----------------------------\n",
      "\tP\n",
      "\tY\n",
      "\tT\n",
      "\tH\n",
      "\tO\n",
      "\tN\n",
      "-----------------------------\n"
     ]
    }
   ],
   "source": [
    "s=\"PYTHON\"\n",
    "print(\"-----------------------------\")\n",
    "print(\"By using while loop\")\n",
    "print(\"-----------------------------\")\n",
    "i=0\n",
    "while(i<len(s)):\n",
    "    print(\"\\t{}\".format(s[i]))\n",
    "    i=i+1\n",
    "else:\n",
    "    print(\"-----------------------------\")\n",
    "print(\"By using for loop\")\n",
    "print(\"-----------------------------\")\n",
    "for ch in s:\n",
    "    print(\"\\t{}\".format(ch))\n",
    "else:\n",
    "    print(\"-----------------------------\")\n"
   ]
  },
  {
   "cell_type": "code",
   "execution_count": 73,
   "id": "d7169816",
   "metadata": {},
   "outputs": [
    {
     "name": "stdout",
     "output_type": "stream",
     "text": [
      "==================================================\n",
      "10\n",
      "Rushikesh\n",
      "Python Dev\n",
      "50000\n",
      "Accenture\n",
      "==================================================\n",
      "10\n",
      "Rushikesh\n",
      "Python Dev\n",
      "50000\n",
      "Accenture\n"
     ]
    }
   ],
   "source": [
    "# to print the list using while & for loop \n",
    "\n",
    "lst=[10,\"Rushikesh\",\"Python Dev\",50000,\"Accenture\"]\n",
    "print(\"=\"*50)\n",
    "for i in lst:\n",
    "    print(i)\n",
    "print(\"=\"*50)\n",
    "i=0\n",
    "while(i<len(lst)):\n",
    "    print(\"{}\".format(lst[i]))\n",
    "    i=i+1\n",
    "\n"
   ]
  },
  {
   "cell_type": "code",
   "execution_count": 78,
   "id": "73f20821",
   "metadata": {},
   "outputs": [
    {
     "name": "stdout",
     "output_type": "stream",
     "text": [
      "Enter n value: 10\n",
      "1\n",
      "2\n",
      "3\n",
      "4\n",
      "5\n",
      "6\n",
      "7\n",
      "8\n",
      "9\n",
      "10\n"
     ]
    }
   ],
   "source": [
    "#Write a python program which will generate 1 to n numbers\n",
    "# where n is a +ve by using for loop\n",
    "\n",
    "n=eval(input(\"Enter n value: \"))\n",
    "if(n<=0):\n",
    "    print(\"Invalid input\")\n",
    "for i in range(1,n+1):\n",
    "    print(\"{}\".format(i))\n",
    "    "
   ]
  },
  {
   "cell_type": "code",
   "execution_count": 81,
   "id": "95b51aaf",
   "metadata": {},
   "outputs": [
    {
     "name": "stdout",
     "output_type": "stream",
     "text": [
      "Enter n value: 10\n",
      "1\n",
      "2\n",
      "3\n",
      "4\n",
      "5\n",
      "6\n",
      "7\n",
      "8\n",
      "9\n",
      "10\n"
     ]
    }
   ],
   "source": [
    "#Write a python program which will generate 1 to n numbers\n",
    "# where n is a +ve by using while loop\n",
    "\n",
    "n=eval(input(\"Enter n value: \"))\n",
    "if(n<=0):\n",
    "    print(\"Invalid input\")\n",
    "i=1\n",
    "while(i<n+1):\n",
    "    print(\"{}\".format(i))\n",
    "    i=i+1"
   ]
  },
  {
   "cell_type": "code",
   "execution_count": 89,
   "id": "89fc0f3f",
   "metadata": {},
   "outputs": [
    {
     "name": "stdout",
     "output_type": "stream",
     "text": [
      "Enter n value: 10\n",
      "Odd numbers within 10 is 1\n",
      "Odd numbers within 10 is 3\n",
      "Odd numbers within 10 is 5\n",
      "Odd numbers within 10 is 7\n",
      "Odd numbers within 10 is 9\n",
      "Odd numbers within 10 is 11\n"
     ]
    }
   ],
   "source": [
    "#Write a python program which will generate odd numbers within n \n",
    "\n",
    "n=eval(input(\"Enter n value: \"))\n",
    "for i in range(1,n+2,2):\n",
    "    print(\"Odd numbers within {} is {}\".format(n,i))\n"
   ]
  },
  {
   "cell_type": "code",
   "execution_count": 91,
   "id": "37ba1c11",
   "metadata": {},
   "outputs": [
    {
     "name": "stdout",
     "output_type": "stream",
     "text": [
      "Enter How Odd Numbers u want to generate:10\n",
      "-------------------------------\n",
      "Odd Number within 10\n",
      "-------------------------------\n",
      "\t1\n",
      "\t3\n",
      "\t5\n",
      "\t7\n",
      "\t9\n"
     ]
    }
   ],
   "source": [
    "n=int(input(\"Enter How Odd Numbers u want to generate:\"))\n",
    "if(n<=0):\n",
    "    print(\"{} is Invalid Input\".format(n))\n",
    "else:\n",
    "    print(\"-------------------------------\")\n",
    "    print(\"Odd Number within {}\".format(n))\n",
    "    print(\"-------------------------------\")\n",
    "    for i in range(1,n+1,2):\n",
    "        print(\"\\t{}\".format(i))"
   ]
  },
  {
   "cell_type": "code",
   "execution_count": 93,
   "id": "26b280b3",
   "metadata": {},
   "outputs": [
    {
     "name": "stdout",
     "output_type": "stream",
     "text": [
      "Enter a Number for finding sum of its Digits:1234\n",
      "DigitsSum(1234)=10\n"
     ]
    }
   ],
   "source": [
    "#write a python program which will calculate sum of the digits of the given number.\n",
    "#DigitsSumEx1.py\n",
    "\n",
    "num=input(\"Enter a Number for finding sum of its Digits:\")\n",
    "s=0\n",
    "for val in num:         #1234 stores in val\n",
    "    d=int(val)           #1234 convertg into integer value \n",
    "    s=s+d               #s=0+1 = 1\n",
    "else:\n",
    "    print(\"DigitsSum({})={}\".format(num,s))"
   ]
  },
  {
   "cell_type": "code",
   "execution_count": 111,
   "id": "04a57f4e",
   "metadata": {},
   "outputs": [
    {
     "name": "stdout",
     "output_type": "stream",
     "text": [
      "Enter a Number for finding sum of its Digits:1234\n"
     ]
    },
    {
     "ename": "KeyboardInterrupt",
     "evalue": "",
     "output_type": "error",
     "traceback": [
      "\u001b[1;31m---------------------------------------------------------------------------\u001b[0m",
      "\u001b[1;31mKeyboardInterrupt\u001b[0m                         Traceback (most recent call last)",
      "Cell \u001b[1;32mIn[111], line 6\u001b[0m\n\u001b[0;32m      4\u001b[0m s\u001b[38;5;241m=\u001b[39m\u001b[38;5;241m0\u001b[39m\n\u001b[0;32m      5\u001b[0m i\u001b[38;5;241m=\u001b[39m\u001b[38;5;241m0\u001b[39m\n\u001b[1;32m----> 6\u001b[0m \u001b[38;5;28;01mwhile\u001b[39;00m(i\u001b[38;5;241m<\u001b[39mnum): \n\u001b[0;32m      7\u001b[0m     d\u001b[38;5;241m=\u001b[39m\u001b[38;5;28mint\u001b[39m(i)\n\u001b[0;32m      8\u001b[0m     s\u001b[38;5;241m=\u001b[39ms\u001b[38;5;241m+\u001b[39md\n",
      "\u001b[1;31mKeyboardInterrupt\u001b[0m: "
     ]
    }
   ],
   "source": [
    "#using while loop\n",
    "\n",
    "num=eval(input(\"Enter a Number for finding sum of its Digits:\"))\n",
    "s=0\n",
    "i=0\n",
    "while(i<num): \n",
    "    d=int(i)\n",
    "    s=s+d\n",
    "i=i+1\n",
    "print(s)"
   ]
  },
  {
   "cell_type": "code",
   "execution_count": 117,
   "id": "56721868",
   "metadata": {},
   "outputs": [
    {
     "name": "stdout",
     "output_type": "stream",
     "text": [
      "3\n",
      "2\n",
      "1\n"
     ]
    }
   ],
   "source": [
    "#Write a python program which will generate  n to 1 numbers\n",
    "# where n is a +ve by using for loop.\n",
    "\n",
    "for i in range(n,0,-1):\n",
    "    print(\"{}\".format(i))"
   ]
  },
  {
   "cell_type": "code",
   "execution_count": 118,
   "id": "aa4e2405",
   "metadata": {},
   "outputs": [
    {
     "name": "stdout",
     "output_type": "stream",
     "text": [
      "Enter How Many Numbers u want to generate:5\n",
      "-------------------------------\n",
      "Number from 5 to 1\n",
      "-------------------------------\n",
      "\t5\n",
      "\t4\n",
      "\t3\n",
      "\t2\n",
      "\t1\n",
      "-------------------------------\n"
     ]
    }
   ],
   "source": [
    "n=int(input(\"Enter How Many Numbers u want to generate:\"))\n",
    "if(n<=0):\n",
    "    print(\"{} is Invalid Input\".format(n))\n",
    "else:\n",
    "    print(\"-------------------------------\")\n",
    "    print(\"Number from {} to {}\".format(n,1))\n",
    "    print(\"-------------------------------\")\n",
    "    for i in range(n,0,-1):\n",
    "        print(\"\\t{}\".format(i))\n",
    "    else:\n",
    "        print(\"-------------------------------\")\n"
   ]
  },
  {
   "cell_type": "code",
   "execution_count": 121,
   "id": "6679fd73",
   "metadata": {},
   "outputs": [
    {
     "name": "stdout",
     "output_type": "stream",
     "text": [
      "ENter n: 10\n",
      "2\n",
      "4\n",
      "6\n",
      "8\n",
      "10\n"
     ]
    }
   ],
   "source": [
    "#Write a python program which will generate  even numbers within n\n",
    "#where n is a +ve by using for loop.\n",
    "\n",
    "n=eval(input(\"ENter n: \"))\n",
    "for i in range(2,n+2,2):\n",
    "    print(i)"
   ]
  },
  {
   "cell_type": "code",
   "execution_count": 122,
   "id": "2d108b87",
   "metadata": {},
   "outputs": [
    {
     "name": "stdout",
     "output_type": "stream",
     "text": [
      "Enter How Many Even Numbers u want to generate:10\n",
      "-------------------------------\n",
      "Even Number within 10\n",
      "-------------------------------\n",
      "\t2\n",
      "\t4\n",
      "\t6\n",
      "\t8\n",
      "\t10\n"
     ]
    }
   ],
   "source": [
    "#even numbers prog in proper format\n",
    "\n",
    "n=int(input(\"Enter How Many Even Numbers u want to generate:\"))\n",
    "if(n<=0):\n",
    "    print(\"{} is Invalid Input\".format(n))\n",
    "else:\n",
    "    print(\"-------------------------------\")\n",
    "    print(\"Even Number within {}\".format(n))\n",
    "    print(\"-------------------------------\")\n",
    "    for i in range(2,n+1,2):\n",
    "        print(\"\\t{}\".format(i))"
   ]
  },
  {
   "cell_type": "code",
   "execution_count": 126,
   "id": "97a8cf4c",
   "metadata": {},
   "outputs": [
    {
     "name": "stdout",
     "output_type": "stream",
     "text": [
      "Enter  Number:5\n",
      "120\n"
     ]
    }
   ],
   "source": [
    "#FActorial program\n",
    "#Ex-- 3! ---> 3 * 2 *1 = 6\n",
    "\n",
    "n=int(input(\"Enter  Number:\"))\n",
    "f=1\n",
    "for i in range(1,n+1):\n",
    "    f=f*i    #f= 1 * 1 =1   # i=2--> f= 1 *2=2   # i=3-->f= 2*3=6   # i=4 --> f= 6 #4= 24  # i=5--> f= 24 *5=120\n",
    "else:\n",
    "    print(f)\n",
    "    \n",
    "    \n"
   ]
  },
  {
   "cell_type": "code",
   "execution_count": 128,
   "id": "6bc83024",
   "metadata": {},
   "outputs": [
    {
     "name": "stdout",
     "output_type": "stream",
     "text": [
      "Enter a Number for finding factorial:5\n",
      "Factorial(5)=120\n"
     ]
    }
   ],
   "source": [
    "n=int(input(\"Enter a Number for finding factorial:\"))\n",
    "if(n<0):\n",
    "    print(\"{} is Invalid Input\".format(n))\n",
    "else:\n",
    "    f=1\n",
    "    for i in range(1,n+1):\n",
    "        f=f*i\n",
    "    else:\n",
    "        print(\"Factorial({})={}\".format(n,f))"
   ]
  },
  {
   "cell_type": "code",
   "execution_count": 130,
   "id": "e57c18b6",
   "metadata": {},
   "outputs": [
    {
     "name": "stdout",
     "output_type": "stream",
     "text": [
      "Enter a Number for finding factorial:6\n",
      "720\n"
     ]
    }
   ],
   "source": [
    "#Write a python program which will generate  n to 1 numbers & to find factorial of a number \n",
    "\n",
    "n=int(input(\"Enter a Number for finding factorial:\"))\n",
    "f=1\n",
    "for i in range(n,0,-1):\n",
    "    f=f*i\n",
    "else:\n",
    "    print(f)"
   ]
  },
  {
   "cell_type": "code",
   "execution_count": 138,
   "id": "a4efe848",
   "metadata": {},
   "outputs": [
    {
     "name": "stdout",
     "output_type": "stream",
     "text": [
      "How many names you want to enter:3\n",
      "How many names you want to enter:3\n",
      "How many names you want to enter:3\n",
      "How many names you want to enter:3\n",
      "<class 'list'>\n"
     ]
    }
   ],
   "source": [
    "#write a python program which will accept list of names from the keyboard and find there length\n",
    "#ListNamesWithLengthEx.py\n",
    "\n",
    "n=int(input(\"How many names you want to enter:\"))\n",
    "lst=list()\n",
    "for i in range(1,n+1):\n",
    "    value=int(input(\"How many names you want to enter:\"))\n",
    "    lst.append(value)\n",
    "print((list))\n"
   ]
  },
  {
   "cell_type": "markdown",
   "id": "56b7c6b6",
   "metadata": {},
   "source": [
    "**BREAK**"
   ]
  },
  {
   "cell_type": "code",
   "execution_count": 11,
   "id": "9ec8683b",
   "metadata": {},
   "outputs": [
    {
     "name": "stdout",
     "output_type": "stream",
     "text": [
      "P\n",
      "Y\n",
      "T\n",
      "H\n",
      "O\n",
      "N\n",
      "==================================================\n",
      "P\n",
      "Y\n",
      "T\n",
      "H\n",
      "Other statemets of program\n"
     ]
    }
   ],
   "source": [
    "s=\"PYTHON\"\n",
    "for i in s:\n",
    "    print(i)\n",
    "#using break , to print PYTH\n",
    "print(\"=\"*50)\n",
    "for i in s:\n",
    "    if(i==\"O\"):\n",
    "        break\n",
    "    else:\n",
    "        print(i)\n",
    "else:\n",
    "    print(\"Else part of for loop\")\n",
    "print(\"Other statemets of program\")"
   ]
  },
  {
   "cell_type": "code",
   "execution_count": 20,
   "id": "19beb75f",
   "metadata": {},
   "outputs": [
    {
     "name": "stdout",
     "output_type": "stream",
     "text": [
      "P\n",
      "y\n",
      "t\n",
      "h\n",
      "o\n",
      "n\n",
      "==================================================\n",
      "P\n",
      "y\n",
      "t\n",
      "h\n",
      "o\n",
      "Other stmnts of program\n"
     ]
    }
   ],
   "source": [
    "s=\"Python\"\n",
    "i=0\n",
    "while(i<len(s)):\n",
    "    print(s[i])\n",
    "    i=i+1\n",
    "print(\"=\"*50)\n",
    "#To print Pytho\n",
    "i=0\n",
    "while(i<len(s)):\n",
    "    if(s[i]==\"n\"):\n",
    "        break\n",
    "    else:\n",
    "        print(s[i])\n",
    "    i=i+1\n",
    "else:\n",
    "    print(\"else part of while loop\")\n",
    "print(\"Other stmnts of program\")"
   ]
  },
  {
   "cell_type": "code",
   "execution_count": 25,
   "id": "3c59af60",
   "metadata": {},
   "outputs": [
    {
     "name": "stdout",
     "output_type": "stream",
     "text": [
      "Values in list are 10\n",
      "Values in list are 20\n",
      "Values in list are rossum\n"
     ]
    }
   ],
   "source": [
    "lst=[10,20,\"rossum\",40.56,80]\n",
    "#to print till rossum\n",
    "for i in lst:\n",
    "    if i==40.56:\n",
    "        break\n",
    "    else:\n",
    "        print(\"Values in list are\",i)"
   ]
  },
  {
   "cell_type": "code",
   "execution_count": 34,
   "id": "3f58a871",
   "metadata": {},
   "outputs": [
    {
     "name": "stdout",
     "output_type": "stream",
     "text": [
      "10-->Python\n",
      "20-->Datascience\n",
      "30-->R\n"
     ]
    }
   ],
   "source": [
    "#dict\n",
    "#print upto 30\n",
    "\n",
    "d={10:\"Python\",20:\"Datascience\",30:\"R\",40:\"Java\"}\n",
    "for i,j in d.items():\n",
    "    if i==40:\n",
    "        break\n",
    "    else:\n",
    "        print(\"{}-->{}\".format(i,j))"
   ]
  },
  {
   "cell_type": "code",
   "execution_count": 38,
   "id": "e55bdeb0",
   "metadata": {},
   "outputs": [
    {
     "name": "stdout",
     "output_type": "stream",
     "text": [
      "Enter n:5\n",
      "5 is a prime number\n"
     ]
    }
   ],
   "source": [
    "#prime no.\n",
    "\n",
    "n=eval(input(\"Enter n:\"))\n",
    "if(n<=1):\n",
    "    print(\"{} is invalid input\".format(n))\n",
    "else:\n",
    "    result=True\n",
    "    for i in range(2,n):\n",
    "        if(n%i==0):           # i=2, n=5 (5%2 not equal to 0), #i=3, n=5... i=5,n=5 (5%5==0)\n",
    "            result=False\n",
    "            break\n",
    "    if(result):              #result is true , so below print stmnt is printed for n (5)\n",
    "        print(\"{} is a prime number\".format(n))\n",
    "    else:\n",
    "        print(\"{} is not a prime number\".format(n))\n",
    "            "
   ]
  },
  {
   "cell_type": "code",
   "execution_count": 41,
   "id": "27d6e3fd",
   "metadata": {},
   "outputs": [
    {
     "name": "stdout",
     "output_type": "stream",
     "text": [
      "Enter n:9\n",
      "9 is not a prime number\n"
     ]
    }
   ],
   "source": [
    "#\n",
    "#prime no.\n",
    "\n",
    "n=eval(input(\"Enter n:\"))\n",
    "if(n<=1):\n",
    "    print(\"{} is invalid input\".format(n))\n",
    "else:\n",
    "    result=\"Prime\"\n",
    "    for i in range(2,n):\n",
    "        if(n%i==0):           #n=9 , i=2 # i=3,n=9, (n%i==> 9%3==0)\n",
    "            result=\"Not Prime\"  #so result becomes Not Prime\n",
    "            break\n",
    "    if(result==\"Prime\"):         #NotPrime==Prime (false), so else loop prints           \n",
    "        print(\"{} is a prime number\".format(n))\n",
    "    else:\n",
    "        print(\"{} is not a prime number\".format(n))   # 9 is nt a prime number\n",
    "            "
   ]
  },
  {
   "cell_type": "code",
   "execution_count": 42,
   "id": "59a92f0f",
   "metadata": {},
   "outputs": [
    {
     "name": "stdout",
     "output_type": "stream",
     "text": [
      "Enter n:9\n",
      "9 is not a prime number\n"
     ]
    }
   ],
   "source": [
    "#\n",
    "\n",
    "#\n",
    "#prime no.\n",
    "\n",
    "n=eval(input(\"Enter n:\"))\n",
    "if(n<=1):\n",
    "    print(\"{} is invalid input\".format(n))\n",
    "else:\n",
    "    result=0\n",
    "    for i in range(2,n):\n",
    "        if(n%i==0):           #n=9 , i=2 # i=3,n=9, (n%i==> 9%3==0)\n",
    "            result=1     #so result becomes 1\n",
    "            break\n",
    "    if(result==0):         #1==0(false) ,so else loop prints           \n",
    "        print(\"{} is a prime number\".format(n))\n",
    "    else:\n",
    "        print(\"{} is not a prime number\".format(n))   # 9 is nt a prime number\n",
    "            "
   ]
  },
  {
   "cell_type": "code",
   "execution_count": 54,
   "id": "673de43b",
   "metadata": {},
   "outputs": [
    {
     "name": "stdout",
     "output_type": "stream",
     "text": [
      "Enter n value: 4\n",
      "Enter words: gft\n",
      "Enter words: rft\n",
      "Enter words: hie\n",
      "Enter words: hello\n",
      "Given list of words are ['gft', 'rft', 'hie', 'hello']\n",
      "========================================\n",
      "List of vowel words\n",
      "========================================\n",
      "hie\n",
      "hello\n",
      "==================================================\n"
     ]
    }
   ],
   "source": [
    "#vowels\n",
    "\n",
    "n=eval(input(\"Enter n value: \"))\n",
    "if(n<=0):\n",
    "    print(\"{} is Invalid input\".format(n))\n",
    "else:\n",
    "    lst=list()  \n",
    "    for i in range(1,n+1):\n",
    "        val=input(\"Enter words: \")\n",
    "        lst.append(val)\n",
    "    else:\n",
    "        print(\"Given list of words are\",lst)\n",
    "        print(\"=\"*40)\n",
    "        print(\"List of vowel words\")\n",
    "        print(\"=\"*40)\n",
    "        for word in lst:\n",
    "            if 'a' in word.lower() or 'e' in word.lower() or 'i' in word.lower() or 'o' in word.lower() or 'u' in word.lower():\n",
    "                print(word)\n",
    "        print(\"=\"*50)\n",
    "        "
   ]
  },
  {
   "cell_type": "code",
   "execution_count": 57,
   "id": "eeae1856",
   "metadata": {},
   "outputs": [
    {
     "name": "stdout",
     "output_type": "stream",
     "text": [
      "Enter n value: 4\n",
      "Enter words: gft\n",
      "Enter words: hie\n",
      "Enter words: you\n",
      "Enter words: rft\n",
      "Given list of words are ['gft', 'hie', 'you', 'rft']\n",
      "Vowels are ['hie', 'you']\n",
      "Consonants are ['gft', 'rft']\n"
     ]
    }
   ],
   "source": [
    "#print vowels & consonants\n",
    "\n",
    "n=eval(input(\"Enter n value: \"))\n",
    "if(n<=0):\n",
    "    print(\"{} is Invalid input\".format(n))\n",
    "else:\n",
    "    lst=list()  \n",
    "    for i in range(1,n+1):\n",
    "        val=input(\"Enter words: \")\n",
    "        lst.append(val)\n",
    "    else:\n",
    "        print(\"Given list of words are\",lst)\n",
    "        vw=list()\n",
    "        cw=list()\n",
    "        for word in lst:\n",
    "            if 'a' in word.lower() or 'e' in word.lower() or 'i' in word.lower() or 'o' in word.lower() or 'u' in word.lower():\n",
    "                vw.append(word)\n",
    "            else:\n",
    "                cw.append(word)\n",
    "        print(\"Vowels are\",vw)\n",
    "        print(\"Consonants are\",cw)\n",
    "        "
   ]
  },
  {
   "cell_type": "markdown",
   "id": "656b8aa3",
   "metadata": {},
   "source": [
    "**CONTINUE**"
   ]
  },
  {
   "cell_type": "code",
   "execution_count": 63,
   "id": "b7afa0f5",
   "metadata": {},
   "outputs": [
    {
     "name": "stdout",
     "output_type": "stream",
     "text": [
      "P\n",
      "T\n",
      "H\n",
      "N\n",
      "========================================\n",
      "else part of for loop\n"
     ]
    }
   ],
   "source": [
    "#To display PTHN\n",
    "#using for loop\n",
    "\n",
    "s=\"PYTHON\"\n",
    "for i in s:\n",
    "    if i==\"Y\" or i==\"O\":    #i=P --> P==Y or P==O (false), # i= \"Y\"--> \"Y\"==\"Y\" or \"Y\"=\"O\" --> loop continues, so again i=\"T\" so on\n",
    "         continue             #i=H, i= \"O\" --> \"O\"==\"Y\" or \"O\" ==\"O\" (continue)-> loop continues , i=\"N\" comes out of loop\n",
    "    else:                   #- and else part is printed\n",
    "        print(i)\n",
    "else:\n",
    "    print(\"=\"*40)\n",
    "    print(\"else part of for loop\")"
   ]
  },
  {
   "cell_type": "code",
   "execution_count": 70,
   "id": "d6e88b07",
   "metadata": {},
   "outputs": [
    {
     "name": "stdout",
     "output_type": "stream",
     "text": [
      "P\n",
      "T\n",
      "H\n",
      "N\n",
      "==================================================\n",
      "Else part of while loop\n"
     ]
    }
   ],
   "source": [
    "#To display PTHN\n",
    "#using while loop\n",
    "\n",
    "s=\"PYTHON\"\n",
    "i=0\n",
    "while(i<len(s)):\n",
    "    if s[i]==\"Y\" or s[i]==\"O\":\n",
    "        i=i+1\n",
    "        continue\n",
    "    print(s[i])\n",
    "    i=i+1\n",
    "else:\n",
    "    print(\"=\"*50)\n",
    "    print(\"Else part of while loop\")\n",
    "    \n"
   ]
  },
  {
   "cell_type": "code",
   "execution_count": 76,
   "id": "99d1a799",
   "metadata": {},
   "outputs": [
    {
     "name": "stdout",
     "output_type": "stream",
     "text": [
      "10\n",
      "30\n",
      "50\n",
      "7\n",
      "==================================================\n",
      "Positive sum is 97\n"
     ]
    }
   ],
   "source": [
    "#to add postve numbers \n",
    "\n",
    "lst=[10,-20,30,-40,50,-60,7,-7]\n",
    "ps=0\n",
    "for i in lst:\n",
    "    if(i<0):          #if ngtve number comes loop continues \n",
    "        continue\n",
    "    else:\n",
    "        print(i)         #10, 30, 50 ,7\n",
    "        ps=ps+i          # i=10, ps= 0+10  # i=30 ,ps=10 ==> 40,  #i=50, ps=40 ==> 50+40=90, # i=7, ps=90 ==> 90+7= 97\n",
    "else:\n",
    "    print(\"=\"*50)\n",
    "    print(\"Positive sum is\",ps)"
   ]
  },
  {
   "cell_type": "code",
   "execution_count": 77,
   "id": "aa506fd8",
   "metadata": {},
   "outputs": [
    {
     "name": "stdout",
     "output_type": "stream",
     "text": [
      "-20\n",
      "-40\n",
      "-60\n",
      "-7\n",
      "==================================================\n",
      "Positive sum is -127\n"
     ]
    }
   ],
   "source": [
    "#to add ngtve sum\n",
    "\n",
    "lst=[10,-20,30,-40,50,-60,7,-7]\n",
    "ps=0\n",
    "for i in lst:\n",
    "    if(i<0):        #i=10 (10<0)-->false , so it goes to else block (continue)--> loop continues\n",
    "        print(i)    #i=-20 ( -20<0)--> True--> i=-20, ps= 0+ (-20)=-20 ,# i=30 (else block->loop continues)\n",
    "        ps=ps+i      #i=-40 (-40<0)-->True.....\n",
    "    else:\n",
    "        continue\n",
    "else:\n",
    "    print(\"=\"*50)\n",
    "    print(\"Positive sum is\",ps)"
   ]
  },
  {
   "cell_type": "markdown",
   "id": "2dd8c338",
   "metadata": {},
   "source": [
    "**Nested loops examples**"
   ]
  },
  {
   "cell_type": "code",
   "execution_count": 36,
   "id": "af49806d",
   "metadata": {},
   "outputs": [
    {
     "name": "stdout",
     "output_type": "stream",
     "text": [
      "Multiplication table of 10\n",
      "==================================================\n",
      "10x1=10\n",
      "10x2=20\n",
      "10x3=30\n",
      "10x4=40\n",
      "10x5=50\n",
      "10x6=60\n",
      "10x7=70\n",
      "10x8=80\n",
      "10x9=90\n",
      "10x10=100\n",
      "==================================================\n",
      "Multiplication table of 4\n",
      "==================================================\n",
      "4x1=4\n",
      "4x2=8\n",
      "4x3=12\n",
      "4x4=16\n",
      "4x5=20\n",
      "4x6=24\n",
      "4x7=28\n",
      "4x8=32\n",
      "4x9=36\n",
      "4x10=40\n",
      "==================================================\n",
      "Multiplication table of 5\n",
      "==================================================\n",
      "5x1=5\n",
      "5x2=10\n",
      "5x3=15\n",
      "5x4=20\n",
      "5x5=25\n",
      "5x6=30\n",
      "5x7=35\n",
      "5x8=40\n",
      "5x9=45\n",
      "5x10=50\n",
      "==================================================\n",
      "-4 is Invalid input and no mulpn table\n"
     ]
    }
   ],
   "source": [
    "#WAPP which will accpt lst of numerical values & display the multiplication table for every value of list (IMP)\n",
    "#Nested loop\n",
    "#list is taken\n",
    "\n",
    "list=[10,4,5,-4]\n",
    "for n in list: #outer loop\n",
    "    if(n<=0):\n",
    "        print(\"{} is Invalid input and no mulpn table\".format(n))\n",
    "    else:\n",
    "        print(\"Multiplication table of {}\".format(n))\n",
    "        print(\"=\"*50)\n",
    "        for i in range(1,11):         #inner loop\n",
    "            print(\"{}x{}={}\".format(n,i,n*i))\n",
    "        else:\n",
    "            print(\"=\"*50)"
   ]
  },
  {
   "cell_type": "code",
   "execution_count": 39,
   "id": "a9e6e473",
   "metadata": {},
   "outputs": [
    {
     "name": "stdout",
     "output_type": "stream",
     "text": [
      "Enter how many multplication tables to print3\n",
      "Enter value: -9\n",
      "Enter value: 10\n",
      "Enter value: 39\n",
      "List is [-9, 10, 39]\n",
      "-9 is Invalid input and no mulpn table\n",
      "==================================================\n",
      "Multiplication table of 10\n",
      "==================================================\n",
      "10x1=10\n",
      "10x2=20\n",
      "10x3=30\n",
      "10x4=40\n",
      "10x5=50\n",
      "10x6=60\n",
      "10x7=70\n",
      "10x8=80\n",
      "10x9=90\n",
      "10x10=100\n",
      "==================================================\n",
      "Multiplication table of 39\n",
      "==================================================\n",
      "39x1=39\n",
      "39x2=78\n",
      "39x3=117\n",
      "39x4=156\n",
      "39x5=195\n",
      "39x6=234\n",
      "39x7=273\n",
      "39x8=312\n",
      "39x9=351\n",
      "39x10=390\n",
      "==================================================\n"
     ]
    }
   ],
   "source": [
    "##WAPP which will accpt lst of numerical values & display the multiplication table for every value of list (IMP)\n",
    "#Nested loop\n",
    "#Empty list is taken & use append \n",
    "\n",
    "l1=[]\n",
    "n=eval(input(\"Enter how many multplication tables to print\"))\n",
    "if(n<=0):\n",
    "    print(\"Invalid input\")\n",
    "else:\n",
    "    for i in range(1,n+1):\n",
    "        val=int(input(\"Enter value: \"))\n",
    "        l1.append(val)    #adding elements of val into list (l1)\n",
    "    else:\n",
    "        print(\"List is\",l1)\n",
    "        for n in l1:\n",
    "            if(n<=0):\n",
    "                print(\"{} is Invalid input and no mulpn table\".format(n))\n",
    "                print(\"=\"*50)\n",
    "            else:\n",
    "                print(\"Multiplication table of {}\".format(n))\n",
    "                print(\"=\"*50)\n",
    "                for i in range(1,11):\n",
    "                    print(\"{}x{}={}\".format(n,i,n*i))\n",
    "                else:\n",
    "                    print(\"=\"*50)\n",
    "        "
   ]
  },
  {
   "cell_type": "code",
   "execution_count": 61,
   "id": "06d0b9e5",
   "metadata": {},
   "outputs": [
    {
     "name": "stdout",
     "output_type": "stream",
     "text": [
      "==================================================\n",
      "9 is not a prime number\n",
      "==================================================\n",
      "3 is  a prime number\n",
      "==================================================\n",
      "5 is  a prime number\n",
      "==================================================\n",
      "8 is not a prime number\n"
     ]
    }
   ],
   "source": [
    "#WAP which will accpt list of numerical values & print nly prime numbers\n",
    "\n",
    "l2=[9,3,5,8]\n",
    "for n in l2:\n",
    "    if(n<=0):\n",
    "        print(\"Invalid input\")\n",
    "    else:\n",
    "        print(\"=\"*50)\n",
    "        for i in range(2,n):\n",
    "            result=True\n",
    "            if(n%i==0):\n",
    "                result=False\n",
    "                break\n",
    "        if(result):\n",
    "            print(\"{} is  a prime number\".format(n))\n",
    "        else:\n",
    "            print(\"{} is not a prime number\".format(n))\n",
    "            "
   ]
  },
  {
   "cell_type": "code",
   "execution_count": 71,
   "id": "63784835",
   "metadata": {},
   "outputs": [
    {
     "name": "stdout",
     "output_type": "stream",
     "text": [
      "Enter how many number 3\n",
      "Enter values: -9\n",
      "Enter values: 8\n",
      "Enter values: 5\n",
      "List is [-9, 8, 5]\n",
      "-9 is invalid input\n",
      "5 is  a prime number\n"
     ]
    }
   ],
   "source": [
    "#Empty list\n",
    "#to print nly prime no.s\n",
    "\n",
    "l1=[]\n",
    "n=eval(input(\"Enter how many number \"))\n",
    "if(n<=0):\n",
    "    print(\"invalid input\")\n",
    "else:\n",
    "    for i in range(1,n+1):\n",
    "        val=int(input(\"Enter values: \"))\n",
    "        l1.append(val)\n",
    "    else:\n",
    "        print(\"List is\",l1)\n",
    "        for n in l1:        #outer for loop\n",
    "            if(n<=0):\n",
    "                print(\"{} is invalid input\".format(n))\n",
    "            else:\n",
    "                result=True\n",
    "                for i in range(2,n):     #inner for loop\n",
    "                    result=True\n",
    "                    if(n%i==0):\n",
    "                        result=False\n",
    "                        break\n",
    "                if(result):\n",
    "                    print(\"{} is  a prime number\".format(n))\n",
    "            #else:\n",
    "                #print(\"{} is not a prime number\".format(n))\n",
    "            \n",
    "            \n",
    "    "
   ]
  },
  {
   "cell_type": "code",
   "execution_count": 72,
   "id": "ce48ed41",
   "metadata": {},
   "outputs": [
    {
     "name": "stdout",
     "output_type": "stream",
     "text": [
      "Enter how many number 4\n",
      "Enter values: -10\n",
      "Enter values: 9\n",
      "Enter values: 5\n",
      "Enter values: 3\n",
      "List is [-10, 9, 5, 3]\n",
      "-10 is invalid input\n",
      "prime list [5, 3]\n",
      "non primelist [9]\n"
     ]
    }
   ],
   "source": [
    "#To print prime  non prime list seperately\n",
    "\n",
    "#Empty list\n",
    "#to print nly prime no.s\n",
    "\n",
    "l1=[]\n",
    "n=eval(input(\"Enter how many number \"))\n",
    "if(n<=0):\n",
    "    print(\"invalid input\")\n",
    "else:\n",
    "    for i in range(1,n+1):\n",
    "        val=int(input(\"Enter values: \"))\n",
    "        l1.append(val)\n",
    "    else:\n",
    "        print(\"List is\",l1)\n",
    "        prime_list=[]\n",
    "        non_prime_list=[]\n",
    "        for n in l1:        #outer for loop\n",
    "            if(n<=0):\n",
    "                print(\"{} is invalid input\".format(n))\n",
    "            else:\n",
    "                result=True\n",
    "                for i in range(2,n):     #inner for loop\n",
    "                    result=True\n",
    "                    if(n%i==0):\n",
    "                        result=False\n",
    "                        break\n",
    "                if(result):\n",
    "                    prime_list.append(n)\n",
    "                else:\n",
    "                    non_prime_list.append(n)\n",
    "        print(\"prime list\",prime_list)\n",
    "        print(\"non primelist\",non_prime_list)\n",
    "                \n",
    "            \n",
    "            \n",
    "    \n"
   ]
  },
  {
   "cell_type": "code",
   "execution_count": 6,
   "id": "56536e0c",
   "metadata": {},
   "outputs": [
    {
     "name": "stdout",
     "output_type": "stream",
     "text": [
      "Enter correct age to vote: 12\n",
      "Enter correct age to vote: 13\n",
      "Enter correct age to vote: 26\n",
      "26 years old is Eligible for vote\n"
     ]
    }
   ],
   "source": [
    "#To check whther user is eligible to vote or not\n",
    "\n",
    "while(True):\n",
    "    age=eval(input(\"Enter correct age to vote: \"))\n",
    "    if(age>=18):\n",
    "        break\n",
    "print(\"{} years old is Eligible for vote\".format(age))"
   ]
  },
  {
   "cell_type": "code",
   "execution_count": 8,
   "id": "f1f154df",
   "metadata": {},
   "outputs": [
    {
     "name": "stdout",
     "output_type": "stream",
     "text": [
      "Enter correct age to vote: 10\n",
      "Enter correct age to vote: 15\n",
      "Enter correct age to vote: 95\n",
      "95 years old is Eligible for vote\n"
     ]
    }
   ],
   "source": [
    "#To check whther user is eligible to vote or not\n",
    "\n",
    "while(True):\n",
    "    age=eval(input(\"Enter correct age to vote: \"))\n",
    "    if(age>=18) and (age<=100):\n",
    "        break\n",
    "print(\"{} years old is Eligible for vote\".format(age))"
   ]
  },
  {
   "cell_type": "code",
   "execution_count": 11,
   "id": "8c138c68",
   "metadata": {},
   "outputs": [
    {
     "name": "stdout",
     "output_type": "stream",
     "text": [
      "Enter correct age to vote: 9\n",
      "Enter correct age to vote: 7\n",
      "Enter correct age to vote: 8\n",
      "Enter correct age to vote: 25\n",
      "25 years old is Eligible for vote\n"
     ]
    }
   ],
   "source": [
    "#To check whther user is eligible to vote or not\n",
    "#using count & asking to enter for limited number of tmes\n",
    "\n",
    "count=0\n",
    "while(count<=3):\n",
    "    age=eval(input(\"Enter correct age to vote: \"))\n",
    "    if(age>=18) and (age<=100):\n",
    "        break\n",
    "    count+=1\n",
    "if(count==4):\n",
    "    print(\"Lost your chances to vote & not eligibile for voting\")\n",
    "else:\n",
    "    print(\"{} years old is Eligible for vote\".format(age))"
   ]
  },
  {
   "cell_type": "code",
   "execution_count": 16,
   "id": "ff0536bc",
   "metadata": {},
   "outputs": [
    {
     "name": "stdout",
     "output_type": "stream",
     "text": [
      "Enter student number: 100\n",
      "Enter student name: acb\n",
      "Enter subject1 marks: 80\n",
      "Enter subject2 marks: 90\n",
      "Enter subject3 marks: 97\n",
      "The total marks is 267\n",
      "The percentage of marks is 89.0\n",
      "Grade is DIstinction\n",
      "========================================\n",
      "Marks Memo\n",
      "========================================\n",
      "Subject1 marks is 80\n",
      "Subject2 marks is 90\n",
      "Subject3 marks is 97\n",
      "Total marks is 267\n",
      "Percetage of marks is 89.0\n"
     ]
    }
   ],
   "source": [
    "#WAPP which will accept student no., student name & 3 subject marks (C,C++ & Python).\n",
    "#Calculate total marks,% of marks(assume max marks is 100)\n",
    "#Given Grade=Fail provided student secured less than 40 in any of the given subjects\n",
    "#Given Grade=Distinction (total marks btwe 300 and 250)\n",
    "#Grade=First class (total marks btwe 249 and 200)\n",
    "#Grade=Second class (total marks btwe 199 and 150)\n",
    "#Grade=Third class (total marks btwe 149 and 120)\n",
    "#Display the total marks memo of d student \n",
    "\n",
    "stud_no=eval(input(\"Enter student number: \"))\n",
    "stud_name=input(\"Enter student name: \")\n",
    "subj1_marks=eval(input(\"Enter subject1 marks: \"))\n",
    "subj2_marks=eval(input(\"Enter subject2 marks: \"))\n",
    "subj3_marks=eval(input(\"Enter subject3 marks: \"))\n",
    "total_marks=subj1_marks+subj2_marks+subj3_marks\n",
    "print(\"The total marks is\",total_marks)\n",
    "perc_of_marks=((total_marks)/300)*100\n",
    "print(\"The percentage of marks is\",perc_of_marks)\n",
    "if(total_marks>250 and total_marks<300):\n",
    "    print(\"Grade is DIstinction\")\n",
    "elif(total_marks>200 and total_marks<249):\n",
    "    print(\"Grade is First class\")\n",
    "elif(total_marks>150 and total_marks<199):\n",
    "    print(\"Grade is Second class\")\n",
    "elif(total_marks>120 and total_marks<149):\n",
    "    print(\"Grade is Third class\")\n",
    "else:\n",
    "    print(\"Fail\")\n",
    "print(\"=\"*40)\n",
    "print(\"Marks Memo\")\n",
    "print(\"=\"*40)\n",
    "print(\"Subject1 marks is\",subj1_marks)\n",
    "print(\"Subject2 marks is\",subj2_marks)\n",
    "print(\"Subject3 marks is\",subj3_marks)\n",
    "print(\"Total marks is\",total_marks)\n",
    "print(\"Percetage of marks is\",perc_of_marks)"
   ]
  },
  {
   "cell_type": "code",
   "execution_count": 10,
   "id": "c879911a",
   "metadata": {},
   "outputs": [
    {
     "name": "stdout",
     "output_type": "stream",
     "text": [
      "Enter student number: 123\n",
      "Enter student name: abc\n",
      "Enter C marks: -10\n",
      "Enter C marks: -9\n",
      "Enter C marks: 60\n",
      "C subject marks is 60\n",
      "Enter CPP marks: 70\n",
      "CPP subject marks is 70\n",
      "Enter Python marks: 80\n",
      "Python subject marks is 80\n",
      "========================================\n",
      "\t M a r k s M e m o\n",
      "========================================\n",
      "Student no is 123\n",
      "Student name is abc\n",
      "C marks is 60\n",
      "CPP marks is 70\n",
      "Python marks is 80\n",
      "Total marks is 210\n",
      "Percentage of marks is 70.0\n"
     ]
    }
   ],
   "source": [
    "#\n",
    "\n",
    "stud_no=eval(input(\"Enter student number: \"))\n",
    "stud_name=input(\"Enter student name: \")\n",
    "#Validation of C marks\n",
    "while(True):\n",
    "    C_marks=eval(input(\"Enter C marks: \"))\n",
    "    if(C_marks>0 and C_marks<=100):\n",
    "        break\n",
    "print(\"C subject marks is\",C_marks)\n",
    "#Validation of C ++ marks\n",
    "while(True):\n",
    "    CPP_marks=eval(input(\"Enter CPP marks: \"))\n",
    "    if(CPP_marks>0 and CPP_marks<=100):\n",
    "        break\n",
    "print(\"CPP subject marks is\",CPP_marks)\n",
    "#Validation of Python marks\n",
    "while(True):\n",
    "    Python_marks=eval(input(\"Enter Python marks: \"))\n",
    "    if(Python_marks>0 and Python_marks<=100):\n",
    "        break\n",
    "print(\"Python subject marks is\",Python_marks)\n",
    "total_marks=C_marks+CPP_marks+Python_marks\n",
    "perc_marks=(total_marks/300)*100\n",
    "#Atleast one subject should be passed\n",
    "if(C_marks<40) or (CPP_marks<40) or (Python_marks<40):\n",
    "    grade=\"FAIL\"\n",
    "else:\n",
    "    if(total_marks<=350 and total_marks>=250):\n",
    "        grade=\"Distinction\"\n",
    "    if(total_marks<=249 and total_marks>=200):\n",
    "        grade=\"First\"\n",
    "    if(total_marks<=199 and total_marks>=50):\n",
    "        grade=\"Second\"\n",
    "    if(total_marks<=149 and total_marks>=120):\n",
    "        grade=\"Third\"\n",
    "print(\"=\"*40)\n",
    "print(\"\\t M a r k s M e m o\")\n",
    "print(\"=\"*40)\n",
    "print(\"Student no is\",stud_no)\n",
    "print(\"Student name is\",stud_name)\n",
    "print(\"C marks is\",C_marks)\n",
    "print(\"CPP marks is\",CPP_marks)\n",
    "print(\"Python marks is\",Python_marks)\n",
    "print(\"Total marks is\",total_marks)\n",
    "print(\"Percentage of marks is\",round(perc_marks,2))\n",
    "\n",
    "\n"
   ]
  },
  {
   "cell_type": "code",
   "execution_count": 11,
   "id": "e69bfc52",
   "metadata": {},
   "outputs": [
    {
     "data": {
      "text/plain": [
       "30"
      ]
     },
     "execution_count": 11,
     "metadata": {},
     "output_type": "execute_result"
    }
   ],
   "source": [
    "#add\n",
    "\n",
    "def add(a,b):\n",
    "    return(a+b)\n",
    "add(10,20)"
   ]
  },
  {
   "cell_type": "code",
   "execution_count": 12,
   "id": "82e11ed7",
   "metadata": {},
   "outputs": [
    {
     "data": {
      "text/plain": [
       "30"
      ]
     },
     "execution_count": 12,
     "metadata": {},
     "output_type": "execute_result"
    }
   ],
   "source": [
    "#lmbda\n",
    "#functionname=<lambda> argumnts :condtn \n",
    "add=lambda a,b:a+b\n",
    "add(10,20)"
   ]
  },
  {
   "cell_type": "code",
   "execution_count": 14,
   "id": "70acf1b6",
   "metadata": {},
   "outputs": [
    {
     "data": {
      "text/plain": [
       "20"
      ]
     },
     "execution_count": 14,
     "metadata": {},
     "output_type": "execute_result"
    }
   ],
   "source": [
    "#grtst of 2 numbers\n",
    "\n",
    "def greatest(a,b):\n",
    "    if(a>b):\n",
    "        return(a)\n",
    "    else:\n",
    "        return(b)\n",
    "greatest(20,10)"
   ]
  },
  {
   "cell_type": "code",
   "execution_count": 16,
   "id": "050b6393",
   "metadata": {},
   "outputs": [
    {
     "data": {
      "text/plain": [
       "20"
      ]
     },
     "execution_count": 16,
     "metadata": {},
     "output_type": "execute_result"
    }
   ],
   "source": [
    "#lmbda\n",
    "#func_name=lambda<args>:<if O/p> <if condtn> else <else output>\n",
    "\n",
    "greatest=lambda a,b:a if a>b else b\n",
    "greatest(20,10)"
   ]
  },
  {
   "cell_type": "code",
   "execution_count": 4,
   "id": "aef69f08",
   "metadata": {},
   "outputs": [
    {
     "name": "stdout",
     "output_type": "stream",
     "text": [
      "Enter any Numberical Value:0\n",
      "0 is -Digit\n"
     ]
    }
   ],
   "source": [
    "val=int(input(\"Enter any Numberical Value:\"))\n",
    "res=\"Number\" if val not in[0,1,2,3,4,5,6,7,8,9,-0,-1,-2,-3,-4,-5,-6,-7,-8,-9] else \"-Digit\" if val in[-0,-1,-2,-3,-4,-5,-6,-7,-8,-9] else \"+Digit\"\n",
    "print(\"{} is {}\".format(val,res))"
   ]
  },
  {
   "cell_type": "markdown",
   "id": "2f8727a7",
   "metadata": {},
   "source": [
    "**FUNCTIONS**"
   ]
  },
  {
   "cell_type": "code",
   "execution_count": 18,
   "id": "7e50c78f",
   "metadata": {},
   "outputs": [
    {
     "name": "stdout",
     "output_type": "stream",
     "text": [
      "Sum is 30\n",
      "type of sum <class 'function'>\n",
      "Doc string of sum() This program is used to calculate sum of 2 numbers\n"
     ]
    }
   ],
   "source": [
    "#WAPP to find the sum of 2 numbers using functions\n",
    "\n",
    "\n",
    "def sum(a,b):\n",
    "    \"\"\"This program is used to calculate sum of 2 numbers\"\"\"    #doc string\n",
    "    c=a+b\n",
    "    return c   #it returns c value\n",
    "sum1=sum(10,20)   #sum1 stores c value\n",
    "print(\"Sum is\",sum1)   \n",
    "print(\"type of sum\",type(sum))\n",
    "print(\"Doc string of sum()\",sum.__doc__)   #__doc__ is attribite to print doc string"
   ]
  },
  {
   "cell_type": "code",
   "execution_count": 5,
   "id": "8f1d86c2",
   "metadata": {},
   "outputs": [
    {
     "name": "stdout",
     "output_type": "stream",
     "text": [
      "Enter x value: 10\n",
      "Enter y value: 20\n",
      "Sum is 30\n"
     ]
    }
   ],
   "source": [
    "#WAPP to find the sum of 2 numbers using functions\n",
    "#Method-1\n",
    "\n",
    "def sum(a,b):\n",
    "    c=a+b\n",
    "    return c\n",
    "\n",
    "\n",
    "#main program\n",
    "\n",
    "x=eval(input(\"Enter x value: \"))   #Frst program comes to main program & displaye x,y input stmnts , then func' sum(a,b) is called\n",
    "y=eval(input(\"Enter y value: \"))\n",
    "sum1=sum(x,y)              #Storing result in sum1\n",
    "print(\"Sum is\",sum1)\n"
   ]
  },
  {
   "cell_type": "code",
   "execution_count": null,
   "id": "cdb99665",
   "metadata": {},
   "outputs": [],
   "source": [
    "#WAPP to find the sum of 2 numbers using functions\n",
    "#Methd-2\n",
    "\n",
    "def sum():\n",
    "    a=eval(input(\"Enter a value: \"))\n",
    "    b=eval(input(\"Enter b value: \"))\n",
    "    c=a+b  #a,b,c are local vars\n",
    "    print(\"The sum is\",c)\n",
    "sum()"
   ]
  },
  {
   "cell_type": "code",
   "execution_count": 6,
   "id": "f905b03a",
   "metadata": {},
   "outputs": [
    {
     "name": "stdout",
     "output_type": "stream",
     "text": [
      "Enter a value: 10\n",
      "Enter b value: 20\n",
      "Sum is 30\n"
     ]
    }
   ],
   "source": [
    "#WAPP to find the sum of 2 numbers using functions\n",
    "#Methd-2\n",
    "\n",
    "def sum():\n",
    "    a=eval(input(\"Enter a value: \"))\n",
    "    b=eval(input(\"Enter b value: \"))\n",
    "    c=a+b  #a,b,c are local vars\n",
    "    return c\n",
    "sum1=sum()\n",
    "print(\"Sum is\",sum1)"
   ]
  },
  {
   "cell_type": "code",
   "execution_count": null,
   "id": "0087ffbb",
   "metadata": {},
   "outputs": [],
   "source": []
  }
 ],
 "metadata": {
  "kernelspec": {
   "display_name": "Python 3",
   "language": "python",
   "name": "python3"
  },
  "language_info": {
   "codemirror_mode": {
    "name": "ipython",
    "version": 3
   },
   "file_extension": ".py",
   "mimetype": "text/x-python",
   "name": "python",
   "nbconvert_exporter": "python",
   "pygments_lexer": "ipython3",
   "version": "3.11.4"
  }
 },
 "nbformat": 4,
 "nbformat_minor": 5
}
