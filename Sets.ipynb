{
 "cells": [
  {
   "cell_type": "markdown",
   "id": "2a961a71",
   "metadata": {},
   "source": [
    "- Sets include int,float,str,complex data types. It don't include dict,list data type\n",
    "- It don't follow insertion order i.e., Output is not returned in same order where input is inserted\n",
    "- It is represented by curly braces {}\n",
    "- An empty set is treated as dict"
   ]
  },
  {
   "cell_type": "code",
   "execution_count": 7,
   "id": "262f40e4",
   "metadata": {},
   "outputs": [
    {
     "data": {
      "text/plain": [
       "{(2+3j), 10, 20.34, True, 'python'}"
      ]
     },
     "execution_count": 7,
     "metadata": {},
     "output_type": "execute_result"
    }
   ],
   "source": [
    "s1={10,20.34,2+3j,\"python\",True}\n",
    "s1"
   ]
  },
  {
   "cell_type": "code",
   "execution_count": 9,
   "id": "c345dabf",
   "metadata": {},
   "outputs": [
    {
     "ename": "TypeError",
     "evalue": "unhashable type: 'list'",
     "output_type": "error",
     "traceback": [
      "\u001b[1;31m---------------------------------------------------------------------------\u001b[0m",
      "\u001b[1;31mTypeError\u001b[0m                                 Traceback (most recent call last)",
      "Cell \u001b[1;32mIn[9], line 1\u001b[0m\n\u001b[1;32m----> 1\u001b[0m s1\u001b[38;5;241m=\u001b[39m{\u001b[38;5;241m10\u001b[39m,\u001b[38;5;241m20.34\u001b[39m,\u001b[38;5;241m2\u001b[39m\u001b[38;5;241m+\u001b[39m\u001b[38;5;241m3\u001b[39mj,\u001b[38;5;124m\"\u001b[39m\u001b[38;5;124mpython\u001b[39m\u001b[38;5;124m\"\u001b[39m,[\u001b[38;5;241m10\u001b[39m,\u001b[38;5;241m20\u001b[39m,\u001b[38;5;241m30\u001b[39m]}\n\u001b[0;32m      2\u001b[0m s1\n",
      "\u001b[1;31mTypeError\u001b[0m: unhashable type: 'list'"
     ]
    }
   ],
   "source": [
    "s1={10,20.34,2+3j,\"python\",[10,20,30]}        #list is not allowed in set \n",
    "s1"
   ]
  },
  {
   "cell_type": "code",
   "execution_count": 11,
   "id": "66fd5647",
   "metadata": {},
   "outputs": [
    {
     "ename": "TypeError",
     "evalue": "unhashable type: 'dict'",
     "output_type": "error",
     "traceback": [
      "\u001b[1;31m---------------------------------------------------------------------------\u001b[0m",
      "\u001b[1;31mTypeError\u001b[0m                                 Traceback (most recent call last)",
      "Cell \u001b[1;32mIn[11], line 1\u001b[0m\n\u001b[1;32m----> 1\u001b[0m s1\u001b[38;5;241m=\u001b[39m{\u001b[38;5;241m10\u001b[39m,\u001b[38;5;241m20.34\u001b[39m,\u001b[38;5;241m2\u001b[39m\u001b[38;5;241m+\u001b[39m\u001b[38;5;241m3\u001b[39mj,\u001b[38;5;124m\"\u001b[39m\u001b[38;5;124mpython\u001b[39m\u001b[38;5;124m\"\u001b[39m,{\u001b[38;5;124m'\u001b[39m\u001b[38;5;124ma\u001b[39m\u001b[38;5;124m'\u001b[39m:\u001b[38;5;241m10\u001b[39m,\u001b[38;5;124m'\u001b[39m\u001b[38;5;124mb\u001b[39m\u001b[38;5;124m'\u001b[39m:\u001b[38;5;241m20\u001b[39m}}\n\u001b[0;32m      2\u001b[0m s1\n",
      "\u001b[1;31mTypeError\u001b[0m: unhashable type: 'dict'"
     ]
    }
   ],
   "source": [
    "s1={10,20.34,2+3j,\"python\",{'a':10,'b':20}}    #dict is not allowed in set\n",
    "s1"
   ]
  },
  {
   "cell_type": "code",
   "execution_count": 12,
   "id": "d6aad88d",
   "metadata": {},
   "outputs": [
    {
     "data": {
      "text/plain": [
       "dict"
      ]
     },
     "execution_count": 12,
     "metadata": {},
     "output_type": "execute_result"
    }
   ],
   "source": [
    "s2={}\n",
    "type(s2)"
   ]
  },
  {
   "cell_type": "code",
   "execution_count": 12,
   "id": "f646075f",
   "metadata": {},
   "outputs": [
    {
     "data": {
      "text/plain": [
       "set"
      ]
     },
     "execution_count": 12,
     "metadata": {},
     "output_type": "execute_result"
    }
   ],
   "source": [
    "#to find type of s1\n",
    "\n",
    "type(s1)"
   ]
  },
  {
   "cell_type": "code",
   "execution_count": 13,
   "id": "6ab0ee4a",
   "metadata": {},
   "outputs": [
    {
     "data": {
      "text/plain": [
       "4"
      ]
     },
     "execution_count": 13,
     "metadata": {},
     "output_type": "execute_result"
    }
   ],
   "source": [
    "#\n",
    "\n",
    "s1={10,20.34,2+3j,\"python\"}\n",
    "len(s1)\n"
   ]
  },
  {
   "cell_type": "code",
   "execution_count": 14,
   "id": "88d41511",
   "metadata": {},
   "outputs": [
    {
     "ename": "TypeError",
     "evalue": "'>' not supported between instances of 'complex' and 'int'",
     "output_type": "error",
     "traceback": [
      "\u001b[1;31m---------------------------------------------------------------------------\u001b[0m",
      "\u001b[1;31mTypeError\u001b[0m                                 Traceback (most recent call last)",
      "Cell \u001b[1;32mIn[14], line 1\u001b[0m\n\u001b[1;32m----> 1\u001b[0m \u001b[38;5;28mmax\u001b[39m(s1)\n",
      "\u001b[1;31mTypeError\u001b[0m: '>' not supported between instances of 'complex' and 'int'"
     ]
    }
   ],
   "source": [
    "max(s1)"
   ]
  },
  {
   "cell_type": "code",
   "execution_count": 19,
   "id": "e9dc4e8a",
   "metadata": {},
   "outputs": [
    {
     "data": {
      "text/plain": [
       "30.23"
      ]
     },
     "execution_count": 19,
     "metadata": {},
     "output_type": "execute_result"
    }
   ],
   "source": [
    "s1={10,20,30.23}\n",
    "max(s1)"
   ]
  },
  {
   "cell_type": "code",
   "execution_count": 17,
   "id": "fef639db",
   "metadata": {},
   "outputs": [
    {
     "data": {
      "text/plain": [
       "10"
      ]
     },
     "execution_count": 17,
     "metadata": {},
     "output_type": "execute_result"
    }
   ],
   "source": [
    "s1={10,20,30.23}\n",
    "min(s1)"
   ]
  },
  {
   "cell_type": "code",
   "execution_count": 21,
   "id": "66776967",
   "metadata": {},
   "outputs": [
    {
     "ename": "TypeError",
     "evalue": "'<' not supported between instances of 'str' and 'int'",
     "output_type": "error",
     "traceback": [
      "\u001b[1;31m---------------------------------------------------------------------------\u001b[0m",
      "\u001b[1;31mTypeError\u001b[0m                                 Traceback (most recent call last)",
      "Cell \u001b[1;32mIn[21], line 2\u001b[0m\n\u001b[0;32m      1\u001b[0m s1\u001b[38;5;241m=\u001b[39m{\u001b[38;5;241m10\u001b[39m,\u001b[38;5;241m20.34\u001b[39m,\u001b[38;5;124m\"\u001b[39m\u001b[38;5;124mpython\u001b[39m\u001b[38;5;124m\"\u001b[39m}\n\u001b[1;32m----> 2\u001b[0m \u001b[38;5;28mmin\u001b[39m(s1)\n",
      "\u001b[1;31mTypeError\u001b[0m: '<' not supported between instances of 'str' and 'int'"
     ]
    }
   ],
   "source": [
    "s1={10,20.34,\"python\"}\n",
    "min(s1)"
   ]
  },
  {
   "cell_type": "code",
   "execution_count": 22,
   "id": "c3b21bdc",
   "metadata": {},
   "outputs": [
    {
     "ename": "TypeError",
     "evalue": "unhashable type: 'list'",
     "output_type": "error",
     "traceback": [
      "\u001b[1;31m---------------------------------------------------------------------------\u001b[0m",
      "\u001b[1;31mTypeError\u001b[0m                                 Traceback (most recent call last)",
      "Cell \u001b[1;32mIn[22], line 1\u001b[0m\n\u001b[1;32m----> 1\u001b[0m s1\u001b[38;5;241m=\u001b[39m{\u001b[38;5;241m10\u001b[39m,\u001b[38;5;241m20\u001b[39m,\u001b[38;5;241m30.23\u001b[39m,[\u001b[38;5;241m10\u001b[39m,\u001b[38;5;241m20\u001b[39m,\u001b[38;5;241m30\u001b[39m]}\n\u001b[0;32m      2\u001b[0m \u001b[38;5;28mmin\u001b[39m(s1)\n",
      "\u001b[1;31mTypeError\u001b[0m: unhashable type: 'list'"
     ]
    }
   ],
   "source": [
    "s1={10,20,30.23,[10,20,30]}\n",
    "min(s1)"
   ]
  },
  {
   "cell_type": "code",
   "execution_count": 23,
   "id": "14233436",
   "metadata": {},
   "outputs": [
    {
     "ename": "TypeError",
     "evalue": "unhashable type: 'list'",
     "output_type": "error",
     "traceback": [
      "\u001b[1;31m---------------------------------------------------------------------------\u001b[0m",
      "\u001b[1;31mTypeError\u001b[0m                                 Traceback (most recent call last)",
      "Cell \u001b[1;32mIn[23], line 1\u001b[0m\n\u001b[1;32m----> 1\u001b[0m s1\u001b[38;5;241m=\u001b[39m{\u001b[38;5;241m10\u001b[39m,\u001b[38;5;241m20\u001b[39m,\u001b[38;5;241m30.23\u001b[39m,[\u001b[38;5;241m10\u001b[39m,\u001b[38;5;241m20\u001b[39m,\u001b[38;5;241m30\u001b[39m]}\n\u001b[0;32m      2\u001b[0m \u001b[38;5;28mmax\u001b[39m(s1)\n",
      "\u001b[1;31mTypeError\u001b[0m: unhashable type: 'list'"
     ]
    }
   ],
   "source": [
    "s1={10,20,30.23,[10,20,30]}\n",
    "max(s1)"
   ]
  },
  {
   "cell_type": "code",
   "execution_count": 25,
   "id": "d3667729",
   "metadata": {},
   "outputs": [
    {
     "ename": "TypeError",
     "evalue": "unhashable type: 'dict'",
     "output_type": "error",
     "traceback": [
      "\u001b[1;31m---------------------------------------------------------------------------\u001b[0m",
      "\u001b[1;31mTypeError\u001b[0m                                 Traceback (most recent call last)",
      "Cell \u001b[1;32mIn[25], line 1\u001b[0m\n\u001b[1;32m----> 1\u001b[0m s1\u001b[38;5;241m=\u001b[39m{\u001b[38;5;241m10\u001b[39m,\u001b[38;5;241m20\u001b[39m,\u001b[38;5;241m30.23\u001b[39m,{\u001b[38;5;124m'\u001b[39m\u001b[38;5;124ma\u001b[39m\u001b[38;5;124m'\u001b[39m:\u001b[38;5;241m10\u001b[39m,\u001b[38;5;124m'\u001b[39m\u001b[38;5;124mb\u001b[39m\u001b[38;5;124m'\u001b[39m:\u001b[38;5;241m20\u001b[39m}}\n\u001b[0;32m      2\u001b[0m \u001b[38;5;28mmin\u001b[39m(s1)\n",
      "\u001b[1;31mTypeError\u001b[0m: unhashable type: 'dict'"
     ]
    }
   ],
   "source": [
    "s1={10,20,30.23,{'a':10,'b':20}}\n",
    "min(s1)"
   ]
  },
  {
   "cell_type": "code",
   "execution_count": 26,
   "id": "e7ab4a11",
   "metadata": {},
   "outputs": [
    {
     "ename": "TypeError",
     "evalue": "unhashable type: 'dict'",
     "output_type": "error",
     "traceback": [
      "\u001b[1;31m---------------------------------------------------------------------------\u001b[0m",
      "\u001b[1;31mTypeError\u001b[0m                                 Traceback (most recent call last)",
      "Cell \u001b[1;32mIn[26], line 1\u001b[0m\n\u001b[1;32m----> 1\u001b[0m s1\u001b[38;5;241m=\u001b[39m{\u001b[38;5;241m10\u001b[39m,\u001b[38;5;241m20\u001b[39m,\u001b[38;5;241m30.23\u001b[39m,{\u001b[38;5;124m'\u001b[39m\u001b[38;5;124ma\u001b[39m\u001b[38;5;124m'\u001b[39m:\u001b[38;5;241m10\u001b[39m,\u001b[38;5;124m'\u001b[39m\u001b[38;5;124mb\u001b[39m\u001b[38;5;124m'\u001b[39m:\u001b[38;5;241m20\u001b[39m}}\n\u001b[0;32m      2\u001b[0m \u001b[38;5;28mmax\u001b[39m(s1)\n",
      "\u001b[1;31mTypeError\u001b[0m: unhashable type: 'dict'"
     ]
    }
   ],
   "source": [
    "s1={10,20,30.23,{'a':10,'b':20}}\n",
    "max(s1)"
   ]
  },
  {
   "cell_type": "code",
   "execution_count": 8,
   "id": "5e7c4ae4",
   "metadata": {},
   "outputs": [
    {
     "name": "stdout",
     "output_type": "stream",
     "text": [
      "False\n",
      "20.34\n",
      "python\n",
      "10\n",
      "(2+3j)\n"
     ]
    }
   ],
   "source": [
    "#Using for loop, printing the values in s1\n",
    "\n",
    "s1={10,20.34,2+3j,\"python\",False}\n",
    "for i in s1:\n",
    "    print(i)"
   ]
  },
  {
   "cell_type": "markdown",
   "id": "65c47876",
   "metadata": {},
   "source": [
    "- Subtraction of two sets is possible\n",
    "- Addition/Multiplication/Division/Floor Division/Modulo Division/Repetition operator(*) are not possible"
   ]
  },
  {
   "cell_type": "code",
   "execution_count": 39,
   "id": "c1e99cbc",
   "metadata": {},
   "outputs": [
    {
     "ename": "TypeError",
     "evalue": "unsupported operand type(s) for +: 'set' and 'set'",
     "output_type": "error",
     "traceback": [
      "\u001b[1;31m---------------------------------------------------------------------------\u001b[0m",
      "\u001b[1;31mTypeError\u001b[0m                                 Traceback (most recent call last)",
      "Cell \u001b[1;32mIn[39], line 3\u001b[0m\n\u001b[0;32m      1\u001b[0m s1\u001b[38;5;241m=\u001b[39m{\u001b[38;5;241m10\u001b[39m,\u001b[38;5;241m20.34\u001b[39m}\n\u001b[0;32m      2\u001b[0m s2\u001b[38;5;241m=\u001b[39m{\u001b[38;5;241m20\u001b[39m,\u001b[38;5;241m30\u001b[39m}\n\u001b[1;32m----> 3\u001b[0m \u001b[38;5;28mprint\u001b[39m(\u001b[38;5;124m\"\u001b[39m\u001b[38;5;124mThe concatenation of s1 and s2 is\u001b[39m\u001b[38;5;124m\"\u001b[39m,s1\u001b[38;5;241m+\u001b[39ms2)\n",
      "\u001b[1;31mTypeError\u001b[0m: unsupported operand type(s) for +: 'set' and 'set'"
     ]
    }
   ],
   "source": [
    "s1={10,20.34}\n",
    "s2={20,30}\n",
    "print(\"The concatenation of s1 and s2 is\",s1+s2)"
   ]
  },
  {
   "cell_type": "code",
   "execution_count": 40,
   "id": "26697edb",
   "metadata": {},
   "outputs": [
    {
     "name": "stdout",
     "output_type": "stream",
     "text": [
      "The subtraction of s1 and s2 is {10, 20.34}\n"
     ]
    }
   ],
   "source": [
    "s1={10,20.34}\n",
    "s2={20,30}\n",
    "print(\"The subtraction of s1 and s2 is\",s1-s2)"
   ]
  },
  {
   "cell_type": "code",
   "execution_count": 41,
   "id": "2dfed8fc",
   "metadata": {},
   "outputs": [
    {
     "ename": "TypeError",
     "evalue": "unsupported operand type(s) for *: 'set' and 'set'",
     "output_type": "error",
     "traceback": [
      "\u001b[1;31m---------------------------------------------------------------------------\u001b[0m",
      "\u001b[1;31mTypeError\u001b[0m                                 Traceback (most recent call last)",
      "Cell \u001b[1;32mIn[41], line 3\u001b[0m\n\u001b[0;32m      1\u001b[0m s1\u001b[38;5;241m=\u001b[39m{\u001b[38;5;241m10\u001b[39m,\u001b[38;5;241m20.34\u001b[39m}\n\u001b[0;32m      2\u001b[0m s2\u001b[38;5;241m=\u001b[39m{\u001b[38;5;241m20\u001b[39m,\u001b[38;5;241m30\u001b[39m}\n\u001b[1;32m----> 3\u001b[0m \u001b[38;5;28mprint\u001b[39m(\u001b[38;5;124m\"\u001b[39m\u001b[38;5;124mThe multiplication of s1 and s2 is\u001b[39m\u001b[38;5;124m\"\u001b[39m,s1\u001b[38;5;241m*\u001b[39ms2)\n",
      "\u001b[1;31mTypeError\u001b[0m: unsupported operand type(s) for *: 'set' and 'set'"
     ]
    }
   ],
   "source": [
    "s1={10,20.34}\n",
    "s2={20,30}\n",
    "print(\"The multiplication of s1 and s2 is\",s1*s2)"
   ]
  },
  {
   "cell_type": "code",
   "execution_count": 42,
   "id": "9ab0bbc4",
   "metadata": {},
   "outputs": [
    {
     "ename": "TypeError",
     "evalue": "unsupported operand type(s) for /: 'set' and 'set'",
     "output_type": "error",
     "traceback": [
      "\u001b[1;31m---------------------------------------------------------------------------\u001b[0m",
      "\u001b[1;31mTypeError\u001b[0m                                 Traceback (most recent call last)",
      "Cell \u001b[1;32mIn[42], line 1\u001b[0m\n\u001b[1;32m----> 1\u001b[0m \u001b[38;5;28mprint\u001b[39m(\u001b[38;5;124m\"\u001b[39m\u001b[38;5;124mThe division of s1 and s2 is\u001b[39m\u001b[38;5;124m\"\u001b[39m,s1\u001b[38;5;241m/\u001b[39ms2)\n",
      "\u001b[1;31mTypeError\u001b[0m: unsupported operand type(s) for /: 'set' and 'set'"
     ]
    }
   ],
   "source": [
    "print(\"The division of s1 and s2 is\",s1/s2)"
   ]
  },
  {
   "cell_type": "code",
   "execution_count": 43,
   "id": "a6c51348",
   "metadata": {},
   "outputs": [
    {
     "ename": "TypeError",
     "evalue": "unsupported operand type(s) for %: 'set' and 'set'",
     "output_type": "error",
     "traceback": [
      "\u001b[1;31m---------------------------------------------------------------------------\u001b[0m",
      "\u001b[1;31mTypeError\u001b[0m                                 Traceback (most recent call last)",
      "Cell \u001b[1;32mIn[43], line 1\u001b[0m\n\u001b[1;32m----> 1\u001b[0m \u001b[38;5;28mprint\u001b[39m(\u001b[38;5;124m\"\u001b[39m\u001b[38;5;124mThe modulo division of s1 and s2 is\u001b[39m\u001b[38;5;124m\"\u001b[39m,s1\u001b[38;5;241m%\u001b[39ms2)\n",
      "\u001b[1;31mTypeError\u001b[0m: unsupported operand type(s) for %: 'set' and 'set'"
     ]
    }
   ],
   "source": [
    "print(\"The modulo division of s1 and s2 is\",s1%s2)"
   ]
  },
  {
   "cell_type": "code",
   "execution_count": 45,
   "id": "ed678c48",
   "metadata": {},
   "outputs": [
    {
     "ename": "TypeError",
     "evalue": "unsupported operand type(s) for //: 'set' and 'set'",
     "output_type": "error",
     "traceback": [
      "\u001b[1;31m---------------------------------------------------------------------------\u001b[0m",
      "\u001b[1;31mTypeError\u001b[0m                                 Traceback (most recent call last)",
      "Cell \u001b[1;32mIn[45], line 1\u001b[0m\n\u001b[1;32m----> 1\u001b[0m \u001b[38;5;28mprint\u001b[39m(\u001b[38;5;124m\"\u001b[39m\u001b[38;5;124mThe floor division of s1 and s2 is\u001b[39m\u001b[38;5;124m\"\u001b[39m,s1\u001b[38;5;241m/\u001b[39m\u001b[38;5;241m/\u001b[39ms2)\n",
      "\u001b[1;31mTypeError\u001b[0m: unsupported operand type(s) for //: 'set' and 'set'"
     ]
    }
   ],
   "source": [
    "print(\"The floor division of s1 and s2 is\",s1//s2)"
   ]
  },
  {
   "cell_type": "code",
   "execution_count": 46,
   "id": "26ce2ee4",
   "metadata": {},
   "outputs": [
    {
     "ename": "TypeError",
     "evalue": "unsupported operand type(s) for *: 'set' and 'int'",
     "output_type": "error",
     "traceback": [
      "\u001b[1;31m---------------------------------------------------------------------------\u001b[0m",
      "\u001b[1;31mTypeError\u001b[0m                                 Traceback (most recent call last)",
      "Cell \u001b[1;32mIn[46], line 1\u001b[0m\n\u001b[1;32m----> 1\u001b[0m \u001b[38;5;28mprint\u001b[39m(\u001b[38;5;124m\"\u001b[39m\u001b[38;5;124mThe repetition of s1 and s2 is\u001b[39m\u001b[38;5;124m\"\u001b[39m,s1\u001b[38;5;241m*\u001b[39m\u001b[38;5;241m2\u001b[39m)\n",
      "\u001b[1;31mTypeError\u001b[0m: unsupported operand type(s) for *: 'set' and 'int'"
     ]
    }
   ],
   "source": [
    "print(\"The repetition of s1 and s2 is\",s1*2)"
   ]
  },
  {
   "cell_type": "markdown",
   "id": "a3683e06",
   "metadata": {},
   "source": [
    "**in Operator**\n",
    "- Operator is used to check whether element is existing in set or not\n",
    "- If value is there in set, True is returned else False is returned\n",
    "\n",
    "**not in operator**\n",
    "- If value is not there in set, True is returned else False is returned"
   ]
  },
  {
   "cell_type": "code",
   "execution_count": 9,
   "id": "a335da5f",
   "metadata": {},
   "outputs": [
    {
     "data": {
      "text/plain": [
       "True"
      ]
     },
     "execution_count": 9,
     "metadata": {},
     "output_type": "execute_result"
    }
   ],
   "source": [
    "s1={10,20.34,2+3j,\"python\",True}\n",
    "10 in s1"
   ]
  },
  {
   "cell_type": "code",
   "execution_count": 2,
   "id": "cedb2e86",
   "metadata": {},
   "outputs": [
    {
     "data": {
      "text/plain": [
       "True"
      ]
     },
     "execution_count": 2,
     "metadata": {},
     "output_type": "execute_result"
    }
   ],
   "source": [
    "20.34 in s1"
   ]
  },
  {
   "cell_type": "code",
   "execution_count": 4,
   "id": "8951cb07",
   "metadata": {},
   "outputs": [
    {
     "data": {
      "text/plain": [
       "True"
      ]
     },
     "execution_count": 4,
     "metadata": {},
     "output_type": "execute_result"
    }
   ],
   "source": [
    "100 not in s1"
   ]
  },
  {
   "cell_type": "code",
   "execution_count": 5,
   "id": "aff8589f",
   "metadata": {},
   "outputs": [
    {
     "data": {
      "text/plain": [
       "False"
      ]
     },
     "execution_count": 5,
     "metadata": {},
     "output_type": "execute_result"
    }
   ],
   "source": [
    "10 not in s1"
   ]
  },
  {
   "cell_type": "code",
   "execution_count": 11,
   "id": "3e2eebf3",
   "metadata": {},
   "outputs": [
    {
     "data": {
      "text/plain": [
       "True"
      ]
     },
     "execution_count": 11,
     "metadata": {},
     "output_type": "execute_result"
    }
   ],
   "source": [
    "True in s1"
   ]
  },
  {
   "cell_type": "markdown",
   "id": "7b644afc",
   "metadata": {},
   "source": [
    "**Indexing**\n",
    "- It is represented by {}\n",
    "- Indexing & Slicing is not possible in Sets"
   ]
  },
  {
   "cell_type": "code",
   "execution_count": 6,
   "id": "91c7437f",
   "metadata": {},
   "outputs": [
    {
     "ename": "TypeError",
     "evalue": "'set' object is not subscriptable",
     "output_type": "error",
     "traceback": [
      "\u001b[1;31m---------------------------------------------------------------------------\u001b[0m",
      "\u001b[1;31mTypeError\u001b[0m                                 Traceback (most recent call last)",
      "Cell \u001b[1;32mIn[6], line 2\u001b[0m\n\u001b[0;32m      1\u001b[0m s1\u001b[38;5;241m=\u001b[39m{\u001b[38;5;241m10\u001b[39m,\u001b[38;5;241m20.34\u001b[39m,\u001b[38;5;241m2\u001b[39m\u001b[38;5;241m+\u001b[39m\u001b[38;5;241m3\u001b[39mj,\u001b[38;5;124m\"\u001b[39m\u001b[38;5;124mpython\u001b[39m\u001b[38;5;124m\"\u001b[39m}\n\u001b[1;32m----> 2\u001b[0m s1[\u001b[38;5;241m0\u001b[39m]\n",
      "\u001b[1;31mTypeError\u001b[0m: 'set' object is not subscriptable"
     ]
    }
   ],
   "source": [
    "s1={10,20.34,2+3j,\"python\"}\n",
    "s1[0]"
   ]
  },
  {
   "cell_type": "code",
   "execution_count": 13,
   "id": "6b18c7b6",
   "metadata": {},
   "outputs": [
    {
     "ename": "TypeError",
     "evalue": "'set' object is not subscriptable",
     "output_type": "error",
     "traceback": [
      "\u001b[1;31m---------------------------------------------------------------------------\u001b[0m",
      "\u001b[1;31mTypeError\u001b[0m                                 Traceback (most recent call last)",
      "Cell \u001b[1;32mIn[13], line 1\u001b[0m\n\u001b[1;32m----> 1\u001b[0m s1[\u001b[38;5;241m0\u001b[39m:]\n",
      "\u001b[1;31mTypeError\u001b[0m: 'set' object is not subscriptable"
     ]
    }
   ],
   "source": [
    "s1[0:]"
   ]
  },
  {
   "cell_type": "markdown",
   "id": "12b33c86",
   "metadata": {},
   "source": [
    "- Sets are immutable incase of item assignment i.e., values cannot be changed\n",
    "- Sets are mutable incase of adding the elements (using add())"
   ]
  },
  {
   "cell_type": "code",
   "execution_count": 14,
   "id": "fad5bbd5",
   "metadata": {},
   "outputs": [
    {
     "ename": "TypeError",
     "evalue": "'set' object does not support item assignment",
     "output_type": "error",
     "traceback": [
      "\u001b[1;31m---------------------------------------------------------------------------\u001b[0m",
      "\u001b[1;31mTypeError\u001b[0m                                 Traceback (most recent call last)",
      "Cell \u001b[1;32mIn[14], line 2\u001b[0m\n\u001b[0;32m      1\u001b[0m s1\u001b[38;5;241m=\u001b[39m{\u001b[38;5;241m10\u001b[39m,\u001b[38;5;241m20.34\u001b[39m,\u001b[38;5;241m2\u001b[39m\u001b[38;5;241m+\u001b[39m\u001b[38;5;241m3\u001b[39mj,\u001b[38;5;124m\"\u001b[39m\u001b[38;5;124mpython\u001b[39m\u001b[38;5;124m\"\u001b[39m}\n\u001b[1;32m----> 2\u001b[0m s1[\u001b[38;5;241m0\u001b[39m]\u001b[38;5;241m=\u001b[39m\u001b[38;5;241m100\u001b[39m\n",
      "\u001b[1;31mTypeError\u001b[0m: 'set' object does not support item assignment"
     ]
    }
   ],
   "source": [
    "s1={10,20.34,2+3j,\"python\"}\n",
    "s1[0]=100             #Set is immutable in case of item assignment"
   ]
  },
  {
   "cell_type": "code",
   "execution_count": 16,
   "id": "bdf2f874",
   "metadata": {},
   "outputs": [
    {
     "name": "stdout",
     "output_type": "stream",
     "text": [
      "{200, 10, (2+3j), 20.34, 'python'}\n"
     ]
    }
   ],
   "source": [
    "s1.add(200)    #200 is added to set(s1). In some random place 200 will get added to s1 & displayed\n",
    "print(s1)"
   ]
  },
  {
   "cell_type": "code",
   "execution_count": 17,
   "id": "d42edd62",
   "metadata": {},
   "outputs": [
    {
     "name": "stdout",
     "output_type": "stream",
     "text": [
      "{True, 200, 10, (2+3j), 20.34, 'python'}\n"
     ]
    }
   ],
   "source": [
    "s1.add(True)\n",
    "print(s1)"
   ]
  },
  {
   "cell_type": "markdown",
   "id": "60cd27ee",
   "metadata": {},
   "source": [
    "**Set methods**"
   ]
  },
  {
   "cell_type": "code",
   "execution_count": 18,
   "id": "49dcab3c",
   "metadata": {},
   "outputs": [
    {
     "data": {
      "text/plain": [
       "['__and__',\n",
       " '__class__',\n",
       " '__class_getitem__',\n",
       " '__contains__',\n",
       " '__delattr__',\n",
       " '__dir__',\n",
       " '__doc__',\n",
       " '__eq__',\n",
       " '__format__',\n",
       " '__ge__',\n",
       " '__getattribute__',\n",
       " '__getstate__',\n",
       " '__gt__',\n",
       " '__hash__',\n",
       " '__iand__',\n",
       " '__init__',\n",
       " '__init_subclass__',\n",
       " '__ior__',\n",
       " '__isub__',\n",
       " '__iter__',\n",
       " '__ixor__',\n",
       " '__le__',\n",
       " '__len__',\n",
       " '__lt__',\n",
       " '__ne__',\n",
       " '__new__',\n",
       " '__or__',\n",
       " '__rand__',\n",
       " '__reduce__',\n",
       " '__reduce_ex__',\n",
       " '__repr__',\n",
       " '__ror__',\n",
       " '__rsub__',\n",
       " '__rxor__',\n",
       " '__setattr__',\n",
       " '__sizeof__',\n",
       " '__str__',\n",
       " '__sub__',\n",
       " '__subclasshook__',\n",
       " '__xor__',\n",
       " 'add',\n",
       " 'clear',\n",
       " 'copy',\n",
       " 'difference',\n",
       " 'difference_update',\n",
       " 'discard',\n",
       " 'intersection',\n",
       " 'intersection_update',\n",
       " 'isdisjoint',\n",
       " 'issubset',\n",
       " 'issuperset',\n",
       " 'pop',\n",
       " 'remove',\n",
       " 'symmetric_difference',\n",
       " 'symmetric_difference_update',\n",
       " 'union',\n",
       " 'update']"
      ]
     },
     "execution_count": 18,
     "metadata": {},
     "output_type": "execute_result"
    }
   ],
   "source": [
    "dir(s1)"
   ]
  },
  {
   "cell_type": "markdown",
   "id": "4bb63abc",
   "metadata": {},
   "source": [
    "**1)add()**\n",
    "- It is used to add a element in given set \n",
    "- At some random place element gets added"
   ]
  },
  {
   "cell_type": "code",
   "execution_count": 20,
   "id": "876e5676",
   "metadata": {},
   "outputs": [
    {
     "name": "stdout",
     "output_type": "stream",
     "text": [
      "{False, True, (2+3j), 20, 30.45}\n"
     ]
    }
   ],
   "source": [
    "s1={20,30.45,True,2+3j}\n",
    "s1.add(False)\n",
    "print(s1)"
   ]
  },
  {
   "cell_type": "code",
   "execution_count": 23,
   "id": "4421f1a4",
   "metadata": {},
   "outputs": [
    {
     "name": "stdout",
     "output_type": "stream",
     "text": [
      "{False, True, 100, (2+3j), 20, 30.45}\n"
     ]
    }
   ],
   "source": [
    "s1.add(100)\n",
    "print(s1)"
   ]
  },
  {
   "cell_type": "markdown",
   "id": "0d6487e4",
   "metadata": {},
   "source": [
    "**2)clear()**\n",
    "- It is used to delete the whole set "
   ]
  },
  {
   "cell_type": "code",
   "execution_count": 24,
   "id": "46dfcf63",
   "metadata": {},
   "outputs": [
    {
     "name": "stdout",
     "output_type": "stream",
     "text": [
      "set()\n"
     ]
    }
   ],
   "source": [
    "s1.clear()      #s1 is deleted \n",
    "print(s1)    "
   ]
  },
  {
   "cell_type": "code",
   "execution_count": 26,
   "id": "5b310d5f",
   "metadata": {},
   "outputs": [
    {
     "name": "stdout",
     "output_type": "stream",
     "text": [
      "{10}\n"
     ]
    }
   ],
   "source": [
    "s1.add(10)   #To an empty set, 10 is added\n",
    "print(s1)"
   ]
  },
  {
   "cell_type": "code",
   "execution_count": 27,
   "id": "3738e79c",
   "metadata": {},
   "outputs": [
    {
     "ename": "TypeError",
     "evalue": "set.clear() takes no arguments (1 given)",
     "output_type": "error",
     "traceback": [
      "\u001b[1;31m---------------------------------------------------------------------------\u001b[0m",
      "\u001b[1;31mTypeError\u001b[0m                                 Traceback (most recent call last)",
      "Cell \u001b[1;32mIn[27], line 1\u001b[0m\n\u001b[1;32m----> 1\u001b[0m s1\u001b[38;5;241m.\u001b[39mclear(\u001b[38;5;241m10\u001b[39m)\n",
      "\u001b[1;31mTypeError\u001b[0m: set.clear() takes no arguments (1 given)"
     ]
    }
   ],
   "source": [
    "s1.clear(10)        #clear function don't take any arguments"
   ]
  },
  {
   "cell_type": "markdown",
   "id": "3135c6af",
   "metadata": {},
   "source": [
    "**3)copy()**\n",
    "- It is used to copy from one set to another set\n",
    "- In Shallow copy, address of sets are varied\n",
    "- In Deep copy, address of both the sets are same"
   ]
  },
  {
   "cell_type": "code",
   "execution_count": 34,
   "id": "8ead287a",
   "metadata": {},
   "outputs": [
    {
     "name": "stdout",
     "output_type": "stream",
     "text": [
      "The elements in s1 are {False, True, 100, 20, (2+3j), 30.45} 2560124464576\n",
      "The elements in s2 are {False, True, 100, 20, (2+3j), 30.45} 2560124465920\n"
     ]
    }
   ],
   "source": [
    "s1={False, True, 100, (2+3j), 20, 30.45}\n",
    "s2=s1.copy()   #Shallow copy\n",
    "print(\"The elements in s1 are\",s1,id(s1))\n",
    "print(\"The elements in s2 are\",s2,id(s2))"
   ]
  },
  {
   "cell_type": "code",
   "execution_count": 35,
   "id": "e7a36e9b",
   "metadata": {},
   "outputs": [
    {
     "name": "stdout",
     "output_type": "stream",
     "text": [
      "The elements in s1 are {False, True, 100, 20, (2+3j), 30.45} 2560124466368\n",
      "The elements in s2 are {False, True, 100, 20, (2+3j), 30.45} 2560124466368\n"
     ]
    }
   ],
   "source": [
    "#Deep copy\n",
    "\n",
    "s1={False, True, 100, (2+3j), 20, 30.45}\n",
    "s2=s1\n",
    "print(\"The elements in s1 are\",s1,id(s1))\n",
    "print(\"The elements in s2 are\",s2,id(s2))"
   ]
  },
  {
   "cell_type": "markdown",
   "id": "fb4ead30",
   "metadata": {},
   "source": [
    "**4)difference**\n",
    "- Common elements from both the sets are removed & the set on which difference is applied gets printed"
   ]
  },
  {
   "cell_type": "code",
   "execution_count": 38,
   "id": "bd0d97e8",
   "metadata": {},
   "outputs": [
    {
     "data": {
      "text/plain": [
       "{(10+20j), 10.23, True}"
      ]
     },
     "execution_count": 38,
     "metadata": {},
     "output_type": "execute_result"
    }
   ],
   "source": [
    "s1={10,20,30,10.23,True,10+20j}\n",
    "s2={10,20,30,False,5+7j}\n",
    "s1.difference(s2)    #Common elements(10,20,30) from s1 & s2 are deleted & remaining elements in s1 are printed\n"
   ]
  },
  {
   "cell_type": "code",
   "execution_count": 39,
   "id": "bee55a6c",
   "metadata": {},
   "outputs": [
    {
     "data": {
      "text/plain": [
       "{(5+7j), False}"
      ]
     },
     "execution_count": 39,
     "metadata": {},
     "output_type": "execute_result"
    }
   ],
   "source": [
    "s2.difference(s1)    #Common elements(10,20,30) from s1 & s2 are deleted & remaining elements in s2 are printed"
   ]
  },
  {
   "cell_type": "markdown",
   "id": "bd247838",
   "metadata": {},
   "source": [
    "**5)discard()**\n",
    "- It is used to remove the specified element from the set"
   ]
  },
  {
   "cell_type": "code",
   "execution_count": 10,
   "id": "d1b20ca8",
   "metadata": {},
   "outputs": [
    {
     "data": {
      "text/plain": [
       "{(10+20j), 10.23, 20, 30, True}"
      ]
     },
     "execution_count": 10,
     "metadata": {},
     "output_type": "execute_result"
    }
   ],
   "source": [
    "s1={10,20,30,10.23,True,10+20j}\n",
    "s2={10,20,30,False,5+7j}\n",
    "s1.discard(10)\n",
    "s1"
   ]
  },
  {
   "cell_type": "code",
   "execution_count": 11,
   "id": "31a2d562",
   "metadata": {},
   "outputs": [
    {
     "data": {
      "text/plain": [
       "{(5+7j), 10, 20, 30}"
      ]
     },
     "execution_count": 11,
     "metadata": {},
     "output_type": "execute_result"
    }
   ],
   "source": [
    "s1={10,20,30,10.23,True,10+20j}\n",
    "s2={10,20,30,False,5+7j}\n",
    "s2.discard(False)\n",
    "s2"
   ]
  },
  {
   "cell_type": "markdown",
   "id": "c19098b3",
   "metadata": {},
   "source": [
    "**6)intersection()**\n",
    "- It returns the common elements from sets"
   ]
  },
  {
   "cell_type": "code",
   "execution_count": 12,
   "id": "a8a58a52",
   "metadata": {},
   "outputs": [
    {
     "data": {
      "text/plain": [
       "{10, 20, 30}"
      ]
     },
     "execution_count": 12,
     "metadata": {},
     "output_type": "execute_result"
    }
   ],
   "source": [
    "s1={10,20,30,10.23,True,10+20j}\n",
    "s2={10,20,30,False,5+7j}\n",
    "s1.intersection(s2)"
   ]
  },
  {
   "cell_type": "code",
   "execution_count": 13,
   "id": "50e888f6",
   "metadata": {},
   "outputs": [
    {
     "data": {
      "text/plain": [
       "{10, 20, 30}"
      ]
     },
     "execution_count": 13,
     "metadata": {},
     "output_type": "execute_result"
    }
   ],
   "source": [
    "s2.intersection(s1)"
   ]
  },
  {
   "cell_type": "markdown",
   "id": "d04da11d",
   "metadata": {},
   "source": [
    "**7)isdisjoint()**\n",
    "- It returns True if two sets are not matched"
   ]
  },
  {
   "cell_type": "code",
   "execution_count": 17,
   "id": "76572853",
   "metadata": {},
   "outputs": [
    {
     "data": {
      "text/plain": [
       "False"
      ]
     },
     "execution_count": 17,
     "metadata": {},
     "output_type": "execute_result"
    }
   ],
   "source": [
    "s1={10,20,30,10.23,True,10+20j}\n",
    "s2={10,20,30,False,5+7j}\n",
    "s1.isdisjoint(s2)"
   ]
  },
  {
   "cell_type": "code",
   "execution_count": 18,
   "id": "8c0a1a25",
   "metadata": {},
   "outputs": [
    {
     "data": {
      "text/plain": [
       "False"
      ]
     },
     "execution_count": 18,
     "metadata": {},
     "output_type": "execute_result"
    }
   ],
   "source": [
    "s2.isdisjoint(s1)"
   ]
  },
  {
   "cell_type": "code",
   "execution_count": 22,
   "id": "87d41da3",
   "metadata": {},
   "outputs": [
    {
     "data": {
      "text/plain": [
       "True"
      ]
     },
     "execution_count": 22,
     "metadata": {},
     "output_type": "execute_result"
    }
   ],
   "source": [
    "s1={10,20,True,1+2j}\n",
    "s2={30,40,False,10+20j}\n",
    "s2.isdisjoint(s1)"
   ]
  },
  {
   "cell_type": "code",
   "execution_count": 23,
   "id": "bf94e2fd",
   "metadata": {},
   "outputs": [
    {
     "data": {
      "text/plain": [
       "True"
      ]
     },
     "execution_count": 23,
     "metadata": {},
     "output_type": "execute_result"
    }
   ],
   "source": [
    "s1.isdisjoint(s2)"
   ]
  },
  {
   "cell_type": "markdown",
   "id": "ba1a491e",
   "metadata": {},
   "source": [
    "**8)issubset**\n",
    "- It returns True if either of set is contained in one of the sets"
   ]
  },
  {
   "cell_type": "code",
   "execution_count": 24,
   "id": "1e49640c",
   "metadata": {},
   "outputs": [
    {
     "data": {
      "text/plain": [
       "True"
      ]
     },
     "execution_count": 24,
     "metadata": {},
     "output_type": "execute_result"
    }
   ],
   "source": [
    "s1={10,20,30,10.23,True,10+20j}\n",
    "s2={10,20,30}\n",
    "s2.issubset(s1)"
   ]
  },
  {
   "cell_type": "code",
   "execution_count": 25,
   "id": "813fd214",
   "metadata": {},
   "outputs": [
    {
     "data": {
      "text/plain": [
       "False"
      ]
     },
     "execution_count": 25,
     "metadata": {},
     "output_type": "execute_result"
    }
   ],
   "source": [
    "s1.issubset(s2)"
   ]
  },
  {
   "cell_type": "code",
   "execution_count": 27,
   "id": "66ead196",
   "metadata": {},
   "outputs": [
    {
     "data": {
      "text/plain": [
       "True"
      ]
     },
     "execution_count": 27,
     "metadata": {},
     "output_type": "execute_result"
    }
   ],
   "source": [
    "s1={10,20,30,10.23,True,10+20j,False,11}\n",
    "s2={10,20,30,10.23,True,10+20j}\n",
    "s2.issubset(s1)"
   ]
  },
  {
   "cell_type": "markdown",
   "id": "ca5c2761",
   "metadata": {},
   "source": [
    "**9)issuperset()**"
   ]
  },
  {
   "cell_type": "code",
   "execution_count": 28,
   "id": "31573992",
   "metadata": {},
   "outputs": [
    {
     "data": {
      "text/plain": [
       "True"
      ]
     },
     "execution_count": 28,
     "metadata": {},
     "output_type": "execute_result"
    }
   ],
   "source": [
    "s1={10,20,30,10.23,True,10+20j}\n",
    "s2={10,20,30}\n",
    "s1.issuperset(s2)"
   ]
  },
  {
   "cell_type": "code",
   "execution_count": 29,
   "id": "2ca7d45f",
   "metadata": {},
   "outputs": [
    {
     "data": {
      "text/plain": [
       "False"
      ]
     },
     "execution_count": 29,
     "metadata": {},
     "output_type": "execute_result"
    }
   ],
   "source": [
    "s2.issuperset(s1)"
   ]
  },
  {
   "cell_type": "code",
   "execution_count": 30,
   "id": "93840ce1",
   "metadata": {},
   "outputs": [
    {
     "data": {
      "text/plain": [
       "True"
      ]
     },
     "execution_count": 30,
     "metadata": {},
     "output_type": "execute_result"
    }
   ],
   "source": [
    "s1={10,20,30,40}\n",
    "s2={10,20,30}\n",
    "s1.issuperset(s2)"
   ]
  },
  {
   "cell_type": "code",
   "execution_count": 31,
   "id": "3fd80510",
   "metadata": {},
   "outputs": [
    {
     "data": {
      "text/plain": [
       "False"
      ]
     },
     "execution_count": 31,
     "metadata": {},
     "output_type": "execute_result"
    }
   ],
   "source": [
    "s2.issuperset(s1)"
   ]
  },
  {
   "cell_type": "markdown",
   "id": "16548a93",
   "metadata": {},
   "source": [
    "**10)pop()**\n",
    "- It is used to remove some random value from set"
   ]
  },
  {
   "cell_type": "code",
   "execution_count": 38,
   "id": "3490070b",
   "metadata": {},
   "outputs": [
    {
     "data": {
      "text/plain": [
       "{(10+20j), 10, 10.23, 20, 30}"
      ]
     },
     "execution_count": 38,
     "metadata": {},
     "output_type": "execute_result"
    }
   ],
   "source": [
    "s1={10,20,30,10.23,True,10+20j}\n",
    "s2={10,20,30}\n",
    "s1.pop()    #True is deleted\n",
    "s1"
   ]
  },
  {
   "cell_type": "code",
   "execution_count": 39,
   "id": "5341d66b",
   "metadata": {},
   "outputs": [
    {
     "data": {
      "text/plain": [
       "{20, 30}"
      ]
     },
     "execution_count": 39,
     "metadata": {},
     "output_type": "execute_result"
    }
   ],
   "source": [
    "s2.pop()\n",
    "s2"
   ]
  },
  {
   "cell_type": "code",
   "execution_count": 40,
   "id": "e42b8fb6",
   "metadata": {},
   "outputs": [
    {
     "data": {
      "text/plain": [
       "{(10+20j), 10, 10.23, 11, 20, 30, True}"
      ]
     },
     "execution_count": 40,
     "metadata": {},
     "output_type": "execute_result"
    }
   ],
   "source": [
    "s1={10,20,30,10.23,True,10+20j,False,11}\n",
    "s2={10,20,30,10.23,True,10+20j}\n",
    "s1.pop()   #False is deleted\n",
    "s1"
   ]
  },
  {
   "cell_type": "markdown",
   "id": "336fb27f",
   "metadata": {},
   "source": [
    "**11)remove()**\n",
    "- It is used to remove the element which is passed inside the remove function"
   ]
  },
  {
   "cell_type": "code",
   "execution_count": 48,
   "id": "0cf67301",
   "metadata": {},
   "outputs": [
    {
     "data": {
      "text/plain": [
       "{(10+20j), 10.23, 11, 20, 30, False, True}"
      ]
     },
     "execution_count": 48,
     "metadata": {},
     "output_type": "execute_result"
    }
   ],
   "source": [
    "s1={10,20,30,10.23,True,10+20j,False,11}\n",
    "s2={5,9,11.23,True,10+20j}\n",
    "s1.remove(10)  #10 is removed from s1\n",
    "s1"
   ]
  },
  {
   "cell_type": "code",
   "execution_count": 49,
   "id": "ec3a9d3e",
   "metadata": {},
   "outputs": [
    {
     "data": {
      "text/plain": [
       "{(10+20j), 11.23, 5, True}"
      ]
     },
     "execution_count": 49,
     "metadata": {},
     "output_type": "execute_result"
    }
   ],
   "source": [
    "s2.remove(9)   #9 is removed from s2\n",
    "s2"
   ]
  },
  {
   "cell_type": "markdown",
   "id": "8d01a21a",
   "metadata": {},
   "source": [
    "**12)symmetric_difference**\n",
    "- Common elements from the set are removed and remaining elements from both the sets are returned "
   ]
  },
  {
   "cell_type": "code",
   "execution_count": 52,
   "id": "a3505bc9",
   "metadata": {},
   "outputs": [
    {
     "data": {
      "text/plain": [
       "{False, 11}"
      ]
     },
     "execution_count": 52,
     "metadata": {},
     "output_type": "execute_result"
    }
   ],
   "source": [
    "s1={10,20,30,10.23,True,10+20j,False,11}\n",
    "s2={10,20,30,10.23,True,10+20j}\n",
    "s1.symmetric_difference(s2)"
   ]
  },
  {
   "cell_type": "code",
   "execution_count": 53,
   "id": "201ecf73",
   "metadata": {},
   "outputs": [
    {
     "data": {
      "text/plain": [
       "{False, 11}"
      ]
     },
     "execution_count": 53,
     "metadata": {},
     "output_type": "execute_result"
    }
   ],
   "source": [
    "s2.symmetric_difference(s1)"
   ]
  },
  {
   "cell_type": "code",
   "execution_count": 55,
   "id": "2d1c229e",
   "metadata": {},
   "outputs": [
    {
     "data": {
      "text/plain": [
       "{10.34}"
      ]
     },
     "execution_count": 55,
     "metadata": {},
     "output_type": "execute_result"
    }
   ],
   "source": [
    "s1={10,20,30,10.34}\n",
    "s2={10,20,30}\n",
    "s2.symmetric_difference(s1)"
   ]
  },
  {
   "cell_type": "code",
   "execution_count": 56,
   "id": "c1111282",
   "metadata": {},
   "outputs": [
    {
     "data": {
      "text/plain": [
       "{10.34}"
      ]
     },
     "execution_count": 56,
     "metadata": {},
     "output_type": "execute_result"
    }
   ],
   "source": [
    "s1.symmetric_difference(s2)"
   ]
  },
  {
   "cell_type": "code",
   "execution_count": 57,
   "id": "eb95e6e2",
   "metadata": {},
   "outputs": [
    {
     "data": {
      "text/plain": [
       "{(2+3j), 10.34, 20.39}"
      ]
     },
     "execution_count": 57,
     "metadata": {},
     "output_type": "execute_result"
    }
   ],
   "source": [
    "s1={10,20,30,10.34}\n",
    "s2={10,20,30,20.39,2+3j}\n",
    "s1.symmetric_difference(s2)"
   ]
  },
  {
   "cell_type": "markdown",
   "id": "c1268c7a",
   "metadata": {},
   "source": [
    "**13)union()**\n",
    "- It is used to combine the values from both the sets(without duplication of values)\n",
    "- If there are repetition of values, only one value is considered"
   ]
  },
  {
   "cell_type": "code",
   "execution_count": 58,
   "id": "e3cf358a",
   "metadata": {},
   "outputs": [
    {
     "data": {
      "text/plain": [
       "{(2+3j), 10, 10.34, 20, 20.39, 30}"
      ]
     },
     "execution_count": 58,
     "metadata": {},
     "output_type": "execute_result"
    }
   ],
   "source": [
    "s1={10,20,30,10.34}\n",
    "s2={10,20,30,20.39,2+3j}\n",
    "s1.union(s2)"
   ]
  },
  {
   "cell_type": "code",
   "execution_count": 59,
   "id": "eb3bf29e",
   "metadata": {},
   "outputs": [
    {
     "data": {
      "text/plain": [
       "{(1+2j), (2+3j), 10, 100, 20.34, 30.45, 50, 90}"
      ]
     },
     "execution_count": 59,
     "metadata": {},
     "output_type": "execute_result"
    }
   ],
   "source": [
    "s1={10,2+3j,20.34,90}\n",
    "s2={50,30.45,1+2j,100,90,2+3j}\n",
    "s1.union(s2)"
   ]
  },
  {
   "cell_type": "code",
   "execution_count": null,
   "id": "aabc6c40",
   "metadata": {},
   "outputs": [],
   "source": []
  }
 ],
 "metadata": {
  "kernelspec": {
   "display_name": "Python 3",
   "language": "python",
   "name": "python3"
  },
  "language_info": {
   "codemirror_mode": {
    "name": "ipython",
    "version": 3
   },
   "file_extension": ".py",
   "mimetype": "text/x-python",
   "name": "python",
   "nbconvert_exporter": "python",
   "pygments_lexer": "ipython3",
   "version": "3.11.4"
  }
 },
 "nbformat": 4,
 "nbformat_minor": 5
}
