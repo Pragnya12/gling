{
 "cells": [
  {
   "cell_type": "code",
   "execution_count": 1,
   "id": "5d88c2a5",
   "metadata": {},
   "outputs": [
    {
     "name": "stdout",
     "output_type": "stream",
     "text": [
      "Biry#ani\n",
      "Buvaneshw#ar\n",
      "rasa#gulla\n"
     ]
    }
   ],
   "source": [
    "##return the op those has hash symbol\n",
    "\n",
    "list1=[\"hyd\",\"Biry#ani\",\"Buvaneshw#ar\",\"rasa#gulla\"]\n",
    "for i in list1:\n",
    "    if \"#\" in i:\n",
    "        print(i)"
   ]
  },
  {
   "cell_type": "code",
   "execution_count": 5,
   "id": "8661de8c",
   "metadata": {},
   "outputs": [
    {
     "data": {
      "text/plain": [
       "(<function __main__.<lambda>(i)>,\n",
       " ['hyd', 'Biry#ani', 'Buvaneshw#ar', 'rasa#gulla'])"
      ]
     },
     "execution_count": 5,
     "metadata": {},
     "output_type": "execute_result"
    }
   ],
   "source": [
    "#using lmbda\n",
    "\n",
    "lambda i:\"#\" in i,list1"
   ]
  },
  {
   "cell_type": "code",
   "execution_count": 6,
   "id": "5236d96b",
   "metadata": {},
   "outputs": [
    {
     "data": {
      "text/plain": [
       "<filter at 0x2d782b08040>"
      ]
     },
     "execution_count": 6,
     "metadata": {},
     "output_type": "execute_result"
    }
   ],
   "source": [
    "#using filter\n",
    "\n",
    "filter(lambda i:\"#\" in i,list1)"
   ]
  },
  {
   "cell_type": "code",
   "execution_count": 7,
   "id": "79e72d15",
   "metadata": {},
   "outputs": [
    {
     "data": {
      "text/plain": [
       "['Biry#ani', 'Buvaneshw#ar', 'rasa#gulla']"
      ]
     },
     "execution_count": 7,
     "metadata": {},
     "output_type": "execute_result"
    }
   ],
   "source": [
    "#storei in list\n",
    "\n",
    "list(filter(lambda i:\"#\" in i,list1))"
   ]
  },
  {
   "cell_type": "code",
   "execution_count": 16,
   "id": "bb34a227",
   "metadata": {},
   "outputs": [
    {
     "name": "stdout",
     "output_type": "stream",
     "text": [
      "Question is:  what is your name\n",
      "Tell the answer:Pragnya\n",
      "Question is:  Where do u stay\n",
      "Tell the answer:Hyd\n",
      "No marks\n",
      "Question is:  In which profession you are working\n",
      "Tell the answer:IT\n",
      "Question is:  How much package you get?\n",
      "Tell the answer:fivelac\n",
      "Question is:  Are you liking your profession\n",
      "Tell the answer:Yes\n",
      "Correct answer is 4\n",
      "Marks are 4\n"
     ]
    }
   ],
   "source": [
    "#Take 5 qstns in a list1\n",
    "#give answers in a list2\n",
    "#iterate through list1\n",
    "#every qstn should print\n",
    "#answer=input(\"Tell the answer\")\n",
    "#answer is checked in list2\n",
    "#if it is there \n",
    "\n",
    "list1=[\"what is your name\",\"Where do u stay\",\"In which profession you are working\",\"How much package you get?\",\"Are you liking your profession\"]\n",
    "list2=[\"Pragnya\",\"hyderabad\",\"IT\",\"fivelac\",\"Yes\"]\n",
    "marks=0\n",
    "correct_answer=0\n",
    "for i in list1:\n",
    "    print(\"Question is: \",i)\n",
    "    answer=input(\"Tell the answer:\")\n",
    "    if answer in list2:\n",
    "        marks=marks+1\n",
    "        correct_answer=correct_answer+1\n",
    "    else:\n",
    "        print(\"No marks\")\n",
    "print(\"Correct answer is\",correct_answer)\n",
    "print(\"Marks are\",marks)"
   ]
  },
  {
   "cell_type": "code",
   "execution_count": 17,
   "id": "21329186",
   "metadata": {},
   "outputs": [
    {
     "data": {
      "text/plain": [
       "'name,Review\\r\\nomkar,good\\r\\nsanjay,very good\\r\\n'"
      ]
     },
     "execution_count": 17,
     "metadata": {},
     "output_type": "execute_result"
    }
   ],
   "source": [
    "str1=\"name,Review\\r\\nomkar,good\\r\\nsanjay,very good\\r\\n\"\n",
    "str1"
   ]
  },
  {
   "cell_type": "code",
   "execution_count": 18,
   "id": "b8ea74f2",
   "metadata": {},
   "outputs": [],
   "source": [
    "name=\"bikas\"\n",
    "review=\"Excellent\"\n",
    "#o/p-- 'name,Review\\r\\nomkar,good\\r\\nsanjay,very good\\r\\n,bikasExcellent\\r\\n'"
   ]
  },
  {
   "cell_type": "code",
   "execution_count": 30,
   "id": "1808754a",
   "metadata": {},
   "outputs": [
    {
     "data": {
      "text/plain": [
       "'bikas,Excellent\\r\\n'"
      ]
     },
     "execution_count": 30,
     "metadata": {},
     "output_type": "execute_result"
    }
   ],
   "source": [
    "\",\".join([name,review])+\"\\r\\n\"\n"
   ]
  },
  {
   "cell_type": "code",
   "execution_count": 31,
   "id": "e3c3c329",
   "metadata": {},
   "outputs": [
    {
     "data": {
      "text/plain": [
       "'name,Review\\r\\nomkar,good\\r\\nsanjay,very good\\r\\nbikas,Excellent\\r\\n'"
      ]
     },
     "execution_count": 31,
     "metadata": {},
     "output_type": "execute_result"
    }
   ],
   "source": [
    "str1+\",\".join([name,review])+\"\\r\\n\""
   ]
  },
  {
   "cell_type": "code",
   "execution_count": null,
   "id": "e1633c72",
   "metadata": {},
   "outputs": [],
   "source": []
  }
 ],
 "metadata": {
  "kernelspec": {
   "display_name": "Python 3",
   "language": "python",
   "name": "python3"
  },
  "language_info": {
   "codemirror_mode": {
    "name": "ipython",
    "version": 3
   },
   "file_extension": ".py",
   "mimetype": "text/x-python",
   "name": "python",
   "nbconvert_exporter": "python",
   "pygments_lexer": "ipython3",
   "version": "3.11.4"
  }
 },
 "nbformat": 4,
 "nbformat_minor": 5
}
