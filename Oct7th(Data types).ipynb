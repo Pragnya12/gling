{
 "cells": [
  {
   "cell_type": "code",
   "execution_count": null,
   "id": "baa5b052",
   "metadata": {},
   "outputs": [],
   "source": [
    "2^2        2^1        2^0\n",
    "\n",
    "4           2          1\n",
    "\n",
    "0           0          0 --->0\n",
    "0           0          1 --->1\n",
    "0           1          0 --->2\n",
    "0           1          1---->3\n",
    "1           0          0---->4\n",
    "1           0          1--->5\n",
    "1           1          0--->6\n",
    "1           1          1 -->7\n",
    "\n",
    "On->1, OFF->0"
   ]
  },
  {
   "cell_type": "code",
   "execution_count": null,
   "id": "eb6a6d37",
   "metadata": {},
   "outputs": [],
   "source": [
    "#Three digits(2^2) ->      4    2   1\n",
    "#Four  digits    (2^3)   ->   8  4    2   1\n",
    "#Five digits  (2^4)-- > 16 8 4 2 1 \n",
    "#Six digits (2^5)  ->32 8 4 2 1"
   ]
  },
  {
   "cell_type": "code",
   "execution_count": 1,
   "id": "ee589623",
   "metadata": {},
   "outputs": [
    {
     "data": {
      "text/plain": [
       "29"
      ]
     },
     "execution_count": 1,
     "metadata": {},
     "output_type": "execute_result"
    }
   ],
   "source": [
    "0b11101   # 5 digit ( 16  8  4   2  1)-->  16 + 8 + 4 + 1\n"
   ]
  },
  {
   "cell_type": "markdown",
   "id": "1b4a3dcc",
   "metadata": {},
   "source": [
    "$hexa$\n",
    "\n",
    "- Hexa has base 16\n",
    "\n",
    "- Digits- 0 to 9, A to F -- > 0, 1, 2, 3, 4, 5, 6, 7, 8, 9, A(10), B(11), C(12), D(13), E(14), F(15)\n",
    "\n",
    "- It is represented by '0x' or '0X'\n",
    "\n",
    "- Ex-- '0xABC'  or '0Xef12'\n",
    "\n"
   ]
  },
  {
   "cell_type": "code",
   "execution_count": 3,
   "id": "bdb64cc6",
   "metadata": {},
   "outputs": [
    {
     "data": {
      "text/plain": [
       "20000.0"
      ]
     },
     "execution_count": 3,
     "metadata": {},
     "output_type": "execute_result"
    }
   ],
   "source": [
    "2e4       #2 * 10 power 4"
   ]
  },
  {
   "cell_type": "code",
   "execution_count": 4,
   "id": "cdc16135",
   "metadata": {},
   "outputs": [
    {
     "data": {
      "text/plain": [
       "2000000.0"
      ]
     },
     "execution_count": 4,
     "metadata": {},
     "output_type": "execute_result"
    }
   ],
   "source": [
    "2e6"
   ]
  },
  {
   "cell_type": "code",
   "execution_count": 5,
   "id": "6507c3b5",
   "metadata": {},
   "outputs": [
    {
     "data": {
      "text/plain": [
       "0.002"
      ]
     },
     "execution_count": 5,
     "metadata": {},
     "output_type": "execute_result"
    }
   ],
   "source": [
    "2e-3     #2/10 power -3  ==> 2/1000"
   ]
  },
  {
   "cell_type": "code",
   "execution_count": 7,
   "id": "1930ad3a",
   "metadata": {},
   "outputs": [
    {
     "data": {
      "text/plain": [
       "2e-05"
      ]
     },
     "execution_count": 7,
     "metadata": {},
     "output_type": "execute_result"
    }
   ],
   "source": [
    "2e-5      # 2/10 power -5 ==> 2/100000"
   ]
  },
  {
   "cell_type": "code",
   "execution_count": 9,
   "id": "ff251689",
   "metadata": {},
   "outputs": [
    {
     "data": {
      "text/plain": [
       "1e-14"
      ]
     },
     "execution_count": 9,
     "metadata": {},
     "output_type": "execute_result"
    }
   ],
   "source": [
    "1.00000000000000e-14\n",
    "\n",
    "#1/0.00000000000000e\n",
    "# answer is 0\n",
    "# Bt in o/p we get 1e-14 , it meant '0'\n"
   ]
  },
  {
   "cell_type": "code",
   "execution_count": 10,
   "id": "22a59978",
   "metadata": {},
   "outputs": [
    {
     "data": {
      "text/plain": [
       "2000.0"
      ]
     },
     "execution_count": 10,
     "metadata": {},
     "output_type": "execute_result"
    }
   ],
   "source": [
    "2e+3     #2 *10 power 3 ==> 2 * 1000"
   ]
  },
  {
   "cell_type": "code",
   "execution_count": 11,
   "id": "6d2ad442",
   "metadata": {},
   "outputs": [
    {
     "data": {
      "text/plain": [
       "2000.0"
      ]
     },
     "execution_count": 11,
     "metadata": {},
     "output_type": "execute_result"
    }
   ],
   "source": [
    "2e3"
   ]
  },
  {
   "cell_type": "code",
   "execution_count": 12,
   "id": "ffb690f6",
   "metadata": {},
   "outputs": [
    {
     "data": {
      "text/plain": [
       "bool"
      ]
     },
     "execution_count": 12,
     "metadata": {},
     "output_type": "execute_result"
    }
   ],
   "source": [
    "#Bool\n",
    "\n",
    "a=True\n",
    "type(a)"
   ]
  },
  {
   "cell_type": "code",
   "execution_count": 13,
   "id": "c20dabe2",
   "metadata": {},
   "outputs": [
    {
     "data": {
      "text/plain": [
       "bool"
      ]
     },
     "execution_count": 13,
     "metadata": {},
     "output_type": "execute_result"
    }
   ],
   "source": [
    "b=False\n",
    "type(b)"
   ]
  },
  {
   "cell_type": "code",
   "execution_count": 19,
   "id": "1b96576f",
   "metadata": {},
   "outputs": [
    {
     "data": {
      "text/plain": [
       "100"
      ]
     },
     "execution_count": 19,
     "metadata": {},
     "output_type": "execute_result"
    }
   ],
   "source": [
    "true=100      \n",
    "name=true\n",
    "name"
   ]
  },
  {
   "cell_type": "markdown",
   "id": "e0bff6b6",
   "metadata": {},
   "source": [
    "# oct 9th"
   ]
  },
  {
   "cell_type": "markdown",
   "id": "2c804642",
   "metadata": {},
   "source": [
    "# String"
   ]
  },
  {
   "cell_type": "code",
   "execution_count": 20,
   "id": "2692d4ed",
   "metadata": {
    "scrolled": true
   },
   "outputs": [
    {
     "ename": "NameError",
     "evalue": "name 'python' is not defined",
     "output_type": "error",
     "traceback": [
      "\u001b[1;31m---------------------------------------------------------------------------\u001b[0m",
      "\u001b[1;31mNameError\u001b[0m                                 Traceback (most recent call last)",
      "Cell \u001b[1;32mIn[20], line 1\u001b[0m\n\u001b[1;32m----> 1\u001b[0m name\u001b[38;5;241m=\u001b[39mpython\n",
      "\u001b[1;31mNameError\u001b[0m: name 'python' is not defined"
     ]
    }
   ],
   "source": [
    "name=python       #python is not intialized so name error occurs"
   ]
  },
  {
   "cell_type": "code",
   "execution_count": 21,
   "id": "513605b9",
   "metadata": {},
   "outputs": [
    {
     "data": {
      "text/plain": [
       "'python'"
      ]
     },
     "execution_count": 21,
     "metadata": {},
     "output_type": "execute_result"
    }
   ],
   "source": [
    "name1='python'\n",
    "name1"
   ]
  },
  {
   "cell_type": "code",
   "execution_count": 22,
   "id": "8079cd47",
   "metadata": {},
   "outputs": [
    {
     "data": {
      "text/plain": [
       "str"
      ]
     },
     "execution_count": 22,
     "metadata": {},
     "output_type": "execute_result"
    }
   ],
   "source": [
    "type(name1)"
   ]
  },
  {
   "cell_type": "code",
   "execution_count": 23,
   "id": "f6047eed",
   "metadata": {},
   "outputs": [
    {
     "data": {
      "text/plain": [
       "'python'"
      ]
     },
     "execution_count": 23,
     "metadata": {},
     "output_type": "execute_result"
    }
   ],
   "source": [
    "name2=\"python\"\n",
    "name2"
   ]
  },
  {
   "cell_type": "code",
   "execution_count": 34,
   "id": "bc4fad13",
   "metadata": {},
   "outputs": [
    {
     "name": "stdout",
     "output_type": "stream",
     "text": [
      "Hello \n",
      "         How are you\n"
     ]
    }
   ],
   "source": [
    "name4=\"\"\"Hello \n",
    "         How are you\"\"\"\n",
    "print(name4)\n",
    "\n",
    "#doc string --- used when writing comments & represented by triple quotes"
   ]
  },
  {
   "cell_type": "markdown",
   "id": "b4e41493",
   "metadata": {},
   "source": [
    "# complex"
   ]
  },
  {
   "cell_type": "code",
   "execution_count": 35,
   "id": "d6591125",
   "metadata": {},
   "outputs": [
    {
     "data": {
      "text/plain": [
       "0j"
      ]
     },
     "execution_count": 35,
     "metadata": {},
     "output_type": "execute_result"
    }
   ],
   "source": [
    "complex()      #Importnt (Inside of braces, enter shift+tab )\n",
    "               #If values are not provided inside he bracket, the default arguments will use i.e, (real=0 & img=0 ==> 0+0j)"
   ]
  },
  {
   "cell_type": "code",
   "execution_count": 36,
   "id": "047aaf7b",
   "metadata": {},
   "outputs": [
    {
     "data": {
      "text/plain": [
       "0j"
      ]
     },
     "execution_count": 36,
     "metadata": {},
     "output_type": "execute_result"
    }
   ],
   "source": [
    "0+0j"
   ]
  },
  {
   "cell_type": "code",
   "execution_count": 49,
   "id": "4df12d5b",
   "metadata": {},
   "outputs": [
    {
     "name": "stdout",
     "output_type": "stream",
     "text": [
      "(3+5j)\n"
     ]
    },
    {
     "data": {
      "text/plain": [
       "complex"
      ]
     },
     "execution_count": 49,
     "metadata": {},
     "output_type": "execute_result"
    }
   ],
   "source": [
    "a=complex(3,5)\n",
    "print(a)\n",
    "type(a)"
   ]
  },
  {
   "cell_type": "code",
   "execution_count": 46,
   "id": "5714c5b2",
   "metadata": {},
   "outputs": [
    {
     "data": {
      "text/plain": [
       "3.0"
      ]
     },
     "execution_count": 46,
     "metadata": {},
     "output_type": "execute_result"
    }
   ],
   "source": [
    "a.real"
   ]
  },
  {
   "cell_type": "code",
   "execution_count": 48,
   "id": "6393ed67",
   "metadata": {},
   "outputs": [
    {
     "data": {
      "text/plain": [
       "5.0"
      ]
     },
     "execution_count": 48,
     "metadata": {},
     "output_type": "execute_result"
    }
   ],
   "source": [
    "a.imag"
   ]
  },
  {
   "cell_type": "markdown",
   "id": "b2d9bb93",
   "metadata": {},
   "source": [
    "# Basic Data types\n",
    "- integer - int\n",
    "- float   - float\n",
    "- String - str\n",
    "- Boolean- bool\n",
    "- complex - complex"
   ]
  },
  {
   "cell_type": "markdown",
   "id": "dab04293",
   "metadata": {},
   "source": [
    "# Data type conversions"
   ]
  },
  {
   "cell_type": "markdown",
   "id": "eedbc682",
   "metadata": {},
   "source": [
    "# Type casting\n",
    "\n",
    "- Converting one data into another data type"
   ]
  },
  {
   "cell_type": "markdown",
   "id": "d1e56eab",
   "metadata": {},
   "source": [
    "# - Int to other data types\n"
   ]
  },
  {
   "cell_type": "code",
   "execution_count": 51,
   "id": "aa959cc4",
   "metadata": {},
   "outputs": [
    {
     "data": {
      "text/plain": [
       "int"
      ]
     },
     "execution_count": 51,
     "metadata": {},
     "output_type": "execute_result"
    }
   ],
   "source": [
    "number=100\n",
    "type(number)"
   ]
  },
  {
   "cell_type": "code",
   "execution_count": 55,
   "id": "2f6c5e29",
   "metadata": {},
   "outputs": [
    {
     "data": {
      "text/plain": [
       "100.0"
      ]
     },
     "execution_count": 55,
     "metadata": {},
     "output_type": "execute_result"
    }
   ],
   "source": [
    "#convert int to float\n",
    "\n",
    "float_number=float(number)\n",
    "float_number"
   ]
  },
  {
   "cell_type": "code",
   "execution_count": 56,
   "id": "b82a30c0",
   "metadata": {},
   "outputs": [
    {
     "data": {
      "text/plain": [
       "float"
      ]
     },
     "execution_count": 56,
     "metadata": {},
     "output_type": "execute_result"
    }
   ],
   "source": [
    "type(float_number)"
   ]
  },
  {
   "cell_type": "code",
   "execution_count": 57,
   "id": "00ac1de6",
   "metadata": {},
   "outputs": [
    {
     "data": {
      "text/plain": [
       "'100'"
      ]
     },
     "execution_count": 57,
     "metadata": {},
     "output_type": "execute_result"
    }
   ],
   "source": [
    "#convert int to str\n",
    "\n",
    "str=str(number)\n",
    "str"
   ]
  },
  {
   "cell_type": "code",
   "execution_count": 58,
   "id": "412eb599",
   "metadata": {},
   "outputs": [
    {
     "data": {
      "text/plain": [
       "str"
      ]
     },
     "execution_count": 58,
     "metadata": {},
     "output_type": "execute_result"
    }
   ],
   "source": [
    "type(str)"
   ]
  },
  {
   "cell_type": "code",
   "execution_count": 59,
   "id": "44750d28",
   "metadata": {},
   "outputs": [
    {
     "data": {
      "text/plain": [
       "(100+0j)"
      ]
     },
     "execution_count": 59,
     "metadata": {},
     "output_type": "execute_result"
    }
   ],
   "source": [
    "# convert int to complex\n",
    "\n",
    "complex_number=complex(number)\n",
    "complex_number"
   ]
  },
  {
   "cell_type": "code",
   "execution_count": 60,
   "id": "9523506b",
   "metadata": {},
   "outputs": [
    {
     "data": {
      "text/plain": [
       "complex"
      ]
     },
     "execution_count": 60,
     "metadata": {},
     "output_type": "execute_result"
    }
   ],
   "source": [
    "type(complex_number)"
   ]
  },
  {
   "cell_type": "code",
   "execution_count": 75,
   "id": "2623790c",
   "metadata": {},
   "outputs": [
    {
     "data": {
      "text/plain": [
       "100.0"
      ]
     },
     "execution_count": 75,
     "metadata": {},
     "output_type": "execute_result"
    }
   ],
   "source": [
    "complex_number.real"
   ]
  },
  {
   "cell_type": "code",
   "execution_count": 76,
   "id": "9f325db4",
   "metadata": {},
   "outputs": [
    {
     "data": {
      "text/plain": [
       "0.0"
      ]
     },
     "execution_count": 76,
     "metadata": {},
     "output_type": "execute_result"
    }
   ],
   "source": [
    "complex_number.imag"
   ]
  },
  {
   "cell_type": "code",
   "execution_count": 79,
   "id": "45ef8cba",
   "metadata": {},
   "outputs": [
    {
     "data": {
      "text/plain": [
       "(200+300j)"
      ]
     },
     "execution_count": 79,
     "metadata": {},
     "output_type": "execute_result"
    }
   ],
   "source": [
    "a=200\n",
    "b=300\n",
    "complex(a,b)\n"
   ]
  },
  {
   "cell_type": "code",
   "execution_count": 80,
   "id": "8b27c47f",
   "metadata": {},
   "outputs": [
    {
     "data": {
      "text/plain": [
       "300j"
      ]
     },
     "execution_count": 80,
     "metadata": {},
     "output_type": "execute_result"
    }
   ],
   "source": [
    "complex(0,300)     # to print 300j"
   ]
  },
  {
   "cell_type": "code",
   "execution_count": 65,
   "id": "a2618391",
   "metadata": {},
   "outputs": [
    {
     "data": {
      "text/plain": [
       "True"
      ]
     },
     "execution_count": 65,
     "metadata": {},
     "output_type": "execute_result"
    }
   ],
   "source": [
    "#Convert int to bool\n",
    "bool(number)"
   ]
  },
  {
   "cell_type": "code",
   "execution_count": 66,
   "id": "0c3b24a4",
   "metadata": {},
   "outputs": [
    {
     "data": {
      "text/plain": [
       "True"
      ]
     },
     "execution_count": 66,
     "metadata": {},
     "output_type": "execute_result"
    }
   ],
   "source": [
    "bool(200)      #other than 0, every number is treated as True(1)\n",
    "bool(300)"
   ]
  },
  {
   "cell_type": "code",
   "execution_count": 67,
   "id": "4ee043fc",
   "metadata": {},
   "outputs": [
    {
     "data": {
      "text/plain": [
       "False"
      ]
     },
     "execution_count": 67,
     "metadata": {},
     "output_type": "execute_result"
    }
   ],
   "source": [
    "bool(0)"
   ]
  },
  {
   "cell_type": "code",
   "execution_count": 69,
   "id": "57661078",
   "metadata": {},
   "outputs": [
    {
     "data": {
      "text/plain": [
       "True"
      ]
     },
     "execution_count": 69,
     "metadata": {},
     "output_type": "execute_result"
    }
   ],
   "source": [
    "bool(-100)"
   ]
  },
  {
   "cell_type": "markdown",
   "id": "8ebac41c",
   "metadata": {},
   "source": [
    "**float to other data types**"
   ]
  },
  {
   "cell_type": "code",
   "execution_count": 144,
   "id": "3867e57f",
   "metadata": {},
   "outputs": [
    {
     "data": {
      "text/plain": [
       "20.23"
      ]
     },
     "execution_count": 144,
     "metadata": {},
     "output_type": "execute_result"
    }
   ],
   "source": [
    "float_number=20.23\n",
    "float_number"
   ]
  },
  {
   "cell_type": "code",
   "execution_count": 145,
   "id": "70002ed2",
   "metadata": {},
   "outputs": [
    {
     "data": {
      "text/plain": [
       "float"
      ]
     },
     "execution_count": 145,
     "metadata": {},
     "output_type": "execute_result"
    }
   ],
   "source": [
    "type(float_number)"
   ]
  },
  {
   "cell_type": "code",
   "execution_count": 63,
   "id": "a023dd87",
   "metadata": {},
   "outputs": [
    {
     "data": {
      "text/plain": [
       "20"
      ]
     },
     "execution_count": 63,
     "metadata": {},
     "output_type": "execute_result"
    }
   ],
   "source": [
    "#convert float to int\n",
    "\n",
    "int_number=int(float_number)\n",
    "int_number"
   ]
  },
  {
   "cell_type": "code",
   "execution_count": 64,
   "id": "1d01aa46",
   "metadata": {},
   "outputs": [
    {
     "data": {
      "text/plain": [
       "int"
      ]
     },
     "execution_count": 64,
     "metadata": {},
     "output_type": "execute_result"
    }
   ],
   "source": [
    "type(int_number)"
   ]
  },
  {
   "cell_type": "code",
   "execution_count": 85,
   "id": "9aa3bf0e",
   "metadata": {},
   "outputs": [
    {
     "data": {
      "text/plain": [
       "True"
      ]
     },
     "execution_count": 85,
     "metadata": {},
     "output_type": "execute_result"
    }
   ],
   "source": [
    "#convert float to bool\n",
    "\n",
    "bool_num=bool(float_number)\n",
    "bool_num"
   ]
  },
  {
   "cell_type": "code",
   "execution_count": 73,
   "id": "1094fdd7",
   "metadata": {},
   "outputs": [
    {
     "data": {
      "text/plain": [
       "(20.23+0j)"
      ]
     },
     "execution_count": 73,
     "metadata": {},
     "output_type": "execute_result"
    }
   ],
   "source": [
    "# convert float to complex\n",
    "\n",
    "complex(float_number)"
   ]
  },
  {
   "cell_type": "code",
   "execution_count": 81,
   "id": "0701159e",
   "metadata": {},
   "outputs": [
    {
     "data": {
      "text/plain": [
       "(200.87+300.01j)"
      ]
     },
     "execution_count": 81,
     "metadata": {},
     "output_type": "execute_result"
    }
   ],
   "source": [
    "a=200.87\n",
    "b=300.01\n",
    "complex(a,b)"
   ]
  },
  {
   "cell_type": "code",
   "execution_count": 82,
   "id": "0da2ec75",
   "metadata": {},
   "outputs": [
    {
     "data": {
      "text/plain": [
       "(200.87+0j)"
      ]
     },
     "execution_count": 82,
     "metadata": {},
     "output_type": "execute_result"
    }
   ],
   "source": [
    "#to print 200.87\n",
    "\n",
    "complex(a,0)"
   ]
  },
  {
   "cell_type": "code",
   "execution_count": 83,
   "id": "d09152fd",
   "metadata": {},
   "outputs": [
    {
     "data": {
      "text/plain": [
       "300.01j"
      ]
     },
     "execution_count": 83,
     "metadata": {},
     "output_type": "execute_result"
    }
   ],
   "source": [
    "# to print b value\n",
    "\n",
    "complex(0,b)"
   ]
  },
  {
   "cell_type": "code",
   "execution_count": 131,
   "id": "d1722cd6",
   "metadata": {},
   "outputs": [
    {
     "name": "stdout",
     "output_type": "stream",
     "text": [
      "20.23 <class 'float'>\n"
     ]
    }
   ],
   "source": [
    "print(float_number,type(float_number))"
   ]
  },
  {
   "cell_type": "code",
   "execution_count": 147,
   "id": "4c54e342",
   "metadata": {},
   "outputs": [
    {
     "data": {
      "text/plain": [
       "'20.23'"
      ]
     },
     "execution_count": 147,
     "metadata": {},
     "output_type": "execute_result"
    }
   ],
   "source": [
    "#convert float into str\n",
    "\n",
    "str(float_number)\n"
   ]
  },
  {
   "cell_type": "code",
   "execution_count": 133,
   "id": "f474746f",
   "metadata": {},
   "outputs": [],
   "source": [
    "#del str"
   ]
  },
  {
   "cell_type": "code",
   "execution_count": 142,
   "id": "cf07f4f5",
   "metadata": {},
   "outputs": [
    {
     "data": {
      "text/plain": [
       "'20.23'"
      ]
     },
     "execution_count": 142,
     "metadata": {},
     "output_type": "execute_result"
    }
   ],
   "source": [
    "a=str(float_number)\n",
    "a"
   ]
  },
  {
   "cell_type": "code",
   "execution_count": 143,
   "id": "fbc74d50",
   "metadata": {},
   "outputs": [
    {
     "data": {
      "text/plain": [
       "str"
      ]
     },
     "execution_count": 143,
     "metadata": {},
     "output_type": "execute_result"
    }
   ],
   "source": [
    "type(a)"
   ]
  },
  {
   "cell_type": "code",
   "execution_count": 135,
   "id": "a3a8e4f9",
   "metadata": {},
   "outputs": [
    {
     "name": "stdout",
     "output_type": "stream",
     "text": [
      "20.23\n"
     ]
    }
   ],
   "source": [
    "print(float_number)"
   ]
  },
  {
   "cell_type": "markdown",
   "id": "0430b956",
   "metadata": {},
   "source": [
    "**String to othr data types**"
   ]
  },
  {
   "cell_type": "code",
   "execution_count": 94,
   "id": "50585717",
   "metadata": {},
   "outputs": [
    {
     "data": {
      "text/plain": [
       "'python'"
      ]
     },
     "execution_count": 94,
     "metadata": {},
     "output_type": "execute_result"
    }
   ],
   "source": [
    "str1='python'\n",
    "str1"
   ]
  },
  {
   "cell_type": "code",
   "execution_count": 95,
   "id": "650ae748",
   "metadata": {},
   "outputs": [
    {
     "ename": "ValueError",
     "evalue": "invalid literal for int() with base 10: 'python'",
     "output_type": "error",
     "traceback": [
      "\u001b[1;31m---------------------------------------------------------------------------\u001b[0m",
      "\u001b[1;31mValueError\u001b[0m                                Traceback (most recent call last)",
      "Cell \u001b[1;32mIn[95], line 1\u001b[0m\n\u001b[1;32m----> 1\u001b[0m \u001b[38;5;28mint\u001b[39m(str1)\n",
      "\u001b[1;31mValueError\u001b[0m: invalid literal for int() with base 10: 'python'"
     ]
    }
   ],
   "source": [
    "int(str1)"
   ]
  },
  {
   "cell_type": "code",
   "execution_count": 96,
   "id": "574c7c4e",
   "metadata": {},
   "outputs": [
    {
     "ename": "ValueError",
     "evalue": "could not convert string to float: 'python'",
     "output_type": "error",
     "traceback": [
      "\u001b[1;31m---------------------------------------------------------------------------\u001b[0m",
      "\u001b[1;31mValueError\u001b[0m                                Traceback (most recent call last)",
      "Cell \u001b[1;32mIn[96], line 1\u001b[0m\n\u001b[1;32m----> 1\u001b[0m \u001b[38;5;28mfloat\u001b[39m(str1)\n",
      "\u001b[1;31mValueError\u001b[0m: could not convert string to float: 'python'"
     ]
    }
   ],
   "source": [
    "float(str1)"
   ]
  },
  {
   "cell_type": "code",
   "execution_count": 97,
   "id": "ec672793",
   "metadata": {},
   "outputs": [
    {
     "data": {
      "text/plain": [
       "True"
      ]
     },
     "execution_count": 97,
     "metadata": {},
     "output_type": "execute_result"
    }
   ],
   "source": [
    "bool(str1)"
   ]
  },
  {
   "cell_type": "markdown",
   "id": "1e8c734a",
   "metadata": {},
   "source": [
    "str2=\" \"\n",
    "bool(str2)     \n",
    "\n",
    "**empty string will provide False in case of bool function**"
   ]
  },
  {
   "cell_type": "code",
   "execution_count": 98,
   "id": "9eea10d9",
   "metadata": {},
   "outputs": [
    {
     "ename": "ValueError",
     "evalue": "complex() arg is a malformed string",
     "output_type": "error",
     "traceback": [
      "\u001b[1;31m---------------------------------------------------------------------------\u001b[0m",
      "\u001b[1;31mValueError\u001b[0m                                Traceback (most recent call last)",
      "Cell \u001b[1;32mIn[98], line 1\u001b[0m\n\u001b[1;32m----> 1\u001b[0m \u001b[38;5;28mcomplex\u001b[39m(str1)\n",
      "\u001b[1;31mValueError\u001b[0m: complex() arg is a malformed string"
     ]
    }
   ],
   "source": [
    "complex(str1)"
   ]
  },
  {
   "cell_type": "code",
   "execution_count": 102,
   "id": "163a5dac",
   "metadata": {},
   "outputs": [
    {
     "data": {
      "text/plain": [
       "10"
      ]
     },
     "execution_count": 102,
     "metadata": {},
     "output_type": "execute_result"
    }
   ],
   "source": [
    "#Convert str to other data types\n",
    "str3=\"10\"\n",
    "int(str3)"
   ]
  },
  {
   "cell_type": "code",
   "execution_count": 103,
   "id": "04de7fcd",
   "metadata": {},
   "outputs": [
    {
     "data": {
      "text/plain": [
       "10.0"
      ]
     },
     "execution_count": 103,
     "metadata": {},
     "output_type": "execute_result"
    }
   ],
   "source": [
    "float(str3)"
   ]
  },
  {
   "cell_type": "code",
   "execution_count": 104,
   "id": "235f8132",
   "metadata": {},
   "outputs": [
    {
     "data": {
      "text/plain": [
       "True"
      ]
     },
     "execution_count": 104,
     "metadata": {},
     "output_type": "execute_result"
    }
   ],
   "source": [
    "bool(str3)"
   ]
  },
  {
   "cell_type": "code",
   "execution_count": 105,
   "id": "b9e1c8b4",
   "metadata": {},
   "outputs": [
    {
     "data": {
      "text/plain": [
       "(10+0j)"
      ]
     },
     "execution_count": 105,
     "metadata": {},
     "output_type": "execute_result"
    }
   ],
   "source": [
    "complex(str3)"
   ]
  },
  {
   "cell_type": "code",
   "execution_count": 106,
   "id": "a8adb9bf",
   "metadata": {},
   "outputs": [
    {
     "ename": "ValueError",
     "evalue": "invalid literal for int() with base 10: '10.5'",
     "output_type": "error",
     "traceback": [
      "\u001b[1;31m---------------------------------------------------------------------------\u001b[0m",
      "\u001b[1;31mValueError\u001b[0m                                Traceback (most recent call last)",
      "Cell \u001b[1;32mIn[106], line 2\u001b[0m\n\u001b[0;32m      1\u001b[0m str4\u001b[38;5;241m=\u001b[39m\u001b[38;5;124m\"\u001b[39m\u001b[38;5;124m10.5\u001b[39m\u001b[38;5;124m\"\u001b[39m\n\u001b[1;32m----> 2\u001b[0m \u001b[38;5;28mint\u001b[39m(str4)\n",
      "\u001b[1;31mValueError\u001b[0m: invalid literal for int() with base 10: '10.5'"
     ]
    }
   ],
   "source": [
    "str4=\"10.5\"    #internally 10.5 is taken as float (float can'e be converted into int)\n",
    "int(str4)"
   ]
  },
  {
   "cell_type": "code",
   "execution_count": 108,
   "id": "3faac53e",
   "metadata": {},
   "outputs": [
    {
     "data": {
      "text/plain": [
       "10"
      ]
     },
     "execution_count": 108,
     "metadata": {},
     "output_type": "execute_result"
    }
   ],
   "source": [
    "int('10')      #Internally 10 takes as int, this scneario will works"
   ]
  },
  {
   "cell_type": "code",
   "execution_count": 109,
   "id": "020170dd",
   "metadata": {},
   "outputs": [
    {
     "ename": "ValueError",
     "evalue": "invalid literal for int() with base 10: '10.5'",
     "output_type": "error",
     "traceback": [
      "\u001b[1;31m---------------------------------------------------------------------------\u001b[0m",
      "\u001b[1;31mValueError\u001b[0m                                Traceback (most recent call last)",
      "Cell \u001b[1;32mIn[109], line 1\u001b[0m\n\u001b[1;32m----> 1\u001b[0m \u001b[38;5;28mint\u001b[39m(\u001b[38;5;124m'\u001b[39m\u001b[38;5;124m10.5\u001b[39m\u001b[38;5;124m'\u001b[39m)\n",
      "\u001b[1;31mValueError\u001b[0m: invalid literal for int() with base 10: '10.5'"
     ]
    }
   ],
   "source": [
    "int('10.5')   # Internally 10.5 takes as float, it cant be convrted to int, it s impossible"
   ]
  },
  {
   "cell_type": "code",
   "execution_count": 115,
   "id": "02d89433",
   "metadata": {},
   "outputs": [
    {
     "data": {
      "text/plain": [
       "10.0"
      ]
     },
     "execution_count": 115,
     "metadata": {},
     "output_type": "execute_result"
    }
   ],
   "source": [
    "float('10')"
   ]
  },
  {
   "cell_type": "code",
   "execution_count": 116,
   "id": "604dd4e4",
   "metadata": {},
   "outputs": [
    {
     "data": {
      "text/plain": [
       "10.5"
      ]
     },
     "execution_count": 116,
     "metadata": {},
     "output_type": "execute_result"
    }
   ],
   "source": [
    "float('10.5')"
   ]
  },
  {
   "cell_type": "code",
   "execution_count": 107,
   "id": "54383386",
   "metadata": {},
   "outputs": [
    {
     "data": {
      "text/plain": [
       "10.5"
      ]
     },
     "execution_count": 107,
     "metadata": {},
     "output_type": "execute_result"
    }
   ],
   "source": [
    "float(str4)"
   ]
  },
  {
   "cell_type": "code",
   "execution_count": 110,
   "id": "0c7b3d9b",
   "metadata": {},
   "outputs": [
    {
     "data": {
      "text/plain": [
       "(10.5+0j)"
      ]
     },
     "execution_count": 110,
     "metadata": {},
     "output_type": "execute_result"
    }
   ],
   "source": [
    "complex(str4)"
   ]
  },
  {
   "cell_type": "code",
   "execution_count": 111,
   "id": "29733f27",
   "metadata": {},
   "outputs": [
    {
     "ename": "ValueError",
     "evalue": "invalid literal for int() with base 10: '10+20j'",
     "output_type": "error",
     "traceback": [
      "\u001b[1;31m---------------------------------------------------------------------------\u001b[0m",
      "\u001b[1;31mValueError\u001b[0m                                Traceback (most recent call last)",
      "Cell \u001b[1;32mIn[111], line 2\u001b[0m\n\u001b[0;32m      1\u001b[0m \u001b[38;5;28mstr\u001b[39m\u001b[38;5;241m=\u001b[39m\u001b[38;5;124m'\u001b[39m\u001b[38;5;124m10+20j\u001b[39m\u001b[38;5;124m'\u001b[39m\n\u001b[1;32m----> 2\u001b[0m \u001b[38;5;28mint\u001b[39m(\u001b[38;5;28mstr\u001b[39m)\n",
      "\u001b[1;31mValueError\u001b[0m: invalid literal for int() with base 10: '10+20j'"
     ]
    }
   ],
   "source": [
    "str='10+20j'\n",
    "int(str)"
   ]
  },
  {
   "cell_type": "code",
   "execution_count": 112,
   "id": "afadfc8c",
   "metadata": {},
   "outputs": [
    {
     "ename": "ValueError",
     "evalue": "could not convert string to float: '10+20j'",
     "output_type": "error",
     "traceback": [
      "\u001b[1;31m---------------------------------------------------------------------------\u001b[0m",
      "\u001b[1;31mValueError\u001b[0m                                Traceback (most recent call last)",
      "Cell \u001b[1;32mIn[112], line 1\u001b[0m\n\u001b[1;32m----> 1\u001b[0m \u001b[38;5;28mfloat\u001b[39m(\u001b[38;5;28mstr\u001b[39m)\n",
      "\u001b[1;31mValueError\u001b[0m: could not convert string to float: '10+20j'"
     ]
    }
   ],
   "source": [
    "float(str)"
   ]
  },
  {
   "cell_type": "code",
   "execution_count": 113,
   "id": "4c4dd6f0",
   "metadata": {},
   "outputs": [
    {
     "data": {
      "text/plain": [
       "True"
      ]
     },
     "execution_count": 113,
     "metadata": {},
     "output_type": "execute_result"
    }
   ],
   "source": [
    "bool(str)"
   ]
  },
  {
   "cell_type": "code",
   "execution_count": 114,
   "id": "d188f2c9",
   "metadata": {},
   "outputs": [
    {
     "data": {
      "text/plain": [
       "(10+20j)"
      ]
     },
     "execution_count": 114,
     "metadata": {},
     "output_type": "execute_result"
    }
   ],
   "source": [
    "complex(str)"
   ]
  },
  {
   "cell_type": "code",
   "execution_count": 119,
   "id": "dca7b0c1",
   "metadata": {},
   "outputs": [
    {
     "ename": "TypeError",
     "evalue": "int() argument must be a string, a bytes-like object or a real number, not 'complex'",
     "output_type": "error",
     "traceback": [
      "\u001b[1;31m---------------------------------------------------------------------------\u001b[0m",
      "\u001b[1;31mTypeError\u001b[0m                                 Traceback (most recent call last)",
      "Cell \u001b[1;32mIn[119], line 3\u001b[0m\n\u001b[0;32m      1\u001b[0m \u001b[38;5;66;03m#convert complex to other types\u001b[39;00m\n\u001b[0;32m      2\u001b[0m complex_number\u001b[38;5;241m=\u001b[39m\u001b[38;5;241m10\u001b[39m\u001b[38;5;241m+\u001b[39m\u001b[38;5;241m20\u001b[39mj\n\u001b[1;32m----> 3\u001b[0m \u001b[38;5;28mint\u001b[39m(complex_number)\n",
      "\u001b[1;31mTypeError\u001b[0m: int() argument must be a string, a bytes-like object or a real number, not 'complex'"
     ]
    }
   ],
   "source": [
    "#convert complex to other types\n",
    "complex_number=10+20j\n",
    "int(complex_number)"
   ]
  },
  {
   "cell_type": "code",
   "execution_count": 120,
   "id": "ac2033b6",
   "metadata": {},
   "outputs": [
    {
     "ename": "TypeError",
     "evalue": "float() argument must be a string or a real number, not 'complex'",
     "output_type": "error",
     "traceback": [
      "\u001b[1;31m---------------------------------------------------------------------------\u001b[0m",
      "\u001b[1;31mTypeError\u001b[0m                                 Traceback (most recent call last)",
      "Cell \u001b[1;32mIn[120], line 1\u001b[0m\n\u001b[1;32m----> 1\u001b[0m \u001b[38;5;28mfloat\u001b[39m(complex_number)\n",
      "\u001b[1;31mTypeError\u001b[0m: float() argument must be a string or a real number, not 'complex'"
     ]
    }
   ],
   "source": [
    "float(complex_number)"
   ]
  },
  {
   "cell_type": "code",
   "execution_count": 121,
   "id": "7ff14d2b",
   "metadata": {},
   "outputs": [
    {
     "data": {
      "text/plain": [
       "True"
      ]
     },
     "execution_count": 121,
     "metadata": {},
     "output_type": "execute_result"
    }
   ],
   "source": [
    "bool(complex_number)"
   ]
  },
  {
   "cell_type": "code",
   "execution_count": 122,
   "id": "912f0ded",
   "metadata": {},
   "outputs": [
    {
     "ename": "TypeError",
     "evalue": "'str' object is not callable",
     "output_type": "error",
     "traceback": [
      "\u001b[1;31m---------------------------------------------------------------------------\u001b[0m",
      "\u001b[1;31mTypeError\u001b[0m                                 Traceback (most recent call last)",
      "Cell \u001b[1;32mIn[122], line 1\u001b[0m\n\u001b[1;32m----> 1\u001b[0m \u001b[38;5;28mstr\u001b[39m(complex_number)\n",
      "\u001b[1;31mTypeError\u001b[0m: 'str' object is not callable"
     ]
    }
   ],
   "source": [
    "str(complex_number)"
   ]
  },
  {
   "cell_type": "code",
   "execution_count": null,
   "id": "ec44db13",
   "metadata": {},
   "outputs": [],
   "source": []
  }
 ],
 "metadata": {
  "kernelspec": {
   "display_name": "Python 3",
   "language": "python",
   "name": "python3"
  },
  "language_info": {
   "codemirror_mode": {
    "name": "ipython",
    "version": 3
   },
   "file_extension": ".py",
   "mimetype": "text/x-python",
   "name": "python",
   "nbconvert_exporter": "python",
   "pygments_lexer": "ipython3",
   "version": "3.11.4"
  }
 },
 "nbformat": 4,
 "nbformat_minor": 5
}
