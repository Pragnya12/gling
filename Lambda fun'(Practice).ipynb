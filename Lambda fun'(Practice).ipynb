{
 "cells": [
  {
   "cell_type": "code",
   "execution_count": 6,
   "id": "dea617d6",
   "metadata": {},
   "outputs": [
    {
     "data": {
      "text/plain": [
       "30"
      ]
     },
     "execution_count": 6,
     "metadata": {},
     "output_type": "execute_result"
    }
   ],
   "source": [
    "#\n",
    "\n",
    "def add(a,b):\n",
    "    c=a+b\n",
    "    return c\n",
    "add(10,20)"
   ]
  },
  {
   "cell_type": "code",
   "execution_count": 7,
   "id": "f4c1a334",
   "metadata": {},
   "outputs": [
    {
     "data": {
      "text/plain": [
       "30"
      ]
     },
     "execution_count": 7,
     "metadata": {},
     "output_type": "execute_result"
    }
   ],
   "source": [
    "#USING lambda funcn\n",
    "#functn_name=lambda(keyword) <arguments> : <condition>\n",
    "\n",
    "add=lambda a,b:a+b\n",
    "add(10,20)\n"
   ]
  },
  {
   "cell_type": "code",
   "execution_count": 8,
   "id": "7c353745",
   "metadata": {},
   "outputs": [
    {
     "data": {
      "text/plain": [
       "100"
      ]
     },
     "execution_count": 8,
     "metadata": {},
     "output_type": "execute_result"
    }
   ],
   "source": [
    "#Square of a number\n",
    "\n",
    "def sq(num):\n",
    "    n1=num*num\n",
    "    return(n1)\n",
    "sq(10)\n",
    "\n"
   ]
  },
  {
   "cell_type": "code",
   "execution_count": 9,
   "id": "b1599c63",
   "metadata": {},
   "outputs": [
    {
     "data": {
      "text/plain": [
       "100"
      ]
     },
     "execution_count": 9,
     "metadata": {},
     "output_type": "execute_result"
    }
   ],
   "source": [
    "#\n",
    "\n",
    "sq=lambda num:num*num\n",
    "sq(10)"
   ]
  },
  {
   "cell_type": "code",
   "execution_count": 10,
   "id": "61771450",
   "metadata": {},
   "outputs": [
    {
     "data": {
      "text/plain": [
       "30.0"
      ]
     },
     "execution_count": 10,
     "metadata": {},
     "output_type": "execute_result"
    }
   ],
   "source": [
    "#avg of 2 numbers\n",
    "\n",
    "avg=lambda a,b:(a+b)/2\n",
    "avg(20,40)"
   ]
  },
  {
   "cell_type": "code",
   "execution_count": 11,
   "id": "27ff3e6c",
   "metadata": {},
   "outputs": [
    {
     "name": "stdout",
     "output_type": "stream",
     "text": [
      "postve\n"
     ]
    }
   ],
   "source": [
    "#lambda with if else\n",
    "\n",
    "#pstve or ngtve\n",
    "\n",
    "def pos_neg(n):\n",
    "    if(n>0):\n",
    "        print(\"postve\")\n",
    "    else:\n",
    "        print(\"ngtve\")\n",
    "pos_neg(9)"
   ]
  },
  {
   "cell_type": "code",
   "execution_count": 20,
   "id": "7d7535d1",
   "metadata": {},
   "outputs": [
    {
     "data": {
      "text/plain": [
       "'Positivenumber'"
      ]
     },
     "execution_count": 20,
     "metadata": {},
     "output_type": "execute_result"
    }
   ],
   "source": [
    "#funcn_name=lambda <args> : <if o/p> <if condition> <else> <else O/p>\n",
    "\n",
    "pos_neg=lambda n:\"Positivenumber\" if(n>0) else \"negativenumber\"\n",
    "pos_neg(9)"
   ]
  },
  {
   "cell_type": "code",
   "execution_count": 22,
   "id": "f2ec04c4",
   "metadata": {},
   "outputs": [
    {
     "data": {
      "text/plain": [
       "'even number'"
      ]
     },
     "execution_count": 22,
     "metadata": {},
     "output_type": "execute_result"
    }
   ],
   "source": [
    "#evn, odd\n",
    "even_odd=lambda n:\"even number\" if(n%2==0) else \"odd number\"\n",
    "even_odd(10)"
   ]
  },
  {
   "cell_type": "code",
   "execution_count": 23,
   "id": "a5e35a93",
   "metadata": {},
   "outputs": [
    {
     "name": "stdout",
     "output_type": "stream",
     "text": [
      "The weight in pounds is: 110.0\n"
     ]
    }
   ],
   "source": [
    "#\n",
    "\n",
    "def weight_in_pounds(weight):\n",
    "    try:\n",
    "        pounds=2.2*weight\n",
    "        print(\"The weight in pounds is:\",round(pounds,2))\n",
    "    except Exception as e:\n",
    "        print(e)\n",
    "weight_in_pounds(50)"
   ]
  },
  {
   "cell_type": "code",
   "execution_count": 25,
   "id": "280b26f4",
   "metadata": {},
   "outputs": [
    {
     "data": {
      "text/plain": [
       "110.0"
      ]
     },
     "execution_count": 25,
     "metadata": {},
     "output_type": "execute_result"
    }
   ],
   "source": [
    "#lmbda\n",
    "\n",
    "weight_in_pounds=lambda weight:2.2*weight\n",
    "round(weight_in_pounds(50),2)"
   ]
  },
  {
   "cell_type": "code",
   "execution_count": 26,
   "id": "b59f9cd8",
   "metadata": {},
   "outputs": [
    {
     "name": "stdout",
     "output_type": "stream",
     "text": [
      "The weight in pounds is: 110.0\n"
     ]
    }
   ],
   "source": [
    "#\n",
    "def weight_in_pounds(weight=50):\n",
    "    try:\n",
    "        pounds=2.2*weight\n",
    "        print(\"The weight in pounds is:\",round(pounds,2))\n",
    "    except Exception as e:\n",
    "        print(e)\n",
    "weight_in_pounds()"
   ]
  },
  {
   "cell_type": "code",
   "execution_count": 28,
   "id": "c0437ee7",
   "metadata": {},
   "outputs": [
    {
     "data": {
      "text/plain": [
       "110.0"
      ]
     },
     "execution_count": 28,
     "metadata": {},
     "output_type": "execute_result"
    }
   ],
   "source": [
    "#using lmbda\n",
    "\n",
    "weight_in_pounds=lambda weight=50:2.2*weight\n",
    "round(weight_in_pounds(),2)"
   ]
  },
  {
   "cell_type": "code",
   "execution_count": 33,
   "id": "a16dcd1a",
   "metadata": {},
   "outputs": [
    {
     "name": "stdout",
     "output_type": "stream",
     "text": [
      "The value of total is: 60\n",
      "The value of average is: 20.0\n"
     ]
    }
   ],
   "source": [
    "#\n",
    "\n",
    "def total_avg(a,b,c):\n",
    "    try:\n",
    "        total=a+b+c\n",
    "        average=total/3\n",
    "        print(\"The value of total is:\",total)\n",
    "        print(\"The value of average is:\",average)\n",
    "    except Exception as e:\n",
    "        print(e)\n",
    "total_avg(10,20,30)"
   ]
  },
  {
   "cell_type": "code",
   "execution_count": 32,
   "id": "fb6618ca",
   "metadata": {},
   "outputs": [
    {
     "data": {
      "text/plain": [
       "20.0"
      ]
     },
     "execution_count": 32,
     "metadata": {},
     "output_type": "execute_result"
    }
   ],
   "source": [
    "#lmbda\n",
    "\n",
    "total_avg=lambda a,b,c:(a+b+c)/3\n",
    "total_avg(10,20,30)"
   ]
  },
  {
   "cell_type": "code",
   "execution_count": 34,
   "id": "5d9dbfe8",
   "metadata": {},
   "outputs": [
    {
     "name": "stdout",
     "output_type": "stream",
     "text": [
      "The value of total is: 120\n",
      "The value of average is: 40.0\n"
     ]
    }
   ],
   "source": [
    "def total_avg(a,b,c=60):\n",
    "    try:\n",
    "        total=a+b+c\n",
    "        average=total/3\n",
    "        print(\"The value of total is:\",total)\n",
    "        print(\"The value of average is:\",average)\n",
    "    except Exception as e:\n",
    "        print(e)\n",
    "total_avg(20,40)"
   ]
  },
  {
   "cell_type": "code",
   "execution_count": 36,
   "id": "bb668fcf",
   "metadata": {},
   "outputs": [
    {
     "ename": "TypeError",
     "evalue": "'int' object is not callable",
     "output_type": "error",
     "traceback": [
      "\u001b[1;31m---------------------------------------------------------------------------\u001b[0m",
      "\u001b[1;31mTypeError\u001b[0m                                 Traceback (most recent call last)",
      "Cell \u001b[1;32mIn[36], line 4\u001b[0m\n\u001b[0;32m      1\u001b[0m \u001b[38;5;66;03m#lmbda\u001b[39;00m\n\u001b[0;32m      3\u001b[0m total_avg\u001b[38;5;241m=\u001b[39m\u001b[38;5;28;01mlambda\u001b[39;00m a,b,c\u001b[38;5;241m=\u001b[39m\u001b[38;5;241m60\u001b[39m:a\u001b[38;5;241m+\u001b[39mb\u001b[38;5;241m+\u001b[39mc (a\u001b[38;5;241m+\u001b[39mb\u001b[38;5;241m+\u001b[39mc)\u001b[38;5;241m/\u001b[39m\u001b[38;5;241m3\u001b[39m\n\u001b[1;32m----> 4\u001b[0m total_avg(\u001b[38;5;241m20\u001b[39m,\u001b[38;5;241m40\u001b[39m)\n",
      "Cell \u001b[1;32mIn[36], line 3\u001b[0m, in \u001b[0;36m<lambda>\u001b[1;34m(a, b, c)\u001b[0m\n\u001b[0;32m      1\u001b[0m \u001b[38;5;66;03m#lmbda\u001b[39;00m\n\u001b[1;32m----> 3\u001b[0m total_avg\u001b[38;5;241m=\u001b[39m\u001b[38;5;28;01mlambda\u001b[39;00m a,b,c\u001b[38;5;241m=\u001b[39m\u001b[38;5;241m60\u001b[39m:a\u001b[38;5;241m+\u001b[39mb\u001b[38;5;241m+\u001b[39mc (a\u001b[38;5;241m+\u001b[39mb\u001b[38;5;241m+\u001b[39mc)\u001b[38;5;241m/\u001b[39m\u001b[38;5;241m3\u001b[39m\n\u001b[0;32m      4\u001b[0m total_avg(\u001b[38;5;241m20\u001b[39m,\u001b[38;5;241m40\u001b[39m)\n",
      "\u001b[1;31mTypeError\u001b[0m: 'int' object is not callable"
     ]
    }
   ],
   "source": [
    "#lmbda\n",
    "\n",
    "total_avg=lambda a,b,c=60:a+b+c (a+b+c)/3\n",
    "total_avg(20,40)\n",
    "\n",
    "#MUltiple conditions are not allowed"
   ]
  },
  {
   "cell_type": "code",
   "execution_count": 40,
   "id": "a5c7d2ea",
   "metadata": {},
   "outputs": [
    {
     "name": "stdout",
     "output_type": "stream",
     "text": [
      "30 is greatest\n"
     ]
    }
   ],
   "source": [
    "#if else\n",
    "#greatest of 2 number\n",
    "\n",
    "def greatest(a,b):\n",
    "    if(a>b):\n",
    "        print(\"{} is greatest\".format(a))\n",
    "    else:\n",
    "        print(\"{} is greatest\".format(b))\n",
    "greatest(20,30)"
   ]
  },
  {
   "cell_type": "code",
   "execution_count": 41,
   "id": "cdebf3f5",
   "metadata": {},
   "outputs": [
    {
     "data": {
      "text/plain": [
       "'30 is greatest'"
      ]
     },
     "execution_count": 41,
     "metadata": {},
     "output_type": "execute_result"
    }
   ],
   "source": [
    "#lmbda\n",
    "\n",
    "greatest=lambda a,b:\"{} is greatest\".format(a) if(a>b) else \"{} is greatest\".format(b)\n",
    "greatest(20,30)"
   ]
  },
  {
   "cell_type": "code",
   "execution_count": 42,
   "id": "0ddbf6cc",
   "metadata": {},
   "outputs": [
    {
     "name": "stdout",
     "output_type": "stream",
     "text": [
      "hyd\n",
      "mumbai\n",
      "bangalore\n"
     ]
    }
   ],
   "source": [
    "#using list\n",
    "\n",
    "list1=[\"hyd\",\"mumbai\",\"bangalore\"]\n",
    "for i in list1:\n",
    "    print(i)"
   ]
  },
  {
   "cell_type": "code",
   "execution_count": 43,
   "id": "4c9175d8",
   "metadata": {},
   "outputs": [
    {
     "name": "stdout",
     "output_type": "stream",
     "text": [
      "Hyd\n",
      "Mumbai\n",
      "Bangalore\n"
     ]
    }
   ],
   "source": [
    "#capitalize first letter\n",
    "\n",
    "list1=[\"hyd\",\"mumbai\",\"bangalore\"]\n",
    "for i in list1:\n",
    "    c=i.capitalize()\n",
    "    print(c)"
   ]
  },
  {
   "cell_type": "code",
   "execution_count": 46,
   "id": "42555cf8",
   "metadata": {},
   "outputs": [
    {
     "data": {
      "text/plain": [
       "(<function __main__.<lambda>(i)>, ['hyd', 'mumbai', 'bangalore'])"
      ]
     },
     "execution_count": 46,
     "metadata": {},
     "output_type": "execute_result"
    }
   ],
   "source": [
    "#using lmbda\n",
    "\n",
    "lambda i:i.capitalize(),list1"
   ]
  },
  {
   "cell_type": "code",
   "execution_count": 47,
   "id": "4ef13c83",
   "metadata": {},
   "outputs": [
    {
     "data": {
      "text/plain": [
       "<map at 0x2dbeea01810>"
      ]
     },
     "execution_count": 47,
     "metadata": {},
     "output_type": "execute_result"
    }
   ],
   "source": [
    "map(lambda i:i.capitalize(),list1)"
   ]
  },
  {
   "cell_type": "code",
   "execution_count": 48,
   "id": "fe0b8b86",
   "metadata": {},
   "outputs": [
    {
     "data": {
      "text/plain": [
       "['Hyd', 'Mumbai', 'Bangalore']"
      ]
     },
     "execution_count": 48,
     "metadata": {},
     "output_type": "execute_result"
    }
   ],
   "source": [
    "list(map(lambda i:i.capitalize(),list1))"
   ]
  },
  {
   "cell_type": "code",
   "execution_count": 50,
   "id": "948508d0",
   "metadata": {},
   "outputs": [
    {
     "data": {
      "text/plain": [
       "100"
      ]
     },
     "execution_count": 50,
     "metadata": {},
     "output_type": "execute_result"
    }
   ],
   "source": [
    "#l2=[1,2,3,4]\n",
    "#square of a number\n",
    "def sq(n):\n",
    "    n1=n*n\n",
    "    return(n1)\n",
    "sq(10)\n",
    "\n",
    "#logic is same (But in the gven ex- we have list of elements)"
   ]
  },
  {
   "cell_type": "code",
   "execution_count": 54,
   "id": "4eeed647",
   "metadata": {},
   "outputs": [
    {
     "data": {
      "text/plain": [
       "(<function __main__.<lambda>(n)>, [1, 2, 3, 4])"
      ]
     },
     "execution_count": 54,
     "metadata": {},
     "output_type": "execute_result"
    }
   ],
   "source": [
    "#lambda <args>: <Cndn> ,<str/tup>\n",
    "\n",
    "l2=[1,2,3,4]\n",
    "lambda n:n*n,l2  \n"
   ]
  },
  {
   "cell_type": "code",
   "execution_count": 55,
   "id": "c2e35fb1",
   "metadata": {},
   "outputs": [
    {
     "data": {
      "text/plain": [
       "<map at 0x2dbeea08c40>"
      ]
     },
     "execution_count": 55,
     "metadata": {},
     "output_type": "execute_result"
    }
   ],
   "source": [
    "#using map\n",
    "\n",
    "map(lambda n:n*n,l2)"
   ]
  },
  {
   "cell_type": "code",
   "execution_count": 56,
   "id": "03ec8d78",
   "metadata": {},
   "outputs": [
    {
     "data": {
      "text/plain": [
       "[1, 4, 9, 16]"
      ]
     },
     "execution_count": 56,
     "metadata": {},
     "output_type": "execute_result"
    }
   ],
   "source": [
    "#storing in list\n",
    "\n",
    "list(map(lambda n:n*n,l2))"
   ]
  },
  {
   "cell_type": "code",
   "execution_count": 70,
   "id": "d4693fbf",
   "metadata": {},
   "outputs": [
    {
     "data": {
      "text/plain": [
       "1000"
      ]
     },
     "execution_count": 70,
     "metadata": {},
     "output_type": "execute_result"
    }
   ],
   "source": [
    "##cubes\n",
    "\n",
    "l4=[10,20,30,40]\n",
    "\n",
    "def cube(n):\n",
    "    n1=n*n*n\n",
    "    return(n1)\n",
    "cube(10)"
   ]
  },
  {
   "cell_type": "code",
   "execution_count": 71,
   "id": "a3c16b24",
   "metadata": {},
   "outputs": [
    {
     "data": {
      "text/plain": [
       "(<function __main__.<lambda>(n)>, [10, 20, 30, 40])"
      ]
     },
     "execution_count": 71,
     "metadata": {},
     "output_type": "execute_result"
    }
   ],
   "source": [
    "lambda n:n*n*n,l4"
   ]
  },
  {
   "cell_type": "code",
   "execution_count": 72,
   "id": "b78ebd18",
   "metadata": {},
   "outputs": [
    {
     "data": {
      "text/plain": [
       "<map at 0x2dbeea17ee0>"
      ]
     },
     "execution_count": 72,
     "metadata": {},
     "output_type": "execute_result"
    }
   ],
   "source": [
    "#using map\n",
    "\n",
    "map(lambda n:n*n*n,l4)"
   ]
  },
  {
   "cell_type": "code",
   "execution_count": 73,
   "id": "29090567",
   "metadata": {},
   "outputs": [
    {
     "data": {
      "text/plain": [
       "[1000, 8000, 27000, 64000]"
      ]
     },
     "execution_count": 73,
     "metadata": {},
     "output_type": "execute_result"
    }
   ],
   "source": [
    "#store in list\n",
    "\n",
    "list(map(lambda n:n*n*n,l4))"
   ]
  },
  {
   "cell_type": "code",
   "execution_count": 86,
   "id": "524153d1",
   "metadata": {},
   "outputs": [
    {
     "data": {
      "text/plain": [
       "(<function __main__.<lambda>(i)>, [1, 2, 3, 4, 5, 6])"
      ]
     },
     "execution_count": 86,
     "metadata": {},
     "output_type": "execute_result"
    }
   ],
   "source": [
    "####ex--- \n",
    "\n",
    "#o/p=[{'even':[2,4,6],'odd':[1,3,5]}]\n",
    "#o/p- [{1:'odd',2:'even'}]\n",
    "\n",
    "list1=[1,2,3,4,5,6]\n",
    "\n",
    "lambda i:{i:\"even\"} if i%2==0 else {i:\"odd\"},list1"
   ]
  },
  {
   "cell_type": "code",
   "execution_count": 87,
   "id": "08f6ff56",
   "metadata": {},
   "outputs": [
    {
     "data": {
      "text/plain": [
       "<map at 0x2dbeea1a950>"
      ]
     },
     "execution_count": 87,
     "metadata": {},
     "output_type": "execute_result"
    }
   ],
   "source": [
    "map(lambda i:{i:\"even\"} if i%2==0 else {i:\"odd\"},list1)"
   ]
  },
  {
   "cell_type": "code",
   "execution_count": 88,
   "id": "9664128a",
   "metadata": {},
   "outputs": [
    {
     "data": {
      "text/plain": [
       "[{1: 'odd'}, {2: 'even'}, {3: 'odd'}, {4: 'even'}, {5: 'odd'}, {6: 'even'}]"
      ]
     },
     "execution_count": 88,
     "metadata": {},
     "output_type": "execute_result"
    }
   ],
   "source": [
    "list(map(lambda i:{i:\"even\"} if i%2==0 else {i:\"odd\"},list1))"
   ]
  },
  {
   "cell_type": "code",
   "execution_count": 103,
   "id": "82e25a7a",
   "metadata": {},
   "outputs": [
    {
     "data": {
      "text/plain": [
       "{'even': [2, 4, 6, 8], 'odd': [1, 3, 5, 7]}"
      ]
     },
     "execution_count": 103,
     "metadata": {},
     "output_type": "execute_result"
    }
   ],
   "source": [
    "#o/p-2=[{'even':[2,4,6],'odd':[1,3,5]}]\n",
    "\n",
    "d1={}\n",
    "list3=[1,2,3,4,5,6,7,8]\n",
    "d1['even']=list(filter(lambda i:i%2==0,list3))\n",
    "d1['odd']=list(filter(lambda i:i%2!=0,list3))\n",
    "d1"
   ]
  },
  {
   "cell_type": "code",
   "execution_count": 10,
   "id": "0639f9ca",
   "metadata": {},
   "outputs": [
    {
     "name": "stdout",
     "output_type": "stream",
     "text": [
      "Arithmetic operators:\n",
      "==================================================\n",
      "\t 1.Addition\n",
      "\t 2.Subtraction\n",
      "\t 3.Multiplication\n",
      "\t 4.Division\n",
      "\t 5.Modulo division\n",
      "\t 6.Floor division\n",
      "\t 7.Exponent\n",
      "\t 8.Exit\n",
      "ENter your choice:7\n",
      "Enter base value2\n",
      "Enter power value4\n",
      "Exponent(2,4)=16\n"
     ]
    }
   ],
   "source": [
    "#perfom all arithmetic operators using lambda function & use menu driven appn \n",
    "\n",
    "#lambda fun'\n",
    "\n",
    "import sys\n",
    "add=lambda a,b:a+b\n",
    "sub=lambda a,b:a-b\n",
    "mul=lambda a,b:a*b\n",
    "div=lambda a,b:a/b\n",
    "moddiv=lambda a,b:a%b\n",
    "floordiv=lambda a,b:a//b\n",
    "exp=lambda a,b:a**b\n",
    "def arithm():\n",
    "    print(\"Arithmetic operators:\")\n",
    "    print(\"=\"*50)\n",
    "    print(\"\\t 1.Addition\")\n",
    "    print(\"\\t 2.Subtraction\")\n",
    "    print(\"\\t 3.Multiplication\")\n",
    "    print(\"\\t 4.Division\")\n",
    "    print(\"\\t 5.Modulo division\")\n",
    "    print(\"\\t 6.Floor division\")\n",
    "    print(\"\\t 7.Exponent\")\n",
    "    print(\"\\t 8.Exit\")\n",
    "\n",
    "arithm()\n",
    "ch=int(input(\"ENter your choice:\"))\n",
    "match(ch):\n",
    "    case 1:\n",
    "        a=eval(input(\"Enter a value\"))\n",
    "        b=eval(input(\"Enter b value\"))\n",
    "        res=add(a,b)       #calling add lambda fun'\n",
    "        print(\"Sum({},{})={}\".format(a,b,res)) \n",
    "    case 2:\n",
    "        a=eval(input(\"Enter a value\"))\n",
    "        b=eval(input(\"Enter b value\"))\n",
    "        res=sub(a,b)       #calling sub lambda fun'\n",
    "        print(\"Sub({},{})={}\".format(a,b,res))\n",
    "    case 3:\n",
    "        a=eval(input(\"Enter a value\"))\n",
    "        b=eval(input(\"Enter b value\"))\n",
    "        res=mul(a,b)       #calling mul lambda fun'\n",
    "        print(\"Mul({},{})={}\".format(a,b,res))\n",
    "    case 4:\n",
    "        a=eval(input(\"Enter a value\"))\n",
    "        b=eval(input(\"Enter b value\"))\n",
    "        res=div(a,b)       \n",
    "        print(\"Div({},{})={}\".format(a,b,res))\n",
    "    case 5:\n",
    "        a=eval(input(\"Enter a value\"))\n",
    "        b=eval(input(\"Enter b value\"))\n",
    "        res=moddiv(a,b)       \n",
    "        print(\"Modulo Div({},{})={}\".format(a,b,res))\n",
    "    case 6:\n",
    "        a=eval(input(\"Enter a value\"))\n",
    "        b=eval(input(\"Enter b value\"))\n",
    "        res=floordiv(a,b)       \n",
    "        print(\"Floor Div({},{})={}\".format(a,b,res))\n",
    "    case 7:\n",
    "        a=eval(input(\"Enter base value\"))\n",
    "        b=eval(input(\"Enter power value\"))\n",
    "        res=exp(a,b)       \n",
    "        print(\"Exponent({},{})={}\".format(a,b,res))\n",
    "    case 8:\n",
    "        sys.exit()\n",
    "    case _:\n",
    "        print(\"your selection of opertaion is wrong,try again\")\n",
    "        \n",
    "        \n"
   ]
  },
  {
   "cell_type": "code",
   "execution_count": 15,
   "id": "7d06be74",
   "metadata": {},
   "outputs": [
    {
     "name": "stdout",
     "output_type": "stream",
     "text": [
      "Arithmetic operators:\n",
      "==================================================\n",
      "\t 1.Addition\n",
      "\t 2.Subtraction\n",
      "\t 3.Multiplication\n",
      "\t 4.Division\n",
      "\t 5.Modulo division\n",
      "\t 6.Floor division\n",
      "\t 7.Exponent\n",
      "\t 8.Exit\n",
      "ENter your choice:30\n",
      "your selection of opertaion is wrong,try again\n",
      "Arithmetic operators:\n",
      "==================================================\n",
      "\t 1.Addition\n",
      "\t 2.Subtraction\n",
      "\t 3.Multiplication\n",
      "\t 4.Division\n",
      "\t 5.Modulo division\n",
      "\t 6.Floor division\n",
      "\t 7.Exponent\n",
      "\t 8.Exit\n",
      "ENter your choice:45\n",
      "your selection of opertaion is wrong,try again\n",
      "Arithmetic operators:\n",
      "==================================================\n",
      "\t 1.Addition\n",
      "\t 2.Subtraction\n",
      "\t 3.Multiplication\n",
      "\t 4.Division\n",
      "\t 5.Modulo division\n",
      "\t 6.Floor division\n",
      "\t 7.Exponent\n",
      "\t 8.Exit\n",
      "ENter your choice:7\n",
      "Enter base value3\n",
      "Enter power value4\n",
      "Exponent(3,4)=81\n",
      "Arithmetic operators:\n",
      "==================================================\n",
      "\t 1.Addition\n",
      "\t 2.Subtraction\n",
      "\t 3.Multiplication\n",
      "\t 4.Division\n",
      "\t 5.Modulo division\n",
      "\t 6.Floor division\n",
      "\t 7.Exponent\n",
      "\t 8.Exit\n",
      "ENter your choice:8\n",
      "Thanks for this program\n"
     ]
    }
   ],
   "source": [
    "#perfom all arithmetic operators using lambda function & use menu driven appn \n",
    "\n",
    "#lambda fun'\n",
    "#if given chocie is other than 1 to 8, loop to be continued again & ask again to enter choice (using while loop) \n",
    "\n",
    "\n",
    "add=lambda a,b:a+b\n",
    "sub=lambda a,b:a-b\n",
    "mul=lambda a,b:a*b\n",
    "div=lambda a,b:a/b\n",
    "moddiv=lambda a,b:a%b\n",
    "floordiv=lambda a,b:a//b\n",
    "exp=lambda a,b:a**b\n",
    "def arithm():\n",
    "    print(\"Arithmetic operators:\")\n",
    "    print(\"=\"*50)\n",
    "    print(\"\\t 1.Addition\")\n",
    "    print(\"\\t 2.Subtraction\")\n",
    "    print(\"\\t 3.Multiplication\")\n",
    "    print(\"\\t 4.Division\")\n",
    "    print(\"\\t 5.Modulo division\")\n",
    "    print(\"\\t 6.Floor division\")\n",
    "    print(\"\\t 7.Exponent\")\n",
    "    print(\"\\t 8.Exit\")\n",
    "while(True):\n",
    "    arithm()\n",
    "    ch=int(input(\"ENter your choice:\"))\n",
    "    match(ch):\n",
    "        case 1:\n",
    "            a=eval(input(\"Enter a value\"))\n",
    "            b=eval(input(\"Enter b value\"))\n",
    "            res=add(a,b)       #calling add lambda fun'\n",
    "            print(\"Sum({},{})={}\".format(a,b,res)) \n",
    "        case 2:\n",
    "            a=eval(input(\"Enter a value\"))\n",
    "            b=eval(input(\"Enter b value\"))\n",
    "            res=sub(a,b)       #calling sub lambda fun'\n",
    "            print(\"Sub({},{})={}\".format(a,b,res))\n",
    "        case 3:\n",
    "            a=eval(input(\"Enter a value\"))\n",
    "            b=eval(input(\"Enter b value\"))\n",
    "            res=mul(a,b)       #calling mul lambda fun'\n",
    "            print(\"Mul({},{})={}\".format(a,b,res))\n",
    "        case 4:\n",
    "            a=eval(input(\"Enter a value\"))\n",
    "            b=eval(input(\"Enter b value\"))\n",
    "            res=div(a,b)       \n",
    "            print(\"Div({},{})={}\".format(a,b,res))\n",
    "        case 5:\n",
    "            a=eval(input(\"Enter a value\"))\n",
    "            b=eval(input(\"Enter b value\"))\n",
    "            res=moddiv(a,b)       \n",
    "            print(\"Modulo Div({},{})={}\".format(a,b,res))\n",
    "        case 6:\n",
    "            a=eval(input(\"Enter a value\"))\n",
    "            b=eval(input(\"Enter b value\"))\n",
    "            res=floordiv(a,b)       \n",
    "            print(\"Floor Div({},{})={}\".format(a,b,res))\n",
    "        case 7:\n",
    "            a=eval(input(\"Enter base value\"))\n",
    "            b=eval(input(\"Enter power value\"))\n",
    "            res=exp(a,b)       \n",
    "            print(\"Exponent({},{})={}\".format(a,b,res))\n",
    "        case 8:\n",
    "            print(\"Thanks for this program\")\n",
    "            break\n",
    "        case _:\n",
    "            print(\"your selection of opertaion is wrong,try again\")\n",
    "        \n",
    "  \n"
   ]
  },
  {
   "cell_type": "code",
   "execution_count": 20,
   "id": "9f8213c3",
   "metadata": {},
   "outputs": [
    {
     "name": "stdout",
     "output_type": "stream",
     "text": [
      "Enter a: 20\n",
      "Enter b: 10\n"
     ]
    },
    {
     "data": {
      "text/plain": [
       "20"
      ]
     },
     "execution_count": 20,
     "metadata": {},
     "output_type": "execute_result"
    }
   ],
   "source": [
    "#greatest of 2 \n",
    "\n",
    "big=lambda a,b:a if a>b else b\n",
    "big(eval(input(\"Enter a: \")),eval(input(\"Enter b: \")))"
   ]
  },
  {
   "cell_type": "code",
   "execution_count": 21,
   "id": "2e0eab34",
   "metadata": {},
   "outputs": [
    {
     "name": "stdout",
     "output_type": "stream",
     "text": [
      "Enter a: 10\n",
      "Enter b: 20\n"
     ]
    },
    {
     "data": {
      "text/plain": [
       "10"
      ]
     },
     "execution_count": 21,
     "metadata": {},
     "output_type": "execute_result"
    }
   ],
   "source": [
    "#smallest of 2\n",
    "\n",
    "small=lambda a,b:a if a<b else b\n",
    "small(eval(input(\"Enter a: \")),eval(input(\"Enter b: \")))"
   ]
  },
  {
   "cell_type": "code",
   "execution_count": 23,
   "id": "2ecc5ffc",
   "metadata": {},
   "outputs": [
    {
     "name": "stdout",
     "output_type": "stream",
     "text": [
      "Enter a: 10\n",
      "Enter b: 20\n"
     ]
    },
    {
     "data": {
      "text/plain": [
       "30"
      ]
     },
     "execution_count": 23,
     "metadata": {},
     "output_type": "execute_result"
    }
   ],
   "source": [
    "#addition of 2\n",
    "\n",
    "add=lambda a,b:a+b\n",
    "a=eval(input(\"Enter a: \"))\n",
    "b=eval(input(\"Enter b: \"))\n",
    "add(a,b)"
   ]
  },
  {
   "cell_type": "code",
   "execution_count": 24,
   "id": "a47b360b",
   "metadata": {},
   "outputs": [
    {
     "name": "stdout",
     "output_type": "stream",
     "text": [
      "Enter a: 30\n",
      "Enter b: 20\n",
      "Enter c: 30\n"
     ]
    },
    {
     "data": {
      "text/plain": [
       "80"
      ]
     },
     "execution_count": 24,
     "metadata": {},
     "output_type": "execute_result"
    }
   ],
   "source": [
    "#addin of 3 numbers\n",
    "\n",
    "add=lambda a,b,c:a+b+c\n",
    "a=eval(input(\"Enter a: \"))\n",
    "b=eval(input(\"Enter b: \"))\n",
    "c=eval(input(\"Enter c: \"))\n",
    "add(a,b,c)"
   ]
  },
  {
   "cell_type": "code",
   "execution_count": 30,
   "id": "13ef7863",
   "metadata": {},
   "outputs": [
    {
     "name": "stdout",
     "output_type": "stream",
     "text": [
      "Enter a: 10\n",
      "Enter b: 30\n",
      "Enter c: 40\n"
     ]
    },
    {
     "data": {
      "text/plain": [
       "40"
      ]
     },
     "execution_count": 30,
     "metadata": {},
     "output_type": "execute_result"
    }
   ],
   "source": [
    "#greatest of 3 \n",
    "\n",
    "greatest=lambda a,b,c:a if(a>b)and(a>c) else b if(b>c)and(b>a) else c\n",
    "a=eval(input(\"Enter a: \"))\n",
    "b=eval(input(\"Enter b: \"))\n",
    "c=eval(input(\"Enter c: \"))\n",
    "greatest(a,b,c)"
   ]
  },
  {
   "cell_type": "code",
   "execution_count": 31,
   "id": "bab8402d",
   "metadata": {},
   "outputs": [
    {
     "data": {
      "text/plain": [
       "30"
      ]
     },
     "execution_count": 31,
     "metadata": {},
     "output_type": "execute_result"
    }
   ],
   "source": [
    "#greatest of 2\n",
    "\n",
    "greatest=lambda a,b:a if(a>b) else b\n",
    "greatest(20,30)\n",
    "\n"
   ]
  },
  {
   "cell_type": "code",
   "execution_count": 40,
   "id": "7dc5fad9",
   "metadata": {},
   "outputs": [
    {
     "name": "stdout",
     "output_type": "stream",
     "text": [
      "Enter a: 10\n",
      "Enter b: 10\n",
      "Enter c: 10\n"
     ]
    },
    {
     "data": {
      "text/plain": [
       "'All values are equal'"
      ]
     },
     "execution_count": 40,
     "metadata": {},
     "output_type": "execute_result"
    }
   ],
   "source": [
    "#greatest of 3 \n",
    "\n",
    "greatest=lambda a,b,c:\"All values are equal\" if(a==b)and(b==c) else a if(a>b)and(a>c) else b if(b>c)and(b>a) else c\n",
    "a=eval(input(\"Enter a: \"))\n",
    "b=eval(input(\"Enter b: \"))\n",
    "c=eval(input(\"Enter c: \"))\n",
    "greatest(a,b,c)"
   ]
  },
  {
   "cell_type": "code",
   "execution_count": 49,
   "id": "c9d024ab",
   "metadata": {},
   "outputs": [
    {
     "ename": "TypeError",
     "evalue": "<lambda>() missing 1 required positional argument: 'b'",
     "output_type": "error",
     "traceback": [
      "\u001b[1;31m---------------------------------------------------------------------------\u001b[0m",
      "\u001b[1;31mTypeError\u001b[0m                                 Traceback (most recent call last)",
      "Cell \u001b[1;32mIn[49], line 6\u001b[0m\n\u001b[0;32m      3\u001b[0m l1\u001b[38;5;241m=\u001b[39m[\u001b[38;5;241m10\u001b[39m,\u001b[38;5;241m20\u001b[39m,\u001b[38;5;241m40\u001b[39m,\u001b[38;5;241m50\u001b[39m]\n\u001b[0;32m      4\u001b[0m \u001b[38;5;66;03m#lambda i:\"big\" if big(l1) else \"small\",l1\u001b[39;00m\n\u001b[1;32m----> 6\u001b[0m big(l1)\n",
      "\u001b[1;31mTypeError\u001b[0m: <lambda>() missing 1 required positional argument: 'b'"
     ]
    }
   ],
   "source": [
    "#WAPP which will accept list of values & find max & min using lambda function\n",
    "\n",
    "l1=[10,20,40,50]\n",
    "#lambda i:\"big\" if big(l1) else \"small\",l1\n",
    "\n"
   ]
  },
  {
   "cell_type": "code",
   "execution_count": 45,
   "id": "e40fa86f",
   "metadata": {},
   "outputs": [
    {
     "data": {
      "text/plain": [
       "<map at 0x21651fed180>"
      ]
     },
     "execution_count": 45,
     "metadata": {},
     "output_type": "execute_result"
    }
   ],
   "source": [
    "map(lambda i:\"big\" if big(l1) else \"small\",l1)"
   ]
  },
  {
   "cell_type": "code",
   "execution_count": 47,
   "id": "a16ee94c",
   "metadata": {},
   "outputs": [
    {
     "ename": "TypeError",
     "evalue": "<lambda>() missing 1 required positional argument: 'b'",
     "output_type": "error",
     "traceback": [
      "\u001b[1;31m---------------------------------------------------------------------------\u001b[0m",
      "\u001b[1;31mTypeError\u001b[0m                                 Traceback (most recent call last)",
      "Cell \u001b[1;32mIn[47], line 1\u001b[0m\n\u001b[1;32m----> 1\u001b[0m \u001b[38;5;28mlist\u001b[39m(\u001b[38;5;28mfilter\u001b[39m(\u001b[38;5;28;01mlambda\u001b[39;00m i:\u001b[38;5;124m\"\u001b[39m\u001b[38;5;124mbig\u001b[39m\u001b[38;5;124m\"\u001b[39m \u001b[38;5;28;01mif\u001b[39;00m big(l1) \u001b[38;5;28;01melse\u001b[39;00m \u001b[38;5;124m\"\u001b[39m\u001b[38;5;124msmall\u001b[39m\u001b[38;5;124m\"\u001b[39m,l1))\n",
      "Cell \u001b[1;32mIn[47], line 1\u001b[0m, in \u001b[0;36m<lambda>\u001b[1;34m(i)\u001b[0m\n\u001b[1;32m----> 1\u001b[0m \u001b[38;5;28mlist\u001b[39m(\u001b[38;5;28mfilter\u001b[39m(\u001b[38;5;28;01mlambda\u001b[39;00m i:\u001b[38;5;124m\"\u001b[39m\u001b[38;5;124mbig\u001b[39m\u001b[38;5;124m\"\u001b[39m \u001b[38;5;28;01mif\u001b[39;00m big(l1) \u001b[38;5;28;01melse\u001b[39;00m \u001b[38;5;124m\"\u001b[39m\u001b[38;5;124msmall\u001b[39m\u001b[38;5;124m\"\u001b[39m,l1))\n",
      "\u001b[1;31mTypeError\u001b[0m: <lambda>() missing 1 required positional argument: 'b'"
     ]
    }
   ],
   "source": [
    "list(filter(lambda i:\"big\" if big(l1) else \"small\",l1))"
   ]
  },
  {
   "cell_type": "code",
   "execution_count": null,
   "id": "f36379c9",
   "metadata": {},
   "outputs": [],
   "source": []
  }
 ],
 "metadata": {
  "kernelspec": {
   "display_name": "Python 3",
   "language": "python",
   "name": "python3"
  },
  "language_info": {
   "codemirror_mode": {
    "name": "ipython",
    "version": 3
   },
   "file_extension": ".py",
   "mimetype": "text/x-python",
   "name": "python",
   "nbconvert_exporter": "python",
   "pygments_lexer": "ipython3",
   "version": "3.11.4"
  }
 },
 "nbformat": 4,
 "nbformat_minor": 5
}
