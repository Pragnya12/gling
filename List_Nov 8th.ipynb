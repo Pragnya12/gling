{
 "cells": [
  {
   "cell_type": "code",
   "execution_count": 1,
   "id": "23676e9f",
   "metadata": {},
   "outputs": [
    {
     "data": {
      "text/plain": [
       "[10, 20, 30]"
      ]
     },
     "execution_count": 1,
     "metadata": {},
     "output_type": "execute_result"
    }
   ],
   "source": [
    "l1=[10,20,30]\n",
    "l1"
   ]
  },
  {
   "cell_type": "code",
   "execution_count": 200,
   "id": "90496cb6",
   "metadata": {},
   "outputs": [
    {
     "data": {
      "text/plain": [
       "['a', 'b', 'c']"
      ]
     },
     "execution_count": 200,
     "metadata": {},
     "output_type": "execute_result"
    }
   ],
   "source": [
    "l2=[\"a\",\"b\",\"c\"]\n",
    "l2"
   ]
  },
  {
   "cell_type": "code",
   "execution_count": 4,
   "id": "7179724a",
   "metadata": {},
   "outputs": [
    {
     "data": {
      "text/plain": [
       "[1, 2, 'a', 'b', 'c']"
      ]
     },
     "execution_count": 4,
     "metadata": {},
     "output_type": "execute_result"
    }
   ],
   "source": [
    "l3=[1,2,\"a\",\"b\",\"c\"]\n",
    "l3"
   ]
  },
  {
   "cell_type": "code",
   "execution_count": 5,
   "id": "0e6182f6",
   "metadata": {},
   "outputs": [
    {
     "data": {
      "text/plain": [
       "[10, 12.34, 'a', (2+3j)]"
      ]
     },
     "execution_count": 5,
     "metadata": {},
     "output_type": "execute_result"
    }
   ],
   "source": [
    "l4=[10,12.34,\"a\",2+3j]\n",
    "l4"
   ]
  },
  {
   "cell_type": "code",
   "execution_count": 6,
   "id": "5ff8657b",
   "metadata": {},
   "outputs": [
    {
     "data": {
      "text/plain": [
       "[10, 10, 10]"
      ]
     },
     "execution_count": 6,
     "metadata": {},
     "output_type": "execute_result"
    }
   ],
   "source": [
    "l5=[10,10,10]\n",
    "l5"
   ]
  },
  {
   "cell_type": "code",
   "execution_count": 7,
   "id": "1e91fa83",
   "metadata": {},
   "outputs": [
    {
     "data": {
      "text/plain": [
       "[10, 20, [20, 30], 'a', 'b']"
      ]
     },
     "execution_count": 7,
     "metadata": {},
     "output_type": "execute_result"
    }
   ],
   "source": [
    "l6=[10,20,[20,30],\"a\",\"b\"]   #list in list\n",
    "l6"
   ]
  },
  {
   "cell_type": "markdown",
   "id": "73e8490f",
   "metadata": {},
   "source": [
    "- list allows heterogenous values (mix of all types)\n",
    "- List allows duplication (i.e.,repetition of values )"
   ]
  },
  {
   "cell_type": "code",
   "execution_count": 8,
   "id": "7578e4a4",
   "metadata": {},
   "outputs": [
    {
     "data": {
      "text/plain": [
       "list"
      ]
     },
     "execution_count": 8,
     "metadata": {},
     "output_type": "execute_result"
    }
   ],
   "source": [
    "#to find type\n",
    "type(l6)"
   ]
  },
  {
   "cell_type": "code",
   "execution_count": 9,
   "id": "aacae115",
   "metadata": {},
   "outputs": [
    {
     "name": "stdout",
     "output_type": "stream",
     "text": [
      "[10, 20, 30]\n"
     ]
    }
   ],
   "source": [
    "#l1\n",
    "print(l1)"
   ]
  },
  {
   "cell_type": "code",
   "execution_count": 10,
   "id": "55040d73",
   "metadata": {},
   "outputs": [
    {
     "data": {
      "text/plain": [
       "3"
      ]
     },
     "execution_count": 10,
     "metadata": {},
     "output_type": "execute_result"
    }
   ],
   "source": [
    "#To find the length of list(l1)\n",
    "\n",
    "len(l1)"
   ]
  },
  {
   "cell_type": "code",
   "execution_count": 11,
   "id": "bedc3307",
   "metadata": {},
   "outputs": [
    {
     "data": {
      "text/plain": [
       "30"
      ]
     },
     "execution_count": 11,
     "metadata": {},
     "output_type": "execute_result"
    }
   ],
   "source": [
    "# To find the maximum of lst(l1)\n",
    "\n",
    "max(l1)"
   ]
  },
  {
   "cell_type": "code",
   "execution_count": 12,
   "id": "99a38653",
   "metadata": {},
   "outputs": [
    {
     "data": {
      "text/plain": [
       "10"
      ]
     },
     "execution_count": 12,
     "metadata": {},
     "output_type": "execute_result"
    }
   ],
   "source": [
    "#To find minimum of list(l1)\n",
    "\n",
    "min(l1)"
   ]
  },
  {
   "cell_type": "code",
   "execution_count": 13,
   "id": "fdd7ba8e",
   "metadata": {},
   "outputs": [
    {
     "data": {
      "text/plain": [
       "60"
      ]
     },
     "execution_count": 13,
     "metadata": {},
     "output_type": "execute_result"
    }
   ],
   "source": [
    "#To find sum of list(l1)\n",
    "\n",
    "sum(l1)"
   ]
  },
  {
   "cell_type": "markdown",
   "id": "c50024db",
   "metadata": {},
   "source": [
    "- For similar type of values(numericals) (length,max,min & sum) is possible"
   ]
  },
  {
   "cell_type": "code",
   "execution_count": 21,
   "id": "bb6dae06",
   "metadata": {},
   "outputs": [
    {
     "name": "stdout",
     "output_type": "stream",
     "text": [
      "['a', 'b', 'c']\n",
      "3\n",
      "c\n",
      "a\n"
     ]
    },
    {
     "ename": "TypeError",
     "evalue": "unsupported operand type(s) for +: 'int' and 'str'",
     "output_type": "error",
     "traceback": [
      "\u001b[1;31m---------------------------------------------------------------------------\u001b[0m",
      "\u001b[1;31mTypeError\u001b[0m                                 Traceback (most recent call last)",
      "Cell \u001b[1;32mIn[21], line 5\u001b[0m\n\u001b[0;32m      3\u001b[0m \u001b[38;5;28mprint\u001b[39m(\u001b[38;5;28mmax\u001b[39m(l2))\n\u001b[0;32m      4\u001b[0m \u001b[38;5;28mprint\u001b[39m(\u001b[38;5;28mmin\u001b[39m(l2))\n\u001b[1;32m----> 5\u001b[0m \u001b[38;5;28mprint\u001b[39m(\u001b[38;5;28msum\u001b[39m(l2))\n",
      "\u001b[1;31mTypeError\u001b[0m: unsupported operand type(s) for +: 'int' and 'str'"
     ]
    }
   ],
   "source": [
    "print(l2)\n",
    "print(len(l2))\n",
    "print(max(l2))\n",
    "print(min(l2))\n",
    "print(sum(l2))              #Type error (sum operators is supported only for integer,float values)"
   ]
  },
  {
   "cell_type": "markdown",
   "id": "efb3103e",
   "metadata": {},
   "source": [
    "- For characters(sum is not possible), remaining (length, max, min ) are possible"
   ]
  },
  {
   "cell_type": "code",
   "execution_count": 20,
   "id": "758386b3",
   "metadata": {},
   "outputs": [
    {
     "data": {
      "text/plain": [
       "97"
      ]
     },
     "execution_count": 20,
     "metadata": {},
     "output_type": "execute_result"
    }
   ],
   "source": [
    "#ascii of \"a\"\n",
    "ord(\"a\")\n"
   ]
  },
  {
   "cell_type": "code",
   "execution_count": 22,
   "id": "8fee6267",
   "metadata": {},
   "outputs": [
    {
     "data": {
      "text/plain": [
       "99"
      ]
     },
     "execution_count": 22,
     "metadata": {},
     "output_type": "execute_result"
    }
   ],
   "source": [
    "ord(\"c\")"
   ]
  },
  {
   "cell_type": "code",
   "execution_count": 28,
   "id": "c3e1e0fe",
   "metadata": {},
   "outputs": [
    {
     "name": "stdout",
     "output_type": "stream",
     "text": [
      "[1, 2, 'a', 'b', 'c']\n",
      "5\n"
     ]
    },
    {
     "ename": "TypeError",
     "evalue": "'>' not supported between instances of 'str' and 'int'",
     "output_type": "error",
     "traceback": [
      "\u001b[1;31m---------------------------------------------------------------------------\u001b[0m",
      "\u001b[1;31mTypeError\u001b[0m                                 Traceback (most recent call last)",
      "Cell \u001b[1;32mIn[28], line 3\u001b[0m\n\u001b[0;32m      1\u001b[0m \u001b[38;5;28mprint\u001b[39m(l3)\n\u001b[0;32m      2\u001b[0m \u001b[38;5;28mprint\u001b[39m(\u001b[38;5;28mlen\u001b[39m(l3))\n\u001b[1;32m----> 3\u001b[0m \u001b[38;5;28mprint\u001b[39m(\u001b[38;5;28mmax\u001b[39m(l3))\n",
      "\u001b[1;31mTypeError\u001b[0m: '>' not supported between instances of 'str' and 'int'"
     ]
    }
   ],
   "source": [
    "print(l3)\n",
    "print(len(l3))\n",
    "print(max(l3))       #Type error (since it is mix of numericals & characters, we can't find greatest value)\n"
   ]
  },
  {
   "cell_type": "code",
   "execution_count": 30,
   "id": "7b202c21",
   "metadata": {},
   "outputs": [
    {
     "ename": "TypeError",
     "evalue": "'<' not supported between instances of 'str' and 'int'",
     "output_type": "error",
     "traceback": [
      "\u001b[1;31m---------------------------------------------------------------------------\u001b[0m",
      "\u001b[1;31mTypeError\u001b[0m                                 Traceback (most recent call last)",
      "Cell \u001b[1;32mIn[30], line 1\u001b[0m\n\u001b[1;32m----> 1\u001b[0m \u001b[38;5;28mprint\u001b[39m(\u001b[38;5;28mmin\u001b[39m(l3))\n",
      "\u001b[1;31mTypeError\u001b[0m: '<' not supported between instances of 'str' and 'int'"
     ]
    }
   ],
   "source": [
    "print(min(l3))     #Type error (since it is mix of numericals & characters, we can't find smallest value)"
   ]
  },
  {
   "cell_type": "code",
   "execution_count": 31,
   "id": "6d16fd69",
   "metadata": {},
   "outputs": [
    {
     "ename": "TypeError",
     "evalue": "unsupported operand type(s) for +: 'int' and 'str'",
     "output_type": "error",
     "traceback": [
      "\u001b[1;31m---------------------------------------------------------------------------\u001b[0m",
      "\u001b[1;31mTypeError\u001b[0m                                 Traceback (most recent call last)",
      "Cell \u001b[1;32mIn[31], line 1\u001b[0m\n\u001b[1;32m----> 1\u001b[0m \u001b[38;5;28mprint\u001b[39m(\u001b[38;5;28msum\u001b[39m(l3))\n",
      "\u001b[1;31mTypeError\u001b[0m: unsupported operand type(s) for +: 'int' and 'str'"
     ]
    }
   ],
   "source": [
    "print(sum(l3))         #Type error (since it is mix of numericals & characters, we can't find sum)"
   ]
  },
  {
   "cell_type": "markdown",
   "id": "cea3da5f",
   "metadata": {},
   "source": [
    "- If list includes alphanumeric values (10,20,a,b), only length is possible & rem' (max, min & sum) are not possible"
   ]
  },
  {
   "cell_type": "code",
   "execution_count": 34,
   "id": "d1e08c4c",
   "metadata": {},
   "outputs": [
    {
     "name": "stdout",
     "output_type": "stream",
     "text": [
      "[10, 12.34, 'a', (2+3j)]\n",
      "4\n"
     ]
    },
    {
     "ename": "TypeError",
     "evalue": "'>' not supported between instances of 'str' and 'float'",
     "output_type": "error",
     "traceback": [
      "\u001b[1;31m---------------------------------------------------------------------------\u001b[0m",
      "\u001b[1;31mTypeError\u001b[0m                                 Traceback (most recent call last)",
      "Cell \u001b[1;32mIn[34], line 3\u001b[0m\n\u001b[0;32m      1\u001b[0m \u001b[38;5;28mprint\u001b[39m(l4)\n\u001b[0;32m      2\u001b[0m \u001b[38;5;28mprint\u001b[39m(\u001b[38;5;28mlen\u001b[39m(l4))\n\u001b[1;32m----> 3\u001b[0m \u001b[38;5;28mprint\u001b[39m(\u001b[38;5;28mmax\u001b[39m(l4))\n",
      "\u001b[1;31mTypeError\u001b[0m: '>' not supported between instances of 'str' and 'float'"
     ]
    }
   ],
   "source": [
    "print(l4)\n",
    "print(len(l4))\n",
    "print(max(l4))"
   ]
  },
  {
   "cell_type": "code",
   "execution_count": 35,
   "id": "af93b964",
   "metadata": {},
   "outputs": [
    {
     "ename": "TypeError",
     "evalue": "'<' not supported between instances of 'str' and 'int'",
     "output_type": "error",
     "traceback": [
      "\u001b[1;31m---------------------------------------------------------------------------\u001b[0m",
      "\u001b[1;31mTypeError\u001b[0m                                 Traceback (most recent call last)",
      "Cell \u001b[1;32mIn[35], line 1\u001b[0m\n\u001b[1;32m----> 1\u001b[0m \u001b[38;5;28mprint\u001b[39m(\u001b[38;5;28mmin\u001b[39m(l4))\n",
      "\u001b[1;31mTypeError\u001b[0m: '<' not supported between instances of 'str' and 'int'"
     ]
    }
   ],
   "source": [
    "print(min(l4))"
   ]
  },
  {
   "cell_type": "code",
   "execution_count": 36,
   "id": "e4d0f2cd",
   "metadata": {},
   "outputs": [
    {
     "ename": "TypeError",
     "evalue": "unsupported operand type(s) for +: 'float' and 'str'",
     "output_type": "error",
     "traceback": [
      "\u001b[1;31m---------------------------------------------------------------------------\u001b[0m",
      "\u001b[1;31mTypeError\u001b[0m                                 Traceback (most recent call last)",
      "Cell \u001b[1;32mIn[36], line 1\u001b[0m\n\u001b[1;32m----> 1\u001b[0m \u001b[38;5;28mprint\u001b[39m(\u001b[38;5;28msum\u001b[39m(l4))\n",
      "\u001b[1;31mTypeError\u001b[0m: unsupported operand type(s) for +: 'float' and 'str'"
     ]
    }
   ],
   "source": [
    "print(sum(l4))"
   ]
  },
  {
   "cell_type": "code",
   "execution_count": 41,
   "id": "df29d465",
   "metadata": {},
   "outputs": [
    {
     "name": "stdout",
     "output_type": "stream",
     "text": [
      "[10, 10, 10]\n",
      "3\n",
      "10\n",
      "10\n",
      "30\n"
     ]
    }
   ],
   "source": [
    "print(l5)\n",
    "print(len(l5))\n",
    "print(max(l5))\n",
    "print(min(l5))\n",
    "print(sum(l5))"
   ]
  },
  {
   "cell_type": "code",
   "execution_count": 44,
   "id": "9e8d02a4",
   "metadata": {},
   "outputs": [
    {
     "name": "stdout",
     "output_type": "stream",
     "text": [
      "[10, 20, [20, 30], 'a', 'b']\n",
      "5\n"
     ]
    },
    {
     "ename": "TypeError",
     "evalue": "'>' not supported between instances of 'list' and 'int'",
     "output_type": "error",
     "traceback": [
      "\u001b[1;31m---------------------------------------------------------------------------\u001b[0m",
      "\u001b[1;31mTypeError\u001b[0m                                 Traceback (most recent call last)",
      "Cell \u001b[1;32mIn[44], line 3\u001b[0m\n\u001b[0;32m      1\u001b[0m \u001b[38;5;28mprint\u001b[39m(l6)\n\u001b[0;32m      2\u001b[0m \u001b[38;5;28mprint\u001b[39m(\u001b[38;5;28mlen\u001b[39m(l6))\n\u001b[1;32m----> 3\u001b[0m \u001b[38;5;28mprint\u001b[39m(\u001b[38;5;28mmax\u001b[39m(l6))\n",
      "\u001b[1;31mTypeError\u001b[0m: '>' not supported between instances of 'list' and 'int'"
     ]
    }
   ],
   "source": [
    "print(l6)\n",
    "print(len(l6))\n",
    "print(max(l6))"
   ]
  },
  {
   "cell_type": "code",
   "execution_count": 45,
   "id": "3b16982e",
   "metadata": {},
   "outputs": [
    {
     "ename": "TypeError",
     "evalue": "'<' not supported between instances of 'list' and 'int'",
     "output_type": "error",
     "traceback": [
      "\u001b[1;31m---------------------------------------------------------------------------\u001b[0m",
      "\u001b[1;31mTypeError\u001b[0m                                 Traceback (most recent call last)",
      "Cell \u001b[1;32mIn[45], line 1\u001b[0m\n\u001b[1;32m----> 1\u001b[0m \u001b[38;5;28mprint\u001b[39m(\u001b[38;5;28mmin\u001b[39m(l6))\n",
      "\u001b[1;31mTypeError\u001b[0m: '<' not supported between instances of 'list' and 'int'"
     ]
    }
   ],
   "source": [
    "print(min(l6))"
   ]
  },
  {
   "cell_type": "code",
   "execution_count": 46,
   "id": "db670655",
   "metadata": {},
   "outputs": [
    {
     "ename": "TypeError",
     "evalue": "unsupported operand type(s) for +: 'int' and 'list'",
     "output_type": "error",
     "traceback": [
      "\u001b[1;31m---------------------------------------------------------------------------\u001b[0m",
      "\u001b[1;31mTypeError\u001b[0m                                 Traceback (most recent call last)",
      "Cell \u001b[1;32mIn[46], line 1\u001b[0m\n\u001b[1;32m----> 1\u001b[0m \u001b[38;5;28mprint\u001b[39m(\u001b[38;5;28msum\u001b[39m(l6))\n",
      "\u001b[1;31mTypeError\u001b[0m: unsupported operand type(s) for +: 'int' and 'list'"
     ]
    }
   ],
   "source": [
    "print(sum(l6))"
   ]
  },
  {
   "cell_type": "code",
   "execution_count": 49,
   "id": "5162f226",
   "metadata": {},
   "outputs": [
    {
     "name": "stdout",
     "output_type": "stream",
     "text": [
      "2\n"
     ]
    }
   ],
   "source": [
    "l7=[\"hai how are you\",[1,2,3]]\n",
    "print(len(l7))"
   ]
  },
  {
   "cell_type": "code",
   "execution_count": 50,
   "id": "7d5cd973",
   "metadata": {},
   "outputs": [
    {
     "ename": "TypeError",
     "evalue": "'>' not supported between instances of 'list' and 'str'",
     "output_type": "error",
     "traceback": [
      "\u001b[1;31m---------------------------------------------------------------------------\u001b[0m",
      "\u001b[1;31mTypeError\u001b[0m                                 Traceback (most recent call last)",
      "Cell \u001b[1;32mIn[50], line 1\u001b[0m\n\u001b[1;32m----> 1\u001b[0m \u001b[38;5;28mprint\u001b[39m(\u001b[38;5;28mmax\u001b[39m(l7))\n",
      "\u001b[1;31mTypeError\u001b[0m: '>' not supported between instances of 'list' and 'str'"
     ]
    }
   ],
   "source": [
    "print(max(l7))"
   ]
  },
  {
   "cell_type": "code",
   "execution_count": 51,
   "id": "eefefcb0",
   "metadata": {},
   "outputs": [
    {
     "ename": "TypeError",
     "evalue": "'<' not supported between instances of 'list' and 'str'",
     "output_type": "error",
     "traceback": [
      "\u001b[1;31m---------------------------------------------------------------------------\u001b[0m",
      "\u001b[1;31mTypeError\u001b[0m                                 Traceback (most recent call last)",
      "Cell \u001b[1;32mIn[51], line 1\u001b[0m\n\u001b[1;32m----> 1\u001b[0m \u001b[38;5;28mprint\u001b[39m(\u001b[38;5;28mmin\u001b[39m(l7))\n",
      "\u001b[1;31mTypeError\u001b[0m: '<' not supported between instances of 'list' and 'str'"
     ]
    }
   ],
   "source": [
    "print(min(l7))"
   ]
  },
  {
   "cell_type": "code",
   "execution_count": 52,
   "id": "4b1a5129",
   "metadata": {},
   "outputs": [
    {
     "ename": "TypeError",
     "evalue": "unsupported operand type(s) for +: 'int' and 'str'",
     "output_type": "error",
     "traceback": [
      "\u001b[1;31m---------------------------------------------------------------------------\u001b[0m",
      "\u001b[1;31mTypeError\u001b[0m                                 Traceback (most recent call last)",
      "Cell \u001b[1;32mIn[52], line 1\u001b[0m\n\u001b[1;32m----> 1\u001b[0m \u001b[38;5;28mprint\u001b[39m(\u001b[38;5;28msum\u001b[39m(l7))\n",
      "\u001b[1;31mTypeError\u001b[0m: unsupported operand type(s) for +: 'int' and 'str'"
     ]
    }
   ],
   "source": [
    "print(sum(l7))"
   ]
  },
  {
   "cell_type": "code",
   "execution_count": 55,
   "id": "a56992ed",
   "metadata": {},
   "outputs": [
    {
     "name": "stdout",
     "output_type": "stream",
     "text": [
      "[10, 20, 30]\n",
      "['a', 'b', 'c']\n",
      "[10, 20, 30, 'a', 'b', 'c']\n"
     ]
    }
   ],
   "source": [
    "#list concatenation\n",
    "\n",
    "print(l1)\n",
    "print(l2)\n",
    "print(l1+l2)"
   ]
  },
  {
   "cell_type": "code",
   "execution_count": 56,
   "id": "924da2e6",
   "metadata": {},
   "outputs": [
    {
     "name": "stdout",
     "output_type": "stream",
     "text": [
      "[10, 20, 30]\n",
      "['a', 'b', 'c']\n",
      "[10, 20, 30, 'a', 'b', 'c']\n"
     ]
    }
   ],
   "source": [
    "print(l1)\n",
    "print(l2)\n",
    "list_conc=l1+l2\n",
    "print(list_conc)"
   ]
  },
  {
   "cell_type": "code",
   "execution_count": 57,
   "id": "3e481af9",
   "metadata": {},
   "outputs": [
    {
     "ename": "TypeError",
     "evalue": "unsupported operand type(s) for -: 'list' and 'list'",
     "output_type": "error",
     "traceback": [
      "\u001b[1;31m---------------------------------------------------------------------------\u001b[0m",
      "\u001b[1;31mTypeError\u001b[0m                                 Traceback (most recent call last)",
      "Cell \u001b[1;32mIn[57], line 1\u001b[0m\n\u001b[1;32m----> 1\u001b[0m l1\u001b[38;5;241m-\u001b[39ml2\n",
      "\u001b[1;31mTypeError\u001b[0m: unsupported operand type(s) for -: 'list' and 'list'"
     ]
    }
   ],
   "source": [
    "l1-l2"
   ]
  },
  {
   "cell_type": "code",
   "execution_count": 58,
   "id": "e006cf57",
   "metadata": {},
   "outputs": [
    {
     "ename": "TypeError",
     "evalue": "can't multiply sequence by non-int of type 'list'",
     "output_type": "error",
     "traceback": [
      "\u001b[1;31m---------------------------------------------------------------------------\u001b[0m",
      "\u001b[1;31mTypeError\u001b[0m                                 Traceback (most recent call last)",
      "Cell \u001b[1;32mIn[58], line 1\u001b[0m\n\u001b[1;32m----> 1\u001b[0m l1\u001b[38;5;241m*\u001b[39ml2\n",
      "\u001b[1;31mTypeError\u001b[0m: can't multiply sequence by non-int of type 'list'"
     ]
    }
   ],
   "source": [
    "l1*l2"
   ]
  },
  {
   "cell_type": "code",
   "execution_count": 59,
   "id": "677e6402",
   "metadata": {},
   "outputs": [
    {
     "ename": "TypeError",
     "evalue": "unsupported operand type(s) for /: 'list' and 'list'",
     "output_type": "error",
     "traceback": [
      "\u001b[1;31m---------------------------------------------------------------------------\u001b[0m",
      "\u001b[1;31mTypeError\u001b[0m                                 Traceback (most recent call last)",
      "Cell \u001b[1;32mIn[59], line 1\u001b[0m\n\u001b[1;32m----> 1\u001b[0m l1\u001b[38;5;241m/\u001b[39ml2\n",
      "\u001b[1;31mTypeError\u001b[0m: unsupported operand type(s) for /: 'list' and 'list'"
     ]
    }
   ],
   "source": [
    "l1/l2"
   ]
  },
  {
   "cell_type": "code",
   "execution_count": 60,
   "id": "bcdb3e87",
   "metadata": {},
   "outputs": [
    {
     "ename": "TypeError",
     "evalue": "unsupported operand type(s) for //: 'list' and 'list'",
     "output_type": "error",
     "traceback": [
      "\u001b[1;31m---------------------------------------------------------------------------\u001b[0m",
      "\u001b[1;31mTypeError\u001b[0m                                 Traceback (most recent call last)",
      "Cell \u001b[1;32mIn[60], line 1\u001b[0m\n\u001b[1;32m----> 1\u001b[0m l1\u001b[38;5;241m/\u001b[39m\u001b[38;5;241m/\u001b[39ml2\n",
      "\u001b[1;31mTypeError\u001b[0m: unsupported operand type(s) for //: 'list' and 'list'"
     ]
    }
   ],
   "source": [
    "l1//l2"
   ]
  },
  {
   "cell_type": "markdown",
   "id": "73e470bf",
   "metadata": {},
   "source": [
    "- If list includes numercials & characters, only list concatenation is possible"
   ]
  },
  {
   "cell_type": "code",
   "execution_count": 61,
   "id": "40068e60",
   "metadata": {},
   "outputs": [
    {
     "data": {
      "text/plain": [
       "[10, 20, 30, 10, 20, 30]"
      ]
     },
     "execution_count": 61,
     "metadata": {},
     "output_type": "execute_result"
    }
   ],
   "source": [
    "2*l1           #means l1(10,20,30) -->2 times \"l1\" is printed"
   ]
  },
  {
   "cell_type": "code",
   "execution_count": 62,
   "id": "584ffa42",
   "metadata": {},
   "outputs": [
    {
     "data": {
      "text/plain": [
       "['a', 'b', 'c', 'a', 'b', 'c']"
      ]
     },
     "execution_count": 62,
     "metadata": {},
     "output_type": "execute_result"
    }
   ],
   "source": [
    "2*l2           "
   ]
  },
  {
   "cell_type": "markdown",
   "id": "64c5e0ea",
   "metadata": {},
   "source": [
    "**in operator**"
   ]
  },
  {
   "cell_type": "code",
   "execution_count": 63,
   "id": "bc0eabfe",
   "metadata": {},
   "outputs": [
    {
     "data": {
      "text/plain": [
       "True"
      ]
     },
     "execution_count": 63,
     "metadata": {},
     "output_type": "execute_result"
    }
   ],
   "source": [
    "\"a\" in l2"
   ]
  },
  {
   "cell_type": "code",
   "execution_count": 64,
   "id": "cd2e5356",
   "metadata": {},
   "outputs": [
    {
     "data": {
      "text/plain": [
       "True"
      ]
     },
     "execution_count": 64,
     "metadata": {},
     "output_type": "execute_result"
    }
   ],
   "source": [
    "\"b\" in l2"
   ]
  },
  {
   "cell_type": "code",
   "execution_count": 65,
   "id": "0cd4f750",
   "metadata": {},
   "outputs": [
    {
     "data": {
      "text/plain": [
       "True"
      ]
     },
     "execution_count": 65,
     "metadata": {},
     "output_type": "execute_result"
    }
   ],
   "source": [
    "\"c\" in l2"
   ]
  },
  {
   "cell_type": "code",
   "execution_count": 67,
   "id": "7fbb0d2e",
   "metadata": {},
   "outputs": [
    {
     "data": {
      "text/plain": [
       "False"
      ]
     },
     "execution_count": 67,
     "metadata": {},
     "output_type": "execute_result"
    }
   ],
   "source": [
    "\"z\" in l2"
   ]
  },
  {
   "cell_type": "code",
   "execution_count": 68,
   "id": "afedd372",
   "metadata": {},
   "outputs": [
    {
     "name": "stdout",
     "output_type": "stream",
     "text": [
      "a\n",
      "b\n",
      "c\n"
     ]
    }
   ],
   "source": [
    "#Iterate the loop usng for loop (using in operator)\n",
    "\n",
    "for i in l2:\n",
    "    print(i)"
   ]
  },
  {
   "cell_type": "code",
   "execution_count": 81,
   "id": "39405dfb",
   "metadata": {},
   "outputs": [],
   "source": [
    "i=\"a\"\n",
    "while i in range(len(l2)):\n",
    "    print(l2[i])\n",
    "    i=i+1"
   ]
  },
  {
   "cell_type": "markdown",
   "id": "5add79f3",
   "metadata": {},
   "source": [
    "**Index**"
   ]
  },
  {
   "cell_type": "code",
   "execution_count": 82,
   "id": "a11e2b2a",
   "metadata": {},
   "outputs": [
    {
     "data": {
      "text/plain": [
       "[10, 20, 30]"
      ]
     },
     "execution_count": 82,
     "metadata": {},
     "output_type": "execute_result"
    }
   ],
   "source": [
    "l1"
   ]
  },
  {
   "cell_type": "code",
   "execution_count": 83,
   "id": "82f066f5",
   "metadata": {},
   "outputs": [
    {
     "data": {
      "text/plain": [
       "10"
      ]
     },
     "execution_count": 83,
     "metadata": {},
     "output_type": "execute_result"
    }
   ],
   "source": [
    "l1[0]"
   ]
  },
  {
   "cell_type": "code",
   "execution_count": 84,
   "id": "53b514ac",
   "metadata": {},
   "outputs": [
    {
     "data": {
      "text/plain": [
       "20"
      ]
     },
     "execution_count": 84,
     "metadata": {},
     "output_type": "execute_result"
    }
   ],
   "source": [
    "l1[1]"
   ]
  },
  {
   "cell_type": "code",
   "execution_count": 85,
   "id": "c3dc2608",
   "metadata": {},
   "outputs": [
    {
     "data": {
      "text/plain": [
       "30"
      ]
     },
     "execution_count": 85,
     "metadata": {},
     "output_type": "execute_result"
    }
   ],
   "source": [
    "l1[2]"
   ]
  },
  {
   "cell_type": "code",
   "execution_count": 86,
   "id": "f77f24ff",
   "metadata": {},
   "outputs": [
    {
     "name": "stdout",
     "output_type": "stream",
     "text": [
      "['a', 'b', 'c']\n"
     ]
    }
   ],
   "source": [
    "print(l2)"
   ]
  },
  {
   "cell_type": "code",
   "execution_count": 88,
   "id": "59003d99",
   "metadata": {},
   "outputs": [
    {
     "data": {
      "text/plain": [
       "('a', 'b', 'c')"
      ]
     },
     "execution_count": 88,
     "metadata": {},
     "output_type": "execute_result"
    }
   ],
   "source": [
    "l2[0],l2[1],l2[2]"
   ]
  },
  {
   "cell_type": "code",
   "execution_count": 93,
   "id": "aa5fc81f",
   "metadata": {},
   "outputs": [
    {
     "name": "stdout",
     "output_type": "stream",
     "text": [
      "Contents of i is a\n",
      "Contents of i is b\n",
      "Contents of i is c\n"
     ]
    }
   ],
   "source": [
    "#print a,bc using for loop\n",
    "\n",
    "for i in range(len(l2)):\n",
    "    print(\"Contents of i is\",l2[i])"
   ]
  },
  {
   "cell_type": "code",
   "execution_count": 96,
   "id": "8a6b8320",
   "metadata": {},
   "outputs": [
    {
     "name": "stdout",
     "output_type": "stream",
     "text": [
      "The positive index of a is 0\n",
      "The positive index of b is 1\n",
      "The positive index of c is 2\n"
     ]
    }
   ],
   "source": [
    "#print \"the pstve index of 'a' is 0\"\n",
    "\n",
    "\n",
    "for i in range(len(l2)):\n",
    "    print(\"The positive index of {} is {}\".format(l2[i],i))"
   ]
  },
  {
   "cell_type": "code",
   "execution_count": 91,
   "id": "97104a1f",
   "metadata": {},
   "outputs": [
    {
     "name": "stdout",
     "output_type": "stream",
     "text": [
      "a\n",
      "b\n",
      "c\n"
     ]
    }
   ],
   "source": [
    "#using while loop\n",
    "\n",
    "i=0\n",
    "while i<len(l2):\n",
    "    print(l2[i])\n",
    "    i=i+1"
   ]
  },
  {
   "cell_type": "code",
   "execution_count": 97,
   "id": "e842e338",
   "metadata": {},
   "outputs": [
    {
     "name": "stdout",
     "output_type": "stream",
     "text": [
      "The positive index of a is 0\n",
      "The positive index of b is 1\n",
      "The positive index of c is 2\n"
     ]
    }
   ],
   "source": [
    "i=0\n",
    "while(i<len(l2)):\n",
    "    print(\"The positive index of {} is {}\".format(l2[i],i))\n",
    "    i+=1"
   ]
  },
  {
   "cell_type": "code",
   "execution_count": 104,
   "id": "042c0698",
   "metadata": {},
   "outputs": [
    {
     "name": "stdout",
     "output_type": "stream",
     "text": [
      "The negative index of a is -3\n",
      "The negative index of b is -2\n",
      "The negative index of c is -1\n"
     ]
    }
   ],
   "source": [
    "#for loop\n",
    "\n",
    "for i in range(-len(l2),0):\n",
    "    print(\"The negative index of {} is {}\".format(l2[i],i))"
   ]
  },
  {
   "cell_type": "code",
   "execution_count": 201,
   "id": "cd93e930",
   "metadata": {},
   "outputs": [
    {
     "name": "stdout",
     "output_type": "stream",
     "text": [
      "The negative index of a is -3\n",
      "The negative index of b is -2\n",
      "The negative index of c is -1\n"
     ]
    }
   ],
   "source": [
    "#while loop\n",
    "\n",
    "i=-len(l2)\n",
    "while(i<0):\n",
    "    print(\"The negative index of {} is {}\".format(l2[i],i))\n",
    "    i=i+1\n"
   ]
  },
  {
   "cell_type": "code",
   "execution_count": 124,
   "id": "0e1c2560",
   "metadata": {},
   "outputs": [
    {
     "name": "stdout",
     "output_type": "stream",
     "text": [
      "The positive index is 0 & negative index is -3 for a\n",
      "The positive index is 1 & negative index is -2 for b\n",
      "The positive index is 2 & negative index is -1 for c\n"
     ]
    }
   ],
   "source": [
    "#for loop\n",
    "\n",
    "for i in range(len(l2)):\n",
    "    print(\"The positive index is {} & negative index is {} for {}\".format(i,i-len(l2),l2[i]))"
   ]
  },
  {
   "cell_type": "code",
   "execution_count": 125,
   "id": "c1b369ff",
   "metadata": {},
   "outputs": [
    {
     "data": {
      "text/plain": [
       "[10, 20, 30]"
      ]
     },
     "execution_count": 125,
     "metadata": {},
     "output_type": "execute_result"
    }
   ],
   "source": [
    "l1"
   ]
  },
  {
   "cell_type": "code",
   "execution_count": 127,
   "id": "40627be1",
   "metadata": {},
   "outputs": [
    {
     "data": {
      "text/plain": [
       "['AAA', 20, 30]"
      ]
     },
     "execution_count": 127,
     "metadata": {},
     "output_type": "execute_result"
    }
   ],
   "source": [
    "l1[0]=\"AAA\"\n",
    "l1"
   ]
  },
  {
   "cell_type": "code",
   "execution_count": 160,
   "id": "714b9974",
   "metadata": {},
   "outputs": [
    {
     "data": {
      "text/plain": [
       "[[[[1, 2, 3, 4]]]]"
      ]
     },
     "execution_count": 160,
     "metadata": {},
     "output_type": "execute_result"
    }
   ],
   "source": [
    "l1=l1[0]\n",
    "l1"
   ]
  },
  {
   "cell_type": "code",
   "execution_count": 147,
   "id": "3ad2d22f",
   "metadata": {},
   "outputs": [
    {
     "data": {
      "text/plain": [
       "[[[1, 2, 3, 4]]]"
      ]
     },
     "execution_count": 147,
     "metadata": {},
     "output_type": "execute_result"
    }
   ],
   "source": [
    "l2=l1[0]\n",
    "l2"
   ]
  },
  {
   "cell_type": "code",
   "execution_count": 149,
   "id": "beb134d1",
   "metadata": {},
   "outputs": [
    {
     "data": {
      "text/plain": [
       "[[1, 2, 3, 4]]"
      ]
     },
     "execution_count": 149,
     "metadata": {},
     "output_type": "execute_result"
    }
   ],
   "source": [
    "l3=l2[0]\n",
    "l3"
   ]
  },
  {
   "cell_type": "code",
   "execution_count": 152,
   "id": "2999eda8",
   "metadata": {},
   "outputs": [
    {
     "data": {
      "text/plain": [
       "[1, 2, 3, 4]"
      ]
     },
     "execution_count": 152,
     "metadata": {},
     "output_type": "execute_result"
    }
   ],
   "source": [
    "l4=l3[0]\n",
    "l4"
   ]
  },
  {
   "cell_type": "code",
   "execution_count": 197,
   "id": "15f2a390",
   "metadata": {},
   "outputs": [
    {
     "ename": "IndexError",
     "evalue": "list index out of range",
     "output_type": "error",
     "traceback": [
      "\u001b[1;31m---------------------------------------------------------------------------\u001b[0m",
      "\u001b[1;31mIndexError\u001b[0m                                Traceback (most recent call last)",
      "Cell \u001b[1;32mIn[197], line 1\u001b[0m\n\u001b[1;32m----> 1\u001b[0m l3[\u001b[38;5;241m4\u001b[39m]\n",
      "\u001b[1;31mIndexError\u001b[0m: list index out of range"
     ]
    }
   ],
   "source": [
    "l3[4]"
   ]
  },
  {
   "cell_type": "code",
   "execution_count": 162,
   "id": "cf8ee3d4",
   "metadata": {},
   "outputs": [
    {
     "data": {
      "text/plain": [
       "[[[[[1, 2, 3, 4]]]]]"
      ]
     },
     "execution_count": 162,
     "metadata": {},
     "output_type": "execute_result"
    }
   ],
   "source": [
    "l1=[[[[[1,2,3,4]]]]]\n",
    "l1"
   ]
  },
  {
   "cell_type": "code",
   "execution_count": 164,
   "id": "c5cee4b7",
   "metadata": {},
   "outputs": [
    {
     "ename": "TypeError",
     "evalue": "'int' object is not subscriptable",
     "output_type": "error",
     "traceback": [
      "\u001b[1;31m---------------------------------------------------------------------------\u001b[0m",
      "\u001b[1;31mTypeError\u001b[0m                                 Traceback (most recent call last)",
      "Cell \u001b[1;32mIn[164], line 1\u001b[0m\n\u001b[1;32m----> 1\u001b[0m l1[\u001b[38;5;241m0\u001b[39m][\u001b[38;5;241m0\u001b[39m][\u001b[38;5;241m0\u001b[39m][\u001b[38;5;241m0\u001b[39m][\u001b[38;5;241m0\u001b[39m][\u001b[38;5;241m3\u001b[39m]\n",
      "\u001b[1;31mTypeError\u001b[0m: 'int' object is not subscriptable"
     ]
    }
   ],
   "source": [
    "l1[0][0][0][0][0][3]"
   ]
  },
  {
   "cell_type": "code",
   "execution_count": 165,
   "id": "5a176304",
   "metadata": {},
   "outputs": [
    {
     "data": {
      "text/plain": [
       "[[[[[1, 2, 3, 4]]]]]"
      ]
     },
     "execution_count": 165,
     "metadata": {},
     "output_type": "execute_result"
    }
   ],
   "source": [
    "l9=[[[[[1,2,3,4]]]]]\n",
    "l9"
   ]
  },
  {
   "cell_type": "code",
   "execution_count": 166,
   "id": "08dd7c29",
   "metadata": {},
   "outputs": [
    {
     "ename": "TypeError",
     "evalue": "'int' object is not subscriptable",
     "output_type": "error",
     "traceback": [
      "\u001b[1;31m---------------------------------------------------------------------------\u001b[0m",
      "\u001b[1;31mTypeError\u001b[0m                                 Traceback (most recent call last)",
      "Cell \u001b[1;32mIn[166], line 1\u001b[0m\n\u001b[1;32m----> 1\u001b[0m l9[\u001b[38;5;241m0\u001b[39m][\u001b[38;5;241m0\u001b[39m][\u001b[38;5;241m0\u001b[39m][\u001b[38;5;241m0\u001b[39m][\u001b[38;5;241m0\u001b[39m][\u001b[38;5;241m3\u001b[39m]\n",
      "\u001b[1;31mTypeError\u001b[0m: 'int' object is not subscriptable"
     ]
    }
   ],
   "source": [
    "l9[0][0][0][0][0][3]"
   ]
  },
  {
   "cell_type": "code",
   "execution_count": 181,
   "id": "222c4ee1",
   "metadata": {},
   "outputs": [
    {
     "data": {
      "text/plain": [
       "'Cherry'"
      ]
     },
     "execution_count": 181,
     "metadata": {},
     "output_type": "execute_result"
    }
   ],
   "source": [
    "list2=[[[[['A','B',[1,2,3,['Cherry']]]]]]]\n",
    "list2[0][0][0][0][2][3][0]"
   ]
  },
  {
   "cell_type": "code",
   "execution_count": 189,
   "id": "5d678a84",
   "metadata": {},
   "outputs": [],
   "source": [
    "list2=[[[[['A','B',[1,2,3,['Cherry']]]]]]]"
   ]
  },
  {
   "cell_type": "code",
   "execution_count": 191,
   "id": "06a5a602",
   "metadata": {},
   "outputs": [
    {
     "data": {
      "text/plain": [
       "[[[['A', 'B', [1, 2, 3, ['Cherry']]]]]]"
      ]
     },
     "execution_count": 191,
     "metadata": {},
     "output_type": "execute_result"
    }
   ],
   "source": [
    "#Doing seperately\n",
    "a=list2[0]\n",
    "a"
   ]
  },
  {
   "cell_type": "code",
   "execution_count": 192,
   "id": "5265f8b1",
   "metadata": {},
   "outputs": [
    {
     "data": {
      "text/plain": [
       "[[['A', 'B', [1, 2, 3, ['Cherry']]]]]"
      ]
     },
     "execution_count": 192,
     "metadata": {},
     "output_type": "execute_result"
    }
   ],
   "source": [
    "b=a[0]\n",
    "b"
   ]
  },
  {
   "cell_type": "code",
   "execution_count": 194,
   "id": "24a0b583",
   "metadata": {},
   "outputs": [
    {
     "data": {
      "text/plain": [
       "[['A', 'B', [1, 2, 3, ['Cherry']]]]"
      ]
     },
     "execution_count": 194,
     "metadata": {},
     "output_type": "execute_result"
    }
   ],
   "source": [
    "c=b[0]\n",
    "c"
   ]
  },
  {
   "cell_type": "code",
   "execution_count": 195,
   "id": "76f2479a",
   "metadata": {},
   "outputs": [
    {
     "data": {
      "text/plain": [
       "['A', 'B', [1, 2, 3, ['Cherry']]]"
      ]
     },
     "execution_count": 195,
     "metadata": {},
     "output_type": "execute_result"
    }
   ],
   "source": [
    "d=c[0]\n",
    "d"
   ]
  },
  {
   "cell_type": "code",
   "execution_count": 196,
   "id": "71e1c4de",
   "metadata": {},
   "outputs": [
    {
     "data": {
      "text/plain": [
       "['Cherry']"
      ]
     },
     "execution_count": 196,
     "metadata": {},
     "output_type": "execute_result"
    }
   ],
   "source": [
    "#to extract cherry\n",
    "d[2][3]"
   ]
  },
  {
   "cell_type": "code",
   "execution_count": null,
   "id": "73c47137",
   "metadata": {},
   "outputs": [],
   "source": []
  },
  {
   "cell_type": "code",
   "execution_count": null,
   "id": "0dc07398",
   "metadata": {},
   "outputs": [],
   "source": []
  },
  {
   "cell_type": "code",
   "execution_count": 184,
   "id": "b18cc4d8",
   "metadata": {},
   "outputs": [
    {
     "data": {
      "text/plain": [
       "[1, 2, 3]"
      ]
     },
     "execution_count": 184,
     "metadata": {},
     "output_type": "execute_result"
    }
   ],
   "source": [
    "list1=[[1,2,3]]\n",
    "#print 1,2,3 using for loop\n",
    "list1[0]    # eliminating one list\n"
   ]
  },
  {
   "cell_type": "code",
   "execution_count": 185,
   "id": "68e5fd40",
   "metadata": {},
   "outputs": [
    {
     "name": "stdout",
     "output_type": "stream",
     "text": [
      "1\n",
      "2\n",
      "3\n"
     ]
    }
   ],
   "source": [
    "for i in list1[0]:\n",
    "    print(i)"
   ]
  },
  {
   "cell_type": "code",
   "execution_count": 187,
   "id": "5c056ed1",
   "metadata": {},
   "outputs": [
    {
     "data": {
      "text/plain": [
       "[1, 2, 3]"
      ]
     },
     "execution_count": 187,
     "metadata": {},
     "output_type": "execute_result"
    }
   ],
   "source": [
    "l3=list1[0]\n",
    "l3"
   ]
  },
  {
   "cell_type": "code",
   "execution_count": 188,
   "id": "f010bf77",
   "metadata": {},
   "outputs": [
    {
     "name": "stdout",
     "output_type": "stream",
     "text": [
      "1\n",
      "2\n",
      "3\n"
     ]
    }
   ],
   "source": [
    "# using while loop\n",
    "\n",
    "i=0\n",
    "while i<len(l3):\n",
    "    print(l3[i])\n",
    "    i=i+1"
   ]
  },
  {
   "cell_type": "markdown",
   "id": "480f07ed",
   "metadata": {},
   "source": [
    "#Nov 9th"
   ]
  },
  {
   "cell_type": "code",
   "execution_count": 204,
   "id": "49b05deb",
   "metadata": {},
   "outputs": [],
   "source": [
    "list1=[\"A\",\"B\",\"C\",\"D\",\"E\",\"F\",1,2,3,4,5,6]\n"
   ]
  },
  {
   "cell_type": "code",
   "execution_count": 206,
   "id": "a4bf1f32",
   "metadata": {},
   "outputs": [
    {
     "data": {
      "text/plain": [
       "['C', 'E', 1, 3, 5]"
      ]
     },
     "execution_count": 206,
     "metadata": {},
     "output_type": "execute_result"
    }
   ],
   "source": [
    "list1[2:11:2]   # C E 1 3 5"
   ]
  },
  {
   "cell_type": "code",
   "execution_count": 207,
   "id": "164a7b84",
   "metadata": {},
   "outputs": [
    {
     "data": {
      "text/plain": [
       "[]"
      ]
     },
     "execution_count": 207,
     "metadata": {},
     "output_type": "execute_result"
    }
   ],
   "source": [
    "list1[2:11:-2]"
   ]
  },
  {
   "cell_type": "code",
   "execution_count": 208,
   "id": "b3064b3b",
   "metadata": {},
   "outputs": [
    {
     "data": {
      "text/plain": [
       "[]"
      ]
     },
     "execution_count": 208,
     "metadata": {},
     "output_type": "execute_result"
    }
   ],
   "source": [
    "list1[2:-11:2]"
   ]
  },
  {
   "cell_type": "code",
   "execution_count": 209,
   "id": "5f11986f",
   "metadata": {},
   "outputs": [
    {
     "data": {
      "text/plain": [
       "['C']"
      ]
     },
     "execution_count": 209,
     "metadata": {},
     "output_type": "execute_result"
    }
   ],
   "source": [
    "list1[2:-11:-2]"
   ]
  },
  {
   "cell_type": "code",
   "execution_count": 222,
   "id": "c32ce8e0",
   "metadata": {},
   "outputs": [
    {
     "data": {
      "text/plain": [
       "[]"
      ]
     },
     "execution_count": 222,
     "metadata": {},
     "output_type": "execute_result"
    }
   ],
   "source": [
    "list1[-2:-11:2]"
   ]
  },
  {
   "cell_type": "code",
   "execution_count": null,
   "id": "622d272f",
   "metadata": {},
   "outputs": [],
   "source": []
  },
  {
   "cell_type": "code",
   "execution_count": null,
   "id": "963dc72d",
   "metadata": {},
   "outputs": [],
   "source": []
  },
  {
   "cell_type": "code",
   "execution_count": null,
   "id": "20643cb9",
   "metadata": {},
   "outputs": [],
   "source": []
  },
  {
   "cell_type": "code",
   "execution_count": 218,
   "id": "59135317",
   "metadata": {},
   "outputs": [
    {
     "name": "stdout",
     "output_type": "stream",
     "text": [
      "Hyderabad\n",
      "Delhi\n",
      "Chennai\n"
     ]
    }
   ],
   "source": [
    "#WAP ask the user to  print the elements which has length more than 4\n",
    "#\n",
    "list1=[\"Hyderabad\",\"Delhi\",\"Chennai\",\"Blr\"]\n",
    "for i in list1:\n",
    "    if len(i)>4:\n",
    "        print(i)\n"
   ]
  },
  {
   "cell_type": "code",
   "execution_count": 221,
   "id": "ccee640d",
   "metadata": {},
   "outputs": [
    {
     "name": "stdout",
     "output_type": "stream",
     "text": [
      "Hyderabad\n",
      "Delhi\n",
      "Chennai\n"
     ]
    }
   ],
   "source": [
    "for i in range(len(list1)):     #if range is given(number should be given(len(list1)))\n",
    "    if len(list1[i])>4:             #so give the same list1[i] in if condn\n",
    "        print(list1[i])"
   ]
  },
  {
   "cell_type": "code",
   "execution_count": 232,
   "id": "02194801",
   "metadata": {},
   "outputs": [
    {
     "name": "stdout",
     "output_type": "stream",
     "text": [
      "Hyderab#d\n",
      "Chenn#i\n"
     ]
    }
   ],
   "source": [
    "#WAP ask the user to print the elemnst which are having # in the element\n",
    "list1=[\"Hyderab#d\",\"Delhi\",\"Chenn#i\",\"Blr\"]\n",
    "\n",
    "\n",
    "for i in list1:\n",
    "    if \"#\" in i:\n",
    "        print(i)"
   ]
  },
  {
   "cell_type": "code",
   "execution_count": null,
   "id": "a42c349c",
   "metadata": {},
   "outputs": [],
   "source": [
    "i=0\n",
    "while i<len(list1):\n",
    "    if \"#\" in i:\n",
    "        "
   ]
  },
  {
   "cell_type": "code",
   "execution_count": 239,
   "id": "a1b68df5",
   "metadata": {},
   "outputs": [
    {
     "ename": "SyntaxError",
     "evalue": "invalid syntax (3325068901.py, line 5)",
     "output_type": "error",
     "traceback": [
      "\u001b[1;36m  Cell \u001b[1;32mIn[239], line 5\u001b[1;36m\u001b[0m\n\u001b[1;33m    startswith \"h\":\u001b[0m\n\u001b[1;37m               ^\u001b[0m\n\u001b[1;31mSyntaxError\u001b[0m\u001b[1;31m:\u001b[0m invalid syntax\n"
     ]
    }
   ],
   "source": [
    "#WAP ask the user which are strtg with \"h\"\n",
    "\n",
    "list1=[\"Hyderab#d\",\"Delhi\",\"Chenn#i\",\"Blr\",\"HAridwar\"]\n",
    "for i in list1:  #we cant use in opertor\n",
    "      if "
   ]
  },
  {
   "cell_type": "code",
   "execution_count": 238,
   "id": "c2329135",
   "metadata": {},
   "outputs": [
    {
     "data": {
      "text/plain": [
       "['__add__',\n",
       " '__class__',\n",
       " '__contains__',\n",
       " '__delattr__',\n",
       " '__dir__',\n",
       " '__doc__',\n",
       " '__eq__',\n",
       " '__format__',\n",
       " '__ge__',\n",
       " '__getattribute__',\n",
       " '__getitem__',\n",
       " '__getnewargs__',\n",
       " '__getstate__',\n",
       " '__gt__',\n",
       " '__hash__',\n",
       " '__init__',\n",
       " '__init_subclass__',\n",
       " '__iter__',\n",
       " '__le__',\n",
       " '__len__',\n",
       " '__lt__',\n",
       " '__mod__',\n",
       " '__mul__',\n",
       " '__ne__',\n",
       " '__new__',\n",
       " '__reduce__',\n",
       " '__reduce_ex__',\n",
       " '__repr__',\n",
       " '__rmod__',\n",
       " '__rmul__',\n",
       " '__setattr__',\n",
       " '__sizeof__',\n",
       " '__str__',\n",
       " '__subclasshook__',\n",
       " 'capitalize',\n",
       " 'casefold',\n",
       " 'center',\n",
       " 'count',\n",
       " 'encode',\n",
       " 'endswith',\n",
       " 'expandtabs',\n",
       " 'find',\n",
       " 'format',\n",
       " 'format_map',\n",
       " 'index',\n",
       " 'isalnum',\n",
       " 'isalpha',\n",
       " 'isascii',\n",
       " 'isdecimal',\n",
       " 'isdigit',\n",
       " 'isidentifier',\n",
       " 'islower',\n",
       " 'isnumeric',\n",
       " 'isprintable',\n",
       " 'isspace',\n",
       " 'istitle',\n",
       " 'isupper',\n",
       " 'join',\n",
       " 'ljust',\n",
       " 'lower',\n",
       " 'lstrip',\n",
       " 'maketrans',\n",
       " 'partition',\n",
       " 'removeprefix',\n",
       " 'removesuffix',\n",
       " 'replace',\n",
       " 'rfind',\n",
       " 'rindex',\n",
       " 'rjust',\n",
       " 'rpartition',\n",
       " 'rsplit',\n",
       " 'rstrip',\n",
       " 'split',\n",
       " 'splitlines',\n",
       " 'startswith',\n",
       " 'strip',\n",
       " 'swapcase',\n",
       " 'title',\n",
       " 'translate',\n",
       " 'upper',\n",
       " 'zfill']"
      ]
     },
     "execution_count": 238,
     "metadata": {},
     "output_type": "execute_result"
    }
   ],
   "source": [
    "dir(\"string\")"
   ]
  },
  {
   "cell_type": "code",
   "execution_count": 247,
   "id": "cbb7cf39",
   "metadata": {},
   "outputs": [
    {
     "name": "stdout",
     "output_type": "stream",
     "text": [
      "Hyderab#d\n",
      "HAridwar\n"
     ]
    }
   ],
   "source": [
    "list1=[\"Hyderab#d\",\"Delhi\",\"Chenn#i\",\"Blr\",\"HAridwar\"]\n",
    "for i in range(len(list1)):\n",
    "    if list1[i].lower()[0]==\"h\":\n",
    "        print(list1[i])"
   ]
  },
  {
   "cell_type": "code",
   "execution_count": 248,
   "id": "7ca85fb6",
   "metadata": {},
   "outputs": [
    {
     "name": "stdout",
     "output_type": "stream",
     "text": [
      "Hyderab#d\n",
      "HAridwar\n"
     ]
    }
   ],
   "source": [
    "for i in list1:\n",
    "    if i.lower().startswith('h'):\n",
    "        print(i)"
   ]
  },
  {
   "cell_type": "code",
   "execution_count": 259,
   "id": "d25a753e",
   "metadata": {},
   "outputs": [],
   "source": [
    "l1=['omkar.nallagoni@gmail.com',\n",
    "       'kareem.pasha@gmail.com',\n",
    "       'santhosh.kadam@gmail.com']\n",
    "#print second names"
   ]
  },
  {
   "cell_type": "code",
   "execution_count": null,
   "id": "7b4dd0cd",
   "metadata": {},
   "outputs": [],
   "source": [
    "str=\"kareem.pasha@gmail.com\"\n"
   ]
  },
  {
   "cell_type": "code",
   "execution_count": 274,
   "id": "dc717e13",
   "metadata": {},
   "outputs": [
    {
     "name": "stdout",
     "output_type": "stream",
     "text": [
      "nallagoni\n",
      "pasha\n",
      "kadam\n"
     ]
    }
   ],
   "source": [
    "for i in l1:\n",
    "    print(i[i.find(\".\")+1:i.find(\"@\")])"
   ]
  },
  {
   "cell_type": "code",
   "execution_count": 280,
   "id": "33731e44",
   "metadata": {},
   "outputs": [
    {
     "name": "stdout",
     "output_type": "stream",
     "text": [
      "omkar.nallagoni@gmail.com\n",
      "Second name is nallagoni\n",
      "==================================================\n",
      "kareem.pasha@gmail.com\n",
      "Second name is pasha\n",
      "==================================================\n",
      "santhosh.kadam@gmail.com\n",
      "Second name is kadam\n",
      "==================================================\n"
     ]
    }
   ],
   "source": [
    "for i in l1:\n",
    "    print(i)\n",
    "    second_name=(i[i.index(\".\")+1:i.index(\"@\")])\n",
    "    print(\"Second name is\",second_name)\n",
    "    print(\"=\"*50)"
   ]
  },
  {
   "cell_type": "code",
   "execution_count": 281,
   "id": "1d549c20",
   "metadata": {},
   "outputs": [
    {
     "data": {
      "text/plain": [
       "['kareem.pasha', 'gmail.com']"
      ]
     },
     "execution_count": 281,
     "metadata": {},
     "output_type": "execute_result"
    }
   ],
   "source": [
    "str1=\"kareem.pasha@gmail.com\"\n",
    "str1.split(\"@\")"
   ]
  },
  {
   "cell_type": "code",
   "execution_count": 282,
   "id": "8eab7611",
   "metadata": {},
   "outputs": [
    {
     "data": {
      "text/plain": [
       "'kareem.pasha'"
      ]
     },
     "execution_count": 282,
     "metadata": {},
     "output_type": "execute_result"
    }
   ],
   "source": [
    "str1.split(\"@\")[0]"
   ]
  },
  {
   "cell_type": "code",
   "execution_count": 283,
   "id": "c97d8ef2",
   "metadata": {},
   "outputs": [
    {
     "data": {
      "text/plain": [
       "['kareem', 'pasha']"
      ]
     },
     "execution_count": 283,
     "metadata": {},
     "output_type": "execute_result"
    }
   ],
   "source": [
    "str1.split(\"@\")[0].split(\".\")"
   ]
  },
  {
   "cell_type": "code",
   "execution_count": 284,
   "id": "f8e90745",
   "metadata": {},
   "outputs": [
    {
     "data": {
      "text/plain": [
       "'pasha'"
      ]
     },
     "execution_count": 284,
     "metadata": {},
     "output_type": "execute_result"
    }
   ],
   "source": [
    "str1.split(\"@\")[0].split(\".\")[1]"
   ]
  },
  {
   "cell_type": "code",
   "execution_count": 286,
   "id": "0a72a0d8",
   "metadata": {},
   "outputs": [
    {
     "name": "stdout",
     "output_type": "stream",
     "text": [
      "omkar.nallagoni@gmail.com\n",
      "Second name is nallagoni\n",
      "Alternative second name is nallagoni\n",
      "==================================================\n",
      "kareem.pasha@gmail.com\n",
      "Second name is pasha\n",
      "Alternative second name is pasha\n",
      "==================================================\n",
      "santhosh.kadam@gmail.com\n",
      "Second name is kadam\n",
      "Alternative second name is kadam\n",
      "==================================================\n"
     ]
    }
   ],
   "source": [
    "for i in l1:\n",
    "    print(i)\n",
    "    second_name=(i[i.index(\".\")+1:i.index(\"@\")])\n",
    "    print(\"Second name is\",second_name)\n",
    "    Alternative_second_name=i.split(\"@\")[0].split(\".\")[1]\n",
    "    print(\"Alternative second name is\",Alternative_second_name)\n",
    "    print(\"=\"*50)"
   ]
  },
  {
   "cell_type": "markdown",
   "id": "995e3dd0",
   "metadata": {},
   "source": [
    "**LIST METHODS**"
   ]
  },
  {
   "cell_type": "code",
   "execution_count": 287,
   "id": "c2b09b3d",
   "metadata": {},
   "outputs": [
    {
     "data": {
      "text/plain": [
       "['__add__',\n",
       " '__class__',\n",
       " '__class_getitem__',\n",
       " '__contains__',\n",
       " '__delattr__',\n",
       " '__delitem__',\n",
       " '__dir__',\n",
       " '__doc__',\n",
       " '__eq__',\n",
       " '__format__',\n",
       " '__ge__',\n",
       " '__getattribute__',\n",
       " '__getitem__',\n",
       " '__getstate__',\n",
       " '__gt__',\n",
       " '__hash__',\n",
       " '__iadd__',\n",
       " '__imul__',\n",
       " '__init__',\n",
       " '__init_subclass__',\n",
       " '__iter__',\n",
       " '__le__',\n",
       " '__len__',\n",
       " '__lt__',\n",
       " '__mul__',\n",
       " '__ne__',\n",
       " '__new__',\n",
       " '__reduce__',\n",
       " '__reduce_ex__',\n",
       " '__repr__',\n",
       " '__reversed__',\n",
       " '__rmul__',\n",
       " '__setattr__',\n",
       " '__setitem__',\n",
       " '__sizeof__',\n",
       " '__str__',\n",
       " '__subclasshook__',\n",
       " 'append',\n",
       " 'clear',\n",
       " 'copy',\n",
       " 'count',\n",
       " 'extend',\n",
       " 'index',\n",
       " 'insert',\n",
       " 'pop',\n",
       " 'remove',\n",
       " 'reverse',\n",
       " 'sort']"
      ]
     },
     "execution_count": 287,
     "metadata": {},
     "output_type": "execute_result"
    }
   ],
   "source": [
    "dir([])"
   ]
  },
  {
   "cell_type": "markdown",
   "id": "515241e8",
   "metadata": {},
   "source": [
    "**Append(Important)**"
   ]
  },
  {
   "cell_type": "code",
   "execution_count": 288,
   "id": "b0b9241f",
   "metadata": {},
   "outputs": [
    {
     "name": "stdout",
     "output_type": "stream",
     "text": [
      "[100, 200, 300, 400]\n"
     ]
    }
   ],
   "source": [
    "list1=[100,200,300]\n",
    "#to append 400 into list1\n",
    "list1.append(400)\n",
    "print(list1)"
   ]
  },
  {
   "cell_type": "markdown",
   "id": "4587f335",
   "metadata": {},
   "source": [
    "- Append allows the value insertion at last index"
   ]
  },
  {
   "cell_type": "code",
   "execution_count": 289,
   "id": "ec9a796a",
   "metadata": {},
   "outputs": [
    {
     "ename": "TypeError",
     "evalue": "list.append() takes exactly one argument (2 given)",
     "output_type": "error",
     "traceback": [
      "\u001b[1;31m---------------------------------------------------------------------------\u001b[0m",
      "\u001b[1;31mTypeError\u001b[0m                                 Traceback (most recent call last)",
      "Cell \u001b[1;32mIn[289], line 2\u001b[0m\n\u001b[0;32m      1\u001b[0m l1\u001b[38;5;241m=\u001b[39m[]\n\u001b[1;32m----> 2\u001b[0m l1\u001b[38;5;241m.\u001b[39mappend(\u001b[38;5;241m20\u001b[39m,\u001b[38;5;241m30\u001b[39m)\n\u001b[0;32m      3\u001b[0m \u001b[38;5;28mprint\u001b[39m(l1)\n",
      "\u001b[1;31mTypeError\u001b[0m: list.append() takes exactly one argument (2 given)"
     ]
    }
   ],
   "source": [
    "l1=[]\n",
    "l1.append(20,30)  #only one elemnt is allowed\n",
    "print(l1)"
   ]
  },
  {
   "cell_type": "code",
   "execution_count": 290,
   "id": "c98663bf",
   "metadata": {},
   "outputs": [
    {
     "name": "stdout",
     "output_type": "stream",
     "text": [
      "[10]\n"
     ]
    }
   ],
   "source": [
    "l1=[]\n",
    "l1.append(10)\n",
    "print(l1)"
   ]
  },
  {
   "cell_type": "code",
   "execution_count": 292,
   "id": "b151752d",
   "metadata": {},
   "outputs": [
    {
     "data": {
      "text/plain": [
       "[[10, 20, 30], 'python']"
      ]
     },
     "execution_count": 292,
     "metadata": {},
     "output_type": "execute_result"
    }
   ],
   "source": [
    "l2=[]\n",
    "l2.append([10,20,30])\n",
    "l2.append('python')\n",
    "l2"
   ]
  },
  {
   "cell_type": "markdown",
   "id": "9594e9d6",
   "metadata": {},
   "source": [
    "- Suppose if you want to save the output in a separate list, use append"
   ]
  },
  {
   "cell_type": "code",
   "execution_count": 293,
   "id": "c62c0fb4",
   "metadata": {},
   "outputs": [
    {
     "name": "stdout",
     "output_type": "stream",
     "text": [
      "Hyderabad\n",
      "Delhi\n",
      "Chennai\n"
     ]
    }
   ],
   "source": [
    "list1=[\"Hyderabad\",\"Delhi\",\"Chennai\",\"Blr\"]\n",
    "for i in list1:\n",
    "    if len(i)>4:\n",
    "        print(i)"
   ]
  },
  {
   "cell_type": "code",
   "execution_count": 294,
   "id": "0b89c828",
   "metadata": {},
   "outputs": [
    {
     "data": {
      "text/plain": [
       "['Hyderabad', 'Delhi', 'Chennai']"
      ]
     },
     "execution_count": 294,
     "metadata": {},
     "output_type": "execute_result"
    }
   ],
   "source": [
    "list1=[\"Hyderabad\",\"Delhi\",\"Chennai\",\"Blr\"]\n",
    "cities_list=[]\n",
    "for i in list1:\n",
    "    if len(i)>4:\n",
    "        cities_list.append(i)   #instead of printing \"i\", appending values into empty list(cities_list[])\n",
    "cities_list"
   ]
  },
  {
   "cell_type": "code",
   "execution_count": 296,
   "id": "9c860dab",
   "metadata": {},
   "outputs": [
    {
     "name": "stdout",
     "output_type": "stream",
     "text": [
      "Hyderab#d\n",
      "Chenn#i\n"
     ]
    }
   ],
   "source": [
    "list1=[\"Hyderab#d\",\"Delhi\",\"Chenn#i\",\"Blr\"]\n",
    "for i in list1:\n",
    "    if \"#\" in i:\n",
    "        print(i)"
   ]
  },
  {
   "cell_type": "code",
   "execution_count": 297,
   "id": "25029b7f",
   "metadata": {},
   "outputs": [
    {
     "data": {
      "text/plain": [
       "['Hyderab#d', 'Chenn#i']"
      ]
     },
     "execution_count": 297,
     "metadata": {},
     "output_type": "execute_result"
    }
   ],
   "source": [
    "list1=[\"Hyderab#d\",\"Delhi\",\"Chenn#i\",\"Blr\"]\n",
    "city=[]\n",
    "for i in list1:\n",
    "    if \"#\" in i:\n",
    "        city.append(i)\n",
    "city"
   ]
  },
  {
   "cell_type": "code",
   "execution_count": 299,
   "id": "c35a66f4",
   "metadata": {},
   "outputs": [
    {
     "name": "stdout",
     "output_type": "stream",
     "text": [
      "Hyderab#d\n",
      "HAridwar\n"
     ]
    }
   ],
   "source": [
    "list1=[\"Hyderab#d\",\"Delhi\",\"Chenn#i\",\"Blr\",\"HAridwar\"]\n",
    "for i in list1:\n",
    "    if i.lower().startswith('h'):\n",
    "        print(i)"
   ]
  },
  {
   "cell_type": "code",
   "execution_count": 300,
   "id": "7893b794",
   "metadata": {},
   "outputs": [
    {
     "data": {
      "text/plain": [
       "['Hyderab#d', 'HAridwar']"
      ]
     },
     "execution_count": 300,
     "metadata": {},
     "output_type": "execute_result"
    }
   ],
   "source": [
    "list1=[\"Hyderab#d\",\"Delhi\",\"Chenn#i\",\"Blr\",\"HAridwar\"]\n",
    "cities_h=[]\n",
    "for i in list1:\n",
    "    if i.lower().startswith('h'):\n",
    "        cities_h.append(i)\n",
    "cities_h"
   ]
  },
  {
   "cell_type": "code",
   "execution_count": 301,
   "id": "ec62c672",
   "metadata": {},
   "outputs": [
    {
     "data": {
      "text/plain": [
       "'a.b@gmail.com'"
      ]
     },
     "execution_count": 301,
     "metadata": {},
     "output_type": "execute_result"
    }
   ],
   "source": [
    "#Extract first name \n",
    "\"a.b@gmail.com\""
   ]
  },
  {
   "cell_type": "code",
   "execution_count": 302,
   "id": "b6f10414",
   "metadata": {},
   "outputs": [
    {
     "data": {
      "text/plain": [
       "['a', 'b@gmail', 'com']"
      ]
     },
     "execution_count": 302,
     "metadata": {},
     "output_type": "execute_result"
    }
   ],
   "source": [
    "\"a.b@gmail.com\".split(\".\")"
   ]
  },
  {
   "cell_type": "code",
   "execution_count": 303,
   "id": "ebfd87fe",
   "metadata": {},
   "outputs": [
    {
     "data": {
      "text/plain": [
       "'a'"
      ]
     },
     "execution_count": 303,
     "metadata": {},
     "output_type": "execute_result"
    }
   ],
   "source": [
    "\"a.b@gmail.com\".split(\".\")[0]"
   ]
  },
  {
   "cell_type": "code",
   "execution_count": 307,
   "id": "20a09bb4",
   "metadata": {},
   "outputs": [
    {
     "data": {
      "text/plain": [
       "(['omkar', 'kareem', 'santhosh'], ['nallagoni', 'pasha', 'kadam'])"
      ]
     },
     "execution_count": 307,
     "metadata": {},
     "output_type": "execute_result"
    }
   ],
   "source": [
    "l1=['omkar.nallagoni@gmail.com',\n",
    "       'kareem.pasha@gmail.com',\n",
    "       'santhosh.kadam@gmail.com']\n",
    "first,second=[],[]\n",
    "for i in l1:\n",
    "    first.append(i.split(\".\")[0])\n",
    "    second.append(i[i.find(\".\")+1:i.find(\"@\")])\n",
    "first,second"
   ]
  },
  {
   "cell_type": "code",
   "execution_count": 309,
   "id": "b66862d0",
   "metadata": {},
   "outputs": [
    {
     "data": {
      "text/plain": [
       "(['omkar', 'kareem', 'santhosh'], ['nallagoni', 'pasha', 'kadam'])"
      ]
     },
     "execution_count": 309,
     "metadata": {},
     "output_type": "execute_result"
    }
   ],
   "source": [
    "def names(l1):\n",
    "    first,second=[],[]\n",
    "    for i in l1:\n",
    "        first.append(i.split(\".\")[0])\n",
    "        second.append(i[i.find(\".\")+1:i.find(\"@\")])\n",
    "    return(first,second)\n",
    "names(l1)  "
   ]
  },
  {
   "cell_type": "code",
   "execution_count": 316,
   "id": "ed5af5f3",
   "metadata": {},
   "outputs": [
    {
     "name": "stdout",
     "output_type": "stream",
     "text": [
      "ODD 49\n",
      "EVen 36\n",
      "EVen 32\n",
      "EVen 36\n",
      "ODD 19\n",
      "ODD 31\n",
      "ODD 3\n",
      "EVen 36\n",
      "EVen 28\n",
      "EVen 32\n"
     ]
    }
   ],
   "source": [
    "#WAP ask the user to get 10 random numbers bw 10 to 50 & get the even numbrs & odd numbers \n",
    "\n",
    "import random\n",
    "for i in range(10):\n",
    "    number=random.randint(1,50)\n",
    "    if(number%2==0):\n",
    "        print(\"EVen\",number)\n",
    "    else:\n",
    "        print(\"ODD\",number)"
   ]
  },
  {
   "cell_type": "code",
   "execution_count": 317,
   "id": "87eced7d",
   "metadata": {},
   "outputs": [
    {
     "data": {
      "text/plain": [
       "([42, 4, 28, 18], [29, 1, 31, 33, 21, 41])"
      ]
     },
     "execution_count": 317,
     "metadata": {},
     "output_type": "execute_result"
    }
   ],
   "source": [
    "#saving the result using append \n",
    "\n",
    "even,odd=[],[]\n",
    "import random\n",
    "for i in range(10):\n",
    "    number=random.randint(1,50)\n",
    "    if(number%2==0):\n",
    "        even.append(number)\n",
    "    else:\n",
    "        odd.append(number)\n",
    "even,odd\n"
   ]
  },
  {
   "cell_type": "markdown",
   "id": "762bede0",
   "metadata": {},
   "source": [
    "- While using append, we have taken a empty list & used append function"
   ]
  },
  {
   "cell_type": "markdown",
   "id": "d7d8e107",
   "metadata": {},
   "source": [
    "**List Comprehension**"
   ]
  },
  {
   "cell_type": "code",
   "execution_count": 319,
   "id": "767d6824",
   "metadata": {},
   "outputs": [
    {
     "name": "stdout",
     "output_type": "stream",
     "text": [
      "Hyderabad\n",
      "Delhi\n",
      "Chennai\n"
     ]
    }
   ],
   "source": [
    "list1=[\"Hyderabad\",\"Delhi\",\"Chennai\",\"Blr\"]\n",
    "for i in list1:\n",
    "    if len(i)>4:\n",
    "        print(i)"
   ]
  },
  {
   "cell_type": "markdown",
   "id": "db94e175",
   "metadata": {},
   "source": [
    "- [<output> <for loop> <if condition>]\n",
    "- In list comprehension, we don't require to take empty list & use append. instead we write output,for & if cndn in single list"
   ]
  },
  {
   "cell_type": "code",
   "execution_count": 320,
   "id": "064ec386",
   "metadata": {},
   "outputs": [
    {
     "data": {
      "text/plain": [
       "['Hyderabad', 'Delhi', 'Chennai']"
      ]
     },
     "execution_count": 320,
     "metadata": {},
     "output_type": "execute_result"
    }
   ],
   "source": [
    "#\n",
    "\n",
    "output=[i for i in list1 if len(i)>4]\n",
    "output"
   ]
  },
  {
   "cell_type": "code",
   "execution_count": 321,
   "id": "0a49c5e4",
   "metadata": {},
   "outputs": [
    {
     "data": {
      "text/plain": [
       "['Hyderab#d', 'Chenn#i']"
      ]
     },
     "execution_count": 321,
     "metadata": {},
     "output_type": "execute_result"
    }
   ],
   "source": [
    "#normal code\n",
    "list1=[\"Hyderab#d\",\"Delhi\",\"Chenn#i\",\"Blr\"]\n",
    "city=[]\n",
    "for i in list1:\n",
    "    if \"#\" in i:\n",
    "        city.append(i)\n",
    "city"
   ]
  },
  {
   "cell_type": "code",
   "execution_count": 322,
   "id": "27166c43",
   "metadata": {},
   "outputs": [
    {
     "data": {
      "text/plain": [
       "['Hyderab#d', 'Chenn#i']"
      ]
     },
     "execution_count": 322,
     "metadata": {},
     "output_type": "execute_result"
    }
   ],
   "source": [
    "output1=[i for i in list1 if \"#\" in i ]\n",
    "output1"
   ]
  },
  {
   "cell_type": "code",
   "execution_count": 325,
   "id": "3d6ecba5",
   "metadata": {},
   "outputs": [
    {
     "data": {
      "text/plain": [
       "['nallagoni', 'pasha', 'kadam']"
      ]
     },
     "execution_count": 325,
     "metadata": {},
     "output_type": "execute_result"
    }
   ],
   "source": [
    "l1=['omkar.nallagoni@gmail.com','kareem.pasha@gmail.com', 'santhosh.kadam@gmail.com']\n",
    "output2=[i[i.find(\".\")+1:i.find(\"@\")] for i in l1]\n",
    "output2"
   ]
  },
  {
   "cell_type": "code",
   "execution_count": 331,
   "id": "e312752c",
   "metadata": {},
   "outputs": [
    {
     "data": {
      "text/plain": [
       "(['omkar', 'kareem', 'santhosh'], ['nallagoni', 'pasha', 'kadam'])"
      ]
     },
     "execution_count": 331,
     "metadata": {},
     "output_type": "execute_result"
    }
   ],
   "source": [
    "l1=['omkar.nallagoni@gmail.com','kareem.pasha@gmail.com','santhosh.kadam@gmail.com']\n",
    "first,second=[],[]\n",
    "for i in l1:\n",
    "    first.append(i.split(\".\")[0])\n",
    "    second.append(i[i.find(\".\")+1:i.find(\"@\")])\n",
    "first,second\n",
    "\n",
    "#####\n",
    "\n",
    "output3=[i.split(\".\")[0] for i in l1]\n",
    "output4=[i[i.find(\".\")+1:i.find(\"@\")] for i in l1]\n",
    "output3,output4"
   ]
  },
  {
   "cell_type": "code",
   "execution_count": 334,
   "id": "d4897109",
   "metadata": {},
   "outputs": [
    {
     "data": {
      "text/plain": [
       "['even:0',\n",
       " 'odd:1',\n",
       " 'even:2',\n",
       " 'odd:3',\n",
       " 'even:4',\n",
       " 'odd:5',\n",
       " 'even:6',\n",
       " 'odd:7',\n",
       " 'even:8',\n",
       " 'odd:9']"
      ]
     },
     "execution_count": 334,
     "metadata": {},
     "output_type": "execute_result"
    }
   ],
   "source": [
    "#if else\n",
    "\n",
    "even_odd=[]\n",
    "for i in range(10):\n",
    "    if i%2==0:\n",
    "        even_odd.append(\"even:{}\".format(i))\n",
    "    else:\n",
    "        even_odd.append(\"odd:{}\".format(i))\n",
    "even_odd"
   ]
  },
  {
   "cell_type": "markdown",
   "id": "c06e4c35",
   "metadata": {},
   "source": [
    "- for if &else\n",
    "               [<if output1> <if condition> <else output> <for loop>]"
   ]
  },
  {
   "cell_type": "code",
   "execution_count": 335,
   "id": "1fc59e3a",
   "metadata": {},
   "outputs": [
    {
     "data": {
      "text/plain": [
       "['even:0',\n",
       " 'odd:1',\n",
       " 'even:2',\n",
       " 'odd:3',\n",
       " 'even:4',\n",
       " 'odd:5',\n",
       " 'even:6',\n",
       " 'odd:7',\n",
       " 'even:8',\n",
       " 'odd:9']"
      ]
     },
     "execution_count": 335,
     "metadata": {},
     "output_type": "execute_result"
    }
   ],
   "source": [
    "#USing list cmp\n",
    "\n",
    "#[output1 if else <o/p2> for loop]\n",
    "output5=[\"even:{}\".format(i) if i%2==0 else \"odd:{}\".format(i) for i in range(10)]\n",
    "output5"
   ]
  },
  {
   "cell_type": "markdown",
   "id": "81e134bb",
   "metadata": {},
   "source": [
    "# Nov 10th"
   ]
  },
  {
   "cell_type": "code",
   "execution_count": 336,
   "id": "20510e4d",
   "metadata": {},
   "outputs": [
    {
     "name": "stdout",
     "output_type": "stream",
     "text": [
      "good\n",
      "good\n",
      "btr\n",
      "btr\n",
      "good\n"
     ]
    }
   ],
   "source": [
    "#if len(elemnts)>3 -> print it is good else print better\n",
    "\n",
    "list1=[\"Apple\",\"Ball\",\"Cat\",\"Dog\",\"Elephant\"]\n",
    "for i in range(len(list1)):\n",
    "    if len(list1[i])>3:\n",
    "        print(\"{} good\".format(i))\n",
    "    else:\n",
    "        print(\"{} btr\".format(i))"
   ]
  },
  {
   "cell_type": "code",
   "execution_count": 341,
   "id": "ff9fdd45",
   "metadata": {},
   "outputs": [
    {
     "data": {
      "text/plain": [
       "['Apple good', 'Ball good', 'Cat btr', 'Dog btr', 'Elephant good']"
      ]
     },
     "execution_count": 341,
     "metadata": {},
     "output_type": "execute_result"
    }
   ],
   "source": [
    "#using append\n",
    "\n",
    "items=[]\n",
    "list1=[\"Apple\",\"Ball\",\"Cat\",\"Dog\",\"Elephant\"]\n",
    "for i in range(len(list1)):\n",
    "    if len(list1[i])>3:\n",
    "        items.append(\"{} good\".format(list1[i]))\n",
    "    else:\n",
    "        items.append(\"{} btr\".format(list1[i]))\n",
    "items"
   ]
  },
  {
   "cell_type": "code",
   "execution_count": 343,
   "id": "2ea87652",
   "metadata": {},
   "outputs": [
    {
     "data": {
      "text/plain": [
       "['Apple good', 'Ball good', 'Cat btr', 'Dog btr', 'Elephant good']"
      ]
     },
     "execution_count": 343,
     "metadata": {},
     "output_type": "execute_result"
    }
   ],
   "source": [
    "#Using list cmphnsn\n",
    "#Remove empty list & append line\n",
    "\n",
    "items=[]\n",
    "list1=[\"Apple\",\"Ball\",\"Cat\",\"Dog\",\"Elephant\"]\n",
    "for i in range(len(list1)):\n",
    "    if len(list1[i])>3:\n",
    "        items.append(\"{} good\".format(list1[i]))\n",
    "    else:\n",
    "        items.append(\"{} btr\".format(list1[i]))\n",
    "items\n",
    "\n",
    "\n",
    "\n",
    "##\n",
    "items1=[\"{} good\".format(list1[i]) if len(list1[i])>3 else \"{} btr\".format(list1[i]) for i in range(len(list1))]\n",
    "items1"
   ]
  },
  {
   "cell_type": "code",
   "execution_count": 355,
   "id": "74a40639",
   "metadata": {},
   "outputs": [
    {
     "name": "stdout",
     "output_type": "stream",
     "text": [
      "Apple good\n",
      "Ball good\n",
      "Cat better\n",
      "Dog better\n",
      "Elephant good\n"
     ]
    }
   ],
   "source": [
    "#without range \n",
    "list1=[\"Apple\",\"Ball\",\"Cat\",\"Dog\",\"Elephant\"]\n",
    "for i in list1:\n",
    "    if len(i)>3:\n",
    "        print(\"{} good\".format(i))\n",
    "    else:\n",
    "        print(\"{} better\".format(i))"
   ]
  },
  {
   "cell_type": "code",
   "execution_count": null,
   "id": "c0ed9e09",
   "metadata": {},
   "outputs": [],
   "source": []
  },
  {
   "cell_type": "code",
   "execution_count": null,
   "id": "a81fce61",
   "metadata": {},
   "outputs": [],
   "source": []
  },
  {
   "cell_type": "code",
   "execution_count": 347,
   "id": "f8d3f085",
   "metadata": {},
   "outputs": [
    {
     "data": {
      "text/plain": [
       "['__add__',\n",
       " '__class__',\n",
       " '__class_getitem__',\n",
       " '__contains__',\n",
       " '__delattr__',\n",
       " '__delitem__',\n",
       " '__dir__',\n",
       " '__doc__',\n",
       " '__eq__',\n",
       " '__format__',\n",
       " '__ge__',\n",
       " '__getattribute__',\n",
       " '__getitem__',\n",
       " '__getstate__',\n",
       " '__gt__',\n",
       " '__hash__',\n",
       " '__iadd__',\n",
       " '__imul__',\n",
       " '__init__',\n",
       " '__init_subclass__',\n",
       " '__iter__',\n",
       " '__le__',\n",
       " '__len__',\n",
       " '__lt__',\n",
       " '__mul__',\n",
       " '__ne__',\n",
       " '__new__',\n",
       " '__reduce__',\n",
       " '__reduce_ex__',\n",
       " '__repr__',\n",
       " '__reversed__',\n",
       " '__rmul__',\n",
       " '__setattr__',\n",
       " '__setitem__',\n",
       " '__sizeof__',\n",
       " '__str__',\n",
       " '__subclasshook__',\n",
       " 'append',\n",
       " 'clear',\n",
       " 'copy',\n",
       " 'count',\n",
       " 'extend',\n",
       " 'index',\n",
       " 'insert',\n",
       " 'pop',\n",
       " 'remove',\n",
       " 'reverse',\n",
       " 'sort']"
      ]
     },
     "execution_count": 347,
     "metadata": {},
     "output_type": "execute_result"
    }
   ],
   "source": [
    "dir(list)"
   ]
  },
  {
   "cell_type": "markdown",
   "id": "1bbc3380",
   "metadata": {},
   "source": [
    "**clear()**"
   ]
  },
  {
   "cell_type": "code",
   "execution_count": 348,
   "id": "4c1337ec",
   "metadata": {},
   "outputs": [],
   "source": [
    "l1=[10,20,30,40]\n",
    "l1.clear()"
   ]
  },
  {
   "cell_type": "code",
   "execution_count": 349,
   "id": "443175a5",
   "metadata": {},
   "outputs": [
    {
     "name": "stdout",
     "output_type": "stream",
     "text": [
      "[]\n"
     ]
    }
   ],
   "source": [
    "print(l1)"
   ]
  },
  {
   "cell_type": "code",
   "execution_count": 351,
   "id": "00071fc2",
   "metadata": {},
   "outputs": [
    {
     "name": "stdout",
     "output_type": "stream",
     "text": [
      "[200, 300]\n"
     ]
    }
   ],
   "source": [
    "#del is not a method\n",
    "\n",
    "l1=[100,200,300]\n",
    "del l1[0]   #100 is deletd at 0th index\n",
    "print(l1)"
   ]
  },
  {
   "cell_type": "code",
   "execution_count": 371,
   "id": "cf7efbe7",
   "metadata": {},
   "outputs": [
    {
     "data": {
      "text/plain": [
       "30"
      ]
     },
     "execution_count": 371,
     "metadata": {},
     "output_type": "execute_result"
    }
   ],
   "source": [
    "#pop --- removes the last value\n",
    "\n",
    "l1=[10,20,30]\n",
    "l1.pop(2)"
   ]
  },
  {
   "cell_type": "code",
   "execution_count": 359,
   "id": "8ba5b0b9",
   "metadata": {},
   "outputs": [
    {
     "name": "stdout",
     "output_type": "stream",
     "text": [
      "[10, 20]\n"
     ]
    }
   ],
   "source": [
    "print(l1)"
   ]
  },
  {
   "cell_type": "code",
   "execution_count": 360,
   "id": "1efb31aa",
   "metadata": {},
   "outputs": [
    {
     "data": {
      "text/plain": [
       "20"
      ]
     },
     "execution_count": 360,
     "metadata": {},
     "output_type": "execute_result"
    }
   ],
   "source": [
    "l1.pop()"
   ]
  },
  {
   "cell_type": "code",
   "execution_count": 361,
   "id": "acd5250b",
   "metadata": {},
   "outputs": [
    {
     "name": "stdout",
     "output_type": "stream",
     "text": [
      "[10]\n"
     ]
    }
   ],
   "source": [
    "print(l1)"
   ]
  },
  {
   "cell_type": "code",
   "execution_count": 363,
   "id": "f25de619",
   "metadata": {},
   "outputs": [],
   "source": [
    "#remove\n",
    "\n",
    "l1=[10,20,30]\n",
    "l1.remove(10)"
   ]
  },
  {
   "cell_type": "code",
   "execution_count": 364,
   "id": "e61b39b7",
   "metadata": {},
   "outputs": [
    {
     "name": "stdout",
     "output_type": "stream",
     "text": [
      "[20, 30]\n"
     ]
    }
   ],
   "source": [
    "print(l1)"
   ]
  },
  {
   "cell_type": "code",
   "execution_count": 365,
   "id": "f84e4b8d",
   "metadata": {},
   "outputs": [],
   "source": [
    "l1.remove(20)"
   ]
  },
  {
   "cell_type": "code",
   "execution_count": 366,
   "id": "94b15891",
   "metadata": {},
   "outputs": [
    {
     "name": "stdout",
     "output_type": "stream",
     "text": [
      "[30]\n"
     ]
    }
   ],
   "source": [
    "print(l1)"
   ]
  },
  {
   "cell_type": "markdown",
   "id": "4fe97ef8",
   "metadata": {},
   "source": [
    "**del**\n",
    "\n",
    "- Value is deleted based on the index provided\n",
    "\n",
    "**pop** \n",
    "\n",
    "- Last value in list is deleted. index can be passed\n",
    "- Deleted value will be printed\n",
    "\n",
    "**remove** \n",
    "\n",
    "- Based on the value passed, value will be removed & removed value can't be printed\n",
    "- List can be printed after removing the specific value\n"
   ]
  },
  {
   "cell_type": "code",
   "execution_count": 367,
   "id": "2c7e7904",
   "metadata": {},
   "outputs": [
    {
     "data": {
      "text/plain": [
       "'E'"
      ]
     },
     "execution_count": 367,
     "metadata": {},
     "output_type": "execute_result"
    }
   ],
   "source": [
    "list1=[\"A\",\"B\",\"C\",\"D\",\"E\"]\n",
    "list1.pop()"
   ]
  },
  {
   "cell_type": "code",
   "execution_count": 368,
   "id": "27511ec6",
   "metadata": {},
   "outputs": [
    {
     "name": "stdout",
     "output_type": "stream",
     "text": [
      "['A', 'B', 'C', 'D']\n"
     ]
    }
   ],
   "source": [
    "print(list1)"
   ]
  },
  {
   "cell_type": "code",
   "execution_count": 369,
   "id": "23a3a075",
   "metadata": {},
   "outputs": [],
   "source": [
    "list1.remove(\"B\")"
   ]
  },
  {
   "cell_type": "code",
   "execution_count": 370,
   "id": "86ebe0a3",
   "metadata": {},
   "outputs": [
    {
     "name": "stdout",
     "output_type": "stream",
     "text": [
      "['A', 'C', 'D']\n"
     ]
    }
   ],
   "source": [
    "print(list1)"
   ]
  },
  {
   "cell_type": "code",
   "execution_count": 372,
   "id": "3796b72a",
   "metadata": {},
   "outputs": [
    {
     "data": {
      "text/plain": [
       "[1,\n",
       " 4,\n",
       " 7,\n",
       " 10,\n",
       " 13,\n",
       " 16,\n",
       " 19,\n",
       " 22,\n",
       " 25,\n",
       " 28,\n",
       " 31,\n",
       " 34,\n",
       " 37,\n",
       " 40,\n",
       " 43,\n",
       " 46,\n",
       " 49,\n",
       " 52,\n",
       " 55,\n",
       " 58,\n",
       " 61,\n",
       " 64,\n",
       " 67,\n",
       " 70,\n",
       " 73,\n",
       " 76,\n",
       " 79,\n",
       " 82,\n",
       " 85,\n",
       " 88,\n",
       " 91,\n",
       " 94,\n",
       " 97]"
      ]
     },
     "execution_count": 372,
     "metadata": {},
     "output_type": "execute_result"
    }
   ],
   "source": [
    "list2=[i for i in range(1,100,3)]\n",
    "list2"
   ]
  },
  {
   "cell_type": "code",
   "execution_count": 373,
   "id": "6f406cc5",
   "metadata": {},
   "outputs": [],
   "source": [
    "#to delete 55 \n",
    "#Remove can be used (Bcz for pop we need to provide index number which is hard )\n",
    "\n",
    "list2.remove(55)\n"
   ]
  },
  {
   "cell_type": "code",
   "execution_count": 374,
   "id": "609778cd",
   "metadata": {},
   "outputs": [
    {
     "name": "stdout",
     "output_type": "stream",
     "text": [
      "[1, 4, 7, 10, 13, 16, 19, 22, 25, 28, 31, 34, 37, 40, 43, 46, 49, 52, 58, 61, 64, 67, 70, 73, 76, 79, 82, 85, 88, 91, 94, 97]\n"
     ]
    }
   ],
   "source": [
    "print(list2)"
   ]
  },
  {
   "cell_type": "markdown",
   "id": "09783e0e",
   "metadata": {},
   "source": [
    "**Index**"
   ]
  },
  {
   "cell_type": "code",
   "execution_count": 376,
   "id": "49d5d62e",
   "metadata": {},
   "outputs": [
    {
     "data": {
      "text/plain": [
       "3"
      ]
     },
     "execution_count": 376,
     "metadata": {},
     "output_type": "execute_result"
    }
   ],
   "source": [
    "list1=[\"A\",\"B\",\"C\",\"D\"]\n",
    "list1.index(\"D\")"
   ]
  },
  {
   "cell_type": "code",
   "execution_count": 378,
   "id": "7f3b3166",
   "metadata": {},
   "outputs": [
    {
     "data": {
      "text/plain": [
       "'D'"
      ]
     },
     "execution_count": 378,
     "metadata": {},
     "output_type": "execute_result"
    }
   ],
   "source": [
    "# to remove \"D\"\n",
    "list1.pop(list1.index(\"D\"))"
   ]
  },
  {
   "cell_type": "code",
   "execution_count": 379,
   "id": "558bd588",
   "metadata": {},
   "outputs": [
    {
     "name": "stdout",
     "output_type": "stream",
     "text": [
      "['A', 'B', 'C']\n"
     ]
    }
   ],
   "source": [
    "print(list1)"
   ]
  },
  {
   "cell_type": "code",
   "execution_count": 409,
   "id": "a4146d96",
   "metadata": {},
   "outputs": [
    {
     "data": {
      "text/plain": [
       "(['omkar', 'kareem', 'santhosh'], ['nallagoni', 'pasha', 'kadam'])"
      ]
     },
     "execution_count": 409,
     "metadata": {},
     "output_type": "execute_result"
    }
   ],
   "source": [
    "l1=['omkar.nallagoni@gmail.com','kareem.pasha@gmail.com','santhosh.kadam@gmail.com']\n",
    "first,second=[],[]\n",
    "for i in l1:\n",
    "    first.append(i.split(\".\")[0])\n",
    "    second.append(i[i.find(\".\")+1:i.find(\"@\")])\n",
    "first,second\n",
    "\n",
    "#####\n",
    "\n",
    "output3=[i.split(\".\")[0] for i in l1]\n",
    "output4=[i[i.find(\".\")+1:i.find(\"@\")] for i in l1]\n",
    "output3,output4"
   ]
  },
  {
   "cell_type": "code",
   "execution_count": 417,
   "id": "7531c58e",
   "metadata": {},
   "outputs": [
    {
     "data": {
      "text/plain": [
       "['lucknow',\n",
       " 'lucknow',\n",
       " 'lucknow',\n",
       " 'lucknow',\n",
       " 'lucknow',\n",
       " 'lucknow',\n",
       " 'lucknow',\n",
       " 'lucknow',\n",
       " 'lucknow',\n",
       " 'lucknow',\n",
       " 'lucknow',\n",
       " 'lucknow',\n",
       " 'lucknow',\n",
       " 'lucknow',\n",
       " 'lucknow',\n",
       " 'lucknow',\n",
       " 'lucknow',\n",
       " 'lucknow',\n",
       " 'lucknow',\n",
       " 'lucknow',\n",
       " 'lucknow',\n",
       " 'lucknow',\n",
       " 'lucknow',\n",
       " 'lucknow',\n",
       " 'lucknow',\n",
       " 'lucknow',\n",
       " 'lucknow',\n",
       " 'lucknow',\n",
       " 'lucknow',\n",
       " 'lucknow',\n",
       " 'lucknow',\n",
       " 'lucknow',\n",
       " 'lucknow',\n",
       " 'lucknow',\n",
       " 'lucknow',\n",
       " 'lucknow',\n",
       " 'lucknow',\n",
       " 'lucknow',\n",
       " 'lucknow',\n",
       " 'lucknow',\n",
       " 'lucknow',\n",
       " 'lucknow',\n",
       " 'lucknow',\n",
       " 'lucknow',\n",
       " 'lucknow',\n",
       " 'lucknow',\n",
       " 'lucknow',\n",
       " 'lucknow',\n",
       " 'lucknow',\n",
       " 'lucknow',\n",
       " 'lucknow',\n",
       " 'lucknow',\n",
       " 'lucknow',\n",
       " 'lucknow',\n",
       " 'lucknow',\n",
       " 'lucknow',\n",
       " 'lucknow',\n",
       " 'lucknow',\n",
       " 'lucknow',\n",
       " 'lucknow',\n",
       " 'lucknow',\n",
       " 'lucknow',\n",
       " 'lucknow',\n",
       " 'lucknow',\n",
       " 'lucknow',\n",
       " 'lucknow',\n",
       " 'lucknow',\n",
       " 'lucknow',\n",
       " 'lucknow',\n",
       " 'lucknow']"
      ]
     },
     "execution_count": 417,
     "metadata": {},
     "output_type": "execute_result"
    }
   ],
   "source": [
    "#\n",
    "\n",
    "string1=\"kl.rahul@lucknow.com,virat.kohli@bangalore.com,rohit.sharma@mumbai.com\"\n",
    "#First name list =[]\n",
    "#Second name list = []\n",
    "#Company= []\n",
    "\n",
    "\n",
    "first=[]\n",
    "second=[]\n",
    "company=[]\n",
    "for i in string1:\n",
    "    print(string1[string1.find(\"\"):string1.find(\".\")])\n",
    "    print(string1[string1.find(\".\")+1:string1.find(\"@\")]) \n",
    "    print(string1[string1.find(\"@\")+1:string1.find(\".\",string1.find(\".\")+1)])\n",
    "first\n",
    "second\n",
    "company\n",
    "\n",
    "\n"
   ]
  },
  {
   "cell_type": "code",
   "execution_count": 435,
   "id": "58c92d92",
   "metadata": {},
   "outputs": [
    {
     "name": "stdout",
     "output_type": "stream",
     "text": [
      "rahul\n",
      "kl\n",
      "lucknow\n",
      "kl.rahul@lucknow.com,virat.kohli@bangalore.com,rohit.sharma@mumbai.com\n"
     ]
    }
   ],
   "source": [
    "string1=\"kl.rahul@lucknow.com,virat.kohli@bangalore.com,rohit.sharma@mumbai.com\"\n",
    "\n",
    "l1=[\"kl.rahul@lucknow.com,virat.kohli@bangalore.com,rohit.sharma@mumbai.com\"]\n",
    "for i in l1:\n",
    "    print(i[i.find(\".\")+1:i.find(\"@\")]) \n",
    "    print(i[i.find(\"\"):i.find(\".\")])\n",
    "    print(i[i.find(\"@\")+1:i.find(\".\",i.find(\".\")+1)])\n",
    "    print(i)\n",
    "\n"
   ]
  },
  {
   "cell_type": "code",
   "execution_count": 481,
   "id": "2f8f35f8",
   "metadata": {},
   "outputs": [
    {
     "name": "stdout",
     "output_type": "stream",
     "text": [
      "First name:  kl\n",
      "Second name: rahul\n",
      "company name: lucknow\n",
      "First name:  virat\n",
      "Second name: kohli\n",
      "company name: bangalore\n",
      "First name:  rohit\n",
      "Second name: sharma\n",
      "company name: mumbai\n"
     ]
    }
   ],
   "source": [
    "#\n",
    "\n",
    "string1=\"kl.rahul@lucknow.com,virat.kohli@bangalore.com,rohit.sharma@mumbai.com\"\n",
    "list1=string1.split(\",\")\n",
    "#f_name=[]\n",
    "#s_name=[]\n",
    "#c_name=[]\n",
    "for i in list1:\n",
    "    print(\"First name: \",i.split(\".\")[0])\n",
    "    print(\"Second name:\",i.split(\".\")[1].split(\"@\")[0])\n",
    "    print(\"company name:\",i.split(\".\")[1].split(\"@\")[1])\n"
   ]
  },
  {
   "cell_type": "code",
   "execution_count": 461,
   "id": "06151222",
   "metadata": {},
   "outputs": [],
   "source": [
    "#\n",
    "\n",
    "string1=\"kl.rahul@lucknow.com,virat.kohli@bangalore.com,rohit.sharma@mumbai.com\"\n",
    "list1=string1.split(\",\")\n",
    "f_name=[]\n",
    "s_name=[]\n",
    "c_name=[]\n",
    "for i in list1:\n",
    "    f_name.append(i.split(\".\")[0])\n",
    "    s_name.append(i.split(\".\")[1].split(\"@\")[0])\n",
    "    c_name.append(i.split(\".\")[1].split(\"@\")[1])\n"
   ]
  },
  {
   "cell_type": "code",
   "execution_count": 464,
   "id": "d1548e8e",
   "metadata": {},
   "outputs": [
    {
     "data": {
      "text/plain": [
       "'mumbai'"
      ]
     },
     "execution_count": 464,
     "metadata": {},
     "output_type": "execute_result"
    }
   ],
   "source": [
    "i.split(\".\")[0]\n",
    "i.split(\".\")[1].split(\"@\")[0]\n",
    "i.split(\".\")[1].split(\"@\")[1]"
   ]
  },
  {
   "cell_type": "code",
   "execution_count": 431,
   "id": "30ba4477",
   "metadata": {},
   "outputs": [
    {
     "data": {
      "text/plain": [
       "['lucknow', 'bangalore', 'mumbai']"
      ]
     },
     "execution_count": 431,
     "metadata": {},
     "output_type": "execute_result"
    }
   ],
   "source": [
    "f_name=[i.split(\".\")[0] for i in list1]\n",
    "s_name=[i.split(\".\")[1].split(\"@\")[0] for i in list1]\n",
    "c_name=[i.split(\".\")[1].split(\"@\")[1] for i in list1]\n",
    "f_name\n",
    "s_name\n",
    "c_name"
   ]
  },
  {
   "cell_type": "markdown",
   "id": "bb025927",
   "metadata": {},
   "source": [
    "**copy**"
   ]
  },
  {
   "cell_type": "code",
   "execution_count": 434,
   "id": "0cd0c270",
   "metadata": {},
   "outputs": [
    {
     "name": "stdout",
     "output_type": "stream",
     "text": [
      "[]\n",
      "[1, 2, 3, 4]\n"
     ]
    }
   ],
   "source": [
    "list1=[1,2,3,4]\n",
    "list2=list1.copy()\n",
    "list1.clear()\n",
    "print(list1)\n",
    "print(list2)"
   ]
  },
  {
   "cell_type": "code",
   "execution_count": 448,
   "id": "c8a64280",
   "metadata": {},
   "outputs": [
    {
     "name": "stdout",
     "output_type": "stream",
     "text": [
      "[1, 2, 3, 'A', 'B', 'C']\n"
     ]
    }
   ],
   "source": [
    "l1=[\"A\",\"B\",\"C\"]\n",
    "l2=[1,2,3]\n",
    "l2.extend(l1)\n",
    "print(l2)"
   ]
  },
  {
   "cell_type": "code",
   "execution_count": 449,
   "id": "806b83d4",
   "metadata": {},
   "outputs": [
    {
     "name": "stdout",
     "output_type": "stream",
     "text": [
      "['A', 'B', 'C', [1, 2, 3]]\n"
     ]
    }
   ],
   "source": [
    "l1=[\"A\",\"B\",\"C\"]\n",
    "l1.append([1,2,3])\n",
    "print(l1)"
   ]
  },
  {
   "cell_type": "markdown",
   "id": "626a7986",
   "metadata": {},
   "source": [
    "**Zip**"
   ]
  },
  {
   "cell_type": "code",
   "execution_count": 455,
   "id": "6ad06b6b",
   "metadata": {},
   "outputs": [
    {
     "name": "stdout",
     "output_type": "stream",
     "text": [
      "Ram 25\n",
      "Raheem 30\n",
      "Robert 35\n"
     ]
    }
   ],
   "source": [
    "#Ram age is 25\n",
    "\n",
    "list1=[\"Ram\",\"Raheem\",\"Robert\"]\n",
    "list2=[25,30,35]\n",
    "for i,j in zip(list1,list2):\n",
    "    print(i,j)"
   ]
  },
  {
   "cell_type": "markdown",
   "id": "b7ef476d",
   "metadata": {},
   "source": [
    "**sort**"
   ]
  },
  {
   "cell_type": "code",
   "execution_count": 457,
   "id": "4568d765",
   "metadata": {},
   "outputs": [
    {
     "data": {
      "text/plain": [
       "['A', 'B', 'C', 'D']"
      ]
     },
     "execution_count": 457,
     "metadata": {},
     "output_type": "execute_result"
    }
   ],
   "source": [
    "list1=[\"B\",\"D\",\"A\",\"C\"]\n",
    "list1.sort()   #by default it takes acsending order (reverse =False)\n",
    "list1"
   ]
  },
  {
   "cell_type": "code",
   "execution_count": 459,
   "id": "5cfcd9b5",
   "metadata": {},
   "outputs": [
    {
     "data": {
      "text/plain": [
       "['D', 'C', 'B', 'A']"
      ]
     },
     "execution_count": 459,
     "metadata": {},
     "output_type": "execute_result"
    }
   ],
   "source": [
    "list1=[\"B\",\"D\",\"A\",\"C\"]\n",
    "list1.sort(reverse=True)   #it takes descending order (reverse =True)\n",
    "list1   #In sort ,result is saved "
   ]
  },
  {
   "cell_type": "markdown",
   "id": "582d420d",
   "metadata": {},
   "source": [
    "**sorted**"
   ]
  },
  {
   "cell_type": "code",
   "execution_count": 470,
   "id": "8e485427",
   "metadata": {},
   "outputs": [
    {
     "data": {
      "text/plain": [
       "['B', 'D', 'A', 'C']"
      ]
     },
     "execution_count": 470,
     "metadata": {},
     "output_type": "execute_result"
    }
   ],
   "source": [
    "l1=[\"B\",\"D\",\"A\",\"C\"]\n",
    "l1"
   ]
  },
  {
   "cell_type": "code",
   "execution_count": 471,
   "id": "53f728c0",
   "metadata": {},
   "outputs": [
    {
     "data": {
      "text/plain": [
       "['A', 'B', 'C', 'D']"
      ]
     },
     "execution_count": 471,
     "metadata": {},
     "output_type": "execute_result"
    }
   ],
   "source": [
    "sorted(l1)"
   ]
  },
  {
   "cell_type": "code",
   "execution_count": 472,
   "id": "cb154685",
   "metadata": {},
   "outputs": [
    {
     "name": "stdout",
     "output_type": "stream",
     "text": [
      "['B', 'D', 'A', 'C']\n"
     ]
    }
   ],
   "source": [
    "print(l1)   #Result is not saved here in sorted"
   ]
  },
  {
   "cell_type": "markdown",
   "id": "fca5407c",
   "metadata": {},
   "source": [
    "- In sort method(sort()), result will save in a same list\n",
    "- In sorted keyword, results will not save"
   ]
  },
  {
   "cell_type": "code",
   "execution_count": 474,
   "id": "bcd0e744",
   "metadata": {},
   "outputs": [
    {
     "data": {
      "text/plain": [
       "['kl.rahul@lucknow.com',\n",
       " 'virat.kohli@bangalore.com',\n",
       " 'rohit.sharma@mumbai.com']"
      ]
     },
     "execution_count": 474,
     "metadata": {},
     "output_type": "execute_result"
    }
   ],
   "source": [
    "string1=\"kl.rahul@lucknow.com,virat.kohli@bangalore.com,rohit.sharma@mumbai.com\"\n",
    "list1=string1.split(\",\")   #splitting the string , then o/p is in list format\n",
    "list1"
   ]
  },
  {
   "cell_type": "code",
   "execution_count": 475,
   "id": "a9b9e3e7",
   "metadata": {},
   "outputs": [
    {
     "data": {
      "text/plain": [
       "'kl.rahul@lucknow.com virat.kohli@bangalore.com rohit.sharma@mumbai.com'"
      ]
     },
     "execution_count": 475,
     "metadata": {},
     "output_type": "execute_result"
    }
   ],
   "source": [
    "#join\n",
    "\n",
    "\" \".join(list1)"
   ]
  },
  {
   "cell_type": "code",
   "execution_count": 477,
   "id": "b7e28725",
   "metadata": {},
   "outputs": [
    {
     "data": {
      "text/plain": [
       "'APPLE'"
      ]
     },
     "execution_count": 477,
     "metadata": {},
     "output_type": "execute_result"
    }
   ],
   "source": [
    "list1=[\"A\",\"P\",\"P\",\"L\",\"E\"]\n",
    "''.join(list1)"
   ]
  },
  {
   "cell_type": "markdown",
   "id": "f302dffc",
   "metadata": {},
   "source": [
    "**Keywords**\n",
    "- max()\n",
    "- min()\n",
    "- print()\n",
    "- type()\n",
    "- len()\n",
    "- zip()\n",
    "- sorted()\n",
    "- ord()\n",
    "- chr()"
   ]
  },
  {
   "cell_type": "markdown",
   "id": "9fedd2ca",
   "metadata": {},
   "source": [
    "**insert**\n",
    "- At particular index, it allows to add elements"
   ]
  },
  {
   "cell_type": "code",
   "execution_count": 478,
   "id": "a9acfb35",
   "metadata": {},
   "outputs": [],
   "source": [
    "l1=[10,20,30]\n",
    "l1.insert(3,40)"
   ]
  },
  {
   "cell_type": "code",
   "execution_count": 479,
   "id": "9b13993e",
   "metadata": {},
   "outputs": [
    {
     "name": "stdout",
     "output_type": "stream",
     "text": [
      "[10, 20, 30, 40]\n"
     ]
    }
   ],
   "source": [
    "print(l1)"
   ]
  },
  {
   "cell_type": "code",
   "execution_count": 1,
   "id": "72d89924",
   "metadata": {},
   "outputs": [
    {
     "name": "stdout",
     "output_type": "stream",
     "text": [
      "Question is:  what is your name\n",
      "Tell the answer:pragnya\n",
      "No marks\n",
      "Question is:  Where do u stay\n",
      "Tell the answer:Hyderabad\n",
      "No marks\n",
      "Question is:  In which profession you are working\n",
      "Tell the answer:IT\n",
      "Question is:  How much package you get?\n",
      "Tell the answer:5lc\n",
      "No marks\n",
      "Question is:  Are you liking your profession\n",
      "Tell the answer:Yes\n",
      "Correct answer is 2\n",
      "Marks are 2\n"
     ]
    }
   ],
   "source": [
    "#Take 5 qstns in a list1\n",
    "#give answers in a list2\n",
    "#iterate through list1\n",
    "#every qstn should print\n",
    "#answer=input(\"Tell the answer\")\n",
    "#answer is checked in list2\n",
    "#if it is there \n",
    "\n",
    "list1=[\"what is your name\",\"Where do u stay\",\"In which profession you are working\",\"How much package you get?\",\"Are you liking your profession\"]\n",
    "list2=[\"Pragnya\",\"hyderabad\",\"IT\",\"fivelac\",\"Yes\"]\n",
    "marks=0\n",
    "correct_answer=0\n",
    "for i in list1:\n",
    "    print(\"Question is: \",i)\n",
    "    answer=input(\"Tell the answer:\")\n",
    "    if answer in list2:\n",
    "        marks=marks+1\n",
    "        correct_answer=correct_answer+1\n",
    "    else:\n",
    "        print(\"No marks\")\n",
    "print(\"Correct answer is\",correct_answer)\n",
    "print(\"Marks are\",marks)"
   ]
  },
  {
   "cell_type": "code",
   "execution_count": null,
   "id": "01c48cfa",
   "metadata": {},
   "outputs": [],
   "source": []
  }
 ],
 "metadata": {
  "kernelspec": {
   "display_name": "Python 3",
   "language": "python",
   "name": "python3"
  },
  "language_info": {
   "codemirror_mode": {
    "name": "ipython",
    "version": 3
   },
   "file_extension": ".py",
   "mimetype": "text/x-python",
   "name": "python",
   "nbconvert_exporter": "python",
   "pygments_lexer": "ipython3",
   "version": "3.11.4"
  }
 },
 "nbformat": 4,
 "nbformat_minor": 5
}
