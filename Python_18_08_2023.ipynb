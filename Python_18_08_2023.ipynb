{
 "cells": [
  {
   "cell_type": "code",
   "execution_count": 2,
   "id": "f8a38f21",
   "metadata": {},
   "outputs": [],
   "source": [
    "a=10"
   ]
  },
  {
   "cell_type": "code",
   "execution_count": 3,
   "id": "7dc84b2f",
   "metadata": {},
   "outputs": [
    {
     "data": {
      "text/plain": [
       "10"
      ]
     },
     "execution_count": 3,
     "metadata": {},
     "output_type": "execute_result"
    }
   ],
   "source": [
    "a"
   ]
  },
  {
   "cell_type": "markdown",
   "id": "3d2721aa",
   "metadata": {},
   "source": [
    "#Using Markdown concept - Use prefix as hash (#) and from the dropdown give as Markdown . So whatever is entered will display as shown below For ex--- # Hello!How you doin?\n",
    "\n",
    "# Hello!How you doin?"
   ]
  },
  {
   "cell_type": "markdown",
   "id": "ce33827b",
   "metadata": {},
   "source": [
    "# Hey there! I'm fine. Wt abt u?"
   ]
  },
  {
   "cell_type": "markdown",
   "id": "090960da",
   "metadata": {},
   "source": [
    "# hey thanks for asking. I'm fine"
   ]
  },
  {
   "cell_type": "markdown",
   "id": "56bbc684",
   "metadata": {},
   "source": [
    "#To reduce font size, increase #'s usage -- ( ### Pragnya)\n",
    "### Pragnya"
   ]
  },
  {
   "cell_type": "markdown",
   "id": "6c501f6f",
   "metadata": {},
   "source": [
    "###### Pranavi"
   ]
  },
  {
   "cell_type": "markdown",
   "id": "925069e1",
   "metadata": {},
   "source": [
    "#Markdown w/o using #\n",
    "\n",
    "jailer bgm was super"
   ]
  },
  {
   "cell_type": "code",
   "execution_count": null,
   "id": "39ebd6f5",
   "metadata": {},
   "outputs": [],
   "source": []
  }
 ],
 "metadata": {
  "kernelspec": {
   "display_name": "Python 3",
   "language": "python",
   "name": "python3"
  },
  "language_info": {
   "codemirror_mode": {
    "name": "ipython",
    "version": 3
   },
   "file_extension": ".py",
   "mimetype": "text/x-python",
   "name": "python",
   "nbconvert_exporter": "python",
   "pygments_lexer": "ipython3",
   "version": "3.11.4"
  }
 },
 "nbformat": 4,
 "nbformat_minor": 5
}
