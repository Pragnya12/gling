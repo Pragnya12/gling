{
 "cells": [
  {
   "cell_type": "markdown",
   "id": "a7143274",
   "metadata": {},
   "source": [
    "**Definition of String**\n",
    "- It is a set of charcters enclosed within single(' ') or double quotations(\" \")\n",
    "- It is inclusive of numericals,characters,digits.\n",
    "- To find the type of string, use type(\"string_name\")\n",
    "- Indexing and slicing can be perfomed on strings\n",
    "- Strings are Immutable(Values cannot be changed)"
   ]
  },
  {
   "cell_type": "code",
   "execution_count": 1,
   "id": "663d8d60",
   "metadata": {},
   "outputs": [
    {
     "name": "stdout",
     "output_type": "stream",
     "text": [
      "hello python\n"
     ]
    }
   ],
   "source": [
    "#Reading a string using double quotations\n",
    "#Here \"s\" includes all character values\n",
    "\n",
    "s=\"hello python\"\n",
    "print(s)       #printing \"s\""
   ]
  },
  {
   "cell_type": "code",
   "execution_count": 2,
   "id": "6c2887bb",
   "metadata": {},
   "outputs": [
    {
     "data": {
      "text/plain": [
       "str"
      ]
     },
     "execution_count": 2,
     "metadata": {},
     "output_type": "execute_result"
    }
   ],
   "source": [
    "#To find the type of \"s\"\n",
    "\n",
    "type(s)"
   ]
  },
  {
   "cell_type": "code",
   "execution_count": 3,
   "id": "56945ce0",
   "metadata": {},
   "outputs": [
    {
     "name": "stdout",
     "output_type": "stream",
     "text": [
      "hello python\n"
     ]
    }
   ],
   "source": [
    "#Reading a string using single quotations\n",
    "s='hello python'\n",
    "print(s)       #printing \"s\""
   ]
  },
  {
   "cell_type": "code",
   "execution_count": 4,
   "id": "ac50185c",
   "metadata": {},
   "outputs": [
    {
     "data": {
      "text/plain": [
       "str"
      ]
     },
     "execution_count": 4,
     "metadata": {},
     "output_type": "execute_result"
    }
   ],
   "source": [
    "#To find the type of 's'\n",
    "\n",
    "type(s)"
   ]
  },
  {
   "cell_type": "code",
   "execution_count": 9,
   "id": "3ffa46d7",
   "metadata": {},
   "outputs": [
    {
     "data": {
      "text/plain": [
       "'12345'"
      ]
     },
     "execution_count": 9,
     "metadata": {},
     "output_type": "execute_result"
    }
   ],
   "source": [
    "#Taking \"s\" as pure digit value\n",
    "\n",
    "s=\"12345\"\n",
    "s"
   ]
  },
  {
   "cell_type": "code",
   "execution_count": 10,
   "id": "91eb7538",
   "metadata": {},
   "outputs": [
    {
     "data": {
      "text/plain": [
       "str"
      ]
     },
     "execution_count": 10,
     "metadata": {},
     "output_type": "execute_result"
    }
   ],
   "source": [
    "#To find the type of \"s\"\n",
    "\n",
    "type(s)"
   ]
  },
  {
   "cell_type": "code",
   "execution_count": 7,
   "id": "3aca5cb3",
   "metadata": {},
   "outputs": [
    {
     "data": {
      "text/plain": [
       "'123python'"
      ]
     },
     "execution_count": 7,
     "metadata": {},
     "output_type": "execute_result"
    }
   ],
   "source": [
    "#Taking \"s\" as alphanumeric\n",
    "\n",
    "s=\"123python\"\n",
    "s"
   ]
  },
  {
   "cell_type": "code",
   "execution_count": 8,
   "id": "0616f671",
   "metadata": {},
   "outputs": [
    {
     "data": {
      "text/plain": [
       "str"
      ]
     },
     "execution_count": 8,
     "metadata": {},
     "output_type": "execute_result"
    }
   ],
   "source": [
    "#To find the type of \"s\"\n",
    "\n",
    "type(s)"
   ]
  },
  {
   "cell_type": "code",
   "execution_count": 22,
   "id": "1a2c9663",
   "metadata": {},
   "outputs": [
    {
     "data": {
      "text/plain": [
       "' '"
      ]
     },
     "execution_count": 22,
     "metadata": {},
     "output_type": "execute_result"
    }
   ],
   "source": [
    "#Taking empty string\n",
    "\n",
    "s=\" \"\n",
    "s"
   ]
  },
  {
   "cell_type": "code",
   "execution_count": 24,
   "id": "3350839e",
   "metadata": {},
   "outputs": [
    {
     "data": {
      "text/plain": [
       "str"
      ]
     },
     "execution_count": 24,
     "metadata": {},
     "output_type": "execute_result"
    }
   ],
   "source": [
    "#To find type of s\n",
    "type(s)"
   ]
  },
  {
   "cell_type": "markdown",
   "id": "6744073f",
   "metadata": {},
   "source": [
    "**Doc String**\n",
    "- It includes multiple statements aligned in different lines\n",
    "- It is represented by triple single quotations (''' ''') or triple double quotations (\"\"\" \"\"\")\n",
    "- Basically it is used for describing the problem statement to understand easily for user\n"
   ]
  },
  {
   "cell_type": "code",
   "execution_count": 17,
   "id": "15885e93",
   "metadata": {},
   "outputs": [
    {
     "name": "stdout",
     "output_type": "stream",
     "text": [
      "Do you know Python\n",
      "    or Sql or SAS or \n",
      "    R. Python is a scripting \n",
      "    language\n"
     ]
    }
   ],
   "source": [
    "# Doc string (Using Triple double quotes)\n",
    "\n",
    "s1=\"\"\"Do you know Python\n",
    "    or Sql or SAS or \n",
    "    R. Python is a scripting \n",
    "    language\"\"\"\n",
    "print(s1)"
   ]
  },
  {
   "cell_type": "code",
   "execution_count": 18,
   "id": "0cd014c7",
   "metadata": {},
   "outputs": [
    {
     "name": "stdout",
     "output_type": "stream",
     "text": [
      "Do you know Python\n",
      "    or Sql or SAS or \n",
      "    R. Python is a scripting \n",
      "    language\n"
     ]
    }
   ],
   "source": [
    "# Doc string (Using Triple single quotes)\n",
    "\n",
    "s1='''Do you know Python\n",
    "    or Sql or SAS or \n",
    "    R. Python is a scripting \n",
    "    language'''\n",
    "print(s1)"
   ]
  },
  {
   "cell_type": "code",
   "execution_count": 19,
   "id": "3407f025",
   "metadata": {},
   "outputs": [
    {
     "name": "stdout",
     "output_type": "stream",
     "text": [
      "Enter subject 3 marks: 70\n",
      "Enter subject 4 marks: 80\n",
      "Enter subject 5 marks: 90\n",
      "Aggregate marks is: 365\n",
      "Marks in percentage is: 73.0\n"
     ]
    }
   ],
   "source": [
    "# Example demonstrating doc string\n",
    "# find Aggregrate & percentage marks of 5 subjects \n",
    "\n",
    "\"\"\" This program takes subject_3,4,5 as input from keyboard\n",
    "    & subjwct_1,2 are both the parameters passed in\n",
    "    agg_perc() function and whole function block is\n",
    "    placed within try block\"\"\"\n",
    "\n",
    "\n",
    "try:\n",
    "    def agg_perc(subject_1,subject_2):\n",
    "        subject_3=eval(input(\"Enter subject 3 marks: \"))\n",
    "        subject_4=eval(input(\"Enter subject 4 marks: \"))\n",
    "        subject_5=eval(input(\"Enter subject 5 marks: \"))\n",
    "        aggregate_marks=(subject_1+subject_2+subject_3+subject_4+subject_5)\n",
    "        percentage_marks=(aggregate_marks)/500 * 100\n",
    "        print(\"Aggregate marks is:\",aggregate_marks)\n",
    "        print(\"Marks in percentage is:\",percentage_marks)\n",
    "    agg_perc(60,65)\n",
    "except Exception as e:\n",
    "    print(e)"
   ]
  },
  {
   "cell_type": "code",
   "execution_count": 20,
   "id": "83dd7e2d",
   "metadata": {},
   "outputs": [
    {
     "name": "stdout",
     "output_type": "stream",
     "text": [
      "'Rohit Sharma' is the captain of Team India\n"
     ]
    }
   ],
   "source": [
    "#In the following sentence, inorder to highlight Rohit Sharma, use single quotes specific to RohitSharma & enclose the whole string within Double quotes\n",
    "#Method-1\n",
    "\n",
    "s=\"'Rohit Sharma' is the captain of Team India\"\n",
    "print(s)"
   ]
  },
  {
   "cell_type": "code",
   "execution_count": 21,
   "id": "7794318b",
   "metadata": {},
   "outputs": [
    {
     "name": "stdout",
     "output_type": "stream",
     "text": [
      "\"Rohit Sharma\" is the captain of Team India\n"
     ]
    }
   ],
   "source": [
    "#In the following sentence, inorder to highlight Rohit Sharma, use double quotes specific to RohitSharma & enclose the whole string within single quotes\n",
    "#Method-2\n",
    "\n",
    "s='\"Rohit Sharma\" is the captain of Team India'\n",
    "print(s)"
   ]
  },
  {
   "cell_type": "markdown",
   "id": "ffb2ae49",
   "metadata": {},
   "source": [
    "- Length- To find the length of a string, use len()\n",
    "- Maximum- To find the maximum of a string, use max()\n",
    "- Minimum- To find the minimum of a string, use min()\n"
   ]
  },
  {
   "cell_type": "code",
   "execution_count": 27,
   "id": "d2c9acb9",
   "metadata": {},
   "outputs": [
    {
     "name": "stdout",
     "output_type": "stream",
     "text": [
      "Length of s is 30\n"
     ]
    }
   ],
   "source": [
    "# To find the length of a string\n",
    "\n",
    "s=\"Python is a scripting language\"\n",
    "print(\"Length of s is\",len(s))       #length function to find length of \"s\""
   ]
  },
  {
   "cell_type": "code",
   "execution_count": 28,
   "id": "4b4ef98f",
   "metadata": {},
   "outputs": [
    {
     "name": "stdout",
     "output_type": "stream",
     "text": [
      "Length of s is 6\n"
     ]
    }
   ],
   "source": [
    "s=\"Python\"\n",
    "print(\"Length of s is\",len(s))"
   ]
  },
  {
   "cell_type": "code",
   "execution_count": 30,
   "id": "cad1913f",
   "metadata": {},
   "outputs": [
    {
     "name": "stdout",
     "output_type": "stream",
     "text": [
      "Maximum of s is y\n"
     ]
    }
   ],
   "source": [
    "#To find maximum of a string\n",
    "\n",
    "s=\"Python is a scripting language\"\n",
    "print(\"Maximum of s is\",max(s))    # It is found using ASCII value "
   ]
  },
  {
   "cell_type": "code",
   "execution_count": 34,
   "id": "2f2d6cd1",
   "metadata": {},
   "outputs": [
    {
     "data": {
      "text/plain": [
       "121"
      ]
     },
     "execution_count": 34,
     "metadata": {},
     "output_type": "execute_result"
    }
   ],
   "source": [
    "#To find ASCII value of y\n",
    "\n",
    "ord(\"y\")"
   ]
  },
  {
   "cell_type": "code",
   "execution_count": 35,
   "id": "fb55c511",
   "metadata": {},
   "outputs": [
    {
     "name": "stdout",
     "output_type": "stream",
     "text": [
      "Maximum of s is y\n"
     ]
    }
   ],
   "source": [
    "#To find maximum of a string\n",
    "\n",
    "s='Python'\n",
    "print(\"Maximum of s is\",max(s))"
   ]
  },
  {
   "cell_type": "code",
   "execution_count": 40,
   "id": "aada4076",
   "metadata": {},
   "outputs": [
    {
     "data": {
      "text/plain": [
       "' '"
      ]
     },
     "execution_count": 40,
     "metadata": {},
     "output_type": "execute_result"
    }
   ],
   "source": [
    "#To find minimum of a string\n",
    "\n",
    "s=\"Python is a scripting language\"\n",
    "min(s)"
   ]
  },
  {
   "cell_type": "code",
   "execution_count": 44,
   "id": "f94d17eb",
   "metadata": {},
   "outputs": [
    {
     "name": "stdout",
     "output_type": "stream",
     "text": [
      "Minimum of s is P\n"
     ]
    }
   ],
   "source": [
    "#To find minimum of a string\n",
    "\n",
    "s=\"Python\"\n",
    "print(\"Minimum of s is\",min(s))"
   ]
  },
  {
   "cell_type": "markdown",
   "id": "592062f8",
   "metadata": {},
   "source": [
    "- Concatenation operator (+) between two strings is possible\n",
    "- Subtraction/Multiplication/Division/Floor Division/Modulo Division are not possible\n",
    "- Repetition operator(*) on strings is possible"
   ]
  },
  {
   "cell_type": "code",
   "execution_count": 46,
   "id": "bdbb8de8",
   "metadata": {},
   "outputs": [
    {
     "name": "stdout",
     "output_type": "stream",
     "text": [
      "The concatenation of s1 and s2 is Python is a programming language\n"
     ]
    }
   ],
   "source": [
    "#1)Concatenation of two strings\n",
    "#Example-1\n",
    "\n",
    "s1=\"Python is\"\n",
    "s2=\" a programming language\"\n",
    "print(\"The concatenation of s1 and s2 is\",s1+s2)"
   ]
  },
  {
   "cell_type": "code",
   "execution_count": 48,
   "id": "f34ced5a",
   "metadata": {},
   "outputs": [
    {
     "name": "stdout",
     "output_type": "stream",
     "text": [
      "The concatenation of s1 and s2 is 12347890\n"
     ]
    }
   ],
   "source": [
    "#Example-2(Taking digits as strings)\n",
    "\n",
    "s1=\"1234\"\n",
    "s2=\"7890\"\n",
    "print(\"The concatenation of s1 and s2 is\",s1+s2)"
   ]
  },
  {
   "cell_type": "code",
   "execution_count": 49,
   "id": "68422a01",
   "metadata": {},
   "outputs": [
    {
     "name": "stdout",
     "output_type": "stream",
     "text": [
      "The concatenation of s1 and s2 is ABCPOTFN1278961PYTHON\n"
     ]
    }
   ],
   "source": [
    "#Example-3(Taking Alphanumeric as strings)\n",
    "\n",
    "s1=\"ABCPOTFN12\"\n",
    "s2=\"78961PYTHON\"\n",
    "print(\"The concatenation of s1 and s2 is\",s1+s2)"
   ]
  },
  {
   "cell_type": "code",
   "execution_count": 50,
   "id": "15f2320b",
   "metadata": {},
   "outputs": [
    {
     "ename": "TypeError",
     "evalue": "unsupported operand type(s) for -: 'str' and 'str'",
     "output_type": "error",
     "traceback": [
      "\u001b[1;31m---------------------------------------------------------------------------\u001b[0m",
      "\u001b[1;31mTypeError\u001b[0m                                 Traceback (most recent call last)",
      "Cell \u001b[1;32mIn[50], line 6\u001b[0m\n\u001b[0;32m      4\u001b[0m s1\u001b[38;5;241m=\u001b[39m\u001b[38;5;124m\"\u001b[39m\u001b[38;5;124mPython is\u001b[39m\u001b[38;5;124m\"\u001b[39m\n\u001b[0;32m      5\u001b[0m s2\u001b[38;5;241m=\u001b[39m\u001b[38;5;124m\"\u001b[39m\u001b[38;5;124m a programming language\u001b[39m\u001b[38;5;124m\"\u001b[39m\n\u001b[1;32m----> 6\u001b[0m \u001b[38;5;28mprint\u001b[39m(\u001b[38;5;124m\"\u001b[39m\u001b[38;5;124mThe Subtraction of s1 and s2 is\u001b[39m\u001b[38;5;124m\"\u001b[39m,s1\u001b[38;5;241m-\u001b[39ms2)\n",
      "\u001b[1;31mTypeError\u001b[0m: unsupported operand type(s) for -: 'str' and 'str'"
     ]
    }
   ],
   "source": [
    "#2)Subtraction between two strings\n",
    "#Example-1\n",
    "\n",
    "s1=\"Python is\"\n",
    "s2=\" a programming language\"\n",
    "print(\"The Subtraction of s1 and s2 is\",s1-s2)\n",
    "\n",
    "#Type Error is occured i.e.,Subtraction is not possible between two strings"
   ]
  },
  {
   "cell_type": "code",
   "execution_count": 54,
   "id": "ca6df9a8",
   "metadata": {},
   "outputs": [
    {
     "ename": "TypeError",
     "evalue": "unsupported operand type(s) for -: 'str' and 'str'",
     "output_type": "error",
     "traceback": [
      "\u001b[1;31m---------------------------------------------------------------------------\u001b[0m",
      "\u001b[1;31mTypeError\u001b[0m                                 Traceback (most recent call last)",
      "Cell \u001b[1;32mIn[54], line 5\u001b[0m\n\u001b[0;32m      3\u001b[0m s1\u001b[38;5;241m=\u001b[39m\u001b[38;5;124m\"\u001b[39m\u001b[38;5;124m1234\u001b[39m\u001b[38;5;124m\"\u001b[39m\n\u001b[0;32m      4\u001b[0m s2\u001b[38;5;241m=\u001b[39m\u001b[38;5;124m\"\u001b[39m\u001b[38;5;124m7890\u001b[39m\u001b[38;5;124m\"\u001b[39m\n\u001b[1;32m----> 5\u001b[0m \u001b[38;5;28mprint\u001b[39m(\u001b[38;5;124m\"\u001b[39m\u001b[38;5;124mThe Subtraction of s1 and s2 is\u001b[39m\u001b[38;5;124m\"\u001b[39m,s1\u001b[38;5;241m-\u001b[39ms2)\n",
      "\u001b[1;31mTypeError\u001b[0m: unsupported operand type(s) for -: 'str' and 'str'"
     ]
    }
   ],
   "source": [
    "#Example-2\n",
    "\n",
    "s1=\"1234\"\n",
    "s2=\"7890\"\n",
    "print(\"The Subtraction of s1 and s2 is\",s1-s2)"
   ]
  },
  {
   "cell_type": "code",
   "execution_count": 55,
   "id": "3ee62f4a",
   "metadata": {},
   "outputs": [
    {
     "ename": "TypeError",
     "evalue": "unsupported operand type(s) for -: 'str' and 'str'",
     "output_type": "error",
     "traceback": [
      "\u001b[1;31m---------------------------------------------------------------------------\u001b[0m",
      "\u001b[1;31mTypeError\u001b[0m                                 Traceback (most recent call last)",
      "Cell \u001b[1;32mIn[55], line 5\u001b[0m\n\u001b[0;32m      3\u001b[0m s1\u001b[38;5;241m=\u001b[39m\u001b[38;5;124m\"\u001b[39m\u001b[38;5;124mABCPOTFN12\u001b[39m\u001b[38;5;124m\"\u001b[39m\n\u001b[0;32m      4\u001b[0m s2\u001b[38;5;241m=\u001b[39m\u001b[38;5;124m\"\u001b[39m\u001b[38;5;124m78961PYTHON\u001b[39m\u001b[38;5;124m\"\u001b[39m\n\u001b[1;32m----> 5\u001b[0m \u001b[38;5;28mprint\u001b[39m(\u001b[38;5;124m\"\u001b[39m\u001b[38;5;124mThe Subtraction of s1 and s2 is\u001b[39m\u001b[38;5;124m\"\u001b[39m,s1\u001b[38;5;241m-\u001b[39ms2)\n",
      "\u001b[1;31mTypeError\u001b[0m: unsupported operand type(s) for -: 'str' and 'str'"
     ]
    }
   ],
   "source": [
    "#Example-3\n",
    "\n",
    "s1=\"ABCPOTFN12\"\n",
    "s2=\"78961PYTHON\"\n",
    "print(\"The Subtraction of s1 and s2 is\",s1-s2)"
   ]
  },
  {
   "cell_type": "code",
   "execution_count": 53,
   "id": "76f44d7d",
   "metadata": {},
   "outputs": [
    {
     "ename": "TypeError",
     "evalue": "can't multiply sequence by non-int of type 'str'",
     "output_type": "error",
     "traceback": [
      "\u001b[1;31m---------------------------------------------------------------------------\u001b[0m",
      "\u001b[1;31mTypeError\u001b[0m                                 Traceback (most recent call last)",
      "Cell \u001b[1;32mIn[53], line 7\u001b[0m\n\u001b[0;32m      5\u001b[0m s1\u001b[38;5;241m=\u001b[39m\u001b[38;5;124m\"\u001b[39m\u001b[38;5;124mPython is\u001b[39m\u001b[38;5;124m\"\u001b[39m\n\u001b[0;32m      6\u001b[0m s2\u001b[38;5;241m=\u001b[39m\u001b[38;5;124m\"\u001b[39m\u001b[38;5;124m a programming language\u001b[39m\u001b[38;5;124m\"\u001b[39m\n\u001b[1;32m----> 7\u001b[0m \u001b[38;5;28mprint\u001b[39m(\u001b[38;5;124m\"\u001b[39m\u001b[38;5;124mThe Multiplication of s1 and s2 is\u001b[39m\u001b[38;5;124m\"\u001b[39m,s1\u001b[38;5;241m*\u001b[39ms2)\n",
      "\u001b[1;31mTypeError\u001b[0m: can't multiply sequence by non-int of type 'str'"
     ]
    }
   ],
   "source": [
    "#3)Multiplication between two strings\n",
    "\n",
    "#Example-1\n",
    "\n",
    "s1=\"Python is\"\n",
    "s2=\" a programming language\"\n",
    "print(\"The Multiplication of s1 and s2 is\",s1*s2)\n",
    "\n",
    "#Type Error occured i.e., Multiplication operation can't be performed between 2 strings"
   ]
  },
  {
   "cell_type": "code",
   "execution_count": 56,
   "id": "1940e022",
   "metadata": {},
   "outputs": [
    {
     "ename": "TypeError",
     "evalue": "can't multiply sequence by non-int of type 'str'",
     "output_type": "error",
     "traceback": [
      "\u001b[1;31m---------------------------------------------------------------------------\u001b[0m",
      "\u001b[1;31mTypeError\u001b[0m                                 Traceback (most recent call last)",
      "Cell \u001b[1;32mIn[56], line 5\u001b[0m\n\u001b[0;32m      3\u001b[0m s1\u001b[38;5;241m=\u001b[39m\u001b[38;5;124m\"\u001b[39m\u001b[38;5;124m1234\u001b[39m\u001b[38;5;124m\"\u001b[39m\n\u001b[0;32m      4\u001b[0m s2\u001b[38;5;241m=\u001b[39m\u001b[38;5;124m\"\u001b[39m\u001b[38;5;124m7890\u001b[39m\u001b[38;5;124m\"\u001b[39m\n\u001b[1;32m----> 5\u001b[0m \u001b[38;5;28mprint\u001b[39m(\u001b[38;5;124m\"\u001b[39m\u001b[38;5;124mThe Multiplication of s1 and s2 is\u001b[39m\u001b[38;5;124m\"\u001b[39m,s1\u001b[38;5;241m*\u001b[39ms2)\n",
      "\u001b[1;31mTypeError\u001b[0m: can't multiply sequence by non-int of type 'str'"
     ]
    }
   ],
   "source": [
    "#Example-2\n",
    "\n",
    "s1=\"1234\"\n",
    "s2=\"7890\"\n",
    "print(\"The Multiplication of s1 and s2 is\",s1*s2)"
   ]
  },
  {
   "cell_type": "code",
   "execution_count": 57,
   "id": "3e931665",
   "metadata": {},
   "outputs": [
    {
     "ename": "TypeError",
     "evalue": "can't multiply sequence by non-int of type 'str'",
     "output_type": "error",
     "traceback": [
      "\u001b[1;31m---------------------------------------------------------------------------\u001b[0m",
      "\u001b[1;31mTypeError\u001b[0m                                 Traceback (most recent call last)",
      "Cell \u001b[1;32mIn[57], line 5\u001b[0m\n\u001b[0;32m      3\u001b[0m s1\u001b[38;5;241m=\u001b[39m\u001b[38;5;124m\"\u001b[39m\u001b[38;5;124mABCPOTFN12\u001b[39m\u001b[38;5;124m\"\u001b[39m\n\u001b[0;32m      4\u001b[0m s2\u001b[38;5;241m=\u001b[39m\u001b[38;5;124m\"\u001b[39m\u001b[38;5;124m78961PYTHON\u001b[39m\u001b[38;5;124m\"\u001b[39m\n\u001b[1;32m----> 5\u001b[0m \u001b[38;5;28mprint\u001b[39m(\u001b[38;5;124m\"\u001b[39m\u001b[38;5;124mThe Multiplication of s1 and s2 is\u001b[39m\u001b[38;5;124m\"\u001b[39m,s1\u001b[38;5;241m*\u001b[39ms2)\n",
      "\u001b[1;31mTypeError\u001b[0m: can't multiply sequence by non-int of type 'str'"
     ]
    }
   ],
   "source": [
    "#Example-3\n",
    "\n",
    "s1=\"ABCPOTFN12\"\n",
    "s2=\"78961PYTHON\"\n",
    "print(\"The Multiplication of s1 and s2 is\",s1*s2)"
   ]
  },
  {
   "cell_type": "code",
   "execution_count": 58,
   "id": "1b27b9fb",
   "metadata": {},
   "outputs": [
    {
     "ename": "TypeError",
     "evalue": "unsupported operand type(s) for /: 'str' and 'str'",
     "output_type": "error",
     "traceback": [
      "\u001b[1;31m---------------------------------------------------------------------------\u001b[0m",
      "\u001b[1;31mTypeError\u001b[0m                                 Traceback (most recent call last)",
      "Cell \u001b[1;32mIn[58], line 6\u001b[0m\n\u001b[0;32m      4\u001b[0m s1\u001b[38;5;241m=\u001b[39m\u001b[38;5;124m\"\u001b[39m\u001b[38;5;124mPython is\u001b[39m\u001b[38;5;124m\"\u001b[39m\n\u001b[0;32m      5\u001b[0m s2\u001b[38;5;241m=\u001b[39m\u001b[38;5;124m\"\u001b[39m\u001b[38;5;124m a programming language\u001b[39m\u001b[38;5;124m\"\u001b[39m\n\u001b[1;32m----> 6\u001b[0m \u001b[38;5;28mprint\u001b[39m(\u001b[38;5;124m\"\u001b[39m\u001b[38;5;124mThe Division of s1 and s2 is\u001b[39m\u001b[38;5;124m\"\u001b[39m,s1\u001b[38;5;241m/\u001b[39ms2)\n",
      "\u001b[1;31mTypeError\u001b[0m: unsupported operand type(s) for /: 'str' and 'str'"
     ]
    }
   ],
   "source": [
    "#4)Division between two strings\n",
    "#Example-1\n",
    "\n",
    "s1=\"Python is\"\n",
    "s2=\" a programming language\"\n",
    "print(\"The Division of s1 and s2 is\",s1/s2)\n",
    "\n",
    "#Type Error occured i.e., Division operation can't be performed between 2 strings\n"
   ]
  },
  {
   "cell_type": "code",
   "execution_count": 59,
   "id": "b9417f33",
   "metadata": {},
   "outputs": [
    {
     "ename": "TypeError",
     "evalue": "unsupported operand type(s) for /: 'str' and 'str'",
     "output_type": "error",
     "traceback": [
      "\u001b[1;31m---------------------------------------------------------------------------\u001b[0m",
      "\u001b[1;31mTypeError\u001b[0m                                 Traceback (most recent call last)",
      "Cell \u001b[1;32mIn[59], line 5\u001b[0m\n\u001b[0;32m      3\u001b[0m s1\u001b[38;5;241m=\u001b[39m\u001b[38;5;124m\"\u001b[39m\u001b[38;5;124m1234\u001b[39m\u001b[38;5;124m\"\u001b[39m\n\u001b[0;32m      4\u001b[0m s2\u001b[38;5;241m=\u001b[39m\u001b[38;5;124m\"\u001b[39m\u001b[38;5;124m7890\u001b[39m\u001b[38;5;124m\"\u001b[39m\n\u001b[1;32m----> 5\u001b[0m \u001b[38;5;28mprint\u001b[39m(\u001b[38;5;124m\"\u001b[39m\u001b[38;5;124mThe Division of s1 and s2 is\u001b[39m\u001b[38;5;124m\"\u001b[39m,s1\u001b[38;5;241m/\u001b[39ms2)\n",
      "\u001b[1;31mTypeError\u001b[0m: unsupported operand type(s) for /: 'str' and 'str'"
     ]
    }
   ],
   "source": [
    "#Example-2\n",
    "\n",
    "s1=\"1234\"\n",
    "s2=\"7890\"\n",
    "print(\"The Division of s1 and s2 is\",s1/s2)"
   ]
  },
  {
   "cell_type": "code",
   "execution_count": 60,
   "id": "04dc4bfe",
   "metadata": {},
   "outputs": [
    {
     "ename": "TypeError",
     "evalue": "unsupported operand type(s) for /: 'str' and 'str'",
     "output_type": "error",
     "traceback": [
      "\u001b[1;31m---------------------------------------------------------------------------\u001b[0m",
      "\u001b[1;31mTypeError\u001b[0m                                 Traceback (most recent call last)",
      "Cell \u001b[1;32mIn[60], line 5\u001b[0m\n\u001b[0;32m      3\u001b[0m s1\u001b[38;5;241m=\u001b[39m\u001b[38;5;124m\"\u001b[39m\u001b[38;5;124mABCPOTFN12\u001b[39m\u001b[38;5;124m\"\u001b[39m\n\u001b[0;32m      4\u001b[0m s2\u001b[38;5;241m=\u001b[39m\u001b[38;5;124m\"\u001b[39m\u001b[38;5;124m78961PYTHON\u001b[39m\u001b[38;5;124m\"\u001b[39m\n\u001b[1;32m----> 5\u001b[0m \u001b[38;5;28mprint\u001b[39m(\u001b[38;5;124m\"\u001b[39m\u001b[38;5;124mThe Division of s1 and s2 is\u001b[39m\u001b[38;5;124m\"\u001b[39m,s1\u001b[38;5;241m/\u001b[39ms2)\n",
      "\u001b[1;31mTypeError\u001b[0m: unsupported operand type(s) for /: 'str' and 'str'"
     ]
    }
   ],
   "source": [
    "#Example-3\n",
    "\n",
    "s1=\"ABCPOTFN12\"\n",
    "s2=\"78961PYTHON\"\n",
    "print(\"The Division of s1 and s2 is\",s1/s2)"
   ]
  },
  {
   "cell_type": "code",
   "execution_count": 61,
   "id": "ba205fa9",
   "metadata": {},
   "outputs": [
    {
     "ename": "TypeError",
     "evalue": "not all arguments converted during string formatting",
     "output_type": "error",
     "traceback": [
      "\u001b[1;31m---------------------------------------------------------------------------\u001b[0m",
      "\u001b[1;31mTypeError\u001b[0m                                 Traceback (most recent call last)",
      "Cell \u001b[1;32mIn[61], line 6\u001b[0m\n\u001b[0;32m      4\u001b[0m s1\u001b[38;5;241m=\u001b[39m\u001b[38;5;124m\"\u001b[39m\u001b[38;5;124mPython is\u001b[39m\u001b[38;5;124m\"\u001b[39m\n\u001b[0;32m      5\u001b[0m s2\u001b[38;5;241m=\u001b[39m\u001b[38;5;124m\"\u001b[39m\u001b[38;5;124m a programming language\u001b[39m\u001b[38;5;124m\"\u001b[39m\n\u001b[1;32m----> 6\u001b[0m \u001b[38;5;28mprint\u001b[39m(\u001b[38;5;124m\"\u001b[39m\u001b[38;5;124mThe Modulo Division of s1 and s2 is\u001b[39m\u001b[38;5;124m\"\u001b[39m,s1\u001b[38;5;241m%\u001b[39ms2)\n",
      "\u001b[1;31mTypeError\u001b[0m: not all arguments converted during string formatting"
     ]
    }
   ],
   "source": [
    "#4)Modulo Division\n",
    "#Example-1\n",
    "\n",
    "s1=\"Python is\"\n",
    "s2=\" a programming language\"\n",
    "print(\"The Modulo Division of s1 and s2 is\",s1%s2)\n",
    "\n",
    "#Type Error occured i.e., Modulo Division operation can't be performed between 2 strings\n"
   ]
  },
  {
   "cell_type": "code",
   "execution_count": 62,
   "id": "db76faf0",
   "metadata": {},
   "outputs": [
    {
     "ename": "TypeError",
     "evalue": "not all arguments converted during string formatting",
     "output_type": "error",
     "traceback": [
      "\u001b[1;31m---------------------------------------------------------------------------\u001b[0m",
      "\u001b[1;31mTypeError\u001b[0m                                 Traceback (most recent call last)",
      "Cell \u001b[1;32mIn[62], line 5\u001b[0m\n\u001b[0;32m      3\u001b[0m s1\u001b[38;5;241m=\u001b[39m\u001b[38;5;124m\"\u001b[39m\u001b[38;5;124m1234\u001b[39m\u001b[38;5;124m\"\u001b[39m\n\u001b[0;32m      4\u001b[0m s2\u001b[38;5;241m=\u001b[39m\u001b[38;5;124m\"\u001b[39m\u001b[38;5;124m7890\u001b[39m\u001b[38;5;124m\"\u001b[39m\n\u001b[1;32m----> 5\u001b[0m \u001b[38;5;28mprint\u001b[39m(\u001b[38;5;124m\"\u001b[39m\u001b[38;5;124mThe Modulo Division of s1 and s2 is\u001b[39m\u001b[38;5;124m\"\u001b[39m,s1\u001b[38;5;241m%\u001b[39ms2)\n",
      "\u001b[1;31mTypeError\u001b[0m: not all arguments converted during string formatting"
     ]
    }
   ],
   "source": [
    "#Example-2\n",
    "\n",
    "s1=\"1234\"\n",
    "s2=\"7890\"\n",
    "print(\"The Modulo Division of s1 and s2 is\",s1%s2)"
   ]
  },
  {
   "cell_type": "code",
   "execution_count": 63,
   "id": "23d94d25",
   "metadata": {},
   "outputs": [
    {
     "ename": "TypeError",
     "evalue": "not all arguments converted during string formatting",
     "output_type": "error",
     "traceback": [
      "\u001b[1;31m---------------------------------------------------------------------------\u001b[0m",
      "\u001b[1;31mTypeError\u001b[0m                                 Traceback (most recent call last)",
      "Cell \u001b[1;32mIn[63], line 5\u001b[0m\n\u001b[0;32m      3\u001b[0m s1\u001b[38;5;241m=\u001b[39m\u001b[38;5;124m\"\u001b[39m\u001b[38;5;124mABCPOTFN12\u001b[39m\u001b[38;5;124m\"\u001b[39m\n\u001b[0;32m      4\u001b[0m s2\u001b[38;5;241m=\u001b[39m\u001b[38;5;124m\"\u001b[39m\u001b[38;5;124m78961PYTHON\u001b[39m\u001b[38;5;124m\"\u001b[39m\n\u001b[1;32m----> 5\u001b[0m \u001b[38;5;28mprint\u001b[39m(\u001b[38;5;124m\"\u001b[39m\u001b[38;5;124mThe Modulo Division of s1 and s2 is\u001b[39m\u001b[38;5;124m\"\u001b[39m,s1\u001b[38;5;241m%\u001b[39ms2)\n",
      "\u001b[1;31mTypeError\u001b[0m: not all arguments converted during string formatting"
     ]
    }
   ],
   "source": [
    "#Example-3\n",
    "\n",
    "s1=\"ABCPOTFN12\"\n",
    "s2=\"78961PYTHON\"\n",
    "print(\"The Modulo Division of s1 and s2 is\",s1%s2)"
   ]
  },
  {
   "cell_type": "code",
   "execution_count": 65,
   "id": "5c47d50d",
   "metadata": {},
   "outputs": [
    {
     "ename": "TypeError",
     "evalue": "unsupported operand type(s) for //: 'str' and 'str'",
     "output_type": "error",
     "traceback": [
      "\u001b[1;31m---------------------------------------------------------------------------\u001b[0m",
      "\u001b[1;31mTypeError\u001b[0m                                 Traceback (most recent call last)",
      "Cell \u001b[1;32mIn[65], line 6\u001b[0m\n\u001b[0;32m      4\u001b[0m s1\u001b[38;5;241m=\u001b[39m\u001b[38;5;124m\"\u001b[39m\u001b[38;5;124mPython is\u001b[39m\u001b[38;5;124m\"\u001b[39m\n\u001b[0;32m      5\u001b[0m s2\u001b[38;5;241m=\u001b[39m\u001b[38;5;124m\"\u001b[39m\u001b[38;5;124m a programming language\u001b[39m\u001b[38;5;124m\"\u001b[39m\n\u001b[1;32m----> 6\u001b[0m \u001b[38;5;28mprint\u001b[39m(\u001b[38;5;124m\"\u001b[39m\u001b[38;5;124mThe Floor Division of s1 and s2 is\u001b[39m\u001b[38;5;124m\"\u001b[39m,s1\u001b[38;5;241m/\u001b[39m\u001b[38;5;241m/\u001b[39ms2)\n",
      "\u001b[1;31mTypeError\u001b[0m: unsupported operand type(s) for //: 'str' and 'str'"
     ]
    }
   ],
   "source": [
    "#5)Floor Division(//)\n",
    "#Example-1\n",
    "\n",
    "s1=\"Python is\"\n",
    "s2=\" a programming language\"\n",
    "print(\"The Floor Division of s1 and s2 is\",s1//s2)\n",
    "\n",
    "#Type Error occured i.e., Floor Division operation can't be performed between 2 strings\n",
    "\n"
   ]
  },
  {
   "cell_type": "code",
   "execution_count": 67,
   "id": "15956973",
   "metadata": {},
   "outputs": [
    {
     "ename": "TypeError",
     "evalue": "unsupported operand type(s) for //: 'str' and 'str'",
     "output_type": "error",
     "traceback": [
      "\u001b[1;31m---------------------------------------------------------------------------\u001b[0m",
      "\u001b[1;31mTypeError\u001b[0m                                 Traceback (most recent call last)",
      "Cell \u001b[1;32mIn[67], line 5\u001b[0m\n\u001b[0;32m      3\u001b[0m s1\u001b[38;5;241m=\u001b[39m\u001b[38;5;124m\"\u001b[39m\u001b[38;5;124m1234\u001b[39m\u001b[38;5;124m\"\u001b[39m\n\u001b[0;32m      4\u001b[0m s2\u001b[38;5;241m=\u001b[39m\u001b[38;5;124m\"\u001b[39m\u001b[38;5;124m7890\u001b[39m\u001b[38;5;124m\"\u001b[39m\n\u001b[1;32m----> 5\u001b[0m \u001b[38;5;28mprint\u001b[39m(\u001b[38;5;124m\"\u001b[39m\u001b[38;5;124mThe Floor Division of s1 and s2 is\u001b[39m\u001b[38;5;124m\"\u001b[39m,s1\u001b[38;5;241m/\u001b[39m\u001b[38;5;241m/\u001b[39ms2)\n",
      "\u001b[1;31mTypeError\u001b[0m: unsupported operand type(s) for //: 'str' and 'str'"
     ]
    }
   ],
   "source": [
    "#Example-2\n",
    "\n",
    "s1=\"1234\"\n",
    "s2=\"7890\"\n",
    "print(\"The Floor Division of s1 and s2 is\",s1//s2)"
   ]
  },
  {
   "cell_type": "code",
   "execution_count": 68,
   "id": "2d17d2c6",
   "metadata": {},
   "outputs": [
    {
     "ename": "TypeError",
     "evalue": "unsupported operand type(s) for //: 'str' and 'str'",
     "output_type": "error",
     "traceback": [
      "\u001b[1;31m---------------------------------------------------------------------------\u001b[0m",
      "\u001b[1;31mTypeError\u001b[0m                                 Traceback (most recent call last)",
      "Cell \u001b[1;32mIn[68], line 5\u001b[0m\n\u001b[0;32m      3\u001b[0m s1\u001b[38;5;241m=\u001b[39m\u001b[38;5;124m\"\u001b[39m\u001b[38;5;124mABCPOTFN12\u001b[39m\u001b[38;5;124m\"\u001b[39m\n\u001b[0;32m      4\u001b[0m s2\u001b[38;5;241m=\u001b[39m\u001b[38;5;124m\"\u001b[39m\u001b[38;5;124m78961PYTHON\u001b[39m\u001b[38;5;124m\"\u001b[39m\n\u001b[1;32m----> 5\u001b[0m \u001b[38;5;28mprint\u001b[39m(\u001b[38;5;124m\"\u001b[39m\u001b[38;5;124mThe Floor Division of s1 and s2 is\u001b[39m\u001b[38;5;124m\"\u001b[39m,s1\u001b[38;5;241m/\u001b[39m\u001b[38;5;241m/\u001b[39ms2)\n",
      "\u001b[1;31mTypeError\u001b[0m: unsupported operand type(s) for //: 'str' and 'str'"
     ]
    }
   ],
   "source": [
    "#Example-3\n",
    "\n",
    "s1=\"ABCPOTFN12\"\n",
    "s2=\"78961PYTHON\"\n",
    "print(\"The Floor Division of s1 and s2 is\",s1//s2)"
   ]
  },
  {
   "cell_type": "code",
   "execution_count": 76,
   "id": "94569653",
   "metadata": {},
   "outputs": [
    {
     "name": "stdout",
     "output_type": "stream",
     "text": [
      "The repetition of s1 is 123456789123456789\n"
     ]
    }
   ],
   "source": [
    "#6)Repetition operator (*)\n",
    "#Example-1\n",
    "\n",
    "s1=\"123456789\"\n",
    "print(\"The repetition of s1 is\",s1*2)      #Here repetition opeartor is applied for 2 times ,hence s1 prints for two times"
   ]
  },
  {
   "cell_type": "code",
   "execution_count": 79,
   "id": "bd86cac2",
   "metadata": {},
   "outputs": [
    {
     "name": "stdout",
     "output_type": "stream",
     "text": [
      "The repetition of s1 is 123456789python123456789python123456789python\n"
     ]
    }
   ],
   "source": [
    "#Example-2\n",
    "\n",
    "s1=\"123456789python\"\n",
    "print(\"The repetition of s1 is\",s1*3)  #Here repetition opeartor is applied for 3 times ,hence s1 prints for three times"
   ]
  },
  {
   "cell_type": "code",
   "execution_count": 80,
   "id": "35cb7d45",
   "metadata": {},
   "outputs": [
    {
     "name": "stdout",
     "output_type": "stream",
     "text": [
      "The repetition of s1 is pythonpythonpythonpythonpythonpythonpythonpythonpythonpython\n"
     ]
    }
   ],
   "source": [
    "#Example-3\n",
    "\n",
    "s1=\"python\"\n",
    "print(\"The repetition of s1 is\",s1*10)  "
   ]
  },
  {
   "cell_type": "markdown",
   "id": "4c350001",
   "metadata": {},
   "source": [
    "**in Operator**\n",
    "- Operator is used to check whether element is existing in string or not\n",
    "- If value is there in string , True is returned else False is returned\n",
    "\n",
    "**not in operator**\n",
    "- If value is not there in string, True is returned else False is returned"
   ]
  },
  {
   "cell_type": "code",
   "execution_count": 81,
   "id": "305ac9f1",
   "metadata": {},
   "outputs": [
    {
     "data": {
      "text/plain": [
       "True"
      ]
     },
     "execution_count": 81,
     "metadata": {},
     "output_type": "execute_result"
    }
   ],
   "source": [
    "#Using in operator\n",
    "\n",
    "s=\"Python is a scripting language\"\n",
    "\"l\" in s        #In \"s\", \"l\" is there-> so True is returned "
   ]
  },
  {
   "cell_type": "code",
   "execution_count": 82,
   "id": "ac4606ed",
   "metadata": {},
   "outputs": [
    {
     "data": {
      "text/plain": [
       "False"
      ]
     },
     "execution_count": 82,
     "metadata": {},
     "output_type": "execute_result"
    }
   ],
   "source": [
    "'z' in s"
   ]
  },
  {
   "cell_type": "code",
   "execution_count": 83,
   "id": "23012ece",
   "metadata": {},
   "outputs": [
    {
     "data": {
      "text/plain": [
       "True"
      ]
     },
     "execution_count": 83,
     "metadata": {},
     "output_type": "execute_result"
    }
   ],
   "source": [
    "#Using not in operator\n",
    "\n",
    "s=\"Python is a scripting language\"\n",
    "\"z\" not in s        #Since \"z\" is not there in s, True is returned\n"
   ]
  },
  {
   "cell_type": "code",
   "execution_count": 84,
   "id": "346f194f",
   "metadata": {},
   "outputs": [
    {
     "data": {
      "text/plain": [
       "False"
      ]
     },
     "execution_count": 84,
     "metadata": {},
     "output_type": "execute_result"
    }
   ],
   "source": [
    "\"p\" not in s"
   ]
  },
  {
   "cell_type": "markdown",
   "id": "9776b631",
   "metadata": {},
   "source": [
    "**Indexing**\n",
    "- It is used to get individual value/character from a list\n",
    "- It is represented by str[Index]"
   ]
  },
  {
   "cell_type": "code",
   "execution_count": 85,
   "id": "682c9ed1",
   "metadata": {},
   "outputs": [],
   "source": [
    "s=\"Python is a scripting language\""
   ]
  },
  {
   "cell_type": "code",
   "execution_count": null,
   "id": "09d25ca1",
   "metadata": {},
   "outputs": [],
   "source": [
    "\n",
    "-30-29 -28 -27 -26 -25 -24 -23 -22 -21 -20 -19 -18 -17 -16 -15 -14 -13 -12 -11 -10 -9   -8  -7 -6 -5 -4 -3 -2  -1\n",
    "P   y  t   h   o   n       i   s        a       s   c    r   i   p   t   i   n  g        l   a  n  g  u  a  g  e\n",
    "0   1  2   3   4   5   6   7   8    9   10  11  12  13  14  15  16  17  18  19 20   21  22  23  24 25 26 27 28 30"
   ]
  },
  {
   "cell_type": "code",
   "execution_count": 86,
   "id": "65df4a0c",
   "metadata": {},
   "outputs": [
    {
     "data": {
      "text/plain": [
       "'o'"
      ]
     },
     "execution_count": 86,
     "metadata": {},
     "output_type": "execute_result"
    }
   ],
   "source": [
    "#To get value of 4th index\n",
    "s[4]"
   ]
  },
  {
   "cell_type": "code",
   "execution_count": 87,
   "id": "4fe97aeb",
   "metadata": {},
   "outputs": [
    {
     "data": {
      "text/plain": [
       "'g'"
      ]
     },
     "execution_count": 87,
     "metadata": {},
     "output_type": "execute_result"
    }
   ],
   "source": [
    "s[20]"
   ]
  },
  {
   "cell_type": "code",
   "execution_count": 99,
   "id": "d8002cef",
   "metadata": {},
   "outputs": [
    {
     "data": {
      "text/plain": [
       "'g'"
      ]
     },
     "execution_count": 99,
     "metadata": {},
     "output_type": "execute_result"
    }
   ],
   "source": [
    "s[-5]"
   ]
  },
  {
   "cell_type": "code",
   "execution_count": 101,
   "id": "c5cee52d",
   "metadata": {},
   "outputs": [
    {
     "data": {
      "text/plain": [
       "'n'"
      ]
     },
     "execution_count": 101,
     "metadata": {},
     "output_type": "execute_result"
    }
   ],
   "source": [
    "s[-11]"
   ]
  },
  {
   "cell_type": "code",
   "execution_count": 127,
   "id": "f7916e69",
   "metadata": {},
   "outputs": [
    {
     "data": {
      "text/plain": [
       "'y'"
      ]
     },
     "execution_count": 127,
     "metadata": {},
     "output_type": "execute_result"
    }
   ],
   "source": [
    "s[True]      #Here True is taken as 1"
   ]
  },
  {
   "cell_type": "code",
   "execution_count": 128,
   "id": "47f15ae6",
   "metadata": {},
   "outputs": [
    {
     "data": {
      "text/plain": [
       "'P'"
      ]
     },
     "execution_count": 128,
     "metadata": {},
     "output_type": "execute_result"
    }
   ],
   "source": [
    "s[False]      #Here False is taken as 0"
   ]
  },
  {
   "cell_type": "code",
   "execution_count": 129,
   "id": "f7178d54",
   "metadata": {},
   "outputs": [
    {
     "ename": "TypeError",
     "evalue": "string indices must be integers, not 'float'",
     "output_type": "error",
     "traceback": [
      "\u001b[1;31m---------------------------------------------------------------------------\u001b[0m",
      "\u001b[1;31mTypeError\u001b[0m                                 Traceback (most recent call last)",
      "Cell \u001b[1;32mIn[129], line 1\u001b[0m\n\u001b[1;32m----> 1\u001b[0m s[\u001b[38;5;28;01mFalse\u001b[39;00m\u001b[38;5;241m/\u001b[39m\u001b[38;5;28;01mTrue\u001b[39;00m]\n",
      "\u001b[1;31mTypeError\u001b[0m: string indices must be integers, not 'float'"
     ]
    }
   ],
   "source": [
    "s[False/True]    #So 0/1 --> Type error is returned "
   ]
  },
  {
   "cell_type": "code",
   "execution_count": 94,
   "id": "c0199750",
   "metadata": {},
   "outputs": [
    {
     "name": "stdout",
     "output_type": "stream",
     "text": [
      "ELements in s are P\n",
      "ELements in s are y\n",
      "ELements in s are t\n",
      "ELements in s are h\n",
      "ELements in s are o\n",
      "ELements in s are n\n",
      "ELements in s are  \n",
      "ELements in s are i\n",
      "ELements in s are s\n",
      "ELements in s are  \n",
      "ELements in s are a\n",
      "ELements in s are  \n",
      "ELements in s are s\n",
      "ELements in s are c\n",
      "ELements in s are r\n",
      "ELements in s are i\n",
      "ELements in s are p\n",
      "ELements in s are t\n",
      "ELements in s are i\n",
      "ELements in s are n\n",
      "ELements in s are g\n",
      "ELements in s are  \n",
      "ELements in s are l\n",
      "ELements in s are a\n",
      "ELements in s are n\n",
      "ELements in s are g\n",
      "ELements in s are u\n",
      "ELements in s are a\n",
      "ELements in s are g\n",
      "ELements in s are e\n"
     ]
    }
   ],
   "source": [
    "#using for loop \n",
    "for i in range(len(s)):\n",
    "    print(\"ELements in s are\",s[i])"
   ]
  },
  {
   "cell_type": "code",
   "execution_count": 98,
   "id": "2c6dffd6",
   "metadata": {},
   "outputs": [
    {
     "name": "stdout",
     "output_type": "stream",
     "text": [
      "P\n",
      "y\n",
      "t\n",
      "h\n",
      "o\n",
      "n\n",
      " \n",
      "i\n",
      "s\n",
      " \n",
      "a\n",
      " \n",
      "s\n",
      "c\n",
      "r\n",
      "i\n",
      "p\n",
      "t\n",
      "i\n",
      "n\n",
      "g\n",
      " \n",
      "l\n",
      "a\n",
      "n\n",
      "g\n",
      "u\n",
      "a\n",
      "g\n",
      "e\n"
     ]
    },
    {
     "ename": "IndexError",
     "evalue": "string index out of range",
     "output_type": "error",
     "traceback": [
      "\u001b[1;31m---------------------------------------------------------------------------\u001b[0m",
      "\u001b[1;31mIndexError\u001b[0m                                Traceback (most recent call last)",
      "Cell \u001b[1;32mIn[98], line 5\u001b[0m\n\u001b[0;32m      3\u001b[0m s\u001b[38;5;241m=\u001b[39m\u001b[38;5;124m\"\u001b[39m\u001b[38;5;124mPython is a scripting language\u001b[39m\u001b[38;5;124m\"\u001b[39m\n\u001b[0;32m      4\u001b[0m \u001b[38;5;28;01mfor\u001b[39;00m i \u001b[38;5;129;01min\u001b[39;00m \u001b[38;5;28mrange\u001b[39m(\u001b[38;5;241m31\u001b[39m):\n\u001b[1;32m----> 5\u001b[0m     \u001b[38;5;28mprint\u001b[39m(s[i])\n",
      "\u001b[1;31mIndexError\u001b[0m: string index out of range"
     ]
    }
   ],
   "source": [
    "#for loop\n",
    "\n",
    "s=\"Python is a scripting language\"\n",
    "for i in range(31):\n",
    "    print(s[i])\n",
    "    \n",
    "#Index error is occured because length of 's' is 30"
   ]
  },
  {
   "cell_type": "code",
   "execution_count": 102,
   "id": "5a68a05d",
   "metadata": {},
   "outputs": [
    {
     "name": "stdout",
     "output_type": "stream",
     "text": [
      "Positive index of P is 0\n",
      "Positive index of y is 1\n",
      "Positive index of t is 2\n",
      "Positive index of h is 3\n",
      "Positive index of o is 4\n",
      "Positive index of n is 5\n",
      "Positive index of   is 6\n",
      "Positive index of i is 7\n",
      "Positive index of s is 8\n",
      "Positive index of   is 9\n",
      "Positive index of a is 10\n",
      "Positive index of   is 11\n",
      "Positive index of s is 12\n",
      "Positive index of c is 13\n",
      "Positive index of r is 14\n",
      "Positive index of i is 15\n",
      "Positive index of p is 16\n",
      "Positive index of t is 17\n",
      "Positive index of i is 18\n",
      "Positive index of n is 19\n",
      "Positive index of g is 20\n",
      "Positive index of   is 21\n",
      "Positive index of l is 22\n",
      "Positive index of a is 23\n",
      "Positive index of n is 24\n",
      "Positive index of g is 25\n",
      "Positive index of u is 26\n",
      "Positive index of a is 27\n",
      "Positive index of g is 28\n",
      "Positive index of e is 29\n"
     ]
    }
   ],
   "source": [
    "#To print the Positive index of \"s\" using for loop\n",
    "\n",
    "s=\"Python is a scripting language\"\n",
    "for i in range(len(s)):\n",
    "    print(\"Positive index of {} is {}\".format(s[i],i))"
   ]
  },
  {
   "cell_type": "code",
   "execution_count": 108,
   "id": "06c18f9f",
   "metadata": {},
   "outputs": [
    {
     "name": "stdout",
     "output_type": "stream",
     "text": [
      "Positive index of P is 0\n",
      "Positive index of y is 1\n",
      "Positive index of t is 2\n",
      "Positive index of h is 3\n",
      "Positive index of o is 4\n",
      "Positive index of n is 5\n",
      "Positive index of   is 6\n",
      "Positive index of i is 7\n",
      "Positive index of s is 8\n",
      "Positive index of   is 9\n",
      "Positive index of a is 10\n",
      "Positive index of   is 11\n",
      "Positive index of s is 12\n",
      "Positive index of c is 13\n",
      "Positive index of r is 14\n",
      "Positive index of i is 15\n",
      "Positive index of p is 16\n",
      "Positive index of t is 17\n",
      "Positive index of i is 18\n",
      "Positive index of n is 19\n",
      "Positive index of g is 20\n",
      "Positive index of   is 21\n",
      "Positive index of l is 22\n",
      "Positive index of a is 23\n",
      "Positive index of n is 24\n",
      "Positive index of g is 25\n",
      "Positive index of u is 26\n",
      "Positive index of a is 27\n",
      "Positive index of g is 28\n",
      "Positive index of e is 29\n"
     ]
    }
   ],
   "source": [
    "#To print the Positive index of s using while loop\n",
    " \n",
    "s=\"Python is a scripting language\"\n",
    "i=0\n",
    "while(i<len(s)):\n",
    "    print(\"Positive index of {} is {}\".format(s[i],i))\n",
    "    i=i+1"
   ]
  },
  {
   "cell_type": "code",
   "execution_count": 112,
   "id": "9788eba5",
   "metadata": {},
   "outputs": [
    {
     "name": "stdout",
     "output_type": "stream",
     "text": [
      "Positive index of P is -30\n",
      "Positive index of y is -29\n",
      "Positive index of t is -28\n",
      "Positive index of h is -27\n",
      "Positive index of o is -26\n",
      "Positive index of n is -25\n",
      "Positive index of   is -24\n",
      "Positive index of i is -23\n",
      "Positive index of s is -22\n",
      "Positive index of   is -21\n",
      "Positive index of a is -20\n",
      "Positive index of   is -19\n",
      "Positive index of s is -18\n",
      "Positive index of c is -17\n",
      "Positive index of r is -16\n",
      "Positive index of i is -15\n",
      "Positive index of p is -14\n",
      "Positive index of t is -13\n",
      "Positive index of i is -12\n",
      "Positive index of n is -11\n",
      "Positive index of g is -10\n",
      "Positive index of   is -9\n",
      "Positive index of l is -8\n",
      "Positive index of a is -7\n",
      "Positive index of n is -6\n",
      "Positive index of g is -5\n",
      "Positive index of u is -4\n",
      "Positive index of a is -3\n",
      "Positive index of g is -2\n",
      "Positive index of e is -1\n"
     ]
    }
   ],
   "source": [
    "#To print the Negative index of \"s\" using for loop\n",
    "\n",
    "s=\"Python is a scripting language\"\n",
    "for i in range(len(s)):\n",
    "    print(\"Positive index of {} is {}\".format(s[i],i-len(s)))"
   ]
  },
  {
   "cell_type": "code",
   "execution_count": 122,
   "id": "bd30460e",
   "metadata": {},
   "outputs": [
    {
     "name": "stdout",
     "output_type": "stream",
     "text": [
      "Positive index of P is -30\n",
      "Positive index of y is -29\n",
      "Positive index of t is -28\n",
      "Positive index of h is -27\n",
      "Positive index of o is -26\n",
      "Positive index of n is -25\n",
      "Positive index of   is -24\n",
      "Positive index of i is -23\n",
      "Positive index of s is -22\n",
      "Positive index of   is -21\n",
      "Positive index of a is -20\n",
      "Positive index of   is -19\n",
      "Positive index of s is -18\n",
      "Positive index of c is -17\n",
      "Positive index of r is -16\n",
      "Positive index of i is -15\n",
      "Positive index of p is -14\n",
      "Positive index of t is -13\n",
      "Positive index of i is -12\n",
      "Positive index of n is -11\n",
      "Positive index of g is -10\n",
      "Positive index of   is -9\n",
      "Positive index of l is -8\n",
      "Positive index of a is -7\n",
      "Positive index of n is -6\n",
      "Positive index of g is -5\n",
      "Positive index of u is -4\n",
      "Positive index of a is -3\n",
      "Positive index of g is -2\n",
      "Positive index of e is -1\n"
     ]
    }
   ],
   "source": [
    "#To print the Negative index of \"s\" using while loop\n",
    "\n",
    "s=\"Python is a scripting language\"\n",
    "i=-len(s)\n",
    "while i<0:\n",
    "    print(\"Positive index of {} is {}\".format(s[i],i))\n",
    "    i=i+1"
   ]
  },
  {
   "cell_type": "code",
   "execution_count": 126,
   "id": "77d18920",
   "metadata": {},
   "outputs": [
    {
     "name": "stdout",
     "output_type": "stream",
     "text": [
      "Positive index is 0 and negative index is -30 for P\n",
      "Positive index is 1 and negative index is -29 for y\n",
      "Positive index is 2 and negative index is -28 for t\n",
      "Positive index is 3 and negative index is -27 for h\n",
      "Positive index is 4 and negative index is -26 for o\n",
      "Positive index is 5 and negative index is -25 for n\n",
      "Positive index is 6 and negative index is -24 for  \n",
      "Positive index is 7 and negative index is -23 for i\n",
      "Positive index is 8 and negative index is -22 for s\n",
      "Positive index is 9 and negative index is -21 for  \n",
      "Positive index is 10 and negative index is -20 for a\n",
      "Positive index is 11 and negative index is -19 for  \n",
      "Positive index is 12 and negative index is -18 for s\n",
      "Positive index is 13 and negative index is -17 for c\n",
      "Positive index is 14 and negative index is -16 for r\n",
      "Positive index is 15 and negative index is -15 for i\n",
      "Positive index is 16 and negative index is -14 for p\n",
      "Positive index is 17 and negative index is -13 for t\n",
      "Positive index is 18 and negative index is -12 for i\n",
      "Positive index is 19 and negative index is -11 for n\n",
      "Positive index is 20 and negative index is -10 for g\n",
      "Positive index is 21 and negative index is -9 for  \n",
      "Positive index is 22 and negative index is -8 for l\n",
      "Positive index is 23 and negative index is -7 for a\n",
      "Positive index is 24 and negative index is -6 for n\n",
      "Positive index is 25 and negative index is -5 for g\n",
      "Positive index is 26 and negative index is -4 for u\n",
      "Positive index is 27 and negative index is -3 for a\n",
      "Positive index is 28 and negative index is -2 for g\n",
      "Positive index is 29 and negative index is -1 for e\n"
     ]
    }
   ],
   "source": [
    "#To print Positive & Negative index of same value at a time\n",
    "\n",
    "s=\"Python is a scripting language\"\n",
    "for i in range(len(s)):\n",
    "    print(\"Positive index is {} and negative index is {} for {}\".format(i,i-len(s),s[i]))"
   ]
  },
  {
   "cell_type": "markdown",
   "id": "c1618bfb",
   "metadata": {},
   "source": [
    "**Slicing**\n",
    "- It is used to get the substring from the main string\n",
    "\n",
    "- It is represented by str[Begin:End] or str[Begin:End:Step=Positive] or str[Begin:End:Step=Negative]\n",
    "  or str[Begin :] or str[:End] or str[::]\n",
    "  \n",
    "- In str[Begin:End] or str[Begin :] or str[:End] -->Since step is not mentioned , by default it is taken as positive and End is end-1\n",
    "\n",
    "- In str[Begin:End:Step=Positive] --> Here step is positive, End=End-1 and Slicing takes place in positive direction\n",
    "\n",
    "- In str[Begin:End:Step=Negative] --> Here step is Negative, End=End+1 and Slicing takes place in negative direction\n"
   ]
  },
  {
   "cell_type": "code",
   "execution_count": 130,
   "id": "1d3077fa",
   "metadata": {},
   "outputs": [],
   "source": [
    "s=\"Python is a scripting language\""
   ]
  },
  {
   "cell_type": "code",
   "execution_count": 131,
   "id": "f31563f5",
   "metadata": {},
   "outputs": [
    {
     "data": {
      "text/plain": [
       "'ython is a scr'"
      ]
     },
     "execution_count": 131,
     "metadata": {},
     "output_type": "execute_result"
    }
   ],
   "source": [
    "#Here Begin & end indices are specifed\n",
    "#Method-1\n",
    "\n",
    "s[1:15]        #Begin index is 1 , End= end-1(15-1=14) &  string traverse in positive direction"
   ]
  },
  {
   "cell_type": "code",
   "execution_count": 133,
   "id": "607e763b",
   "metadata": {},
   "outputs": [
    {
     "data": {
      "text/plain": [
       "'pting languag'"
      ]
     },
     "execution_count": 133,
     "metadata": {},
     "output_type": "execute_result"
    }
   ],
   "source": [
    "s[16:29]"
   ]
  },
  {
   "cell_type": "code",
   "execution_count": 134,
   "id": "207f5149",
   "metadata": {},
   "outputs": [
    {
     "data": {
      "text/plain": [
       "'Python is a scripting language'"
      ]
     },
     "execution_count": 134,
     "metadata": {},
     "output_type": "execute_result"
    }
   ],
   "source": [
    "#Only Begin is specifed\n",
    "#Method-2\n",
    "\n",
    "s[0:]    #Starting index is 0 , since end is not specifed(it takes whole length of a string) & string traverse in positive direction"
   ]
  },
  {
   "cell_type": "code",
   "execution_count": 135,
   "id": "9da3db72",
   "metadata": {},
   "outputs": [
    {
     "data": {
      "text/plain": [
       "'scripting language'"
      ]
     },
     "execution_count": 135,
     "metadata": {},
     "output_type": "execute_result"
    }
   ],
   "source": [
    "s[12:]"
   ]
  },
  {
   "cell_type": "code",
   "execution_count": 139,
   "id": "93b01316",
   "metadata": {},
   "outputs": [
    {
     "data": {
      "text/plain": [
       "'Python is a'"
      ]
     },
     "execution_count": 139,
     "metadata": {},
     "output_type": "execute_result"
    }
   ],
   "source": [
    "#only End is specified\n",
    "#Method-3\n",
    "\n",
    "s[:11]   #End index is specified, since Begin index is not mentioned(take 0 as start value)"
   ]
  },
  {
   "cell_type": "code",
   "execution_count": 140,
   "id": "b42710d0",
   "metadata": {},
   "outputs": [
    {
     "data": {
      "text/plain": [
       "'Python is a scripting language'"
      ]
     },
     "execution_count": 140,
     "metadata": {},
     "output_type": "execute_result"
    }
   ],
   "source": [
    "s[:30]     #End index is 30, begin is taken as 0 hence whole string is printed"
   ]
  },
  {
   "cell_type": "code",
   "execution_count": 141,
   "id": "cdac8758",
   "metadata": {},
   "outputs": [
    {
     "data": {
      "text/plain": [
       "'thon is a scriptin'"
      ]
     },
     "execution_count": 141,
     "metadata": {},
     "output_type": "execute_result"
    }
   ],
   "source": [
    "#Begin,End, Step is positive\n",
    "#Method-4\n",
    "\n",
    "s[2:20:1]     #Begin index is 2, End index is 20(20-1=19) & Step=1 (string traverse in positive direction)"
   ]
  },
  {
   "cell_type": "code",
   "execution_count": 142,
   "id": "5bd47c40",
   "metadata": {},
   "outputs": [
    {
     "data": {
      "text/plain": [
       "'to sasrpi'"
      ]
     },
     "execution_count": 142,
     "metadata": {},
     "output_type": "execute_result"
    }
   ],
   "source": [
    "#Begin,End, Step is positive\n",
    "\n",
    "s[2:20:2]     #Begin index is 2, End index is 20(20-1=19) & Step=2 (string traverse in positive direction by leaving 2 values )"
   ]
  },
  {
   "cell_type": "code",
   "execution_count": 143,
   "id": "6f02c6cc",
   "metadata": {},
   "outputs": [
    {
     "data": {
      "text/plain": [
       "''"
      ]
     },
     "execution_count": 143,
     "metadata": {},
     "output_type": "execute_result"
    }
   ],
   "source": [
    "#\n",
    "\n",
    "s[20:2:1]   #Begin index=20, end=2-1=1, step=1 (string traverse in positive direction)\n",
    "          #But Begin is 20 (Values beyond 20th index can be printed but question is to print upto index 2 which is impossible,hence no answer is displayed)"
   ]
  },
  {
   "cell_type": "code",
   "execution_count": 144,
   "id": "95f7c377",
   "metadata": {},
   "outputs": [
    {
     "data": {
      "text/plain": [
       "''"
      ]
     },
     "execution_count": 144,
     "metadata": {},
     "output_type": "execute_result"
    }
   ],
   "source": [
    "s[20:5:3]"
   ]
  },
  {
   "cell_type": "code",
   "execution_count": 146,
   "id": "4327fa55",
   "metadata": {},
   "outputs": [
    {
     "data": {
      "text/plain": [
       "'gnitpircs a si noh'"
      ]
     },
     "execution_count": 146,
     "metadata": {},
     "output_type": "execute_result"
    }
   ],
   "source": [
    "#Begin,End,Step->Negative\n",
    "#Method-5\n",
    "\n",
    "s[20:2:-1]   #begin=20 , end=2+1=3 (Since step is negative)-->String traverse in negative direction"
   ]
  },
  {
   "cell_type": "code",
   "execution_count": 147,
   "id": "2de8c3fa",
   "metadata": {},
   "outputs": [
    {
     "data": {
      "text/plain": [
       "'giprsas'"
      ]
     },
     "execution_count": 147,
     "metadata": {},
     "output_type": "execute_result"
    }
   ],
   "source": [
    "s[20:6:-2]"
   ]
  },
  {
   "cell_type": "code",
   "execution_count": 148,
   "id": "933f62e4",
   "metadata": {},
   "outputs": [
    {
     "data": {
      "text/plain": [
       "''"
      ]
     },
     "execution_count": 148,
     "metadata": {},
     "output_type": "execute_result"
    }
   ],
   "source": [
    "s[2:20:-1] #begin =2, end=20+1=21 , Since string traverse in negative direction printing upto 21 is impossible. Hence no answer is displayed"
   ]
  },
  {
   "cell_type": "code",
   "execution_count": 149,
   "id": "85dcc49e",
   "metadata": {},
   "outputs": [
    {
     "data": {
      "text/plain": [
       "''"
      ]
     },
     "execution_count": 149,
     "metadata": {},
     "output_type": "execute_result"
    }
   ],
   "source": [
    "s[6:20:-3]"
   ]
  },
  {
   "cell_type": "code",
   "execution_count": 150,
   "id": "0de5b92e",
   "metadata": {},
   "outputs": [
    {
     "data": {
      "text/plain": [
       "'Python is a scripting language'"
      ]
     },
     "execution_count": 150,
     "metadata": {},
     "output_type": "execute_result"
    }
   ],
   "source": [
    "#No begin ,end &step is specified\n",
    "#Method-6\n",
    "\n",
    "s[::]   #Entire string is printed"
   ]
  },
  {
   "cell_type": "code",
   "execution_count": 151,
   "id": "6571bf24",
   "metadata": {},
   "outputs": [
    {
     "data": {
      "text/plain": [
       "'Python is a scripting language'"
      ]
     },
     "execution_count": 151,
     "metadata": {},
     "output_type": "execute_result"
    }
   ],
   "source": [
    "#Different ways to print string using slicing\n",
    "#Method-1\n",
    "s[0:]"
   ]
  },
  {
   "cell_type": "code",
   "execution_count": 152,
   "id": "84f98a68",
   "metadata": {},
   "outputs": [
    {
     "data": {
      "text/plain": [
       "'Python is a scripting language'"
      ]
     },
     "execution_count": 152,
     "metadata": {},
     "output_type": "execute_result"
    }
   ],
   "source": [
    "#Method-2\n",
    "s[:]"
   ]
  },
  {
   "cell_type": "code",
   "execution_count": 153,
   "id": "c5ec5703",
   "metadata": {},
   "outputs": [
    {
     "data": {
      "text/plain": [
       "'Python is a scripting language'"
      ]
     },
     "execution_count": 153,
     "metadata": {},
     "output_type": "execute_result"
    }
   ],
   "source": [
    "#Method-3\n",
    "s[:30]"
   ]
  },
  {
   "cell_type": "code",
   "execution_count": 154,
   "id": "1600ca81",
   "metadata": {},
   "outputs": [
    {
     "data": {
      "text/plain": [
       "'Python is a scripting language'"
      ]
     },
     "execution_count": 154,
     "metadata": {},
     "output_type": "execute_result"
    }
   ],
   "source": [
    "#Method-4\n",
    "s[::]"
   ]
  },
  {
   "cell_type": "code",
   "execution_count": 155,
   "id": "a0f08fa8",
   "metadata": {},
   "outputs": [
    {
     "data": {
      "text/plain": [
       "'Python is a scripting language'"
      ]
     },
     "execution_count": 155,
     "metadata": {},
     "output_type": "execute_result"
    }
   ],
   "source": [
    "#Method-5\n",
    "s[0:30:1]"
   ]
  },
  {
   "cell_type": "code",
   "execution_count": 156,
   "id": "f52fea8a",
   "metadata": {},
   "outputs": [
    {
     "data": {
      "text/plain": [
       "'Python is a scripting language'"
      ]
     },
     "execution_count": 156,
     "metadata": {},
     "output_type": "execute_result"
    }
   ],
   "source": [
    "#Method-6\n",
    "s[:30:]"
   ]
  },
  {
   "cell_type": "code",
   "execution_count": 157,
   "id": "3813d139",
   "metadata": {},
   "outputs": [
    {
     "data": {
      "text/plain": [
       "'egaugnal gnitpircs a si nohtyP'"
      ]
     },
     "execution_count": 157,
     "metadata": {},
     "output_type": "execute_result"
    }
   ],
   "source": [
    "#To print the reverse of a string\n",
    "\n",
    "s=\"Python is a scripting language\"\n",
    "s[::-1]       #prints the reverse of \"s\""
   ]
  },
  {
   "cell_type": "markdown",
   "id": "08f8c47e",
   "metadata": {},
   "source": [
    "**Mutable**\n",
    "- Which allows to change the value\n",
    "example-- s=[10,20 ==> s[0]=30, print(s)==>[30,20]. Hence \"s\" is mutable\n",
    "- Lists are Mutable\n",
    "\n",
    "**Immutable**\n",
    "- where item assignment is not possible (i.e., can't assign value or change the value)\n",
    "example-- s=(10,20) ==> s[0]=30 , print(s)==> Error - Item assignment is not possible (Since tuple is immutable) \n",
    "- Tuple, Strings are Immutable"
   ]
  },
  {
   "cell_type": "code",
   "execution_count": 158,
   "id": "6a2c526f",
   "metadata": {},
   "outputs": [],
   "source": [
    "s=\"Python is a scripting language\""
   ]
  },
  {
   "cell_type": "code",
   "execution_count": 159,
   "id": "21533a68",
   "metadata": {},
   "outputs": [
    {
     "ename": "TypeError",
     "evalue": "'str' object does not support item assignment",
     "output_type": "error",
     "traceback": [
      "\u001b[1;31m---------------------------------------------------------------------------\u001b[0m",
      "\u001b[1;31mTypeError\u001b[0m                                 Traceback (most recent call last)",
      "Cell \u001b[1;32mIn[159], line 1\u001b[0m\n\u001b[1;32m----> 1\u001b[0m s[\u001b[38;5;241m3\u001b[39m]\u001b[38;5;241m=\u001b[39m\u001b[38;5;124m\"\u001b[39m\u001b[38;5;124mH\u001b[39m\u001b[38;5;124m\"\u001b[39m\n",
      "\u001b[1;31mTypeError\u001b[0m: 'str' object does not support item assignment"
     ]
    }
   ],
   "source": [
    "s[3]=\"H\"      #Type error is returned.\n",
    "              #String don't allow to assign a value\n",
    "              #Strings are Immutable"
   ]
  },
  {
   "cell_type": "code",
   "execution_count": 160,
   "id": "4cf50959",
   "metadata": {},
   "outputs": [
    {
     "ename": "TypeError",
     "evalue": "'str' object does not support item assignment",
     "output_type": "error",
     "traceback": [
      "\u001b[1;31m---------------------------------------------------------------------------\u001b[0m",
      "\u001b[1;31mTypeError\u001b[0m                                 Traceback (most recent call last)",
      "Cell \u001b[1;32mIn[160], line 1\u001b[0m\n\u001b[1;32m----> 1\u001b[0m s[\u001b[38;5;241m-\u001b[39m\u001b[38;5;241m5\u001b[39m]\u001b[38;5;241m=\u001b[39m\u001b[38;5;124m\"\u001b[39m\u001b[38;5;124mG\u001b[39m\u001b[38;5;124m\"\u001b[39m\n",
      "\u001b[1;31mTypeError\u001b[0m: 'str' object does not support item assignment"
     ]
    }
   ],
   "source": [
    "s[-5]=\"G\""
   ]
  },
  {
   "cell_type": "markdown",
   "id": "07bcdbc7",
   "metadata": {},
   "source": [
    "**String Methods**"
   ]
  },
  {
   "cell_type": "code",
   "execution_count": 161,
   "id": "ec9fc8cb",
   "metadata": {},
   "outputs": [],
   "source": [
    "s=\"Python is a scripting language\""
   ]
  },
  {
   "cell_type": "code",
   "execution_count": 162,
   "id": "b081ca70",
   "metadata": {},
   "outputs": [
    {
     "data": {
      "text/plain": [
       "['__add__',\n",
       " '__class__',\n",
       " '__contains__',\n",
       " '__delattr__',\n",
       " '__dir__',\n",
       " '__doc__',\n",
       " '__eq__',\n",
       " '__format__',\n",
       " '__ge__',\n",
       " '__getattribute__',\n",
       " '__getitem__',\n",
       " '__getnewargs__',\n",
       " '__getstate__',\n",
       " '__gt__',\n",
       " '__hash__',\n",
       " '__init__',\n",
       " '__init_subclass__',\n",
       " '__iter__',\n",
       " '__le__',\n",
       " '__len__',\n",
       " '__lt__',\n",
       " '__mod__',\n",
       " '__mul__',\n",
       " '__ne__',\n",
       " '__new__',\n",
       " '__reduce__',\n",
       " '__reduce_ex__',\n",
       " '__repr__',\n",
       " '__rmod__',\n",
       " '__rmul__',\n",
       " '__setattr__',\n",
       " '__sizeof__',\n",
       " '__str__',\n",
       " '__subclasshook__',\n",
       " 'capitalize',\n",
       " 'casefold',\n",
       " 'center',\n",
       " 'count',\n",
       " 'encode',\n",
       " 'endswith',\n",
       " 'expandtabs',\n",
       " 'find',\n",
       " 'format',\n",
       " 'format_map',\n",
       " 'index',\n",
       " 'isalnum',\n",
       " 'isalpha',\n",
       " 'isascii',\n",
       " 'isdecimal',\n",
       " 'isdigit',\n",
       " 'isidentifier',\n",
       " 'islower',\n",
       " 'isnumeric',\n",
       " 'isprintable',\n",
       " 'isspace',\n",
       " 'istitle',\n",
       " 'isupper',\n",
       " 'join',\n",
       " 'ljust',\n",
       " 'lower',\n",
       " 'lstrip',\n",
       " 'maketrans',\n",
       " 'partition',\n",
       " 'removeprefix',\n",
       " 'removesuffix',\n",
       " 'replace',\n",
       " 'rfind',\n",
       " 'rindex',\n",
       " 'rjust',\n",
       " 'rpartition',\n",
       " 'rsplit',\n",
       " 'rstrip',\n",
       " 'split',\n",
       " 'splitlines',\n",
       " 'startswith',\n",
       " 'strip',\n",
       " 'swapcase',\n",
       " 'title',\n",
       " 'translate',\n",
       " 'upper',\n",
       " 'zfill']"
      ]
     },
     "execution_count": 162,
     "metadata": {},
     "output_type": "execute_result"
    }
   ],
   "source": [
    "#To find the methods available in strings use dir(string_name)\n",
    "dir(s)"
   ]
  },
  {
   "cell_type": "markdown",
   "id": "323144c5",
   "metadata": {},
   "source": [
    "1)**capitalize()**\n",
    "- This function is used to convert the first value in a string into capital letter"
   ]
  },
  {
   "cell_type": "code",
   "execution_count": 164,
   "id": "7e8ab54a",
   "metadata": {},
   "outputs": [
    {
     "data": {
      "text/plain": [
       "'Python is a scripting language'"
      ]
     },
     "execution_count": 164,
     "metadata": {},
     "output_type": "execute_result"
    }
   ],
   "source": [
    "s=\"python is a scripting language\"\n",
    "s.capitalize()"
   ]
  },
  {
   "cell_type": "code",
   "execution_count": 165,
   "id": "8b077381",
   "metadata": {},
   "outputs": [
    {
     "data": {
      "text/plain": [
       "'Python'"
      ]
     },
     "execution_count": 165,
     "metadata": {},
     "output_type": "execute_result"
    }
   ],
   "source": [
    "s=\"pYtHoN\"\n",
    "s.capitalize()"
   ]
  },
  {
   "cell_type": "markdown",
   "id": "26b1c6c8",
   "metadata": {},
   "source": [
    "2)**upper()**\n",
    "- This function is used to convert each charcter in a string into capital letter (if it is in lower case)"
   ]
  },
  {
   "cell_type": "code",
   "execution_count": 166,
   "id": "0cd6f673",
   "metadata": {},
   "outputs": [
    {
     "data": {
      "text/plain": [
       "'PYTHON'"
      ]
     },
     "execution_count": 166,
     "metadata": {},
     "output_type": "execute_result"
    }
   ],
   "source": [
    "s=\"python\"\n",
    "s.upper()"
   ]
  },
  {
   "cell_type": "code",
   "execution_count": 167,
   "id": "19596f8c",
   "metadata": {},
   "outputs": [
    {
     "data": {
      "text/plain": [
       "'PYTHON IS A SCRIPTING LANGUAGE'"
      ]
     },
     "execution_count": 167,
     "metadata": {},
     "output_type": "execute_result"
    }
   ],
   "source": [
    "s=\"python is a scripting language\"\n",
    "s.upper()"
   ]
  },
  {
   "cell_type": "markdown",
   "id": "90fa1631",
   "metadata": {},
   "source": [
    "3)**lower()**\n",
    "- This function is used to convert each character in a string into lower case"
   ]
  },
  {
   "cell_type": "code",
   "execution_count": 168,
   "id": "07234d60",
   "metadata": {},
   "outputs": [
    {
     "data": {
      "text/plain": [
       "'python'"
      ]
     },
     "execution_count": 168,
     "metadata": {},
     "output_type": "execute_result"
    }
   ],
   "source": [
    "s=\"PYTHON\"\n",
    "s.lower()"
   ]
  },
  {
   "cell_type": "code",
   "execution_count": 169,
   "id": "32ce42c7",
   "metadata": {},
   "outputs": [
    {
     "data": {
      "text/plain": [
       "'python is a scripting language'"
      ]
     },
     "execution_count": 169,
     "metadata": {},
     "output_type": "execute_result"
    }
   ],
   "source": [
    "s=\"PYTHON IS A SCRIPTING LANGUAGE\"\n",
    "s.lower()"
   ]
  },
  {
   "cell_type": "markdown",
   "id": "c3f9b2db",
   "metadata": {},
   "source": [
    "4)**isupper()**\n",
    "- This function is used to check whether given string is in upper case or not\n",
    "- If it is in upper case, True is returned else False is returned\n"
   ]
  },
  {
   "cell_type": "code",
   "execution_count": 171,
   "id": "0bdf1b15",
   "metadata": {},
   "outputs": [
    {
     "data": {
      "text/plain": [
       "False"
      ]
     },
     "execution_count": 171,
     "metadata": {},
     "output_type": "execute_result"
    }
   ],
   "source": [
    "s=\"Python\"\n",
    "s.isupper()"
   ]
  },
  {
   "cell_type": "code",
   "execution_count": 172,
   "id": "67482c33",
   "metadata": {},
   "outputs": [
    {
     "data": {
      "text/plain": [
       "True"
      ]
     },
     "execution_count": 172,
     "metadata": {},
     "output_type": "execute_result"
    }
   ],
   "source": [
    "s=\"PYTHON\"\n",
    "s.isupper()"
   ]
  },
  {
   "cell_type": "code",
   "execution_count": 173,
   "id": "684ec0a7",
   "metadata": {},
   "outputs": [
    {
     "data": {
      "text/plain": [
       "True"
      ]
     },
     "execution_count": 173,
     "metadata": {},
     "output_type": "execute_result"
    }
   ],
   "source": [
    "s=\"PYTHON IS A SCRIPTING LANGUAGE\"\n",
    "s.isupper()"
   ]
  },
  {
   "cell_type": "markdown",
   "id": "4d244aeb",
   "metadata": {},
   "source": [
    "5)**islower()**\n",
    "- This function is used to check whether given string is in lower case or not\n",
    "- If it is in lower case, True is returned else False is returned\n"
   ]
  },
  {
   "cell_type": "code",
   "execution_count": 174,
   "id": "d86e4551",
   "metadata": {},
   "outputs": [
    {
     "data": {
      "text/plain": [
       "True"
      ]
     },
     "execution_count": 174,
     "metadata": {},
     "output_type": "execute_result"
    }
   ],
   "source": [
    "s=\"python\"\n",
    "s.islower()"
   ]
  },
  {
   "cell_type": "code",
   "execution_count": 175,
   "id": "102e4c55",
   "metadata": {},
   "outputs": [
    {
     "data": {
      "text/plain": [
       "False"
      ]
     },
     "execution_count": 175,
     "metadata": {},
     "output_type": "execute_result"
    }
   ],
   "source": [
    "s=\"PYTHON\"\n",
    "s.islower()"
   ]
  },
  {
   "cell_type": "code",
   "execution_count": 176,
   "id": "d4c38f44",
   "metadata": {},
   "outputs": [
    {
     "data": {
      "text/plain": [
       "True"
      ]
     },
     "execution_count": 176,
     "metadata": {},
     "output_type": "execute_result"
    }
   ],
   "source": [
    "s=\"python is a scripting language\"\n",
    "s.islower()"
   ]
  },
  {
   "cell_type": "markdown",
   "id": "371edb5f",
   "metadata": {},
   "source": [
    "6)**title()**\n",
    "- This function is used to convert first letter of each word in a string into upper case"
   ]
  },
  {
   "cell_type": "code",
   "execution_count": 177,
   "id": "bf7a72b5",
   "metadata": {},
   "outputs": [
    {
     "data": {
      "text/plain": [
       "'Python Is A Scripting Language'"
      ]
     },
     "execution_count": 177,
     "metadata": {},
     "output_type": "execute_result"
    }
   ],
   "source": [
    "s=\"python is a scripting language\"\n",
    "s.title()"
   ]
  },
  {
   "cell_type": "code",
   "execution_count": 178,
   "id": "467d22fd",
   "metadata": {},
   "outputs": [
    {
     "data": {
      "text/plain": [
       "'Python'"
      ]
     },
     "execution_count": 178,
     "metadata": {},
     "output_type": "execute_result"
    }
   ],
   "source": [
    "s=\"python\"\n",
    "s.title()"
   ]
  },
  {
   "cell_type": "markdown",
   "id": "da336d57",
   "metadata": {},
   "source": [
    "7)**istitle()**\n",
    "- This function is used to check whether first charcter in a string is in upper case or not. If so, True is returned else False is returned"
   ]
  },
  {
   "cell_type": "code",
   "execution_count": 196,
   "id": "d1b22085",
   "metadata": {},
   "outputs": [
    {
     "data": {
      "text/plain": [
       "True"
      ]
     },
     "execution_count": 196,
     "metadata": {},
     "output_type": "execute_result"
    }
   ],
   "source": [
    "s=\"Python\"\n",
    "s.istitle()"
   ]
  },
  {
   "cell_type": "code",
   "execution_count": 197,
   "id": "07c56116",
   "metadata": {},
   "outputs": [
    {
     "data": {
      "text/plain": [
       "False"
      ]
     },
     "execution_count": 197,
     "metadata": {},
     "output_type": "execute_result"
    }
   ],
   "source": [
    "s=\"python\"\n",
    "s.istitle()"
   ]
  },
  {
   "cell_type": "markdown",
   "id": "0abca8f0",
   "metadata": {},
   "source": [
    "8)**isdigit()**\n",
    "- This function is used to check whether given string is digit or not\n",
    "- If it is digit, True is returned else False is returned"
   ]
  },
  {
   "cell_type": "code",
   "execution_count": 180,
   "id": "009408a7",
   "metadata": {},
   "outputs": [
    {
     "data": {
      "text/plain": [
       "True"
      ]
     },
     "execution_count": 180,
     "metadata": {},
     "output_type": "execute_result"
    }
   ],
   "source": [
    "s=\"12345\"\n",
    "s.isdigit()"
   ]
  },
  {
   "cell_type": "code",
   "execution_count": 181,
   "id": "54b31150",
   "metadata": {},
   "outputs": [
    {
     "data": {
      "text/plain": [
       "False"
      ]
     },
     "execution_count": 181,
     "metadata": {},
     "output_type": "execute_result"
    }
   ],
   "source": [
    "s=\"abcd\"\n",
    "s.isdigit()"
   ]
  },
  {
   "cell_type": "markdown",
   "id": "527071eb",
   "metadata": {},
   "source": [
    "9)**isnumeric()**\n",
    "- This function is used to check whether given string is number or not\n",
    "- If it is number, True is returned else False is returned"
   ]
  },
  {
   "cell_type": "code",
   "execution_count": 183,
   "id": "b9d29165",
   "metadata": {},
   "outputs": [
    {
     "data": {
      "text/plain": [
       "True"
      ]
     },
     "execution_count": 183,
     "metadata": {},
     "output_type": "execute_result"
    }
   ],
   "source": [
    "s=\"12345\"\n",
    "s.isnumeric()"
   ]
  },
  {
   "cell_type": "code",
   "execution_count": 184,
   "id": "b617c8ae",
   "metadata": {},
   "outputs": [
    {
     "data": {
      "text/plain": [
       "False"
      ]
     },
     "execution_count": 184,
     "metadata": {},
     "output_type": "execute_result"
    }
   ],
   "source": [
    "s=\"abcd\"\n",
    "s.isnumeric()"
   ]
  },
  {
   "cell_type": "markdown",
   "id": "1dd95300",
   "metadata": {},
   "source": [
    "10)**isalpha()**\n",
    "- This function is used to check whether given string has characters or not \n",
    "- If there are characters, True is returned else False is returned\n",
    "- Spaces are not treated as a character\n",
    "- No special characters are allowed"
   ]
  },
  {
   "cell_type": "code",
   "execution_count": 185,
   "id": "1bc80292",
   "metadata": {},
   "outputs": [
    {
     "data": {
      "text/plain": [
       "False"
      ]
     },
     "execution_count": 185,
     "metadata": {},
     "output_type": "execute_result"
    }
   ],
   "source": [
    "s=\"python is a scripting language\"\n",
    "s.isalpha()"
   ]
  },
  {
   "cell_type": "code",
   "execution_count": 186,
   "id": "4c3070fc",
   "metadata": {},
   "outputs": [
    {
     "data": {
      "text/plain": [
       "True"
      ]
     },
     "execution_count": 186,
     "metadata": {},
     "output_type": "execute_result"
    }
   ],
   "source": [
    "s=\"python\"\n",
    "s.isalpha()"
   ]
  },
  {
   "cell_type": "code",
   "execution_count": 187,
   "id": "0d925ad5",
   "metadata": {},
   "outputs": [
    {
     "data": {
      "text/plain": [
       "False"
      ]
     },
     "execution_count": 187,
     "metadata": {},
     "output_type": "execute_result"
    }
   ],
   "source": [
    "s=\"%$@\"      \n",
    "s.isalpha()"
   ]
  },
  {
   "cell_type": "markdown",
   "id": "ddc74781",
   "metadata": {},
   "source": [
    "11)**isalnum()**\n",
    "- This function is used to check whether given string contains both characters & numericals\n",
    "- If so, True is returned else False is returned\n",
    "- Spaces are not treated as a character\n",
    "- No Special symbols are allowed"
   ]
  },
  {
   "cell_type": "code",
   "execution_count": 188,
   "id": "2742e1bb",
   "metadata": {},
   "outputs": [
    {
     "data": {
      "text/plain": [
       "False"
      ]
     },
     "execution_count": 188,
     "metadata": {},
     "output_type": "execute_result"
    }
   ],
   "source": [
    "s=\"python is a scripting language\"\n",
    "s.isalnum()"
   ]
  },
  {
   "cell_type": "code",
   "execution_count": 189,
   "id": "61e8589f",
   "metadata": {},
   "outputs": [
    {
     "data": {
      "text/plain": [
       "True"
      ]
     },
     "execution_count": 189,
     "metadata": {},
     "output_type": "execute_result"
    }
   ],
   "source": [
    "s=\"Python123Language\"\n",
    "s.isalnum()"
   ]
  },
  {
   "cell_type": "code",
   "execution_count": 190,
   "id": "515076dc",
   "metadata": {},
   "outputs": [
    {
     "data": {
      "text/plain": [
       "False"
      ]
     },
     "execution_count": 190,
     "metadata": {},
     "output_type": "execute_result"
    }
   ],
   "source": [
    "s=\"Python123Language$@#\"\n",
    "s.isalnum()"
   ]
  },
  {
   "cell_type": "markdown",
   "id": "c52b9568",
   "metadata": {},
   "source": [
    "12)**isspace()**\n",
    "- This function returns True if string contains pure space else False is returned"
   ]
  },
  {
   "cell_type": "code",
   "execution_count": 191,
   "id": "5cb93b31",
   "metadata": {},
   "outputs": [
    {
     "data": {
      "text/plain": [
       "False"
      ]
     },
     "execution_count": 191,
     "metadata": {},
     "output_type": "execute_result"
    }
   ],
   "source": [
    "s=\"python is a scripting language\"\n",
    "s.isspace()"
   ]
  },
  {
   "cell_type": "code",
   "execution_count": 192,
   "id": "298b9ba1",
   "metadata": {},
   "outputs": [
    {
     "data": {
      "text/plain": [
       "False"
      ]
     },
     "execution_count": 192,
     "metadata": {},
     "output_type": "execute_result"
    }
   ],
   "source": [
    "s=\"P y t h o n\"\n",
    "s.isspace()"
   ]
  },
  {
   "cell_type": "code",
   "execution_count": 193,
   "id": "51c12543",
   "metadata": {},
   "outputs": [
    {
     "data": {
      "text/plain": [
       "True"
      ]
     },
     "execution_count": 193,
     "metadata": {},
     "output_type": "execute_result"
    }
   ],
   "source": [
    "s=\"     \"\n",
    "s.isspace()"
   ]
  },
  {
   "cell_type": "markdown",
   "id": "ab3f569e",
   "metadata": {},
   "source": [
    "13)**swapcase**\n",
    "- This function is used to convert lower case to upper case & vice versa in a string"
   ]
  },
  {
   "cell_type": "code",
   "execution_count": 194,
   "id": "5a46aa91",
   "metadata": {},
   "outputs": [
    {
     "data": {
      "text/plain": [
       "'PYTHON IS A SCRIPTING LANGUAGE'"
      ]
     },
     "execution_count": 194,
     "metadata": {},
     "output_type": "execute_result"
    }
   ],
   "source": [
    "s=\"python is a scripting language\"\n",
    "s.swapcase()"
   ]
  },
  {
   "cell_type": "code",
   "execution_count": 195,
   "id": "3479730d",
   "metadata": {},
   "outputs": [
    {
     "data": {
      "text/plain": [
       "'pYyThOn Is a ScRiPtInG lAnGuAgE'"
      ]
     },
     "execution_count": 195,
     "metadata": {},
     "output_type": "execute_result"
    }
   ],
   "source": [
    "s=\"PyYtHoN iS A sCrIpTiNg LaNgUaGe\"\n",
    "s.swapcase()"
   ]
  },
  {
   "cell_type": "markdown",
   "id": "65bc3448",
   "metadata": {},
   "source": [
    "14)**casefold()**\n",
    "- This function converts each character into lower case in a string"
   ]
  },
  {
   "cell_type": "code",
   "execution_count": 198,
   "id": "75597540",
   "metadata": {},
   "outputs": [
    {
     "data": {
      "text/plain": [
       "'python'"
      ]
     },
     "execution_count": 198,
     "metadata": {},
     "output_type": "execute_result"
    }
   ],
   "source": [
    "s=\"PYTHON\"\n",
    "s.casefold()"
   ]
  },
  {
   "cell_type": "code",
   "execution_count": 199,
   "id": "835ed1b1",
   "metadata": {},
   "outputs": [
    {
     "data": {
      "text/plain": [
       "'python is a scripting language'"
      ]
     },
     "execution_count": 199,
     "metadata": {},
     "output_type": "execute_result"
    }
   ],
   "source": [
    "s='PYTHON IS A SCRIPTING LANGUAGE'\n",
    "s.casefold()"
   ]
  },
  {
   "cell_type": "code",
   "execution_count": 218,
   "id": "508f3d5c",
   "metadata": {},
   "outputs": [
    {
     "name": "stdout",
     "output_type": "stream",
     "text": [
      "The capitalize function of s is:Friends is an american sitcom\n",
      "==================================================\n",
      "The upper function of s is:FRIENDS IS AN AMERICAN SITCOM\n",
      "==================================================\n",
      "The lower function of s is:friends is an american sitcom\n",
      "==================================================\n",
      "Is string upper case or not:False\n",
      "==================================================\n",
      "Is string lower case or not:False\n",
      "==================================================\n",
      "The swapcase function of s is:FRIENDS IS AN amERICan SItcOM\n",
      "==================================================\n",
      "The casefold function of s2 is:friends\n",
      "==================================================\n",
      "The title function of s is:Friends Is An American Sitcom\n",
      "==================================================\n",
      "Is string title or not:False\n",
      "==================================================\n",
      "Is string has space or not:True\n",
      "==================================================\n",
      "Is string alpha or not:True\n",
      "==================================================\n",
      "Is string numeric or not:True\n",
      "==================================================\n",
      "Is string digit or not:True\n",
      "==================================================\n",
      "Is string alphanumeric or not:True\n"
     ]
    }
   ],
   "source": [
    "#Python Program to demonstrate the capitalize(),upper(),lower(),isupper(),islower(),swapcase(),casefold(),title(),istitle(),\n",
    "#isspace(),isalpha(),isnumeric(),isdigit(),isalnum()\n",
    "\n",
    "s=\"friends is an AMericAN siTCom\"\n",
    "s1=\"  \"\n",
    "s2=\"FRIENDS\"\n",
    "s3=\"12345\"\n",
    "s4=\"Friends1234\"\n",
    "print(\"The capitalize function of s is:{}\".format(s.capitalize()))\n",
    "print(\"=\"*50)\n",
    "print(\"The upper function of s is:{}\".format(s.upper()))\n",
    "print(\"=\"*50)\n",
    "print(\"The lower function of s is:{}\".format(s.lower()))\n",
    "print(\"=\"*50)\n",
    "print(\"Is string upper case or not:{}\".format(s.isupper()))\n",
    "print(\"=\"*50)\n",
    "print(\"Is string lower case or not:{}\".format(s.islower()))\n",
    "print(\"=\"*50)\n",
    "print(\"The swapcase function of s is:{}\".format(s.swapcase()))\n",
    "print(\"=\"*50)\n",
    "print(\"The casefold function of s2 is:{}\".format(s2.casefold()))\n",
    "print(\"=\"*50)\n",
    "print(\"The title function of s is:{}\".format(s.title()))\n",
    "print(\"=\"*50)\n",
    "print(\"Is string title or not:{}\".format(s.istitle()))\n",
    "print(\"=\"*50)\n",
    "print(\"Is string has space or not:{}\".format(s1.isspace()))\n",
    "print(\"=\"*50)\n",
    "print(\"Is string alpha or not:{}\".format(s2.isalpha()))\n",
    "print(\"=\"*50)\n",
    "print(\"Is string numeric or not:{}\".format(s3.isnumeric()))\n",
    "print(\"=\"*50)\n",
    "print(\"Is string digit or not:{}\".format(s3.isdigit()))\n",
    "print(\"=\"*50)\n",
    "print(\"Is string alphanumeric or not:{}\".format(s4.isalnum()))"
   ]
  },
  {
   "cell_type": "markdown",
   "id": "0cd10f34",
   "metadata": {},
   "source": [
    "15)**count()**\n",
    "- This functions returns number of characters available in a string"
   ]
  },
  {
   "cell_type": "code",
   "execution_count": 219,
   "id": "661ced70",
   "metadata": {},
   "outputs": [
    {
     "data": {
      "text/plain": [
       "3"
      ]
     },
     "execution_count": 219,
     "metadata": {},
     "output_type": "execute_result"
    }
   ],
   "source": [
    "s=\"python is a scripting language\"\n",
    "s.count(\"i\")"
   ]
  },
  {
   "cell_type": "code",
   "execution_count": 220,
   "id": "91950d71",
   "metadata": {},
   "outputs": [
    {
     "data": {
      "text/plain": [
       "3"
      ]
     },
     "execution_count": 220,
     "metadata": {},
     "output_type": "execute_result"
    }
   ],
   "source": [
    "s.count(\"a\")"
   ]
  },
  {
   "cell_type": "code",
   "execution_count": 221,
   "id": "65ad9408",
   "metadata": {},
   "outputs": [
    {
     "data": {
      "text/plain": [
       "0"
      ]
     },
     "execution_count": 221,
     "metadata": {},
     "output_type": "execute_result"
    }
   ],
   "source": [
    "s.count(\"z\")     #\"z\" is not present in string, so 0 is returned"
   ]
  },
  {
   "cell_type": "code",
   "execution_count": 222,
   "id": "5b905fcf",
   "metadata": {},
   "outputs": [
    {
     "data": {
      "text/plain": [
       "4"
      ]
     },
     "execution_count": 222,
     "metadata": {},
     "output_type": "execute_result"
    }
   ],
   "source": [
    "s=\"python python python python\"\n",
    "s.count(\"python\")"
   ]
  },
  {
   "cell_type": "code",
   "execution_count": 234,
   "id": "4fb5c379",
   "metadata": {},
   "outputs": [
    {
     "name": "stdout",
     "output_type": "stream",
     "text": [
      "Vowels count is 10\n"
     ]
    }
   ],
   "source": [
    "#To print number of vowels in a string\n",
    "s=\"Friends is an american sitcom\"\n",
    "count=0\n",
    "for i in range(len(s)):\n",
    "    if s[i] in \"aeiou\":\n",
    "        count=count+1\n",
    "print(\"Vowels count is\",count)"
   ]
  },
  {
   "cell_type": "code",
   "execution_count": 238,
   "id": "4672f8db",
   "metadata": {},
   "outputs": [
    {
     "name": "stdout",
     "output_type": "stream",
     "text": [
      "i\n",
      "I\n",
      "i\n",
      "I\n",
      "Vowels count is 4\n"
     ]
    }
   ],
   "source": [
    "#To print number of 'i' & 'I' in a string\n",
    "\n",
    "s=\"Friends Is an american sItcom\"\n",
    "count=0\n",
    "for i in range(len(s)):\n",
    "    if s[i]==\"i\" or s[i]==\"I\":\n",
    "        count=count+1\n",
    "        print(s[i])\n",
    "print(\"Vowels count is\",count)\n"
   ]
  },
  {
   "cell_type": "markdown",
   "id": "34e54b78",
   "metadata": {},
   "source": [
    "16)**index()**\n",
    "- This functions gives the index of a string"
   ]
  },
  {
   "cell_type": "code",
   "execution_count": 239,
   "id": "122d3d45",
   "metadata": {},
   "outputs": [
    {
     "data": {
      "text/plain": [
       "22"
      ]
     },
     "execution_count": 239,
     "metadata": {},
     "output_type": "execute_result"
    }
   ],
   "source": [
    "s=\"python is a scripting language\"\n",
    "s.index(\"l\")"
   ]
  },
  {
   "cell_type": "code",
   "execution_count": 248,
   "id": "7c7e6f58",
   "metadata": {},
   "outputs": [
    {
     "data": {
      "text/plain": [
       "10"
      ]
     },
     "execution_count": 248,
     "metadata": {},
     "output_type": "execute_result"
    }
   ],
   "source": [
    "#First occurencce of 'a'\n",
    "\n",
    "first_occ=s.index(\"a\")\n",
    "first_occ"
   ]
  },
  {
   "cell_type": "code",
   "execution_count": 249,
   "id": "9ab3fc05",
   "metadata": {},
   "outputs": [
    {
     "data": {
      "text/plain": [
       "23"
      ]
     },
     "execution_count": 249,
     "metadata": {},
     "output_type": "execute_result"
    }
   ],
   "source": [
    "#Second occurence of 'a'\n",
    "\n",
    "sec_occ=s.index(\"a\",first_occ+1)\n",
    "sec_occ"
   ]
  },
  {
   "cell_type": "code",
   "execution_count": 253,
   "id": "5a762877",
   "metadata": {},
   "outputs": [
    {
     "data": {
      "text/plain": [
       "27"
      ]
     },
     "execution_count": 253,
     "metadata": {},
     "output_type": "execute_result"
    }
   ],
   "source": [
    "#Third occurence of \"a\"\n",
    "\n",
    "third_occ=s.index(\"a\",sec_occ+1)\n",
    "third_occ\n",
    "\n",
    "#s.index(\"a\",s.index(\"a\",s.index(\"a\")+1)+1)"
   ]
  },
  {
   "cell_type": "code",
   "execution_count": 255,
   "id": "9af657f5",
   "metadata": {},
   "outputs": [
    {
     "data": {
      "text/plain": [
       "'def'"
      ]
     },
     "execution_count": 255,
     "metadata": {},
     "output_type": "execute_result"
    }
   ],
   "source": [
    "#Extract def from string\n",
    "\n",
    "s=\"abc.def@gmail.com\"\n",
    "s[s.index(\".\")+1:s.index(\"f\")+1]"
   ]
  },
  {
   "cell_type": "markdown",
   "id": "f49c5a06",
   "metadata": {},
   "source": [
    "17)**replace()**\n",
    "- This function allows user to replace one character by another character\n",
    "- If character which is not available in the string is passed inside the replace function, no error occurs instead whole string gets printed"
   ]
  },
  {
   "cell_type": "code",
   "execution_count": 256,
   "id": "fc82a5d8",
   "metadata": {},
   "outputs": [
    {
     "data": {
      "text/plain": [
       "'Python is a scriPting language'"
      ]
     },
     "execution_count": 256,
     "metadata": {},
     "output_type": "execute_result"
    }
   ],
   "source": [
    "s=\"python is a scripting language\"\n",
    "s.replace(\"p\",\"P\")"
   ]
  },
  {
   "cell_type": "code",
   "execution_count": 258,
   "id": "f3a4c065",
   "metadata": {},
   "outputs": [
    {
     "data": {
      "text/plain": [
       "'python Is a scrIptIng language'"
      ]
     },
     "execution_count": 258,
     "metadata": {},
     "output_type": "execute_result"
    }
   ],
   "source": [
    "s=\"python is a scripting language\"\n",
    "s.replace(\"i\",\"I\")"
   ]
  },
  {
   "cell_type": "code",
   "execution_count": 259,
   "id": "6dc8f97d",
   "metadata": {},
   "outputs": [
    {
     "data": {
      "text/plain": [
       "'python is a scripting language'"
      ]
     },
     "execution_count": 259,
     "metadata": {},
     "output_type": "execute_result"
    }
   ],
   "source": [
    "s.replace(\"z\",\"Z\")   #No error occurs even though \"z\" is not there in the string"
   ]
  },
  {
   "cell_type": "code",
   "execution_count": 260,
   "id": "87bba3aa",
   "metadata": {},
   "outputs": [
    {
     "data": {
      "text/plain": [
       "'Progra$$ing'"
      ]
     },
     "execution_count": 260,
     "metadata": {},
     "output_type": "execute_result"
    }
   ],
   "source": [
    "#Replace m by \"$\"\n",
    "s=\"Programming\"\n",
    "s.replace(\"m\",\"$\")"
   ]
  },
  {
   "cell_type": "code",
   "execution_count": 261,
   "id": "eb4cfa8b",
   "metadata": {},
   "outputs": [
    {
     "data": {
      "text/plain": [
       "'Program$ing'"
      ]
     },
     "execution_count": 261,
     "metadata": {},
     "output_type": "execute_result"
    }
   ],
   "source": [
    "#Replace second \"m\" by \"$\"\n",
    "#Method-1 (using slicing)\n",
    "\n",
    "s[0:7]+\"$\"+s[8:]"
   ]
  },
  {
   "cell_type": "code",
   "execution_count": 284,
   "id": "9e450c41",
   "metadata": {},
   "outputs": [
    {
     "name": "stdout",
     "output_type": "stream",
     "text": [
      "s1 is Program\n",
      "s2 is ming\n",
      "Program$ing\n"
     ]
    }
   ],
   "source": [
    "#Replace second \"m\" by \"$\"\n",
    "#Method-1 (using replace())\n",
    "\n",
    "s1=s[0:7]\n",
    "print(\"s1 is\",s1)\n",
    "s2=s[7:]\n",
    "print(\"s2 is\",s2)\n",
    "print(s[0:7]+s[7:].replace(\"m\",\"$\",1))\n"
   ]
  },
  {
   "cell_type": "markdown",
   "id": "cf4b3728",
   "metadata": {},
   "source": [
    "18)**find()**\n",
    "- This function is used to find the index of a string\n",
    "- If a character which is not there in string is passed inside of find function, -1 is returned"
   ]
  },
  {
   "cell_type": "code",
   "execution_count": 285,
   "id": "5e909c7b",
   "metadata": {},
   "outputs": [
    {
     "data": {
      "text/plain": [
       "8"
      ]
     },
     "execution_count": 285,
     "metadata": {},
     "output_type": "execute_result"
    }
   ],
   "source": [
    "s=\"python is a scripting language\"\n",
    "s.find(\"s\")"
   ]
  },
  {
   "cell_type": "code",
   "execution_count": 286,
   "id": "6f6cfefe",
   "metadata": {},
   "outputs": [
    {
     "data": {
      "text/plain": [
       "22"
      ]
     },
     "execution_count": 286,
     "metadata": {},
     "output_type": "execute_result"
    }
   ],
   "source": [
    "s.find(\"l\")"
   ]
  },
  {
   "cell_type": "code",
   "execution_count": 288,
   "id": "eebd4149",
   "metadata": {},
   "outputs": [
    {
     "data": {
      "text/plain": [
       "7"
      ]
     },
     "execution_count": 288,
     "metadata": {},
     "output_type": "execute_result"
    }
   ],
   "source": [
    "#first occurence of \"i\"\n",
    "\n",
    "first_occ=s.find(\"i\")\n",
    "first_occ"
   ]
  },
  {
   "cell_type": "code",
   "execution_count": 289,
   "id": "c2dc3675",
   "metadata": {},
   "outputs": [
    {
     "data": {
      "text/plain": [
       "15"
      ]
     },
     "execution_count": 289,
     "metadata": {},
     "output_type": "execute_result"
    }
   ],
   "source": [
    "#second occurence of \"i\"\n",
    "\n",
    "sec_occ=s.find(\"i\",first_occ+1)\n",
    "sec_occ"
   ]
  },
  {
   "cell_type": "code",
   "execution_count": 290,
   "id": "66bd9cd6",
   "metadata": {},
   "outputs": [
    {
     "data": {
      "text/plain": [
       "18"
      ]
     },
     "execution_count": 290,
     "metadata": {},
     "output_type": "execute_result"
    }
   ],
   "source": [
    "#Third occurence of \"i\"\n",
    "\n",
    "third_occ=s.find(\"i\",sec_occ+1)\n",
    "third_occ"
   ]
  },
  {
   "cell_type": "code",
   "execution_count": 291,
   "id": "30e1b764",
   "metadata": {},
   "outputs": [
    {
     "data": {
      "text/plain": [
       "-1"
      ]
     },
     "execution_count": 291,
     "metadata": {},
     "output_type": "execute_result"
    }
   ],
   "source": [
    "# \"x\" is passed inside find function\n",
    "\n",
    "s.find(\"x\")   #since \"x\" is not there in string, -1 is returned"
   ]
  },
  {
   "cell_type": "markdown",
   "id": "6ae64c2e",
   "metadata": {},
   "source": [
    "19)**split()**\n",
    "- This function is used to split given string into different words\n",
    "- If nothing is specified, it takes space as default delimeter"
   ]
  },
  {
   "cell_type": "code",
   "execution_count": 292,
   "id": "424bbcdb",
   "metadata": {},
   "outputs": [
    {
     "data": {
      "text/plain": [
       "['python', 'is', 'a', 'scripting', 'language']"
      ]
     },
     "execution_count": 292,
     "metadata": {},
     "output_type": "execute_result"
    }
   ],
   "source": [
    "#Nothing is specified \n",
    "\n",
    "s=\"python is a scripting language\"\n",
    "s.split()"
   ]
  },
  {
   "cell_type": "code",
   "execution_count": 294,
   "id": "87b1b336",
   "metadata": {},
   "outputs": [
    {
     "data": {
      "text/plain": [
       "['python', 'is', 'a', 'scripting', 'language']"
      ]
     },
     "execution_count": 294,
     "metadata": {},
     "output_type": "execute_result"
    }
   ],
   "source": [
    "#\n",
    "\n",
    "s=\"python$is$a$scripting$language\"\n",
    "s.split(\"$\")   #splitting by \"$\""
   ]
  },
  {
   "cell_type": "code",
   "execution_count": 295,
   "id": "c5cf9b47",
   "metadata": {},
   "outputs": [
    {
     "data": {
      "text/plain": [
       "['python ', 's a scr', 'pt', 'ng language']"
      ]
     },
     "execution_count": 295,
     "metadata": {},
     "output_type": "execute_result"
    }
   ],
   "source": [
    "s=\"python is a scripting language\"\n",
    "s.split(\"i\")   #splitting by \"i\""
   ]
  },
  {
   "cell_type": "code",
   "execution_count": 296,
   "id": "436fa21b",
   "metadata": {},
   "outputs": [
    {
     "data": {
      "text/plain": [
       "['abc', 'poi', 'uyt', '']"
      ]
     },
     "execution_count": 296,
     "metadata": {},
     "output_type": "execute_result"
    }
   ],
   "source": [
    "#Special symbol(#)\n",
    "\n",
    "s=\"abc#poi#uyt#\"\n",
    "s.split(\"#\")"
   ]
  },
  {
   "cell_type": "markdown",
   "id": "e47964dc",
   "metadata": {},
   "source": [
    "20)**join()**\n",
    "- This function is used to combine the strings"
   ]
  },
  {
   "cell_type": "code",
   "execution_count": 305,
   "id": "ea70540c",
   "metadata": {},
   "outputs": [
    {
     "data": {
      "text/plain": [
       "'python is a scripting language'"
      ]
     },
     "execution_count": 305,
     "metadata": {},
     "output_type": "execute_result"
    }
   ],
   "source": [
    "s1=\"python is a scripting language\"\n",
    "s2=\"\"\n",
    "s2.join(s1)"
   ]
  },
  {
   "cell_type": "code",
   "execution_count": 309,
   "id": "178a13bc",
   "metadata": {},
   "outputs": [
    {
     "data": {
      "text/plain": [
       "'10 20 30 abc 10.23 10+12j'"
      ]
     },
     "execution_count": 309,
     "metadata": {},
     "output_type": "execute_result"
    }
   ],
   "source": [
    "l1=[\"10\",\"20\",\"30\",\"abc\",\"10.23\",\"10+12j\"]\n",
    "l2=\" \"\n",
    "l2.join(l1)"
   ]
  },
  {
   "cell_type": "markdown",
   "id": "b434c781",
   "metadata": {},
   "source": [
    "21)**strip()**\n",
    "- This function is used to remove spaces from both left and right sides\n",
    "\n",
    "**lstrip()**\n",
    "- This function is used to remove spaces from left side\n",
    "\n",
    "**rstrip()**\n",
    "- This function is used to remove spaces from right side"
   ]
  },
  {
   "cell_type": "code",
   "execution_count": 314,
   "id": "9b53625e",
   "metadata": {},
   "outputs": [
    {
     "data": {
      "text/plain": [
       "'python is a scripting language'"
      ]
     },
     "execution_count": 314,
     "metadata": {},
     "output_type": "execute_result"
    }
   ],
   "source": [
    "#strip example-1\n",
    "\n",
    "s=\"   python is a scripting language   \"\n",
    "s.strip()"
   ]
  },
  {
   "cell_type": "code",
   "execution_count": 315,
   "id": "ac41880f",
   "metadata": {},
   "outputs": [
    {
     "data": {
      "text/plain": [
       "'Datascience'"
      ]
     },
     "execution_count": 315,
     "metadata": {},
     "output_type": "execute_result"
    }
   ],
   "source": [
    "#strip example-2\n",
    "\n",
    "s=\"  Datascience  \"\n",
    "s.strip()"
   ]
  },
  {
   "cell_type": "code",
   "execution_count": 316,
   "id": "51e11524",
   "metadata": {},
   "outputs": [
    {
     "data": {
      "text/plain": [
       "'python is a scripting language'"
      ]
     },
     "execution_count": 316,
     "metadata": {},
     "output_type": "execute_result"
    }
   ],
   "source": [
    "#lstrip example-1\n",
    "\n",
    "s=\"    python is a scripting language\"\n",
    "s.lstrip()"
   ]
  },
  {
   "cell_type": "code",
   "execution_count": 317,
   "id": "981d4d2c",
   "metadata": {},
   "outputs": [
    {
     "data": {
      "text/plain": [
       "'python is a scripting language'"
      ]
     },
     "execution_count": 317,
     "metadata": {},
     "output_type": "execute_result"
    }
   ],
   "source": [
    "#lstrip example-2\n",
    "\n",
    "s=\"python is a scripting language\"\n",
    "s.lstrip()"
   ]
  },
  {
   "cell_type": "code",
   "execution_count": 318,
   "id": "dbf8b1b1",
   "metadata": {},
   "outputs": [
    {
     "data": {
      "text/plain": [
       "'python is a scripting language'"
      ]
     },
     "execution_count": 318,
     "metadata": {},
     "output_type": "execute_result"
    }
   ],
   "source": [
    "#rstrip example-1\n",
    "\n",
    "s=\"python is a scripting language      \"\n",
    "s.rstrip()"
   ]
  },
  {
   "cell_type": "code",
   "execution_count": 319,
   "id": "d1d0c3b0",
   "metadata": {},
   "outputs": [
    {
     "data": {
      "text/plain": [
       "'Datascience'"
      ]
     },
     "execution_count": 319,
     "metadata": {},
     "output_type": "execute_result"
    }
   ],
   "source": [
    "#rstrip example-2\n",
    "\n",
    "s=\"Datascience \"\n",
    "s.rstrip()"
   ]
  },
  {
   "cell_type": "markdown",
   "id": "efcd3504",
   "metadata": {},
   "source": [
    "22)**startswith()**\n",
    "- This function is used to check whether starting value is matched or not with the value passed inside the function. If so True is returned else false\n",
    "\n",
    "**endswith()**\n",
    "- This function is used to check whether ending value is matched or not with the value passed inside the function. If so True is returned else false\n"
   ]
  },
  {
   "cell_type": "code",
   "execution_count": 320,
   "id": "61dcfe0b",
   "metadata": {},
   "outputs": [
    {
     "data": {
      "text/plain": [
       "True"
      ]
     },
     "execution_count": 320,
     "metadata": {},
     "output_type": "execute_result"
    }
   ],
   "source": [
    "#startswith() example-1\n",
    "\n",
    "s=\"python is a scripting language\"\n",
    "s.startswith(\"p\")"
   ]
  },
  {
   "cell_type": "code",
   "execution_count": 322,
   "id": "fcad3ece",
   "metadata": {},
   "outputs": [
    {
     "data": {
      "text/plain": [
       "True"
      ]
     },
     "execution_count": 322,
     "metadata": {},
     "output_type": "execute_result"
    }
   ],
   "source": [
    "#startswith() example-2\n",
    "\n",
    "s=\"Halloween\"\n",
    "s.startswith(\"H\")"
   ]
  },
  {
   "cell_type": "code",
   "execution_count": 324,
   "id": "e6652758",
   "metadata": {},
   "outputs": [
    {
     "data": {
      "text/plain": [
       "True"
      ]
     },
     "execution_count": 324,
     "metadata": {},
     "output_type": "execute_result"
    }
   ],
   "source": [
    "#endswith() example-1\n",
    "\n",
    "s=\"python is a scripting language\"\n",
    "s.endswith(\"e\")"
   ]
  },
  {
   "cell_type": "code",
   "execution_count": 325,
   "id": "fd9912ed",
   "metadata": {},
   "outputs": [
    {
     "data": {
      "text/plain": [
       "True"
      ]
     },
     "execution_count": 325,
     "metadata": {},
     "output_type": "execute_result"
    }
   ],
   "source": [
    "#endswith() example-2\n",
    "\n",
    "s=\"Halloween\"\n",
    "s.endswith(\"n\")"
   ]
  },
  {
   "cell_type": "code",
   "execution_count": 394,
   "id": "f2753ed2",
   "metadata": {},
   "outputs": [
    {
     "name": "stdout",
     "output_type": "stream",
     "text": [
      "Using find:\n",
      "Fourth occurence of s is 25\n",
      "==================================================\n",
      "Using replace:\n",
      "Second occurence of s by S is  Friends is an american Sitcom\n",
      "==================================================\n",
      "Using split:\n",
      "Split of s1 is ['Friends', 'is', 'an', 'american', 'sitcom ']\n",
      "==================================================\n",
      "Using lstrip,rstrip,strip:\n",
      "Strip,lstrip and rstrip function for s,s1,s3 is ('Friends is an american sitcom', 'Friends@is@an@american@sitcom', 'Friends is an american sitcom')\n",
      "==================================================\n",
      "Using index:\n",
      "Index of second occurence of s is 15\n",
      "==================================================\n",
      "Using join:\n",
      " Friends is an american sitcom\n",
      "==================================================\n",
      "Using startswith & endswith:\n",
      "Starts with and endswith for s is True,True\n"
     ]
    }
   ],
   "source": [
    "#Program to demonstrate count(),index(),find(),replace(),split(),join(),startswith(),endswith(),strip(),lstrip(),rstrip()\n",
    "#find fourth occurence of \"i\" using find() in \"s\"\n",
    "#Replace second \"s\" by \"S\"\n",
    "#Split s1 by \"@\"\n",
    "#Apply lstrip to \"s\" , rstrip to \"s1\" & strip to \"s3\"\n",
    "#Find index of second \"a\" using index()\n",
    "#Join s1 & s4\n",
    "\n",
    "s=\" Friends is an american sitcom\"\n",
    "s1=\"Friends@is@an@american@sitcom \"\n",
    "s3=\"  Friends is an american sitcom  \"\n",
    "s4=\"\"\n",
    "print(\"Using find:\")\n",
    "first_occ=s.find(\"i\")\n",
    "second_occ=s.find(\"i\",first_occ+1)\n",
    "third_occ=s.find(\"i\",second_occ+1)\n",
    "fourth_occ=s.find(\"i\",third_occ+1)\n",
    "print(\"Fourth occurence of s is {}\".format(fourth_occ))\n",
    "print(\"=\"*50)\n",
    "print(\"Using replace:\")\n",
    "s11=s[:24]\n",
    "s22=s[24:]\n",
    "s33=s11+s22.replace(\"s\",\"S\",1)\n",
    "print(\"Second occurence of s by S is {}\".format(s33))\n",
    "print(\"=\"*50)\n",
    "print(\"Using split:\")\n",
    "s44=s1.split(\"@\")\n",
    "print(\"Split of s1 is\",s44)\n",
    "print(\"=\"*50)\n",
    "print(\"Using lstrip,rstrip,strip:\")\n",
    "s55=s.lstrip(),s1.rstrip(),s3.strip()\n",
    "print(\"Strip,lstrip and rstrip function for s,s1,s3 is\",s55)\n",
    "print(\"=\"*50)\n",
    "print(\"Using index:\")\n",
    "print(\"Index of second occurence of s is\",s.index(\"a\",s.index(\"a\")+1))\n",
    "print(\"=\"*50)\n",
    "print(\"Using join:\")\n",
    "print(s4.join(s))\n",
    "print(\"=\"*50)\n",
    "print(\"Using startswith & endswith:\")\n",
    "print(\"Starts with and endswith for s is {},{}\".format(s.startswith(\" \"),s.endswith(\"m\")))\n"
   ]
  }
 ],
 "metadata": {
  "kernelspec": {
   "display_name": "Python 3",
   "language": "python",
   "name": "python3"
  },
  "language_info": {
   "codemirror_mode": {
    "name": "ipython",
    "version": 3
   },
   "file_extension": ".py",
   "mimetype": "text/x-python",
   "name": "python",
   "nbconvert_exporter": "python",
   "pygments_lexer": "ipython3",
   "version": "3.11.4"
  }
 },
 "nbformat": 4,
 "nbformat_minor": 5
}
