{
 "cells": [
  {
   "cell_type": "code",
   "execution_count": null,
   "id": "5d743857",
   "metadata": {},
   "outputs": [],
   "source": [
    "#1)WAPP which will write student data such as sno,sname  marks to te file"
   ]
  },
  {
   "cell_type": "code",
   "execution_count": null,
   "id": "423b0e99",
   "metadata": {},
   "outputs": [],
   "source": [
    "#2)WAPP which will read the data dynamically from the keyboard & write it to the file untill we type @ (Important)"
   ]
  },
  {
   "cell_type": "code",
   "execution_count": null,
   "id": "000c0b38",
   "metadata": {},
   "outputs": [],
   "source": [
    "#3)WAPP which will read the data of any file or WAPP which will display the content of any file name(Importnt)"
   ]
  }
 ],
 "metadata": {
  "kernelspec": {
   "display_name": "Python 3",
   "language": "python",
   "name": "python3"
  },
  "language_info": {
   "codemirror_mode": {
    "name": "ipython",
    "version": 3
   },
   "file_extension": ".py",
   "mimetype": "text/x-python",
   "name": "python",
   "nbconvert_exporter": "python",
   "pygments_lexer": "ipython3",
   "version": "3.11.4"
  }
 },
 "nbformat": 4,
 "nbformat_minor": 5
}
