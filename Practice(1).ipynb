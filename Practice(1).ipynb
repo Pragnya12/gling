{
 "cells": [
  {
   "cell_type": "markdown",
   "metadata": {},
   "source": [
    "# Date:-Jan 31st,2022"
   ]
  },
  {
   "cell_type": "code",
   "execution_count": 1,
   "metadata": {},
   "outputs": [
    {
     "ename": "NameError",
     "evalue": "name 'hello' is not defined",
     "output_type": "error",
     "traceback": [
      "\u001b[1;31m---------------------------------------------------------------------------\u001b[0m",
      "\u001b[1;31mNameError\u001b[0m                                 Traceback (most recent call last)",
      "\u001b[1;32m<ipython-input-1-f572d396fae9>\u001b[0m in \u001b[0;36m<module>\u001b[1;34m\u001b[0m\n\u001b[1;32m----> 1\u001b[1;33m \u001b[0mhello\u001b[0m\u001b[1;33m\u001b[0m\u001b[1;33m\u001b[0m\u001b[0m\n\u001b[0m",
      "\u001b[1;31mNameError\u001b[0m: name 'hello' is not defined"
     ]
    }
   ],
   "source": [
    "hello"
   ]
  },
  {
   "cell_type": "code",
   "execution_count": 1,
   "metadata": {},
   "outputs": [
    {
     "ename": "SyntaxError",
     "evalue": "invalid syntax (<ipython-input-1-8765c3a90748>, line 1)",
     "output_type": "error",
     "traceback": [
      "\u001b[1;36m  File \u001b[1;32m\"<ipython-input-1-8765c3a90748>\"\u001b[1;36m, line \u001b[1;32m1\u001b[0m\n\u001b[1;33m    hello hi hwruh\u001b[0m\n\u001b[1;37m          ^\u001b[0m\n\u001b[1;31mSyntaxError\u001b[0m\u001b[1;31m:\u001b[0m invalid syntax\n"
     ]
    }
   ],
   "source": [
    "hello hi hwruh\n",
    "(error since it is selected as Code)"
   ]
  },
  {
   "cell_type": "markdown",
   "metadata": {},
   "source": [
    "Hello hwruh"
   ]
  },
  {
   "cell_type": "code",
   "execution_count": null,
   "metadata": {},
   "outputs": [],
   "source": [
    "The above stmnt Hello hwruh is printed bcz Mark down option is selected from the above drop down"
   ]
  },
  {
   "cell_type": "markdown",
   "metadata": {},
   "source": [
    "Program to add 2 no.s"
   ]
  },
  {
   "cell_type": "code",
   "execution_count": 3,
   "metadata": {},
   "outputs": [
    {
     "data": {
      "text/plain": [
       "35"
      ]
     },
     "execution_count": 3,
     "metadata": {},
     "output_type": "execute_result"
    }
   ],
   "source": [
    "a=20\n",
    "b=15\n",
    "c=a+b\n",
    "c"
   ]
  },
  {
   "cell_type": "markdown",
   "metadata": {},
   "source": [
    "# Variables"
   ]
  },
  {
   "cell_type": "markdown",
   "metadata": {},
   "source": [
    "-which are not same , varies \n"
   ]
  },
  {
   "cell_type": "code",
   "execution_count": 4,
   "metadata": {},
   "outputs": [],
   "source": [
    "a=200\n",
    "b=200\n",
    "c=d=200\n"
   ]
  },
  {
   "cell_type": "markdown",
   "metadata": {},
   "source": [
    "In above ex, a,b,c,d are variables carrying 200 value"
   ]
  },
  {
   "cell_type": "markdown",
   "metadata": {},
   "source": [
    "- Value can be assigned to a variable \n",
    "\n",
    "- A variable cannot be assigned to value\n",
    "\n",
    "- Variable should be towards left side"
   ]
  },
  {
   "cell_type": "code",
   "execution_count": 5,
   "metadata": {},
   "outputs": [
    {
     "ename": "SyntaxError",
     "evalue": "cannot assign to literal (<ipython-input-5-5725c34cdaab>, line 1)",
     "output_type": "error",
     "traceback": [
      "\u001b[1;36m  File \u001b[1;32m\"<ipython-input-5-5725c34cdaab>\"\u001b[1;36m, line \u001b[1;32m1\u001b[0m\n\u001b[1;33m    20=a\u001b[0m\n\u001b[1;37m    ^\u001b[0m\n\u001b[1;31mSyntaxError\u001b[0m\u001b[1;31m:\u001b[0m cannot assign to literal\n"
     ]
    }
   ],
   "source": [
    "20=a (Encountered error since variable can't be assigned to a value(literal))"
   ]
  },
  {
   "cell_type": "code",
   "execution_count": 6,
   "metadata": {},
   "outputs": [],
   "source": [
    "a=20( It is working fine since it is properly assigned)"
   ]
  },
  {
   "cell_type": "markdown",
   "metadata": {},
   "source": [
    "# Allowed variables\n",
    "\n",
    "- Underscore(_)\n",
    "\n",
    "- Numericals at ending of a value \n",
    "\n",
    "- Simple trick- If text color is other than black, then those are not considered as variables, error occurs in such cases\n"
   ]
  },
  {
   "cell_type": "code",
   "execution_count": 10,
   "metadata": {},
   "outputs": [],
   "source": [
    "ab_12=10000"
   ]
  },
  {
   "cell_type": "code",
   "execution_count": 11,
   "metadata": {},
   "outputs": [],
   "source": [
    "_as12=100"
   ]
  },
  {
   "cell_type": "code",
   "execution_count": 12,
   "metadata": {},
   "outputs": [],
   "source": [
    "ab12_=20"
   ]
  },
  {
   "cell_type": "code",
   "execution_count": 13,
   "metadata": {},
   "outputs": [],
   "source": [
    "ab1234=10"
   ]
  },
  {
   "cell_type": "code",
   "execution_count": 14,
   "metadata": {},
   "outputs": [
    {
     "ename": "NameError",
     "evalue": "name 'ab23' is not defined",
     "output_type": "error",
     "traceback": [
      "\u001b[1;31m---------------------------------------------------------------------------\u001b[0m",
      "\u001b[1;31mNameError\u001b[0m                                 Traceback (most recent call last)",
      "\u001b[1;32m<ipython-input-14-f969cd170e25>\u001b[0m in \u001b[0;36m<module>\u001b[1;34m\u001b[0m\n\u001b[1;32m----> 1\u001b[1;33m \u001b[0mab23\u001b[0m\u001b[1;33m\u001b[0m\u001b[1;33m\u001b[0m\u001b[0m\n\u001b[0m",
      "\u001b[1;31mNameError\u001b[0m: name 'ab23' is not defined"
     ]
    }
   ],
   "source": [
    "ab23(Encountered error since no value is assigned)"
   ]
  },
  {
   "cell_type": "code",
   "execution_count": 15,
   "metadata": {},
   "outputs": [
    {
     "ename": "SyntaxError",
     "evalue": "invalid syntax (<ipython-input-15-69a2c70214a2>, line 1)",
     "output_type": "error",
     "traceback": [
      "\u001b[1;36m  File \u001b[1;32m\"<ipython-input-15-69a2c70214a2>\"\u001b[1;36m, line \u001b[1;32m1\u001b[0m\n\u001b[1;33m    123abc=100\u001b[0m\n\u001b[1;37m       ^\u001b[0m\n\u001b[1;31mSyntaxError\u001b[0m\u001b[1;31m:\u001b[0m invalid syntax\n"
     ]
    }
   ],
   "source": [
    "#Since Numeric is at beginning of value\n",
    "123abc=100  "
   ]
  },
  {
   "cell_type": "code",
   "execution_count": 16,
   "metadata": {},
   "outputs": [
    {
     "ename": "SyntaxError",
     "evalue": "invalid syntax (<ipython-input-16-914856c783ab>, line 1)",
     "output_type": "error",
     "traceback": [
      "\u001b[1;36m  File \u001b[1;32m\"<ipython-input-16-914856c783ab>\"\u001b[1;36m, line \u001b[1;32m1\u001b[0m\n\u001b[1;33m    123$asbc=10\u001b[0m\n\u001b[1;37m       ^\u001b[0m\n\u001b[1;31mSyntaxError\u001b[0m\u001b[1;31m:\u001b[0m invalid syntax\n"
     ]
    }
   ],
   "source": [
    "#Since 123 is at beg' of value & special character '$'\n",
    "123$asbc=10 "
   ]
  },
  {
   "cell_type": "code",
   "execution_count": 17,
   "metadata": {},
   "outputs": [
    {
     "ename": "SyntaxError",
     "evalue": "invalid syntax (<ipython-input-17-bef97f406f33>, line 1)",
     "output_type": "error",
     "traceback": [
      "\u001b[1;36m  File \u001b[1;32m\"<ipython-input-17-bef97f406f33>\"\u001b[1;36m, line \u001b[1;32m1\u001b[0m\n\u001b[1;33m    @abc=10\u001b[0m\n\u001b[1;37m        ^\u001b[0m\n\u001b[1;31mSyntaxError\u001b[0m\u001b[1;31m:\u001b[0m invalid syntax\n"
     ]
    }
   ],
   "source": [
    "@abc=10"
   ]
  },
  {
   "cell_type": "markdown",
   "metadata": {},
   "source": [
    "- hello=100-------->Allowed\n",
    "\n",
    "- hi1234=100------->Allowed\n",
    "\n",
    "- _12ab=100-------->Allowed\n",
    "\n",
    "- 12_ab=100-------->Allowed\n",
    "\n",
    "- 123abc=100----->Not allowed\n",
    "\n",
    "- abc123=100----->allowed\n",
    "\n",
    "- if=100------>Not allowed\n",
    "\n",
    "- def=100----->Notallowed"
   ]
  },
  {
   "cell_type": "markdown",
   "metadata": {},
   "source": [
    "Note:-If & def are called keywords(reserved words) in python hence can't be used as variables"
   ]
  },
  {
   "cell_type": "markdown",
   "metadata": {},
   "source": [
    "# Keywords(Reserve words)\n",
    "PFB link for keywords details\n",
    "https://www.geeksforgeeks.org/python-keywords/\n"
   ]
  },
  {
   "cell_type": "markdown",
   "metadata": {},
   "source": [
    "# package\n",
    "- (Pkg->Modules->Python files(.py extension))\n",
    "\n",
    "- Inorder to run the code, pkg should be imported\n",
    "\n",
    "- Package is an open source which can be used by any user\n",
    "\n",
    "- PFB link for Package\n",
    "https://python-course.eu/python-tutorial/packages.php#:~:text=A%20package%20is%20basically%20a,the%20name%20__init__%20.&text=This%20means%20that%20every%20directory,several%20modules%20into%20a%20Package.\n",
    "\n",
    "- PFB link to know dfrnce between Module,Package& Library\n",
    "https://www.geeksforgeeks.org/what-is-the-difference-between-pythons-module-package-and-library/"
   ]
  },
  {
   "cell_type": "code",
   "execution_count": 20,
   "metadata": {},
   "outputs": [],
   "source": [
    "import keyword\n",
    "#here keyword is a package name\n"
   ]
  },
  {
   "cell_type": "code",
   "execution_count": 22,
   "metadata": {},
   "outputs": [
    {
     "data": {
      "text/plain": [
       "<module 'keyword' from 'C:\\\\Users\\\\gling\\\\anaconda3\\\\lib\\\\keyword.py'>"
      ]
     },
     "execution_count": 22,
     "metadata": {},
     "output_type": "execute_result"
    }
   ],
   "source": [
    "keyword\n",
    "#it is showing the path of keyword module in pc"
   ]
  },
  {
   "cell_type": "code",
   "execution_count": 23,
   "metadata": {},
   "outputs": [
    {
     "data": {
      "text/plain": [
       "['__all__',\n",
       " '__builtins__',\n",
       " '__cached__',\n",
       " '__doc__',\n",
       " '__file__',\n",
       " '__loader__',\n",
       " '__name__',\n",
       " '__package__',\n",
       " '__spec__',\n",
       " 'iskeyword',\n",
       " 'kwlist']"
      ]
     },
     "execution_count": 23,
     "metadata": {},
     "output_type": "execute_result"
    }
   ],
   "source": [
    "dir(keyword)  (Directory)\n",
    "A directory or folder is a collection of files and subdirectories.\n",
    "Python has the os module that provides us with many useful methods to work with directories (and files as well).\n"
   ]
  },
  {
   "cell_type": "code",
   "execution_count": 24,
   "metadata": {},
   "outputs": [
    {
     "data": {
      "text/plain": [
       "['False',\n",
       " 'None',\n",
       " 'True',\n",
       " 'and',\n",
       " 'as',\n",
       " 'assert',\n",
       " 'async',\n",
       " 'await',\n",
       " 'break',\n",
       " 'class',\n",
       " 'continue',\n",
       " 'def',\n",
       " 'del',\n",
       " 'elif',\n",
       " 'else',\n",
       " 'except',\n",
       " 'finally',\n",
       " 'for',\n",
       " 'from',\n",
       " 'global',\n",
       " 'if',\n",
       " 'import',\n",
       " 'in',\n",
       " 'is',\n",
       " 'lambda',\n",
       " 'nonlocal',\n",
       " 'not',\n",
       " 'or',\n",
       " 'pass',\n",
       " 'raise',\n",
       " 'return',\n",
       " 'try',\n",
       " 'while',\n",
       " 'with',\n",
       " 'yield']"
      ]
     },
     "execution_count": 24,
     "metadata": {},
     "output_type": "execute_result"
    }
   ],
   "source": [
    "#pkgname.filename\n",
    "keyword.kwlist"
   ]
  },
  {
   "cell_type": "code",
   "execution_count": 25,
   "metadata": {},
   "outputs": [
    {
     "ename": "ModuleNotFoundError",
     "evalue": "No module named 'cv2'",
     "output_type": "error",
     "traceback": [
      "\u001b[1;31m---------------------------------------------------------------------------\u001b[0m",
      "\u001b[1;31mModuleNotFoundError\u001b[0m                       Traceback (most recent call last)",
      "\u001b[1;32m<ipython-input-25-c8ec22b3e787>\u001b[0m in \u001b[0;36m<module>\u001b[1;34m\u001b[0m\n\u001b[1;32m----> 1\u001b[1;33m \u001b[1;32mimport\u001b[0m \u001b[0mcv2\u001b[0m\u001b[1;33m\u001b[0m\u001b[1;33m\u001b[0m\u001b[0m\n\u001b[0m",
      "\u001b[1;31mModuleNotFoundError\u001b[0m: No module named 'cv2'"
     ]
    }
   ],
   "source": [
    "import cv2 \n",
    "#Error occred since module cv2 is  not available in pc"
   ]
  },
  {
   "cell_type": "code",
   "execution_count": 30,
   "metadata": {},
   "outputs": [
    {
     "data": {
      "text/plain": [
       "['False',\n",
       " 'None',\n",
       " 'True',\n",
       " 'and',\n",
       " 'as',\n",
       " 'assert',\n",
       " 'async',\n",
       " 'await',\n",
       " 'break',\n",
       " 'class',\n",
       " 'continue',\n",
       " 'def',\n",
       " 'del',\n",
       " 'elif',\n",
       " 'else',\n",
       " 'except',\n",
       " 'finally',\n",
       " 'for',\n",
       " 'from',\n",
       " 'global',\n",
       " 'if',\n",
       " 'import',\n",
       " 'in',\n",
       " 'is',\n",
       " 'lambda',\n",
       " 'nonlocal',\n",
       " 'not',\n",
       " 'or',\n",
       " 'pass',\n",
       " 'raise',\n",
       " 'return',\n",
       " 'try',\n",
       " 'while',\n",
       " 'with',\n",
       " 'yield']"
      ]
     },
     "execution_count": 30,
     "metadata": {},
     "output_type": "execute_result"
    }
   ],
   "source": [
    "#assigning kwlist to variable\n",
    "#variable=pkgname.filename\n",
    "reserved_words=keyword.kwlist\n",
    "reserved_words"
   ]
  },
  {
   "cell_type": "markdown",
   "metadata": {},
   "source": [
    "In above, values present in kwlist are listed as o/p"
   ]
  },
  {
   "cell_type": "code",
   "execution_count": 31,
   "metadata": {},
   "outputs": [
    {
     "data": {
      "text/plain": [
       "35"
      ]
     },
     "execution_count": 31,
     "metadata": {},
     "output_type": "execute_result"
    }
   ],
   "source": [
    "#Gives length of reserved_words\n",
    "len(reserved_words)"
   ]
  },
  {
   "cell_type": "code",
   "execution_count": 7,
   "metadata": {},
   "outputs": [],
   "source": [
    "import keyword"
   ]
  },
  {
   "cell_type": "code",
   "execution_count": 8,
   "metadata": {},
   "outputs": [
    {
     "data": {
      "text/plain": [
       "['iskeyword', 'kwlist']"
      ]
     },
     "execution_count": 8,
     "metadata": {},
     "output_type": "execute_result"
    }
   ],
   "source": [
    "keyword.__all__"
   ]
  },
  {
   "cell_type": "code",
   "execution_count": 5,
   "metadata": {},
   "outputs": [
    {
     "data": {
      "text/plain": [
       "<function frozenset.__contains__>"
      ]
     },
     "execution_count": 5,
     "metadata": {},
     "output_type": "execute_result"
    }
   ],
   "source": [
    "keyword.iskeyword"
   ]
  },
  {
   "cell_type": "code",
   "execution_count": 9,
   "metadata": {},
   "outputs": [
    {
     "data": {
      "text/plain": [
       "{'__name__': 'builtins',\n",
       " '__doc__': \"Built-in functions, exceptions, and other objects.\\n\\nNoteworthy: None is the `nil' object; Ellipsis represents `...' in slices.\",\n",
       " '__package__': '',\n",
       " '__loader__': _frozen_importlib.BuiltinImporter,\n",
       " '__spec__': ModuleSpec(name='builtins', loader=<class '_frozen_importlib.BuiltinImporter'>),\n",
       " '__build_class__': <function __build_class__>,\n",
       " '__import__': <function __import__>,\n",
       " 'abs': <function abs(x, /)>,\n",
       " 'all': <function all(iterable, /)>,\n",
       " 'any': <function any(iterable, /)>,\n",
       " 'ascii': <function ascii(obj, /)>,\n",
       " 'bin': <function bin(number, /)>,\n",
       " 'breakpoint': <function breakpoint>,\n",
       " 'callable': <function callable(obj, /)>,\n",
       " 'chr': <function chr(i, /)>,\n",
       " 'compile': <function compile(source, filename, mode, flags=0, dont_inherit=False, optimize=-1, *, _feature_version=-1)>,\n",
       " 'delattr': <function delattr(obj, name, /)>,\n",
       " 'dir': <function dir>,\n",
       " 'divmod': <function divmod(x, y, /)>,\n",
       " 'eval': <function eval(source, globals=None, locals=None, /)>,\n",
       " 'exec': <function exec(source, globals=None, locals=None, /)>,\n",
       " 'format': <function format(value, format_spec='', /)>,\n",
       " 'getattr': <function getattr>,\n",
       " 'globals': <function globals()>,\n",
       " 'hasattr': <function hasattr(obj, name, /)>,\n",
       " 'hash': <function hash(obj, /)>,\n",
       " 'hex': <function hex(number, /)>,\n",
       " 'id': <function id(obj, /)>,\n",
       " 'input': <bound method Kernel.raw_input of <ipykernel.ipkernel.IPythonKernel object at 0x000001D236F27E50>>,\n",
       " 'isinstance': <function isinstance(obj, class_or_tuple, /)>,\n",
       " 'issubclass': <function issubclass(cls, class_or_tuple, /)>,\n",
       " 'iter': <function iter>,\n",
       " 'len': <function len(obj, /)>,\n",
       " 'locals': <function locals()>,\n",
       " 'max': <function max>,\n",
       " 'min': <function min>,\n",
       " 'next': <function next>,\n",
       " 'oct': <function oct(number, /)>,\n",
       " 'ord': <function ord(c, /)>,\n",
       " 'pow': <function pow(base, exp, mod=None)>,\n",
       " 'print': <function print>,\n",
       " 'repr': <function repr(obj, /)>,\n",
       " 'round': <function round(number, ndigits=None)>,\n",
       " 'setattr': <function setattr(obj, name, value, /)>,\n",
       " 'sorted': <function sorted(iterable, /, *, key=None, reverse=False)>,\n",
       " 'sum': <function sum(iterable, /, start=0)>,\n",
       " 'vars': <function vars>,\n",
       " 'None': None,\n",
       " 'Ellipsis': Ellipsis,\n",
       " 'NotImplemented': NotImplemented,\n",
       " 'False': False,\n",
       " 'True': True,\n",
       " 'bool': bool,\n",
       " 'memoryview': memoryview,\n",
       " 'bytearray': bytearray,\n",
       " 'bytes': bytes,\n",
       " 'classmethod': classmethod,\n",
       " 'complex': complex,\n",
       " 'dict': dict,\n",
       " 'enumerate': enumerate,\n",
       " 'filter': filter,\n",
       " 'float': float,\n",
       " 'frozenset': frozenset,\n",
       " 'property': property,\n",
       " 'int': int,\n",
       " 'list': list,\n",
       " 'map': map,\n",
       " 'object': object,\n",
       " 'range': range,\n",
       " 'reversed': reversed,\n",
       " 'set': set,\n",
       " 'slice': slice,\n",
       " 'staticmethod': staticmethod,\n",
       " 'str': str,\n",
       " 'super': super,\n",
       " 'tuple': tuple,\n",
       " 'type': type,\n",
       " 'zip': zip,\n",
       " '__debug__': True,\n",
       " 'BaseException': BaseException,\n",
       " 'Exception': Exception,\n",
       " 'TypeError': TypeError,\n",
       " 'StopAsyncIteration': StopAsyncIteration,\n",
       " 'StopIteration': StopIteration,\n",
       " 'GeneratorExit': GeneratorExit,\n",
       " 'SystemExit': SystemExit,\n",
       " 'KeyboardInterrupt': KeyboardInterrupt,\n",
       " 'ImportError': ImportError,\n",
       " 'ModuleNotFoundError': ModuleNotFoundError,\n",
       " 'OSError': OSError,\n",
       " 'EnvironmentError': OSError,\n",
       " 'IOError': OSError,\n",
       " 'WindowsError': OSError,\n",
       " 'EOFError': EOFError,\n",
       " 'RuntimeError': RuntimeError,\n",
       " 'RecursionError': RecursionError,\n",
       " 'NotImplementedError': NotImplementedError,\n",
       " 'NameError': NameError,\n",
       " 'UnboundLocalError': UnboundLocalError,\n",
       " 'AttributeError': AttributeError,\n",
       " 'SyntaxError': SyntaxError,\n",
       " 'IndentationError': IndentationError,\n",
       " 'TabError': TabError,\n",
       " 'LookupError': LookupError,\n",
       " 'IndexError': IndexError,\n",
       " 'KeyError': KeyError,\n",
       " 'ValueError': ValueError,\n",
       " 'UnicodeError': UnicodeError,\n",
       " 'UnicodeEncodeError': UnicodeEncodeError,\n",
       " 'UnicodeDecodeError': UnicodeDecodeError,\n",
       " 'UnicodeTranslateError': UnicodeTranslateError,\n",
       " 'AssertionError': AssertionError,\n",
       " 'ArithmeticError': ArithmeticError,\n",
       " 'FloatingPointError': FloatingPointError,\n",
       " 'OverflowError': OverflowError,\n",
       " 'ZeroDivisionError': ZeroDivisionError,\n",
       " 'SystemError': SystemError,\n",
       " 'ReferenceError': ReferenceError,\n",
       " 'MemoryError': MemoryError,\n",
       " 'BufferError': BufferError,\n",
       " 'Warning': Warning,\n",
       " 'UserWarning': UserWarning,\n",
       " 'DeprecationWarning': DeprecationWarning,\n",
       " 'PendingDeprecationWarning': PendingDeprecationWarning,\n",
       " 'SyntaxWarning': SyntaxWarning,\n",
       " 'RuntimeWarning': RuntimeWarning,\n",
       " 'FutureWarning': FutureWarning,\n",
       " 'ImportWarning': ImportWarning,\n",
       " 'UnicodeWarning': UnicodeWarning,\n",
       " 'BytesWarning': BytesWarning,\n",
       " 'ResourceWarning': ResourceWarning,\n",
       " 'ConnectionError': ConnectionError,\n",
       " 'BlockingIOError': BlockingIOError,\n",
       " 'BrokenPipeError': BrokenPipeError,\n",
       " 'ChildProcessError': ChildProcessError,\n",
       " 'ConnectionAbortedError': ConnectionAbortedError,\n",
       " 'ConnectionRefusedError': ConnectionRefusedError,\n",
       " 'ConnectionResetError': ConnectionResetError,\n",
       " 'FileExistsError': FileExistsError,\n",
       " 'FileNotFoundError': FileNotFoundError,\n",
       " 'IsADirectoryError': IsADirectoryError,\n",
       " 'NotADirectoryError': NotADirectoryError,\n",
       " 'InterruptedError': InterruptedError,\n",
       " 'PermissionError': PermissionError,\n",
       " 'ProcessLookupError': ProcessLookupError,\n",
       " 'TimeoutError': TimeoutError,\n",
       " 'open': <function io.open(file, mode='r', buffering=-1, encoding=None, errors=None, newline=None, closefd=True, opener=None)>,\n",
       " 'copyright': Copyright (c) 2001-2020 Python Software Foundation.\n",
       " All Rights Reserved.\n",
       " \n",
       " Copyright (c) 2000 BeOpen.com.\n",
       " All Rights Reserved.\n",
       " \n",
       " Copyright (c) 1995-2001 Corporation for National Research Initiatives.\n",
       " All Rights Reserved.\n",
       " \n",
       " Copyright (c) 1991-1995 Stichting Mathematisch Centrum, Amsterdam.\n",
       " All Rights Reserved.,\n",
       " 'credits':     Thanks to CWI, CNRI, BeOpen.com, Zope Corporation and a cast of thousands\n",
       "     for supporting Python development.  See www.python.org for more information.,\n",
       " 'license': See https://www.python.org/psf/license/,\n",
       " 'help': Type help() for interactive help, or help(object) for help about object.,\n",
       " '__IPYTHON__': True,\n",
       " 'display': <function IPython.core.display.display(*objs, include=None, exclude=None, metadata=None, transient=None, display_id=None, **kwargs)>,\n",
       " 'get_ipython': <bound method InteractiveShell.get_ipython of <ipykernel.zmqshell.ZMQInteractiveShell object at 0x000001D236F27E80>>}"
      ]
     },
     "execution_count": 9,
     "metadata": {},
     "output_type": "execute_result"
    }
   ],
   "source": [
    "keyword.__builtins__"
   ]
  },
  {
   "cell_type": "code",
   "execution_count": 10,
   "metadata": {},
   "outputs": [
    {
     "data": {
      "text/plain": [
       "''"
      ]
     },
     "execution_count": 10,
     "metadata": {},
     "output_type": "execute_result"
    }
   ],
   "source": [
    "keyword.__package__"
   ]
  },
  {
   "cell_type": "markdown",
   "metadata": {},
   "source": [
    "# Date:-Feb 1st, 2022"
   ]
  },
  {
   "cell_type": "markdown",
   "metadata": {},
   "source": [
    "##Data types:\n",
    "\n",
    "- Integer\n",
    "\n",
    "- Float\n",
    "\n",
    "- String\n",
    "\n",
    "- Boolean\n",
    "\n",
    "- Complex Conjugate"
   ]
  },
  {
   "cell_type": "markdown",
   "metadata": {},
   "source": [
    "##Integer\n",
    "- It is a number without decimal values\n",
    "\n",
    "- Integer can be represented in binary, decimal,octal &hexa format"
   ]
  },
  {
   "cell_type": "code",
   "execution_count": 14,
   "metadata": {},
   "outputs": [
    {
     "data": {
      "text/plain": [
       "int"
      ]
     },
     "execution_count": 14,
     "metadata": {},
     "output_type": "execute_result"
    }
   ],
   "source": [
    "a=10\n",
    "type(a)"
   ]
  },
  {
   "cell_type": "markdown",
   "metadata": {},
   "source": [
    "##Binary\n",
    "\n",
    "- Base is '2'\n",
    "\n",
    "- Allowed values-0&1\n",
    "\n",
    "- It is represented as 0b1101,0b01100...(Starting 2 places are fixed i.e.,0b)"
   ]
  },
  {
   "cell_type": "code",
   "execution_count": 19,
   "metadata": {},
   "outputs": [
    {
     "data": {
      "text/plain": [
       "13"
      ]
     },
     "execution_count": 19,
     "metadata": {},
     "output_type": "execute_result"
    }
   ],
   "source": [
    "a=0b1101   \n",
    "a\n",
    "# So consider  1     1     0     1\n",
    "              2^3   2^2   2^1   2^0\n",
    "            2^3*1  2^2*1 2^1*0 2^0*1\n",
    "              8*1   4*1   2*0   1*1\n",
    "              8+4+0+1=13 "
   ]
  },
  {
   "cell_type": "code",
   "execution_count": 22,
   "metadata": {},
   "outputs": [
    {
     "data": {
      "text/plain": [
       "7"
      ]
     },
     "execution_count": 22,
     "metadata": {},
     "output_type": "execute_result"
    }
   ],
   "source": [
    "a=0b111\n",
    "#1 1 1\n",
    "#4+2+1=7\n",
    "a"
   ]
  },
  {
   "cell_type": "code",
   "execution_count": 21,
   "metadata": {},
   "outputs": [
    {
     "data": {
      "text/plain": [
       "5"
      ]
     },
     "execution_count": 21,
     "metadata": {},
     "output_type": "execute_result"
    }
   ],
   "source": [
    "b=0b101\n",
    "#1 0 1\n",
    "#4*1+2*0+1*1\n",
    "#5\n",
    "b"
   ]
  },
  {
   "cell_type": "code",
   "execution_count": 23,
   "metadata": {},
   "outputs": [
    {
     "data": {
      "text/plain": [
       "3"
      ]
     },
     "execution_count": 23,
     "metadata": {},
     "output_type": "execute_result"
    }
   ],
   "source": [
    "c=0b011\n",
    " #0 1 1\n",
    " #2^2*0 + 2^1*1 + 2^0*1\n",
    " #3\n",
    "c\n",
    "\n"
   ]
  },
  {
   "cell_type": "code",
   "execution_count": 24,
   "metadata": {},
   "outputs": [
    {
     "data": {
      "text/plain": [
       "6"
      ]
     },
     "execution_count": 24,
     "metadata": {},
     "output_type": "execute_result"
    }
   ],
   "source": [
    "c=0b110\n",
    "#4+2 = 6\n",
    "c"
   ]
  },
  {
   "cell_type": "code",
   "execution_count": null,
   "metadata": {},
   "outputs": [],
   "source": [
    "Rule to be remember:-\n",
    "#2^3 2^2 2^1 2^0\n",
    "\n",
    "#8   4    2   1\n"
   ]
  },
  {
   "cell_type": "markdown",
   "metadata": {},
   "source": [
    "##Octal\n",
    "\n",
    "- Base is 8 \n",
    "\n",
    "- 8 digits are allowed (0 to 7)\n",
    "\n",
    "- Representation-- 0o123, 0o345, 0o576  (Starting by '0o')"
   ]
  },
  {
   "cell_type": "code",
   "execution_count": 25,
   "metadata": {},
   "outputs": [
    {
     "data": {
      "text/plain": [
       "64"
      ]
     },
     "execution_count": 25,
     "metadata": {},
     "output_type": "execute_result"
    }
   ],
   "source": [
    "a=0o100\n",
    "\n",
    "#8^2 *1  + 8^1 *0 +8^0 *0\n",
    "#64\n",
    "\n",
    "a"
   ]
  },
  {
   "cell_type": "code",
   "execution_count": 26,
   "metadata": {},
   "outputs": [
    {
     "data": {
      "text/plain": [
       "83"
      ]
     },
     "execution_count": 26,
     "metadata": {},
     "output_type": "execute_result"
    }
   ],
   "source": [
    "a=0o123\n",
    "\n",
    "#64 *1 + 8 *2 + 1 *3\n",
    "# 64+16+3 = 83\n",
    "\n",
    "a"
   ]
  },
  {
   "cell_type": "code",
   "execution_count": 27,
   "metadata": {},
   "outputs": [
    {
     "data": {
      "text/plain": [
       "138"
      ]
     },
     "execution_count": 27,
     "metadata": {},
     "output_type": "execute_result"
    }
   ],
   "source": [
    "b=0o212\n",
    "#2 * 64 + 8*1 + 1*2\n",
    "#138\n",
    "\n",
    "b"
   ]
  },
  {
   "cell_type": "code",
   "execution_count": 28,
   "metadata": {},
   "outputs": [
    {
     "data": {
      "text/plain": [
       "640"
      ]
     },
     "execution_count": 28,
     "metadata": {},
     "output_type": "execute_result"
    }
   ],
   "source": [
    "c=0o1200\n",
    "#512 *1 + 64 *2\n",
    "#512+128 =  640\n",
    "\n",
    "c"
   ]
  },
  {
   "cell_type": "code",
   "execution_count": 29,
   "metadata": {},
   "outputs": [
    {
     "data": {
      "text/plain": [
       "146"
      ]
     },
     "execution_count": 29,
     "metadata": {},
     "output_type": "execute_result"
    }
   ],
   "source": [
    "d=0o0222\n",
    "#8^3*0 + 8^2*2 + 8^1*2 + 8^0*2\n",
    "#64*2 + 8*2 + 1*2\n",
    "#146\n",
    "\n",
    "d"
   ]
  },
  {
   "cell_type": "markdown",
   "metadata": {},
   "source": [
    "## Hexa\n",
    "\n",
    "- Base is 16\n",
    "\n",
    "- Allowed digits are 0 to 9 & A to F(i.e., 10 to 15)\n",
    "\n",
    "- Representation- 0x12ab, 0xab23..(starting with '0x')\n",
    "\n"
   ]
  },
  {
   "cell_type": "code",
   "execution_count": 30,
   "metadata": {},
   "outputs": [
    {
     "data": {
      "text/plain": [
       "2748"
      ]
     },
     "execution_count": 30,
     "metadata": {},
     "output_type": "execute_result"
    }
   ],
   "source": [
    "0xabc\n",
    "\n",
    "#16^2 * 10 + 16^1 *11 + 16^0 *12\n",
    "#256*10 + 176 + 12\n",
    "#2560 +188 = 2748"
   ]
  },
  {
   "cell_type": "markdown",
   "metadata": {},
   "source": [
    "##Decimal\n",
    "- Base is 10\n",
    "\n",
    "- Allowed digits (0 to 9)\n",
    "\n",
    "- Representation- 3214, 543.21..."
   ]
  },
  {
   "cell_type": "markdown",
   "metadata": {},
   "source": [
    "# Any Input to Decimal vaue\n",
    "a=0b101\n",
    "a\n",
    "#Binary is converted to decimal form"
   ]
  },
  {
   "cell_type": "code",
   "execution_count": 33,
   "metadata": {},
   "outputs": [
    {
     "data": {
      "text/plain": [
       "1253"
      ]
     },
     "execution_count": 33,
     "metadata": {},
     "output_type": "execute_result"
    }
   ],
   "source": [
    "a=0o2345\n",
    "a\n",
    "#octal->Decimal"
   ]
  },
  {
   "cell_type": "code",
   "execution_count": 34,
   "metadata": {},
   "outputs": [
    {
     "data": {
      "text/plain": [
       "291"
      ]
     },
     "execution_count": 34,
     "metadata": {},
     "output_type": "execute_result"
    }
   ],
   "source": [
    "a=0x123\n",
    "a\n",
    "#Hexa->Decimal"
   ]
  },
  {
   "cell_type": "markdown",
   "metadata": {},
   "source": [
    "##Note\n",
    "\n",
    "- Whatever might be the I/p(i.e.,Octal or hexal or binary) , o/p returned is decimal value only "
   ]
  },
  {
   "cell_type": "markdown",
   "metadata": {},
   "source": [
    "# Binary to Octal\n",
    "a=0b101\n",
    "b=oct(a)\n",
    "b"
   ]
  },
  {
   "cell_type": "code",
   "execution_count": 54,
   "metadata": {},
   "outputs": [
    {
     "data": {
      "text/plain": [
       "5"
      ]
     },
     "execution_count": 54,
     "metadata": {},
     "output_type": "execute_result"
    }
   ],
   "source": [
    "b=0o5\n",
    "b"
   ]
  },
  {
   "cell_type": "markdown",
   "metadata": {},
   "source": [
    "From above example, PFB observations\n",
    "- 0b101 --> Binary = (5), since 0b represents Binary\n",
    "- 0o5 ----> Octal  = (5), since 0o represents octal"
   ]
  },
  {
   "cell_type": "markdown",
   "metadata": {},
   "source": [
    "# Binary to Hexa\n",
    "a=0b101\n",
    "b=hex(a)\n",
    "b"
   ]
  },
  {
   "cell_type": "code",
   "execution_count": 41,
   "metadata": {},
   "outputs": [
    {
     "data": {
      "text/plain": [
       "5"
      ]
     },
     "execution_count": 41,
     "metadata": {},
     "output_type": "execute_result"
    }
   ],
   "source": [
    "b=0x5\n",
    "b"
   ]
  },
  {
   "cell_type": "markdown",
   "metadata": {},
   "source": [
    "From above ex, PFB obs's\n",
    "\n",
    "- 0b101-->Binary =(5), since 0b represents binary\n",
    "\n",
    "- 0x5-->Hexa=(5), since 0x represents hexa"
   ]
  },
  {
   "cell_type": "markdown",
   "metadata": {},
   "source": [
    "- From both cases(Binary to octal & Binary to hexa) value derived is 5.. Indirectly, both are same(5)"
   ]
  },
  {
   "cell_type": "code",
   "execution_count": 44,
   "metadata": {},
   "outputs": [
    {
     "data": {
      "text/plain": [
       "('0o1', '0x1')"
      ]
     },
     "execution_count": 44,
     "metadata": {},
     "output_type": "execute_result"
    }
   ],
   "source": [
    "a=0b001\n",
    "b=oct(a)\n",
    "c=hex(a)\n",
    "b,c\n",
    "\n",
    "#0b001 ->2(binary)\n",
    "\n",
    "#oct(a)-> 0o1 ->2(Octal)\n",
    "\n",
    "#Hex(a)-> 0x1 ->2(Hex)\n"
   ]
  },
  {
   "cell_type": "code",
   "execution_count": 55,
   "metadata": {},
   "outputs": [
    {
     "data": {
      "text/plain": [
       "1"
      ]
     },
     "execution_count": 55,
     "metadata": {},
     "output_type": "execute_result"
    }
   ],
   "source": [
    "a=0o1\n",
    "a"
   ]
  },
  {
   "cell_type": "code",
   "execution_count": 56,
   "metadata": {},
   "outputs": [
    {
     "data": {
      "text/plain": [
       "1"
      ]
     },
     "execution_count": 56,
     "metadata": {},
     "output_type": "execute_result"
    }
   ],
   "source": [
    "b=0x1\n",
    "b"
   ]
  },
  {
   "cell_type": "code",
   "execution_count": null,
   "metadata": {},
   "outputs": [],
   "source": [
    "#Note:-\n",
    "\n",
    "- In both the cases, value is same (1)"
   ]
  },
  {
   "cell_type": "markdown",
   "metadata": {},
   "source": [
    "# Octal to binary & hexa\n"
   ]
  },
  {
   "cell_type": "code",
   "execution_count": 48,
   "metadata": {},
   "outputs": [
    {
     "data": {
      "text/plain": [
       "'0b1010011100'"
      ]
     },
     "execution_count": 48,
     "metadata": {},
     "output_type": "execute_result"
    }
   ],
   "source": [
    "a=0o1234\n",
    "b=bin(a)\n",
    "b"
   ]
  },
  {
   "cell_type": "code",
   "execution_count": 49,
   "metadata": {},
   "outputs": [
    {
     "data": {
      "text/plain": [
       "'0x29c'"
      ]
     },
     "execution_count": 49,
     "metadata": {},
     "output_type": "execute_result"
    }
   ],
   "source": [
    "a=0o1234\n",
    "c=hex(a)\n",
    "c"
   ]
  },
  {
   "cell_type": "code",
   "execution_count": 50,
   "metadata": {},
   "outputs": [
    {
     "data": {
      "text/plain": [
       "(668, '0b1010011100', '0x29c')"
      ]
     },
     "execution_count": 50,
     "metadata": {},
     "output_type": "execute_result"
    }
   ],
   "source": [
    "a,b,c\n"
   ]
  },
  {
   "cell_type": "code",
   "execution_count": 51,
   "metadata": {},
   "outputs": [
    {
     "data": {
      "text/plain": [
       "(668, 668, 668)"
      ]
     },
     "execution_count": 51,
     "metadata": {},
     "output_type": "execute_result"
    }
   ],
   "source": [
    "a=668\n",
    "b=0b1010011100\n",
    "#1 0 1 0 0 1 1 1 0 0 ->512 +128+ 16 + 8 + 4 =  668\n",
    "c=0x29c\n",
    "# 2 9 c-> 16^2 * 2 + 16^1 *  9 + 16^0 *12 == 512 + 144 +12 ==  668\n",
    "a,b,c\n",
    "\n"
   ]
  },
  {
   "cell_type": "markdown",
   "metadata": {},
   "source": [
    "# Hexa to Octal & Binary"
   ]
  },
  {
   "cell_type": "code",
   "execution_count": 52,
   "metadata": {},
   "outputs": [
    {
     "data": {
      "text/plain": [
       "'0o125715'"
      ]
     },
     "execution_count": 52,
     "metadata": {},
     "output_type": "execute_result"
    }
   ],
   "source": [
    "a=0xABCD\n",
    "b=oct(a)\n",
    "b"
   ]
  },
  {
   "cell_type": "code",
   "execution_count": 56,
   "metadata": {},
   "outputs": [
    {
     "data": {
      "text/plain": [
       "'0b1010101111001101'"
      ]
     },
     "execution_count": 56,
     "metadata": {},
     "output_type": "execute_result"
    }
   ],
   "source": [
    "a=0xABCD\n",
    "b=bin(a)\n",
    "b"
   ]
  },
  {
   "cell_type": "code",
   "execution_count": 57,
   "metadata": {},
   "outputs": [
    {
     "data": {
      "text/plain": [
       "43981"
      ]
     },
     "execution_count": 57,
     "metadata": {},
     "output_type": "execute_result"
    }
   ],
   "source": [
    "a=0o125715\n",
    "a"
   ]
  },
  {
   "cell_type": "code",
   "execution_count": 58,
   "metadata": {},
   "outputs": [
    {
     "data": {
      "text/plain": [
       "43981"
      ]
     },
     "execution_count": 58,
     "metadata": {},
     "output_type": "execute_result"
    }
   ],
   "source": [
    "b=0b1010101111001101\n",
    "b"
   ]
  },
  {
   "cell_type": "code",
   "execution_count": null,
   "metadata": {},
   "outputs": [],
   "source": [
    "- Binary to Octal & Hexa\n",
    "\n",
    "- Octal to Binary & Hexa\n",
    "\n",
    "- Hexa to Octary & Binary\n",
    "\n",
    "- In all above 3 cases, Values will be same"
   ]
  },
  {
   "cell_type": "markdown",
   "metadata": {},
   "source": [
    "# Date:- Feb 2nd, 2022\n"
   ]
  },
  {
   "cell_type": "code",
   "execution_count": null,
   "metadata": {},
   "outputs": [],
   "source": [
    "##Print Statement\n",
    "\n",
    "- Statements in print should be single quoted/double quoted(In Code form)"
   ]
  },
  {
   "cell_type": "code",
   "execution_count": 61,
   "metadata": {},
   "outputs": [
    {
     "data": {
      "text/plain": [
       "'Hello hwruh'"
      ]
     },
     "execution_count": 61,
     "metadata": {},
     "output_type": "execute_result"
    }
   ],
   "source": [
    "#ex---for above case\n",
    "'Hello hwruh'"
   ]
  },
  {
   "cell_type": "code",
   "execution_count": 62,
   "metadata": {},
   "outputs": [
    {
     "name": "stdout",
     "output_type": "stream",
     "text": [
      "agd adj\n"
     ]
    }
   ],
   "source": [
    "print('agd adj')"
   ]
  },
  {
   "cell_type": "code",
   "execution_count": 77,
   "metadata": {},
   "outputs": [
    {
     "name": "stdout",
     "output_type": "stream",
     "text": [
      "15\n",
      "the addition of 2 no.s is 15\n",
      "the addition of 2 no.s is = 15\n",
      "the addition of 2 no.s is : 15\n"
     ]
    }
   ],
   "source": [
    "#addition of no.s using print stmnt \n",
    "a=5\n",
    "b=10\n",
    "c=a+b\n",
    "print(c)\n",
    "print('the addition of 2 no.s is', c)\n",
    "print('the addition of 2 no.s is =',c)\n",
    "print('the addition of 2 no.s is :', c)"
   ]
  },
  {
   "cell_type": "code",
   "execution_count": 65,
   "metadata": {},
   "outputs": [
    {
     "name": "stdout",
     "output_type": "stream",
     "text": [
      "11\n"
     ]
    }
   ],
   "source": [
    "#print stmnt\n",
    "a=0b1011\n",
    "print(a)"
   ]
  },
  {
   "cell_type": "code",
   "execution_count": 69,
   "metadata": {},
   "outputs": [
    {
     "name": "stdout",
     "output_type": "stream",
     "text": [
      "the decimal value of a is 11\n"
     ]
    }
   ],
   "source": [
    "#print\n",
    "a=0b1011\n",
    "print('the decimal value of a is', a)"
   ]
  },
  {
   "cell_type": "code",
   "execution_count": 70,
   "metadata": {},
   "outputs": [
    {
     "name": "stdout",
     "output_type": "stream",
     "text": [
      "83\n"
     ]
    }
   ],
   "source": [
    "#print\n",
    "a=0o123\n",
    "print(a)"
   ]
  },
  {
   "cell_type": "code",
   "execution_count": 71,
   "metadata": {},
   "outputs": [
    {
     "name": "stdout",
     "output_type": "stream",
     "text": [
      "the decimal value of a is 83\n"
     ]
    }
   ],
   "source": [
    "print('the decimal value of a is', a)"
   ]
  },
  {
   "cell_type": "code",
   "execution_count": 92,
   "metadata": {},
   "outputs": [
    {
     "name": "stdout",
     "output_type": "stream",
     "text": [
      "('Btech', 'Mtech', 'PGDM')\n",
      "('CMR', 'MRIT', 'IIRM')\n",
      "('Hyd', 'Hyd', 'Knr')\n",
      "('500085', '500085', '505001')\n",
      "Courses offered are ('Btech', 'Mtech', 'PGDM')\n",
      "Courses offered are ('Btech', 'Mtech', 'PGDM')\n",
      "Courses offered are: ('Btech', 'Mtech', 'PGDM')\n",
      "Courses offered are: ('Btech', 'Mtech', 'PGDM')\n",
      "Courses offered are= ('Btech', 'Mtech', 'PGDM')\n",
      "Courses offered are= ('Btech', 'Mtech', 'PGDM')\n"
     ]
    }
   ],
   "source": [
    "course='Btech','Mtech','PGDM'\n",
    "college='CMR','MRIT','IIRM'\n",
    "City='Hyd','Hyd','Knr'\n",
    "Pincode='500085','500085','505001'\n",
    "#using print stmmnt\n",
    "print(course)\n",
    "print(college)\n",
    "print(City)\n",
    "print(Pincode)\n",
    "#Print stmnt using single & double quotations with comma\n",
    "print(\"Courses offered are\",course)\n",
    "print('Courses offered are',course)\n",
    "#print stmnt using colon\n",
    "print('Courses offered are:',course)\n",
    "print(\"Courses offered are:\",course)\n",
    "#\n",
    "print('Courses offered are=',course)\n",
    "print(\"Courses offered are=\",course)\n"
   ]
  },
  {
   "cell_type": "markdown",
   "metadata": {},
   "source": [
    "##Float\n",
    "\n",
    "- Numbers allowed are decimal values(ex-1.23)"
   ]
  },
  {
   "cell_type": "code",
   "execution_count": 93,
   "metadata": {},
   "outputs": [
    {
     "name": "stdout",
     "output_type": "stream",
     "text": [
      "the type of a is <class 'float'>\n"
     ]
    }
   ],
   "source": [
    "#print float no\n",
    "a=1.23\n",
    "print('the type of a is',type(a))"
   ]
  },
  {
   "cell_type": "code",
   "execution_count": 94,
   "metadata": {},
   "outputs": [
    {
     "name": "stdout",
     "output_type": "stream",
     "text": [
      "the type of a is: <class 'int'>\n"
     ]
    }
   ],
   "source": [
    "#print integer no.\n",
    "a=129\n",
    "print('the type of a is:',type(a))"
   ]
  },
  {
   "cell_type": "markdown",
   "metadata": {},
   "source": [
    "##String\n",
    "\n",
    "- Allowed values are characters\n",
    "\n",
    "- Represented in single & double quotations"
   ]
  },
  {
   "cell_type": "code",
   "execution_count": 95,
   "metadata": {},
   "outputs": [
    {
     "data": {
      "text/plain": [
       "str"
      ]
     },
     "execution_count": 95,
     "metadata": {},
     "output_type": "execute_result"
    }
   ],
   "source": [
    "#example of string\n",
    "a='hello'\n",
    "type(a)"
   ]
  },
  {
   "cell_type": "code",
   "execution_count": 101,
   "metadata": {},
   "outputs": [
    {
     "data": {
      "text/plain": [
       "str"
      ]
     },
     "execution_count": 101,
     "metadata": {},
     "output_type": "execute_result"
    }
   ],
   "source": [
    "#ex of string\n",
    "a=\"hello\"\n",
    "type(a)\n"
   ]
  },
  {
   "cell_type": "code",
   "execution_count": 102,
   "metadata": {},
   "outputs": [
    {
     "name": "stdout",
     "output_type": "stream",
     "text": [
      "the type of a is: <class 'str'>\n"
     ]
    }
   ],
   "source": [
    "a=\"hello\"\n",
    "\n",
    "print(\"the type of a is:\",type(a))\n"
   ]
  },
  {
   "cell_type": "code",
   "execution_count": 110,
   "metadata": {},
   "outputs": [
    {
     "name": "stdout",
     "output_type": "stream",
     "text": [
      "the value of a is: hello there how are you 'Im fine',what about you?\n"
     ]
    }
   ],
   "source": [
    "# To highlight a word(I'm fine) in the sentence enclosed by double quotes\n",
    "a=\"hello there how are you 'Im fine',what about you?\"\n",
    "a\n",
    "print(\"the value of a is:\", a)"
   ]
  },
  {
   "cell_type": "code",
   "execution_count": 109,
   "metadata": {},
   "outputs": [
    {
     "name": "stdout",
     "output_type": "stream",
     "text": [
      "The value of a is hello there how are you \"Im fine\",what about you?\n"
     ]
    }
   ],
   "source": [
    "# To highlight a word(I'm fine) in the sentence enclosed by single quote\n",
    "a='hello there how are you \"Im fine\",what about you?'\n",
    "a\n",
    "print('The value of a is', a)"
   ]
  },
  {
   "cell_type": "code",
   "execution_count": 112,
   "metadata": {},
   "outputs": [
    {
     "name": "stdout",
     "output_type": "stream",
     "text": [
      "In which company \n",
      "        are you working\n"
     ]
    }
   ],
   "source": [
    "#In order to print in such below sequence, triple quotes is advisable\n",
    "#using triple quotes\n",
    "a=\"\"\"In which company \n",
    "        are you working\"\"\"\n",
    "print(a)"
   ]
  },
  {
   "cell_type": "code",
   "execution_count": 113,
   "metadata": {},
   "outputs": [
    {
     "name": "stdout",
     "output_type": "stream",
     "text": [
      "In which company \n",
      "        are you working\n",
      "            I'm working at VAM\n"
     ]
    }
   ],
   "source": [
    "a=\"\"\"In which company \n",
    "        are you working\n",
    "            I'm working at VAM\"\"\"\n",
    "print(a)"
   ]
  },
  {
   "cell_type": "code",
   "execution_count": 1,
   "metadata": {},
   "outputs": [
    {
     "name": "stdout",
     "output_type": "stream",
     "text": [
      "The addition of num1 & num2 is 90\n",
      "The subtraction of num1 & num2 is 10\n",
      "The multiplication of num1 & num2 is 2000\n"
     ]
    }
   ],
   "source": [
    "#To print addn ,sub&mult of a given no.s \n",
    "#num1=50, num2=40\n",
    "#Expected O/P:-\n",
    "#   The addition of num1 & num2 is 90\n",
    "#  The subtraction of num1 & num2 is 10\n",
    "# The multiplication of num1 & num2 is 2000\n",
    "    \n",
    "num1=50\n",
    "num2=40\n",
    "sum1=num1+num2\n",
    "sub=num1-num2\n",
    "mul=num1*num2\n",
    "print('The addition of num1 & num2 is',sum1)\n",
    "print('The subtraction of num1 & num2 is',sub)\n",
    "print('The multiplication of num1 & num2 is',mul)"
   ]
  },
  {
   "cell_type": "code",
   "execution_count": 122,
   "metadata": {},
   "outputs": [
    {
     "name": "stdout",
     "output_type": "stream",
     "text": [
      "Person Name is XYZ\n",
      "Lives in: Hyderabad city\n",
      "Flat no. is= 504\n"
     ]
    }
   ],
   "source": [
    "#To print a person whose name is XYZ who lives in city Hyderabad in flat no. 504\n",
    "#Expected O/P\n",
    "# Person name  is XYZ\n",
    "# Lives in Hyderabad city\n",
    "# Flat no. 504\n",
    "\n",
    "PersonName='XYZ'\n",
    "CityName='Hyderabad city'\n",
    "Flatno='504'\n",
    "print(\"Person Name is\",PersonName)\n",
    "print(\"Lives in:\",CityName)\n",
    "print(\"Flat no. is=\",Flatno)"
   ]
  },
  {
   "cell_type": "markdown",
   "metadata": {},
   "source": [
    "##complex conjugate\n",
    "\n",
    "- It is in form of a+bj where a is real no. \n",
    "\n",
    "- b is complex no. or imaginary no.\n",
    "\n",
    "- j is root(-1)"
   ]
  },
  {
   "cell_type": "code",
   "execution_count": 123,
   "metadata": {},
   "outputs": [
    {
     "data": {
      "text/plain": [
       "complex"
      ]
     },
     "execution_count": 123,
     "metadata": {},
     "output_type": "execute_result"
    }
   ],
   "source": [
    "#ex-1 for complex no.\n",
    "a=3+4j\n",
    "type(a)"
   ]
  },
  {
   "cell_type": "code",
   "execution_count": 124,
   "metadata": {},
   "outputs": [
    {
     "data": {
      "text/plain": [
       "3.0"
      ]
     },
     "execution_count": 124,
     "metadata": {},
     "output_type": "execute_result"
    }
   ],
   "source": [
    "#to print real no.\n",
    "a.real"
   ]
  },
  {
   "cell_type": "code",
   "execution_count": 127,
   "metadata": {},
   "outputs": [
    {
     "data": {
      "text/plain": [
       "4.0"
      ]
     },
     "execution_count": 127,
     "metadata": {},
     "output_type": "execute_result"
    }
   ],
   "source": [
    "#to print imgnry or cmplx no.\n",
    "a.imag"
   ]
  },
  {
   "cell_type": "code",
   "execution_count": 128,
   "metadata": {},
   "outputs": [
    {
     "name": "stdout",
     "output_type": "stream",
     "text": [
      "The value of real is 3.0\n"
     ]
    }
   ],
   "source": [
    "#Using print stmnt to print real no.\n",
    "print('The value of real is',a.real)"
   ]
  },
  {
   "cell_type": "code",
   "execution_count": 130,
   "metadata": {},
   "outputs": [
    {
     "name": "stdout",
     "output_type": "stream",
     "text": [
      "the value of imaginary no. is= 4.0\n"
     ]
    }
   ],
   "source": [
    "#Using print statment to print imaginary no.\n",
    "print('the value of imaginary no. is=',a.imag)"
   ]
  },
  {
   "cell_type": "code",
   "execution_count": 134,
   "metadata": {},
   "outputs": [
    {
     "data": {
      "text/plain": [
       "complex"
      ]
     },
     "execution_count": 134,
     "metadata": {},
     "output_type": "execute_result"
    }
   ],
   "source": [
    "#ex-2 for complex no.\n",
    "b=-5-9j\n",
    "type(b)\n"
   ]
  },
  {
   "cell_type": "code",
   "execution_count": 137,
   "metadata": {},
   "outputs": [
    {
     "name": "stdout",
     "output_type": "stream",
     "text": [
      "The value of real no. is -5.0\n",
      "The value of imaginary no. is -9.0\n"
     ]
    }
   ],
   "source": [
    "#print real no. using print stmnt\n",
    "print('The value of real no. is',b.real)\n",
    "print('The value of imaginary no. is',b.imag)"
   ]
  },
  {
   "cell_type": "code",
   "execution_count": 138,
   "metadata": {},
   "outputs": [
    {
     "name": "stdout",
     "output_type": "stream",
     "text": [
      "Hello\n",
      "howruh\n"
     ]
    }
   ],
   "source": [
    "print(\"Hello\")\n",
    "print(\"howruh\")"
   ]
  },
  {
   "cell_type": "code",
   "execution_count": 141,
   "metadata": {},
   "outputs": [
    {
     "name": "stdout",
     "output_type": "stream",
     "text": [
      "Hellohow are uh\n"
     ]
    }
   ],
   "source": [
    "# ex-1--To print 2 statements in same line --- end operator is used \n",
    "print(\"Hello\",end='')\n",
    "print(\"how are uh\")\n",
    "\n",
    "#Two sentences are merged using end operator with no space"
   ]
  },
  {
   "cell_type": "code",
   "execution_count": 142,
   "metadata": {},
   "outputs": [
    {
     "name": "stdout",
     "output_type": "stream",
     "text": [
      "Hello how are uh\n"
     ]
    }
   ],
   "source": [
    "#Two stmnts are merged using end operator with single space\n",
    "print(\"Hello\",end=' ')\n",
    "print(\"how are uh\")\n"
   ]
  },
  {
   "cell_type": "code",
   "execution_count": 143,
   "metadata": {},
   "outputs": [
    {
     "name": "stdout",
     "output_type": "stream",
     "text": [
      "Hello&how are you\n"
     ]
    }
   ],
   "source": [
    "#By using and(&)operator in end \n",
    "print(\"Hello\",end='&')\n",
    "print(\"how are you\")"
   ]
  },
  {
   "cell_type": "code",
   "execution_count": 155,
   "metadata": {},
   "outputs": [
    {
     "name": "stdout",
     "output_type": "stream",
     "text": [
      "The value of real number is 4.0 The value of imaginary number is 5.0\n"
     ]
    }
   ],
   "source": [
    "#ex-2 -end operator\n",
    "a=4+5j\n",
    "print('The value of real number is',a.real,end=' ')\n",
    "print('The value of imaginary number is',a.imag)"
   ]
  },
  {
   "cell_type": "code",
   "execution_count": 157,
   "metadata": {},
   "outputs": [
    {
     "name": "stdout",
     "output_type": "stream",
     "text": [
      "The value of real number is 4.0 & The value of imaginary number is 5.0\n"
     ]
    }
   ],
   "source": [
    "#Instead of using 2 print stmnts, using 1 print stmnt , use format operator\n",
    "ex-1\n",
    "#The value of real number is 4.0&The value of imaginary number is 5.0\n",
    "#The value of real number is {} & The value of imaginary number is {} \n",
    "# Instead of values, give empty curly braces followed by .format()\n",
    "\n",
    "print(\"The value of real number is {} & The value of imaginary number is {}\".format(a.real,a.imag))\n",
    "\n",
    "\n"
   ]
  },
  {
   "cell_type": "markdown",
   "metadata": {},
   "source": [
    "# Date:-Feb 4th,2022"
   ]
  },
  {
   "cell_type": "code",
   "execution_count": 164,
   "metadata": {
    "scrolled": true
   },
   "outputs": [
    {
     "name": "stdout",
     "output_type": "stream",
     "text": [
      "the value of real no.is 10.0&the value of imaginary no. is 14.0\n"
     ]
    }
   ],
   "source": [
    "#Ex--2\n",
    "b=10+14j\n",
    "print(\"the value of real no.is\",b.real,end='&')\n",
    "print(\"the value of imaginary no. is\",b.imag)"
   ]
  },
  {
   "cell_type": "code",
   "execution_count": 165,
   "metadata": {},
   "outputs": [
    {
     "name": "stdout",
     "output_type": "stream",
     "text": [
      "the value of real no.is 10.0&the value of imaginary no. is 14.0\n"
     ]
    }
   ],
   "source": [
    "#using format operator\n",
    "print(\"the value of real no.is {}&the value of imaginary no. is {}\".format(b.real,b.imag))\n"
   ]
  },
  {
   "cell_type": "code",
   "execution_count": 176,
   "metadata": {},
   "outputs": [
    {
     "name": "stdout",
     "output_type": "stream",
     "text": [
      "real no. is: 100.0\n",
      "imaginary no. is: 108.0\n",
      "the value of real no. is 100.0\n",
      "the value of imaginary no. is 108.0\n",
      "the value of real no is 100.0&the value of imaginary no. is 108.0\n",
      "the value of real no is 100.0the value of imaginary no. is 108.0\n",
      "the value of real no is 100.0 the value of imaginary no. is 108.0\n",
      "the value of real no is 100.0&the value of imaginary no. is 108.0\n"
     ]
    }
   ],
   "source": [
    "#(using print,end & format operator)\n",
    "d=100+108j\n",
    "#Case---1\n",
    "print(\"real no. is:\",d.real)\n",
    "print(\"imaginary no. is:\",d.imag)\n",
    "print(\"the value of real no. is\",d.real)\n",
    "print(\"the value of imaginary no. is\",d.imag)\n",
    "#Case---2\n",
    "#using end with & operator\n",
    "print(\"the value of real no is\",d.real,end='&')\n",
    "print(\"the value of imaginary no. is\",d.imag)\n",
    "#using end with no space''\n",
    "print(\"the value of real no is\",d.real,end='')\n",
    "print(\"the value of imaginary no. is\",d.imag)\n",
    "#using end with single space ' '\n",
    "print(\"the value of real no is\",d.real,end=' ')\n",
    "print(\"the value of imaginary no. is\",d.imag)\n",
    "#Case---3 (Format operator)\n",
    "print(\"the value of real no is {}&the value of imaginary no. is {}\".format(d.real,d.imag))\n"
   ]
  },
  {
   "cell_type": "code",
   "execution_count": 193,
   "metadata": {},
   "outputs": [
    {
     "name": "stdout",
     "output_type": "stream",
     "text": [
      "number1 is: 10\n",
      "number 2 is: 30\n",
      "the sum of number1 & number2 is= 40\n",
      "the sub of number1 & number2 is= 20\n",
      "number1 is: 10 &number 2 is: 30\n",
      "the sum of number1 & number2 is= 40 & the sub of number1 & number2 is= 20\n",
      "the sum of number1 & number2 is= 40the sub of number1 & number2 is= 20\n",
      "the sum of number1 & number2 is= 40  the sub of number1 & number2 is= 20\n",
      "the sum of 10 & 30 is=40\n",
      "the sub of 10 & 30 is=20\n"
     ]
    }
   ],
   "source": [
    "#Using print,end&format operator\n",
    "num1=10\n",
    "num2=30\n",
    "sum1=num1+num2\n",
    "sub2=num2-num1\n",
    "#using print\n",
    "print(\"number1 is:\",num1)\n",
    "print(\"number 2 is:\",num2)\n",
    "\n",
    "print(\"the sum of number1 & number2 is=\",sum1)\n",
    "print(\"the sub of number1 & number2 is=\",sub2)\n",
    "\n",
    "#end \n",
    "print(\"number1 is:\",num1,end=' &')\n",
    "print(\"number 2 is:\",num2)\n",
    "\n",
    "#using end operator (&)\n",
    "print(\"the sum of number1 & number2 is=\",sum1,end=' & ')\n",
    "print(\"the sub of number1 & number2 is=\",sub2)\n",
    "#using end operator ('')\n",
    "print(\"the sum of number1 & number2 is=\",sum1,end='')\n",
    "print(\"the sub of number1 & number2 is=\",sub2)\n",
    "#using end operator(' ') \n",
    "print(\"the sum of number1 & number2 is=\",sum1,end='  ')\n",
    "print(\"the sub of number1 & number2 is=\",sub2)\n",
    "\n",
    "#using format operator (.format())\n",
    "print(\"the sum of {} & {} is={}\".format(num1,num2,sum1))\n",
    "print(\"the sub of {} & {} is={}\".format(num1,num2,sub2))\n",
    "\n"
   ]
  },
  {
   "cell_type": "code",
   "execution_count": 44,
   "metadata": {},
   "outputs": [
    {
     "name": "stdout",
     "output_type": "stream",
     "text": [
      "the total of num1 & num2 is: 50\n",
      "the avg of num1 & num2 is: 25.0\n",
      "The total of 20 & 30 is 50\n",
      "The average of 20 & 30 is 25.0\n",
      "the total & average of 20 & 30 is 50 & 25.0 \n",
      "the total is 50 & the average is 25.0\n"
     ]
    }
   ],
   "source": [
    "#Total &avg of 2 numbers using format operator\n",
    "num1=20\n",
    "num2=30\n",
    "total=num1+num2\n",
    "avg=total/2\n",
    "print('the total of num1 & num2 is:',total)\n",
    "print('the avg of num1 & num2 is:',avg)\n",
    "print('The total of {} & {} is {}'.format(num1,num2,total))\n",
    "print('The average of {} & {} is {}'.format(num1,num2,avg))\n",
    "print(\"the total & average of {} & {} is {} & {} \".format(num1,num2,total,avg))\n",
    "print(\"the total is {} & the average is {}\".format(total,avg))"
   ]
  },
  {
   "cell_type": "code",
   "execution_count": 20,
   "metadata": {},
   "outputs": [
    {
     "name": "stdout",
     "output_type": "stream",
     "text": [
      "The total of num1:&The total of num2: 50\n",
      "The total of num1: The total of num2: 50\n",
      "The total of num1:The total of num2: 50\n",
      "The average of num1 is&The average of num2 is: 25.0\n",
      "The average of num1 is The average of num2 is: 25.0\n",
      "The average of num1 isThe average of num2 is: 25.0\n"
     ]
    }
   ],
   "source": [
    "#Total & avg of 2 numbers using end operator\n",
    "num1=20\n",
    "num2=30\n",
    "total=num1+num2\n",
    "avg=(num1+num2)/2\n",
    "\n",
    "#using end operator(&)\n",
    "print('The total of num1:',end='&')\n",
    "print('The total of num2:',total)\n",
    "#using end operator( )\n",
    "print('The total of num1:',end=' ')\n",
    "print('The total of num2:',total)\n",
    "#using end operator()\n",
    "print('The total of num1:',end='')\n",
    "print('The total of num2:',total)\n",
    "\n",
    "#using end operator(&)\n",
    "print(\"The average of num1 is\",end='&')\n",
    "print(\"The average of num2 is:\",avg)\n",
    "#using end operator( )\n",
    "print(\"The average of num1 is\",end=' ')\n",
    "print(\"The average of num2 is:\",avg)\n",
    "#using end operator()\n",
    "print(\"The average of num1 is\",end='')\n",
    "print(\"The average of num2 is:\",avg)\n"
   ]
  },
  {
   "cell_type": "code",
   "execution_count": 34,
   "metadata": {},
   "outputs": [
    {
     "name": "stdout",
     "output_type": "stream",
     "text": [
      "num1 is: 12\n",
      "The square of num1 is: 12\n",
      "the square of 12 is: 144 \n"
     ]
    }
   ],
   "source": [
    "#to find square of  a number\n",
    "num1=12\n",
    "square_no=num1*num1\n",
    "print('num1 is:',num1)\n",
    "print('The square of num1 is:',num1)\n",
    "print(\"the square of {} is: {} \".format(num1,square_no))"
   ]
  },
  {
   "cell_type": "markdown",
   "metadata": {},
   "source": [
    "# using input statement"
   ]
  },
  {
   "cell_type": "code",
   "execution_count": 37,
   "metadata": {},
   "outputs": [
    {
     "name": "stdout",
     "output_type": "stream",
     "text": [
      "enter a number:10\n"
     ]
    },
    {
     "data": {
      "text/plain": [
       "'10'"
      ]
     },
     "execution_count": 37,
     "metadata": {},
     "output_type": "execute_result"
    }
   ],
   "source": [
    "input(\"enter a number:\")"
   ]
  },
  {
   "cell_type": "code",
   "execution_count": 39,
   "metadata": {},
   "outputs": [
    {
     "name": "stdout",
     "output_type": "stream",
     "text": [
      "enter a number:10\n"
     ]
    },
    {
     "data": {
      "text/plain": [
       "'10'"
      ]
     },
     "execution_count": 39,
     "metadata": {},
     "output_type": "execute_result"
    }
   ],
   "source": [
    "#assigning it to 'n'\n",
    "n=input(\"enter a number:\")\n"
   ]
  },
  {
   "cell_type": "code",
   "execution_count": 40,
   "metadata": {},
   "outputs": [
    {
     "data": {
      "text/plain": [
       "'10'"
      ]
     },
     "execution_count": 40,
     "metadata": {},
     "output_type": "execute_result"
    }
   ],
   "source": [
    "#To store value in a variable\n",
    "n"
   ]
  },
  {
   "cell_type": "code",
   "execution_count": 65,
   "metadata": {},
   "outputs": [
    {
     "name": "stdout",
     "output_type": "stream",
     "text": [
      "Enter num1:10\n",
      "Enter num2:20\n",
      "the number is: 10\n",
      "the number is: 20\n"
     ]
    }
   ],
   "source": [
    "#Addition of 2 numbers\n",
    "num1=input(\"Enter num1:\")\n",
    "num2=input(\"Enter num2:\")\n",
    "print('the number is:',num1)\n",
    "print('the number is:',num2)\n",
    "\n"
   ]
  },
  {
   "cell_type": "markdown",
   "metadata": {},
   "source": [
    "# Date:-Feb 5th,2022"
   ]
  },
  {
   "cell_type": "code",
   "execution_count": 61,
   "metadata": {},
   "outputs": [
    {
     "data": {
      "text/plain": [
       "(str, str)"
      ]
     },
     "execution_count": 61,
     "metadata": {},
     "output_type": "execute_result"
    }
   ],
   "source": [
    "type(num1),type(num2)"
   ]
  },
  {
   "cell_type": "code",
   "execution_count": 62,
   "metadata": {},
   "outputs": [
    {
     "data": {
      "text/plain": [
       "int"
      ]
     },
     "execution_count": 62,
     "metadata": {},
     "output_type": "execute_result"
    }
   ],
   "source": [
    "a=8\n",
    "type(a)"
   ]
  },
  {
   "cell_type": "code",
   "execution_count": 8,
   "metadata": {},
   "outputs": [
    {
     "name": "stdout",
     "output_type": "stream",
     "text": [
      "Enter num1:10\n",
      "Enter num2:20\n",
      "the number is: 10\n",
      "the number is: 20\n",
      "the sum is: 30\n"
     ]
    }
   ],
   "source": [
    "#Addition of 2 numbers\n",
    "# string type is converted to integer by giving int()\n",
    "num1=int(input(\"Enter num1:\"))\n",
    "num2=int(input(\"Enter num2:\"))\n",
    "print('the number is:',num1)\n",
    "print('the number is:',num2)\n",
    "sum1=num1+num2\n",
    "print('the sum is:',sum1)\n"
   ]
  },
  {
   "cell_type": "code",
   "execution_count": 5,
   "metadata": {},
   "outputs": [
    {
     "name": "stdout",
     "output_type": "stream",
     "text": [
      "Enter a no.10\n",
      "Enter a no.20\n"
     ]
    },
    {
     "data": {
      "text/plain": [
       "(str, str)"
      ]
     },
     "execution_count": 5,
     "metadata": {},
     "output_type": "execute_result"
    }
   ],
   "source": [
    "n=input(\"Enter a no.\")\n",
    "b=input(\"Enter a no.\")\n",
    "type(n),type(b)\n",
    "\n",
    "#Here, n &b are considered as string. "
   ]
  },
  {
   "cell_type": "code",
   "execution_count": 7,
   "metadata": {},
   "outputs": [
    {
     "name": "stdout",
     "output_type": "stream",
     "text": [
      "Enter a number :10\n",
      "Enter a number :20\n"
     ]
    },
    {
     "data": {
      "text/plain": [
       "(int, int)"
      ]
     },
     "execution_count": 7,
     "metadata": {},
     "output_type": "execute_result"
    }
   ],
   "source": [
    "#In order to covert the above 2 values(n&b) into integer, use int()\n",
    "\n",
    "n=int(input(\"Enter a number :\"))\n",
    "b=int(input(\"Enter a number :\"))\n",
    "type(n),type(b)"
   ]
  },
  {
   "cell_type": "code",
   "execution_count": 10,
   "metadata": {},
   "outputs": [
    {
     "name": "stdout",
     "output_type": "stream",
     "text": [
      "Enter a number: 10\n",
      "Enter a number: 10\n",
      "Enter a number: 10\n",
      "the sum of 3 numbers is: 30\n",
      "the average of 3 numbers is: 10.0\n"
     ]
    }
   ],
   "source": [
    "#To find sum & average of 3 numbers using Input\n",
    "\n",
    "a=int(input(\"Enter a number: \"))\n",
    "b=int(input(\"Enter a number: \"))\n",
    "c=int(input(\"Enter a number: \"))\n",
    "sum1=a+b+c\n",
    "print(\"the sum of 3 numbers is:\",sum1)\n",
    "average=sum1/3\n",
    "print(\"the average of 3 numbers is:\",average)"
   ]
  },
  {
   "cell_type": "code",
   "execution_count": 25,
   "metadata": {},
   "outputs": [
    {
     "name": "stdout",
     "output_type": "stream",
     "text": [
      "Enter a number: 10\n",
      "Enter a number: 10\n",
      "Enter a number: 10\n",
      "The sum of 3 numbers is: 30 & The average of 3 numbers is: 10.0\n",
      "The average of 10 10 10 is:10.0\n",
      "The sum of 10 10 10 is:30\n",
      "the sum is 30 & the average is 10.0\n"
     ]
    }
   ],
   "source": [
    "#To find sum & average of 3 no.s using Input , end & format\n",
    "a=int(input(\"Enter a number: \"))\n",
    "b=int(input(\"Enter a number: \"))\n",
    "c=int(input(\"Enter a number: \"))\n",
    "sum1=a+b+c\n",
    "average=sum1/3\n",
    "#using end\n",
    "print(\"The sum of 3 numbers is:\",sum1,end=' & ')\n",
    "print(\"The average of 3 numbers is:\",average)\n",
    "#using format operator\n",
    "print('The average of {} {} {} is:{}'.format(a,b,c,average))\n",
    "print('The sum of {} {} {} is:{}'.format(a,b,c,sum1))\n",
    "print('the sum is {} & the average is {}'.format(sum1,average))"
   ]
  },
  {
   "cell_type": "code",
   "execution_count": 28,
   "metadata": {},
   "outputs": [
    {
     "name": "stdout",
     "output_type": "stream",
     "text": [
      "Enter a number30\n",
      "Enter a number20\n",
      "Enter a number10\n",
      "The addition of 3 numbers is: 60\n",
      "The subtraction of 3 numbers is: 0\n",
      "The multiplication of 3 numbers is: 6000\n",
      "The addition of 30 20 10 is 60\n",
      "The subtraction of 30 20 10 is 0\n",
      "The multiplication of 30 20 10 is 6000\n",
      "The addition is 60 ,The subtraction is 0 & The multiplication is 6000\n",
      "The addition of 3 no.s is 60,The subtraction of 3 no.s is 0 & The multiplication of 3 no.s is 6000\n"
     ]
    }
   ],
   "source": [
    "#To find addition,subtraction,multiplication of 3 numbers using Input ,format&end operator \n",
    "a=int(input(\"Enter a number\"))\n",
    "b=int(input(\"Enter a number\"))\n",
    "c=int(input(\"Enter a number\"))\n",
    "sum1=a+b+c\n",
    "sub1=a-b-c\n",
    "mult1=a*b*c\n",
    "\n",
    "#using print & without format operator\n",
    "print('The addition of 3 numbers is:',sum1)\n",
    "print('The subtraction of 3 numbers is:',sub1)\n",
    "print('The multiplication of 3 numbers is:',mult1)\n",
    "\n",
    "#using format operator\n",
    "print('The addition of {} {} {} is {}'.format(a,b,c,sum1))\n",
    "print('The subtraction of {} {} {} is {}'.format(a,b,c,sub1))\n",
    "print('The multiplication of {} {} {} is {}'.format(a,b,c,mult1))\n",
    "\n",
    "#using format operator\n",
    "print('The addition is {} ,The subtraction is {} & The multiplication is {}'.format(sum1,sub1,mult1))\n",
    "\n",
    "#using end operator\n",
    "print('The addition of 3 no.s is',sum1,end=',')\n",
    "print('The subtraction of 3 no.s is',sub1,end=' & ')\n",
    "print('The multiplication of 3 no.s is',mult1)"
   ]
  },
  {
   "cell_type": "markdown",
   "metadata": {},
   "source": [
    "# Float data type"
   ]
  },
  {
   "cell_type": "code",
   "execution_count": 48,
   "metadata": {},
   "outputs": [
    {
     "name": "stdout",
     "output_type": "stream",
     "text": [
      "Enter a number: 10.5\n",
      "Enter a number: 20.5\n"
     ]
    },
    {
     "data": {
      "text/plain": [
       "31.0"
      ]
     },
     "execution_count": 48,
     "metadata": {},
     "output_type": "execute_result"
    }
   ],
   "source": [
    "#Ex--1\n",
    "a=float(input(\"Enter a number: \"))\n",
    "b=float(input(\"Enter a number: \"))\n",
    "a+b"
   ]
  },
  {
   "cell_type": "code",
   "execution_count": 49,
   "metadata": {},
   "outputs": [
    {
     "name": "stdout",
     "output_type": "stream",
     "text": [
      "Enter a number: 2.5\n",
      "Enter a number: 10.0\n",
      "The addn is: 12.5\n",
      "The sub is: -7.5\n",
      "the mult is : 25.0\n"
     ]
    }
   ],
   "source": [
    "#Ex--2\n",
    "a=float(input(\"Enter a number: \"))\n",
    "b=float(input(\"Enter a number: \"))\n",
    "print(\"The addn is:\",a+b)\n",
    "print(\"The sub is:\",a-b)\n",
    "print(\"the mult is :\",a*b)"
   ]
  },
  {
   "cell_type": "markdown",
   "metadata": {},
   "source": [
    "#Note:--Instead of giving integer or float data type everytime ,\" eval\" can be used\n",
    "\n",
    "- If input entered is int, eval automatically consider the value as integer\n",
    "\n",
    "- If input entered is float, eval automatically consider it as float\n",
    "\n",
    "- String is not allowed"
   ]
  },
  {
   "cell_type": "code",
   "execution_count": 60,
   "metadata": {},
   "outputs": [
    {
     "name": "stdout",
     "output_type": "stream",
     "text": [
      "Enter a no.: 10\n",
      "Enter a no.: 20\n",
      "30\n",
      "200\n",
      "Enter a no.: 10.5\n",
      "Enter a no.: 12.5\n",
      "23.0\n",
      "131.25\n",
      "Enter a no.: 12\n",
      "Enter a no.: 20.5\n",
      "32.5\n",
      "246.0\n",
      "Enter a number:hellothere\n"
     ]
    },
    {
     "ename": "NameError",
     "evalue": "name 'hellothere' is not defined",
     "output_type": "error",
     "traceback": [
      "\u001b[1;31m---------------------------------------------------------------------------\u001b[0m",
      "\u001b[1;31mNameError\u001b[0m                                 Traceback (most recent call last)",
      "\u001b[1;32m<ipython-input-60-a5fce29d706e>\u001b[0m in \u001b[0;36m<module>\u001b[1;34m\u001b[0m\n\u001b[0;32m     18\u001b[0m \u001b[1;33m\u001b[0m\u001b[0m\n\u001b[0;32m     19\u001b[0m \u001b[1;31m#String is passed here (But error occured since string value is not accepted by \"eval\")\u001b[0m\u001b[1;33m\u001b[0m\u001b[1;33m\u001b[0m\u001b[1;33m\u001b[0m\u001b[0m\n\u001b[1;32m---> 20\u001b[1;33m \u001b[0ma\u001b[0m\u001b[1;33m=\u001b[0m\u001b[0meval\u001b[0m\u001b[1;33m(\u001b[0m\u001b[0minput\u001b[0m\u001b[1;33m(\u001b[0m\u001b[1;34m\"Enter a number:\"\u001b[0m\u001b[1;33m)\u001b[0m\u001b[1;33m)\u001b[0m\u001b[1;33m\u001b[0m\u001b[1;33m\u001b[0m\u001b[0m\n\u001b[0m\u001b[0;32m     21\u001b[0m \u001b[0mb\u001b[0m\u001b[1;33m=\u001b[0m\u001b[0mint\u001b[0m\u001b[1;33m(\u001b[0m\u001b[0minput\u001b[0m\u001b[1;33m(\u001b[0m\u001b[1;34m\"Enter a number:\"\u001b[0m\u001b[1;33m)\u001b[0m\u001b[1;33m)\u001b[0m\u001b[1;33m\u001b[0m\u001b[1;33m\u001b[0m\u001b[0m\n\u001b[0;32m     22\u001b[0m \u001b[0mprint\u001b[0m\u001b[1;33m(\u001b[0m\u001b[0ma\u001b[0m\u001b[1;33m+\u001b[0m\u001b[0mb\u001b[0m\u001b[1;33m)\u001b[0m\u001b[1;33m\u001b[0m\u001b[1;33m\u001b[0m\u001b[0m\n",
      "\u001b[1;32m<string>\u001b[0m in \u001b[0;36m<module>\u001b[1;34m\u001b[0m\n",
      "\u001b[1;31mNameError\u001b[0m: name 'hellothere' is not defined"
     ]
    }
   ],
   "source": [
    "#using \"eval\"( given integer values while  running)\n",
    "a=eval(input(\"Enter a no.: \"))\n",
    "b=eval(input(\"Enter a no.: \"))\n",
    "print(a+b)\n",
    "print(a*b)\n",
    "\n",
    "#using eval(given float values while running)\n",
    "a=eval(input(\"Enter a no.: \"))\n",
    "b=eval(input(\"Enter a no.: \"))\n",
    "print(a+b)\n",
    "print(a*b)\n",
    "\n",
    "#using eval(given one int & one float value while running)\n",
    "a=eval(input(\"Enter a no.: \"))\n",
    "b=eval(input(\"Enter a no.: \"))\n",
    "print(a+b)\n",
    "print(a*b)\n",
    "\n",
    "#String is passed here (But error occured since string value is not accepted by \"eval\")\n",
    "a=eval(input(\"Enter a number:\"))\n",
    "b=int(input(\"Enter a number:\"))\n",
    "print(a+b)\n",
    "\n",
    "\n",
    "#Note-- Whatever might be the data type, eval adapts to it & works accordingly"
   ]
  },
  {
   "cell_type": "markdown",
   "metadata": {},
   "source": [
    "# Date:-Feb 7th,2022"
   ]
  },
  {
   "cell_type": "code",
   "execution_count": 62,
   "metadata": {},
   "outputs": [
    {
     "name": "stdout",
     "output_type": "stream",
     "text": [
      "Enter a no.20\n",
      "Enter a no.hello \n"
     ]
    },
    {
     "ename": "NameError",
     "evalue": "name 'hello' is not defined",
     "output_type": "error",
     "traceback": [
      "\u001b[1;31m---------------------------------------------------------------------------\u001b[0m",
      "\u001b[1;31mNameError\u001b[0m                                 Traceback (most recent call last)",
      "\u001b[1;32m<ipython-input-62-6b587c3c5a0d>\u001b[0m in \u001b[0;36m<module>\u001b[1;34m\u001b[0m\n\u001b[0;32m      1\u001b[0m \u001b[0mn1\u001b[0m\u001b[1;33m=\u001b[0m\u001b[0mint\u001b[0m\u001b[1;33m(\u001b[0m\u001b[0minput\u001b[0m\u001b[1;33m(\u001b[0m\u001b[1;34m\"Enter a no.\"\u001b[0m\u001b[1;33m)\u001b[0m\u001b[1;33m)\u001b[0m\u001b[1;33m\u001b[0m\u001b[1;33m\u001b[0m\u001b[0m\n\u001b[1;32m----> 2\u001b[1;33m \u001b[0mn2\u001b[0m\u001b[1;33m=\u001b[0m\u001b[0meval\u001b[0m\u001b[1;33m(\u001b[0m\u001b[0minput\u001b[0m\u001b[1;33m(\u001b[0m\u001b[1;34m\"Enter a no.\"\u001b[0m\u001b[1;33m)\u001b[0m\u001b[1;33m)\u001b[0m\u001b[1;33m\u001b[0m\u001b[1;33m\u001b[0m\u001b[0m\n\u001b[0m\u001b[0;32m      3\u001b[0m \u001b[0mprint\u001b[0m\u001b[1;33m(\u001b[0m\u001b[0mn1\u001b[0m\u001b[1;33m+\u001b[0m\u001b[0mn2\u001b[0m\u001b[1;33m)\u001b[0m\u001b[1;33m\u001b[0m\u001b[1;33m\u001b[0m\u001b[0m\n",
      "\u001b[1;32m<string>\u001b[0m in \u001b[0;36m<module>\u001b[1;34m\u001b[0m\n",
      "\u001b[1;31mNameError\u001b[0m: name 'hello' is not defined"
     ]
    }
   ],
   "source": [
    "n1=int(input(\"Enter a no.\"))\n",
    "n2=eval(input(\"Enter a no.\"))\n",
    "print(n1+n2)"
   ]
  },
  {
   "cell_type": "code",
   "execution_count": 1,
   "metadata": {},
   "outputs": [
    {
     "name": "stdout",
     "output_type": "stream",
     "text": [
      "Enter a no.hello\n",
      "Enter a no.10\n"
     ]
    },
    {
     "ename": "TypeError",
     "evalue": "can only concatenate str (not \"int\") to str",
     "output_type": "error",
     "traceback": [
      "\u001b[1;31m---------------------------------------------------------------------------\u001b[0m",
      "\u001b[1;31mTypeError\u001b[0m                                 Traceback (most recent call last)",
      "\u001b[1;32m<ipython-input-1-b112f2f6004d>\u001b[0m in \u001b[0;36m<module>\u001b[1;34m\u001b[0m\n\u001b[0;32m      1\u001b[0m \u001b[0mn1\u001b[0m\u001b[1;33m=\u001b[0m\u001b[0minput\u001b[0m\u001b[1;33m(\u001b[0m\u001b[1;34m\"Enter a no.\"\u001b[0m\u001b[1;33m)\u001b[0m\u001b[1;33m\u001b[0m\u001b[1;33m\u001b[0m\u001b[0m\n\u001b[0;32m      2\u001b[0m \u001b[0mn2\u001b[0m\u001b[1;33m=\u001b[0m\u001b[0meval\u001b[0m\u001b[1;33m(\u001b[0m\u001b[0minput\u001b[0m\u001b[1;33m(\u001b[0m\u001b[1;34m\"Enter a no.\"\u001b[0m\u001b[1;33m)\u001b[0m\u001b[1;33m)\u001b[0m\u001b[1;33m\u001b[0m\u001b[1;33m\u001b[0m\u001b[0m\n\u001b[1;32m----> 3\u001b[1;33m \u001b[0mprint\u001b[0m\u001b[1;33m(\u001b[0m\u001b[0mn1\u001b[0m\u001b[1;33m+\u001b[0m\u001b[0mn2\u001b[0m\u001b[1;33m)\u001b[0m\u001b[1;33m\u001b[0m\u001b[1;33m\u001b[0m\u001b[0m\n\u001b[0m",
      "\u001b[1;31mTypeError\u001b[0m: can only concatenate str (not \"int\") to str"
     ]
    }
   ],
   "source": [
    "n1=input(\"Enter a no.\")\n",
    "n2=eval(input(\"Enter a no.\"))\n",
    "print(n1+n2)\n",
    "\n",
    "#error occured-- since integer & string values can't be concatenated"
   ]
  },
  {
   "cell_type": "code",
   "execution_count": 5,
   "metadata": {},
   "outputs": [
    {
     "name": "stdout",
     "output_type": "stream",
     "text": [
      "Enter a number: 10\n",
      "Enter a number: 20.5\n",
      "Enter a number: 30\n",
      "The average of 3 numbers is:  20.166666666666668\n",
      "The average of 10 20.5 30 is 20.166666666666668:\n"
     ]
    }
   ],
   "source": [
    "# WAP to find average of 3 numbers by using eval \n",
    "num1=eval(input(\"Enter a number: \"))\n",
    "num2=eval(input(\"Enter a number: \"))\n",
    "num3=eval(input(\"Enter a number: \"))\n",
    "sum1=num1+num2+num3\n",
    "average=sum1/3\n",
    "print(\"The average of 3 numbers is: \",average)\n",
    "#using format\n",
    "print(\"The average of {} {} {} is {}:\".format(num1,num2,num3,average))"
   ]
  },
  {
   "cell_type": "code",
   "execution_count": 6,
   "metadata": {},
   "outputs": [
    {
     "name": "stdout",
     "output_type": "stream",
     "text": [
      "Enter no. of hours: 7\n",
      "rate per hour is:  500\n",
      "The total salary is:  3500\n"
     ]
    }
   ],
   "source": [
    "#WAP to calculate total salary based on no. of hours, enter no. of hrs worked &rate per hour\n",
    "#rate per hour =500 \n",
    "\n",
    "n=int(input(\"Enter no. of hours: \"))\n",
    "rph=500\n",
    "print(\"rate per hour is: \",rph)\n",
    "print(\"The total salary is: \",n*rph)\n"
   ]
  },
  {
   "cell_type": "code",
   "execution_count": 13,
   "metadata": {},
   "outputs": [
    {
     "name": "stdout",
     "output_type": "stream",
     "text": [
      "Enter no. of hours: 7\n",
      "Enter rate per hour:500\n",
      "Enter tax per year: 10\n",
      "The total salary is:  3500 /-\n",
      "Tax payable per year is:  350.0 /-\n"
     ]
    }
   ],
   "source": [
    "#Include tax (10%) & calculate tax based on salary \n",
    "\n",
    "n=int(input(\"Enter no. of hours: \"))\n",
    "rph=int(input(\"Enter rate per hour:\" ))\n",
    "tax=int(input(\"Enter tax per year: \"))\n",
    "salary=(n*rph)\n",
    "tax_payable=salary*tax/100\n",
    "print(\"The total salary is: \",salary,\"/-\")\n",
    "print(\"Tax payable per year is: \",tax_payable,\"/-\")"
   ]
  },
  {
   "cell_type": "code",
   "execution_count": 14,
   "metadata": {},
   "outputs": [
    {
     "name": "stdout",
     "output_type": "stream",
     "text": [
      "The addition of 3+4 is: 7\n"
     ]
    }
   ],
   "source": [
    "print(\"The addition of 3+4 is:\",7)"
   ]
  },
  {
   "cell_type": "code",
   "execution_count": 19,
   "metadata": {},
   "outputs": [
    {
     "name": "stdout",
     "output_type": "stream",
     "text": [
      "The addition of 3+4 is: 7 .\n"
     ]
    }
   ],
   "source": [
    "#to print (full stop .) after 3+4\n",
    "print(\"The addition of 3+4 is:\",3+4,\".\")"
   ]
  },
  {
   "cell_type": "code",
   "execution_count": null,
   "metadata": {},
   "outputs": [],
   "source": [
    "# Separator opeartor(sep)\n",
    "\n",
    "- "
   ]
  },
  {
   "cell_type": "code",
   "execution_count": 31,
   "metadata": {},
   "outputs": [
    {
     "name": "stdout",
     "output_type": "stream",
     "text": [
      "howruh.\n",
      "hi!howruh\n",
      "hihowruh!\n"
     ]
    }
   ],
   "source": [
    "print(\"howruh\",\".\",sep='')\n",
    "\n",
    "print(\"hi\",\"!\",\"howruh\",sep='')\n",
    "\n",
    "print(\"hi\",\"howruh\",\"!\",sep='')\n"
   ]
  },
  {
   "cell_type": "code",
   "execution_count": 3,
   "metadata": {},
   "outputs": [
    {
     "name": "stdout",
     "output_type": "stream",
     "text": [
      "The addition of 3+4 is:7.\n"
     ]
    }
   ],
   "source": [
    "#using separator operator\n",
    "print(\"The addition of 3+4 is:\",3+4,\".\",sep='')"
   ]
  },
  {
   "cell_type": "code",
   "execution_count": 4,
   "metadata": {},
   "outputs": [
    {
     "name": "stdout",
     "output_type": "stream",
     "text": [
      "The addition of 3+4 is: 7."
     ]
    }
   ],
   "source": [
    "\n",
    "print(\"The addition of 3+4 is:\",3+4,end='.')"
   ]
  },
  {
   "cell_type": "markdown",
   "metadata": {},
   "source": [
    "# Date:-feb 9th,2022"
   ]
  },
  {
   "cell_type": "code",
   "execution_count": 6,
   "metadata": {},
   "outputs": [
    {
     "name": "stdout",
     "output_type": "stream",
     "text": [
      "Hello&Hi&Howruh\n"
     ]
    }
   ],
   "source": [
    "#using seperator ( & )\n",
    "print(\"Hello\",\"Hi\",\"Howruh\",sep='&')\n",
    "\n",
    "#Every word is seperated by '&'"
   ]
  },
  {
   "cell_type": "code",
   "execution_count": 9,
   "metadata": {},
   "outputs": [
    {
     "name": "stdout",
     "output_type": "stream",
     "text": [
      "HelloHi.\n"
     ]
    }
   ],
   "source": [
    "print(\"Hello\",\"Hi\",'.',sep='')"
   ]
  },
  {
   "cell_type": "code",
   "execution_count": 1,
   "metadata": {},
   "outputs": [
    {
     "name": "stdout",
     "output_type": "stream",
     "text": [
      "Enter a number: 12\n",
      "The square of a number is: 144.\n",
      "The square of a number is:  144 .\n",
      "The square of a number is: .144..\n"
     ]
    }
   ],
   "source": [
    "#WAP to print square of a number using sep operator\n",
    "#sq of no - 25.\n",
    "\n",
    "n=int(input(\"Enter a number: \"))\n",
    "sq=n*n\n",
    "#printing square of a no. uing seperator operator\n",
    "print(\"The square of a number is: \",sq,'.',sep='')\n",
    "#without using sep operator\n",
    "print(\"The square of a number is: \",sq,'.')\n",
    "#\n",
    "print(\"The square of a number is: \",sq,'.',sep='.')"
   ]
  },
  {
   "cell_type": "code",
   "execution_count": 8,
   "metadata": {},
   "outputs": [
    {
     "name": "stdout",
     "output_type": "stream",
     "text": [
      "Enter the value of radius 12\n",
      "the value of pi is: 3.14\n",
      "The area of circle is: 452.15999999999997\n",
      "The area of circle is: .452.15999999999997..\n",
      "The area of a circle is: 452.15999999999997.\n",
      "The area of a circle is:  452.15999999999997 .\n"
     ]
    }
   ],
   "source": [
    "#WAP to calculate area of a circle\n",
    "r=int(input(\"Enter the value of radius \"))\n",
    "pi=eval(input(\"the value of pi is: \"))\n",
    "print(\"The area of circle is:\",pi*r*r)\n",
    "\n",
    "#Using seperator operator(i.e., it is sepearted by '.')\n",
    "print(\"The area of circle is: \",pi*r*r,'.',sep='.')\n",
    "\n",
    "#using sep operator (to end the print stmnt by fullstop soon after cmpltn of sentence)\n",
    "print(\"The area of a circle is: \",pi*r*r,'.',sep='')\n",
    "\n",
    "#To print fullstop after print stmnt without using \"seperator operator\"\n",
    "print(\"The area of a circle is: \",pi*r*r,'.')\n",
    "\n",
    "#full stop prints after one space of value as shown below "
   ]
  },
  {
   "cell_type": "code",
   "execution_count": 23,
   "metadata": {},
   "outputs": [
    {
     "name": "stdout",
     "output_type": "stream",
     "text": [
      "Enter the value of a: 512\n",
      "Enter the value of b: 282\n",
      "Enter the value of c: 47.48\n",
      "Enter the value of d: 5\n",
      "The value is: 4.382621951219512\n"
     ]
    }
   ],
   "source": [
    "#WAP that computes & print result of 512-282/47.48+5 (approx it is equal to .1017)\n",
    "a=eval(input(\"Enter the value of a: \"))#512-282\n",
    "b=eval(input(\"Enter the value of b: \"))#47.48+5\n",
    "c=eval(input(\"Enter the value of c: \"))\n",
    "d=eval(input(\"Enter the value of d: \"))\n",
    "a1=a-b\n",
    "b1=c+d\n",
    "print(\"The value is:\",a1/b1)\n",
    "\n",
    "a=512-282\n",
    "a\n",
    "b=47.48+5\n",
    "b\n",
    "print(a/b)"
   ]
  },
  {
   "cell_type": "code",
   "execution_count": 11,
   "metadata": {},
   "outputs": [
    {
     "name": "stdout",
     "output_type": "stream",
     "text": [
      "Enter a number: 5\n",
      "The square of a number is :25.\n"
     ]
    }
   ],
   "source": [
    "#WAP to print square of a no.('5') using seperator & make sure it ends by (.)soon after print stmnt\n",
    "n=int(input(\"Enter a number: \"))\n",
    "sq=n*n\n",
    "print(\"The square of a number is :\",sq,'.',sep='')"
   ]
  },
  {
   "cell_type": "code",
   "execution_count": 9,
   "metadata": {},
   "outputs": [
    {
     "name": "stdout",
     "output_type": "stream",
     "text": [
      "Enter a number: 10\n",
      "Sequence is:  10---20---30---40---50---Sequence is: ---10---20---30---40---50\n"
     ]
    }
   ],
   "source": [
    "#To print x,2x,3x,4x & 5x and to seperate the sequence using 3 dashed lines\n",
    "n=int(input(\"Enter a number: \"))\n",
    "print(\"Sequence is: \",n,end='---')\n",
    "print(2*n,end='---')\n",
    "print(3*n,end='---')\n",
    "print(4*n,end='---')\n",
    "print(5*n,end='---')\n",
    "\n",
    "#using seperator operator\n",
    "print(\"Sequence is: \",n,2*n,3*n,4*n,5*n,sep='---')\n",
    "\n"
   ]
  },
  {
   "cell_type": "code",
   "execution_count": 18,
   "metadata": {},
   "outputs": [
    {
     "name": "stdout",
     "output_type": "stream",
     "text": [
      "Enter weight in kgs: 50\n",
      "Enter pound value: 2.2\n",
      "the final value is: 110.00000000000001\n"
     ]
    }
   ],
   "source": [
    "#WAP to write weight in kgs & convert it into pounds (1 kg=2.2)\n",
    "weight=eval(input(\"Enter weight in kgs: \"))\n",
    "pound=eval(input(\"Enter pound value: \"))\n",
    "result=weight*pound\n",
    "print(\"the final value is:\",result)"
   ]
  },
  {
   "cell_type": "code",
   "execution_count": 19,
   "metadata": {},
   "outputs": [
    {
     "name": "stdout",
     "output_type": "stream",
     "text": [
      "Enter first number: 10 \n",
      "Enter second number: 20\n",
      "Enter third number: 30\n",
      "The sum of 3 numbers is:  60\n",
      "The average of 3 numbers is:  20.0\n"
     ]
    }
   ],
   "source": [
    "#WAP such that user enter 3 numbers using 3 dfrnt i/p stmnts ,\n",
    "# cont--- store sum in total variable & average of 3 nos in average variable\n",
    "\n",
    "a=eval(input(\"Enter first number: \"))\n",
    "b=eval(input(\"Enter second number: \"))\n",
    "c=eval(input(\"Enter third number: \"))\n",
    "sum=a+b+c\n",
    "average=sum/3\n",
    "print(\"The sum of 3 numbers is: \",sum)\n",
    "print(\"The average of 3 numbers is: \",average)"
   ]
  },
  {
   "cell_type": "code",
   "execution_count": 21,
   "metadata": {},
   "outputs": [
    {
     "name": "stdout",
     "output_type": "stream",
     "text": [
      "Enter price of a meal: 50\n",
      "Enter tip per a meal: 10\n",
      "The tip amnt is:  5.0\n",
      "The total bill is:  55.0\n"
     ]
    }
   ],
   "source": [
    "#WAP such that ask user to enter price of meal, tip for meal(in %) and print tip amount & total bill with tip included\n",
    "\n",
    "price=eval(input(\"Enter price of a meal: \"))\n",
    "tip=eval(input(\"Enter tip per a meal: \"))\n",
    "tip_amount=(tip/100)*price (Since it is in %, to convert into amnt value, dividing the tip by 100)\n",
    "total_bill=price+tip_amount\n",
    "print(\"The tip amnt is: \",tip_amount)\n",
    "print(\"The total bill is: \",total_bill)"
   ]
  },
  {
   "cell_type": "markdown",
   "metadata": {},
   "source": [
    "#Function\n",
    "\n",
    "- To call a stmnt multiple times , function is used\n",
    "\n",
    "- syntax-- def(functionname):\n",
    "    "
   ]
  },
  {
   "cell_type": "code",
   "execution_count": 29,
   "metadata": {},
   "outputs": [
    {
     "name": "stdout",
     "output_type": "stream",
     "text": [
      "hello\n"
     ]
    }
   ],
   "source": [
    "def a():\n",
    "    print(\"hello\")\n",
    "a()"
   ]
  },
  {
   "cell_type": "code",
   "execution_count": 31,
   "metadata": {},
   "outputs": [
    {
     "name": "stdout",
     "output_type": "stream",
     "text": [
      "5\n",
      "6\n",
      "0.6666666666666666\n",
      "2\n"
     ]
    }
   ],
   "source": [
    "def a():\n",
    "    print(2+3)\n",
    "    print(2*3)\n",
    "    print(2/3)\n",
    "    print(2%3)\n",
    "a()"
   ]
  },
  {
   "cell_type": "code",
   "execution_count": 32,
   "metadata": {},
   "outputs": [
    {
     "name": "stdout",
     "output_type": "stream",
     "text": [
      "Enter value of a: 50\n",
      "Enter value of b: 40\n",
      "Enter value of c: 30\n",
      "The sum of 50 40 30 is 120\n",
      "The multiplication of 50 40 30 is 60000\n",
      "The subtraction of 50 40 30 is -20\n",
      "The division of 50 40 30 is 0.041666666666666664\n"
     ]
    }
   ],
   "source": [
    "#here function name is \"sum1\" & def(\"define\") is keyword\n",
    "def sum1():\n",
    "    a=eval(input(\"Enter value of a: \"))\n",
    "    b=eval(input(\"Enter value of b: \"))\n",
    "    c=eval(input(\"Enter value of c: \"))\n",
    "    sum1=a+b+c\n",
    "    mul=a*b*c\n",
    "    sub=a-b-c\n",
    "    div=a/b/c\n",
    "    print(\"The sum of {} {} {} is {}\".format(a,b,c,sum1))\n",
    "    print(\"The multiplication of {} {} {} is {}\".format(a,b,c,mul))\n",
    "    print(\"The subtraction of {} {} {} is {}\".format(a,b,c,sub))\n",
    "    print(\"The division of {} {} {} is {}\".format(a,b,c,div))\n",
    "    \n",
    "#here function call of sum1, so system enters into sum1() and runs the code block within of \"sum1\"\n",
    "sum1()"
   ]
  },
  {
   "cell_type": "markdown",
   "metadata": {},
   "source": [
    "# Date:-feb 10th,2022"
   ]
  },
  {
   "cell_type": "code",
   "execution_count": 1,
   "metadata": {},
   "outputs": [
    {
     "name": "stdout",
     "output_type": "stream",
     "text": [
      "Enter a number: 30\n",
      "Enter a number: 15\n",
      "The subtraction of 2 numbers is 15\n"
     ]
    }
   ],
   "source": [
    "# WAP using functions to subtract numbers\n",
    "def sub():\n",
    "    a=eval(input(\"Enter a number: \"))\n",
    "    b=eval(input(\"Enter a number: \"))\n",
    "    c=a-b\n",
    "    print(\"The subtraction of 2 numbers is {}\".format(c))\n",
    "#calling sub function(code within the block runs )\n",
    "sub()"
   ]
  },
  {
   "cell_type": "code",
   "execution_count": 3,
   "metadata": {},
   "outputs": [
    {
     "name": "stdout",
     "output_type": "stream",
     "text": [
      "Enter a number: 30\n",
      "Enter a number: 25\n",
      "Enter a number: 20\n",
      "The total of 30 25 20 is 75.\n",
      "The average of 30 25 20 is 25.0.\n"
     ]
    }
   ],
   "source": [
    "#WAP using functions & find average &total of 3 numbers\n",
    "def value():\n",
    "    a=eval(input(\"Enter a number: \"))\n",
    "    b=eval(input(\"Enter a number: \"))\n",
    "    c=eval(input(\"Enter a number: \"))\n",
    "    total=a+b+c\n",
    "    average=total/3\n",
    "    print(\"The total of {} {} {} is {}\".format(a,b,c,total),'.',sep='')\n",
    "    print(\"The average of {} {} {} is {}\".format(a,b,c,average),'.',sep='')\n",
    "value()"
   ]
  },
  {
   "cell_type": "code",
   "execution_count": 6,
   "metadata": {},
   "outputs": [
    {
     "name": "stdout",
     "output_type": "stream",
     "text": [
      "Enter no. of working hours: 7\n",
      "Enter rate per hour: 120 \n",
      "The total salary is: 840\n"
     ]
    }
   ],
   "source": [
    "#Enter no. of working hours ,rate per hr &calc salary. Using functions\n",
    "def salary():\n",
    "    n=eval(input(\"Enter no. of working hours: \"))\n",
    "    rph=eval(input(\"Enter rate per hour: \"))\n",
    "    salary=n*rph\n",
    "    print(\"The total salary is: {}\".format(salary))\n",
    "salary()"
   ]
  },
  {
   "cell_type": "markdown",
   "metadata": {},
   "source": [
    "# Functions without arguments or parameters\n",
    "\n",
    "- Function also known as \"method\"\n",
    "\n",
    "- def func()\n",
    "\n",
    "- ex's:-def sum1(): , def sub1():\n"
   ]
  },
  {
   "cell_type": "markdown",
   "metadata": {},
   "source": [
    "#Functions with arguments\n",
    "\n",
    "- def func(a,b):"
   ]
  },
  {
   "cell_type": "code",
   "execution_count": 10,
   "metadata": {},
   "outputs": [
    {
     "name": "stdout",
     "output_type": "stream",
     "text": [
      "Enter value of a: 20\n",
      "Enter value of b: 30\n",
      "The sum of 20 30 is 50\n",
      "50\n"
     ]
    }
   ],
   "source": [
    "#addn of 2 no's using function without arguments\n",
    "def sum1():\n",
    "    a=eval(input(\"Enter value of a: \"))\n",
    "    b=eval(input(\"Enter value of b: \"))\n",
    "    c=a+b\n",
    "    print(\"The sum of {} {} is {}\".format(a,b,c))\n",
    "sum1()\n",
    "\n",
    "#addn of 2 no's using function with arguments\n",
    "#Remove 2 i/p stmnts (a&b) and give it inside of function (sum)\n",
    "def sum1(a,b):\n",
    "    c=a+b\n",
    "    print(c)\n",
    "    \n",
    "#while calling \"sum1\" function, give arguments as numbers-\n",
    "# cont' ---so that those will be considered as input while calculating sum   \n",
    "\n",
    "sum1(20,30)\n",
    "    \n"
   ]
  },
  {
   "cell_type": "code",
   "execution_count": 14,
   "metadata": {},
   "outputs": [
    {
     "name": "stdout",
     "output_type": "stream",
     "text": [
      "Enter no. of working hours: 7\n",
      "Enter rate per hour: 120\n",
      "The total salary is: 840\n",
      "The total salary is: 840\n",
      "Enter rate per hour: 120\n",
      "The total salary is: 840\n"
     ]
    }
   ],
   "source": [
    "#WAP to find total salary using functions without arguments\n",
    "def salary():\n",
    "    n=eval(input(\"Enter no. of working hours: \"))\n",
    "    rph=eval(input(\"Enter rate per hour: \"))\n",
    "    salary=n*rph\n",
    "    print(\"The total salary is: {}\".format(salary))\n",
    "salary()\n",
    "\n",
    "#WAP to find total salary using functions with arguments\n",
    "def salary(n,rph):\n",
    "    salary=n*rph\n",
    "    print(\"The total salary is: {}\".format(salary))\n",
    "salary(7,120)\n",
    "\n",
    "#Instead of giving 2 arguments, pass one argument(n)\n",
    "def salary(n):\n",
    "    rph=eval(input(\"Enter rate per hour: \"))\n",
    "    salary=n*rph\n",
    "    print(\"The total salary is: {}\".format(salary))\n",
    "salary(7)"
   ]
  },
  {
   "cell_type": "code",
   "execution_count": 12,
   "metadata": {},
   "outputs": [
    {
     "name": "stdout",
     "output_type": "stream",
     "text": [
      "Enter a number: 10\n",
      "Enter a number: 20\n",
      "Enter a number: 30\n",
      "The total of 10 20 30 is 60.\n",
      "The average of 10 20 30 is 20.0.\n",
      "The total of 10 20 30 is 60.\n",
      "The average of 10 20 30 is 20.0.\n"
     ]
    }
   ],
   "source": [
    "#WAP using functions w/o arguments & find average &total of 3 numbers\n",
    "def value():\n",
    "    a=eval(input(\"Enter a number: \"))\n",
    "    b=eval(input(\"Enter a number: \"))\n",
    "    c=eval(input(\"Enter a number: \"))\n",
    "    total=a+b+c\n",
    "    average=total/3\n",
    "    print(\"The total of {} {} {} is {}\".format(a,b,c,total),'.',sep='')\n",
    "    print(\"The average of {} {} {} is {}\".format(a,b,c,average),'.',sep='')\n",
    "value()\n",
    "\n",
    "#WAP using functions with arguments & find average &total of 3 numbers\n",
    "def value(a,b,c):\n",
    "    total=a+b+c\n",
    "    average=total/3\n",
    "    print(\"The total of {} {} {} is {}\".format(a,b,c,total),'.',sep='')\n",
    "    print(\"The average of {} {} {} is {}\".format(a,b,c,average),'.',sep='')\n",
    "value(10,20,30)\n",
    "#here inside value(function), arguments passed are 10,20,30 .\n",
    "#cont' ---- So, when we call value function, the above block runs by taking i/p as 10,20&30"
   ]
  },
  {
   "cell_type": "code",
   "execution_count": 33,
   "metadata": {},
   "outputs": [
    {
     "name": "stdout",
     "output_type": "stream",
     "text": [
      "hi there\n"
     ]
    }
   ],
   "source": [
    "#using func's w/o arguments\n",
    "def greet():\n",
    "    print(\"hi there\")\n",
    "greet()"
   ]
  },
  {
   "cell_type": "code",
   "execution_count": 35,
   "metadata": {},
   "outputs": [
    {
     "name": "stdout",
     "output_type": "stream",
     "text": [
      "Hello Pragnya\n",
      "Hello Pranavi\n"
     ]
    }
   ],
   "source": [
    "#Write a function call ( whatever is passed as argument, that should be reflected in o/p beside hello,here hello should be fixed)\n",
    "#greet('pragnya')-->'hello pragnya'\n",
    "\n",
    "def greet(name):\n",
    "    print('Hello',name)\n",
    "greet('Pragnya')\n",
    "\n",
    "#here name is a variable which can be varied by giving other I/p's\n",
    "\n",
    "def greet(name):\n",
    "    print('Hello',name)\n",
    "greet('Pranavi')\n"
   ]
  },
  {
   "cell_type": "code",
   "execution_count": 45,
   "metadata": {},
   "outputs": [
    {
     "name": "stdout",
     "output_type": "stream",
     "text": [
      "My name is: Pragnya\n",
      "My city is: Knr\n",
      "My father's name is:Linganna\n",
      "My name is: Pragnya\n",
      "My city is: Knr\n",
      "My Father's name is: Linganna\n"
     ]
    }
   ],
   "source": [
    "#WAp to print name,city & father's name \n",
    "name=input(\"My name is: \")\n",
    "City=input(\"My city is: \")\n",
    "FatherName=input(\"My father's name is:\" )\n",
    "print(\"My name is:\",name)\n",
    "print(\"My city is:\",City)\n",
    "print(\"My Father's name is:\",FatherName)"
   ]
  },
  {
   "cell_type": "code",
   "execution_count": 44,
   "metadata": {},
   "outputs": [
    {
     "name": "stdout",
     "output_type": "stream",
     "text": [
      "My name is: Pragnya My city is: Knr My Father's name is: Linganna\n"
     ]
    }
   ],
   "source": [
    "##using fun's with arguments, enter name,city& father's name\n",
    "#My name is pragnya, #My city is hyd # my father name is linganna\n",
    "\n",
    "def info(name,City,FatherName):\n",
    "    print(\"My name is:\",name,\"My city is:\",City,\"My Father's name is:\",FatherName)\n",
    "info('Pragnya','Knr','Linganna')\n",
    "    "
   ]
  },
  {
   "cell_type": "code",
   "execution_count": 49,
   "metadata": {},
   "outputs": [
    {
     "name": "stdout",
     "output_type": "stream",
     "text": [
      "Enter a number: 13\n",
      "The square of a number is:  169\n",
      "Enter a number: 12\n",
      "The square of a number is:  144\n",
      "The square of a number is:  196\n"
     ]
    }
   ],
   "source": [
    "#sq of a no.\n",
    "n=int(input(\"Enter a number: \"))\n",
    "sq=n*n\n",
    "print(\"The square of a number is: \",sq)\n",
    "\n",
    "#using functions w/o arguments\n",
    "def square():\n",
    "    n=int(input(\"Enter a number: \"))\n",
    "    sq=n*n\n",
    "    print(\"The square of a number is: \",sq)\n",
    "square()\n",
    "\n",
    "#with arguments\n",
    "def square(n):\n",
    "    sq=n*n\n",
    "    print(\"The square of a number is: \",sq)\n",
    "square(14)\n",
    "    \n",
    "    "
   ]
  },
  {
   "cell_type": "code",
   "execution_count": 13,
   "metadata": {},
   "outputs": [
    {
     "name": "stdout",
     "output_type": "stream",
     "text": [
      "Enter the number: 5\n",
      "20\n"
     ]
    }
   ],
   "source": [
    "#WAP to find factorial of a number\n",
    "a=eval(input(\"Enter the number: \"))\n",
    "f=a*(a-1)\n",
    "print(f)\n",
    "\n"
   ]
  },
  {
   "cell_type": "code",
   "execution_count": 12,
   "metadata": {},
   "outputs": [
    {
     "name": "stdout",
     "output_type": "stream",
     "text": [
      "20\n"
     ]
    }
   ],
   "source": [
    "#WAP to find factorial of a no. using fun's with arguments\n",
    "def factorial(n):\n",
    "    f=n*(n-1)\n",
    "    print(f)\n",
    "factorial(5)"
   ]
  },
  {
   "cell_type": "code",
   "execution_count": 14,
   "metadata": {},
   "outputs": [
    {
     "name": "stdout",
     "output_type": "stream",
     "text": [
      "Enter price of a meal: 1000 \n",
      "Enter tip per a meal: 10\n",
      "The tip amount is:  100.0\n",
      "The total bill is:  1100.0\n"
     ]
    }
   ],
   "source": [
    "#WAP such that ask user to enter price of meal, tip for meal(in %) and print tip amount & total bill with tip included\n",
    "price=eval(input(\"Enter price of a meal: \"))\n",
    "tip=eval(input(\"Enter tip per a meal: \"))\n",
    "tip_amount=price*(tip/100)\n",
    "total_bill=price+tip_amount\n",
    "print(\"The tip amount is: \",tip_amount)\n",
    "print(\"The total bill is: \",total_bill)"
   ]
  },
  {
   "cell_type": "code",
   "execution_count": 15,
   "metadata": {},
   "outputs": [
    {
     "name": "stdout",
     "output_type": "stream",
     "text": [
      "Enter price of a meal: 1000\n",
      "Enter tip per a meal: 10\n",
      "The tip amount is:  100.0\n",
      "The total bill is:  1100.0\n"
     ]
    }
   ],
   "source": [
    "#using functions w/o arguments\n",
    "def amount():\n",
    "    price=eval(input(\"Enter price of a meal: \"))\n",
    "    tip=eval(input(\"Enter tip per a meal: \"))\n",
    "    tip_amount=price*(tip/100)\n",
    "    total_bill=price+tip_amount\n",
    "    print(\"The tip amount is: \",tip_amount)\n",
    "    print(\"The total bill is: \",total_bill)\n",
    "amount()\n",
    "    "
   ]
  },
  {
   "cell_type": "code",
   "execution_count": 18,
   "metadata": {},
   "outputs": [
    {
     "name": "stdout",
     "output_type": "stream",
     "text": [
      "The tip amount is:  100.0\n",
      "The total bill is:  1100.0\n",
      "The tip amount is:  200.0\n",
      "The total bill is:  2200.0\n"
     ]
    }
   ],
   "source": [
    "#Using functions with arguments\n",
    "def amount(price,tip):\n",
    "    tip_amount=price*(tip/100)\n",
    "    total_bill=price+tip_amount\n",
    "    print(\"The tip amount is: \",tip_amount)\n",
    "    print(\"The total bill is: \",total_bill)\n",
    "amount(1000,10)\n",
    "\n",
    "#Using functions with arguments (Default Argument)\n",
    "#tax percentage value is passed within arguments (Default argument)\n",
    "def amount(price,tip_percentage=10):\n",
    "    tip_amount=price*(tip_percentage/100)\n",
    "    total_bill=price+tip_amount\n",
    "    print(\"The tip amount is: \",tip_amount)\n",
    "    print(\"The total bill is: \",total_bill)\n",
    "amount(2000)\n",
    "\n",
    "    \n",
    "    "
   ]
  },
  {
   "cell_type": "code",
   "execution_count": 19,
   "metadata": {},
   "outputs": [
    {
     "name": "stdout",
     "output_type": "stream",
     "text": [
      "The tip amount is:  600.0\n",
      "The total bill is:  2600.0\n"
     ]
    }
   ],
   "source": [
    "#While function call, 2 values are passed (price & tip_%). \n",
    "#cont'--- hence, instead of 10% ,40% would be considered as tip_percentage.Based on 40%,Total bill gets calculated\n",
    "def amount(price,tip_percentage=10):\n",
    "    tip_amount=price*(tip_percentage/100)\n",
    "    total_bill=price+tip_amount\n",
    "    print(\"The tip amount is: \",tip_amount)\n",
    "    print(\"The total bill is: \",total_bill)\n",
    "amount(2000,30)\n"
   ]
  },
  {
   "cell_type": "code",
   "execution_count": 20,
   "metadata": {},
   "outputs": [
    {
     "ename": "TypeError",
     "evalue": "amount() takes 0 positional arguments but 1 was given",
     "output_type": "error",
     "traceback": [
      "\u001b[1;31m---------------------------------------------------------------------------\u001b[0m",
      "\u001b[1;31mTypeError\u001b[0m                                 Traceback (most recent call last)",
      "\u001b[1;32m<ipython-input-20-fe3544eaf4f4>\u001b[0m in \u001b[0;36m<module>\u001b[1;34m\u001b[0m\n\u001b[0;32m      7\u001b[0m     \u001b[0mprint\u001b[0m\u001b[1;33m(\u001b[0m\u001b[1;34m\"The tip amount is: \"\u001b[0m\u001b[1;33m,\u001b[0m\u001b[0mtip_amount\u001b[0m\u001b[1;33m)\u001b[0m\u001b[1;33m\u001b[0m\u001b[1;33m\u001b[0m\u001b[0m\n\u001b[0;32m      8\u001b[0m     \u001b[0mprint\u001b[0m\u001b[1;33m(\u001b[0m\u001b[1;34m\"The total bill is: \"\u001b[0m\u001b[1;33m,\u001b[0m\u001b[0mtotal_bill\u001b[0m\u001b[1;33m)\u001b[0m\u001b[1;33m\u001b[0m\u001b[1;33m\u001b[0m\u001b[0m\n\u001b[1;32m----> 9\u001b[1;33m \u001b[0mamount\u001b[0m\u001b[1;33m(\u001b[0m\u001b[1;36m1000\u001b[0m\u001b[1;33m)\u001b[0m\u001b[1;33m\u001b[0m\u001b[1;33m\u001b[0m\u001b[0m\n\u001b[0m\u001b[0;32m     10\u001b[0m \u001b[1;33m\u001b[0m\u001b[0m\n",
      "\u001b[1;31mTypeError\u001b[0m: amount() takes 0 positional arguments but 1 was given"
     ]
    }
   ],
   "source": [
    "#\n",
    "def amount():\n",
    "    price=eval(input(\"Enter price of a meal: \"))\n",
    "    tip=eval(input(\"Enter tip per a meal: \"))\n",
    "    tip_amount=price*(tip/100)\n",
    "    total_bill=price+tip_amount\n",
    "    print(\"The tip amount is: \",tip_amount)\n",
    "    print(\"The total bill is: \",total_bill)\n",
    "amount(1000)\n",
    "\n",
    "#Error occured since while defining function no arguments been passed & but while calling the function 1000 is passed .\n",
    "    "
   ]
  },
  {
   "cell_type": "code",
   "execution_count": 21,
   "metadata": {},
   "outputs": [
    {
     "ename": "TypeError",
     "evalue": "amount() takes 0 positional arguments but 2 were given",
     "output_type": "error",
     "traceback": [
      "\u001b[1;31m---------------------------------------------------------------------------\u001b[0m",
      "\u001b[1;31mTypeError\u001b[0m                                 Traceback (most recent call last)",
      "\u001b[1;32m<ipython-input-21-30c24ad0819f>\u001b[0m in \u001b[0;36m<module>\u001b[1;34m\u001b[0m\n\u001b[0;32m      7\u001b[0m     \u001b[0mprint\u001b[0m\u001b[1;33m(\u001b[0m\u001b[1;34m\"The tip amount is: \"\u001b[0m\u001b[1;33m,\u001b[0m\u001b[0mtip_amount\u001b[0m\u001b[1;33m)\u001b[0m\u001b[1;33m\u001b[0m\u001b[1;33m\u001b[0m\u001b[0m\n\u001b[0;32m      8\u001b[0m     \u001b[0mprint\u001b[0m\u001b[1;33m(\u001b[0m\u001b[1;34m\"The total bill is: \"\u001b[0m\u001b[1;33m,\u001b[0m\u001b[0mtotal_bill\u001b[0m\u001b[1;33m)\u001b[0m\u001b[1;33m\u001b[0m\u001b[1;33m\u001b[0m\u001b[0m\n\u001b[1;32m----> 9\u001b[1;33m \u001b[0mamount\u001b[0m\u001b[1;33m(\u001b[0m\u001b[1;36m1000\u001b[0m\u001b[1;33m,\u001b[0m\u001b[1;36m20\u001b[0m\u001b[1;33m)\u001b[0m\u001b[1;33m\u001b[0m\u001b[1;33m\u001b[0m\u001b[0m\n\u001b[0m\u001b[0;32m     10\u001b[0m \u001b[1;33m\u001b[0m\u001b[0m\n",
      "\u001b[1;31mTypeError\u001b[0m: amount() takes 0 positional arguments but 2 were given"
     ]
    }
   ],
   "source": [
    "#\n",
    "def amount():\n",
    "    price=1000\n",
    "    tip=10\n",
    "    tip_amount=price*(tip/100)\n",
    "    total_bill=price+tip_amount\n",
    "    print(\"The tip amount is: \",tip_amount)\n",
    "    print(\"The total bill is: \",total_bill)\n",
    "amount(1000,20)\n",
    "    \n",
    "    #Error occured since while defining function no arguments been passed \n",
    "    #& but while calling the function 1000&20 are passed .\n"
   ]
  },
  {
   "cell_type": "code",
   "execution_count": 24,
   "metadata": {},
   "outputs": [
    {
     "ename": "NameError",
     "evalue": "name 'price1' is not defined",
     "output_type": "error",
     "traceback": [
      "\u001b[1;31m---------------------------------------------------------------------------\u001b[0m",
      "\u001b[1;31mNameError\u001b[0m                                 Traceback (most recent call last)",
      "\u001b[1;32m<ipython-input-24-be3f9ac52296>\u001b[0m in \u001b[0;36m<module>\u001b[1;34m\u001b[0m\n\u001b[0;32m      7\u001b[0m     \u001b[0mprint\u001b[0m\u001b[1;33m(\u001b[0m\u001b[1;34m\"The tip amount is: \"\u001b[0m\u001b[1;33m,\u001b[0m\u001b[0mtip_amount\u001b[0m\u001b[1;33m)\u001b[0m\u001b[1;33m\u001b[0m\u001b[1;33m\u001b[0m\u001b[0m\n\u001b[0;32m      8\u001b[0m     \u001b[0mprint\u001b[0m\u001b[1;33m(\u001b[0m\u001b[1;34m\"The total bill is: \"\u001b[0m\u001b[1;33m,\u001b[0m\u001b[0mtotal_bill\u001b[0m\u001b[1;33m)\u001b[0m\u001b[1;33m\u001b[0m\u001b[1;33m\u001b[0m\u001b[0m\n\u001b[1;32m----> 9\u001b[1;33m \u001b[0mamount\u001b[0m\u001b[1;33m(\u001b[0m\u001b[1;33m)\u001b[0m\u001b[1;33m\u001b[0m\u001b[1;33m\u001b[0m\u001b[0m\n\u001b[0m\u001b[0;32m     10\u001b[0m \u001b[1;33m\u001b[0m\u001b[0m\n",
      "\u001b[1;32m<ipython-input-24-be3f9ac52296>\u001b[0m in \u001b[0;36mamount\u001b[1;34m()\u001b[0m\n\u001b[0;32m      3\u001b[0m     \u001b[1;31m#price1=1000\u001b[0m\u001b[1;33m\u001b[0m\u001b[1;33m\u001b[0m\u001b[1;33m\u001b[0m\u001b[0m\n\u001b[0;32m      4\u001b[0m     \u001b[0mtip\u001b[0m\u001b[1;33m=\u001b[0m\u001b[1;36m10\u001b[0m\u001b[1;33m\u001b[0m\u001b[1;33m\u001b[0m\u001b[0m\n\u001b[1;32m----> 5\u001b[1;33m     \u001b[0mtip_amount\u001b[0m\u001b[1;33m=\u001b[0m\u001b[0mprice1\u001b[0m\u001b[1;33m*\u001b[0m\u001b[1;33m(\u001b[0m\u001b[0mtip\u001b[0m\u001b[1;33m/\u001b[0m\u001b[1;36m100\u001b[0m\u001b[1;33m)\u001b[0m\u001b[1;33m\u001b[0m\u001b[1;33m\u001b[0m\u001b[0m\n\u001b[0m\u001b[0;32m      6\u001b[0m     \u001b[0mtotal_bill\u001b[0m\u001b[1;33m=\u001b[0m\u001b[0mprice1\u001b[0m\u001b[1;33m+\u001b[0m\u001b[0mtip_amount\u001b[0m\u001b[1;33m\u001b[0m\u001b[1;33m\u001b[0m\u001b[0m\n\u001b[0;32m      7\u001b[0m     \u001b[0mprint\u001b[0m\u001b[1;33m(\u001b[0m\u001b[1;34m\"The tip amount is: \"\u001b[0m\u001b[1;33m,\u001b[0m\u001b[0mtip_amount\u001b[0m\u001b[1;33m)\u001b[0m\u001b[1;33m\u001b[0m\u001b[1;33m\u001b[0m\u001b[0m\n",
      "\u001b[1;31mNameError\u001b[0m: name 'price1' is not defined"
     ]
    }
   ],
   "source": [
    "#\n",
    "def amount():\n",
    "    #price1=1000\n",
    "    tip=10\n",
    "    tip_amount=price1*(tip/100)\n",
    "    total_bill=price1+tip_amount\n",
    "    print(\"The tip amount is: \",tip_amount)\n",
    "    print(\"The total bill is: \",total_bill)\n",
    "amount()\n",
    "\n",
    "#Error occured since price1 is not defined \n",
    "    "
   ]
  },
  {
   "cell_type": "code",
   "execution_count": 26,
   "metadata": {},
   "outputs": [
    {
     "ename": "NameError",
     "evalue": "name 'tip1' is not defined",
     "output_type": "error",
     "traceback": [
      "\u001b[1;31m---------------------------------------------------------------------------\u001b[0m",
      "\u001b[1;31mNameError\u001b[0m                                 Traceback (most recent call last)",
      "\u001b[1;32m<ipython-input-26-06b3b027f31a>\u001b[0m in \u001b[0;36m<module>\u001b[1;34m\u001b[0m\n\u001b[0;32m      7\u001b[0m     \u001b[0mprint\u001b[0m\u001b[1;33m(\u001b[0m\u001b[1;34m\"The tip amount is: \"\u001b[0m\u001b[1;33m,\u001b[0m\u001b[0mtip_amount\u001b[0m\u001b[1;33m)\u001b[0m\u001b[1;33m\u001b[0m\u001b[1;33m\u001b[0m\u001b[0m\n\u001b[0;32m      8\u001b[0m     \u001b[0mprint\u001b[0m\u001b[1;33m(\u001b[0m\u001b[1;34m\"The total bill is: \"\u001b[0m\u001b[1;33m,\u001b[0m\u001b[0mtotal_bill\u001b[0m\u001b[1;33m)\u001b[0m\u001b[1;33m\u001b[0m\u001b[1;33m\u001b[0m\u001b[0m\n\u001b[1;32m----> 9\u001b[1;33m \u001b[0mamount\u001b[0m\u001b[1;33m(\u001b[0m\u001b[1;33m)\u001b[0m\u001b[1;33m\u001b[0m\u001b[1;33m\u001b[0m\u001b[0m\n\u001b[0m\u001b[0;32m     10\u001b[0m \u001b[1;33m\u001b[0m\u001b[0m\n",
      "\u001b[1;32m<ipython-input-26-06b3b027f31a>\u001b[0m in \u001b[0;36mamount\u001b[1;34m()\u001b[0m\n\u001b[0;32m      3\u001b[0m     \u001b[0mprice\u001b[0m\u001b[1;33m=\u001b[0m\u001b[1;36m1000\u001b[0m\u001b[1;33m\u001b[0m\u001b[1;33m\u001b[0m\u001b[0m\n\u001b[0;32m      4\u001b[0m     \u001b[1;31m#tip1=10\u001b[0m\u001b[1;33m\u001b[0m\u001b[1;33m\u001b[0m\u001b[1;33m\u001b[0m\u001b[0m\n\u001b[1;32m----> 5\u001b[1;33m     \u001b[0mtip_amount\u001b[0m\u001b[1;33m=\u001b[0m\u001b[0mprice\u001b[0m\u001b[1;33m*\u001b[0m\u001b[1;33m(\u001b[0m\u001b[0mtip1\u001b[0m\u001b[1;33m/\u001b[0m\u001b[1;36m100\u001b[0m\u001b[1;33m)\u001b[0m\u001b[1;33m\u001b[0m\u001b[1;33m\u001b[0m\u001b[0m\n\u001b[0m\u001b[0;32m      6\u001b[0m     \u001b[0mtotal_bill\u001b[0m\u001b[1;33m=\u001b[0m\u001b[0mprice\u001b[0m\u001b[1;33m+\u001b[0m\u001b[0mtip_amount\u001b[0m\u001b[1;33m\u001b[0m\u001b[1;33m\u001b[0m\u001b[0m\n\u001b[0;32m      7\u001b[0m     \u001b[0mprint\u001b[0m\u001b[1;33m(\u001b[0m\u001b[1;34m\"The tip amount is: \"\u001b[0m\u001b[1;33m,\u001b[0m\u001b[0mtip_amount\u001b[0m\u001b[1;33m)\u001b[0m\u001b[1;33m\u001b[0m\u001b[1;33m\u001b[0m\u001b[0m\n",
      "\u001b[1;31mNameError\u001b[0m: name 'tip1' is not defined"
     ]
    }
   ],
   "source": [
    "#\n",
    "def amount():\n",
    "    price=1000\n",
    "    #tip1=10\n",
    "    tip_amount=price*(tip1/100)\n",
    "    total_bill=price+tip_amount\n",
    "    print(\"The tip amount is: \",tip_amount)\n",
    "    print(\"The total bill is: \",total_bill)\n",
    "amount()\n",
    "\n",
    "#Error occured since tip1 is not defined \n",
    "    "
   ]
  },
  {
   "cell_type": "code",
   "execution_count": null,
   "metadata": {},
   "outputs": [],
   "source": [
    "#here, price2 is a global variable\n",
    "price2=1000\n",
    "def amount(): #variable within this block are called local variables\n",
    "    tip=10\n",
    "    tip_amount=price2*(tip/100)\n",
    "    total_bill=price2+tip_amount\n",
    "    print(\"The tip amount is: \",tip_amount)\n",
    "    print(\"The total bill is: \",total_bill)\n",
    "amount()\n",
    "    "
   ]
  },
  {
   "cell_type": "markdown",
   "metadata": {},
   "source": [
    "- Global variables- Which are defined outside of the function, but can be used throughtout the program\n",
    "\n",
    "- Local variables- Which are defined within a function& can be used inside a function\n",
    "\n"
   ]
  },
  {
   "cell_type": "code",
   "execution_count": 35,
   "metadata": {},
   "outputs": [
    {
     "name": "stdout",
     "output_type": "stream",
     "text": [
      "30\n"
     ]
    }
   ],
   "source": [
    "#Global variable example:-\n",
    "#Here,a is global variable\n",
    "a=10\n",
    "def sum():\n",
    "    b=20\n",
    "    print(a+b)\n",
    "sum()\n"
   ]
  },
  {
   "cell_type": "code",
   "execution_count": 36,
   "metadata": {},
   "outputs": [
    {
     "name": "stdout",
     "output_type": "stream",
     "text": [
      "30\n"
     ]
    }
   ],
   "source": [
    "#Local Variable:-\n",
    "#Here a & b are local variables\n",
    "def sum():\n",
    "    b=20\n",
    "    print(a+b)\n",
    "sum()"
   ]
  },
  {
   "cell_type": "code",
   "execution_count": 2,
   "metadata": {},
   "outputs": [
    {
     "name": "stdout",
     "output_type": "stream",
     "text": [
      "Enter price of a meal: 50\n",
      "Enter tip per a meal: 10\n",
      "The tip amount is:  5.0\n",
      "The total bill is:  55.0\n"
     ]
    }
   ],
   "source": [
    "#Method 1 -\n",
    "price=eval(input(\"Enter price of a meal: \"))\n",
    "tip=eval(input(\"Enter tip per a meal: \"))\n",
    "tip_amount=price*(tip/100)\n",
    "total_bill=price+tip_amount\n",
    "print(\"The tip amount is: \",tip_amount)\n",
    "print(\"The total bill is: \",total_bill)"
   ]
  },
  {
   "cell_type": "code",
   "execution_count": 3,
   "metadata": {},
   "outputs": [
    {
     "name": "stdout",
     "output_type": "stream",
     "text": [
      "Enter price of a meal: 50\n",
      "Enter tip per a meal: 10\n",
      "The tip amount is:  5.0\n",
      "The total bill is:  55.0\n"
     ]
    }
   ],
   "source": [
    "#Method 2-Using Functions w/o arguments\n",
    "def amount():\n",
    "    price=eval(input(\"Enter price of a meal: \"))\n",
    "    tip=eval(input(\"Enter tip per a meal: \"))\n",
    "    tip_amount=price*(tip/100)\n",
    "    total_bill=price+tip_amount\n",
    "    print(\"The tip amount is: \",tip_amount)\n",
    "    print(\"The total bill is: \",total_bill)\n",
    "amount()"
   ]
  },
  {
   "cell_type": "code",
   "execution_count": 4,
   "metadata": {},
   "outputs": [
    {
     "name": "stdout",
     "output_type": "stream",
     "text": [
      "The tip amount is:  100.0\n",
      "The total bill is:  1100.0\n"
     ]
    }
   ],
   "source": [
    "#Method 3-Using functions with arguments\n",
    "def amount(price,tip):\n",
    "    tip_amount=price*(tip/100)\n",
    "    total_bill=price+tip_amount\n",
    "    print(\"The tip amount is: \",tip_amount)\n",
    "    print(\"The total bill is: \",total_bill)\n",
    "amount(1000,10)"
   ]
  },
  {
   "cell_type": "code",
   "execution_count": 1,
   "metadata": {},
   "outputs": [
    {
     "name": "stdout",
     "output_type": "stream",
     "text": [
      "The tip amount is:  200.0\n",
      "The total bill is:  2200.0\n"
     ]
    }
   ],
   "source": [
    "#Method-4(Using functions with arguments (Default Argument)\n",
    "#tax percentage value is passed within arguments (Default argument)\n",
    "def amount(price,tip_percentage=10):\n",
    "    tip_amount=price*(tip_percentage/100)\n",
    "    total_bill=price+tip_amount\n",
    "    print(\"The tip amount is: \",tip_amount)\n",
    "    print(\"The total bill is: \",total_bill)\n",
    "amount(2000)"
   ]
  },
  {
   "cell_type": "code",
   "execution_count": 9,
   "metadata": {},
   "outputs": [
    {
     "name": "stdout",
     "output_type": "stream",
     "text": [
      "The tip amount is:  100.0\n",
      "The total bill is:  1100.0\n",
      "The tip amount is:  200.0\n",
      "The total bill is:  1200.0\n",
      "Enter tip per a meal: 30 \n",
      "The tip amount is:  300.0\n",
      "The total bill is:  1300.0\n"
     ]
    }
   ],
   "source": [
    "#Method-5(Global & Local variables)\n",
    "price2=1000\n",
    "def amount(): #variable within this block are called local variables\n",
    "    tip=10\n",
    "    tip_amount=price2*(tip/100)\n",
    "    total_bill=price2+tip_amount\n",
    "    print(\"The tip amount is: \",tip_amount)\n",
    "    print(\"The total bill is: \",total_bill)\n",
    "amount()\n",
    "\n",
    "#passing tip as a argument\n",
    "price2=1000\n",
    "def amount(tip): #variable within this block are called local variables\n",
    "    tip_amount=price2*(tip/100)\n",
    "    total_bill=price2+tip_amount\n",
    "    print(\"The tip amount is: \",tip_amount)\n",
    "    print(\"The total bill is: \",total_bill)\n",
    "amount(20)\n",
    "\n",
    "#Tip is given as i/p stmnt & no arguments are passed \n",
    "price2=1000\n",
    "def amount(): #variable within this block are called local variables\n",
    "    tip=eval(input(\"Enter tip per a meal: \"))\n",
    "    tip_amount=price2*(tip/100)\n",
    "    total_bill=price2+tip_amount\n",
    "    print(\"The tip amount is: \",tip_amount)\n",
    "    print(\"The total bill is: \",total_bill)\n",
    "amount()"
   ]
  },
  {
   "cell_type": "code",
   "execution_count": 38,
   "metadata": {},
   "outputs": [
    {
     "name": "stdout",
     "output_type": "stream",
     "text": [
      "Enter no. of working hours: 7\n",
      "Enter rate per hour: 120\n",
      "Enter tax: 10\n",
      "The total salary is: 924.0\n",
      "The tax payable is: 84.0\n"
     ]
    }
   ],
   "source": [
    "#WAP to calculate tax payable & total salary\n",
    "#No. of working hrs , rate per hour , tax %\n",
    "#Method-1:-\n",
    "\n",
    "n=eval(input(\"Enter no. of working hours: \"))\n",
    "rph=eval(input(\"Enter rate per hour: \"))\n",
    "tax=eval(input(\"Enter tax: \"))\n",
    "salary=n*rph\n",
    "tax_amount=(tax/100)*salary\n",
    "Total_salary=tax_amount+salary\n",
    "print(\"The total salary is:\",Total_salary)\n",
    "print(\"The tax payable is:\",tax_amount)"
   ]
  },
  {
   "cell_type": "code",
   "execution_count": 39,
   "metadata": {},
   "outputs": [
    {
     "name": "stdout",
     "output_type": "stream",
     "text": [
      "Enter no. of working hours: 7\n",
      "Enter rate per hour: 120\n",
      "Enter tax: 10\n",
      "The total salary is: 924.0\n",
      "The tax payable is: 84.0\n"
     ]
    }
   ],
   "source": [
    "#Method-2 (Using functions w/o arguments)\n",
    "def payment():\n",
    "        n=eval(input(\"Enter no. of working hours: \"))\n",
    "        rph=eval(input(\"Enter rate per hour: \"))\n",
    "        tax=eval(input(\"Enter tax: \"))\n",
    "        salary=n*rph\n",
    "        tax_amount=(tax/100)*salary\n",
    "        Total_salary=tax_amount+salary\n",
    "        print(\"The total salary is:\",Total_salary)\n",
    "        print(\"The tax payable is:\",tax_amount)\n",
    "payment()\n"
   ]
  },
  {
   "cell_type": "code",
   "execution_count": 40,
   "metadata": {},
   "outputs": [
    {
     "name": "stdout",
     "output_type": "stream",
     "text": [
      "The total salary is: 924.0\n",
      "The tax payable is: 84.0\n"
     ]
    }
   ],
   "source": [
    "#Method-3 (Using functions with arguments)\n",
    "def payment(n,rph,tax):\n",
    "    salary=n*rph\n",
    "    tax_amount=(tax/100)*salary\n",
    "    Total_salary=tax_amount+salary\n",
    "    print(\"The total salary is:\",Total_salary)\n",
    "    print(\"The tax payable is:\",tax_amount)\n",
    "payment(7,120,10)\n"
   ]
  },
  {
   "cell_type": "code",
   "execution_count": 49,
   "metadata": {},
   "outputs": [
    {
     "ename": "SyntaxError",
     "evalue": "non-default argument follows default argument (<ipython-input-49-ea4706f45897>, line 11)",
     "output_type": "error",
     "traceback": [
      "\u001b[1;36m  File \u001b[1;32m\"<ipython-input-49-ea4706f45897>\"\u001b[1;36m, line \u001b[1;32m11\u001b[0m\n\u001b[1;33m    def payment(n,rph=120,tax):\u001b[0m\n\u001b[1;37m                ^\u001b[0m\n\u001b[1;31mSyntaxError\u001b[0m\u001b[1;31m:\u001b[0m non-default argument follows default argument\n"
     ]
    }
   ],
   "source": [
    "#Method-4(Default Argument)\n",
    "def payment(n,rph,tax=10):\n",
    "        salary=n*rph\n",
    "        tax_amount=(tax/100)*salary\n",
    "        Total_salary=tax_amount+salary\n",
    "        print(\"The total salary is:\",Total_salary)\n",
    "        print(\"The tax payable is:\",tax_amount)\n",
    "payment(7,120)\n",
    "\n",
    "#Making rph as default argument\n",
    "def payment(n,rph=120,tax):\n",
    "        salary=n*rph\n",
    "        tax_amount=(tax/100)*salary\n",
    "        Total_salary=tax_amount+salary\n",
    "        print(\"The total salary is:\",Total_salary)\n",
    "        print(\"The tax payable is:\",tax_amount)\n",
    "payment(7,10)\n",
    "\n",
    "#Error occured since non default argument is followed by default argument (n -> rph)\n"
   ]
  },
  {
   "cell_type": "code",
   "execution_count": 48,
   "metadata": {},
   "outputs": [
    {
     "name": "stdout",
     "output_type": "stream",
     "text": [
      "The total salary is: 924.0\n",
      "The tax payable is: 84.0\n",
      "Enter n value: 7\n",
      "Enter rate per hour: 120\n",
      "Enter tax: 10\n",
      "The total salary is: 924.0\n",
      "The tax payable is: 84.0\n"
     ]
    }
   ],
   "source": [
    "#Method 5(Global var)\n",
    "n=7\n",
    "rph=120\n",
    "def payment():\n",
    "    tax=10\n",
    "    salary=n*rph\n",
    "    tax_amount=(tax/100)*salary\n",
    "    Total_salary=tax_amount+salary\n",
    "    print(\"The total salary is:\",Total_salary)\n",
    "    print(\"The tax payable is:\",tax_amount)\n",
    "payment()\n",
    "\n",
    "#Using i/p stmnts\n",
    "n=eval(input(\"Enter n value: \"))\n",
    "rph=eval(input(\"Enter rate per hour: \"))\n",
    "def payment():\n",
    "    tax=eval(input(\"Enter tax: \"))\n",
    "    salary=n*rph\n",
    "    tax_amount=(tax/100)*salary\n",
    "    Total_salary=tax_amount+salary\n",
    "    print(\"The total salary is:\",Total_salary)\n",
    "    print(\"The tax payable is:\",tax_amount)\n",
    "payment()\n",
    "\n",
    "    "
   ]
  },
  {
   "cell_type": "code",
   "execution_count": 55,
   "metadata": {},
   "outputs": [
    {
     "name": "stdout",
     "output_type": "stream",
     "text": [
      "Enter value: 10\n",
      "Enter value: 10\n",
      "Enter value: 10\n",
      "10.0\n"
     ]
    }
   ],
   "source": [
    "#w/o function avg of 3 no.s\n",
    "a=eval(input(\"Enter value: \"))\n",
    "b=eval(input(\"Enter value: \"))\n",
    "c=eval(input(\"Enter value: \"))\n",
    "total=a+b+c\n",
    "avg=total/3\n",
    "print(avg)"
   ]
  },
  {
   "cell_type": "code",
   "execution_count": 56,
   "metadata": {},
   "outputs": [
    {
     "data": {
      "text/plain": [
       "10.0"
      ]
     },
     "execution_count": 56,
     "metadata": {},
     "output_type": "execute_result"
    }
   ],
   "source": [
    "avg\n",
    "\n",
    "#In avg , 10.0 is stored, so 10.0 is displayed"
   ]
  },
  {
   "cell_type": "code",
   "execution_count": 51,
   "metadata": {},
   "outputs": [
    {
     "name": "stdout",
     "output_type": "stream",
     "text": [
      "The avg is:  20.0\n"
     ]
    }
   ],
   "source": [
    "#Step-1\n",
    "#avg of 3 no.s using functions\n",
    "def avg(a,b,c):\n",
    "    total=a+b+c\n",
    "    average=total/3\n",
    "    print(\"The avg is: \",average)\n",
    "avg(10,20,30)\n"
   ]
  },
  {
   "cell_type": "code",
   "execution_count": 52,
   "metadata": {},
   "outputs": [
    {
     "ename": "NameError",
     "evalue": "name 'average' is not defined",
     "output_type": "error",
     "traceback": [
      "\u001b[1;31m---------------------------------------------------------------------------\u001b[0m",
      "\u001b[1;31mNameError\u001b[0m                                 Traceback (most recent call last)",
      "\u001b[1;32m<ipython-input-52-c3fe9b4213f6>\u001b[0m in \u001b[0;36m<module>\u001b[1;34m\u001b[0m\n\u001b[1;32m----> 1\u001b[1;33m \u001b[0maverage\u001b[0m\u001b[1;33m\u001b[0m\u001b[1;33m\u001b[0m\u001b[0m\n\u001b[0m",
      "\u001b[1;31mNameError\u001b[0m: name 'average' is not defined"
     ]
    }
   ],
   "source": [
    "average\n",
    "#Encountered an error even though average is defined\n",
    "\n",
    "# In functions, value will not be stored (i.e., average value (20.0) is not stored in avg )\n",
    "#It is just printed using print stmmnt"
   ]
  },
  {
   "cell_type": "code",
   "execution_count": null,
   "metadata": {},
   "outputs": [],
   "source": [
    "#Return function\n",
    "\n",
    "- it stores the value"
   ]
  },
  {
   "cell_type": "code",
   "execution_count": 57,
   "metadata": {},
   "outputs": [
    {
     "name": "stdout",
     "output_type": "stream",
     "text": [
      "The avg is:  20.0\n"
     ]
    },
    {
     "data": {
      "text/plain": [
       "20.0"
      ]
     },
     "execution_count": 57,
     "metadata": {},
     "output_type": "execute_result"
    }
   ],
   "source": [
    "#Step-2 (using return function)\n",
    "def avg(a,b,c):\n",
    "    total=a+b+c\n",
    "    average=total/3\n",
    "    print(\"The avg is: \",average)\n",
    "    return(average)          #average value be returned here using return fuction \n",
    "avg(10,20,30)\n"
   ]
  },
  {
   "cell_type": "code",
   "execution_count": 54,
   "metadata": {},
   "outputs": [
    {
     "ename": "NameError",
     "evalue": "name 'average' is not defined",
     "output_type": "error",
     "traceback": [
      "\u001b[1;31m---------------------------------------------------------------------------\u001b[0m",
      "\u001b[1;31mNameError\u001b[0m                                 Traceback (most recent call last)",
      "\u001b[1;32m<ipython-input-54-c3fe9b4213f6>\u001b[0m in \u001b[0;36m<module>\u001b[1;34m\u001b[0m\n\u001b[1;32m----> 1\u001b[1;33m \u001b[0maverage\u001b[0m\u001b[1;33m\u001b[0m\u001b[1;33m\u001b[0m\u001b[0m\n\u001b[0m",
      "\u001b[1;31mNameError\u001b[0m: name 'average' is not defined"
     ]
    }
   ],
   "source": [
    "average\n",
    "#again error occured"
   ]
  },
  {
   "cell_type": "code",
   "execution_count": 58,
   "metadata": {},
   "outputs": [
    {
     "name": "stdout",
     "output_type": "stream",
     "text": [
      "The avg is:  20.0\n"
     ]
    }
   ],
   "source": [
    "#Step=3\n",
    "def avg(a,b,c):\n",
    "    total=a+b+c\n",
    "    average=total/3\n",
    "    print(\"The avg is: \",average)\n",
    "    return(average)         \n",
    "average=avg(10,20,30) #storing in average\n"
   ]
  },
  {
   "cell_type": "code",
   "execution_count": 59,
   "metadata": {},
   "outputs": [
    {
     "data": {
      "text/plain": [
       "20.0"
      ]
     },
     "execution_count": 59,
     "metadata": {},
     "output_type": "execute_result"
    }
   ],
   "source": [
    "average"
   ]
  },
  {
   "cell_type": "code",
   "execution_count": 64,
   "metadata": {},
   "outputs": [
    {
     "name": "stdout",
     "output_type": "stream",
     "text": [
      "The total is:  60\n"
     ]
    },
    {
     "data": {
      "text/plain": [
       "60"
      ]
     },
     "execution_count": 64,
     "metadata": {},
     "output_type": "execute_result"
    }
   ],
   "source": [
    "#To find total\n",
    "def sum(a,b,c):\n",
    "    total3=a+b+c\n",
    "    print(\"The total is: \",total3)\n",
    "    return(total3)  #total value get stored in 'total3'       \n",
    "sum(10,20,30)\n",
    "\n"
   ]
  },
  {
   "cell_type": "code",
   "execution_count": 65,
   "metadata": {},
   "outputs": [
    {
     "ename": "NameError",
     "evalue": "name 'total3' is not defined",
     "output_type": "error",
     "traceback": [
      "\u001b[1;31m---------------------------------------------------------------------------\u001b[0m",
      "\u001b[1;31mNameError\u001b[0m                                 Traceback (most recent call last)",
      "\u001b[1;32m<ipython-input-65-9fc822aee77e>\u001b[0m in \u001b[0;36m<module>\u001b[1;34m\u001b[0m\n\u001b[1;32m----> 1\u001b[1;33m \u001b[0mtotal3\u001b[0m\u001b[1;33m\u001b[0m\u001b[1;33m\u001b[0m\u001b[0m\n\u001b[0m",
      "\u001b[1;31mNameError\u001b[0m: name 'total3' is not defined"
     ]
    }
   ],
   "source": [
    "total3\n",
    "#encountered error, so store in some variable"
   ]
  },
  {
   "cell_type": "code",
   "execution_count": 66,
   "metadata": {},
   "outputs": [
    {
     "name": "stdout",
     "output_type": "stream",
     "text": [
      "The total is:  60\n"
     ]
    }
   ],
   "source": [
    "#To find total\n",
    "def sum(a,b,c):\n",
    "    total3=a+b+c\n",
    "    print(\"The total is: \",total3)\n",
    "    return(total3)  #total value get stored in 'total3'       \n",
    "XYZ=sum(10,20,30)"
   ]
  },
  {
   "cell_type": "code",
   "execution_count": 67,
   "metadata": {},
   "outputs": [
    {
     "data": {
      "text/plain": [
       "60"
      ]
     },
     "execution_count": 67,
     "metadata": {},
     "output_type": "execute_result"
    }
   ],
   "source": [
    "XYZ"
   ]
  },
  {
   "cell_type": "code",
   "execution_count": 2,
   "metadata": {},
   "outputs": [
    {
     "name": "stdout",
     "output_type": "stream",
     "text": [
      "The sum is: 60\n"
     ]
    },
    {
     "data": {
      "text/plain": [
       "60"
      ]
     },
     "execution_count": 2,
     "metadata": {},
     "output_type": "execute_result"
    }
   ],
   "source": [
    "def sum(a,b,c):\n",
    "    sum2=a+b+c\n",
    "    print(\"The sum is:\",sum2)\n",
    "    return(sum2)\n",
    "sum(10,20,30)"
   ]
  },
  {
   "cell_type": "code",
   "execution_count": 4,
   "metadata": {},
   "outputs": [
    {
     "ename": "NameError",
     "evalue": "name 'sum2' is not defined",
     "output_type": "error",
     "traceback": [
      "\u001b[1;31m---------------------------------------------------------------------------\u001b[0m",
      "\u001b[1;31mNameError\u001b[0m                                 Traceback (most recent call last)",
      "\u001b[1;32m<ipython-input-4-97b38d006c81>\u001b[0m in \u001b[0;36m<module>\u001b[1;34m\u001b[0m\n\u001b[1;32m----> 1\u001b[1;33m \u001b[0msum2\u001b[0m\u001b[1;33m\u001b[0m\u001b[1;33m\u001b[0m\u001b[0m\n\u001b[0m",
      "\u001b[1;31mNameError\u001b[0m: name 'sum2' is not defined"
     ]
    }
   ],
   "source": [
    "sum2\n",
    "#error occured so store 'sum2' in some variable"
   ]
  },
  {
   "cell_type": "code",
   "execution_count": 6,
   "metadata": {},
   "outputs": [
    {
     "name": "stdout",
     "output_type": "stream",
     "text": [
      "The sum is: 60\n"
     ]
    }
   ],
   "source": [
    "def sum(a,b,c):\n",
    "    sum2=a+b+c\n",
    "    print(\"The sum is:\",sum2)\n",
    "    return(sum2)\n",
    "summation=sum(10,20,30)\n"
   ]
  },
  {
   "cell_type": "code",
   "execution_count": 7,
   "metadata": {},
   "outputs": [
    {
     "data": {
      "text/plain": [
       "60"
      ]
     },
     "execution_count": 7,
     "metadata": {},
     "output_type": "execute_result"
    }
   ],
   "source": [
    "summation"
   ]
  },
  {
   "cell_type": "code",
   "execution_count": 23,
   "metadata": {},
   "outputs": [],
   "source": [
    "#To give summation & avg in return function\n",
    "#Function name is sum5():\n",
    "def sum5(a,b,c):\n",
    "    sum5=a+b+c\n",
    "    average=sum5/3\n",
    "    print(\"The sum is:\",sum5)\n",
    "    print(\"The average is:\",average)\n",
    "    return(sum5,average)"
   ]
  },
  {
   "cell_type": "code",
   "execution_count": 24,
   "metadata": {},
   "outputs": [
    {
     "name": "stdout",
     "output_type": "stream",
     "text": [
      "The sum is: 60\n",
      "The average is: 20.0\n"
     ]
    },
    {
     "data": {
      "text/plain": [
       "(60, 20.0)"
      ]
     },
     "execution_count": 24,
     "metadata": {},
     "output_type": "execute_result"
    }
   ],
   "source": [
    "sum5,average=sum5(10,20,30)\n",
    "sum5,average"
   ]
  },
  {
   "cell_type": "code",
   "execution_count": 25,
   "metadata": {},
   "outputs": [],
   "source": [
    "#Method-5 (Using return function)\n",
    "#function name is sum():\n",
    "def sum(a,b,c):\n",
    "    sum5=a+b+c\n",
    "    average=sum5/3\n",
    "    print(\"The sum is:\",sum5)\n",
    "    print(\"The average is:\",average)\n",
    "    return(sum5,average)"
   ]
  },
  {
   "cell_type": "code",
   "execution_count": 26,
   "metadata": {},
   "outputs": [
    {
     "name": "stdout",
     "output_type": "stream",
     "text": [
      "The sum is: 60\n",
      "The average is: 20.0\n"
     ]
    }
   ],
   "source": [
    "sum5,average=sum(10,20,30)"
   ]
  },
  {
   "cell_type": "code",
   "execution_count": 27,
   "metadata": {},
   "outputs": [
    {
     "name": "stdout",
     "output_type": "stream",
     "text": [
      "Enter bill: 500\n",
      "Enter tip: 10\n",
      "The total bill is: 550.0\n",
      "The tip amount is:  50.0\n"
     ]
    }
   ],
   "source": [
    "#WAP to pay tip ammnt & total bill (#hotel bill , tip%, tip_amnt, total_bill) \n",
    "\n",
    "hotel_bill=eval(input(\"Enter bill: \"))\n",
    "tip_percentage=eval(input(\"Enter tip: \"))\n",
    "tip_amount=(hotel_bill)*tip_percentage/100\n",
    "total_bill=hotel_bill+tip_amount\n",
    "print(\"The total bill is:\",total_bill)\n",
    "print(\"The tip amount is: \",tip_amount)\n"
   ]
  },
  {
   "cell_type": "code",
   "execution_count": 35,
   "metadata": {},
   "outputs": [],
   "source": [
    "#Using return function\n",
    "#using functions return total bill &tip_amnt\n",
    "\n",
    "def bill1(hotel_bill,tip_percentage):\n",
    "    tip_amount=(hotel_bill)*tip_percentage/100\n",
    "    total_bill=hotel_bill+tip_amount\n",
    "    print(\"The total bill is:\",total_bill)\n",
    "    print(\"The tip amount is: \",tip_amount)\n",
    "    return(total_bill,tip_amount)\n",
    "\n",
    "\n",
    "\n",
    "\n"
   ]
  },
  {
   "cell_type": "code",
   "execution_count": 40,
   "metadata": {},
   "outputs": [
    {
     "name": "stdout",
     "output_type": "stream",
     "text": [
      "The total bill is: 550.0\n",
      "The tip amount is:  50.0\n"
     ]
    },
    {
     "data": {
      "text/plain": [
       "(550.0, 50.0)"
      ]
     },
     "execution_count": 40,
     "metadata": {},
     "output_type": "execute_result"
    }
   ],
   "source": [
    "#calling bill1 function\n",
    "bill1(500,10)"
   ]
  },
  {
   "cell_type": "code",
   "execution_count": 47,
   "metadata": {},
   "outputs": [
    {
     "name": "stdout",
     "output_type": "stream",
     "text": [
      "The total bill is: 550.0\n",
      "The tip amount is:  50.0\n"
     ]
    }
   ],
   "source": [
    "#assigning it to total_bill&tip_amount (It goes to bill1 block & tip_amnt,total_bill gets calculated & \n",
    "#cont'---2 prints stmnts are printed)\n",
    "total_bill,tip_amount=bill1(500,10)"
   ]
  },
  {
   "cell_type": "code",
   "execution_count": 39,
   "metadata": {},
   "outputs": [
    {
     "data": {
      "text/plain": [
       "(550.0, 50.0)"
      ]
     },
     "execution_count": 39,
     "metadata": {},
     "output_type": "execute_result"
    }
   ],
   "source": [
    "#Now calling return function in above program (Refer cell 35 )\n",
    "total_bill,tip_amount"
   ]
  },
  {
   "cell_type": "code",
   "execution_count": 44,
   "metadata": {},
   "outputs": [
    {
     "data": {
      "text/plain": [
       "550.0"
      ]
     },
     "execution_count": 44,
     "metadata": {},
     "output_type": "execute_result"
    }
   ],
   "source": [
    "total_bill"
   ]
  },
  {
   "cell_type": "code",
   "execution_count": 45,
   "metadata": {},
   "outputs": [
    {
     "data": {
      "text/plain": [
       "50.0"
      ]
     },
     "execution_count": 45,
     "metadata": {},
     "output_type": "execute_result"
    }
   ],
   "source": [
    "tip_amount"
   ]
  },
  {
   "cell_type": "code",
   "execution_count": 48,
   "metadata": {},
   "outputs": [
    {
     "name": "stdout",
     "output_type": "stream",
     "text": [
      "The total bill is: 550.0\n",
      "The tip amount is:  50.0\n"
     ]
    }
   ],
   "source": [
    "#Again assigning it to some other variables\n",
    "billtotal,tip=bill1(500,10)     #it goes to bill1 block (refer 35)"
   ]
  },
  {
   "cell_type": "code",
   "execution_count": 49,
   "metadata": {},
   "outputs": [
    {
     "data": {
      "text/plain": [
       "550.0"
      ]
     },
     "execution_count": 49,
     "metadata": {},
     "output_type": "execute_result"
    }
   ],
   "source": [
    "billtotal"
   ]
  },
  {
   "cell_type": "code",
   "execution_count": 50,
   "metadata": {},
   "outputs": [
    {
     "data": {
      "text/plain": [
       "50.0"
      ]
     },
     "execution_count": 50,
     "metadata": {},
     "output_type": "execute_result"
    }
   ],
   "source": [
    "tip"
   ]
  },
  {
   "cell_type": "markdown",
   "metadata": {},
   "source": [
    "# Date:-Feb 23rd, 2022"
   ]
  },
  {
   "cell_type": "code",
   "execution_count": 4,
   "metadata": {},
   "outputs": [
    {
     "name": "stdout",
     "output_type": "stream",
     "text": [
      "Enter tax: 10\n",
      "The total salary is: 924.0\n",
      "The tax payable is: 84.0\n"
     ]
    }
   ],
   "source": [
    "#Total Salary & tax amnt using return function---\n",
    "def payment(n,rph):\n",
    "    tax=eval(input(\"Enter tax: \"))\n",
    "    salary=n*rph\n",
    "    tax_amount=(tax/100)*salary\n",
    "    Total_salary=tax_amount+salary\n",
    "    print(\"The total salary is:\",Total_salary)\n",
    "    print(\"The tax payable is:\",tax_amount)\n",
    "payment(7,120)"
   ]
  },
  {
   "cell_type": "code",
   "execution_count": 5,
   "metadata": {},
   "outputs": [
    {
     "ename": "NameError",
     "evalue": "name 'salary' is not defined",
     "output_type": "error",
     "traceback": [
      "\u001b[1;31m---------------------------------------------------------------------------\u001b[0m",
      "\u001b[1;31mNameError\u001b[0m                                 Traceback (most recent call last)",
      "\u001b[1;32m<ipython-input-5-55b5c721c8d2>\u001b[0m in \u001b[0;36m<module>\u001b[1;34m\u001b[0m\n\u001b[1;32m----> 1\u001b[1;33m \u001b[0msalary\u001b[0m\u001b[1;33m\u001b[0m\u001b[1;33m\u001b[0m\u001b[0m\n\u001b[0m",
      "\u001b[1;31mNameError\u001b[0m: name 'salary' is not defined"
     ]
    }
   ],
   "source": [
    "salary"
   ]
  },
  {
   "cell_type": "code",
   "execution_count": 10,
   "metadata": {},
   "outputs": [
    {
     "name": "stdout",
     "output_type": "stream",
     "text": [
      "Enter tax: 10\n",
      "The total salary is: 924.0\n",
      "The tax payable is: 84.0\n"
     ]
    }
   ],
   "source": [
    "#so assign it to some variable as below\n",
    "PAY=payment(7,120)\n",
    "PAY"
   ]
  },
  {
   "cell_type": "markdown",
   "metadata": {},
   "source": [
    "# Function in function:"
   ]
  },
  {
   "cell_type": "code",
   "execution_count": 17,
   "metadata": {},
   "outputs": [
    {
     "name": "stdout",
     "output_type": "stream",
     "text": [
      "hello\n"
     ]
    }
   ],
   "source": [
    "#Greet function\n",
    "def greet():\n",
    "    print(\"hello\")\n",
    "greet()"
   ]
  },
  {
   "cell_type": "code",
   "execution_count": 18,
   "metadata": {},
   "outputs": [
    {
     "name": "stdout",
     "output_type": "stream",
     "text": [
      "hello\n",
      "how are you\n"
     ]
    }
   ],
   "source": [
    "#Function(greet) inside a function(greetings)\n",
    "def greetings():\n",
    "    greet()  #this function is already defined in above cell , hence it calls greet() function & hello is printed\n",
    "    print(\"how are you\")\n",
    "greetings()"
   ]
  },
  {
   "cell_type": "code",
   "execution_count": 13,
   "metadata": {},
   "outputs": [
    {
     "name": "stdout",
     "output_type": "stream",
     "text": [
      "30\n"
     ]
    }
   ],
   "source": [
    "#sum1 - function\n",
    "def sum1(a,b):\n",
    "    c=a+b\n",
    "    print(c)\n",
    "sum1(10,20)"
   ]
  },
  {
   "cell_type": "code",
   "execution_count": 15,
   "metadata": {},
   "outputs": [
    {
     "name": "stdout",
     "output_type": "stream",
     "text": [
      "30\n",
      "10\n"
     ]
    }
   ],
   "source": [
    "#sum1 function within sub1 function\n",
    "def sub1(a,b):\n",
    "    sum1(a,b)    #sum1 function is already created in above cell, hence sum1 function is called when this step is running\n",
    "    d=b-a\n",
    "    print(d)\n",
    "sub1(10,20)      #along with sum1 function , sub1 is also printed "
   ]
  },
  {
   "cell_type": "code",
   "execution_count": 21,
   "metadata": {},
   "outputs": [
    {
     "name": "stdout",
     "output_type": "stream",
     "text": [
      "50\n",
      "10\n",
      "600\n"
     ]
    }
   ],
   "source": [
    "#Functions (add, sub & mult)\n",
    "def add(a,b):\n",
    "    print(a+b)\n",
    "def sub(a,b):\n",
    "    print(a-b)\n",
    "def mult(a,b):\n",
    "    print(a*b)\n",
    "add(30,20)\n",
    "sub(30,20)\n",
    "mult(30,20)\n"
   ]
  },
  {
   "cell_type": "code",
   "execution_count": 2,
   "metadata": {},
   "outputs": [
    {
     "ename": "NameError",
     "evalue": "name 'add' is not defined",
     "output_type": "error",
     "traceback": [
      "\u001b[1;31m---------------------------------------------------------------------------\u001b[0m",
      "\u001b[1;31mNameError\u001b[0m                                 Traceback (most recent call last)",
      "\u001b[1;32m<ipython-input-2-5e6f9f2b2582>\u001b[0m in \u001b[0;36m<module>\u001b[1;34m\u001b[0m\n\u001b[0;32m      5\u001b[0m     \u001b[0msub\u001b[0m\u001b[1;33m(\u001b[0m\u001b[0ma\u001b[0m\u001b[1;33m,\u001b[0m\u001b[0mb\u001b[0m\u001b[1;33m)\u001b[0m\u001b[1;33m\u001b[0m\u001b[1;33m\u001b[0m\u001b[0m\n\u001b[0;32m      6\u001b[0m     \u001b[0mmult\u001b[0m\u001b[1;33m(\u001b[0m\u001b[0ma\u001b[0m\u001b[1;33m,\u001b[0m\u001b[0mb\u001b[0m\u001b[1;33m)\u001b[0m\u001b[1;33m\u001b[0m\u001b[1;33m\u001b[0m\u001b[0m\n\u001b[1;32m----> 7\u001b[1;33m \u001b[0mmaths\u001b[0m\u001b[1;33m(\u001b[0m\u001b[1;33m)\u001b[0m\u001b[1;33m\u001b[0m\u001b[1;33m\u001b[0m\u001b[0m\n\u001b[0m",
      "\u001b[1;32m<ipython-input-2-5e6f9f2b2582>\u001b[0m in \u001b[0;36mmaths\u001b[1;34m()\u001b[0m\n\u001b[0;32m      2\u001b[0m \u001b[1;33m\u001b[0m\u001b[0m\n\u001b[0;32m      3\u001b[0m \u001b[1;32mdef\u001b[0m \u001b[0mmaths\u001b[0m\u001b[1;33m(\u001b[0m\u001b[1;33m)\u001b[0m\u001b[1;33m:\u001b[0m\u001b[1;33m\u001b[0m\u001b[1;33m\u001b[0m\u001b[0m\n\u001b[1;32m----> 4\u001b[1;33m     \u001b[0madd\u001b[0m\u001b[1;33m(\u001b[0m\u001b[0ma\u001b[0m\u001b[1;33m,\u001b[0m\u001b[0mb\u001b[0m\u001b[1;33m)\u001b[0m\u001b[1;33m\u001b[0m\u001b[1;33m\u001b[0m\u001b[0m\n\u001b[0m\u001b[0;32m      5\u001b[0m     \u001b[0msub\u001b[0m\u001b[1;33m(\u001b[0m\u001b[0ma\u001b[0m\u001b[1;33m,\u001b[0m\u001b[0mb\u001b[0m\u001b[1;33m)\u001b[0m\u001b[1;33m\u001b[0m\u001b[1;33m\u001b[0m\u001b[0m\n\u001b[0;32m      6\u001b[0m     \u001b[0mmult\u001b[0m\u001b[1;33m(\u001b[0m\u001b[0ma\u001b[0m\u001b[1;33m,\u001b[0m\u001b[0mb\u001b[0m\u001b[1;33m)\u001b[0m\u001b[1;33m\u001b[0m\u001b[1;33m\u001b[0m\u001b[0m\n",
      "\u001b[1;31mNameError\u001b[0m: name 'add' is not defined"
     ]
    }
   ],
   "source": [
    "#Functions (add,sub &mult) within a function\n",
    "\n",
    "def maths():\n",
    "    add(a,b)\n",
    "    sub(a,b)\n",
    "    mult(a,b)\n",
    "maths() \n",
    "\n",
    "# error is occured bcz all 3 functions are having 2 paramters( a & b)"
   ]
  },
  {
   "cell_type": "code",
   "execution_count": 24,
   "metadata": {},
   "outputs": [
    {
     "name": "stdout",
     "output_type": "stream",
     "text": [
      "50\n",
      "10\n",
      "600\n"
     ]
    }
   ],
   "source": [
    "#Functions (add,sub & mult) within a function\n",
    "\n",
    "def maths(a,b):\n",
    "    add(a,b)\n",
    "    sub(a,b)\n",
    "    mult(a,b)\n",
    "maths(30,20)     #here it goes inside maths function, frstly add function is executed followed by sub & mult functions"
   ]
  },
  {
   "cell_type": "code",
   "execution_count": 13,
   "metadata": {},
   "outputs": [],
   "source": [
    "#Functions (add,sub & mult)\n",
    "\n",
    "def add(a,b):\n",
    "    add=a+b\n",
    "    print(add)\n",
    "    return(add)\n",
    "def sub(a,b):\n",
    "    sub=a-b\n",
    "    print(sub)\n",
    "    return(sub)\n",
    "def mult(a,b):\n",
    "    mult=a*b\n",
    "    print(mult)\n",
    "    return(mult)\n",
    "\n"
   ]
  },
  {
   "cell_type": "code",
   "execution_count": 14,
   "metadata": {},
   "outputs": [
    {
     "name": "stdout",
     "output_type": "stream",
     "text": [
      "50\n",
      "10\n",
      "600\n"
     ]
    }
   ],
   "source": [
    "#Functions (add,sub & mult) within a function & using return function\n",
    "def maths(a,b):\n",
    "    add(a,b)\n",
    "    sub(a,b)\n",
    "    mult(a,b)\n",
    "    return(add)\n",
    "    return(sub)\n",
    "    return(mult)\n",
    "mathematics=maths(30,20)"
   ]
  },
  {
   "cell_type": "markdown",
   "metadata": {},
   "source": [
    "# Date:-Feb 24th, 2022"
   ]
  },
  {
   "cell_type": "code",
   "execution_count": 7,
   "metadata": {},
   "outputs": [],
   "source": [
    "#Functions (add,sub & mult)\n",
    "\n",
    "def add(a,b):\n",
    "    add1=a+b   # add is function name .hence it is renamed to add1\n",
    "    print(add1)\n",
    "    return(add1)\n",
    "def sub(a,b):\n",
    "    sub1=a-b\n",
    "    print(sub1)\n",
    "    return(sub1)\n",
    "def mult(a,b):\n",
    "    mult1=a*b\n",
    "    print(mult1)\n",
    "    return(mult1)\n"
   ]
  },
  {
   "cell_type": "code",
   "execution_count": 8,
   "metadata": {},
   "outputs": [
    {
     "name": "stdout",
     "output_type": "stream",
     "text": [
      "50\n",
      "10\n",
      "600\n"
     ]
    }
   ],
   "source": [
    "#Functions (add,sub & mult) within a function & using return function\n",
    "def maths(a,b):\n",
    "    sum1=add(a,b)\n",
    "    sub1=sub(a,b)\n",
    "    mult1=mult(a,b)\n",
    "    return(sum1,sub1,mult1)\n",
    "\n",
    "add,sub,mult=maths(30,20)"
   ]
  },
  {
   "cell_type": "code",
   "execution_count": 29,
   "metadata": {},
   "outputs": [
    {
     "name": "stdout",
     "output_type": "stream",
     "text": [
      "60\n",
      "20.0\n"
     ]
    }
   ],
   "source": [
    "#Function to find avg & total of 3 no's \n",
    "def avg(a,b,c):\n",
    "    total=a+b+c\n",
    "    average=total/3\n",
    "    print(total)\n",
    "    print(average)\n",
    "avg(10,20,30)\n"
   ]
  },
  {
   "cell_type": "code",
   "execution_count": 34,
   "metadata": {},
   "outputs": [
    {
     "name": "stdout",
     "output_type": "stream",
     "text": [
      "30\n",
      "10.0\n"
     ]
    }
   ],
   "source": [
    "#function within a function using return \n",
    "def sumtotal(a,b,c):  # new function sumtotal\n",
    "    avg(a,b,c)        #here , avg function is called which is in above cell (29) & it goes inside the function\n",
    "    return(avg)\n",
    "Sum1=sumtotal(10,10,10)"
   ]
  },
  {
   "cell_type": "code",
   "execution_count": 8,
   "metadata": {},
   "outputs": [
    {
     "name": "stdout",
     "output_type": "stream",
     "text": [
      "600\n"
     ]
    }
   ],
   "source": [
    "#to find salary (no of hrs * rate per hr)\n",
    "\n",
    "def salary5(n,rph):\n",
    "    salary5=n*rph\n",
    "    print(salary5)\n",
    "salary5(5,120)"
   ]
  },
  {
   "cell_type": "code",
   "execution_count": 9,
   "metadata": {},
   "outputs": [
    {
     "name": "stdout",
     "output_type": "stream",
     "text": [
      "600\n"
     ]
    }
   ],
   "source": [
    "#function within a function\n",
    "def sal(n,rph):\n",
    "    salary5(n,rph)\n",
    "sal2=sal(5,120)"
   ]
  },
  {
   "cell_type": "markdown",
   "metadata": {},
   "source": [
    "#If else conditions\n",
    "\n",
    "- Syntax:-if condition:\n",
    "    "
   ]
  },
  {
   "cell_type": "code",
   "execution_count": 13,
   "metadata": {},
   "outputs": [
    {
     "name": "stdout",
     "output_type": "stream",
     "text": [
      "Enter n value: 31\n",
      "Number is odd\n"
     ]
    }
   ],
   "source": [
    "n=eval(input(\"Enter n value: \"))\n",
    "if(n%2==0):\n",
    "    print(\"Number is even\")\n",
    "else:\n",
    "    print(\"Number is odd\")"
   ]
  },
  {
   "cell_type": "code",
   "execution_count": 16,
   "metadata": {},
   "outputs": [
    {
     "name": "stdout",
     "output_type": "stream",
     "text": [
      "Enter n value: 109\n",
      "Number is odd\n"
     ]
    }
   ],
   "source": [
    "#Using functions with no arguments(Method-1)\n",
    "def evenodd():\n",
    "    n=eval(input(\"Enter n value: \"))\n",
    "    if(n%2==0):\n",
    "        print(\"Number is even\")\n",
    "    else:\n",
    "        print(\"Number is odd\")\n",
    "evenodd()\n",
    "    "
   ]
  },
  {
   "cell_type": "code",
   "execution_count": 15,
   "metadata": {},
   "outputs": [
    {
     "name": "stdout",
     "output_type": "stream",
     "text": [
      "Number is odd\n"
     ]
    }
   ],
   "source": [
    "#using functions with arguments (Method -2)\n",
    "def evenodd(n):\n",
    "    if(n%2==0):\n",
    "        print(\"Number is even\")\n",
    "    else:\n",
    "        print(\"Number is odd\")\n",
    "evenodd(11)\n",
    "    "
   ]
  },
  {
   "cell_type": "code",
   "execution_count": 17,
   "metadata": {},
   "outputs": [
    {
     "name": "stdout",
     "output_type": "stream",
     "text": [
      "Number is even\n"
     ]
    }
   ],
   "source": [
    "#default arguments(Method-3)\n",
    "def evenodd(n=20):\n",
    "    if(n%2==0):\n",
    "        print(\"Number is even\")\n",
    "    else:\n",
    "        print(\"Number is odd\")\n",
    "evenodd()\n",
    "    "
   ]
  },
  {
   "cell_type": "code",
   "execution_count": 20,
   "metadata": {},
   "outputs": [
    {
     "name": "stdout",
     "output_type": "stream",
     "text": [
      "Number is even\n"
     ]
    }
   ],
   "source": [
    "#Global variables(Method-4)\n",
    "n=100\n",
    "def evenodd(n):\n",
    "    if(n%2==0):\n",
    "        print(\"Number is even\")\n",
    "    else:\n",
    "        print(\"Number is odd\")\n",
    "evenodd(n)\n",
    "    "
   ]
  },
  {
   "cell_type": "code",
   "execution_count": 25,
   "metadata": {},
   "outputs": [
    {
     "name": "stdout",
     "output_type": "stream",
     "text": [
      "Number is odd\n"
     ]
    }
   ],
   "source": [
    "# using return (Method -5)\n",
    "def evenodd(n):\n",
    "    if(n%2==0):\n",
    "        print(\"Number is even\")\n",
    "    else:\n",
    "        print(\"Number is odd\")\n",
    "        return(n)\n",
    "number=evenodd(5)\n",
    "    "
   ]
  },
  {
   "cell_type": "code",
   "execution_count": 27,
   "metadata": {},
   "outputs": [
    {
     "data": {
      "text/plain": [
       "5"
      ]
     },
     "execution_count": 27,
     "metadata": {},
     "output_type": "execute_result"
    }
   ],
   "source": [
    "number"
   ]
  },
  {
   "cell_type": "code",
   "execution_count": 2,
   "metadata": {},
   "outputs": [
    {
     "name": "stdout",
     "output_type": "stream",
     "text": [
      "Enter a value: 100\n",
      "Enter b value: 50\n",
      "a is greatest number\n"
     ]
    }
   ],
   "source": [
    "#WAP to find greatest of 2 numbers using conditional stmnts\n",
    "a=eval(input(\"Enter a value: \"))\n",
    "b=eval(input(\"Enter b value: \"))\n",
    "if(a>b):\n",
    "    print(\"a is greatest number\")\n",
    "else:\n",
    "    print(\"b is greatest number\")"
   ]
  },
  {
   "cell_type": "code",
   "execution_count": 3,
   "metadata": {},
   "outputs": [
    {
     "name": "stdout",
     "output_type": "stream",
     "text": [
      "Enter a value: 10\n",
      "Enter b value: 200\n",
      "b is greatest number\n"
     ]
    }
   ],
   "source": [
    "#using functions\n",
    "def greatest():\n",
    "    a=eval(input(\"Enter a value: \"))\n",
    "    b=eval(input(\"Enter b value: \"))\n",
    "    if(a>b):\n",
    "        print(\"a is greatest number\")\n",
    "    else:\n",
    "        print(\"b is greatest number\")\n",
    "greatest()    "
   ]
  },
  {
   "cell_type": "code",
   "execution_count": 4,
   "metadata": {},
   "outputs": [
    {
     "name": "stdout",
     "output_type": "stream",
     "text": [
      "a is greatest number\n"
     ]
    }
   ],
   "source": [
    "#using fun's with arguments\n",
    "def greatest(a,b):\n",
    "    if(a>b):\n",
    "        print(\"a is greatest number\")\n",
    "    else:\n",
    "        print(\"b is greatest number\")\n",
    "greatest(100,20)    "
   ]
  },
  {
   "cell_type": "code",
   "execution_count": null,
   "metadata": {},
   "outputs": [],
   "source": [
    "\n",
    "def greatest():\n",
    "    a1=eval(input(\"Enter a1 value: \"))\n",
    "    b=eval(input(\"Enter b value: \"))\n",
    "    if(a1>b):\n",
    "        print(\"a1 is greatest number\")\n",
    "    else:\n",
    "        print(\"b is greatest number\")\n",
    "greatest()    "
   ]
  },
  {
   "cell_type": "code",
   "execution_count": 7,
   "metadata": {},
   "outputs": [
    {
     "ename": "NameError",
     "evalue": "name 'a1' is not defined",
     "output_type": "error",
     "traceback": [
      "\u001b[1;31m---------------------------------------------------------------------------\u001b[0m",
      "\u001b[1;31mNameError\u001b[0m                                 Traceback (most recent call last)",
      "\u001b[1;32m<ipython-input-7-e623a103137d>\u001b[0m in \u001b[0;36m<module>\u001b[1;34m\u001b[0m\n\u001b[0;32m      5\u001b[0m     \u001b[1;32melse\u001b[0m\u001b[1;33m:\u001b[0m\u001b[1;33m\u001b[0m\u001b[1;33m\u001b[0m\u001b[0m\n\u001b[0;32m      6\u001b[0m         \u001b[0mprint\u001b[0m\u001b[1;33m(\u001b[0m\u001b[1;34m\"b is greatest number\"\u001b[0m\u001b[1;33m)\u001b[0m\u001b[1;33m\u001b[0m\u001b[1;33m\u001b[0m\u001b[0m\n\u001b[1;32m----> 7\u001b[1;33m \u001b[0mgreatest\u001b[0m\u001b[1;33m(\u001b[0m\u001b[0ma1\u001b[0m\u001b[1;33m)\u001b[0m\u001b[1;33m\u001b[0m\u001b[1;33m\u001b[0m\u001b[0m\n\u001b[0m",
      "\u001b[1;31mNameError\u001b[0m: name 'a1' is not defined"
     ]
    }
   ],
   "source": [
    "#default argument\n",
    "def greatest(a1,b=30):\n",
    "    if(a1>b):\n",
    "        print(\"a1 is greatest number\")\n",
    "    else:\n",
    "        print(\"b is greatest number\")\n",
    "greatest(a1)    "
   ]
  },
  {
   "cell_type": "code",
   "execution_count": null,
   "metadata": {},
   "outputs": [],
   "source": []
  }
 ],
 "metadata": {
  "kernelspec": {
   "display_name": "Python 3",
   "language": "python",
   "name": "python3"
  },
  "language_info": {
   "codemirror_mode": {
    "name": "ipython",
    "version": 3
   },
   "file_extension": ".py",
   "mimetype": "text/x-python",
   "name": "python",
   "nbconvert_exporter": "python",
   "pygments_lexer": "ipython3",
   "version": "3.8.5"
  }
 },
 "nbformat": 4,
 "nbformat_minor": 4
}
