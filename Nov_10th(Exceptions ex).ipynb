{
 "cells": [
  {
   "cell_type": "code",
   "execution_count": null,
   "id": "0d2b188f",
   "metadata": {},
   "outputs": [],
   "source": [
    "#1)dESIGN A programmer excptn for Division by zero\n",
    "#Define a programmer defined exception surplas which works like Zero Division error\n",
    "\n"
   ]
  },
  {
   "cell_type": "code",
   "execution_count": null,
   "id": "788ecc67",
   "metadata": {},
   "outputs": [],
   "source": [
    "#2) WAPP which will generate multiplication table\n",
    "#Data validations-- if the given no. > 0 , then generate Multplcn table\n",
    "#--> if the given no. is 0, then hit zero error\n",
    "#--> If the given no. is <0, then hit ngtve number error\n",
    "#--> If the given no. is alphanumeric or string or symbols, then hit value error"
   ]
  },
  {
   "cell_type": "code",
   "execution_count": null,
   "id": "c7181d03",
   "metadata": {},
   "outputs": [],
   "source": [
    "#3) WAPP which will validate name of the person or place or product \n",
    "#Data validations--Name of the place must be alwys pure alphabets or words or sentence\n",
    "#"
   ]
  }
 ],
 "metadata": {
  "kernelspec": {
   "display_name": "Python 3",
   "language": "python",
   "name": "python3"
  },
  "language_info": {
   "codemirror_mode": {
    "name": "ipython",
    "version": 3
   },
   "file_extension": ".py",
   "mimetype": "text/x-python",
   "name": "python",
   "nbconvert_exporter": "python",
   "pygments_lexer": "ipython3",
   "version": "3.11.4"
  }
 },
 "nbformat": 4,
 "nbformat_minor": 5
}
