{
 "cells": [
  {
   "cell_type": "code",
   "execution_count": 2,
   "id": "ee1911c5",
   "metadata": {},
   "outputs": [
    {
     "name": "stdout",
     "output_type": "stream",
     "text": [
      "Enter any Numberical Value:-2\n",
      "-2 is -Digit\n"
     ]
    }
   ],
   "source": [
    "val=int(input(\"Enter any Numberical Value:\"))\n",
    "res=\"Number\" if val not in[0,1,2,3,4,5,6,7,8,9,-0,-1,-2,-3,-4,-5,-6,-7,-8,-9] else \"-Digit\" if val in[-0,-1,-2,-3,-4,-5,-6,-7,-8,-9] else \"+Digit\"\n",
    "print(\"{} is {}\".format(val,res))"
   ]
  },
  {
   "cell_type": "code",
   "execution_count": null,
   "id": "08f95ba9",
   "metadata": {},
   "outputs": [],
   "source": []
  }
 ],
 "metadata": {
  "kernelspec": {
   "display_name": "Python 3",
   "language": "python",
   "name": "python3"
  },
  "language_info": {
   "codemirror_mode": {
    "name": "ipython",
    "version": 3
   },
   "file_extension": ".py",
   "mimetype": "text/x-python",
   "name": "python",
   "nbconvert_exporter": "python",
   "pygments_lexer": "ipython3",
   "version": "3.11.4"
  }
 },
 "nbformat": 4,
 "nbformat_minor": 5
}
