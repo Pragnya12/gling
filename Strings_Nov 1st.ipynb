{
 "cells": [
  {
   "cell_type": "code",
   "execution_count": 1,
   "id": "cf63f8ed",
   "metadata": {},
   "outputs": [
    {
     "data": {
      "text/plain": [
       "str"
      ]
     },
     "execution_count": 1,
     "metadata": {},
     "output_type": "execute_result"
    }
   ],
   "source": [
    "name='python'\n",
    "type(name)"
   ]
  },
  {
   "cell_type": "code",
   "execution_count": 2,
   "id": "c039b520",
   "metadata": {},
   "outputs": [
    {
     "data": {
      "text/plain": [
       "'python'"
      ]
     },
     "execution_count": 2,
     "metadata": {},
     "output_type": "execute_result"
    }
   ],
   "source": [
    "name"
   ]
  },
  {
   "cell_type": "code",
   "execution_count": 3,
   "id": "71a42ef7",
   "metadata": {},
   "outputs": [
    {
     "data": {
      "text/plain": [
       "'python'"
      ]
     },
     "execution_count": 3,
     "metadata": {},
     "output_type": "execute_result"
    }
   ],
   "source": [
    "name1='python'\n",
    "name1"
   ]
  },
  {
   "cell_type": "code",
   "execution_count": 4,
   "id": "0be88bc4",
   "metadata": {},
   "outputs": [
    {
     "name": "stdout",
     "output_type": "stream",
     "text": [
      "python\n"
     ]
    }
   ],
   "source": [
    "print(name)"
   ]
  },
  {
   "cell_type": "code",
   "execution_count": 7,
   "id": "a08ad1b6",
   "metadata": {},
   "outputs": [
    {
     "name": "stdout",
     "output_type": "stream",
     "text": [
      " hello hi how ruh \n"
     ]
    }
   ],
   "source": [
    "#triple quotes means  Doc string\n",
    "# It is an information about code\n",
    "\n",
    "string1=\"\"\" hello hi how ruh \"\"\"\n",
    "print(string1)"
   ]
  },
  {
   "cell_type": "code",
   "execution_count": 8,
   "id": "5f0f0537",
   "metadata": {},
   "outputs": [
    {
     "name": "stdout",
     "output_type": "stream",
     "text": [
      "hello \"python\"\n"
     ]
    }
   ],
   "source": [
    "#To highlight the word\n",
    "\n",
    "#Here python is in double qoutes, give the other sentences in single quotes \n",
    "print('hello \"python\"')"
   ]
  },
  {
   "cell_type": "code",
   "execution_count": 9,
   "id": "c5ad19d1",
   "metadata": {},
   "outputs": [
    {
     "name": "stdout",
     "output_type": "stream",
     "text": [
      "hello 'python'\n"
     ]
    }
   ],
   "source": [
    "print(\"hello 'python'\")"
   ]
  },
  {
   "cell_type": "code",
   "execution_count": 11,
   "id": "d671494d",
   "metadata": {},
   "outputs": [
    {
     "name": "stdout",
     "output_type": "stream",
     "text": [
      "python\n"
     ]
    }
   ],
   "source": [
    "string1=\"python\"         #python\n",
    "string2=string1         #string2 = python\n",
    "string3='hello'         #\n",
    "string4=string3\n",
    "string4=string1\n",
    "string4=string2\n",
    "string5=string4\n",
    "print(string5)"
   ]
  },
  {
   "cell_type": "code",
   "execution_count": 13,
   "id": "2d2c7e76",
   "metadata": {},
   "outputs": [
    {
     "data": {
      "text/plain": [
       "str"
      ]
     },
     "execution_count": 13,
     "metadata": {},
     "output_type": "execute_result"
    }
   ],
   "source": [
    "string1='python'\n",
    "type(string1)"
   ]
  },
  {
   "cell_type": "code",
   "execution_count": 14,
   "id": "90ea0fed",
   "metadata": {},
   "outputs": [
    {
     "data": {
      "text/plain": [
       "6"
      ]
     },
     "execution_count": 14,
     "metadata": {},
     "output_type": "execute_result"
    }
   ],
   "source": [
    "len(string1)"
   ]
  },
  {
   "cell_type": "code",
   "execution_count": 21,
   "id": "b35aa1e8",
   "metadata": {},
   "outputs": [
    {
     "data": {
      "text/plain": [
       "'y'"
      ]
     },
     "execution_count": 21,
     "metadata": {},
     "output_type": "execute_result"
    }
   ],
   "source": [
    "max(string1)\n",
    "\n"
   ]
  },
  {
   "cell_type": "code",
   "execution_count": 20,
   "id": "015e6160",
   "metadata": {},
   "outputs": [
    {
     "data": {
      "text/plain": [
       "'h'"
      ]
     },
     "execution_count": 20,
     "metadata": {},
     "output_type": "execute_result"
    }
   ],
   "source": [
    "min(string1)\n",
    "\n"
   ]
  },
  {
   "cell_type": "code",
   "execution_count": 26,
   "id": "73ccc51d",
   "metadata": {},
   "outputs": [
    {
     "name": "stdout",
     "output_type": "stream",
     "text": [
      "p 112\n",
      "y 121\n",
      "t 116\n",
      "h 104\n",
      "o 111\n",
      "n 110\n"
     ]
    }
   ],
   "source": [
    "for i in 'python':\n",
    "    print(i,ord(i))"
   ]
  },
  {
   "cell_type": "code",
   "execution_count": 27,
   "id": "ad964943",
   "metadata": {},
   "outputs": [],
   "source": [
    "string1='hai'\n",
    "string2='python'"
   ]
  },
  {
   "cell_type": "code",
   "execution_count": 28,
   "id": "2629ba62",
   "metadata": {},
   "outputs": [
    {
     "data": {
      "text/plain": [
       "'haipython'"
      ]
     },
     "execution_count": 28,
     "metadata": {},
     "output_type": "execute_result"
    }
   ],
   "source": [
    "string1+string2"
   ]
  },
  {
   "cell_type": "code",
   "execution_count": 29,
   "id": "f8c9e2d3",
   "metadata": {},
   "outputs": [
    {
     "ename": "TypeError",
     "evalue": "unsupported operand type(s) for -: 'str' and 'str'",
     "output_type": "error",
     "traceback": [
      "\u001b[1;31m---------------------------------------------------------------------------\u001b[0m",
      "\u001b[1;31mTypeError\u001b[0m                                 Traceback (most recent call last)",
      "Cell \u001b[1;32mIn[29], line 1\u001b[0m\n\u001b[1;32m----> 1\u001b[0m string1\u001b[38;5;241m-\u001b[39mstring2\n",
      "\u001b[1;31mTypeError\u001b[0m: unsupported operand type(s) for -: 'str' and 'str'"
     ]
    }
   ],
   "source": [
    "string1-string2"
   ]
  },
  {
   "cell_type": "code",
   "execution_count": 30,
   "id": "3e5e0b2e",
   "metadata": {},
   "outputs": [
    {
     "ename": "TypeError",
     "evalue": "can't multiply sequence by non-int of type 'str'",
     "output_type": "error",
     "traceback": [
      "\u001b[1;31m---------------------------------------------------------------------------\u001b[0m",
      "\u001b[1;31mTypeError\u001b[0m                                 Traceback (most recent call last)",
      "Cell \u001b[1;32mIn[30], line 1\u001b[0m\n\u001b[1;32m----> 1\u001b[0m string1\u001b[38;5;241m*\u001b[39mstring2\n",
      "\u001b[1;31mTypeError\u001b[0m: can't multiply sequence by non-int of type 'str'"
     ]
    }
   ],
   "source": [
    "string1*string2"
   ]
  },
  {
   "cell_type": "code",
   "execution_count": 32,
   "id": "a508e2ad",
   "metadata": {},
   "outputs": [
    {
     "data": {
      "text/plain": [
       "'pythonpython'"
      ]
     },
     "execution_count": 32,
     "metadata": {},
     "output_type": "execute_result"
    }
   ],
   "source": [
    "2*string2           (#here string2 is repeated for 2times)"
   ]
  },
  {
   "cell_type": "code",
   "execution_count": 31,
   "id": "00ef9feb",
   "metadata": {},
   "outputs": [
    {
     "ename": "TypeError",
     "evalue": "unsupported operand type(s) for /: 'str' and 'str'",
     "output_type": "error",
     "traceback": [
      "\u001b[1;31m---------------------------------------------------------------------------\u001b[0m",
      "\u001b[1;31mTypeError\u001b[0m                                 Traceback (most recent call last)",
      "Cell \u001b[1;32mIn[31], line 1\u001b[0m\n\u001b[1;32m----> 1\u001b[0m string1\u001b[38;5;241m/\u001b[39mstring2\n",
      "\u001b[1;31mTypeError\u001b[0m: unsupported operand type(s) for /: 'str' and 'str'"
     ]
    }
   ],
   "source": [
    "string1/string2"
   ]
  },
  {
   "cell_type": "markdown",
   "id": "5228ffeb",
   "metadata": {},
   "source": [
    "# nov 2nd"
   ]
  },
  {
   "cell_type": "code",
   "execution_count": 33,
   "id": "dacd73bf",
   "metadata": {},
   "outputs": [],
   "source": [
    "name='python'"
   ]
  },
  {
   "cell_type": "code",
   "execution_count": 37,
   "id": "d8c9f54e",
   "metadata": {},
   "outputs": [
    {
     "data": {
      "text/plain": [
       "'p'"
      ]
     },
     "execution_count": 37,
     "metadata": {},
     "output_type": "execute_result"
    }
   ],
   "source": [
    "name[0]\n",
    "\n"
   ]
  },
  {
   "cell_type": "code",
   "execution_count": 38,
   "id": "3e137c97",
   "metadata": {},
   "outputs": [
    {
     "data": {
      "text/plain": [
       "'y'"
      ]
     },
     "execution_count": 38,
     "metadata": {},
     "output_type": "execute_result"
    }
   ],
   "source": [
    "name[1]\n"
   ]
  },
  {
   "cell_type": "code",
   "execution_count": 39,
   "id": "c40b8c75",
   "metadata": {},
   "outputs": [
    {
     "data": {
      "text/plain": [
       "'t'"
      ]
     },
     "execution_count": 39,
     "metadata": {},
     "output_type": "execute_result"
    }
   ],
   "source": [
    "name[2]\n"
   ]
  },
  {
   "cell_type": "code",
   "execution_count": 40,
   "id": "0de5179e",
   "metadata": {},
   "outputs": [
    {
     "data": {
      "text/plain": [
       "'h'"
      ]
     },
     "execution_count": 40,
     "metadata": {},
     "output_type": "execute_result"
    }
   ],
   "source": [
    "name[3]\n"
   ]
  },
  {
   "cell_type": "code",
   "execution_count": 41,
   "id": "3144501e",
   "metadata": {},
   "outputs": [
    {
     "data": {
      "text/plain": [
       "'o'"
      ]
     },
     "execution_count": 41,
     "metadata": {},
     "output_type": "execute_result"
    }
   ],
   "source": [
    "name[4]\n"
   ]
  },
  {
   "cell_type": "code",
   "execution_count": 42,
   "id": "3e00b002",
   "metadata": {},
   "outputs": [
    {
     "data": {
      "text/plain": [
       "'n'"
      ]
     },
     "execution_count": 42,
     "metadata": {},
     "output_type": "execute_result"
    }
   ],
   "source": [
    "name[5]"
   ]
  },
  {
   "cell_type": "code",
   "execution_count": null,
   "id": "134c3d51",
   "metadata": {},
   "outputs": [],
   "source": [
    "name[0]\n",
    "name[1]\n",
    "name[2]\n",
    "name[3]\n",
    "name[4]\n",
    "name[5]\n",
    "\n",
    "name[i]"
   ]
  },
  {
   "cell_type": "code",
   "execution_count": 43,
   "id": "c28b39af",
   "metadata": {},
   "outputs": [
    {
     "name": "stdout",
     "output_type": "stream",
     "text": [
      "p\n",
      "y\n",
      "t\n",
      "h\n",
      "o\n",
      "n\n"
     ]
    }
   ],
   "source": [
    "for i in range(6):\n",
    "    print(name[i])"
   ]
  },
  {
   "cell_type": "code",
   "execution_count": 44,
   "id": "54792b87",
   "metadata": {},
   "outputs": [
    {
     "name": "stdout",
     "output_type": "stream",
     "text": [
      "p\n",
      "y\n",
      "t\n",
      "h\n",
      "o\n",
      "n\n"
     ]
    },
    {
     "ename": "IndexError",
     "evalue": "string index out of range",
     "output_type": "error",
     "traceback": [
      "\u001b[1;31m---------------------------------------------------------------------------\u001b[0m",
      "\u001b[1;31mIndexError\u001b[0m                                Traceback (most recent call last)",
      "Cell \u001b[1;32mIn[44], line 2\u001b[0m\n\u001b[0;32m      1\u001b[0m \u001b[38;5;28;01mfor\u001b[39;00m i \u001b[38;5;129;01min\u001b[39;00m \u001b[38;5;28mrange\u001b[39m(\u001b[38;5;241m7\u001b[39m):\n\u001b[1;32m----> 2\u001b[0m     \u001b[38;5;28mprint\u001b[39m(name[i])\n",
      "\u001b[1;31mIndexError\u001b[0m: string index out of range"
     ]
    }
   ],
   "source": [
    "for i in range(7):             #python has only 6 letters\n",
    "    print(name[i])"
   ]
  },
  {
   "cell_type": "code",
   "execution_count": 48,
   "id": "0996048c",
   "metadata": {},
   "outputs": [
    {
     "name": "stdout",
     "output_type": "stream",
     "text": [
      "17\n",
      "h e l l o   h o w   a r e   y o u "
     ]
    }
   ],
   "source": [
    "name1=\"hello how are you\"\n",
    "print(len(name1))\n",
    "for i in range(len(name1)):\n",
    "    print(name1[i],end=' ')"
   ]
  },
  {
   "cell_type": "code",
   "execution_count": 55,
   "id": "4ed2ed06",
   "metadata": {
    "scrolled": true
   },
   "outputs": [
    {
     "name": "stdout",
     "output_type": "stream",
     "text": [
      "\n",
      " the index of p is 0\n",
      "\n",
      " the index of r is 1\n",
      "\n",
      " the index of a is 2\n",
      "\n",
      " the index of g is 3\n",
      "\n",
      " the index of n is 4\n",
      "\n",
      " the index of y is 5\n",
      "\n",
      " the index of a is 6\n"
     ]
    }
   ],
   "source": [
    "#WAP ask the user to print letters from a given word\n",
    "#using for loop\n",
    "#the index of p is 0\n",
    "\n",
    "name=\"pragnya\"\n",
    "for i in range(len(name)):\n",
    "    print(\"\\n the index of {} is {}\".format(name[i],i))       # i is index (i.e., 0,1,2 -- are printed)\n",
    "                                                                    #if  name[i] is given--> values will be printed"
   ]
  },
  {
   "cell_type": "code",
   "execution_count": 66,
   "id": "9eb5ddeb",
   "metadata": {},
   "outputs": [
    {
     "name": "stdout",
     "output_type": "stream",
     "text": [
      "\n",
      " the index of p is 0\n",
      "\n",
      " the index of y is 1\n",
      "\n",
      " the index of t is 2\n",
      "\n",
      " the index of h is 3\n",
      "\n",
      " the index of o is 4\n",
      "\n",
      " the index of n is 5\n"
     ]
    }
   ],
   "source": [
    "#using while loop\n",
    "\n",
    "name=\"python\"\n",
    "i=0\n",
    "while(i<(len(name))):\n",
    "    print(\"\\n the index of {} is {}\".format(name[i],i))\n",
    "    i=i+1\n"
   ]
  },
  {
   "cell_type": "code",
   "execution_count": null,
   "id": "40b85baf",
   "metadata": {},
   "outputs": [],
   "source": [
    "-6 -5  -4  -3   -2  -1\n",
    "p   y   t   h   o    n\n",
    "\n",
    "0   1   2   3   4    5"
   ]
  },
  {
   "cell_type": "code",
   "execution_count": 67,
   "id": "b0979361",
   "metadata": {},
   "outputs": [],
   "source": [
    "name='python'"
   ]
  },
  {
   "cell_type": "code",
   "execution_count": 68,
   "id": "b1b35e98",
   "metadata": {},
   "outputs": [
    {
     "data": {
      "text/plain": [
       "'p'"
      ]
     },
     "execution_count": 68,
     "metadata": {},
     "output_type": "execute_result"
    }
   ],
   "source": [
    "name[0]"
   ]
  },
  {
   "cell_type": "code",
   "execution_count": 69,
   "id": "8855443f",
   "metadata": {},
   "outputs": [
    {
     "data": {
      "text/plain": [
       "'o'"
      ]
     },
     "execution_count": 69,
     "metadata": {},
     "output_type": "execute_result"
    }
   ],
   "source": [
    "name[-2]"
   ]
  },
  {
   "cell_type": "code",
   "execution_count": 74,
   "id": "43e3f0cd",
   "metadata": {},
   "outputs": [
    {
     "name": "stdout",
     "output_type": "stream",
     "text": [
      "THe negative index of p is -6\n",
      "THe negative index of y is -5\n",
      "THe negative index of t is -4\n",
      "THe negative index of h is -3\n",
      "THe negative index of o is -2\n",
      "THe negative index of n is -1\n"
     ]
    }
   ],
   "source": [
    "#start from -6 using for loop\n",
    "\n",
    "for i in range(-6,0,1):\n",
    "    print(\"THe negative index of {} is {}\".format(name[i],i))"
   ]
  },
  {
   "cell_type": "code",
   "execution_count": 89,
   "id": "6fa3bd58",
   "metadata": {},
   "outputs": [
    {
     "name": "stdout",
     "output_type": "stream",
     "text": [
      "THe negative index of p is -6\n",
      "THe negative index of y is -5\n",
      "THe negative index of t is -4\n",
      "THe negative index of h is -3\n",
      "THe negative index of o is -2\n",
      "THe negative index of n is -1\n"
     ]
    }
   ],
   "source": [
    "#while loop\n",
    "\n",
    "i=-6\n",
    "while(i<0):\n",
    "    print(\"THe negative index of {} is {}\".format(name[i],i))\n",
    "    i=i+1"
   ]
  },
  {
   "cell_type": "code",
   "execution_count": 79,
   "id": "8beca18e",
   "metadata": {},
   "outputs": [
    {
     "name": "stdout",
     "output_type": "stream",
     "text": [
      "-6\n",
      "-5\n",
      "-4\n",
      "-3\n",
      "-2\n",
      "-1\n"
     ]
    }
   ],
   "source": [
    "name='python'\n",
    "len(name)\n",
    "for i in range(-len(name),0):\n",
    "    print(i)"
   ]
  },
  {
   "cell_type": "code",
   "execution_count": 82,
   "id": "1ce2b397",
   "metadata": {},
   "outputs": [
    {
     "name": "stdout",
     "output_type": "stream",
     "text": [
      "THe negative index of p is -6\n",
      "THe negative index of y is -5\n",
      "THe negative index of t is -4\n",
      "THe negative index of h is -3\n",
      "THe negative index of o is -2\n",
      "THe negative index of n is -1\n"
     ]
    }
   ],
   "source": [
    "name='python'\n",
    "len(name)\n",
    "for i in range(-len(name),0):\n",
    "    print(\"THe negative index of {} is {}\".format(name[i],i))"
   ]
  },
  {
   "cell_type": "code",
   "execution_count": 94,
   "id": "ff05299e",
   "metadata": {},
   "outputs": [
    {
     "name": "stdout",
     "output_type": "stream",
     "text": [
      "THe negative index of p is -6\n",
      "THe negative index of y is -5\n",
      "THe negative index of t is -4\n",
      "THe negative index of h is -3\n",
      "THe negative index of o is -2\n",
      "THe negative index of n is -1\n"
     ]
    }
   ],
   "source": [
    "name='python'\n",
    "i=-len(name)\n",
    "while(i<0):\n",
    "    print(\"THe negative index of {} is {}\".format(name[i],i))\n",
    "    i=i+1"
   ]
  },
  {
   "cell_type": "code",
   "execution_count": 80,
   "id": "eae54068",
   "metadata": {},
   "outputs": [
    {
     "name": "stdout",
     "output_type": "stream",
     "text": [
      "-6\n",
      "-5\n",
      "-4\n",
      "-3\n",
      "-2\n",
      "-1\n"
     ]
    }
   ],
   "source": [
    "name='python'\n",
    "len(name)\n",
    "for i in range(len(name)):\n",
    "    print(i-len(name))"
   ]
  },
  {
   "cell_type": "code",
   "execution_count": 86,
   "id": "b31eddb4",
   "metadata": {},
   "outputs": [
    {
     "name": "stdout",
     "output_type": "stream",
     "text": [
      "THe negative index of p is -6\n",
      "THe negative index of y is -5\n",
      "THe negative index of t is -4\n",
      "THe negative index of h is -3\n",
      "THe negative index of o is -2\n",
      "THe negative index of n is -1\n"
     ]
    }
   ],
   "source": [
    "name='python'\n",
    "len(name)\n",
    "for i in range(len(name)):\n",
    "    print(\"THe negative index of {} is {}\".format(name[i],i-len(name)))"
   ]
  },
  {
   "cell_type": "code",
   "execution_count": 92,
   "id": "da0ad0a2",
   "metadata": {},
   "outputs": [
    {
     "name": "stdout",
     "output_type": "stream",
     "text": [
      "THe negative index of p is -6\n",
      "THe negative index of y is -5\n",
      "THe negative index of t is -4\n",
      "THe negative index of h is -3\n",
      "THe negative index of o is -2\n",
      "THe negative index of n is -1\n"
     ]
    }
   ],
   "source": [
    "name='python'\n",
    "i=-len(name)\n",
    "while(i<0):\n",
    "    print(\"THe negative index of {} is {}\".format(name[i],i))\n",
    "    i=i+1\n",
    "    \n",
    "    "
   ]
  },
  {
   "cell_type": "code",
   "execution_count": null,
   "id": "578199be",
   "metadata": {},
   "outputs": [],
   "source": [
    "-6 -5  -4  -3   -2  -1\n",
    "p   y   t   h   o    n\n",
    "\n",
    "0   1   2   3   4    5"
   ]
  },
  {
   "cell_type": "code",
   "execution_count": 111,
   "id": "212748a6",
   "metadata": {},
   "outputs": [
    {
     "name": "stdout",
     "output_type": "stream",
     "text": [
      "p p\n"
     ]
    }
   ],
   "source": [
    "#the pstve index is 0 & ngtve index is -6 for p\n",
    "#the pstve index is 1 & ngtve index is -5 for y\n",
    "\n",
    "name='python'\n",
    "print(name[0],name[-6])"
   ]
  },
  {
   "cell_type": "code",
   "execution_count": 112,
   "id": "e83b1ac8",
   "metadata": {},
   "outputs": [
    {
     "data": {
      "text/plain": [
       "('y', 'y')"
      ]
     },
     "execution_count": 112,
     "metadata": {},
     "output_type": "execute_result"
    }
   ],
   "source": [
    "name[1],name[-5]"
   ]
  },
  {
   "cell_type": "code",
   "execution_count": 238,
   "id": "63ad9440",
   "metadata": {},
   "outputs": [
    {
     "name": "stdout",
     "output_type": "stream",
     "text": [
      "the pstve index is 0 & negative index is -6 for p\n",
      "the pstve index is 1 & negative index is -5 for y\n",
      "the pstve index is 2 & negative index is -4 for t\n",
      "the pstve index is 3 & negative index is -3 for h\n",
      "the pstve index is 4 & negative index is -2 for o\n",
      "the pstve index is 5 & negative index is -1 for n\n"
     ]
    }
   ],
   "source": [
    "for i in range(len(name)):\n",
    "    print(\"the pstve index is {} & negative index is {} for {}\".format(i,i-len(name),name[i]))\n"
   ]
  },
  {
   "cell_type": "code",
   "execution_count": 134,
   "id": "0d7c45e3",
   "metadata": {},
   "outputs": [
    {
     "name": "stdout",
     "output_type": "stream",
     "text": [
      "0 p -6\n",
      "1 y -5\n",
      "2 t -4\n",
      "3 h -3\n",
      "4 o -2\n",
      "5 n -1\n"
     ]
    }
   ],
   "source": [
    "for i in range(6):\n",
    "    print(i,name[i],i-6)"
   ]
  },
  {
   "cell_type": "code",
   "execution_count": 174,
   "id": "6f43f281",
   "metadata": {
    "scrolled": true
   },
   "outputs": [
    {
     "name": "stdout",
     "output_type": "stream",
     "text": [
      "h a i   h a i   h o w   a r e   y o u "
     ]
    }
   ],
   "source": [
    "#how many a's are there\n",
    "\n",
    "#frst iterate the letetrs\n",
    "\n",
    "sent=\"hai hai how are you\"\n",
    "for i in range(len(sent)):\n",
    "    print(sent[i],end=\" \")\n"
   ]
  },
  {
   "cell_type": "code",
   "execution_count": 178,
   "id": "6e7bfb52",
   "metadata": {},
   "outputs": [
    {
     "name": "stdout",
     "output_type": "stream",
     "text": [
      "index of a is 1\n",
      "index of a is 5\n",
      "index of a is 12\n",
      "count of a is 3\n"
     ]
    }
   ],
   "source": [
    "#how many a's are there\n",
    "sent=\"hai hai how are you\"\n",
    "count=0\n",
    "for i in range(len(sent)):\n",
    "    #print(sent[i],end=\" \")\n",
    "    if(sent[i]=='a'):\n",
    "        count=count+1\n",
    "        print(\"index of a is {}\".format(i))\n",
    "print(\"count of a is {}\".format(count) )"
   ]
  },
  {
   "cell_type": "code",
   "execution_count": 186,
   "id": "7acc65bc",
   "metadata": {},
   "outputs": [
    {
     "data": {
      "text/plain": [
       "True"
      ]
     },
     "execution_count": 186,
     "metadata": {},
     "output_type": "execute_result"
    }
   ],
   "source": [
    "'i' in \"aeiou\""
   ]
  },
  {
   "cell_type": "code",
   "execution_count": 190,
   "id": "c89d1be7",
   "metadata": {},
   "outputs": [
    {
     "name": "stdout",
     "output_type": "stream",
     "text": [
      "Vowel is a\n",
      "Vowel is i\n",
      "Vowel is a\n",
      "Vowel is i\n",
      "Vowel is o\n",
      "Vowel is a\n",
      "Vowel is e\n",
      "Vowel is o\n",
      "Vowel is u\n",
      "Vowels count is 9\n"
     ]
    }
   ],
   "source": [
    "#print number of vowels\n",
    "\n",
    "count=0\n",
    "for i in range(len(sent)):\n",
    "    if sent[i] in \"aeiou\":\n",
    "        count=count+1\n",
    "        print(\"Vowel is\",sent[i])\n",
    "print(\"Vowels count is {}\".format(count))"
   ]
  },
  {
   "cell_type": "code",
   "execution_count": 303,
   "id": "fb11f02f",
   "metadata": {},
   "outputs": [
    {
     "name": "stdout",
     "output_type": "stream",
     "text": [
      "aioeu\n",
      "5\n"
     ]
    }
   ],
   "source": [
    "#unique vowels---- \n",
    "#take a n empty str Str1= ' '\n",
    "#iterate through loop\n",
    "#if sent[i] a in \"aeiou\"  (true)  & also check with str1 using if -- if not in str1 --> then \n",
    "#  ---  str1=str1+'a'\n",
    "\n",
    "\n",
    "str1=''\n",
    "str2=\"hai how are you\"\n",
    "count=0\n",
    "for i in range(len(str2)):     #\n",
    "    if str2[i] in \"aeiou\":      \n",
    "        if str2[i] not in str1:\n",
    "            str1=str1+str2[i]\n",
    "            count=count+1\n",
    "print(str1)    \n",
    "print(count)\n",
    "           "
   ]
  },
  {
   "cell_type": "code",
   "execution_count": 213,
   "id": "16f771d4",
   "metadata": {},
   "outputs": [],
   "source": [
    "name1=\"pragnya\"\n",
    "name2=\"pranavi\"\n"
   ]
  },
  {
   "cell_type": "code",
   "execution_count": 214,
   "id": "f7dd4ae5",
   "metadata": {
    "scrolled": true
   },
   "outputs": [
    {
     "data": {
      "text/plain": [
       "'pragnyaa'"
      ]
     },
     "execution_count": 214,
     "metadata": {},
     "output_type": "execute_result"
    }
   ],
   "source": [
    "name1+name2[2]"
   ]
  },
  {
   "cell_type": "markdown",
   "id": "73b1f937",
   "metadata": {},
   "source": [
    "# nov 3rd"
   ]
  },
  {
   "cell_type": "markdown",
   "id": "5619fb61",
   "metadata": {},
   "source": [
    "**Mutable & Immutable**(IMPORTANT)"
   ]
  },
  {
   "cell_type": "markdown",
   "id": "dd31f3c9",
   "metadata": {},
   "source": [
    "Mutable--\n",
    "- If value is changed by using index operation, it is called as Mutable\n",
    "\n",
    "- If value is not changed by using index opern, it s clld as Immutable"
   ]
  },
  {
   "cell_type": "code",
   "execution_count": 239,
   "id": "c8ff0b0f",
   "metadata": {},
   "outputs": [],
   "source": [
    "name='python'"
   ]
  },
  {
   "cell_type": "code",
   "execution_count": 240,
   "id": "c1e15c28",
   "metadata": {},
   "outputs": [
    {
     "data": {
      "text/plain": [
       "'p'"
      ]
     },
     "execution_count": 240,
     "metadata": {},
     "output_type": "execute_result"
    }
   ],
   "source": [
    "name[0]"
   ]
  },
  {
   "cell_type": "code",
   "execution_count": 242,
   "id": "34812cb8",
   "metadata": {},
   "outputs": [
    {
     "ename": "TypeError",
     "evalue": "'str' object does not support item assignment",
     "output_type": "error",
     "traceback": [
      "\u001b[1;31m---------------------------------------------------------------------------\u001b[0m",
      "\u001b[1;31mTypeError\u001b[0m                                 Traceback (most recent call last)",
      "Cell \u001b[1;32mIn[242], line 1\u001b[0m\n\u001b[1;32m----> 1\u001b[0m name[\u001b[38;5;241m0\u001b[39m]\u001b[38;5;241m=\u001b[39m\u001b[38;5;124m\"\u001b[39m\u001b[38;5;124mP\u001b[39m\u001b[38;5;124m\"\u001b[39m\n",
      "\u001b[1;31mTypeError\u001b[0m: 'str' object does not support item assignment"
     ]
    }
   ],
   "source": [
    "name[0]=\"P\""
   ]
  },
  {
   "cell_type": "markdown",
   "id": "9ef3d4e7",
   "metadata": {},
   "source": [
    "- Strings are immutable"
   ]
  },
  {
   "cell_type": "markdown",
   "id": "d47d93f8",
   "metadata": {},
   "source": [
    "**Slicing**"
   ]
  },
  {
   "cell_type": "code",
   "execution_count": 245,
   "id": "491469b6",
   "metadata": {},
   "outputs": [],
   "source": [
    "s1=\"hello how are you\""
   ]
  },
  {
   "cell_type": "code",
   "execution_count": 246,
   "id": "dc2db5c0",
   "metadata": {},
   "outputs": [
    {
     "data": {
      "text/plain": [
       "'h'"
      ]
     },
     "execution_count": 246,
     "metadata": {},
     "output_type": "execute_result"
    }
   ],
   "source": [
    "s1[0]"
   ]
  },
  {
   "cell_type": "code",
   "execution_count": null,
   "id": "5f90621c",
   "metadata": {},
   "outputs": [],
   "source": [
    "h  e  l  l  o    h  o  w     a   r   e      y   o   u\n",
    "0  1  2  3  4  5 6  7  8  9  10  11  12 13  14  15  16"
   ]
  },
  {
   "cell_type": "code",
   "execution_count": 247,
   "id": "223b9729",
   "metadata": {},
   "outputs": [
    {
     "data": {
      "text/plain": [
       "'llo how '"
      ]
     },
     "execution_count": 247,
     "metadata": {},
     "output_type": "execute_result"
    }
   ],
   "source": [
    "s1[2:10]"
   ]
  },
  {
   "cell_type": "code",
   "execution_count": 248,
   "id": "cd731313",
   "metadata": {},
   "outputs": [
    {
     "data": {
      "text/plain": [
       "'el o r '"
      ]
     },
     "execution_count": 248,
     "metadata": {},
     "output_type": "execute_result"
    }
   ],
   "source": [
    "s1[1:15:2]    #start=1, stop=15-1=14, step=2 ()"
   ]
  },
  {
   "cell_type": "code",
   "execution_count": 249,
   "id": "bdefad45",
   "metadata": {},
   "outputs": [
    {
     "data": {
      "text/plain": [
       "''"
      ]
     },
     "execution_count": 249,
     "metadata": {},
     "output_type": "execute_result"
    }
   ],
   "source": [
    "s1[1:15:-2]   #start=1, stop= 15+1 =16, step= -2 (twrds ngtve drctn), so not possible\n",
    "               "
   ]
  },
  {
   "cell_type": "code",
   "execution_count": 250,
   "id": "338cc883",
   "metadata": {},
   "outputs": [
    {
     "data": {
      "text/plain": [
       "'hello how are you'"
      ]
     },
     "execution_count": 250,
     "metadata": {},
     "output_type": "execute_result"
    }
   ],
   "source": [
    "s1[:]            #nothing is mentioned, it meant whole string will be printed\n",
    "                 #start=0, stop= till last character \n",
    "                #s1[start:stop]"
   ]
  },
  {
   "cell_type": "code",
   "execution_count": 251,
   "id": "08c6f239",
   "metadata": {},
   "outputs": [
    {
     "data": {
      "text/plain": [
       "'hello how are you'"
      ]
     },
     "execution_count": 251,
     "metadata": {},
     "output_type": "execute_result"
    }
   ],
   "source": [
    "s1[::]              #s1[start:stop:step]\n",
    "                   #s1[0:last char:1]"
   ]
  },
  {
   "cell_type": "code",
   "execution_count": 259,
   "id": "285d49ec",
   "metadata": {},
   "outputs": [
    {
     "name": "stdout",
     "output_type": "stream",
     "text": [
      "hello how are you\n",
      "hello how are you\n",
      "hello how are you\n",
      "hello how are you\n"
     ]
    }
   ],
   "source": [
    "print(s1[0:])\n",
    "print(s1[:len(s1)])\n",
    "print(s1[:])\n",
    "print(s1[::])"
   ]
  },
  {
   "cell_type": "code",
   "execution_count": null,
   "id": "5fdb95e2",
   "metadata": {},
   "outputs": [],
   "source": [
    "-17 -16 -15 -14  -13  -12  -11 -10  -9 -8  -7   -6  -5  -4    -3  -2  -1\n",
    " h   e   l   l   o         h    o   w      a    r    e        y   o   u\n",
    " 0   1   2   3   4    5    6    7   8  9   10   11  12  13   14  15  16"
   ]
  },
  {
   "cell_type": "code",
   "execution_count": 260,
   "id": "667152c3",
   "metadata": {},
   "outputs": [
    {
     "data": {
      "text/plain": [
       "''"
      ]
     },
     "execution_count": 260,
     "metadata": {},
     "output_type": "execute_result"
    }
   ],
   "source": [
    "s1[-2:-15]   #start=-2, stop= -15-1 = -16, step= not mntioned (means postve drctn)"
   ]
  },
  {
   "cell_type": "code",
   "execution_count": 261,
   "id": "36ff4609",
   "metadata": {},
   "outputs": [
    {
     "data": {
      "text/plain": [
       "'oy era woh ol'"
      ]
     },
     "execution_count": 261,
     "metadata": {},
     "output_type": "execute_result"
    }
   ],
   "source": [
    "s1[-2:-15:-1]   #start=-2, stop= -15+1 = -14, step= -1 (ngtv)"
   ]
  },
  {
   "cell_type": "code",
   "execution_count": 262,
   "id": "9bac7361",
   "metadata": {},
   "outputs": [
    {
     "data": {
      "text/plain": [
       "''"
      ]
     },
     "execution_count": 262,
     "metadata": {},
     "output_type": "execute_result"
    }
   ],
   "source": [
    "s1[-15:-2:-1]       #start= -15, stop= -2 +1 =-1 , step--> ngtve drctn \n",
    "\n",
    "                 #  -15 -------   -1"
   ]
  },
  {
   "cell_type": "code",
   "execution_count": 263,
   "id": "daf99ebc",
   "metadata": {},
   "outputs": [
    {
     "data": {
      "text/plain": [
       "'lohwaey'"
      ]
     },
     "execution_count": 263,
     "metadata": {},
     "output_type": "execute_result"
    }
   ],
   "source": [
    "s1[-15:-2:2]"
   ]
  },
  {
   "cell_type": "code",
   "execution_count": 264,
   "id": "c86cbae8",
   "metadata": {},
   "outputs": [
    {
     "data": {
      "text/plain": [
       "'woh ol'"
      ]
     },
     "execution_count": 264,
     "metadata": {},
     "output_type": "execute_result"
    }
   ],
   "source": [
    "s1[8:-15:-1]"
   ]
  },
  {
   "cell_type": "code",
   "execution_count": 265,
   "id": "ddf2f9a8",
   "metadata": {},
   "outputs": [
    {
     "data": {
      "text/plain": [
       "'w'"
      ]
     },
     "execution_count": 265,
     "metadata": {},
     "output_type": "execute_result"
    }
   ],
   "source": [
    "s1[8:-10:-1]        #start=8, stop = -10+1 = -9 "
   ]
  },
  {
   "cell_type": "code",
   "execution_count": 266,
   "id": "e95dfd18",
   "metadata": {},
   "outputs": [
    {
     "data": {
      "text/plain": [
       "'w'"
      ]
     },
     "execution_count": 266,
     "metadata": {},
     "output_type": "execute_result"
    }
   ],
   "source": [
    "s1[8:-10:-2]"
   ]
  },
  {
   "cell_type": "code",
   "execution_count": 267,
   "id": "7ba205c9",
   "metadata": {},
   "outputs": [
    {
     "data": {
      "text/plain": [
       "'l '"
      ]
     },
     "execution_count": 267,
     "metadata": {},
     "output_type": "execute_result"
    }
   ],
   "source": [
    "s1[-15:8:3]"
   ]
  },
  {
   "cell_type": "code",
   "execution_count": 268,
   "id": "7dfa656d",
   "metadata": {},
   "outputs": [
    {
     "data": {
      "text/plain": [
       "'uoy era woh olleh'"
      ]
     },
     "execution_count": 268,
     "metadata": {},
     "output_type": "execute_result"
    }
   ],
   "source": [
    "#Reverse of string\n",
    "\n",
    "s1[::-1]"
   ]
  },
  {
   "cell_type": "markdown",
   "id": "f59842c4",
   "metadata": {},
   "source": [
    "# String methods"
   ]
  },
  {
   "cell_type": "code",
   "execution_count": 269,
   "id": "f26a3783",
   "metadata": {},
   "outputs": [
    {
     "data": {
      "text/plain": [
       "['__add__',\n",
       " '__class__',\n",
       " '__contains__',\n",
       " '__delattr__',\n",
       " '__dir__',\n",
       " '__doc__',\n",
       " '__eq__',\n",
       " '__format__',\n",
       " '__ge__',\n",
       " '__getattribute__',\n",
       " '__getitem__',\n",
       " '__getnewargs__',\n",
       " '__getstate__',\n",
       " '__gt__',\n",
       " '__hash__',\n",
       " '__init__',\n",
       " '__init_subclass__',\n",
       " '__iter__',\n",
       " '__le__',\n",
       " '__len__',\n",
       " '__lt__',\n",
       " '__mod__',\n",
       " '__mul__',\n",
       " '__ne__',\n",
       " '__new__',\n",
       " '__reduce__',\n",
       " '__reduce_ex__',\n",
       " '__repr__',\n",
       " '__rmod__',\n",
       " '__rmul__',\n",
       " '__setattr__',\n",
       " '__sizeof__',\n",
       " '__str__',\n",
       " '__subclasshook__',\n",
       " 'capitalize',\n",
       " 'casefold',\n",
       " 'center',\n",
       " 'count',\n",
       " 'encode',\n",
       " 'endswith',\n",
       " 'expandtabs',\n",
       " 'find',\n",
       " 'format',\n",
       " 'format_map',\n",
       " 'index',\n",
       " 'isalnum',\n",
       " 'isalpha',\n",
       " 'isascii',\n",
       " 'isdecimal',\n",
       " 'isdigit',\n",
       " 'isidentifier',\n",
       " 'islower',\n",
       " 'isnumeric',\n",
       " 'isprintable',\n",
       " 'isspace',\n",
       " 'istitle',\n",
       " 'isupper',\n",
       " 'join',\n",
       " 'ljust',\n",
       " 'lower',\n",
       " 'lstrip',\n",
       " 'maketrans',\n",
       " 'partition',\n",
       " 'removeprefix',\n",
       " 'removesuffix',\n",
       " 'replace',\n",
       " 'rfind',\n",
       " 'rindex',\n",
       " 'rjust',\n",
       " 'rpartition',\n",
       " 'rsplit',\n",
       " 'rstrip',\n",
       " 'split',\n",
       " 'splitlines',\n",
       " 'startswith',\n",
       " 'strip',\n",
       " 'swapcase',\n",
       " 'title',\n",
       " 'translate',\n",
       " 'upper',\n",
       " 'zfill']"
      ]
     },
     "execution_count": 269,
     "metadata": {},
     "output_type": "execute_result"
    }
   ],
   "source": [
    "dir(\"name\")"
   ]
  },
  {
   "cell_type": "markdown",
   "id": "38583c55",
   "metadata": {},
   "source": [
    "$captitalize$"
   ]
  },
  {
   "cell_type": "code",
   "execution_count": 270,
   "id": "52ae1eed",
   "metadata": {},
   "outputs": [],
   "source": [
    "name=\"naresh it\""
   ]
  },
  {
   "cell_type": "code",
   "execution_count": 271,
   "id": "b3624a9f",
   "metadata": {},
   "outputs": [
    {
     "name": "stdout",
     "output_type": "stream",
     "text": [
      "Help on built-in function capitalize:\n",
      "\n",
      "capitalize() method of builtins.str instance\n",
      "    Return a capitalized version of the string.\n",
      "    \n",
      "    More specifically, make the first character have upper case and the rest lower\n",
      "    case.\n",
      "\n"
     ]
    }
   ],
   "source": [
    "help(name.capitalize)"
   ]
  },
  {
   "cell_type": "code",
   "execution_count": 275,
   "id": "78f32529",
   "metadata": {},
   "outputs": [
    {
     "data": {
      "text/plain": [
       "'Naresh it'"
      ]
     },
     "execution_count": 275,
     "metadata": {},
     "output_type": "execute_result"
    }
   ],
   "source": [
    "name.capitalize()           #First letter will be printed as capital letter & remaining will be small letters"
   ]
  },
  {
   "cell_type": "markdown",
   "id": "7ff7e39b",
   "metadata": {},
   "source": [
    "$case fold$"
   ]
  },
  {
   "cell_type": "markdown",
   "id": "83bd62a5",
   "metadata": {},
   "source": [
    "$upper$"
   ]
  },
  {
   "cell_type": "code",
   "execution_count": 281,
   "id": "6b70e118",
   "metadata": {},
   "outputs": [
    {
     "name": "stdout",
     "output_type": "stream",
     "text": [
      "Help on built-in function upper:\n",
      "\n",
      "upper() method of builtins.str instance\n",
      "    Return a copy of the string converted to uppercase.\n",
      "\n"
     ]
    }
   ],
   "source": [
    "help(name.upper)"
   ]
  },
  {
   "cell_type": "code",
   "execution_count": 282,
   "id": "535a7f25",
   "metadata": {},
   "outputs": [
    {
     "data": {
      "text/plain": [
       "'NARESH IT'"
      ]
     },
     "execution_count": 282,
     "metadata": {},
     "output_type": "execute_result"
    }
   ],
   "source": [
    "name.upper()"
   ]
  },
  {
   "cell_type": "markdown",
   "id": "64d78166",
   "metadata": {},
   "source": [
    "$lower$"
   ]
  },
  {
   "cell_type": "code",
   "execution_count": 283,
   "id": "cbcd5bb0",
   "metadata": {},
   "outputs": [
    {
     "data": {
      "text/plain": [
       "'naresh it'"
      ]
     },
     "execution_count": 283,
     "metadata": {},
     "output_type": "execute_result"
    }
   ],
   "source": [
    "name.lower()"
   ]
  },
  {
   "cell_type": "code",
   "execution_count": 278,
   "id": "d0779605",
   "metadata": {},
   "outputs": [
    {
     "name": "stdout",
     "output_type": "stream",
     "text": [
      "Help on built-in function isupper:\n",
      "\n",
      "isupper() method of builtins.str instance\n",
      "    Return True if the string is an uppercase string, False otherwise.\n",
      "    \n",
      "    A string is uppercase if all cased characters in the string are uppercase and\n",
      "    there is at least one cased character in the string.\n",
      "\n"
     ]
    }
   ],
   "source": [
    "help(name.isupper)"
   ]
  },
  {
   "cell_type": "code",
   "execution_count": 279,
   "id": "1d723635",
   "metadata": {},
   "outputs": [
    {
     "data": {
      "text/plain": [
       "False"
      ]
     },
     "execution_count": 279,
     "metadata": {},
     "output_type": "execute_result"
    }
   ],
   "source": [
    "name.isupper()    #in naresh it, no letter is in capital, so False is returned "
   ]
  },
  {
   "cell_type": "code",
   "execution_count": 284,
   "id": "50ed7302",
   "metadata": {},
   "outputs": [
    {
     "name": "stdout",
     "output_type": "stream",
     "text": [
      "Help on built-in function islower:\n",
      "\n",
      "islower() method of builtins.str instance\n",
      "    Return True if the string is a lowercase string, False otherwise.\n",
      "    \n",
      "    A string is lowercase if all cased characters in the string are lowercase and\n",
      "    there is at least one cased character in the string.\n",
      "\n"
     ]
    }
   ],
   "source": [
    "help(name.islower)    #in naresh it, all letters are in small letters, so True is returned"
   ]
  },
  {
   "cell_type": "code",
   "execution_count": 280,
   "id": "e3bec6dc",
   "metadata": {},
   "outputs": [
    {
     "data": {
      "text/plain": [
       "True"
      ]
     },
     "execution_count": 280,
     "metadata": {},
     "output_type": "execute_result"
    }
   ],
   "source": [
    "name.islower()"
   ]
  },
  {
   "cell_type": "code",
   "execution_count": 286,
   "id": "2f88c560",
   "metadata": {},
   "outputs": [
    {
     "name": "stdout",
     "output_type": "stream",
     "text": [
      "Naresh it\n",
      "NARESH IT\n",
      "naresh it\n"
     ]
    }
   ],
   "source": [
    "name1=\"naresh IT\"\n",
    "print(name1.capitalize())  #Naresh IT\n",
    "print(name1.upper())\n",
    "print(name1.lower())"
   ]
  },
  {
   "cell_type": "markdown",
   "id": "ffc9f229",
   "metadata": {},
   "source": [
    "$case fold$"
   ]
  },
  {
   "cell_type": "code",
   "execution_count": 290,
   "id": "2911e20e",
   "metadata": {},
   "outputs": [],
   "source": [
    "name1=\"Naresh IT\"\n"
   ]
  },
  {
   "cell_type": "code",
   "execution_count": 291,
   "id": "1f3e83e4",
   "metadata": {},
   "outputs": [
    {
     "name": "stdout",
     "output_type": "stream",
     "text": [
      "Help on built-in function casefold:\n",
      "\n",
      "casefold() method of builtins.str instance\n",
      "    Return a version of the string suitable for caseless comparisons.\n",
      "\n"
     ]
    }
   ],
   "source": [
    "help(name1.casefold)"
   ]
  },
  {
   "cell_type": "code",
   "execution_count": 292,
   "id": "e270e489",
   "metadata": {},
   "outputs": [
    {
     "data": {
      "text/plain": [
       "'naresh it'"
      ]
     },
     "execution_count": 292,
     "metadata": {},
     "output_type": "execute_result"
    }
   ],
   "source": [
    "name1.casefold()           #converts everything into small letters"
   ]
  },
  {
   "cell_type": "code",
   "execution_count": 300,
   "id": "849d6b7f",
   "metadata": {},
   "outputs": [
    {
     "name": "stdout",
     "output_type": "stream",
     "text": [
      "Hello\n"
     ]
    }
   ],
   "source": [
    "string1=\"hello\"\n",
    "#O/p-->string1=\"Hello\" w/o using string methods\n",
    "\n",
    "a1=string1[0]          #slicing to separate h s[0]\n",
    "b1=string1[1:5]        #slicing s1[1:5]--> 'ello'\n",
    "c=\"H\"                   # \"H\"\n",
    "e=c+b1                  #concatenating c(H) to b1\n",
    "print(e)"
   ]
  },
  {
   "cell_type": "code",
   "execution_count": 301,
   "id": "7475f0a5",
   "metadata": {},
   "outputs": [
    {
     "name": "stdout",
     "output_type": "stream",
     "text": [
      "ello\n"
     ]
    },
    {
     "data": {
      "text/plain": [
       "'Hello'"
      ]
     },
     "execution_count": 301,
     "metadata": {},
     "output_type": "execute_result"
    }
   ],
   "source": [
    "string1='hello'\n",
    "string2='H'\n",
    "string3=string1[1:]\n",
    "print(string3)\n",
    "string2+string3"
   ]
  },
  {
   "cell_type": "markdown",
   "id": "73cba30f",
   "metadata": {},
   "source": [
    "# nov 6th"
   ]
  },
  {
   "cell_type": "markdown",
   "id": "e49c7105",
   "metadata": {},
   "source": [
    "**Replace**"
   ]
  },
  {
   "cell_type": "code",
   "execution_count": 1,
   "id": "c4e006dd",
   "metadata": {},
   "outputs": [],
   "source": [
    "string1=\"welcome\"\n",
    "#To replace \"l\" by \"L\"\n"
   ]
  },
  {
   "cell_type": "code",
   "execution_count": 3,
   "id": "dc55173b",
   "metadata": {},
   "outputs": [
    {
     "data": {
      "text/plain": [
       "'weLcome'"
      ]
     },
     "execution_count": 3,
     "metadata": {},
     "output_type": "execute_result"
    }
   ],
   "source": [
    "#Slicing & concatenation\n",
    "string1[:2]+\"L\"+string1[3:]"
   ]
  },
  {
   "cell_type": "code",
   "execution_count": 5,
   "id": "5817200f",
   "metadata": {},
   "outputs": [
    {
     "data": {
      "text/plain": [
       "'weLcome'"
      ]
     },
     "execution_count": 5,
     "metadata": {},
     "output_type": "execute_result"
    }
   ],
   "source": [
    "#using replace method\n",
    "string1.replace(\"l\",\"L\")"
   ]
  },
  {
   "cell_type": "code",
   "execution_count": 22,
   "id": "2b36f504",
   "metadata": {},
   "outputs": [
    {
     "data": {
      "text/plain": [
       "'$estart'"
      ]
     },
     "execution_count": 22,
     "metadata": {},
     "output_type": "execute_result"
    }
   ],
   "source": [
    "#input -> restart\n",
    "#output1-> $estart\n",
    "#output 2-> resta$t\n",
    "\n",
    "s1=\"restart\"\n",
    "s1.replace(\"r\",\"$\",1)   #1 is count value that meant only one occurence of r to be replaced by $\n",
    "                        #enter shift + tab inside of bracket to know functionality\n",
    "                       #s1.replace(\"r\",\"$\",count=1) -->here we cant give count since it is a keyword"
   ]
  },
  {
   "cell_type": "code",
   "execution_count": 2,
   "id": "21768ec5",
   "metadata": {},
   "outputs": [
    {
     "name": "stdout",
     "output_type": "stream",
     "text": [
      "$esta$t\n",
      "$estart\n",
      "resta$t\n",
      "resta$t\n",
      "resta$t\n"
     ]
    }
   ],
   "source": [
    "string1='restart'\n",
    "print(string1.replace('r','$'))   #first print stmnt\n",
    "\n",
    "# in above code im not providing count value\n",
    "# what is default value=-1\n",
    "# replace maximum occurences\n",
    "\n",
    "print(string1.replace('r','$',1))   #Second print stmnt\n",
    "\n",
    "# whenever you see '/' in the function inside\n",
    "# then dont provide variable name\n",
    "# 1 means what , only replace one occurence\n",
    "# Now I want to do second occurence\n",
    "# as of now we are counting the index\n",
    "\n",
    "str1=string1[1:] #'estart'\n",
    "str2=string1[:1] #'r'\n",
    "str3=str1.replace('r','$',1)\n",
    "\n",
    "print(str2+str3)\n",
    "\n",
    "print(string1[:1]+string1[1:].replace('r','$',1))\n",
    "\n",
    "print(string1[::-1].replace('r','$',1)[::-1])"
   ]
  },
  {
   "cell_type": "code",
   "execution_count": 11,
   "id": "db637cd7",
   "metadata": {},
   "outputs": [
    {
     "data": {
      "text/plain": [
       "'$estart'"
      ]
     },
     "execution_count": 11,
     "metadata": {},
     "output_type": "execute_result"
    }
   ],
   "source": [
    "s1=\"restart\"\n",
    "s1[1:]\n",
    "\"$\"+s1[1:]"
   ]
  },
  {
   "cell_type": "markdown",
   "id": "ea039d14",
   "metadata": {},
   "source": [
    "**Index**"
   ]
  },
  {
   "cell_type": "code",
   "execution_count": 48,
   "id": "f1a7fbad",
   "metadata": {},
   "outputs": [
    {
     "data": {
      "text/plain": [
       "2"
      ]
     },
     "execution_count": 48,
     "metadata": {},
     "output_type": "execute_result"
    }
   ],
   "source": [
    "string1=\"python\"\n",
    "#to find the index of \"t\"\n",
    "string1.index('t')"
   ]
  },
  {
   "cell_type": "code",
   "execution_count": 50,
   "id": "8636713d",
   "metadata": {},
   "outputs": [
    {
     "name": "stdout",
     "output_type": "stream",
     "text": [
      "3\n"
     ]
    }
   ],
   "source": [
    "#frst occurence of \"t\"\n",
    "string1=\"restart\"\n",
    "print(string1.index('t'))"
   ]
  },
  {
   "cell_type": "code",
   "execution_count": 51,
   "id": "9cf496ba",
   "metadata": {},
   "outputs": [
    {
     "name": "stdout",
     "output_type": "stream",
     "text": [
      "3\n",
      "6\n"
     ]
    }
   ],
   "source": [
    "#to find the index of second occurence of \"t\"\n",
    "\n",
    "string=\"restart\"\n",
    "print(string1.index('t'))\n",
    "first_occ=(string1.index('t'))   #3\n",
    "print(string1.index('t',first_occ+1))   #searching from 3+1= 4th index ( r  e s t a r t)\n",
    "                                                                     #   0  1 2 3 4 5 6"
   ]
  },
  {
   "cell_type": "code",
   "execution_count": 53,
   "id": "bc720cb9",
   "metadata": {},
   "outputs": [
    {
     "name": "stdout",
     "output_type": "stream",
     "text": [
      "3\n"
     ]
    }
   ],
   "source": [
    "string1=\"restart how to\"  #  r e s t a r t   h o w     t  o\n",
    "#to get first \"t\"          # 0 1 2 3 4 5 6 7 8 9 10 11 12 13\n",
    "f_o=string1.index(\"t\")\n",
    "print(f_o)"
   ]
  },
  {
   "cell_type": "code",
   "execution_count": 55,
   "id": "ff41fee3",
   "metadata": {},
   "outputs": [
    {
     "name": "stdout",
     "output_type": "stream",
     "text": [
      "6\n"
     ]
    }
   ],
   "source": [
    "\n",
    "#To get second occurence of \"t\"\n",
    "s_o=string1.index(\"t\",f_o+1) #here f_o is 3 from above, searchingfrom 4th lace (\"a\")     a r t how to\n",
    "print(s_o)                                                   # 4 5 6"
   ]
  },
  {
   "cell_type": "code",
   "execution_count": 57,
   "id": "556b9a2b",
   "metadata": {},
   "outputs": [
    {
     "name": "stdout",
     "output_type": "stream",
     "text": [
      "12\n"
     ]
    }
   ],
   "source": [
    "#To get third occurence of \"t\"\n",
    "\n",
    "t_o=string1.index(\"t\",s_o+1)\n",
    "print(t_o)"
   ]
  },
  {
   "cell_type": "code",
   "execution_count": 61,
   "id": "981fe083",
   "metadata": {},
   "outputs": [
    {
     "name": "stdout",
     "output_type": "stream",
     "text": [
      "The first occurence of t is: 3\n",
      "The second occurence of t is: 6\n",
      "The third occurence of t is: 12\n"
     ]
    }
   ],
   "source": [
    "string1=\"restart how to\"  #  r e s t a r t   h o w     t  o\n",
    "#to get first \"t\"# 0 1 2 3 4 5 6 7 8 9 10 11 12 13\n",
    "\n",
    "f_o=string1.index(\"t\")\n",
    "print(\"The first occurence of t is:\",f_o)\n",
    "s_o=string1.index(\"t\",f_o+1) \n",
    "print(\"The second occurence of t is:\",s_o) \n",
    "t_o=string1.index(\"t\",s_o+1)\n",
    "print(\"The third occurence of t is:\",t_o)\n",
    "\n"
   ]
  },
  {
   "cell_type": "code",
   "execution_count": 65,
   "id": "a8a6a482",
   "metadata": {},
   "outputs": [
    {
     "name": "stdout",
     "output_type": "stream",
     "text": [
      "0\n"
     ]
    }
   ],
   "source": [
    "print(string1.count(\"T\"))    #important \n"
   ]
  },
  {
   "cell_type": "code",
   "execution_count": 64,
   "id": "b9698a03",
   "metadata": {},
   "outputs": [
    {
     "ename": "ValueError",
     "evalue": "substring not found",
     "output_type": "error",
     "traceback": [
      "\u001b[1;31m---------------------------------------------------------------------------\u001b[0m",
      "\u001b[1;31mValueError\u001b[0m                                Traceback (most recent call last)",
      "Cell \u001b[1;32mIn[64], line 1\u001b[0m\n\u001b[1;32m----> 1\u001b[0m \u001b[38;5;28mprint\u001b[39m(string1\u001b[38;5;241m.\u001b[39mindex(\u001b[38;5;124m\"\u001b[39m\u001b[38;5;124mT\u001b[39m\u001b[38;5;124m\"\u001b[39m))\n",
      "\u001b[1;31mValueError\u001b[0m: substring not found"
     ]
    }
   ],
   "source": [
    "print(string1.index(\"T\"))    #important"
   ]
  },
  {
   "cell_type": "code",
   "execution_count": 66,
   "id": "75933135",
   "metadata": {},
   "outputs": [
    {
     "name": "stdout",
     "output_type": "stream",
     "text": [
      "restart how to\n"
     ]
    }
   ],
   "source": [
    "#important\n",
    "\n",
    "print(string1.replace(\"TTTT\",\"&\"))     #No error "
   ]
  },
  {
   "cell_type": "code",
   "execution_count": 67,
   "id": "a76ed352",
   "metadata": {},
   "outputs": [
    {
     "data": {
      "text/plain": [
       "'Python'"
      ]
     },
     "execution_count": 67,
     "metadata": {},
     "output_type": "execute_result"
    }
   ],
   "source": [
    "\"Python\".replace(\"z\",\"ZZZZ\")       #No error"
   ]
  },
  {
   "cell_type": "markdown",
   "id": "8a833e8a",
   "metadata": {},
   "source": [
    "**find**"
   ]
  },
  {
   "cell_type": "code",
   "execution_count": 69,
   "id": "db6bc930",
   "metadata": {},
   "outputs": [
    {
     "name": "stdout",
     "output_type": "stream",
     "text": [
      "The first occurence of t is: 3\n"
     ]
    }
   ],
   "source": [
    "string1=\"restart how to\"\n",
    "#First occurence of \"t\"\n",
    "first_occ=string1.find(\"t\")\n",
    "print(\"The first occurence of t is:\",first_occ)"
   ]
  },
  {
   "cell_type": "markdown",
   "id": "3f5f65b9",
   "metadata": {},
   "source": [
    "**Difference bw find & index**\n",
    "- Index- If substring is not found, Value error is returned\n",
    "- Find- If substring is not found, -1 is retured"
   ]
  },
  {
   "cell_type": "code",
   "execution_count": null,
   "id": "bec8e531",
   "metadata": {},
   "outputs": [],
   "source": [
    "print(string1.count(\"T\"))   # 0\n",
    "print(string1.index(\"T\"))    #Sub string not found\n",
    "print(string1.replace(\"TTTT\",\"&\"))  #no error\n",
    "print(string1.find(\"TTTT\")) #-1\n"
   ]
  },
  {
   "cell_type": "markdown",
   "id": "f711566f",
   "metadata": {},
   "source": [
    "- capitalize/casefold/upper/lower\n",
    "- count\n",
    "- replace\n",
    "- index/find"
   ]
  },
  {
   "cell_type": "markdown",
   "id": "45aafdeb",
   "metadata": {},
   "source": [
    "**split**"
   ]
  },
  {
   "cell_type": "code",
   "execution_count": 1,
   "id": "de02a5f9",
   "metadata": {},
   "outputs": [
    {
     "data": {
      "text/plain": [
       "['hai', 'how', 'are', 'you']"
      ]
     },
     "execution_count": 1,
     "metadata": {},
     "output_type": "execute_result"
    }
   ],
   "source": [
    "string1=\"hai how are you\"\n",
    "string1.split()   #string1.split(sep=None, maxsplit=-1)  --> "
   ]
  },
  {
   "cell_type": "code",
   "execution_count": 72,
   "id": "90f07c29",
   "metadata": {},
   "outputs": [
    {
     "data": {
      "text/plain": [
       "['hai how', 'are you']"
      ]
     },
     "execution_count": 72,
     "metadata": {},
     "output_type": "execute_result"
    }
   ],
   "source": [
    "s2=\"hai how,are you\"\n",
    "s2.split(\",\")  #separating using \",\"\n",
    "              #it splits, when there is comma(\",\")"
   ]
  },
  {
   "cell_type": "code",
   "execution_count": 73,
   "id": "681266d2",
   "metadata": {},
   "outputs": [
    {
     "data": {
      "text/plain": [
       "['h', 'i how,', 're you']"
      ]
     },
     "execution_count": 73,
     "metadata": {},
     "output_type": "execute_result"
    }
   ],
   "source": [
    "s2=\"hai how,are you\"\n",
    "s2.split(\"a\")"
   ]
  },
  {
   "cell_type": "markdown",
   "id": "3254ec27",
   "metadata": {},
   "source": [
    "# nov 7th"
   ]
  },
  {
   "cell_type": "code",
   "execution_count": 4,
   "id": "72e99603",
   "metadata": {},
   "outputs": [
    {
     "data": {
      "text/plain": [
       "'omkar'"
      ]
     },
     "execution_count": 4,
     "metadata": {},
     "output_type": "execute_result"
    }
   ],
   "source": [
    "sent1=\"rashaad.omkar@gmail.com\"\n",
    "#extract omkar\n",
    "sent1[8:13]"
   ]
  },
  {
   "cell_type": "code",
   "execution_count": 11,
   "id": "efcd2f49",
   "metadata": {},
   "outputs": [
    {
     "data": {
      "text/plain": [
       "'omkar'"
      ]
     },
     "execution_count": 11,
     "metadata": {},
     "output_type": "execute_result"
    }
   ],
   "source": [
    "#w/o slicing , w/o count\n",
    "sent1[sent1.index(\".\")+1:sent1.index(\"@\")]"
   ]
  },
  {
   "cell_type": "code",
   "execution_count": 12,
   "id": "b58970fc",
   "metadata": {},
   "outputs": [
    {
     "data": {
      "text/plain": [
       "'uma'"
      ]
     },
     "execution_count": 12,
     "metadata": {},
     "output_type": "execute_result"
    }
   ],
   "source": [
    "#Extarct \"uma\"\n",
    "s1=\"mobin.sourav@uma.com\"\n",
    "s1.index(\"@\")\n",
    "s1[s1.index(\"@\")+1:s1.index(\".c\")]"
   ]
  },
  {
   "cell_type": "code",
   "execution_count": 16,
   "id": "15157577",
   "metadata": {},
   "outputs": [
    {
     "name": "stdout",
     "output_type": "stream",
     "text": [
      "12\n",
      "6\n"
     ]
    },
    {
     "data": {
      "text/plain": [
       "'uma'"
      ]
     },
     "execution_count": 16,
     "metadata": {},
     "output_type": "execute_result"
    }
   ],
   "source": [
    "#Extarct \"uma\"\n",
    "s1=\"mobin.sourav@uma.com\"\n",
    "print(s1.index(\"@\"))\n",
    "print(s1.index(\".\")+1)\n",
    "s1[s1.index(\"@\")+1:s1.index(\".\",s1.index(\".\")+1)]"
   ]
  },
  {
   "cell_type": "code",
   "execution_count": 85,
   "id": "27d4bdb1",
   "metadata": {},
   "outputs": [
    {
     "name": "stdout",
     "output_type": "stream",
     "text": [
      "Possibility one is: nareshit\n",
      "possibility two is: nareshit\n",
      "possibility three is: nareshit\n"
     ]
    }
   ],
   "source": [
    "#sent2=mobin.sourav@uma.com\n",
    "\n",
    "sent2='mobin.souravsahoo@nareshit.ac.in'\n",
    "\n",
    "#Between '@' and '.'\n",
    "\n",
    "index1=sent2.index('@')\n",
    "first_dot_index=sent2.index('.')\n",
    "sec_dot_index=sent2.index('.',first_dot_index+1)\n",
    "\n",
    "sent2[index1+1:sec_dot_index]  \n",
    "print(\"Possibility one is:\",sent2[index1+1:sec_dot_index] )\n",
    "\n",
    "sent2[sent2.index('@')+1:sent2.index(\".\",first_dot_index+1)]\n",
    "print(\"possibility two is:\",sent2[sent2.index('@')+1:sent2.index(\".\",first_dot_index+1)])\n",
    "\n",
    "sent2[sent2.index('@')+1:sent2.index(\".\",sent2.index('.')+1)]\n",
    "print(\"possibility three is:\",sent2[sent2.index('@')+1:sent2.index(\".\",sent2.index('.')+1)])"
   ]
  },
  {
   "cell_type": "code",
   "execution_count": 20,
   "id": "0a61e6ed",
   "metadata": {},
   "outputs": [
    {
     "name": "stdout",
     "output_type": "stream",
     "text": [
      "5\n"
     ]
    },
    {
     "data": {
      "text/plain": [
       "'mlr'"
      ]
     },
     "execution_count": 20,
     "metadata": {},
     "output_type": "execute_result"
    }
   ],
   "source": [
    "#extratng mlr\n",
    "sent2='mobin.sourav@uma.com'\n",
    "print(sent2.index('.'))\n",
    "sent2='mobin.souravsahoo@nareshit.ac.in'\n",
    "sent2='bikas.sourav@mlr.edu.ac.in'\n",
    "sent2[sent2.index('@')+1:sent2.index('.',sent2.index('.')+1)]"
   ]
  },
  {
   "cell_type": "markdown",
   "id": "77f9eb1b",
   "metadata": {},
   "source": [
    "**strip-lstrip-rstrip**"
   ]
  },
  {
   "cell_type": "code",
   "execution_count": 22,
   "id": "2979e415",
   "metadata": {},
   "outputs": [],
   "source": [
    "string1=\" hai how are you \"\n",
    "string2=\"hai how are you \"\n",
    "string3=\" hai how are you\""
   ]
  },
  {
   "cell_type": "markdown",
   "id": "a252ad2a",
   "metadata": {},
   "source": [
    "- strip - It remove spaces from left &rght side\n",
    "- lstrip - It removes spaces from left side\n",
    "- rstrip - It removes spaces from rght side"
   ]
  },
  {
   "cell_type": "code",
   "execution_count": 26,
   "id": "494fd6e2",
   "metadata": {},
   "outputs": [
    {
     "data": {
      "text/plain": [
       "'hai how are you'"
      ]
     },
     "execution_count": 26,
     "metadata": {},
     "output_type": "execute_result"
    }
   ],
   "source": [
    "string1.strip()"
   ]
  },
  {
   "cell_type": "code",
   "execution_count": 27,
   "id": "b7ee7b7e",
   "metadata": {},
   "outputs": [
    {
     "data": {
      "text/plain": [
       "'hai how are you '"
      ]
     },
     "execution_count": 27,
     "metadata": {},
     "output_type": "execute_result"
    }
   ],
   "source": [
    "string1.lstrip()"
   ]
  },
  {
   "cell_type": "code",
   "execution_count": 30,
   "id": "fd958262",
   "metadata": {},
   "outputs": [
    {
     "data": {
      "text/plain": [
       "' hai how are you'"
      ]
     },
     "execution_count": 30,
     "metadata": {},
     "output_type": "execute_result"
    }
   ],
   "source": [
    "string1.rstrip()"
   ]
  },
  {
   "cell_type": "code",
   "execution_count": 23,
   "id": "0be35e10",
   "metadata": {},
   "outputs": [
    {
     "data": {
      "text/plain": [
       "'hai how are you'"
      ]
     },
     "execution_count": 23,
     "metadata": {},
     "output_type": "execute_result"
    }
   ],
   "source": [
    "string1.strip()   #It removes spaces from two sides"
   ]
  },
  {
   "cell_type": "code",
   "execution_count": 24,
   "id": "1ddf4e25",
   "metadata": {},
   "outputs": [
    {
     "data": {
      "text/plain": [
       "'hai how are you'"
      ]
     },
     "execution_count": 24,
     "metadata": {},
     "output_type": "execute_result"
    }
   ],
   "source": [
    "string2.rstrip()       #it removes space from rght side"
   ]
  },
  {
   "cell_type": "code",
   "execution_count": 25,
   "id": "6a7e6159",
   "metadata": {},
   "outputs": [
    {
     "data": {
      "text/plain": [
       "'hai how are you'"
      ]
     },
     "execution_count": 25,
     "metadata": {},
     "output_type": "execute_result"
    }
   ],
   "source": [
    "string3.lstrip()          #it removes space from left side"
   ]
  },
  {
   "cell_type": "code",
   "execution_count": 31,
   "id": "8b1a2121",
   "metadata": {},
   "outputs": [
    {
     "name": "stdout",
     "output_type": "stream",
     "text": [
      "hello\n"
     ]
    }
   ],
   "source": [
    "string1='&&&&hello&&&&&&&&&&'\n",
    "print(string1.strip(\"&\"))           #\"&\" are removed from both the ends"
   ]
  },
  {
   "cell_type": "code",
   "execution_count": 32,
   "id": "d3b2861a",
   "metadata": {},
   "outputs": [
    {
     "name": "stdout",
     "output_type": "stream",
     "text": [
      "hello&&&&&&&&&&\n"
     ]
    }
   ],
   "source": [
    "print(string1.lstrip(\"&\"))"
   ]
  },
  {
   "cell_type": "code",
   "execution_count": 33,
   "id": "afcffc5e",
   "metadata": {},
   "outputs": [
    {
     "name": "stdout",
     "output_type": "stream",
     "text": [
      "&&&&hello\n"
     ]
    }
   ],
   "source": [
    "print(string1.rstrip(\"&\"))"
   ]
  },
  {
   "cell_type": "markdown",
   "id": "0ead1519",
   "metadata": {},
   "source": [
    "**startswith-endswith**"
   ]
  },
  {
   "cell_type": "code",
   "execution_count": 34,
   "id": "63d23447",
   "metadata": {},
   "outputs": [
    {
     "data": {
      "text/plain": [
       "True"
      ]
     },
     "execution_count": 34,
     "metadata": {},
     "output_type": "execute_result"
    }
   ],
   "source": [
    "string1=\"hai how are you\"\n",
    "string1.startswith(\"hai\")       #since sentence is strtg with hai it returns True"
   ]
  },
  {
   "cell_type": "code",
   "execution_count": 35,
   "id": "00896dbe",
   "metadata": {},
   "outputs": [
    {
     "data": {
      "text/plain": [
       "True"
      ]
     },
     "execution_count": 35,
     "metadata": {},
     "output_type": "execute_result"
    }
   ],
   "source": [
    "string1.endswith(\"you\") "
   ]
  },
  {
   "cell_type": "code",
   "execution_count": 41,
   "id": "48e84707",
   "metadata": {},
   "outputs": [
    {
     "data": {
      "text/plain": [
       "True"
      ]
     },
     "execution_count": 41,
     "metadata": {},
     "output_type": "execute_result"
    }
   ],
   "source": [
    "string1=\"pasha how are you\"\n",
    "string1.startswith(string1)"
   ]
  },
  {
   "cell_type": "code",
   "execution_count": 42,
   "id": "d19650cc",
   "metadata": {},
   "outputs": [
    {
     "data": {
      "text/plain": [
       "True"
      ]
     },
     "execution_count": 42,
     "metadata": {},
     "output_type": "execute_result"
    }
   ],
   "source": [
    "string1.startswith(\"p\")"
   ]
  },
  {
   "cell_type": "code",
   "execution_count": 43,
   "id": "c5cde3b7",
   "metadata": {},
   "outputs": [
    {
     "data": {
      "text/plain": [
       "True"
      ]
     },
     "execution_count": 43,
     "metadata": {},
     "output_type": "execute_result"
    }
   ],
   "source": [
    "string1.endswith(\"u\")"
   ]
  },
  {
   "cell_type": "code",
   "execution_count": 40,
   "id": "1b363f32",
   "metadata": {},
   "outputs": [
    {
     "data": {
      "text/plain": [
       "True"
      ]
     },
     "execution_count": 40,
     "metadata": {},
     "output_type": "execute_result"
    }
   ],
   "source": [
    "string1.endswith(string1)"
   ]
  },
  {
   "cell_type": "code",
   "execution_count": 44,
   "id": "9978c12b",
   "metadata": {},
   "outputs": [
    {
     "data": {
      "text/plain": [
       "False"
      ]
     },
     "execution_count": 44,
     "metadata": {},
     "output_type": "execute_result"
    }
   ],
   "source": [
    "#isalpha\n",
    "s=\"123abcsv\"\n",
    "s.isalpha()"
   ]
  },
  {
   "cell_type": "code",
   "execution_count": 45,
   "id": "7d129129",
   "metadata": {},
   "outputs": [
    {
     "data": {
      "text/plain": [
       "True"
      ]
     },
     "execution_count": 45,
     "metadata": {},
     "output_type": "execute_result"
    }
   ],
   "source": [
    "s=\"abcdecgll\"\n",
    "s.isalpha()      #since it contains only characters"
   ]
  },
  {
   "cell_type": "code",
   "execution_count": 48,
   "id": "486c6176",
   "metadata": {},
   "outputs": [
    {
     "data": {
      "text/plain": [
       "True"
      ]
     },
     "execution_count": 48,
     "metadata": {},
     "output_type": "execute_result"
    }
   ],
   "source": [
    "#isnumeric\n",
    "\n",
    "s=\"12345\"\n",
    "s.isnumeric()\n"
   ]
  },
  {
   "cell_type": "code",
   "execution_count": 49,
   "id": "b14a8ef8",
   "metadata": {},
   "outputs": [
    {
     "data": {
      "text/plain": [
       "False"
      ]
     },
     "execution_count": 49,
     "metadata": {},
     "output_type": "execute_result"
    }
   ],
   "source": [
    "s=\"abcd234\"\n",
    "s.isnumeric()"
   ]
  },
  {
   "cell_type": "code",
   "execution_count": 50,
   "id": "e1a8b5af",
   "metadata": {},
   "outputs": [
    {
     "data": {
      "text/plain": [
       "False"
      ]
     },
     "execution_count": 50,
     "metadata": {},
     "output_type": "execute_result"
    }
   ],
   "source": [
    "#isupper\n",
    "\n",
    "s=\"abc\"\n",
    "s.isupper()"
   ]
  },
  {
   "cell_type": "code",
   "execution_count": 51,
   "id": "f7eb3e26",
   "metadata": {},
   "outputs": [
    {
     "data": {
      "text/plain": [
       "False"
      ]
     },
     "execution_count": 51,
     "metadata": {},
     "output_type": "execute_result"
    }
   ],
   "source": [
    "s=\"Abcgc\"\n",
    "s.isupper()"
   ]
  },
  {
   "cell_type": "code",
   "execution_count": 52,
   "id": "297f1498",
   "metadata": {},
   "outputs": [
    {
     "data": {
      "text/plain": [
       "True"
      ]
     },
     "execution_count": 52,
     "metadata": {},
     "output_type": "execute_result"
    }
   ],
   "source": [
    "s=\"ABCDE\"\n",
    "s.isupper()"
   ]
  },
  {
   "cell_type": "code",
   "execution_count": 53,
   "id": "e4b24f83",
   "metadata": {},
   "outputs": [
    {
     "data": {
      "text/plain": [
       "True"
      ]
     },
     "execution_count": 53,
     "metadata": {},
     "output_type": "execute_result"
    }
   ],
   "source": [
    "s=\"abcde\"\n",
    "s.islower()"
   ]
  },
  {
   "cell_type": "code",
   "execution_count": 56,
   "id": "442953b8",
   "metadata": {},
   "outputs": [
    {
     "data": {
      "text/plain": [
       "True"
      ]
     },
     "execution_count": 56,
     "metadata": {},
     "output_type": "execute_result"
    }
   ],
   "source": [
    "s=\"123abc\"\n",
    "s.isalnum()"
   ]
  },
  {
   "cell_type": "code",
   "execution_count": 58,
   "id": "b3aef8d3",
   "metadata": {},
   "outputs": [
    {
     "data": {
      "text/plain": [
       "['__add__',\n",
       " '__class__',\n",
       " '__contains__',\n",
       " '__delattr__',\n",
       " '__dir__',\n",
       " '__doc__',\n",
       " '__eq__',\n",
       " '__format__',\n",
       " '__ge__',\n",
       " '__getattribute__',\n",
       " '__getitem__',\n",
       " '__getnewargs__',\n",
       " '__getstate__',\n",
       " '__gt__',\n",
       " '__hash__',\n",
       " '__init__',\n",
       " '__init_subclass__',\n",
       " '__iter__',\n",
       " '__le__',\n",
       " '__len__',\n",
       " '__lt__',\n",
       " '__mod__',\n",
       " '__mul__',\n",
       " '__ne__',\n",
       " '__new__',\n",
       " '__reduce__',\n",
       " '__reduce_ex__',\n",
       " '__repr__',\n",
       " '__rmod__',\n",
       " '__rmul__',\n",
       " '__setattr__',\n",
       " '__sizeof__',\n",
       " '__str__',\n",
       " '__subclasshook__',\n",
       " 'capitalize',\n",
       " 'casefold',\n",
       " 'center',\n",
       " 'count',\n",
       " 'encode',\n",
       " 'endswith',\n",
       " 'expandtabs',\n",
       " 'find',\n",
       " 'format',\n",
       " 'format_map',\n",
       " 'index',\n",
       " 'isalnum',\n",
       " 'isalpha',\n",
       " 'isascii',\n",
       " 'isdecimal',\n",
       " 'isdigit',\n",
       " 'isidentifier',\n",
       " 'islower',\n",
       " 'isnumeric',\n",
       " 'isprintable',\n",
       " 'isspace',\n",
       " 'istitle',\n",
       " 'isupper',\n",
       " 'join',\n",
       " 'ljust',\n",
       " 'lower',\n",
       " 'lstrip',\n",
       " 'maketrans',\n",
       " 'partition',\n",
       " 'removeprefix',\n",
       " 'removesuffix',\n",
       " 'replace',\n",
       " 'rfind',\n",
       " 'rindex',\n",
       " 'rjust',\n",
       " 'rpartition',\n",
       " 'rsplit',\n",
       " 'rstrip',\n",
       " 'split',\n",
       " 'splitlines',\n",
       " 'startswith',\n",
       " 'strip',\n",
       " 'swapcase',\n",
       " 'title',\n",
       " 'translate',\n",
       " 'upper',\n",
       " 'zfill']"
      ]
     },
     "execution_count": 58,
     "metadata": {},
     "output_type": "execute_result"
    }
   ],
   "source": [
    "dir(\"string\")"
   ]
  },
  {
   "cell_type": "code",
   "execution_count": 59,
   "id": "8a54782a",
   "metadata": {},
   "outputs": [
    {
     "data": {
      "text/plain": [
       "True"
      ]
     },
     "execution_count": 59,
     "metadata": {},
     "output_type": "execute_result"
    }
   ],
   "source": [
    "#isdecimal\n",
    "s=\"100\"\n",
    "s.isdecimal()"
   ]
  },
  {
   "cell_type": "code",
   "execution_count": 60,
   "id": "b54e8795",
   "metadata": {},
   "outputs": [
    {
     "data": {
      "text/plain": [
       "False"
      ]
     },
     "execution_count": 60,
     "metadata": {},
     "output_type": "execute_result"
    }
   ],
   "source": [
    "s=\"123.78\"\n",
    "s.isdecimal()"
   ]
  },
  {
   "cell_type": "code",
   "execution_count": 61,
   "id": "e252640c",
   "metadata": {},
   "outputs": [
    {
     "data": {
      "text/plain": [
       "False"
      ]
     },
     "execution_count": 61,
     "metadata": {},
     "output_type": "execute_result"
    }
   ],
   "source": [
    "#isdigit\n",
    "s=\"abc12\"\n",
    "s.isdigit()"
   ]
  },
  {
   "cell_type": "code",
   "execution_count": 62,
   "id": "9d4dd14b",
   "metadata": {},
   "outputs": [
    {
     "data": {
      "text/plain": [
       "True"
      ]
     },
     "execution_count": 62,
     "metadata": {},
     "output_type": "execute_result"
    }
   ],
   "source": [
    "s=\"1234\"\n",
    "s.isdigit()"
   ]
  },
  {
   "cell_type": "code",
   "execution_count": 67,
   "id": "5c93066f",
   "metadata": {},
   "outputs": [
    {
     "data": {
      "text/plain": [
       "False"
      ]
     },
     "execution_count": 67,
     "metadata": {},
     "output_type": "execute_result"
    }
   ],
   "source": [
    "s=\"12.2\"\n",
    "s.isdigit()"
   ]
  },
  {
   "cell_type": "code",
   "execution_count": 63,
   "id": "abf8cb63",
   "metadata": {},
   "outputs": [
    {
     "data": {
      "text/plain": [
       "True"
      ]
     },
     "execution_count": 63,
     "metadata": {},
     "output_type": "execute_result"
    }
   ],
   "source": [
    "#isnumeric\n",
    "\n",
    "s=\"123\"\n",
    "s.isnumeric()"
   ]
  },
  {
   "cell_type": "code",
   "execution_count": 64,
   "id": "fe2c2ca6",
   "metadata": {},
   "outputs": [
    {
     "data": {
      "text/plain": [
       "False"
      ]
     },
     "execution_count": 64,
     "metadata": {},
     "output_type": "execute_result"
    }
   ],
   "source": [
    "s=\"abc\"\n",
    "s.isnumeric()"
   ]
  },
  {
   "cell_type": "code",
   "execution_count": 66,
   "id": "64347f2c",
   "metadata": {},
   "outputs": [
    {
     "data": {
      "text/plain": [
       "False"
      ]
     },
     "execution_count": 66,
     "metadata": {},
     "output_type": "execute_result"
    }
   ],
   "source": [
    "s=\"10.6\"\n",
    "s.isnumeric()"
   ]
  },
  {
   "cell_type": "code",
   "execution_count": 65,
   "id": "1973ac69",
   "metadata": {},
   "outputs": [
    {
     "data": {
      "text/plain": [
       "True"
      ]
     },
     "execution_count": 65,
     "metadata": {},
     "output_type": "execute_result"
    }
   ],
   "source": [
    "#isascii\n",
    "\n",
    "s=\"A\"\n",
    "s.isascii()"
   ]
  },
  {
   "cell_type": "code",
   "execution_count": null,
   "id": "6e242b60",
   "metadata": {},
   "outputs": [],
   "source": [
    "#any method available to check float number using string method\n",
    "\n"
   ]
  },
  {
   "cell_type": "code",
   "execution_count": 69,
   "id": "48b4a5bb",
   "metadata": {},
   "outputs": [
    {
     "data": {
      "text/plain": [
       "True"
      ]
     },
     "execution_count": 69,
     "metadata": {},
     "output_type": "execute_result"
    }
   ],
   "source": [
    "#isidentifer\n",
    "s=\"ac\"\n",
    "s.isidentifier()"
   ]
  },
  {
   "cell_type": "code",
   "execution_count": 70,
   "id": "b8a9cd6b",
   "metadata": {},
   "outputs": [
    {
     "data": {
      "text/plain": [
       "False"
      ]
     },
     "execution_count": 70,
     "metadata": {},
     "output_type": "execute_result"
    }
   ],
   "source": [
    "s=\"1234\"\n",
    "s.isidentifier()"
   ]
  },
  {
   "cell_type": "code",
   "execution_count": 77,
   "id": "4186b350",
   "metadata": {},
   "outputs": [
    {
     "data": {
      "text/plain": [
       "True"
      ]
     },
     "execution_count": 77,
     "metadata": {},
     "output_type": "execute_result"
    }
   ],
   "source": [
    "#if methods dont work driectly\n",
    "#we need to modfiy the string\n",
    "\n",
    "string1=\"bikas \"\n",
    "#s=string1.rstrip()\n",
    "#print(s)\n",
    "string1.rstrip().isalnum()"
   ]
  },
  {
   "cell_type": "code",
   "execution_count": null,
   "id": "685762e0",
   "metadata": {},
   "outputs": [],
   "source": [
    "Interview Qstns---\n",
    "\n",
    "1) In the given sentence what is the most repeated word\n",
    "#ex-- \"hai how are you you hai\"\n",
    "\n",
    "2) In a given sentence what is the maximum length of the string \n",
    "#what is the minimum length of the string\n",
    "#\"hello python how are youuuuu\"\n",
    "\n",
    "3)str1=\"hyd\",str2=\"chennai\", str3=\"mumbai\"\n",
    "#greatest word & smallest word -- interms of ASCII "
   ]
  },
  {
   "cell_type": "code",
   "execution_count": 1,
   "id": "14d31a4a",
   "metadata": {},
   "outputs": [
    {
     "data": {
      "text/plain": [
       "'name,Review\\r\\nomkar,good\\r\\nsanjay,very good\\r\\n'"
      ]
     },
     "execution_count": 1,
     "metadata": {},
     "output_type": "execute_result"
    }
   ],
   "source": [
    "str1=\"name,Review\\r\\nomkar,good\\r\\nsanjay,very good\\r\\n\"\n",
    "str1"
   ]
  },
  {
   "cell_type": "code",
   "execution_count": 2,
   "id": "efddb29c",
   "metadata": {},
   "outputs": [],
   "source": [
    "name=\"bikas\"\n",
    "review=\"Excellent\"\n",
    "#o/p-- 'name,Review\\r\\nomkar,good\\r\\nsanjay,very good\\r\\n,bikasExcellent\\r\\n'"
   ]
  },
  {
   "cell_type": "code",
   "execution_count": 3,
   "id": "75a7c7fa",
   "metadata": {},
   "outputs": [
    {
     "data": {
      "text/plain": [
       "'bikas,Excellent\\r\\n'"
      ]
     },
     "execution_count": 3,
     "metadata": {},
     "output_type": "execute_result"
    }
   ],
   "source": [
    "\",\".join([name,review])+\"\\r\\n\"\n"
   ]
  },
  {
   "cell_type": "code",
   "execution_count": 4,
   "id": "0bbd7b18",
   "metadata": {},
   "outputs": [
    {
     "data": {
      "text/plain": [
       "'name,Review\\r\\nomkar,good\\r\\nsanjay,very good\\r\\nbikas,Excellent\\r\\n'"
      ]
     },
     "execution_count": 4,
     "metadata": {},
     "output_type": "execute_result"
    }
   ],
   "source": [
    "str1+\",\".join([name,review])+\"\\r\\n\""
   ]
  },
  {
   "cell_type": "code",
   "execution_count": null,
   "id": "a5bdbfe1",
   "metadata": {},
   "outputs": [],
   "source": []
  }
 ],
 "metadata": {
  "kernelspec": {
   "display_name": "Python 3",
   "language": "python",
   "name": "python3"
  },
  "language_info": {
   "codemirror_mode": {
    "name": "ipython",
    "version": 3
   },
   "file_extension": ".py",
   "mimetype": "text/x-python",
   "name": "python",
   "nbconvert_exporter": "python",
   "pygments_lexer": "ipython3",
   "version": "3.11.4"
  }
 },
 "nbformat": 4,
 "nbformat_minor": 5
}
