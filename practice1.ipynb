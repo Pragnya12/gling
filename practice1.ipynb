{
 "cells": [
  {
   "cell_type": "markdown",
   "metadata": {},
   "source": [
    "# Date:-Jan 31st,2022"
   ]
  },
  {
   "cell_type": "code",
   "execution_count": null,
   "metadata": {},
   "outputs": [],
   "source": [
    "hello"
   ]
  },
  {
   "cell_type": "code",
   "execution_count": null,
   "metadata": {},
   "outputs": [],
   "source": [
    "hello hi hwruh\n",
    "(error since it is selected as Code)"
   ]
  },
  {
   "cell_type": "markdown",
   "metadata": {},
   "source": [
    "Hello hwruh"
   ]
  },
  {
   "cell_type": "code",
   "execution_count": null,
   "metadata": {},
   "outputs": [],
   "source": [
    "The above stmnt Hello hwruh is printed bcz Mark down option is selected from the above drop down"
   ]
  },
  {
   "cell_type": "markdown",
   "metadata": {},
   "source": [
    "Program to add 2 no.s"
   ]
  },
  {
   "cell_type": "code",
   "execution_count": 1,
   "metadata": {},
   "outputs": [
    {
     "data": {
      "text/plain": [
       "35"
      ]
     },
     "execution_count": 1,
     "metadata": {},
     "output_type": "execute_result"
    }
   ],
   "source": [
    "a=20\n",
    "b=15\n",
    "c=a+b\n",
    "c"
   ]
  },
  {
   "cell_type": "markdown",
   "metadata": {},
   "source": [
    "# Variables"
   ]
  },
  {
   "cell_type": "markdown",
   "metadata": {},
   "source": [
    "-which are not same , varies \n"
   ]
  },
  {
   "cell_type": "code",
   "execution_count": null,
   "metadata": {},
   "outputs": [],
   "source": [
    "a=200\n",
    "b=200\n",
    "c=d=200\n"
   ]
  },
  {
   "cell_type": "markdown",
   "metadata": {},
   "source": [
    "In above ex, a,b,c,d are variables carrying 200 value"
   ]
  },
  {
   "cell_type": "markdown",
   "metadata": {},
   "source": [
    "- Value can be assigned to a variable \n",
    "\n",
    "- A variable cannot be assigned to value\n",
    "\n",
    "- Variable should be towards left side"
   ]
  },
  {
   "cell_type": "code",
   "execution_count": null,
   "metadata": {},
   "outputs": [],
   "source": [
    "20=a (Encountered error since variable can't be assigned to a value(literal))"
   ]
  },
  {
   "cell_type": "code",
   "execution_count": null,
   "metadata": {},
   "outputs": [],
   "source": [
    "a=20( It is working fine since it is properly assigned)"
   ]
  },
  {
   "cell_type": "markdown",
   "metadata": {},
   "source": [
    "# Allowed variables\n",
    "\n",
    "- Underscore(_)\n",
    "\n",
    "- Numericals at ending of a value \n",
    "\n",
    "- Simple trick- If text color is other than black, then those are not considered as variables, error occurs in such cases\n"
   ]
  },
  {
   "cell_type": "code",
   "execution_count": 2,
   "metadata": {},
   "outputs": [],
   "source": [
    "ab_12=10000"
   ]
  },
  {
   "cell_type": "code",
   "execution_count": null,
   "metadata": {},
   "outputs": [],
   "source": [
    "_as12=100"
   ]
  },
  {
   "cell_type": "code",
   "execution_count": null,
   "metadata": {},
   "outputs": [],
   "source": [
    "ab12_=20"
   ]
  },
  {
   "cell_type": "code",
   "execution_count": null,
   "metadata": {},
   "outputs": [],
   "source": [
    "ab1234=10"
   ]
  },
  {
   "cell_type": "code",
   "execution_count": 4,
   "metadata": {},
   "outputs": [
    {
     "ename": "SyntaxError",
     "evalue": "invalid syntax (<ipython-input-4-b39fe2882991>, line 1)",
     "output_type": "error",
     "traceback": [
      "\u001b[1;36m  File \u001b[1;32m\"<ipython-input-4-b39fe2882991>\"\u001b[1;36m, line \u001b[1;32m1\u001b[0m\n\u001b[1;33m    ab23(Encountered error since no value is assigned)\u001b[0m\n\u001b[1;37m                     ^\u001b[0m\n\u001b[1;31mSyntaxError\u001b[0m\u001b[1;31m:\u001b[0m invalid syntax\n"
     ]
    }
   ],
   "source": [
    "ab23(Encountered error since no value is assigned)"
   ]
  },
  {
   "cell_type": "code",
   "execution_count": 3,
   "metadata": {},
   "outputs": [
    {
     "ename": "SyntaxError",
     "evalue": "invalid syntax (<ipython-input-3-e22677d1058e>, line 2)",
     "output_type": "error",
     "traceback": [
      "\u001b[1;36m  File \u001b[1;32m\"<ipython-input-3-e22677d1058e>\"\u001b[1;36m, line \u001b[1;32m2\u001b[0m\n\u001b[1;33m    123abc=100\u001b[0m\n\u001b[1;37m       ^\u001b[0m\n\u001b[1;31mSyntaxError\u001b[0m\u001b[1;31m:\u001b[0m invalid syntax\n"
     ]
    }
   ],
   "source": [
    "#Since Numeric is at beginning of value\n",
    "123abc=100  "
   ]
  },
  {
   "cell_type": "code",
   "execution_count": 5,
   "metadata": {},
   "outputs": [
    {
     "ename": "SyntaxError",
     "evalue": "invalid syntax (<ipython-input-5-6c6729f62314>, line 2)",
     "output_type": "error",
     "traceback": [
      "\u001b[1;36m  File \u001b[1;32m\"<ipython-input-5-6c6729f62314>\"\u001b[1;36m, line \u001b[1;32m2\u001b[0m\n\u001b[1;33m    123$asbc=10\u001b[0m\n\u001b[1;37m       ^\u001b[0m\n\u001b[1;31mSyntaxError\u001b[0m\u001b[1;31m:\u001b[0m invalid syntax\n"
     ]
    }
   ],
   "source": [
    "#Since 123 is at beg' of value & special character '$'\n",
    "123$asbc=10 "
   ]
  },
  {
   "cell_type": "code",
   "execution_count": 6,
   "metadata": {},
   "outputs": [
    {
     "ename": "SyntaxError",
     "evalue": "invalid decimal literal (<ipython-input-6-e5fd19a6f919>, line 1)",
     "output_type": "error",
     "traceback": [
      "\u001b[1;36m  File \u001b[1;32m\"<ipython-input-6-e5fd19a6f919>\"\u001b[1;36m, line \u001b[1;32m1\u001b[0m\n\u001b[1;33m    12_ab=100\u001b[0m\n\u001b[1;37m      ^\u001b[0m\n\u001b[1;31mSyntaxError\u001b[0m\u001b[1;31m:\u001b[0m invalid decimal literal\n"
     ]
    }
   ],
   "source": [
    "12_ab=100"
   ]
  },
  {
   "cell_type": "code",
   "execution_count": null,
   "metadata": {},
   "outputs": [],
   "source": [
    "@abc=10"
   ]
  },
  {
   "cell_type": "markdown",
   "metadata": {},
   "source": [
    "- hello=100-------->Allowed\n",
    "\n",
    "- hi1234=100------->Allowed\n",
    "\n",
    "- _12ab=100-------->Allowed\n",
    "\n",
    "- 12_ab=100-------->Not Allowed\n",
    "\n",
    "- 123abc=100----->Not allowed\n",
    "\n",
    "- abc123=100----->allowed\n",
    "\n",
    "- if=100------>Not allowed\n",
    "\n",
    "- def=100----->Notallowed"
   ]
  },
  {
   "cell_type": "markdown",
   "metadata": {},
   "source": [
    "Note:-If & def are called keywords(reserved words) in python hence can't be used as variables"
   ]
  },
  {
   "cell_type": "markdown",
   "metadata": {},
   "source": [
    "# Keywords(Reserve words)\n",
    "PFB link for keywords details\n",
    "https://www.geeksforgeeks.org/python-keywords/\n"
   ]
  },
  {
   "cell_type": "markdown",
   "metadata": {},
   "source": [
    "# package\n",
    "- (Pkg->Modules->Python files(.py extension))\n",
    "\n",
    "- Inorder to run the code, pkg should be imported\n",
    "\n",
    "- Package is an open source which can be used by any user\n",
    "\n",
    "- PFB link for Package\n",
    "https://python-course.eu/python-tutorial/packages.php#:~:text=A%20package%20is%20basically%20a,the%20name%20__init__%20.&text=This%20means%20that%20every%20directory,several%20modules%20into%20a%20Package.\n",
    "\n",
    "- PFB link to know dfrnce between Module,Package& Library\n",
    "https://www.geeksforgeeks.org/what-is-the-difference-between-pythons-module-package-and-library/"
   ]
  },
  {
   "cell_type": "code",
   "execution_count": 10,
   "metadata": {},
   "outputs": [],
   "source": [
    "import keyword\n",
    "#here keyword is a package name\n"
   ]
  },
  {
   "cell_type": "code",
   "execution_count": 11,
   "metadata": {},
   "outputs": [
    {
     "data": {
      "text/plain": [
       "<module 'keyword' from 'C:\\\\Users\\\\gling\\\\anaconda3\\\\lib\\\\keyword.py'>"
      ]
     },
     "execution_count": 11,
     "metadata": {},
     "output_type": "execute_result"
    }
   ],
   "source": [
    "keyword\n",
    "#it is showing the path of keyword module in pc"
   ]
  },
  {
   "cell_type": "code",
   "execution_count": null,
   "metadata": {},
   "outputs": [],
   "source": [
    "dir(keyword)  (Directory)\n",
    "A directory or folder is a collection of files and subdirectories.\n",
    "Python has the os module that provides us with many useful methods to work with directories (and files as well).\n"
   ]
  },
  {
   "cell_type": "code",
   "execution_count": 12,
   "metadata": {},
   "outputs": [
    {
     "data": {
      "text/plain": [
       "['False',\n",
       " 'None',\n",
       " 'True',\n",
       " 'and',\n",
       " 'as',\n",
       " 'assert',\n",
       " 'async',\n",
       " 'await',\n",
       " 'break',\n",
       " 'class',\n",
       " 'continue',\n",
       " 'def',\n",
       " 'del',\n",
       " 'elif',\n",
       " 'else',\n",
       " 'except',\n",
       " 'finally',\n",
       " 'for',\n",
       " 'from',\n",
       " 'global',\n",
       " 'if',\n",
       " 'import',\n",
       " 'in',\n",
       " 'is',\n",
       " 'lambda',\n",
       " 'nonlocal',\n",
       " 'not',\n",
       " 'or',\n",
       " 'pass',\n",
       " 'raise',\n",
       " 'return',\n",
       " 'try',\n",
       " 'while',\n",
       " 'with',\n",
       " 'yield']"
      ]
     },
     "execution_count": 12,
     "metadata": {},
     "output_type": "execute_result"
    }
   ],
   "source": [
    "#pkgname.filename\n",
    "keyword.kwlist"
   ]
  },
  {
   "cell_type": "code",
   "execution_count": 8,
   "metadata": {},
   "outputs": [
    {
     "ename": "ModuleNotFoundError",
     "evalue": "No module named 'cv2'",
     "output_type": "error",
     "traceback": [
      "\u001b[1;31m---------------------------------------------------------------------------\u001b[0m",
      "\u001b[1;31mModuleNotFoundError\u001b[0m                       Traceback (most recent call last)",
      "\u001b[1;32m<ipython-input-8-b93525d7168e>\u001b[0m in \u001b[0;36m<module>\u001b[1;34m\u001b[0m\n\u001b[1;32m----> 1\u001b[1;33m \u001b[1;32mimport\u001b[0m \u001b[0mcv2\u001b[0m\u001b[1;33m\u001b[0m\u001b[1;33m\u001b[0m\u001b[0m\n\u001b[0m\u001b[0;32m      2\u001b[0m \u001b[1;31m#Error occured since module cv2 is  not available in pc\u001b[0m\u001b[1;33m\u001b[0m\u001b[1;33m\u001b[0m\u001b[1;33m\u001b[0m\u001b[0m\n",
      "\u001b[1;31mModuleNotFoundError\u001b[0m: No module named 'cv2'"
     ]
    }
   ],
   "source": [
    "import cv2 \n",
    "#Error occured since module cv2 is  not available in pc"
   ]
  },
  {
   "cell_type": "code",
   "execution_count": 13,
   "metadata": {},
   "outputs": [
    {
     "data": {
      "text/plain": [
       "['False',\n",
       " 'None',\n",
       " 'True',\n",
       " 'and',\n",
       " 'as',\n",
       " 'assert',\n",
       " 'async',\n",
       " 'await',\n",
       " 'break',\n",
       " 'class',\n",
       " 'continue',\n",
       " 'def',\n",
       " 'del',\n",
       " 'elif',\n",
       " 'else',\n",
       " 'except',\n",
       " 'finally',\n",
       " 'for',\n",
       " 'from',\n",
       " 'global',\n",
       " 'if',\n",
       " 'import',\n",
       " 'in',\n",
       " 'is',\n",
       " 'lambda',\n",
       " 'nonlocal',\n",
       " 'not',\n",
       " 'or',\n",
       " 'pass',\n",
       " 'raise',\n",
       " 'return',\n",
       " 'try',\n",
       " 'while',\n",
       " 'with',\n",
       " 'yield']"
      ]
     },
     "execution_count": 13,
     "metadata": {},
     "output_type": "execute_result"
    }
   ],
   "source": [
    "#assigning kwlist to variable\n",
    "#variable=pkgname.filename\n",
    "reserved_words=keyword.kwlist\n",
    "reserved_words"
   ]
  },
  {
   "cell_type": "markdown",
   "metadata": {},
   "source": [
    "In above, values present in kwlist are listed as o/p"
   ]
  },
  {
   "cell_type": "code",
   "execution_count": 14,
   "metadata": {},
   "outputs": [
    {
     "data": {
      "text/plain": [
       "35"
      ]
     },
     "execution_count": 14,
     "metadata": {},
     "output_type": "execute_result"
    }
   ],
   "source": [
    "#Gives length of reserved_words\n",
    "len(reserved_words)"
   ]
  },
  {
   "cell_type": "code",
   "execution_count": 15,
   "metadata": {},
   "outputs": [],
   "source": [
    "import keyword"
   ]
  },
  {
   "cell_type": "code",
   "execution_count": 16,
   "metadata": {},
   "outputs": [
    {
     "data": {
      "text/plain": [
       "['iskeyword', 'kwlist']"
      ]
     },
     "execution_count": 16,
     "metadata": {},
     "output_type": "execute_result"
    }
   ],
   "source": [
    "keyword.__all__"
   ]
  },
  {
   "cell_type": "code",
   "execution_count": 17,
   "metadata": {},
   "outputs": [
    {
     "data": {
      "text/plain": [
       "<function frozenset.__contains__>"
      ]
     },
     "execution_count": 17,
     "metadata": {},
     "output_type": "execute_result"
    }
   ],
   "source": [
    "keyword.iskeyword"
   ]
  },
  {
   "cell_type": "code",
   "execution_count": 18,
   "metadata": {},
   "outputs": [
    {
     "data": {
      "text/plain": [
       "{'__name__': 'builtins',\n",
       " '__doc__': \"Built-in functions, exceptions, and other objects.\\n\\nNoteworthy: None is the `nil' object; Ellipsis represents `...' in slices.\",\n",
       " '__package__': '',\n",
       " '__loader__': _frozen_importlib.BuiltinImporter,\n",
       " '__spec__': ModuleSpec(name='builtins', loader=<class '_frozen_importlib.BuiltinImporter'>),\n",
       " '__build_class__': <function __build_class__>,\n",
       " '__import__': <function __import__>,\n",
       " 'abs': <function abs(x, /)>,\n",
       " 'all': <function all(iterable, /)>,\n",
       " 'any': <function any(iterable, /)>,\n",
       " 'ascii': <function ascii(obj, /)>,\n",
       " 'bin': <function bin(number, /)>,\n",
       " 'breakpoint': <function breakpoint>,\n",
       " 'callable': <function callable(obj, /)>,\n",
       " 'chr': <function chr(i, /)>,\n",
       " 'compile': <function compile(source, filename, mode, flags=0, dont_inherit=False, optimize=-1, *, _feature_version=-1)>,\n",
       " 'delattr': <function delattr(obj, name, /)>,\n",
       " 'dir': <function dir>,\n",
       " 'divmod': <function divmod(x, y, /)>,\n",
       " 'eval': <function eval(source, globals=None, locals=None, /)>,\n",
       " 'exec': <function exec(source, globals=None, locals=None, /)>,\n",
       " 'format': <function format(value, format_spec='', /)>,\n",
       " 'getattr': <function getattr>,\n",
       " 'globals': <function globals()>,\n",
       " 'hasattr': <function hasattr(obj, name, /)>,\n",
       " 'hash': <function hash(obj, /)>,\n",
       " 'hex': <function hex(number, /)>,\n",
       " 'id': <function id(obj, /)>,\n",
       " 'input': <bound method Kernel.raw_input of <ipykernel.ipkernel.IPythonKernel object at 0x0000023D2A197E50>>,\n",
       " 'isinstance': <function isinstance(obj, class_or_tuple, /)>,\n",
       " 'issubclass': <function issubclass(cls, class_or_tuple, /)>,\n",
       " 'iter': <function iter>,\n",
       " 'len': <function len(obj, /)>,\n",
       " 'locals': <function locals()>,\n",
       " 'max': <function max>,\n",
       " 'min': <function min>,\n",
       " 'next': <function next>,\n",
       " 'oct': <function oct(number, /)>,\n",
       " 'ord': <function ord(c, /)>,\n",
       " 'pow': <function pow(base, exp, mod=None)>,\n",
       " 'print': <function print>,\n",
       " 'repr': <function repr(obj, /)>,\n",
       " 'round': <function round(number, ndigits=None)>,\n",
       " 'setattr': <function setattr(obj, name, value, /)>,\n",
       " 'sorted': <function sorted(iterable, /, *, key=None, reverse=False)>,\n",
       " 'sum': <function sum(iterable, /, start=0)>,\n",
       " 'vars': <function vars>,\n",
       " 'None': None,\n",
       " 'Ellipsis': Ellipsis,\n",
       " 'NotImplemented': NotImplemented,\n",
       " 'False': False,\n",
       " 'True': True,\n",
       " 'bool': bool,\n",
       " 'memoryview': memoryview,\n",
       " 'bytearray': bytearray,\n",
       " 'bytes': bytes,\n",
       " 'classmethod': classmethod,\n",
       " 'complex': complex,\n",
       " 'dict': dict,\n",
       " 'enumerate': enumerate,\n",
       " 'filter': filter,\n",
       " 'float': float,\n",
       " 'frozenset': frozenset,\n",
       " 'property': property,\n",
       " 'int': int,\n",
       " 'list': list,\n",
       " 'map': map,\n",
       " 'object': object,\n",
       " 'range': range,\n",
       " 'reversed': reversed,\n",
       " 'set': set,\n",
       " 'slice': slice,\n",
       " 'staticmethod': staticmethod,\n",
       " 'str': str,\n",
       " 'super': super,\n",
       " 'tuple': tuple,\n",
       " 'type': type,\n",
       " 'zip': zip,\n",
       " '__debug__': True,\n",
       " 'BaseException': BaseException,\n",
       " 'Exception': Exception,\n",
       " 'TypeError': TypeError,\n",
       " 'StopAsyncIteration': StopAsyncIteration,\n",
       " 'StopIteration': StopIteration,\n",
       " 'GeneratorExit': GeneratorExit,\n",
       " 'SystemExit': SystemExit,\n",
       " 'KeyboardInterrupt': KeyboardInterrupt,\n",
       " 'ImportError': ImportError,\n",
       " 'ModuleNotFoundError': ModuleNotFoundError,\n",
       " 'OSError': OSError,\n",
       " 'EnvironmentError': OSError,\n",
       " 'IOError': OSError,\n",
       " 'WindowsError': OSError,\n",
       " 'EOFError': EOFError,\n",
       " 'RuntimeError': RuntimeError,\n",
       " 'RecursionError': RecursionError,\n",
       " 'NotImplementedError': NotImplementedError,\n",
       " 'NameError': NameError,\n",
       " 'UnboundLocalError': UnboundLocalError,\n",
       " 'AttributeError': AttributeError,\n",
       " 'SyntaxError': SyntaxError,\n",
       " 'IndentationError': IndentationError,\n",
       " 'TabError': TabError,\n",
       " 'LookupError': LookupError,\n",
       " 'IndexError': IndexError,\n",
       " 'KeyError': KeyError,\n",
       " 'ValueError': ValueError,\n",
       " 'UnicodeError': UnicodeError,\n",
       " 'UnicodeEncodeError': UnicodeEncodeError,\n",
       " 'UnicodeDecodeError': UnicodeDecodeError,\n",
       " 'UnicodeTranslateError': UnicodeTranslateError,\n",
       " 'AssertionError': AssertionError,\n",
       " 'ArithmeticError': ArithmeticError,\n",
       " 'FloatingPointError': FloatingPointError,\n",
       " 'OverflowError': OverflowError,\n",
       " 'ZeroDivisionError': ZeroDivisionError,\n",
       " 'SystemError': SystemError,\n",
       " 'ReferenceError': ReferenceError,\n",
       " 'MemoryError': MemoryError,\n",
       " 'BufferError': BufferError,\n",
       " 'Warning': Warning,\n",
       " 'UserWarning': UserWarning,\n",
       " 'DeprecationWarning': DeprecationWarning,\n",
       " 'PendingDeprecationWarning': PendingDeprecationWarning,\n",
       " 'SyntaxWarning': SyntaxWarning,\n",
       " 'RuntimeWarning': RuntimeWarning,\n",
       " 'FutureWarning': FutureWarning,\n",
       " 'ImportWarning': ImportWarning,\n",
       " 'UnicodeWarning': UnicodeWarning,\n",
       " 'BytesWarning': BytesWarning,\n",
       " 'ResourceWarning': ResourceWarning,\n",
       " 'ConnectionError': ConnectionError,\n",
       " 'BlockingIOError': BlockingIOError,\n",
       " 'BrokenPipeError': BrokenPipeError,\n",
       " 'ChildProcessError': ChildProcessError,\n",
       " 'ConnectionAbortedError': ConnectionAbortedError,\n",
       " 'ConnectionRefusedError': ConnectionRefusedError,\n",
       " 'ConnectionResetError': ConnectionResetError,\n",
       " 'FileExistsError': FileExistsError,\n",
       " 'FileNotFoundError': FileNotFoundError,\n",
       " 'IsADirectoryError': IsADirectoryError,\n",
       " 'NotADirectoryError': NotADirectoryError,\n",
       " 'InterruptedError': InterruptedError,\n",
       " 'PermissionError': PermissionError,\n",
       " 'ProcessLookupError': ProcessLookupError,\n",
       " 'TimeoutError': TimeoutError,\n",
       " 'open': <function io.open(file, mode='r', buffering=-1, encoding=None, errors=None, newline=None, closefd=True, opener=None)>,\n",
       " 'copyright': Copyright (c) 2001-2020 Python Software Foundation.\n",
       " All Rights Reserved.\n",
       " \n",
       " Copyright (c) 2000 BeOpen.com.\n",
       " All Rights Reserved.\n",
       " \n",
       " Copyright (c) 1995-2001 Corporation for National Research Initiatives.\n",
       " All Rights Reserved.\n",
       " \n",
       " Copyright (c) 1991-1995 Stichting Mathematisch Centrum, Amsterdam.\n",
       " All Rights Reserved.,\n",
       " 'credits':     Thanks to CWI, CNRI, BeOpen.com, Zope Corporation and a cast of thousands\n",
       "     for supporting Python development.  See www.python.org for more information.,\n",
       " 'license': See https://www.python.org/psf/license/,\n",
       " 'help': Type help() for interactive help, or help(object) for help about object.,\n",
       " '__IPYTHON__': True,\n",
       " 'display': <function IPython.core.display.display(*objs, include=None, exclude=None, metadata=None, transient=None, display_id=None, **kwargs)>,\n",
       " 'get_ipython': <bound method InteractiveShell.get_ipython of <ipykernel.zmqshell.ZMQInteractiveShell object at 0x0000023D2A197E80>>}"
      ]
     },
     "execution_count": 18,
     "metadata": {},
     "output_type": "execute_result"
    }
   ],
   "source": [
    "keyword.__builtins__"
   ]
  },
  {
   "cell_type": "code",
   "execution_count": 19,
   "metadata": {},
   "outputs": [
    {
     "data": {
      "text/plain": [
       "''"
      ]
     },
     "execution_count": 19,
     "metadata": {},
     "output_type": "execute_result"
    }
   ],
   "source": [
    "keyword.__package__"
   ]
  },
  {
   "cell_type": "markdown",
   "metadata": {},
   "source": [
    "# Date:-Feb 1st, 2022"
   ]
  },
  {
   "cell_type": "markdown",
   "metadata": {},
   "source": [
    "##Data types:\n",
    "\n",
    "- Integer\n",
    "\n",
    "- Float\n",
    "\n",
    "- String\n",
    "\n",
    "- Boolean\n",
    "\n",
    "- Complex Conjugate"
   ]
  },
  {
   "cell_type": "markdown",
   "metadata": {},
   "source": [
    "##Integer\n",
    "- It is a number without decimal values\n",
    "\n",
    "- Integer can be represented in binary, decimal,octal &hexa format"
   ]
  },
  {
   "cell_type": "code",
   "execution_count": null,
   "metadata": {},
   "outputs": [],
   "source": [
    "a=10\n",
    "type(a)"
   ]
  },
  {
   "cell_type": "markdown",
   "metadata": {},
   "source": [
    "##Binary\n",
    "\n",
    "- Base is '2'\n",
    "\n",
    "- Allowed values-0&1\n",
    "\n",
    "- It is represented as 0b1101,0b01100...(Starting 2 places are fixed i.e.,0b)"
   ]
  },
  {
   "cell_type": "code",
   "execution_count": null,
   "metadata": {},
   "outputs": [],
   "source": [
    "a=0b1101   \n",
    "a\n",
    "# So consider  1     1     0     1\n",
    "              2^3   2^2   2^1   2^0\n",
    "            2^3*1  2^2*1 2^1*0 2^0*1\n",
    "              8*1   4*1   2*0   1*1\n",
    "              8+4+0+1=13 "
   ]
  },
  {
   "cell_type": "code",
   "execution_count": 20,
   "metadata": {},
   "outputs": [
    {
     "data": {
      "text/plain": [
       "7"
      ]
     },
     "execution_count": 20,
     "metadata": {},
     "output_type": "execute_result"
    }
   ],
   "source": [
    "a=0b111\n",
    "#1 1 1\n",
    "#4+2+1=7\n",
    "a"
   ]
  },
  {
   "cell_type": "code",
   "execution_count": 21,
   "metadata": {},
   "outputs": [
    {
     "data": {
      "text/plain": [
       "5"
      ]
     },
     "execution_count": 21,
     "metadata": {},
     "output_type": "execute_result"
    }
   ],
   "source": [
    "b=0b101\n",
    "#1 0 1\n",
    "#4*1+2*0+1*1\n",
    "#5\n",
    "b"
   ]
  },
  {
   "cell_type": "code",
   "execution_count": 22,
   "metadata": {},
   "outputs": [
    {
     "data": {
      "text/plain": [
       "3"
      ]
     },
     "execution_count": 22,
     "metadata": {},
     "output_type": "execute_result"
    }
   ],
   "source": [
    "c=0b011\n",
    " #0 1 1\n",
    " #2^2*0 + 2^1*1 + 2^0*1\n",
    " #3\n",
    "c\n",
    "\n"
   ]
  },
  {
   "cell_type": "code",
   "execution_count": 23,
   "metadata": {},
   "outputs": [
    {
     "data": {
      "text/plain": [
       "6"
      ]
     },
     "execution_count": 23,
     "metadata": {},
     "output_type": "execute_result"
    }
   ],
   "source": [
    "c=0b110\n",
    "#4+2 = 6\n",
    "c"
   ]
  },
  {
   "cell_type": "code",
   "execution_count": 25,
   "metadata": {},
   "outputs": [],
   "source": [
    "#Rule to be remember:-\n",
    "#2^3 2^2 2^1 2^0\n",
    "\n",
    "#8   4    2   1\n"
   ]
  },
  {
   "cell_type": "markdown",
   "metadata": {},
   "source": [
    "##Octal\n",
    "\n",
    "- Base is 8 \n",
    "\n",
    "- 8 digits are allowed (0 to 7)\n",
    "\n",
    "- Representation-- 0o123, 0o345, 0o576  (Starting by '0o')"
   ]
  },
  {
   "cell_type": "code",
   "execution_count": 26,
   "metadata": {},
   "outputs": [
    {
     "data": {
      "text/plain": [
       "64"
      ]
     },
     "execution_count": 26,
     "metadata": {},
     "output_type": "execute_result"
    }
   ],
   "source": [
    "a=0o100\n",
    "\n",
    "#8^2 *1  + 8^1 *0 +8^0 *0\n",
    "#64\n",
    "\n",
    "a"
   ]
  },
  {
   "cell_type": "code",
   "execution_count": 27,
   "metadata": {},
   "outputs": [
    {
     "data": {
      "text/plain": [
       "83"
      ]
     },
     "execution_count": 27,
     "metadata": {},
     "output_type": "execute_result"
    }
   ],
   "source": [
    "a=0o123\n",
    "\n",
    "#64 *1 + 8 *2 + 1 *3\n",
    "# 64+16+3 = 83\n",
    "\n",
    "a"
   ]
  },
  {
   "cell_type": "code",
   "execution_count": null,
   "metadata": {},
   "outputs": [],
   "source": [
    "b=0o212\n",
    "#2 * 64 + 8*1 + 1*2\n",
    "#138\n",
    "\n",
    "b"
   ]
  },
  {
   "cell_type": "code",
   "execution_count": null,
   "metadata": {},
   "outputs": [],
   "source": [
    "c=0o1200\n",
    "#512 *1 + 64 *2\n",
    "#512+128 =  640\n",
    "\n",
    "c"
   ]
  },
  {
   "cell_type": "code",
   "execution_count": null,
   "metadata": {},
   "outputs": [],
   "source": [
    "d=0o0222\n",
    "#8^3*0 + 8^2*2 + 8^1*2 + 8^0*2\n",
    "#64*2 + 8*2 + 1*2\n",
    "#146\n",
    "\n",
    "d"
   ]
  },
  {
   "cell_type": "markdown",
   "metadata": {},
   "source": [
    "## Hexa\n",
    "\n",
    "- Base is 16\n",
    "\n",
    "- Allowed digits are 0 to 9 & A to F(i.e., 10 to 15)\n",
    "\n",
    "- Representation- 0x12ab, 0xab23..(starting with '0x')\n",
    "\n"
   ]
  },
  {
   "cell_type": "code",
   "execution_count": null,
   "metadata": {},
   "outputs": [],
   "source": [
    "0xabc\n",
    "\n",
    "#16^2 * 10 + 16^1 *11 + 16^0 *12\n",
    "#256*10 + 176 + 12\n",
    "#2560 +188 = 2748"
   ]
  },
  {
   "cell_type": "markdown",
   "metadata": {},
   "source": [
    "##Decimal\n",
    "- Base is 10\n",
    "\n",
    "- Allowed digits (0 to 9)\n",
    "\n",
    "- Representation- 3214, 543.21..."
   ]
  },
  {
   "cell_type": "markdown",
   "metadata": {},
   "source": [
    "# Any Input to Decimal value\n",
    "a=0b101\n",
    "a\n",
    "#Binary is converted to decimal form"
   ]
  },
  {
   "cell_type": "code",
   "execution_count": null,
   "metadata": {},
   "outputs": [],
   "source": [
    "a=0o2345\n",
    "a\n",
    "#octal->Decimal"
   ]
  },
  {
   "cell_type": "code",
   "execution_count": null,
   "metadata": {},
   "outputs": [],
   "source": [
    "a=0x123\n",
    "a\n",
    "#Hexa->Decimal"
   ]
  },
  {
   "cell_type": "markdown",
   "metadata": {},
   "source": [
    "##Note\n",
    "\n",
    "- Whatever might be the I/p(i.e.,Octal or hexal or binary) , o/p returned is decimal value only "
   ]
  },
  {
   "cell_type": "markdown",
   "metadata": {},
   "source": [
    "# Binary to Octal\n",
    "a=0b101\n",
    "b=oct(a)\n",
    "b"
   ]
  },
  {
   "cell_type": "code",
   "execution_count": null,
   "metadata": {},
   "outputs": [],
   "source": [
    "b=0o5\n",
    "b"
   ]
  },
  {
   "cell_type": "markdown",
   "metadata": {},
   "source": [
    "From above example, PFB observations\n",
    "- 0b101 --> Binary = (5), since 0b represents Binary\n",
    "- 0o5 ----> Octal  = (5), since 0o represents octal"
   ]
  },
  {
   "cell_type": "markdown",
   "metadata": {},
   "source": [
    "# Binary to Hexa\n",
    "a=0b101\n",
    "b=hex(a)\n",
    "b"
   ]
  },
  {
   "cell_type": "code",
   "execution_count": null,
   "metadata": {},
   "outputs": [],
   "source": [
    "b=0x5\n",
    "b"
   ]
  },
  {
   "cell_type": "markdown",
   "metadata": {},
   "source": [
    "From above ex, PFB obs's\n",
    "\n",
    "- 0b101-->Binary =(5), since 0b represents binary\n",
    "\n",
    "- 0x5-->Hexa=(5), since 0x represents hexa"
   ]
  },
  {
   "cell_type": "markdown",
   "metadata": {},
   "source": [
    "- From both cases(Binary to octal & Binary to hexa) value derived is 5.. Indirectly, both are same(5)"
   ]
  },
  {
   "cell_type": "code",
   "execution_count": null,
   "metadata": {},
   "outputs": [],
   "source": [
    "a=0b001\n",
    "b=oct(a)\n",
    "c=hex(a)\n",
    "b,c\n",
    "\n",
    "#0b001 ->2(binary)\n",
    "\n",
    "#oct(a)-> 0o1 ->2(Octal)\n",
    "\n",
    "#Hex(a)-> 0x1 ->2(Hex)\n"
   ]
  },
  {
   "cell_type": "code",
   "execution_count": 1,
   "metadata": {},
   "outputs": [
    {
     "data": {
      "text/plain": [
       "1"
      ]
     },
     "execution_count": 1,
     "metadata": {},
     "output_type": "execute_result"
    }
   ],
   "source": [
    "a=0o1\n",
    "a"
   ]
  },
  {
   "cell_type": "code",
   "execution_count": 2,
   "metadata": {},
   "outputs": [
    {
     "data": {
      "text/plain": [
       "1"
      ]
     },
     "execution_count": 2,
     "metadata": {},
     "output_type": "execute_result"
    }
   ],
   "source": [
    "b=0x1\n",
    "b"
   ]
  },
  {
   "cell_type": "code",
   "execution_count": null,
   "metadata": {},
   "outputs": [],
   "source": [
    "#Note:-\n",
    "\n",
    "- In both the cases, value is same (1)"
   ]
  },
  {
   "cell_type": "markdown",
   "metadata": {},
   "source": [
    "# Octal to binary & hexa\n"
   ]
  },
  {
   "cell_type": "code",
   "execution_count": 3,
   "metadata": {},
   "outputs": [
    {
     "data": {
      "text/plain": [
       "'0b1010011100'"
      ]
     },
     "execution_count": 3,
     "metadata": {},
     "output_type": "execute_result"
    }
   ],
   "source": [
    "a=0o1234\n",
    "b=bin(a)\n",
    "b"
   ]
  },
  {
   "cell_type": "code",
   "execution_count": 4,
   "metadata": {},
   "outputs": [
    {
     "data": {
      "text/plain": [
       "'0x29c'"
      ]
     },
     "execution_count": 4,
     "metadata": {},
     "output_type": "execute_result"
    }
   ],
   "source": [
    "a=0o1234\n",
    "c=hex(a)\n",
    "c"
   ]
  },
  {
   "cell_type": "code",
   "execution_count": 5,
   "metadata": {},
   "outputs": [
    {
     "data": {
      "text/plain": [
       "(668, '0b1010011100', '0x29c')"
      ]
     },
     "execution_count": 5,
     "metadata": {},
     "output_type": "execute_result"
    }
   ],
   "source": [
    "a,b,c\n"
   ]
  },
  {
   "cell_type": "code",
   "execution_count": null,
   "metadata": {},
   "outputs": [],
   "source": [
    "a=668\n",
    "b=0b1010011100\n",
    "#1 0 1 0 0 1 1 1 0 0 ->512 +128+ 16 + 8 + 4 =  668\n",
    "c=0x29c\n",
    "# 2 9 c-> 16^2 * 2 + 16^1 *  9 + 16^0 *12 == 512 + 144 +12 ==  668\n",
    "a,b,c\n",
    "\n"
   ]
  },
  {
   "cell_type": "markdown",
   "metadata": {},
   "source": [
    "# Hexa to Octal & Binary"
   ]
  },
  {
   "cell_type": "code",
   "execution_count": 6,
   "metadata": {},
   "outputs": [
    {
     "data": {
      "text/plain": [
       "'0o125715'"
      ]
     },
     "execution_count": 6,
     "metadata": {},
     "output_type": "execute_result"
    }
   ],
   "source": [
    "a=0xABCD\n",
    "b=oct(a)\n",
    "b"
   ]
  },
  {
   "cell_type": "code",
   "execution_count": 7,
   "metadata": {},
   "outputs": [
    {
     "data": {
      "text/plain": [
       "'0b1010101111001101'"
      ]
     },
     "execution_count": 7,
     "metadata": {},
     "output_type": "execute_result"
    }
   ],
   "source": [
    "a=0xABCD\n",
    "b=bin(a)\n",
    "b"
   ]
  },
  {
   "cell_type": "code",
   "execution_count": null,
   "metadata": {},
   "outputs": [],
   "source": [
    "a=0o125715\n",
    "a"
   ]
  },
  {
   "cell_type": "code",
   "execution_count": null,
   "metadata": {},
   "outputs": [],
   "source": [
    "b=0b1010101111001101\n",
    "b"
   ]
  },
  {
   "cell_type": "code",
   "execution_count": null,
   "metadata": {},
   "outputs": [],
   "source": [
    "- Binary to Octal & Hexa\n",
    "\n",
    "- Octal to Binary & Hexa\n",
    "\n",
    "- Hexa to Octary & Binary\n",
    "\n",
    "- In all above 3 cases, Values will be same"
   ]
  },
  {
   "cell_type": "markdown",
   "metadata": {},
   "source": [
    "# Date:- Feb 2nd, 2022\n"
   ]
  },
  {
   "cell_type": "code",
   "execution_count": null,
   "metadata": {},
   "outputs": [],
   "source": [
    "##Print Statement\n",
    "\n",
    "- Statements in print should be single quoted/double quoted(In Code form)"
   ]
  },
  {
   "cell_type": "code",
   "execution_count": null,
   "metadata": {},
   "outputs": [],
   "source": [
    "#ex---for above case\n",
    "'Hello hwruh'"
   ]
  },
  {
   "cell_type": "code",
   "execution_count": null,
   "metadata": {},
   "outputs": [],
   "source": [
    "print('agd adj')"
   ]
  },
  {
   "cell_type": "code",
   "execution_count": 1,
   "metadata": {},
   "outputs": [
    {
     "name": "stdout",
     "output_type": "stream",
     "text": [
      "15\n",
      "the addition of 2 no.s is 15\n",
      "the addition of 2 no.s is = 15\n",
      "the addition of 2 no.s is : 15\n"
     ]
    }
   ],
   "source": [
    "#addition of no.s using print stmnt \n",
    "a=5\n",
    "b=10\n",
    "c=a+b\n",
    "print(c)\n",
    "print('the addition of 2 no.s is', c)\n",
    "print('the addition of 2 no.s is =',c)\n",
    "print('the addition of 2 no.s is :', c)"
   ]
  },
  {
   "cell_type": "code",
   "execution_count": 8,
   "metadata": {},
   "outputs": [
    {
     "name": "stdout",
     "output_type": "stream",
     "text": [
      "11\n"
     ]
    }
   ],
   "source": [
    "#print stmnt\n",
    "a=0b1011\n",
    "print(a)"
   ]
  },
  {
   "cell_type": "code",
   "execution_count": 9,
   "metadata": {},
   "outputs": [
    {
     "name": "stdout",
     "output_type": "stream",
     "text": [
      "the decimal value of a is 11\n"
     ]
    }
   ],
   "source": [
    "#print\n",
    "a=0b1011\n",
    "print('the decimal value of a is', a)"
   ]
  },
  {
   "cell_type": "code",
   "execution_count": null,
   "metadata": {},
   "outputs": [],
   "source": [
    "#print\n",
    "a=0o123\n",
    "print(a)"
   ]
  },
  {
   "cell_type": "code",
   "execution_count": null,
   "metadata": {},
   "outputs": [],
   "source": [
    "print('the decimal value of a is', a)"
   ]
  },
  {
   "cell_type": "code",
   "execution_count": null,
   "metadata": {},
   "outputs": [],
   "source": [
    "course='Btech','Mtech','PGDM'\n",
    "college='CMR','MRIT','IIRM'\n",
    "City='Hyd','Hyd','Knr'\n",
    "Pincode='500085','500085','505001'\n",
    "#using print stmmnt\n",
    "print(course)\n",
    "print(college)\n",
    "print(City)\n",
    "print(Pincode)\n",
    "#Print stmnt using single & double quotations with comma\n",
    "print(\"Courses offered are\",course)\n",
    "print('Courses offered are',course)\n",
    "#print stmnt using colon\n",
    "print('Courses offered are:',course)\n",
    "print(\"Courses offered are:\",course)\n",
    "#\n",
    "print('Courses offered are=',course)\n",
    "print(\"Courses offered are=\",course)\n"
   ]
  },
  {
   "cell_type": "markdown",
   "metadata": {},
   "source": [
    "##Float\n",
    "\n",
    "- Numbers allowed are decimal values(ex-1.23)"
   ]
  },
  {
   "cell_type": "code",
   "execution_count": 10,
   "metadata": {},
   "outputs": [
    {
     "name": "stdout",
     "output_type": "stream",
     "text": [
      "the type of a is <class 'float'>\n"
     ]
    }
   ],
   "source": [
    "#print float no\n",
    "a=1.23\n",
    "print('the type of a is',type(a))"
   ]
  },
  {
   "cell_type": "code",
   "execution_count": 11,
   "metadata": {},
   "outputs": [
    {
     "name": "stdout",
     "output_type": "stream",
     "text": [
      "the type of a is: <class 'int'>\n"
     ]
    }
   ],
   "source": [
    "#print integer no.\n",
    "a=129\n",
    "print('the type of a is:',type(a))"
   ]
  },
  {
   "cell_type": "markdown",
   "metadata": {},
   "source": [
    "##String\n",
    "\n",
    "- Allowed values are characters\n",
    "\n",
    "- Represented in single & double quotations"
   ]
  },
  {
   "cell_type": "code",
   "execution_count": 12,
   "metadata": {},
   "outputs": [
    {
     "data": {
      "text/plain": [
       "str"
      ]
     },
     "execution_count": 12,
     "metadata": {},
     "output_type": "execute_result"
    }
   ],
   "source": [
    "#example of string\n",
    "a='hello'\n",
    "type(a)"
   ]
  },
  {
   "cell_type": "code",
   "execution_count": 13,
   "metadata": {},
   "outputs": [
    {
     "data": {
      "text/plain": [
       "str"
      ]
     },
     "execution_count": 13,
     "metadata": {},
     "output_type": "execute_result"
    }
   ],
   "source": [
    "#ex of string\n",
    "a=\"hello\"\n",
    "type(a)\n"
   ]
  },
  {
   "cell_type": "code",
   "execution_count": 14,
   "metadata": {},
   "outputs": [
    {
     "name": "stdout",
     "output_type": "stream",
     "text": [
      "the type of a is: <class 'str'>\n"
     ]
    }
   ],
   "source": [
    "a=\"hello\"\n",
    "\n",
    "print(\"the type of a is:\",type(a))\n"
   ]
  },
  {
   "cell_type": "code",
   "execution_count": 15,
   "metadata": {},
   "outputs": [
    {
     "name": "stdout",
     "output_type": "stream",
     "text": [
      "the value of a is: hello there how are you 'Im fine',what about you?\n"
     ]
    }
   ],
   "source": [
    "# To highlight a word(I'm fine) in the sentence enclosed by double quotes\n",
    "a=\"hello there how are you 'Im fine',what about you?\"\n",
    "a\n",
    "print(\"the value of a is:\", a)"
   ]
  },
  {
   "cell_type": "code",
   "execution_count": 16,
   "metadata": {},
   "outputs": [
    {
     "name": "stdout",
     "output_type": "stream",
     "text": [
      "The value of a is hello there how are you \"Im fine\",what about you?\n"
     ]
    }
   ],
   "source": [
    "# To highlight a word(I'm fine) in the sentence enclosed by single quote\n",
    "a='hello there how are you \"Im fine\",what about you?'\n",
    "a\n",
    "print('The value of a is', a)"
   ]
  },
  {
   "cell_type": "code",
   "execution_count": null,
   "metadata": {},
   "outputs": [],
   "source": [
    "#In order to print in such below sequence, triple quotes is advisable\n",
    "#using triple quotes\n",
    "a=\"\"\"In which company \n",
    "        are you working\"\"\"\n",
    "print(a)"
   ]
  },
  {
   "cell_type": "code",
   "execution_count": null,
   "metadata": {},
   "outputs": [],
   "source": [
    "a=\"\"\"In which company \n",
    "        are you working\n",
    "            I'm working at VAM\"\"\"\n",
    "print(a)"
   ]
  },
  {
   "cell_type": "code",
   "execution_count": 17,
   "metadata": {},
   "outputs": [
    {
     "name": "stdout",
     "output_type": "stream",
     "text": [
      "The addition of num1 & num2 is 90\n",
      "The subtraction of num1 & num2 is 10\n",
      "The multiplication of num1 & num2 is 2000\n"
     ]
    }
   ],
   "source": [
    "#To print addn ,sub&mult of a given no.s \n",
    "#num1=50, num2=40\n",
    "#Expected O/P:-\n",
    "#   The addition of num1 & num2 is 90\n",
    "#  The subtraction of num1 & num2 is 10\n",
    "# The multiplication of num1 & num2 is 2000\n",
    "    \n",
    "num1=50\n",
    "num2=40\n",
    "sum1=num1+num2\n",
    "sub=num1-num2\n",
    "mul=num1*num2\n",
    "print('The addition of num1 & num2 is',sum1)\n",
    "print('The subtraction of num1 & num2 is',sub)\n",
    "print('The multiplication of num1 & num2 is',mul)"
   ]
  },
  {
   "cell_type": "code",
   "execution_count": 18,
   "metadata": {},
   "outputs": [
    {
     "name": "stdout",
     "output_type": "stream",
     "text": [
      "Person Name is XYZ\n",
      "Lives in: Hyderabad city\n",
      "Flat no. is= 504\n"
     ]
    }
   ],
   "source": [
    "#To print a person whose name is XYZ who lives in city Hyderabad in flat no. 504\n",
    "#Expected O/P\n",
    "# Person name  is XYZ\n",
    "# Lives in Hyderabad city\n",
    "# Flat no. 504\n",
    "\n",
    "PersonName='XYZ'\n",
    "CityName='Hyderabad city'\n",
    "Flatno='504'\n",
    "print(\"Person Name is\",PersonName)\n",
    "print(\"Lives in:\",CityName)\n",
    "print(\"Flat no. is=\",Flatno)"
   ]
  },
  {
   "cell_type": "markdown",
   "metadata": {},
   "source": [
    "##complex conjugate\n",
    "\n",
    "- It is in form of a+bj where a is real no. \n",
    "\n",
    "- b is complex no. or imaginary no.\n",
    "\n",
    "- j is root(-1)"
   ]
  },
  {
   "cell_type": "code",
   "execution_count": null,
   "metadata": {},
   "outputs": [],
   "source": [
    "#ex-1 for complex no.\n",
    "a=3+4j\n",
    "type(a)"
   ]
  },
  {
   "cell_type": "code",
   "execution_count": null,
   "metadata": {},
   "outputs": [],
   "source": [
    "#to print real no.\n",
    "a.real"
   ]
  },
  {
   "cell_type": "code",
   "execution_count": null,
   "metadata": {},
   "outputs": [],
   "source": [
    "#to print imgnry or cmplx no.\n",
    "a.imag"
   ]
  },
  {
   "cell_type": "code",
   "execution_count": null,
   "metadata": {},
   "outputs": [],
   "source": [
    "#Using print statment to print imaginary no.\n",
    "print('the value of imaginary no. is=',a.imag)"
   ]
  },
  {
   "cell_type": "code",
   "execution_count": null,
   "metadata": {},
   "outputs": [],
   "source": [
    "#Using print stmnt to print real no.\n",
    "print('The value of real is',a.real)"
   ]
  },
  {
   "cell_type": "code",
   "execution_count": 20,
   "metadata": {},
   "outputs": [
    {
     "data": {
      "text/plain": [
       "complex"
      ]
     },
     "execution_count": 20,
     "metadata": {},
     "output_type": "execute_result"
    }
   ],
   "source": [
    "#ex-2 for complex no.\n",
    "b=-5-9j\n",
    "type(b)\n"
   ]
  },
  {
   "cell_type": "code",
   "execution_count": 21,
   "metadata": {},
   "outputs": [
    {
     "name": "stdout",
     "output_type": "stream",
     "text": [
      "The value of real no. is -5.0\n",
      "The value of imaginary no. is -9.0\n"
     ]
    }
   ],
   "source": [
    "#print real no. using print stmnt\n",
    "print('The value of real no. is',b.real)\n",
    "print('The value of imaginary no. is',b.imag)"
   ]
  },
  {
   "cell_type": "code",
   "execution_count": 22,
   "metadata": {},
   "outputs": [
    {
     "name": "stdout",
     "output_type": "stream",
     "text": [
      "Hello\n",
      "howruh\n"
     ]
    }
   ],
   "source": [
    "print(\"Hello\")\n",
    "print(\"howruh\")"
   ]
  },
  {
   "cell_type": "code",
   "execution_count": 23,
   "metadata": {},
   "outputs": [
    {
     "name": "stdout",
     "output_type": "stream",
     "text": [
      "Hellohow are uh\n"
     ]
    }
   ],
   "source": [
    "# ex-1--To print 2 statements in same line --- end operator is used \n",
    "print(\"Hello\",end='')\n",
    "print(\"how are uh\")\n",
    "\n",
    "#Two sentences are merged using end operator with no space"
   ]
  },
  {
   "cell_type": "code",
   "execution_count": 24,
   "metadata": {},
   "outputs": [
    {
     "name": "stdout",
     "output_type": "stream",
     "text": [
      "Hello how are uh\n"
     ]
    }
   ],
   "source": [
    "#Two stmnts are merged using end operator with single space\n",
    "print(\"Hello\",end=' ')\n",
    "print(\"how are uh\")\n"
   ]
  },
  {
   "cell_type": "code",
   "execution_count": 25,
   "metadata": {},
   "outputs": [
    {
     "name": "stdout",
     "output_type": "stream",
     "text": [
      "Hello&how are you\n"
     ]
    }
   ],
   "source": [
    "#By using and(&)operator in end \n",
    "print(\"Hello\",end='&')\n",
    "print(\"how are you\")"
   ]
  },
  {
   "cell_type": "code",
   "execution_count": null,
   "metadata": {},
   "outputs": [],
   "source": [
    "#ex-2 -end operator\n",
    "a=4+5j\n",
    "print('The value of real number is',a.real,end=' ')\n",
    "print('The value of imaginary number is',a.imag)"
   ]
  },
  {
   "cell_type": "code",
   "execution_count": null,
   "metadata": {},
   "outputs": [],
   "source": [
    "#Instead of using 2 print stmnts, using 1 print stmnt , use format operator\n",
    "ex-1\n",
    "#The value of real number is 4.0&The value of imaginary number is 5.0\n",
    "#The value of real number is {} & The value of imaginary number is {} \n",
    "# Instead of values, give empty curly braces followed by .format()\n",
    "\n",
    "print(\"The value of real number is {} & The value of imaginary number is {}\".format(a.real,a.imag))\n",
    "\n",
    "\n"
   ]
  },
  {
   "cell_type": "markdown",
   "metadata": {},
   "source": [
    "# Date:-Feb 4th,2022"
   ]
  },
  {
   "cell_type": "code",
   "execution_count": 26,
   "metadata": {
    "scrolled": true
   },
   "outputs": [
    {
     "name": "stdout",
     "output_type": "stream",
     "text": [
      "the value of real no.is 10.0&the value of imaginary no. is 14.0\n"
     ]
    }
   ],
   "source": [
    "#Ex--2\n",
    "b=10+14j\n",
    "print(\"the value of real no.is\",b.real,end='&')\n",
    "print(\"the value of imaginary no. is\",b.imag)"
   ]
  },
  {
   "cell_type": "code",
   "execution_count": null,
   "metadata": {},
   "outputs": [],
   "source": [
    "#using format operator\n",
    "print(\"the value of real no.is {}&the value of imaginary no. is {}\".format(b.real,b.imag))\n"
   ]
  },
  {
   "cell_type": "code",
   "execution_count": null,
   "metadata": {},
   "outputs": [],
   "source": [
    "#(using print,end & format operator)\n",
    "d=100+108j\n",
    "#Case---1\n",
    "print(\"real no. is:\",d.real)\n",
    "print(\"imaginary no. is:\",d.imag)\n",
    "print(\"the value of real no. is\",d.real)\n",
    "print(\"the value of imaginary no. is\",d.imag)\n",
    "#Case---2\n",
    "#using end with & operator\n",
    "print(\"the value of real no is\",d.real,end='&')\n",
    "print(\"the value of imaginary no. is\",d.imag)\n",
    "#using end with no space''\n",
    "print(\"the value of real no is\",d.real,end='')\n",
    "print(\"the value of imaginary no. is\",d.imag)\n",
    "#using end with single space ' '\n",
    "print(\"the value of real no is\",d.real,end=' ')\n",
    "print(\"the value of imaginary no. is\",d.imag)\n",
    "#Case---3 (Format operator)\n",
    "print(\"the value of real no is {}&the value of imaginary no. is {}\".format(d.real,d.imag))\n"
   ]
  },
  {
   "cell_type": "code",
   "execution_count": null,
   "metadata": {},
   "outputs": [],
   "source": [
    "#Using print,end&format operator\n",
    "num1=10\n",
    "num2=30\n",
    "sum1=num1+num2\n",
    "sub2=num2-num1\n",
    "#using print\n",
    "print(\"number1 is:\",num1)\n",
    "print(\"number 2 is:\",num2)\n",
    "\n",
    "print(\"the sum of number1 & number2 is=\",sum1)\n",
    "print(\"the sub of number1 & number2 is=\",sub2)\n",
    "\n",
    "#end \n",
    "print(\"number1 is:\",num1,end=' &')\n",
    "print(\"number 2 is:\",num2)\n",
    "\n",
    "#using end operator (&)\n",
    "print(\"the sum of number1 & number2 is=\",sum1,end=' & ')\n",
    "print(\"the sub of number1 & number2 is=\",sub2)\n",
    "#using end operator ('')\n",
    "print(\"the sum of number1 & number2 is=\",sum1,end='')\n",
    "print(\"the sub of number1 & number2 is=\",sub2)\n",
    "#using end operator(' ') \n",
    "print(\"the sum of number1 & number2 is=\",sum1,end='  ')\n",
    "print(\"the sub of number1 & number2 is=\",sub2)\n",
    "\n",
    "#using format operator (.format())\n",
    "print(\"the sum of {} & {} is={}\".format(num1,num2,sum1))\n",
    "print(\"the sub of {} & {} is={}\".format(num1,num2,sub2))\n",
    "\n"
   ]
  },
  {
   "cell_type": "code",
   "execution_count": null,
   "metadata": {},
   "outputs": [],
   "source": [
    "#Total &avg of 2 numbers using format operator\n",
    "num1=20\n",
    "num2=30\n",
    "total=num1+num2\n",
    "avg=total/2\n",
    "print('the total of num1 & num2 is:',total)\n",
    "print('the avg of num1 & num2 is:',avg)\n",
    "print('The total of {} & {} is {}'.format(num1,num2,total))\n",
    "print('The average of {} & {} is {}'.format(num1,num2,avg))\n",
    "print(\"the total & average of {} & {} is {} & {} \".format(num1,num2,total,avg))\n",
    "print(\"the total is {} & the average is {}\".format(total,avg))"
   ]
  },
  {
   "cell_type": "code",
   "execution_count": null,
   "metadata": {},
   "outputs": [],
   "source": [
    "#Total & avg of 2 numbers using end operator\n",
    "num1=20\n",
    "num2=30\n",
    "total=num1+num2\n",
    "avg=(num1+num2)/2\n",
    "\n",
    "#using end operator(&)\n",
    "print('The total of num1:',end='&')\n",
    "print('The total of num2:',total)\n",
    "#using end operator( )\n",
    "print('The total of num1:',end=' ')\n",
    "print('The total of num2:',total)\n",
    "#using end operator()\n",
    "print('The total of num1:',end='')\n",
    "print('The total of num2:',total)\n",
    "\n",
    "#using end operator(&)\n",
    "print(\"The average of num1 is\",end='&')\n",
    "print(\"The average of num2 is:\",avg)\n",
    "#using end operator( )\n",
    "print(\"The average of num1 is\",end=' ')\n",
    "print(\"The average of num2 is:\",avg)\n",
    "#using end operator()\n",
    "print(\"The average of num1 is\",end='')\n",
    "print(\"The average of num2 is:\",avg)\n"
   ]
  },
  {
   "cell_type": "code",
   "execution_count": 2,
   "metadata": {},
   "outputs": [
    {
     "name": "stdout",
     "output_type": "stream",
     "text": [
      "num1 is: 12\n",
      "The square of num1 is: 144\n",
      "the square of 12 is: 144 \n"
     ]
    }
   ],
   "source": [
    "#to find square of  a number\n",
    "num1=12\n",
    "square_no=num1*num1\n",
    "print('num1 is:',num1)\n",
    "print('The square of num1 is:',square_no)\n",
    "print(\"the square of {} is: {} \".format(num1,square_no))"
   ]
  },
  {
   "cell_type": "markdown",
   "metadata": {},
   "source": [
    "# using input statement"
   ]
  },
  {
   "cell_type": "code",
   "execution_count": null,
   "metadata": {},
   "outputs": [],
   "source": [
    "input(\"enter a number:\")"
   ]
  },
  {
   "cell_type": "code",
   "execution_count": null,
   "metadata": {},
   "outputs": [],
   "source": [
    "#assigning it to 'n'\n",
    "n=input(\"enter a number:\")\n"
   ]
  },
  {
   "cell_type": "code",
   "execution_count": null,
   "metadata": {},
   "outputs": [],
   "source": [
    "#To store value in a variable\n",
    "n"
   ]
  },
  {
   "cell_type": "code",
   "execution_count": null,
   "metadata": {},
   "outputs": [],
   "source": [
    "#Addition of 2 numbers\n",
    "num1=input(\"Enter num1:\")\n",
    "num2=input(\"Enter num2:\")\n",
    "print('the number is:',num1)\n",
    "print('the number is:',num2)\n",
    "\n"
   ]
  },
  {
   "cell_type": "markdown",
   "metadata": {},
   "source": [
    "# Date:-Feb 5th,2022"
   ]
  },
  {
   "cell_type": "code",
   "execution_count": null,
   "metadata": {},
   "outputs": [],
   "source": [
    "type(num1),type(num2)"
   ]
  },
  {
   "cell_type": "code",
   "execution_count": null,
   "metadata": {},
   "outputs": [],
   "source": [
    "a=8\n",
    "type(a)"
   ]
  },
  {
   "cell_type": "code",
   "execution_count": null,
   "metadata": {},
   "outputs": [],
   "source": [
    "#Addition of 2 numbers\n",
    "# string type is converted to integer by giving int()\n",
    "num1=int(input(\"Enter num1:\"))\n",
    "num2=int(input(\"Enter num2:\"))\n",
    "print('the number is:',num1)\n",
    "print('the number is:',num2)\n",
    "sum1=num1+num2\n",
    "print('the sum is:',sum1)\n"
   ]
  },
  {
   "cell_type": "code",
   "execution_count": null,
   "metadata": {},
   "outputs": [],
   "source": [
    "n=input(\"Enter a no.\")\n",
    "b=input(\"Enter a no.\")\n",
    "type(n),type(b)\n",
    "\n",
    "#Here, n &b are considered as string. "
   ]
  },
  {
   "cell_type": "code",
   "execution_count": null,
   "metadata": {},
   "outputs": [],
   "source": [
    "#In order to covert the above 2 values(n&b) into integer, use int()\n",
    "\n",
    "n=int(input(\"Enter a number :\"))\n",
    "b=int(input(\"Enter a number :\"))\n",
    "type(n),type(b)"
   ]
  },
  {
   "cell_type": "code",
   "execution_count": null,
   "metadata": {},
   "outputs": [],
   "source": [
    "#To find sum & average of 3 numbers using Input\n",
    "\n",
    "a=int(input(\"Enter a number: \"))\n",
    "b=int(input(\"Enter a number: \"))\n",
    "c=int(input(\"Enter a number: \"))\n",
    "sum1=a+b+c\n",
    "print(\"the sum of 3 numbers is:\",sum1)\n",
    "average=sum1/3\n",
    "print(\"the average of 3 numbers is:\",average)"
   ]
  },
  {
   "cell_type": "code",
   "execution_count": null,
   "metadata": {},
   "outputs": [],
   "source": [
    "#To find sum & average of 3 no.s using Input , end & format\n",
    "a=int(input(\"Enter a number: \"))\n",
    "b=int(input(\"Enter a number: \"))\n",
    "c=int(input(\"Enter a number: \"))\n",
    "sum1=a+b+c\n",
    "average=sum1/3\n",
    "#using end\n",
    "print(\"The sum of 3 numbers is:\",sum1,end=' & ')\n",
    "print(\"The average of 3 numbers is:\",average)\n",
    "#using format operator\n",
    "print('The average of {} {} {} is:{}'.format(a,b,c,average))\n",
    "print('The sum of {} {} {} is:{}'.format(a,b,c,sum1))\n",
    "print('the sum is {} & the average is {}'.format(sum1,average))"
   ]
  },
  {
   "cell_type": "code",
   "execution_count": null,
   "metadata": {},
   "outputs": [],
   "source": [
    "#To find addition,subtraction,multiplication of 3 numbers using Input ,format&end operator \n",
    "a=int(input(\"Enter a number\"))\n",
    "b=int(input(\"Enter a number\"))\n",
    "c=int(input(\"Enter a number\"))\n",
    "sum1=a+b+c\n",
    "sub1=a-b-c\n",
    "mult1=a*b*c\n",
    "\n",
    "#using print & without format operator\n",
    "print('The addition of 3 numbers is:',sum1)\n",
    "print('The subtraction of 3 numbers is:',sub1)\n",
    "print('The multiplication of 3 numbers is:',mult1)\n",
    "\n",
    "#using format operator\n",
    "print('The addition of {} {} {} is {}'.format(a,b,c,sum1))\n",
    "print('The subtraction of {} {} {} is {}'.format(a,b,c,sub1))\n",
    "print('The multiplication of {} {} {} is {}'.format(a,b,c,mult1))\n",
    "\n",
    "#using format operator\n",
    "print('The addition is {} ,The subtraction is {} & The multiplication is {}'.format(sum1,sub1,mult1))\n",
    "\n",
    "#using end operator\n",
    "print('The addition of 3 no.s is',sum1,end=',')\n",
    "print('The subtraction of 3 no.s is',sub1,end=' & ')\n",
    "print('The multiplication of 3 no.s is',mult1)"
   ]
  },
  {
   "cell_type": "markdown",
   "metadata": {},
   "source": [
    "# Float data type"
   ]
  },
  {
   "cell_type": "code",
   "execution_count": null,
   "metadata": {},
   "outputs": [],
   "source": [
    "#Ex--1\n",
    "a=float(input(\"Enter a number: \"))\n",
    "b=float(input(\"Enter a number: \"))\n",
    "a+b"
   ]
  },
  {
   "cell_type": "code",
   "execution_count": null,
   "metadata": {},
   "outputs": [],
   "source": [
    "#Ex--2\n",
    "a=float(input(\"Enter a number: \"))\n",
    "b=float(input(\"Enter a number: \"))\n",
    "print(\"The addn is:\",a+b)\n",
    "print(\"The sub is:\",a-b)\n",
    "print(\"the mult is :\",a*b)"
   ]
  },
  {
   "cell_type": "markdown",
   "metadata": {},
   "source": [
    "#Note:--Instead of giving integer or float data type everytime ,\" eval\" can be used\n",
    "\n",
    "- If input entered is int, eval automatically consider the value as integer\n",
    "\n",
    "- If input entered is float, eval automatically consider it as float\n",
    "\n",
    "- String is not allowed"
   ]
  },
  {
   "cell_type": "code",
   "execution_count": null,
   "metadata": {},
   "outputs": [],
   "source": [
    "#using \"eval\"( given integer values while  running)\n",
    "a=eval(input(\"Enter a no.: \"))\n",
    "b=eval(input(\"Enter a no.: \"))\n",
    "print(a+b)\n",
    "print(a*b)\n",
    "\n",
    "#using eval(given float values while running)\n",
    "a=eval(input(\"Enter a no.: \"))\n",
    "b=eval(input(\"Enter a no.: \"))\n",
    "print(a+b)\n",
    "print(a*b)\n",
    "\n",
    "#using eval(given one int & one float value while running)\n",
    "a=eval(input(\"Enter a no.: \"))\n",
    "b=eval(input(\"Enter a no.: \"))\n",
    "print(a+b)\n",
    "print(a*b)\n",
    "\n",
    "#String is passed here (But error occured since string value is not accepted by \"eval\")\n",
    "a=eval(input(\"Enter a number:\"))\n",
    "b=int(input(\"Enter a number:\"))\n",
    "print(a+b)\n",
    "\n",
    "\n",
    "#Note-- Whatever might be the data type, eval adapts to it & works accordingly"
   ]
  },
  {
   "cell_type": "markdown",
   "metadata": {},
   "source": [
    "# Date:-Feb 7th,2022"
   ]
  },
  {
   "cell_type": "code",
   "execution_count": null,
   "metadata": {},
   "outputs": [],
   "source": [
    "n1=int(input(\"Enter a no.\"))\n",
    "n2=eval(input(\"Enter a no.\"))\n",
    "print(n1+n2)"
   ]
  },
  {
   "cell_type": "code",
   "execution_count": null,
   "metadata": {},
   "outputs": [],
   "source": [
    "n1=input(\"Enter a no.\")\n",
    "n2=eval(input(\"Enter a no.\"))\n",
    "print(n1+n2)\n",
    "\n",
    "#error occured-- since integer & string values can't be concatenated"
   ]
  },
  {
   "cell_type": "code",
   "execution_count": null,
   "metadata": {},
   "outputs": [],
   "source": [
    "# WAP to find average of 3 numbers by using eval \n",
    "num1=eval(input(\"Enter a number: \"))\n",
    "num2=eval(input(\"Enter a number: \"))\n",
    "num3=eval(input(\"Enter a number: \"))\n",
    "sum1=num1+num2+num3\n",
    "average=sum1/3\n",
    "print(\"The average of 3 numbers is: \",average)\n",
    "#using format\n",
    "print(\"The average of {} {} {} is {}:\".format(num1,num2,num3,average))"
   ]
  },
  {
   "cell_type": "code",
   "execution_count": null,
   "metadata": {},
   "outputs": [],
   "source": [
    "#WAP to calculate total salary based on no. of hours, enter no. of hrs worked &rate per hour\n",
    "#rate per hour =500 \n",
    "\n",
    "n=int(input(\"Enter no. of hours: \"))\n",
    "rph=500\n",
    "print(\"rate per hour is: \",rph)\n",
    "print(\"The total salary is: \",n*rph)\n"
   ]
  },
  {
   "cell_type": "code",
   "execution_count": null,
   "metadata": {},
   "outputs": [],
   "source": [
    "#Include tax (10%) & calculate tax based on salary \n",
    "\n",
    "n=int(input(\"Enter no. of hours: \"))\n",
    "rph=int(input(\"Enter rate per hour:\" ))\n",
    "tax=int(input(\"Enter tax per year: \"))\n",
    "salary=(n*rph)\n",
    "tax_payable=salary*tax/100\n",
    "print(\"The total salary is: \",salary,\"/-\")\n",
    "print(\"Tax payable per year is: \",tax_payable,\"/-\")"
   ]
  },
  {
   "cell_type": "code",
   "execution_count": null,
   "metadata": {},
   "outputs": [],
   "source": [
    "print(\"The addition of 3+4 is:\",7)"
   ]
  },
  {
   "cell_type": "code",
   "execution_count": null,
   "metadata": {},
   "outputs": [],
   "source": [
    "#to print (full stop .) after 3+4\n",
    "print(\"The addition of 3+4 is:\",3+4,\".\")"
   ]
  },
  {
   "cell_type": "code",
   "execution_count": null,
   "metadata": {},
   "outputs": [],
   "source": [
    "# Separator opeartor(sep)\n",
    "\n",
    "- "
   ]
  },
  {
   "cell_type": "code",
   "execution_count": 2,
   "metadata": {},
   "outputs": [
    {
     "name": "stdout",
     "output_type": "stream",
     "text": [
      "howruh.\n",
      "hi!howruh\n",
      "hihowruh!\n"
     ]
    }
   ],
   "source": [
    "print(\"howruh\",\".\",sep='')\n",
    "\n",
    "print(\"hi\",\"!\",\"howruh\",sep='')\n",
    "\n",
    "print(\"hi\",\"howruh\",\"!\",sep='')\n"
   ]
  },
  {
   "cell_type": "code",
   "execution_count": 5,
   "metadata": {},
   "outputs": [
    {
     "name": "stdout",
     "output_type": "stream",
     "text": [
      "The addition of 3+4 is:7.\n"
     ]
    }
   ],
   "source": [
    "#using separator operator\n",
    "print(\"The addition of 3+4 is:\",3+4,\".\",sep='')"
   ]
  },
  {
   "cell_type": "code",
   "execution_count": 6,
   "metadata": {},
   "outputs": [
    {
     "name": "stdout",
     "output_type": "stream",
     "text": [
      "The addition of 3+4 is: 7."
     ]
    }
   ],
   "source": [
    "\n",
    "print(\"The addition of 3+4 is:\",3+4,end='.')"
   ]
  },
  {
   "cell_type": "markdown",
   "metadata": {},
   "source": [
    "# Date:-feb 9th,2022"
   ]
  },
  {
   "cell_type": "code",
   "execution_count": 7,
   "metadata": {},
   "outputs": [
    {
     "name": "stdout",
     "output_type": "stream",
     "text": [
      "Hello&Hi&Howruh\n"
     ]
    }
   ],
   "source": [
    "#using seperator ( & )\n",
    "print(\"Hello\",\"Hi\",\"Howruh\",sep='&')\n",
    "\n",
    "#Every word is seperated by '&'"
   ]
  },
  {
   "cell_type": "code",
   "execution_count": null,
   "metadata": {},
   "outputs": [],
   "source": [
    "print(\"Hello\",\"Hi\",'.',sep='')"
   ]
  },
  {
   "cell_type": "code",
   "execution_count": 8,
   "metadata": {},
   "outputs": [
    {
     "name": "stdout",
     "output_type": "stream",
     "text": [
      "Enter a number: 5\n",
      "The square of a number is: 25.\n",
      "The square of a number is:  25 .\n",
      "The square of a number is: .25..\n"
     ]
    }
   ],
   "source": [
    "#WAP to print square of a number using sep operator\n",
    "#sq of no - 25.\n",
    "\n",
    "n=int(input(\"Enter a number: \"))\n",
    "sq=n*n\n",
    "#printing square of a no. uing seperator operator\n",
    "print(\"The square of a number is: \",sq,'.',sep='')   #no space occurs-- 25.\n",
    "#without using sep operator\n",
    "print(\"The square of a number is: \",sq,'.')    #space is occured btw 25 & fullstop (25 .)\n",
    "#\n",
    "print(\"The square of a number is: \",sq,'.',sep='.') "
   ]
  },
  {
   "cell_type": "code",
   "execution_count": 9,
   "metadata": {},
   "outputs": [
    {
     "name": "stdout",
     "output_type": "stream",
     "text": [
      "Enter the value of radius 10\n",
      "the value of pi is: 3.14\n",
      "The area of circle is: 314.0\n",
      "The area of circle is: .314.0..\n",
      "The area of a circle is: 314.0.\n",
      "The area of a circle is:  314.0 .\n"
     ]
    }
   ],
   "source": [
    "#WAP to calculate area of a circle\n",
    "r=int(input(\"Enter the value of radius \"))\n",
    "pi=eval(input(\"the value of pi is: \"))\n",
    "print(\"The area of circle is:\",pi*r*r)\n",
    "\n",
    "#Using seperator operator(i.e., it is sepearted by '.')\n",
    "print(\"The area of circle is: \",pi*r*r,'.',sep='.')\n",
    "\n",
    "#using sep operator (to end the print stmnt by fullstop soon after cmpltn of sentence)\n",
    "print(\"The area of a circle is: \",pi*r*r,'.',sep='')\n",
    "\n",
    "#To print fullstop after print stmnt without using \"seperator operator\"\n",
    "print(\"The area of a circle is: \",pi*r*r,'.')  #full stop prints after one space of value as shown below "
   ]
  },
  {
   "cell_type": "code",
   "execution_count": null,
   "metadata": {},
   "outputs": [],
   "source": [
    "#WAP that computes & print result of 512-282/47.48+5 (approx it is equal to .1017)\n",
    "a=eval(input(\"Enter the value of a: \"))#512-282\n",
    "b=eval(input(\"Enter the value of b: \"))#47.48+5\n",
    "c=eval(input(\"Enter the value of c: \"))\n",
    "d=eval(input(\"Enter the value of d: \"))\n",
    "a1=a-b\n",
    "b1=c+d\n",
    "print(\"The value is:\",a1/b1)\n",
    "\n",
    "a=512-282\n",
    "a\n",
    "b=47.48+5\n",
    "b\n",
    "print(a/b)"
   ]
  },
  {
   "cell_type": "code",
   "execution_count": 10,
   "metadata": {},
   "outputs": [
    {
     "name": "stdout",
     "output_type": "stream",
     "text": [
      "Enter a number: 6\n",
      "The square of a number is :36.\n"
     ]
    }
   ],
   "source": [
    "#WAP to print square of a no.('5') using seperator & make sure it ends by (.)soon after print stmnt\n",
    "n=int(input(\"Enter a number: \"))\n",
    "sq=n*n\n",
    "print(\"The square of a number is :\",sq,'.',sep='')"
   ]
  },
  {
   "cell_type": "code",
   "execution_count": 11,
   "metadata": {},
   "outputs": [
    {
     "name": "stdout",
     "output_type": "stream",
     "text": [
      "Enter a number: 4\n",
      "Sequence is:  4---8---12---16---20---Sequence is: ---4---8---12---16---20\n"
     ]
    }
   ],
   "source": [
    "#To print x,2x,3x,4x & 5x and to seperate the sequence using 3 dashed lines\n",
    "n=int(input(\"Enter a number: \"))\n",
    "print(\"Sequence is: \",n,end='---')\n",
    "print(2*n,end='---')\n",
    "print(3*n,end='---')\n",
    "print(4*n,end='---')\n",
    "print(5*n,end='---')\n",
    "\n",
    "#using seperator operator\n",
    "print(\"Sequence is: \",n,2*n,3*n,4*n,5*n,sep='---')\n",
    "\n"
   ]
  },
  {
   "cell_type": "code",
   "execution_count": null,
   "metadata": {},
   "outputs": [],
   "source": [
    "#WAP to write weight in kgs & convert it into pounds (1 kg=2.2)\n",
    "weight=eval(input(\"Enter weight in kgs: \"))\n",
    "pound=eval(input(\"Enter pound value: \"))\n",
    "result=weight*pound\n",
    "print(\"the final value is:\",result)"
   ]
  },
  {
   "cell_type": "code",
   "execution_count": null,
   "metadata": {},
   "outputs": [],
   "source": [
    "#WAP such that user enter 3 numbers using 3 dfrnt i/p stmnts ,\n",
    "# cont--- store sum in total variable & average of 3 nos in average variable\n",
    "\n",
    "a=eval(input(\"Enter first number: \"))\n",
    "b=eval(input(\"Enter second number: \"))\n",
    "c=eval(input(\"Enter third number: \"))\n",
    "sum=a+b+c\n",
    "average=sum/3\n",
    "print(\"The sum of 3 numbers is: \",sum)\n",
    "print(\"The average of 3 numbers is: \",average)"
   ]
  },
  {
   "cell_type": "code",
   "execution_count": null,
   "metadata": {},
   "outputs": [],
   "source": [
    "#WAP such that ask user to enter price of meal, tip for meal(in %) and print tip amount & total bill with tip included\n",
    "\n",
    "price=eval(input(\"Enter price of a meal: \"))\n",
    "tip=eval(input(\"Enter tip per a meal: \"))\n",
    "tip_amount=(tip/100)*price (Since it is in %, to convert into amnt value, dividing the tip by 100)\n",
    "total_bill=price+tip_amount\n",
    "print(\"The tip amnt is: \",tip_amount)\n",
    "print(\"The total bill is: \",total_bill)"
   ]
  },
  {
   "cell_type": "markdown",
   "metadata": {},
   "source": [
    "#Function\n",
    "\n",
    "- To call a stmnt multiple times , function is used\n",
    "\n",
    "- syntax-- def(functionname):\n",
    "    "
   ]
  },
  {
   "cell_type": "code",
   "execution_count": 12,
   "metadata": {},
   "outputs": [
    {
     "name": "stdout",
     "output_type": "stream",
     "text": [
      "hello\n"
     ]
    }
   ],
   "source": [
    "def a():\n",
    "    print(\"hello\")\n",
    "a()"
   ]
  },
  {
   "cell_type": "code",
   "execution_count": 13,
   "metadata": {},
   "outputs": [
    {
     "name": "stdout",
     "output_type": "stream",
     "text": [
      "5\n",
      "6\n",
      "0.6666666666666666\n",
      "2\n"
     ]
    }
   ],
   "source": [
    "def a():\n",
    "    print(2+3)\n",
    "    print(2*3)\n",
    "    print(2/3)\n",
    "    print(2%3)\n",
    "a()"
   ]
  },
  {
   "cell_type": "code",
   "execution_count": 14,
   "metadata": {},
   "outputs": [
    {
     "name": "stdout",
     "output_type": "stream",
     "text": [
      "Enter value of a: 2\n",
      "Enter value of b: 3\n",
      "Enter value of c: 4\n",
      "The sum of 2 3 4 is 9\n",
      "The multiplication of 2 3 4 is 24\n",
      "The subtraction of 2 3 4 is -5\n",
      "The division of 2 3 4 is 0.16666666666666666\n"
     ]
    }
   ],
   "source": [
    "#here function name is \"sum1\" & def(\"define\") is keyword\n",
    "def sum1():\n",
    "    a=eval(input(\"Enter value of a: \"))\n",
    "    b=eval(input(\"Enter value of b: \"))\n",
    "    c=eval(input(\"Enter value of c: \"))\n",
    "    sum1=a+b+c\n",
    "    mul=a*b*c\n",
    "    sub=a-b-c\n",
    "    div=a/b/c\n",
    "    print(\"The sum of {} {} {} is {}\".format(a,b,c,sum1))\n",
    "    print(\"The multiplication of {} {} {} is {}\".format(a,b,c,mul))\n",
    "    print(\"The subtraction of {} {} {} is {}\".format(a,b,c,sub))\n",
    "    print(\"The division of {} {} {} is {}\".format(a,b,c,div))\n",
    "    \n",
    "#here function call of sum1, so system enters into sum1() and runs the code block within of \"sum1\"\n",
    "sum1()"
   ]
  },
  {
   "cell_type": "markdown",
   "metadata": {},
   "source": [
    "# Date:-feb 10th,2022"
   ]
  },
  {
   "cell_type": "code",
   "execution_count": null,
   "metadata": {},
   "outputs": [],
   "source": [
    "# WAP using functions to subtract numbers\n",
    "def sub():\n",
    "    a=eval(input(\"Enter a number: \"))\n",
    "    b=eval(input(\"Enter a number: \"))\n",
    "    c=a-b\n",
    "    print(\"The subtraction of 2 numbers is {}\".format(c))\n",
    "#calling sub function(code within the block runs )\n",
    "sub()"
   ]
  },
  {
   "cell_type": "code",
   "execution_count": null,
   "metadata": {},
   "outputs": [],
   "source": [
    "#WAP using functions & find average &total of 3 numbers\n",
    "def value():\n",
    "    a=eval(input(\"Enter a number: \"))\n",
    "    b=eval(input(\"Enter a number: \"))\n",
    "    c=eval(input(\"Enter a number: \"))\n",
    "    total=a+b+c\n",
    "    average=total/3\n",
    "    print(\"The total of {} {} {} is {}\".format(a,b,c,total),'.',sep='')\n",
    "    print(\"The average of {} {} {} is {}\".format(a,b,c,average),'.',sep='')\n",
    "value()"
   ]
  },
  {
   "cell_type": "code",
   "execution_count": null,
   "metadata": {},
   "outputs": [],
   "source": [
    "#Enter no. of working hours ,rate per hr &calc salary. Using functions\n",
    "def salary():\n",
    "    n=eval(input(\"Enter no. of working hours: \"))\n",
    "    rph=eval(input(\"Enter rate per hour: \"))\n",
    "    salary=n*rph\n",
    "    print(\"The total salary is: {}\".format(salary))\n",
    "salary()"
   ]
  },
  {
   "cell_type": "markdown",
   "metadata": {},
   "source": [
    "# Functions without arguments or parameters\n",
    "\n",
    "- Function also known as \"method\"\n",
    "\n",
    "- def func()\n",
    "\n",
    "- ex's:-def sum1(): , def sub1():\n"
   ]
  },
  {
   "cell_type": "markdown",
   "metadata": {},
   "source": [
    "#Functions with arguments\n",
    "\n",
    "- def func(a,b):"
   ]
  },
  {
   "cell_type": "code",
   "execution_count": null,
   "metadata": {},
   "outputs": [],
   "source": [
    "#addn of 2 no's using function without arguments\n",
    "def sum1():\n",
    "    a=eval(input(\"Enter value of a: \"))\n",
    "    b=eval(input(\"Enter value of b: \"))\n",
    "    c=a+b\n",
    "    print(\"The sum of {} {} is {}\".format(a,b,c))\n",
    "sum1()\n",
    "\n",
    "#addn of 2 no's using function with arguments\n",
    "#Remove 2 i/p stmnts (a&b) and give it inside of function (sum)\n",
    "def sum1(a,b):\n",
    "    c=a+b\n",
    "    print(c)\n",
    "    \n",
    "#while calling \"sum1\" function, give arguments as numbers-\n",
    "# cont' ---so that those will be considered as input while calculating sum   \n",
    "\n",
    "sum1(20,30)\n",
    "    \n"
   ]
  },
  {
   "cell_type": "code",
   "execution_count": null,
   "metadata": {},
   "outputs": [],
   "source": [
    "#WAP to find total salary using functions without arguments\n",
    "def salary():\n",
    "    n=eval(input(\"Enter no. of working hours: \"))\n",
    "    rph=eval(input(\"Enter rate per hour: \"))\n",
    "    salary=n*rph\n",
    "    print(\"The total salary is: {}\".format(salary))\n",
    "salary()\n",
    "\n",
    "#WAP to find total salary using functions with arguments\n",
    "def salary(n,rph):\n",
    "    salary=n*rph\n",
    "    print(\"The total salary is: {}\".format(salary))\n",
    "salary(7,120)\n",
    "\n",
    "#Instead of giving 2 arguments, pass one argument(n)\n",
    "def salary(n):\n",
    "    rph=eval(input(\"Enter rate per hour: \"))\n",
    "    salary=n*rph\n",
    "    print(\"The total salary is: {}\".format(salary))\n",
    "salary(7)"
   ]
  },
  {
   "cell_type": "code",
   "execution_count": null,
   "metadata": {},
   "outputs": [],
   "source": [
    "#WAP using functions w/o arguments & find average &total of 3 numbers\n",
    "def value():\n",
    "    a=eval(input(\"Enter a number: \"))\n",
    "    b=eval(input(\"Enter a number: \"))\n",
    "    c=eval(input(\"Enter a number: \"))\n",
    "    total=a+b+c\n",
    "    average=total/3\n",
    "    print(\"The total of {} {} {} is {}\".format(a,b,c,total),'.',sep='')\n",
    "    print(\"The average of {} {} {} is {}\".format(a,b,c,average),'.',sep='')\n",
    "value()\n",
    "\n",
    "#WAP using functions with arguments & find average &total of 3 numbers\n",
    "def value(a,b,c):\n",
    "    total=a+b+c\n",
    "    average=total/3\n",
    "    print(\"The total of {} {} {} is {}\".format(a,b,c,total),'.',sep='')\n",
    "    print(\"The average of {} {} {} is {}\".format(a,b,c,average),'.',sep='')\n",
    "value(10,20,30)\n",
    "#here inside value(function), arguments passed are 10,20,30 .\n",
    "#cont' ---- So, when we call value function, the above block runs by taking i/p as 10,20&30"
   ]
  },
  {
   "cell_type": "code",
   "execution_count": null,
   "metadata": {},
   "outputs": [],
   "source": [
    "#using func's w/o arguments\n",
    "def greet():\n",
    "    print(\"hi there\")\n",
    "greet()"
   ]
  },
  {
   "cell_type": "code",
   "execution_count": null,
   "metadata": {},
   "outputs": [],
   "source": [
    "#Write a function call ( whatever is passed as argument, that should be reflected in o/p beside hello,here hello should be fixed)\n",
    "#greet('pragnya')-->'hello pragnya'\n",
    "\n",
    "def greet(name):\n",
    "    print('Hello',name)\n",
    "greet('Pragnya')\n",
    "\n",
    "#here name is a variable which can be varied by giving other I/p's\n",
    "\n",
    "def greet(name):\n",
    "    print('Hello',name)\n",
    "greet('Pranavi')\n"
   ]
  },
  {
   "cell_type": "code",
   "execution_count": null,
   "metadata": {},
   "outputs": [],
   "source": [
    "#WAp to print name,city & father's name \n",
    "name=input(\"My name is: \")\n",
    "City=input(\"My city is: \")\n",
    "FatherName=input(\"My father's name is:\" )\n",
    "print(\"My name is:\",name)\n",
    "print(\"My city is:\",City)\n",
    "print(\"My Father's name is:\",FatherName)"
   ]
  },
  {
   "cell_type": "code",
   "execution_count": null,
   "metadata": {},
   "outputs": [],
   "source": [
    "##using fun's with arguments, enter name,city& father's name\n",
    "#My name is pragnya, #My city is hyd # my father name is linganna\n",
    "\n",
    "def info(name,City,FatherName):\n",
    "    print(\"My name is:\",name,\"My city is:\",City,\"My Father's name is:\",FatherName)\n",
    "info('Pragnya','Knr','Linganna')\n",
    "    "
   ]
  },
  {
   "cell_type": "code",
   "execution_count": null,
   "metadata": {},
   "outputs": [],
   "source": [
    "#sq of a no.\n",
    "n=int(input(\"Enter a number: \"))\n",
    "sq=n*n\n",
    "print(\"The square of a number is: \",sq)\n",
    "\n",
    "#using functions w/o arguments\n",
    "def square():\n",
    "    n=int(input(\"Enter a number: \"))\n",
    "    sq=n*n\n",
    "    print(\"The square of a number is: \",sq)\n",
    "square()\n",
    "\n",
    "#with arguments\n",
    "def square(n):\n",
    "    sq=n*n\n",
    "    print(\"The square of a number is: \",sq)\n",
    "square(14)\n",
    "    \n",
    "    "
   ]
  },
  {
   "cell_type": "code",
   "execution_count": null,
   "metadata": {},
   "outputs": [],
   "source": [
    "#WAP to find factorial of a number\n",
    "a=eval(input(\"Enter the number: \"))\n",
    "f=a*(a-1)\n",
    "print(f)\n",
    "\n"
   ]
  },
  {
   "cell_type": "code",
   "execution_count": null,
   "metadata": {},
   "outputs": [],
   "source": [
    "#WAP to find factorial of a no. using fun's with arguments\n",
    "def factorial(n):\n",
    "    f=n*(n-1)\n",
    "    print(f)\n",
    "factorial(5)"
   ]
  },
  {
   "cell_type": "code",
   "execution_count": null,
   "metadata": {},
   "outputs": [],
   "source": [
    "#WAP such that ask user to enter price of meal, tip for meal(in %) and print tip amount & total bill with tip included\n",
    "price=eval(input(\"Enter price of a meal: \"))\n",
    "tip=eval(input(\"Enter tip per a meal: \"))\n",
    "tip_amount=price*(tip/100)\n",
    "total_bill=price+tip_amount\n",
    "print(\"The tip amount is: \",tip_amount)\n",
    "print(\"The total bill is: \",total_bill)"
   ]
  },
  {
   "cell_type": "code",
   "execution_count": null,
   "metadata": {},
   "outputs": [],
   "source": [
    "#using functions w/o arguments\n",
    "def amount():\n",
    "    price=eval(input(\"Enter price of a meal: \"))\n",
    "    tip=eval(input(\"Enter tip per a meal: \"))\n",
    "    tip_amount=price*(tip/100)\n",
    "    total_bill=price+tip_amount\n",
    "    print(\"The tip amount is: \",tip_amount)\n",
    "    print(\"The total bill is: \",total_bill)\n",
    "amount()\n",
    "    "
   ]
  },
  {
   "cell_type": "code",
   "execution_count": null,
   "metadata": {},
   "outputs": [],
   "source": [
    "#Using functions with arguments\n",
    "def amount(price,tip):\n",
    "    tip_amount=price*(tip/100)\n",
    "    total_bill=price+tip_amount\n",
    "    print(\"The tip amount is: \",tip_amount)\n",
    "    print(\"The total bill is: \",total_bill)\n",
    "amount(1000,10)\n",
    "\n",
    "#Using functions with arguments (Default Argument)\n",
    "#tax percentage value is passed within arguments (Default argument)\n",
    "def amount(price,tip_percentage=10):\n",
    "    tip_amount=price*(tip_percentage/100)\n",
    "    total_bill=price+tip_amount\n",
    "    print(\"The tip amount is: \",tip_amount)\n",
    "    print(\"The total bill is: \",total_bill)\n",
    "amount(2000)\n",
    "\n",
    "    \n",
    "    "
   ]
  },
  {
   "cell_type": "code",
   "execution_count": null,
   "metadata": {},
   "outputs": [],
   "source": [
    "#While function call, 2 values are passed (price & tip_%). \n",
    "#cont'--- hence, instead of 10% ,40% would be considered as tip_percentage.Based on 40%,Total bill gets calculated\n",
    "def amount(price,tip_percentage=10):\n",
    "    tip_amount=price*(tip_percentage/100)\n",
    "    total_bill=price+tip_amount\n",
    "    print(\"The tip amount is: \",tip_amount)\n",
    "    print(\"The total bill is: \",total_bill)\n",
    "amount(2000,30)\n"
   ]
  },
  {
   "cell_type": "code",
   "execution_count": null,
   "metadata": {},
   "outputs": [],
   "source": [
    "#\n",
    "def amount():\n",
    "    price=eval(input(\"Enter price of a meal: \"))\n",
    "    tip=eval(input(\"Enter tip per a meal: \"))\n",
    "    tip_amount=price*(tip/100)\n",
    "    total_bill=price+tip_amount\n",
    "    print(\"The tip amount is: \",tip_amount)\n",
    "    print(\"The total bill is: \",total_bill)\n",
    "amount(1000)\n",
    "\n",
    "#Error occured since while defining function no arguments been passed & but while calling the function 1000 is passed .\n",
    "    "
   ]
  },
  {
   "cell_type": "code",
   "execution_count": null,
   "metadata": {},
   "outputs": [],
   "source": [
    "#\n",
    "def amount():\n",
    "    price=1000\n",
    "    tip=10\n",
    "    tip_amount=price*(tip/100)\n",
    "    total_bill=price+tip_amount\n",
    "    print(\"The tip amount is: \",tip_amount)\n",
    "    print(\"The total bill is: \",total_bill)\n",
    "amount(1000,20)\n",
    "    \n",
    "    #Error occured since while defining function no arguments been passed \n",
    "    #& but while calling the function 1000&20 are passed .\n"
   ]
  },
  {
   "cell_type": "code",
   "execution_count": null,
   "metadata": {},
   "outputs": [],
   "source": [
    "#\n",
    "def amount():\n",
    "    #price1=1000\n",
    "    tip=10\n",
    "    tip_amount=price1*(tip/100)\n",
    "    total_bill=price1+tip_amount\n",
    "    print(\"The tip amount is: \",tip_amount)\n",
    "    print(\"The total bill is: \",total_bill)\n",
    "amount()\n",
    "\n",
    "#Error occured since price1 is not defined \n",
    "    "
   ]
  },
  {
   "cell_type": "code",
   "execution_count": null,
   "metadata": {},
   "outputs": [],
   "source": [
    "#\n",
    "def amount():\n",
    "    price=1000\n",
    "    #tip1=10\n",
    "    tip_amount=price*(tip1/100)\n",
    "    total_bill=price+tip_amount\n",
    "    print(\"The tip amount is: \",tip_amount)\n",
    "    print(\"The total bill is: \",total_bill)\n",
    "amount()\n",
    "\n",
    "#Error occured since tip1 is not defined \n",
    "    "
   ]
  },
  {
   "cell_type": "code",
   "execution_count": null,
   "metadata": {},
   "outputs": [],
   "source": [
    "#here, price2 is a global variable\n",
    "price2=1000\n",
    "def amount(): #variable within this block are called local variables\n",
    "    tip=10\n",
    "    tip_amount=price2*(tip/100)\n",
    "    total_bill=price2+tip_amount\n",
    "    print(\"The tip amount is: \",tip_amount)\n",
    "    print(\"The total bill is: \",total_bill)\n",
    "amount()\n",
    "    "
   ]
  },
  {
   "cell_type": "markdown",
   "metadata": {},
   "source": [
    "- Global variables- Which are defined outside of the function, but can be used throughtout the program\n",
    "\n",
    "- Local variables- Which are defined within a function& can be used inside a function\n",
    "\n"
   ]
  },
  {
   "cell_type": "code",
   "execution_count": null,
   "metadata": {},
   "outputs": [],
   "source": [
    "#Global variable example:-\n",
    "#Here,a is global variable\n",
    "a=10\n",
    "def sum():\n",
    "    b=20\n",
    "    print(a+b)\n",
    "sum()\n"
   ]
  },
  {
   "cell_type": "code",
   "execution_count": null,
   "metadata": {},
   "outputs": [],
   "source": [
    "#Local Variable:-\n",
    "#Here a & b are local variables\n",
    "def sum():\n",
    "    b=20\n",
    "    print(a+b)\n",
    "sum()"
   ]
  },
  {
   "cell_type": "code",
   "execution_count": null,
   "metadata": {},
   "outputs": [],
   "source": [
    "#Method 1 -\n",
    "price=eval(input(\"Enter price of a meal: \"))\n",
    "tip=eval(input(\"Enter tip per a meal: \"))\n",
    "tip_amount=price*(tip/100)\n",
    "total_bill=price+tip_amount\n",
    "print(\"The tip amount is: \",tip_amount)\n",
    "print(\"The total bill is: \",total_bill)"
   ]
  },
  {
   "cell_type": "code",
   "execution_count": null,
   "metadata": {},
   "outputs": [],
   "source": [
    "#Method 2-Using Functions w/o arguments\n",
    "def amount():\n",
    "    price=eval(input(\"Enter price of a meal: \"))\n",
    "    tip=eval(input(\"Enter tip per a meal: \"))\n",
    "    tip_amount=price*(tip/100)\n",
    "    total_bill=price+tip_amount\n",
    "    print(\"The tip amount is: \",tip_amount)\n",
    "    print(\"The total bill is: \",total_bill)\n",
    "amount()"
   ]
  },
  {
   "cell_type": "code",
   "execution_count": null,
   "metadata": {},
   "outputs": [],
   "source": [
    "#Method 3-Using functions with arguments\n",
    "def amount(price,tip):\n",
    "    tip_amount=price*(tip/100)\n",
    "    total_bill=price+tip_amount\n",
    "    print(\"The tip amount is: \",tip_amount)\n",
    "    print(\"The total bill is: \",total_bill)\n",
    "amount(1000,10)"
   ]
  },
  {
   "cell_type": "code",
   "execution_count": null,
   "metadata": {},
   "outputs": [],
   "source": [
    "#Method-4(Using functions with arguments (Default Argument)\n",
    "#tax percentage value is passed within arguments (Default argument)\n",
    "def amount(price,tip_percentage=10):\n",
    "    tip_amount=price*(tip_percentage/100)\n",
    "    total_bill=price+tip_amount\n",
    "    print(\"The tip amount is: \",tip_amount)\n",
    "    print(\"The total bill is: \",total_bill)\n",
    "amount(2000)"
   ]
  },
  {
   "cell_type": "code",
   "execution_count": null,
   "metadata": {},
   "outputs": [],
   "source": [
    "#Method-5(Global & Local variables)\n",
    "price2=1000\n",
    "def amount(): #variable within this block are called local variables\n",
    "    tip=10\n",
    "    tip_amount=price2*(tip/100)\n",
    "    total_bill=price2+tip_amount\n",
    "    print(\"The tip amount is: \",tip_amount)\n",
    "    print(\"The total bill is: \",total_bill)\n",
    "amount()\n",
    "\n",
    "#passing tip as a argument\n",
    "price2=1000\n",
    "def amount(tip): #variable within this block are called local variables\n",
    "    tip_amount=price2*(tip/100)\n",
    "    total_bill=price2+tip_amount\n",
    "    print(\"The tip amount is: \",tip_amount)\n",
    "    print(\"The total bill is: \",total_bill)\n",
    "amount(20)\n",
    "\n",
    "#Tip is given as i/p stmnt & no arguments are passed \n",
    "price2=1000\n",
    "def amount(): #variable within this block are called local variables\n",
    "    tip=eval(input(\"Enter tip per a meal: \"))\n",
    "    tip_amount=price2*(tip/100)\n",
    "    total_bill=price2+tip_amount\n",
    "    print(\"The tip amount is: \",tip_amount)\n",
    "    print(\"The total bill is: \",total_bill)\n",
    "amount()"
   ]
  },
  {
   "cell_type": "code",
   "execution_count": null,
   "metadata": {},
   "outputs": [],
   "source": [
    "#WAP to calculate tax payable & total salary\n",
    "#No. of working hrs , rate per hour , tax %\n",
    "#Method-1:-\n",
    "\n",
    "n=eval(input(\"Enter no. of working hours: \"))\n",
    "rph=eval(input(\"Enter rate per hour: \"))\n",
    "tax=eval(input(\"Enter tax: \"))\n",
    "salary=n*rph\n",
    "tax_amount=(tax/100)*salary\n",
    "Total_salary=tax_amount+salary\n",
    "print(\"The total salary is:\",Total_salary)\n",
    "print(\"The tax payable is:\",tax_amount)"
   ]
  },
  {
   "cell_type": "code",
   "execution_count": null,
   "metadata": {},
   "outputs": [],
   "source": [
    "#Method-2 (Using functions w/o arguments)\n",
    "def payment():\n",
    "        n=eval(input(\"Enter no. of working hours: \"))\n",
    "        rph=eval(input(\"Enter rate per hour: \"))\n",
    "        tax=eval(input(\"Enter tax: \"))\n",
    "        salary=n*rph\n",
    "        tax_amount=(tax/100)*salary\n",
    "        Total_salary=tax_amount+salary\n",
    "        print(\"The total salary is:\",Total_salary)\n",
    "        print(\"The tax payable is:\",tax_amount)\n",
    "payment()\n"
   ]
  },
  {
   "cell_type": "code",
   "execution_count": null,
   "metadata": {},
   "outputs": [],
   "source": [
    "#Method-3 (Using functions with arguments)\n",
    "def payment(n,rph,tax):\n",
    "    salary=n*rph\n",
    "    tax_amount=(tax/100)*salary\n",
    "    Total_salary=tax_amount+salary\n",
    "    print(\"The total salary is:\",Total_salary)\n",
    "    print(\"The tax payable is:\",tax_amount)\n",
    "payment(7,120,10)\n"
   ]
  },
  {
   "cell_type": "code",
   "execution_count": null,
   "metadata": {},
   "outputs": [],
   "source": [
    "#Method-4(Default Argument)\n",
    "def payment(n,rph,tax=10):\n",
    "        salary=n*rph\n",
    "        tax_amount=(tax/100)*salary\n",
    "        Total_salary=tax_amount+salary\n",
    "        print(\"The total salary is:\",Total_salary)\n",
    "        print(\"The tax payable is:\",tax_amount)\n",
    "payment(7,120)\n",
    "\n",
    "#Making rph as default argument\n",
    "def payment(n,rph=120,tax):\n",
    "        salary=n*rph\n",
    "        tax_amount=(tax/100)*salary\n",
    "        Total_salary=tax_amount+salary\n",
    "        print(\"The total salary is:\",Total_salary)\n",
    "        print(\"The tax payable is:\",tax_amount)\n",
    "payment(7,10)\n",
    "\n",
    "#Error occured since non default argument is followed by default argument (n -> rph)\n"
   ]
  },
  {
   "cell_type": "code",
   "execution_count": null,
   "metadata": {},
   "outputs": [],
   "source": [
    "#Method 5(Global var)\n",
    "n=7\n",
    "rph=120\n",
    "def payment():\n",
    "    tax=10\n",
    "    salary=n*rph\n",
    "    tax_amount=(tax/100)*salary\n",
    "    Total_salary=tax_amount+salary\n",
    "    print(\"The total salary is:\",Total_salary)\n",
    "    print(\"The tax payable is:\",tax_amount)\n",
    "payment()\n",
    "\n",
    "#Using i/p stmnts\n",
    "n=eval(input(\"Enter n value: \"))\n",
    "rph=eval(input(\"Enter rate per hour: \"))\n",
    "def payment():\n",
    "    tax=eval(input(\"Enter tax: \"))\n",
    "    salary=n*rph\n",
    "    tax_amount=(tax/100)*salary\n",
    "    Total_salary=tax_amount+salary\n",
    "    print(\"The total salary is:\",Total_salary)\n",
    "    print(\"The tax payable is:\",tax_amount)\n",
    "payment()\n",
    "\n",
    "    "
   ]
  },
  {
   "cell_type": "code",
   "execution_count": null,
   "metadata": {},
   "outputs": [],
   "source": [
    "#w/o function avg of 3 no.s\n",
    "a=eval(input(\"Enter value: \"))\n",
    "b=eval(input(\"Enter value: \"))\n",
    "c=eval(input(\"Enter value: \"))\n",
    "total=a+b+c\n",
    "avg=total/3\n",
    "print(avg)"
   ]
  },
  {
   "cell_type": "code",
   "execution_count": null,
   "metadata": {},
   "outputs": [],
   "source": [
    "avg\n",
    "\n",
    "#In avg , 10.0 is stored, so 10.0 is displayed"
   ]
  },
  {
   "cell_type": "code",
   "execution_count": null,
   "metadata": {},
   "outputs": [],
   "source": [
    "#Step-1\n",
    "#avg of 3 no.s using functions\n",
    "def avg(a,b,c):\n",
    "    total=a+b+c\n",
    "    average=total/3\n",
    "    print(\"The avg is: \",average)\n",
    "avg(10,20,30)\n"
   ]
  },
  {
   "cell_type": "code",
   "execution_count": null,
   "metadata": {},
   "outputs": [],
   "source": [
    "average\n",
    "#Encountered an error even though average is defined\n",
    "\n",
    "# In functions, value will not be stored (i.e., average value (20.0) is not stored in avg )\n",
    "#It is just printed using print stmmnt"
   ]
  },
  {
   "cell_type": "code",
   "execution_count": null,
   "metadata": {},
   "outputs": [],
   "source": [
    "#Return function\n",
    "\n",
    "- it stores the value"
   ]
  },
  {
   "cell_type": "code",
   "execution_count": null,
   "metadata": {},
   "outputs": [],
   "source": [
    "#Step-2 (using return function)\n",
    "def avg(a,b,c):\n",
    "    total=a+b+c\n",
    "    average=total/3\n",
    "    print(\"The avg is: \",average)\n",
    "    return(average)          #average value be returned here using return fuction \n",
    "avg(10,20,30)\n"
   ]
  },
  {
   "cell_type": "code",
   "execution_count": null,
   "metadata": {},
   "outputs": [],
   "source": [
    "average\n",
    "#again error occured"
   ]
  },
  {
   "cell_type": "code",
   "execution_count": null,
   "metadata": {},
   "outputs": [],
   "source": [
    "#Step=3\n",
    "def avg(a,b,c):\n",
    "    total=a+b+c\n",
    "    average=total/3\n",
    "    print(\"The avg is: \",average)\n",
    "    return(average)         \n",
    "average=avg(10,20,30) #storing in average\n"
   ]
  },
  {
   "cell_type": "code",
   "execution_count": null,
   "metadata": {},
   "outputs": [],
   "source": [
    "average"
   ]
  },
  {
   "cell_type": "code",
   "execution_count": null,
   "metadata": {},
   "outputs": [],
   "source": [
    "#To find total\n",
    "def sum(a,b,c):\n",
    "    total3=a+b+c\n",
    "    print(\"The total is: \",total3)\n",
    "    return(total3)  #total value get stored in 'total3'       \n",
    "sum(10,20,30)\n",
    "\n"
   ]
  },
  {
   "cell_type": "code",
   "execution_count": null,
   "metadata": {},
   "outputs": [],
   "source": [
    "total3\n",
    "#encountered error, so store in some variable"
   ]
  },
  {
   "cell_type": "code",
   "execution_count": null,
   "metadata": {},
   "outputs": [],
   "source": [
    "#To find total\n",
    "def sum(a,b,c):\n",
    "    total3=a+b+c\n",
    "    print(\"The total is: \",total3)\n",
    "    return(total3)  #total value get stored in 'total3'       \n",
    "XYZ=sum(10,20,30)"
   ]
  },
  {
   "cell_type": "code",
   "execution_count": null,
   "metadata": {},
   "outputs": [],
   "source": [
    "XYZ"
   ]
  },
  {
   "cell_type": "code",
   "execution_count": null,
   "metadata": {},
   "outputs": [],
   "source": [
    "def sum(a,b,c):\n",
    "    sum2=a+b+c\n",
    "    print(\"The sum is:\",sum2)\n",
    "    return(sum2)\n",
    "sum(10,20,30)"
   ]
  },
  {
   "cell_type": "code",
   "execution_count": null,
   "metadata": {},
   "outputs": [],
   "source": [
    "sum2\n",
    "#error occured so store 'sum2' in some variable"
   ]
  },
  {
   "cell_type": "code",
   "execution_count": null,
   "metadata": {},
   "outputs": [],
   "source": [
    "def sum(a,b,c):\n",
    "    sum2=a+b+c\n",
    "    print(\"The sum is:\",sum2)\n",
    "    return(sum2)\n",
    "summation=sum(10,20,30)\n"
   ]
  },
  {
   "cell_type": "code",
   "execution_count": null,
   "metadata": {},
   "outputs": [],
   "source": [
    "summation"
   ]
  },
  {
   "cell_type": "code",
   "execution_count": null,
   "metadata": {},
   "outputs": [],
   "source": [
    "#To give summation & avg in return function\n",
    "#Function name is sum5():\n",
    "def sum5(a,b,c):\n",
    "    sum5=a+b+c\n",
    "    average=sum5/3\n",
    "    print(\"The sum is:\",sum5)\n",
    "    print(\"The average is:\",average)\n",
    "    return(sum5,average)"
   ]
  },
  {
   "cell_type": "code",
   "execution_count": null,
   "metadata": {},
   "outputs": [],
   "source": [
    "sum5,average=sum5(10,20,30)\n",
    "sum5,average"
   ]
  },
  {
   "cell_type": "code",
   "execution_count": null,
   "metadata": {},
   "outputs": [],
   "source": [
    "#Method-5 (Using return function)\n",
    "#function name is sum():\n",
    "def sum(a,b,c):\n",
    "    sum5=a+b+c\n",
    "    average=sum5/3\n",
    "    print(\"The sum is:\",sum5)\n",
    "    print(\"The average is:\",average)\n",
    "    return(sum5,average)"
   ]
  },
  {
   "cell_type": "code",
   "execution_count": null,
   "metadata": {},
   "outputs": [],
   "source": [
    "sum5,average=sum(10,20,30)"
   ]
  },
  {
   "cell_type": "code",
   "execution_count": null,
   "metadata": {},
   "outputs": [],
   "source": [
    "#WAP to pay tip ammnt & total bill (#hotel bill , tip%, tip_amnt, total_bill) \n",
    "\n",
    "hotel_bill=eval(input(\"Enter bill: \"))\n",
    "tip_percentage=eval(input(\"Enter tip: \"))\n",
    "tip_amount=(hotel_bill)*tip_percentage/100\n",
    "total_bill=hotel_bill+tip_amount\n",
    "print(\"The total bill is:\",total_bill)\n",
    "print(\"The tip amount is: \",tip_amount)\n"
   ]
  },
  {
   "cell_type": "code",
   "execution_count": null,
   "metadata": {},
   "outputs": [],
   "source": [
    "#Using return function\n",
    "#using functions return total bill &tip_amnt\n",
    "\n",
    "def bill1(hotel_bill,tip_percentage):\n",
    "    tip_amount=(hotel_bill)*tip_percentage/100\n",
    "    total_bill=hotel_bill+tip_amount\n",
    "    print(\"The total bill is:\",total_bill)\n",
    "    print(\"The tip amount is: \",tip_amount)\n",
    "    return(total_bill,tip_amount)\n",
    "\n",
    "\n",
    "\n",
    "\n"
   ]
  },
  {
   "cell_type": "code",
   "execution_count": null,
   "metadata": {},
   "outputs": [],
   "source": [
    "#calling bill1 function\n",
    "bill1(500,10)"
   ]
  },
  {
   "cell_type": "code",
   "execution_count": null,
   "metadata": {},
   "outputs": [],
   "source": [
    "#assigning it to total_bill&tip_amount (It goes to bill1 block & tip_amnt,total_bill gets calculated & \n",
    "#cont'---2 prints stmnts are printed)\n",
    "total_bill,tip_amount=bill1(500,10)"
   ]
  },
  {
   "cell_type": "code",
   "execution_count": null,
   "metadata": {},
   "outputs": [],
   "source": [
    "#Now calling return function in above program (Refer cell 35 )\n",
    "total_bill,tip_amount"
   ]
  },
  {
   "cell_type": "code",
   "execution_count": null,
   "metadata": {},
   "outputs": [],
   "source": [
    "total_bill"
   ]
  },
  {
   "cell_type": "code",
   "execution_count": null,
   "metadata": {},
   "outputs": [],
   "source": [
    "tip_amount"
   ]
  },
  {
   "cell_type": "code",
   "execution_count": null,
   "metadata": {},
   "outputs": [],
   "source": [
    "#Again assigning it to some other variables\n",
    "billtotal,tip=bill1(500,10)     #it goes to bill1 block (refer 35)"
   ]
  },
  {
   "cell_type": "code",
   "execution_count": null,
   "metadata": {},
   "outputs": [],
   "source": [
    "billtotal"
   ]
  },
  {
   "cell_type": "code",
   "execution_count": null,
   "metadata": {},
   "outputs": [],
   "source": [
    "tip"
   ]
  },
  {
   "cell_type": "markdown",
   "metadata": {},
   "source": [
    "# Date:-Feb 23rd, 2022"
   ]
  },
  {
   "cell_type": "code",
   "execution_count": null,
   "metadata": {},
   "outputs": [],
   "source": [
    "#Total Salary & tax amnt using return function---\n",
    "def payment(n,rph):\n",
    "    tax=eval(input(\"Enter tax: \"))\n",
    "    salary=n*rph\n",
    "    tax_amount=(tax/100)*salary\n",
    "    Total_salary=tax_amount+salary\n",
    "    print(\"The total salary is:\",Total_salary)\n",
    "    print(\"The tax payable is:\",tax_amount)\n",
    "payment(7,120)"
   ]
  },
  {
   "cell_type": "code",
   "execution_count": null,
   "metadata": {},
   "outputs": [],
   "source": [
    "salary"
   ]
  },
  {
   "cell_type": "code",
   "execution_count": null,
   "metadata": {},
   "outputs": [],
   "source": [
    "#so assign it to some variable as below\n",
    "PAY=payment(7,120)\n",
    "PAY"
   ]
  },
  {
   "cell_type": "markdown",
   "metadata": {},
   "source": [
    "# Function in function:"
   ]
  },
  {
   "cell_type": "code",
   "execution_count": null,
   "metadata": {},
   "outputs": [],
   "source": [
    "#Greet function\n",
    "def greet():\n",
    "    print(\"hello\")\n",
    "greet()"
   ]
  },
  {
   "cell_type": "code",
   "execution_count": null,
   "metadata": {},
   "outputs": [],
   "source": [
    "#Function(greet) inside a function(greetings)\n",
    "def greetings():\n",
    "    greet()  #this function is already defined in above cell , hence it calls greet() function & hello is printed\n",
    "    print(\"how are you\")\n",
    "greetings()"
   ]
  },
  {
   "cell_type": "code",
   "execution_count": null,
   "metadata": {},
   "outputs": [],
   "source": [
    "#sum1 - function\n",
    "def sum1(a,b):\n",
    "    c=a+b\n",
    "    print(c)\n",
    "sum1(10,20)"
   ]
  },
  {
   "cell_type": "code",
   "execution_count": null,
   "metadata": {},
   "outputs": [],
   "source": [
    "#sum1 function within sub1 function\n",
    "def sub1(a,b):\n",
    "    sum1(a,b)    #sum1 function is already created in above cell, hence sum1 function is called when this step is running\n",
    "    d=b-a\n",
    "    print(d)\n",
    "sub1(10,20)      #along with sum1 function , sub1 is also printed "
   ]
  },
  {
   "cell_type": "code",
   "execution_count": null,
   "metadata": {},
   "outputs": [],
   "source": [
    "#Functions (add, sub & mult)\n",
    "def add(a,b):\n",
    "    print(a+b)\n",
    "def sub(a,b):\n",
    "    print(a-b)\n",
    "def mult(a,b):\n",
    "    print(a*b)\n",
    "add(30,20)\n",
    "sub(30,20)\n",
    "mult(30,20)\n"
   ]
  },
  {
   "cell_type": "code",
   "execution_count": null,
   "metadata": {},
   "outputs": [],
   "source": [
    "#Functions (add,sub &mult) within a function\n",
    "\n",
    "def maths():\n",
    "    add(a,b)\n",
    "    sub(a,b)\n",
    "    mult(a,b)\n",
    "maths() \n",
    "\n",
    "# error is occured bcz all 3 functions are having 2 paramters( a & b)"
   ]
  },
  {
   "cell_type": "code",
   "execution_count": null,
   "metadata": {},
   "outputs": [],
   "source": [
    "#Functions (add,sub & mult) within a function\n",
    "\n",
    "def maths(a,b):\n",
    "    add(a,b)\n",
    "    sub(a,b)\n",
    "    mult(a,b)\n",
    "maths(30,20)     #here it goes inside maths function, frstly add function is executed followed by sub & mult functions"
   ]
  },
  {
   "cell_type": "code",
   "execution_count": null,
   "metadata": {},
   "outputs": [],
   "source": [
    "#Functions (add,sub & mult)\n",
    "\n",
    "def add(a,b):\n",
    "    add=a+b\n",
    "    print(add)\n",
    "    return(add)\n",
    "def sub(a,b):\n",
    "    sub=a-b\n",
    "    print(sub)\n",
    "    return(sub)\n",
    "def mult(a,b):\n",
    "    mult=a*b\n",
    "    print(mult)\n",
    "    return(mult)\n",
    "\n"
   ]
  },
  {
   "cell_type": "code",
   "execution_count": null,
   "metadata": {},
   "outputs": [],
   "source": [
    "#Functions (add,sub & mult) within a function & using return function\n",
    "def maths(a,b):\n",
    "    add(a,b)\n",
    "    sub(a,b)\n",
    "    mult(a,b)\n",
    "    return(add)\n",
    "    return(sub)\n",
    "    return(mult)\n",
    "mathematics=maths(30,20)"
   ]
  },
  {
   "cell_type": "markdown",
   "metadata": {},
   "source": [
    "# Date:-Feb 24th, 2022"
   ]
  },
  {
   "cell_type": "code",
   "execution_count": null,
   "metadata": {},
   "outputs": [],
   "source": [
    "#Functions (add,sub & mult)\n",
    "\n",
    "def add(a,b):\n",
    "    add1=a+b   # add is function name .hence it is renamed to add1\n",
    "    print(add1)\n",
    "    return(add1)\n",
    "def sub(a,b):\n",
    "    sub1=a-b\n",
    "    print(sub1)\n",
    "    return(sub1)\n",
    "def mult(a,b):\n",
    "    mult1=a*b\n",
    "    print(mult1)\n",
    "    return(mult1)\n"
   ]
  },
  {
   "cell_type": "code",
   "execution_count": null,
   "metadata": {},
   "outputs": [],
   "source": [
    "#Functions (add,sub & mult) within a function & using return function\n",
    "def maths(a,b):\n",
    "    sum1=add(a,b)\n",
    "    sub1=sub(a,b)\n",
    "    mult1=mult(a,b)\n",
    "    return(sum1,sub1,mult1)\n",
    "\n",
    "add,sub,mult=maths(30,20)"
   ]
  },
  {
   "cell_type": "code",
   "execution_count": null,
   "metadata": {},
   "outputs": [],
   "source": [
    "#Function to find avg & total of 3 no's \n",
    "def avg(a,b,c):\n",
    "    total=a+b+c\n",
    "    average=total/3\n",
    "    print(total)\n",
    "    print(average)\n",
    "avg(10,20,30)\n"
   ]
  },
  {
   "cell_type": "code",
   "execution_count": null,
   "metadata": {},
   "outputs": [],
   "source": [
    "#function within a function using return \n",
    "def sumtotal(a,b,c):  # new function sumtotal\n",
    "    avg(a,b,c)        #here , avg function is called which is in above cell (29) & it goes inside the function\n",
    "    return(avg)\n",
    "Sum1=sumtotal(10,10,10)"
   ]
  },
  {
   "cell_type": "code",
   "execution_count": null,
   "metadata": {},
   "outputs": [],
   "source": [
    "#to find salary (no of hrs * rate per hr)\n",
    "\n",
    "def salary5(n,rph):\n",
    "    salary5=n*rph\n",
    "    print(salary5)\n",
    "salary5(5,120)"
   ]
  },
  {
   "cell_type": "code",
   "execution_count": null,
   "metadata": {},
   "outputs": [],
   "source": [
    "#function within a function\n",
    "def sal(n,rph):\n",
    "    salary5(n,rph)\n",
    "sal2=sal(5,120)"
   ]
  },
  {
   "cell_type": "markdown",
   "metadata": {},
   "source": [
    "#If else conditions\n",
    "\n",
    "- Syntax:-if condition:\n",
    "\n",
    "- for else , no conditions are written"
   ]
  },
  {
   "cell_type": "code",
   "execution_count": null,
   "metadata": {},
   "outputs": [],
   "source": [
    "n=eval(input(\"Enter n value: \"))\n",
    "if(n%2==0):\n",
    "    print(\"Number is even\")\n",
    "else:\n",
    "    print(\"Number is odd\")"
   ]
  },
  {
   "cell_type": "code",
   "execution_count": null,
   "metadata": {},
   "outputs": [],
   "source": [
    "#Using functions with no arguments(Method-1)\n",
    "def evenodd():\n",
    "    n=eval(input(\"Enter n value: \"))\n",
    "    if(n%2==0):\n",
    "        print(\"Number is even\")\n",
    "    else:\n",
    "        print(\"Number is odd\")\n",
    "evenodd()\n",
    "    "
   ]
  },
  {
   "cell_type": "code",
   "execution_count": null,
   "metadata": {},
   "outputs": [],
   "source": [
    "#using functions with arguments (Method -2)\n",
    "def evenodd(n):\n",
    "    if(n%2==0):\n",
    "        print(\"Number is even\")\n",
    "    else:\n",
    "        print(\"Number is odd\")\n",
    "evenodd(11)\n",
    "    "
   ]
  },
  {
   "cell_type": "code",
   "execution_count": null,
   "metadata": {},
   "outputs": [],
   "source": [
    "#default arguments(Method-3)\n",
    "def evenodd(n=20):\n",
    "    if(n%2==0):\n",
    "        print(\"Number is even\")\n",
    "    else:\n",
    "        print(\"Number is odd\")\n",
    "evenodd()\n",
    "    "
   ]
  },
  {
   "cell_type": "code",
   "execution_count": null,
   "metadata": {},
   "outputs": [],
   "source": [
    "#Global variables(Method-4)\n",
    "n=100\n",
    "def evenodd(n):\n",
    "    if(n%2==0):\n",
    "        print(\"Number is even\")\n",
    "    else:\n",
    "        print(\"Number is odd\")\n",
    "evenodd(n)\n",
    "    "
   ]
  },
  {
   "cell_type": "code",
   "execution_count": null,
   "metadata": {},
   "outputs": [],
   "source": [
    "# using return (Method -5)\n",
    "def evenodd(n):\n",
    "    if(n%2==0):\n",
    "        print(\"Number is even\")\n",
    "    else:\n",
    "        print(\"Number is odd\")\n",
    "        return(n)\n",
    "number=evenodd(5)\n",
    "    "
   ]
  },
  {
   "cell_type": "code",
   "execution_count": null,
   "metadata": {},
   "outputs": [],
   "source": [
    "number"
   ]
  },
  {
   "cell_type": "code",
   "execution_count": null,
   "metadata": {},
   "outputs": [],
   "source": [
    "#WAP to find greatest of 2 numbers using conditional stmnts\n",
    "a=eval(input(\"Enter a value: \"))\n",
    "b=eval(input(\"Enter b value: \"))\n",
    "if(a>b):\n",
    "    print(\"a is greatest number\")\n",
    "else:\n",
    "    print(\"b is greatest number\")"
   ]
  },
  {
   "cell_type": "code",
   "execution_count": null,
   "metadata": {},
   "outputs": [],
   "source": [
    "#using functions\n",
    "def greatest():\n",
    "    a=eval(input(\"Enter a value: \"))\n",
    "    b=eval(input(\"Enter b value: \"))\n",
    "    if(a>b):\n",
    "        print(\"a is greatest number\")\n",
    "    else:\n",
    "        print(\"b is greatest number\")\n",
    "greatest()    "
   ]
  },
  {
   "cell_type": "code",
   "execution_count": null,
   "metadata": {},
   "outputs": [],
   "source": [
    "#using fun's with arguments\n",
    "def greatest(a,b):\n",
    "    if(a>b):\n",
    "        print(\"a is greatest number\")\n",
    "    else:\n",
    "        print(\"b is greatest number\")\n",
    "greatest(100,20)    "
   ]
  },
  {
   "cell_type": "code",
   "execution_count": null,
   "metadata": {},
   "outputs": [],
   "source": [
    "#default argument\n",
    "def greatest(a1,b=30):\n",
    "    if(a1>b):\n",
    "        print(\"a1 is greatest number\")\n",
    "    else:\n",
    "        print(\"b is greatest number\")\n",
    "greatest(200)    "
   ]
  },
  {
   "cell_type": "code",
   "execution_count": null,
   "metadata": {},
   "outputs": [],
   "source": [
    "#Using return fun\n",
    "def greatest(a,b):\n",
    "    if(a>b):\n",
    "        print(\"a is greatest number\")\n",
    "    else:\n",
    "        print(\"b is greatest number\")\n",
    "        return(a,b)\n",
    "greatest(20,15)    "
   ]
  },
  {
   "cell_type": "code",
   "execution_count": null,
   "metadata": {},
   "outputs": [],
   "source": [
    "a"
   ]
  },
  {
   "cell_type": "code",
   "execution_count": null,
   "metadata": {},
   "outputs": [],
   "source": [
    "# error occured in above cell even though a is defined so assigning function to a variable (Grtst)\n",
    "def greatest(a,b):\n",
    "    if(a>b):\n",
    "        print(\"a is greatest number\")\n",
    "    else:\n",
    "        print(\"b is greatest number\")\n",
    "        return(a,b)\n",
    "Grtst=greatest(20,15)  \n"
   ]
  },
  {
   "cell_type": "code",
   "execution_count": null,
   "metadata": {},
   "outputs": [],
   "source": [
    "#assigning same values for  a & b\n",
    "a=eval(input(\"Enter a value: \"))\n",
    "b=eval(input(\"Enter b value: \"))\n",
    "if(a>b):\n",
    "    print(\"a is greatest number\")\n",
    "else:\n",
    "    print(\"b is greatest number\")\n",
    "    \n",
    "#Here firstly, it checks in if condition ( since 10 is not greater than 10), \n",
    "# cont' -- automatically else block will be executed & printed, But this is wrong since 10 is equal to 10..So elif is used "
   ]
  },
  {
   "cell_type": "markdown",
   "metadata": {},
   "source": [
    "# elif statement\n",
    "- elif condition:\n"
   ]
  },
  {
   "cell_type": "code",
   "execution_count": null,
   "metadata": {},
   "outputs": [],
   "source": [
    "#Using elif \n",
    "a=eval(input(\"Enter a value: \"))\n",
    "b=eval(input(\"Enter b value: \"))\n",
    "if a>b:\n",
    "    print(\"a is greatest number\")\n",
    "elif a==b:\n",
    "    print(\"a & b are equal\")\n",
    "else:\n",
    "    print(\"b is greatest number\")\n",
    "    \n",
    "#Here, frstly if block is checked , since condition is failed (200 is not greater 200)\n",
    "#cont, elif block is been executed, since 200 & 200 are equal, system prints (a & b are equal)\n",
    "    "
   ]
  },
  {
   "cell_type": "code",
   "execution_count": null,
   "metadata": {},
   "outputs": [],
   "source": [
    "\n",
    "#frstly a & b input stmnts are executed, then goes to if block (if condition satisfies the stmnt gets printed) \n",
    "\n",
    "#if not , it goes to \"elif\" block , if condition satisfies , stmnt will be printed \n",
    "\n",
    "#At last, else block stmnt will be printed"
   ]
  },
  {
   "cell_type": "code",
   "execution_count": null,
   "metadata": {},
   "outputs": [],
   "source": [
    "#Enter a number , if number is > zero print positive , \n",
    "#if number is equal to zero print zero & if number is less than zero print negative\n",
    "\n",
    "n=eval(input(\"Enter n value: \"))\n",
    "if n>0:\n",
    "    print(\"n is a positive number\")\n",
    "elif n==0:\n",
    "    print(\"n is zero\")\n",
    "else:\n",
    "    print(\"n is a negative number \")"
   ]
  },
  {
   "cell_type": "markdown",
   "metadata": {},
   "source": [
    "# Date:-Feb 26th,2022"
   ]
  },
  {
   "cell_type": "code",
   "execution_count": null,
   "metadata": {},
   "outputs": [],
   "source": [
    "#Above program using functions\n",
    "def number():\n",
    "    n=eval(input(\"Enter n value: \"))\n",
    "    if n>0:\n",
    "        print(\"n is a positive number\")\n",
    "    elif n==0:\n",
    "        print(\"n is zero\")\n",
    "    else:\n",
    "        print(\"n is a negative number \")\n",
    "number()    "
   ]
  },
  {
   "cell_type": "code",
   "execution_count": null,
   "metadata": {},
   "outputs": [],
   "source": [
    "#Fun's with arguments\n",
    "def number(n):\n",
    "    if n>0:\n",
    "        print(\"n is a positive number\")\n",
    "    elif n==0:\n",
    "        print(\"n is zero\")\n",
    "    else:\n",
    "        print(\"n is a negative number \")\n",
    "number(-100)    "
   ]
  },
  {
   "cell_type": "code",
   "execution_count": null,
   "metadata": {},
   "outputs": [],
   "source": [
    "#Default agrument\n",
    "\n",
    "def number(n=10):\n",
    "    if n>0:\n",
    "        print(\"n is a positive number\")\n",
    "    elif n==0:\n",
    "        print(\"n is zero\")\n",
    "    else:\n",
    "        print(\"n is a negative number \")\n",
    "number()    "
   ]
  },
  {
   "cell_type": "code",
   "execution_count": null,
   "metadata": {},
   "outputs": [],
   "source": [
    "#Return stmnt\n",
    "\n",
    "def number(n):\n",
    "    if n>0:\n",
    "        print(\"n is a positive number\")\n",
    "    elif n==0:\n",
    "        print(\"n is zero\")\n",
    "    else:\n",
    "        print(\"n is a negative number \")\n",
    "        return(n)\n",
    "Positive=number(100)    "
   ]
  },
  {
   "cell_type": "code",
   "execution_count": null,
   "metadata": {},
   "outputs": [],
   "source": [
    "#Enter no. of working hrs & if no. of hrs > than 50 then rate per hr is 1000 & calculate total salary \n",
    "\n",
    "# other wise rate per hr = 500 & find total salary \n",
    "\n",
    "n=eval(input(\"Enter n value: \"))\n",
    "if n>50:\n",
    "    rate_per_hr=1000\n",
    "    print(\"rate per hr is:\",rate_per_hr)\n",
    "    total_salary=n*rph\n",
    "    print(\"total salary is:\",total_salary)\n",
    "else:\n",
    "    rate_per_hr=500\n",
    "    print(\"rate per hr is:\",rate_per_hr)\n",
    "    total_salary=n*rph\n",
    "    print(\"total salary is:\",total_salary)"
   ]
  },
  {
   "cell_type": "code",
   "execution_count": null,
   "metadata": {},
   "outputs": [],
   "source": [
    "#above program using i/p stmnt for rate per hr\n",
    "\n",
    "n=eval(input(\"Enter n value: \"))\n",
    "if n>50:\n",
    "    rate_per_hr=eval(input(\"Enter rate per hr: \"))\n",
    "    print(\"rate per hr is:\",rate_per_hr)\n",
    "    total_salary=n*rate_per_hr\n",
    "    print(\"total salary is:\",total_salary)\n",
    "else:\n",
    "    rate_per_hr=eval(input(\"Enter rate per hr: \"))\n",
    "    print(\"rate per hr is:\",rate_per_hr)\n",
    "    total_salary=n*rate_per_hr\n",
    "    print(\"total salary is:\",total_salary)"
   ]
  },
  {
   "cell_type": "code",
   "execution_count": null,
   "metadata": {},
   "outputs": [],
   "source": [
    "#above program using functions\n",
    "\n",
    "def salary():\n",
    "    n=eval(input(\"Enter n value: \"))\n",
    "    if n>50:\n",
    "        rate_per_hr=1000\n",
    "        print(\"rate per hr is:\",rate_per_hr)\n",
    "        total_salary=n*rate_per_hr\n",
    "        print(\"total salary is:\",total_salary)\n",
    "    else:\n",
    "        rate_per_hr=500\n",
    "        print(\"rate per hr is:\",rate_per_hr)\n",
    "        total_salary=n*rate_per_hr\n",
    "        print(\"total salary is:\",total_salary)\n",
    "salary()"
   ]
  },
  {
   "cell_type": "code",
   "execution_count": null,
   "metadata": {},
   "outputs": [],
   "source": [
    "##above program using functions (using i/p stmnt for rate per hr)\n",
    "\n",
    "def salary():\n",
    "    n=eval(input(\"Enter n value: \"))\n",
    "    if n>50:\n",
    "        rate_per_hr=eval(input(\"Enter rate per hr: \"))\n",
    "        print(\"rate per hr is:\",rate_per_hr)\n",
    "        total_salary=n*rate_per_hr\n",
    "        print(\"total salary is:\",total_salary)\n",
    "    else:\n",
    "        rate_per_hr=eval(input(\"Enter rate per hr: \"))\n",
    "        print(\"rate per hr is:\",rate_per_hr)\n",
    "        total_salary=n*rate_per_hr\n",
    "        print(\"total salary is:\",total_salary)\n",
    "salary()\n"
   ]
  },
  {
   "cell_type": "code",
   "execution_count": null,
   "metadata": {},
   "outputs": [],
   "source": [
    "#using arguments\n",
    "\n",
    "def salary(n,rph):\n",
    "    if n>50:\n",
    "        print(\"no. of working hours is greater than 50, So n is equal to:\",n)\n",
    "        print(\"rate per hr is:\",rph)\n",
    "        total_salary=n*rph\n",
    "        print(\"total salary is:\",total_salary)\n",
    "    else:\n",
    "        print(\"no. of working hours is less than 50, So n is equal to:\",n)\n",
    "        print(\"rate per hr is:\",rph)\n",
    "        total_salary=n*rph\n",
    "        print(\"total salary is:\",total_salary)\n",
    "salary(35,500)\n"
   ]
  },
  {
   "cell_type": "code",
   "execution_count": null,
   "metadata": {},
   "outputs": [],
   "source": [
    "#Default arguments\n",
    "\n",
    "def salary(n,rph=1000):\n",
    "    if n>50:\n",
    "        print(\"no. of working hours is greater than 50, So n is equal to:\",n)\n",
    "        print(\"rate per hr is:\",rph)\n",
    "        total_salary=n*rph\n",
    "        print(\"total salary is:\",total_salary)\n",
    "    else:\n",
    "        print(\"no. of working hours is less than 50, So n is equal to:\",n)\n",
    "        print(\"rate per hr is:\",rph)\n",
    "        total_salary=n*rph\n",
    "        print(\"total salary is:\",total_salary)\n",
    "salary(60)\n",
    "\n"
   ]
  },
  {
   "cell_type": "code",
   "execution_count": null,
   "metadata": {},
   "outputs": [],
   "source": [
    "#Using return \n",
    "\n",
    "def salary(n,rph):\n",
    "    if n>50:\n",
    "        print(\"no. of working hours is greater than 50, So n is equal to:\",n)\n",
    "        print(\"rate per hr is:\",rph)\n",
    "        total_salary=n*rph\n",
    "        print(\"total salary is:\",total_salary)\n",
    "    else:\n",
    "        print(\"no. of working hours is less than 50, So n is equal to:\",n)\n",
    "        print(\"rate per hr is:\",rph)\n",
    "        total_salary=n*rph\n",
    "        print(\"total salary is:\",total_salary)\n",
    "        return(total_salary)\n",
    "TotalSal=salary(35,500)"
   ]
  },
  {
   "cell_type": "code",
   "execution_count": null,
   "metadata": {},
   "outputs": [],
   "source": [
    "#Create a function for below stmnts (From above program - refer 3rd cell)\n",
    "def greater(n,rph):\n",
    "    print(\"no. of working hours is greater than 50, So n is equal to:\",n)\n",
    "    print(\"rate per hr is:\",rph)\n",
    "    total_salary=n*rph\n",
    "    print(\"total salary is:\",total_salary)\n",
    "def lesser(n,rph):\n",
    "    print(\"no. of working hours is less than 50, So n is equal to:\",n)\n",
    "    print(\"rate per hr is:\",rph)\n",
    "    total_salary=n*rph\n",
    "    print(\"total salary is:\",total_salary)\n",
    "greater(51,1000)\n",
    "lesser(40,500)\n",
    "        \n",
    "    "
   ]
  },
  {
   "cell_type": "code",
   "execution_count": null,
   "metadata": {},
   "outputs": [],
   "source": [
    "# Function in function (From 6th cell)\n",
    "\n",
    "def salary(n,rph):\n",
    "    greater(n,rph)\n",
    "    lesser(n,rph)\n",
    "salary(40,500)\n",
    "    \n"
   ]
  },
  {
   "cell_type": "code",
   "execution_count": null,
   "metadata": {},
   "outputs": [],
   "source": [
    "##above program using functions (using i/p stmnt for rate per hr)\n",
    "\n",
    "def salary():\n",
    "    n=eval(input(\"Enter n value: \"))\n",
    "    if n>50:\n",
    "        print(\"no. of working hours is greater than 50, So n is equal to:\",n)\n",
    "        rate_per_hr=eval(input(\"Enter rate per hr: \")) #line1\n",
    "        print(\"rate per hr is:\",rate_per_hr)  #line2\n",
    "        total_salary=n*rate_per_hr             #line3\n",
    "        print(\"total salary is:\",total_salary)  #line4\n",
    "    else:\n",
    "        print(\"no. of working hours is lesser than 50, So n is equal to:\",n)\n",
    "        rate_per_hr=eval(input(\"Enter rate per hr: \"))\n",
    "        print(\"rate per hr is:\",rate_per_hr)\n",
    "        total_salary=n*rate_per_hr\n",
    "        print(\"total salary is:\",total_salary)\n",
    "salary()\n"
   ]
  },
  {
   "cell_type": "code",
   "execution_count": null,
   "metadata": {},
   "outputs": [],
   "source": [
    "#From Above program, since in if & else block \"4\" statments are same(Line 1 to 4) ,, Create a function for those lines\n",
    "\n",
    "def sal5(n):\n",
    "        rate_per_hr=eval(input(\"Enter rate per hr: \"))\n",
    "        print(\"rate per hr is:\",rate_per_hr)\n",
    "        total_salary=n*rate_per_hr\n",
    "        print(\"total salary is:\",total_salary)\n",
    "sal5(50)"
   ]
  },
  {
   "cell_type": "code",
   "execution_count": null,
   "metadata": {},
   "outputs": [],
   "source": [
    "#Function in function with if &else conditional stmnts(with arguments) (From 16th cell)\n",
    "\n",
    "def salary(n):\n",
    "    if n>50:\n",
    "        print(\"no. of working hours is greater than 50, So n is equal to:\",n)\n",
    "        sal5(n)\n",
    "    else:\n",
    "        print(\"no. of working hours is lesser than 50, So n is equal to:\",n)\n",
    "        sal5(n)\n",
    "salary(40)\n",
    "\n"
   ]
  },
  {
   "cell_type": "code",
   "execution_count": null,
   "metadata": {},
   "outputs": [],
   "source": [
    "##Function in function with if &else conditional stmnts(without arguments)\n",
    "\n",
    "# From cell 5\n",
    "\n",
    "def sal10():\n",
    "    n=eval(input(\"Enter n value: \"))\n",
    "    rate_per_hr=eval(input(\"Enter rate_per_hr: \"))\n",
    "    print(\"rate per hr is:\",rate_per_hr)\n",
    "    total_salary=n*rate_per_hr\n",
    "    print(\"total salary is:\",total_salary)\n",
    "    \n",
    "    \n",
    "\n",
    "    \n",
    "\n"
   ]
  },
  {
   "cell_type": "code",
   "execution_count": null,
   "metadata": {},
   "outputs": [],
   "source": [
    "##Function in function with if &else conditional stmnts(without arguments)\n",
    "\n",
    "def salary():\n",
    "    n=eval(input(\"Enter n value: \"))\n",
    "    if n>50:\n",
    "        #print(\"no. of working hours is greater than 50, So n is equal to:\",n)\n",
    "        sal10() \n",
    "    else:\n",
    "        #print(\"no. of working hours is lesser than 50, So n is equal to:\",n)\n",
    "        sal10()\n",
    "salary()\n",
    "\n",
    "\n",
    "\n"
   ]
  },
  {
   "cell_type": "markdown",
   "metadata": {},
   "source": [
    "# Date:-feb 27th,2022"
   ]
  },
  {
   "cell_type": "code",
   "execution_count": null,
   "metadata": {},
   "outputs": [],
   "source": [
    "#User enter marks , if marks > or equal 90-print A grade ,, if marks btw 75 to 90-print B ,\n",
    "#if marks bw 55 to 75 -print C nd if less than or equal to 90 -print D\n",
    "\n",
    "marks=eval(input(\"Enter marks obtained: \"))\n",
    "if marks>=95:\n",
    "    print(\"Student gets A grade\")\n",
    "elif marks>=75 and marks<90:\n",
    "    print(\"Student gets B grade\")\n",
    "elif marks>=55 and marks<75:\n",
    "    print(\"Student gets C grade\")\n",
    "else:\n",
    "    print(\"Student gets D grade\")\n",
    "    "
   ]
  },
  {
   "cell_type": "code",
   "execution_count": null,
   "metadata": {},
   "outputs": [],
   "source": [
    "#Function call( Fun without arguments)\n",
    "def grademarks():\n",
    "    marks=eval(input(\"Enter marks obtained: \"))\n",
    "    if marks>=95:\n",
    "        print(\"Student gets A grade\")\n",
    "    elif marks>=75 and marks<90:\n",
    "        print(\"Student gets B grade\")\n",
    "    elif marks>=55 and marks<75:\n",
    "        print(\"Student gets C grade\")\n",
    "    else:\n",
    "        print(\"Student gets D grade\")\n",
    "grademarks()"
   ]
  },
  {
   "cell_type": "code",
   "execution_count": null,
   "metadata": {},
   "outputs": [],
   "source": [
    "#Fun with arguments\n",
    "\n",
    "def grademarks(marks):\n",
    "    if marks>=95:\n",
    "        print(\"Student gets A grade\")\n",
    "    elif marks>=75 and marks<90:\n",
    "        print(\"Student gets B grade\")\n",
    "    elif marks>=55 and marks<75:\n",
    "        print(\"Student gets C grade\")\n",
    "    else:\n",
    "        print(\"Student gets D grade\")\n",
    "grademarks(80)\n",
    "    "
   ]
  },
  {
   "cell_type": "markdown",
   "metadata": {},
   "source": [
    "# Random package\n",
    "\n"
   ]
  },
  {
   "cell_type": "code",
   "execution_count": null,
   "metadata": {},
   "outputs": [],
   "source": [
    "import random"
   ]
  },
  {
   "cell_type": "code",
   "execution_count": null,
   "metadata": {},
   "outputs": [],
   "source": [
    "dir(random)"
   ]
  },
  {
   "cell_type": "code",
   "execution_count": null,
   "metadata": {},
   "outputs": [],
   "source": [
    "random.randint()\n"
   ]
  },
  {
   "cell_type": "code",
   "execution_count": null,
   "metadata": {},
   "outputs": [],
   "source": [
    "# use help to find functionality of random \n",
    "help(random.randint)\n",
    "\n",
    "\n",
    "# Since randint is a method (i.e., function), arguments a & b are necessary  "
   ]
  },
  {
   "cell_type": "code",
   "execution_count": null,
   "metadata": {},
   "outputs": [],
   "source": [
    "#  or question mark(?)\n",
    "\n",
    "?random.randint\n",
    "\n",
    "# This helps the user to find fnctionality of \"randint\""
   ]
  },
  {
   "cell_type": "code",
   "execution_count": null,
   "metadata": {},
   "outputs": [],
   "source": [
    "random.randint(1,10)\n",
    "\n",
    "#Output varies everytime you execute the above cmnd"
   ]
  },
  {
   "cell_type": "code",
   "execution_count": null,
   "metadata": {},
   "outputs": [],
   "source": [
    "help(random.randrange)"
   ]
  },
  {
   "cell_type": "code",
   "execution_count": null,
   "metadata": {},
   "outputs": [],
   "source": [
    "#WAp to guess a number \n",
    "#System will generate a random no. \n",
    "#User enters a number\n",
    "#if system no. matches with user no. then allow user else don't allow\n",
    "\n",
    "import random\n",
    "system=random.randint(1,100)\n",
    "print(\"System generated number is: \", system)\n",
    "n=eval(input(\"Enter n value: \"))\n",
    "if system==n:\n",
    "    print(\"Allow the user\")\n",
    "else:\n",
    "    print(\"Don't allow the user\")"
   ]
  },
  {
   "cell_type": "markdown",
   "metadata": {},
   "source": [
    "# Date:- Feb 28th, 2022"
   ]
  },
  {
   "cell_type": "code",
   "execution_count": null,
   "metadata": {},
   "outputs": [],
   "source": [
    "#Above prog using fun'\n",
    "\n",
    "import random\n",
    "def guess():\n",
    "    system=random.randint(1,100)\n",
    "    print(\"System generated number is: \", system)\n",
    "    n=eval(input(\"Enter n value: \"))\n",
    "    if system==n:\n",
    "        print(\"Allow the user\")\n",
    "    else:\n",
    "        print(\"Don't allow the user\")\n",
    "guess()"
   ]
  },
  {
   "cell_type": "code",
   "execution_count": null,
   "metadata": {},
   "outputs": [],
   "source": [
    "# W/o arguments\n",
    "\n",
    "import random\n",
    "def guess(n):\n",
    "    system=random.randint(1,100)\n",
    "    print(\"System generated number is: \", system)\n",
    "    #n=eval(input(\"Enter n value: \"))\n",
    "    if system==n:\n",
    "        print(\"Allow the user\")\n",
    "    else:\n",
    "        print(\"Don't allow the user\")\n",
    "guess(10)\n"
   ]
  },
  {
   "cell_type": "code",
   "execution_count": null,
   "metadata": {},
   "outputs": [],
   "source": [
    "#Multiplication program\n",
    "#num1 & num2 should be generated randomly \n",
    "#system_answer=num1*num2\n",
    "#print(num1*num2=? )\n",
    "#user_answer\n",
    "#if system answer matches with user answer print as \"right\"  else \"wrong\"\n",
    "\n",
    "import random\n",
    "num1=random.randint(1,10)\n",
    "num2=random.randint(1,10)\n",
    "system_answer=num1*num2\n",
    "print(\"The system answer is:\",num1,'*',num2,'=?')\n",
    "user_answer=eval(input(\"Enter a value:\"))\n",
    "print(\"The user answer is: \",user_answer)\n",
    "if system_answer==user_answer:\n",
    "    print(\"System number & user number is matched\")\n",
    "else:\n",
    "    print(\"System number & user number is not matched\")"
   ]
  },
  {
   "cell_type": "code",
   "execution_count": null,
   "metadata": {},
   "outputs": [],
   "source": [
    "#above prog using i/p stmnts for user entered values \n",
    "import random\n",
    "num1=random.randint(1,10)\n",
    "num2=random.randint(1,10)\n",
    "print(\"The num1 is: \",num1)\n",
    "print(\"The num2 is: \",num2)\n",
    "system_answer=num1 * num2\n",
    "print(\"The system answer is: \",system_answer)\n",
    "n1=eval(input(\"Enter n1: \"))\n",
    "n2=eval(input(\"Enter n2: \"))\n",
    "user_answer=n1 * n2\n",
    "print(\"The user answer is: \",user_answer)\n",
    "if system_answer==user_answer:\n",
    "    print(\"Number is matched\")\n",
    "else:\n",
    "    print(\"Number is not matched\")"
   ]
  },
  {
   "cell_type": "markdown",
   "metadata": {},
   "source": [
    "#Exception handling\n",
    "\n",
    "- Errors are handled by using try block & except block\n"
   ]
  },
  {
   "cell_type": "code",
   "execution_count": null,
   "metadata": {},
   "outputs": [],
   "source": [
    "a=eval(input(\"Enter a value: \"))\n",
    "b=eval(input(\"Enter a value: \"))\n",
    "c=eval(input(\"Enter a value: \"))"
   ]
  },
  {
   "cell_type": "code",
   "execution_count": null,
   "metadata": {},
   "outputs": [],
   "source": [
    "#In order to handle the above , Exception handling concept is used \n",
    "\n",
    "try:\n",
    "    a1=eval(input(\"Enter a1 value: \"))\n",
    "    b2=eval(input(\"Enter b2 value: \"))\n",
    "\n",
    "except Exception as e:     ---# Since an error is encountered at \"b2\", except block is defined soon after \"b2\" I/p stmnt\n",
    "    print(\"The error is: \",e)\n",
    "    \n",
    "#In b2 , hello is given which is not allowed bcz \"eval\" allows nly integer & float data types\n",
    "#So except block is defined ,so that instead of displaying a error message & stopping the program over there,\n",
    "#cont' --> it displays an error msg like shown below (The error is: name 'hello' is not defined) \n",
    "    "
   ]
  },
  {
   "cell_type": "code",
   "execution_count": null,
   "metadata": {},
   "outputs": [],
   "source": [
    "#\n",
    "try:\n",
    "    a1=eval(input(\"Enter a1 value: \"))\n",
    "    b2=eval(input(\"Enter b2 value: \"))\n",
    "\n",
    "except Exception as e:  \n",
    "    print(\"The error is: \",e)\n",
    "c3=eval(input(\"Enter c3 value: \"))\n",
    "\n",
    "# See in o/p, near \"b2\" an error is displayed , "
   ]
  },
  {
   "cell_type": "code",
   "execution_count": null,
   "metadata": {},
   "outputs": [],
   "source": [
    "##Random no.Program using Try & exception block\n",
    "\n",
    "try:\n",
    "    import random\n",
    "    system=random.randint(1,100)\n",
    "    print(\"System generated number is: \", system)\n",
    "    n=eval(inp(\"Enter n value: \"))\n",
    "    if system==n:\n",
    "        print(\"Allow the user\")\n",
    "    else:\n",
    "        print(\"Don't allow the user\")\n",
    "except Exception as e:\n",
    "    print(\"The error is: \",e)\n"
   ]
  },
  {
   "cell_type": "code",
   "execution_count": null,
   "metadata": {},
   "outputs": [],
   "source": [
    "#\n",
    "try:\n",
    "    marks=eval(input(\"Enter marks obtained: \"))\n",
    "    if marks>=95:\n",
    "        print(\"Student gets A grade\")\n",
    "    elif marks>=75 and marks<90:\n",
    "        print(\"Student gets B grade\")\n",
    "    elif marks>=55 and marks<75:\n",
    "        print(\"Student gets C grade\")\n",
    "    else:\n",
    "        print(\"Student gets D grade\")\n",
    "except Exception as a:\n",
    "    print(\"The error is: \",a)\n",
    "\n",
    "    \n",
    "#In O/p error has occured bcz \"eval\" allows only int & float values"
   ]
  },
  {
   "cell_type": "code",
   "execution_count": 3,
   "metadata": {},
   "outputs": [
    {
     "name": "stdout",
     "output_type": "stream",
     "text": [
      "Enter marks obtained: 80\n",
      "The error is:  name 'mar' is not defined\n"
     ]
    }
   ],
   "source": [
    "#Practice program (Already solved program)\n",
    "try:\n",
    "    marks=eval(input(\"Enter marks obtained: \"))\n",
    "    if mar>=95:                      #Instead of marks, giving it as \"mar\"\n",
    "        print(\"Student gets A grade\")\n",
    "    elif marks>=75 and marks<90:\n",
    "        print(\"Student gets B grade\")\n",
    "    elif marks>=55 and marks<75:\n",
    "        print(\"Student gets C grade\")\n",
    "    else:\n",
    "        print(\"Student gets D grade\")\n",
    "except Exception as a:\n",
    "    print(\"The error is: \",a)\n",
    "\n",
    "#Error is occured in O/P as shown as below"
   ]
  },
  {
   "cell_type": "code",
   "execution_count": 12,
   "metadata": {},
   "outputs": [
    {
     "name": "stdout",
     "output_type": "stream",
     "text": [
      "Enter marks obtained: 90\n",
      "The error is:  name 'mar' is not defined\n"
     ]
    }
   ],
   "source": [
    "def grademarks():\n",
    "    try:\n",
    "        marks=eval(input(\"Enter marks obtained: \"))\n",
    "        if mar>=95:                      #Instead of marks, giving it as \"mar\"\n",
    "            print(\"Student gets A grade\")\n",
    "        elif marks>=75 and marks<90:\n",
    "            print(\"Student gets B grade\")\n",
    "        elif marks>=55 and marks<75:\n",
    "            print(\"Student gets C grade\")\n",
    "        else:\n",
    "            print(\"Student gets D grade\")\n",
    "    except Exception as a:\n",
    "        print(\"The error is: \",a)\n",
    "grademarks()\n",
    "\n"
   ]
  },
  {
   "cell_type": "markdown",
   "metadata": {},
   "source": [
    "# Date:-March 3rd, 2022"
   ]
  },
  {
   "cell_type": "markdown",
   "metadata": {},
   "source": [
    "#For loop\n",
    "\n",
    "- for i in range(n):\n",
    "\n",
    "- Count starts from zero(0) \n",
    "\n",
    "- Range is 0 to n-1"
   ]
  },
  {
   "cell_type": "code",
   "execution_count": 3,
   "metadata": {},
   "outputs": [
    {
     "name": "stdout",
     "output_type": "stream",
     "text": [
      "0\n",
      "1\n",
      "2\n",
      "3\n",
      "4\n",
      "5\n",
      "6\n",
      "7\n",
      "8\n",
      "9\n"
     ]
    }
   ],
   "source": [
    "for i in range(10):\n",
    "    print(i)\n",
    "\n",
    "#It prints from 0 to 9 "
   ]
  },
  {
   "cell_type": "code",
   "execution_count": 4,
   "metadata": {},
   "outputs": [
    {
     "name": "stdout",
     "output_type": "stream",
     "text": [
      "Hello\n",
      "Hello\n",
      "Hello\n",
      "Hello\n",
      "Hello\n",
      "Hello\n",
      "Hello\n",
      "Hello\n",
      "Hello\n",
      "Hello\n"
     ]
    }
   ],
   "source": [
    "for i in range(10):\n",
    "    print(\"Hello\")\n",
    "\n",
    "#In o/p, Hello is printed for 10 times"
   ]
  },
  {
   "cell_type": "code",
   "execution_count": 6,
   "metadata": {},
   "outputs": [
    {
     "name": "stdout",
     "output_type": "stream",
     "text": [
      "0\n",
      "Hello\n",
      "1\n",
      "Hello\n",
      "2\n",
      "Hello\n",
      "3\n",
      "Hello\n",
      "4\n",
      "Hello\n",
      "5\n",
      "Hello\n",
      "6\n",
      "Hello\n",
      "7\n",
      "Hello\n",
      "8\n",
      "Hello\n",
      "9\n",
      "Hello\n"
     ]
    }
   ],
   "source": [
    "for i in range(10):\n",
    "    print(i)\n",
    "    print(\"Hello\")\n",
    "    \n",
    "#From O/p, since 2 print stmnts are inside the block , untill the condition meets i.e.,upto 9 , loop continues\n",
    "#Number(0 to 9) & Hello are printed alternately"
   ]
  },
  {
   "cell_type": "code",
   "execution_count": 12,
   "metadata": {},
   "outputs": [
    {
     "name": "stdout",
     "output_type": "stream",
     "text": [
      "0 .hello\n",
      "1 .hello\n",
      "2 .hello\n",
      "3 .hello\n",
      "4 .hello\n",
      "5 .hello\n",
      "6 .hello\n",
      "7 .hello\n",
      "8 .hello\n",
      "9 .hello\n"
     ]
    }
   ],
   "source": [
    "for i in range(10):\n",
    "    print(i,'.hello')"
   ]
  },
  {
   "cell_type": "code",
   "execution_count": 13,
   "metadata": {},
   "outputs": [
    {
     "name": "stdout",
     "output_type": "stream",
     "text": [
      "1 2 3 4 5 6 7 8 9 "
     ]
    }
   ],
   "source": [
    "for i in range(1,10):\n",
    "    print(i,end=' ')\n",
    "    \n",
    "#start=1\n",
    "#end=10-1=9\n",
    "#direction = positive\n",
    "\n",
    "# for i in range(1,10,___).. since no value is given in 3rd series(Direction), it will take as a positive \n",
    "# i.e., end-1 (10-1).. 1 to 9 is printed"
   ]
  },
  {
   "cell_type": "code",
   "execution_count": 21,
   "metadata": {},
   "outputs": [
    {
     "name": "stdout",
     "output_type": "stream",
     "text": [
      "1 3 5 7 9 "
     ]
    }
   ],
   "source": [
    "for i in range(1,10,2):\n",
    "    print(i,end=' ')\n",
    "    \n",
    "#start=1\n",
    "#direction= positive\n",
    "#end=10-1(n-1)\n",
    "#Gap= 2 units( i.e., by 2 difference values are printed)"
   ]
  },
  {
   "cell_type": "code",
   "execution_count": 22,
   "metadata": {},
   "outputs": [
    {
     "name": "stdout",
     "output_type": "stream",
     "text": [
      "2 4 6 8 10 12 14 16 18 "
     ]
    }
   ],
   "source": [
    "for i in range(2,20,2):\n",
    "    print(i,end=' ')"
   ]
  },
  {
   "cell_type": "code",
   "execution_count": 23,
   "metadata": {},
   "outputs": [
    {
     "name": "stdout",
     "output_type": "stream",
     "text": [
      "3 6 9 12 15 "
     ]
    }
   ],
   "source": [
    "for i in range(3,17,3):\n",
    "    print(i,end=' ')"
   ]
  },
  {
   "cell_type": "code",
   "execution_count": 25,
   "metadata": {},
   "outputs": [],
   "source": [
    "for i in range(17,3,3):\n",
    "    print(i,end=' ')"
   ]
  },
  {
   "cell_type": "code",
   "execution_count": 26,
   "metadata": {},
   "outputs": [],
   "source": [
    "for i in range(3,17,-3):\n",
    "    print(i,end=' ')\n",
    "    \n",
    "#start=3\n",
    "#direction = negative value\n",
    "#end= n+1 (17 +1= 18)\n",
    "#In case of positve no.s for start & end , start value should be higher than end value"
   ]
  },
  {
   "cell_type": "code",
   "execution_count": 38,
   "metadata": {},
   "outputs": [],
   "source": [
    "for i in range(17,3,3):\n",
    "    print(i,end=' ')"
   ]
  },
  {
   "cell_type": "code",
   "execution_count": 28,
   "metadata": {},
   "outputs": [],
   "source": [
    "for i in range(-3,-17,3):\n",
    "    print(i,end=' ')\n",
    "    \n",
    "#start= -3\n",
    "#drctn = postve\n",
    "#end=n-1= -17-1= -18 which is not in given range, so o/p is not displayed"
   ]
  },
  {
   "cell_type": "code",
   "execution_count": 29,
   "metadata": {},
   "outputs": [
    {
     "name": "stdout",
     "output_type": "stream",
     "text": [
      "-3 0 3 6 9 12 15 "
     ]
    }
   ],
   "source": [
    "for i in range(-3,17,3):\n",
    "    print(i,end=' ')\n",
    "    \n",
    "#start = -3\n",
    "#drctn= pstve\n",
    "#end= n-1 = 17-1 = 16 which is in range \n",
    "# condition -- Since drction is postve , start value should be lesser than end value"
   ]
  },
  {
   "cell_type": "code",
   "execution_count": 30,
   "metadata": {},
   "outputs": [],
   "source": [
    "for i in range(3,-17,3):\n",
    "    print(i,end=' ')\n",
    "    \n",
    "#start = 3\n",
    "#drctn= postve\n",
    "#end = n- 1 = -17-1 = -18 which is not in given range, so o/p is not displayed"
   ]
  },
  {
   "cell_type": "code",
   "execution_count": 31,
   "metadata": {},
   "outputs": [
    {
     "name": "stdout",
     "output_type": "stream",
     "text": [
      "-17 -14 -11 -8 -5 -2 1 "
     ]
    }
   ],
   "source": [
    "for i in range(-17,3,3):\n",
    "    print(i,end=' ')\n",
    "    \n",
    "#start = -17\n",
    "#drctn= postve\n",
    "# end=n-1 = 3-1 =2 which is in given range \n",
    "# since drctn is pstve, strt value should be lesser than end value"
   ]
  },
  {
   "cell_type": "code",
   "execution_count": 32,
   "metadata": {},
   "outputs": [],
   "source": [
    "for i in range(17,-3,3):\n",
    "    print(i,end=' ')\n",
    "    \n",
    "#start=17\n",
    "#drctn= postve\n",
    "#end= -3-1 = -4\n",
    "#Since drctn is postve, start value should be lesser than end value .. Since both the conditions are not satisfied, op is not printed"
   ]
  },
  {
   "cell_type": "code",
   "execution_count": 33,
   "metadata": {},
   "outputs": [
    {
     "name": "stdout",
     "output_type": "stream",
     "text": [
      "-3 -6 -9 -12 -15 "
     ]
    }
   ],
   "source": [
    "for i in range(-3,-17,-3):\n",
    "    print(i,end=' ')\n",
    "    \n",
    "#Direction-- negative value\n",
    "#start = -3\n",
    "#end= -17+1 = -16 \n",
    "\n",
    "#Also since it s ngtve value, start value should be greater than end value "
   ]
  },
  {
   "cell_type": "code",
   "execution_count": 34,
   "metadata": {},
   "outputs": [],
   "source": [
    "for i in range(-17,-3,-3):\n",
    "    print(i,end=' ')\n",
    "    \n",
    "#Direction-- negative value\n",
    "#start = -17\n",
    "#end= -3+1 = -2 \n",
    "\n",
    "#Also since drctn  s ngtve value, start value should be greater than end value\n",
    "#But cndtn is not stsfd, hence op is not displayed"
   ]
  },
  {
   "cell_type": "code",
   "execution_count": 35,
   "metadata": {},
   "outputs": [],
   "source": [
    "for i in range(-3,17,-3):\n",
    "    print(i,end=' ')\n",
    "     \n",
    "#start= -3\n",
    "#direction is ngtve value \n",
    "#end = n-1 = 17-1 = 16\n",
    "# Since drctn is ngtve value, start value > end value\n",
    "# Since above cndtn is not satisfied, o/p is not displayed"
   ]
  },
  {
   "cell_type": "code",
   "execution_count": 36,
   "metadata": {},
   "outputs": [
    {
     "name": "stdout",
     "output_type": "stream",
     "text": [
      "3 0 -3 -6 -9 -12 -15 "
     ]
    }
   ],
   "source": [
    "for i in range(3,-17,-3):\n",
    "    print(i,end=' ')\n",
    "    \n",
    "#start= -3\n",
    "#drctn is ngtve\n",
    "#end= n+1 = -17+1 = -16\n",
    "#Since drcn is ngtve, strt value should be > end -- ys cndn is satisfied "
   ]
  },
  {
   "cell_type": "code",
   "execution_count": 37,
   "metadata": {},
   "outputs": [],
   "source": [
    "for i in range(-17,3,-3):\n",
    "    print(i,end=' ')\n",
    "    \n",
    "#start= -17\n",
    "#drctn= ngtve\n",
    "#end= n +1= 3+1=4\n",
    "#since drctn is ngtve, start value > end value ( condition not stsfd-->O/p is not displayed)\n",
    "#gap by -3 ----- -17, -20, -23 .... no where it ends by 4(positive value)"
   ]
  },
  {
   "cell_type": "code",
   "execution_count": 39,
   "metadata": {},
   "outputs": [
    {
     "name": "stdout",
     "output_type": "stream",
     "text": [
      "-17 -14 -11 -8 -5 "
     ]
    }
   ],
   "source": [
    "for i in range(-17,-3,3):\n",
    "    print(i,end=' ')\n",
    "    \n",
    "#strt= -17\n",
    "#end= -3-1 = -4\n",
    "##gap-3\n",
    "# -17, -14, -11, -8, -5, -2,-1 (But ends upto -5 since end value is -4)"
   ]
  },
  {
   "cell_type": "code",
   "execution_count": 40,
   "metadata": {},
   "outputs": [],
   "source": [
    "for i in range(17,-3,3):\n",
    "    print(i,end=' ')\n",
    "    \n",
    "#strt = 17\n",
    "#end = -3-1 =-4\n",
    "# drctn is pstve, but end value is ngtve (-4), it is not possible\n",
    "# 17, 20,23,26 ......"
   ]
  },
  {
   "cell_type": "markdown",
   "metadata": {},
   "source": [
    "#Type of errors--\n",
    "\n",
    "- Invalid syntax error\n",
    "\n",
    "- Variable error - name is not defined\n",
    "\n",
    "- int type unable to add with str type\n",
    "\n",
    "- Indentation error\n",
    "\n",
    "- No. of arguments passed are not same as positional arguments"
   ]
  },
  {
   "cell_type": "code",
   "execution_count": 8,
   "metadata": {},
   "outputs": [
    {
     "name": "stdout",
     "output_type": "stream",
     "text": [
      "100 The square of 10 is 100\n",
      "121 The square of 11 is 121\n",
      "144 The square of 12 is 144\n",
      "169 The square of 13 is 169\n",
      "196 The square of 14 is 196\n",
      "225 The square of 15 is 225\n",
      "256 The square of 16 is 256\n",
      "289 The square of 17 is 289\n",
      "324 The square of 18 is 324\n",
      "361 The square of 19 is 361\n"
     ]
    }
   ],
   "source": [
    "#WAP to print square of the no. in a given range ( 10 to 20)\n",
    "\n",
    "\n",
    "for i in range(10,20):\n",
    "    square_no=i*i\n",
    "    print(square_no,end=' ')\n",
    "    print(\"The square of {} is {}\".format(i,square_no))"
   ]
  },
  {
   "cell_type": "code",
   "execution_count": 13,
   "metadata": {},
   "outputs": [
    {
     "name": "stdout",
     "output_type": "stream",
     "text": [
      "100 121 144 169 196 225 256 289 324 361 "
     ]
    }
   ],
   "source": [
    "#Using method or fun'\n",
    "def sq():\n",
    "    for i in range(10,20):\n",
    "        square_no=i*i\n",
    "        print(square_no,end=' ')\n",
    "sq()"
   ]
  },
  {
   "cell_type": "code",
   "execution_count": 14,
   "metadata": {},
   "outputs": [
    {
     "name": "stdout",
     "output_type": "stream",
     "text": [
      "The square of 10 is 100\n",
      "The square of 11 is 121\n",
      "The square of 12 is 144\n",
      "The square of 13 is 169\n",
      "The square of 14 is 196\n",
      "The square of 15 is 225\n",
      "The square of 16 is 256\n",
      "The square of 17 is 289\n",
      "The square of 18 is 324\n",
      "The square of 19 is 361\n"
     ]
    }
   ],
   "source": [
    "#Using method or fun'\n",
    "def sq():\n",
    "    for i in range(10,20):\n",
    "        square_no=i*i\n",
    "        print(\"The square of {} is {}\".format(i,square_no))\n",
    "sq()"
   ]
  },
  {
   "cell_type": "code",
   "execution_count": 15,
   "metadata": {},
   "outputs": [
    {
     "name": "stdout",
     "output_type": "stream",
     "text": [
      "Enter number 1: 1\n",
      "Enter number 2: 10\n",
      "The square of 1 is 1\n",
      "The square of 2 is 4\n",
      "The square of 3 is 9\n",
      "The square of 4 is 16\n",
      "The square of 5 is 25\n",
      "The square of 6 is 36\n",
      "The square of 7 is 49\n",
      "The square of 8 is 64\n",
      "The square of 9 is 81\n"
     ]
    }
   ],
   "source": [
    "#user i/p using for\n",
    "num1=eval(input(\"Enter number 1: \"))\n",
    "num2=eval(input(\"Enter number 2: \"))\n",
    "for i2 in range(num1,num2):\n",
    "    square_no=i2*i2\n",
    "    print(\"The square of {} is {}\".format(i2,square_no))"
   ]
  },
  {
   "cell_type": "code",
   "execution_count": 17,
   "metadata": {},
   "outputs": [
    {
     "name": "stdout",
     "output_type": "stream",
     "text": [
      "The square of 1 is 1\n",
      "The square of 2 is 4\n",
      "The square of 3 is 9\n",
      "The square of 4 is 16\n",
      "The square of 5 is 25\n",
      "The square of 6 is 36\n",
      "The square of 7 is 49\n",
      "The square of 8 is 64\n",
      "The square of 9 is 81\n"
     ]
    }
   ],
   "source": [
    "#Above prog using fun'\n",
    "\n",
    "def squ(num1,num2):\n",
    "    for i2 in range(num1,num2):\n",
    "        square_no=i2*i2\n",
    "        print(\"The square of {} is {}\".format(i2,square_no))\n",
    "squ(1,10)"
   ]
  },
  {
   "cell_type": "code",
   "execution_count": 20,
   "metadata": {},
   "outputs": [
    {
     "name": "stdout",
     "output_type": "stream",
     "text": [
      "Enter number: 3\n",
      "out\n"
     ]
    }
   ],
   "source": [
    "#Guess prog\n",
    "\n",
    "\n",
    "import random\n",
    "number=random.randint(1,10)\n",
    "user_number=eval(input(\"Enter number: \"))\n",
    "if number==user_number:\n",
    "    print(\"You are in\")\n",
    "else:\n",
    "    print(\"out\")\n",
    "    "
   ]
  },
  {
   "cell_type": "code",
   "execution_count": 1,
   "metadata": {},
   "outputs": [
    {
     "name": "stdout",
     "output_type": "stream",
     "text": [
      "Enter number: 1\n",
      "out\n",
      "Enter number: 2\n",
      "out\n",
      "Enter number: 3\n",
      "You are in\n",
      "Enter number: 4\n",
      "out\n"
     ]
    }
   ],
   "source": [
    "#using for loop ( say 5 times it should ask for to enter a number )\n",
    "\n",
    "\n",
    "import random\n",
    "number=random.randint(1,10)\n",
    "for i in range(1,5):\n",
    "    user_number=eval(input(\"Enter number: \"))\n",
    "    if number==user_number:\n",
    "        print(\"You are in\")\n",
    "    else:\n",
    "        print(\"out\")\n"
   ]
  },
  {
   "cell_type": "markdown",
   "metadata": {},
   "source": [
    "# Date:-March 4th, 2022"
   ]
  },
  {
   "cell_type": "code",
   "execution_count": 1,
   "metadata": {},
   "outputs": [
    {
     "name": "stdout",
     "output_type": "stream",
     "text": [
      "Enter n value: 3\n",
      "Number is an odd\n"
     ]
    }
   ],
   "source": [
    "#Even, odd prblm\n",
    "n=eval(input(\"Enter n value: \"))\n",
    "if n%2==0:\n",
    "    print(\"Number is an even\")\n",
    "else:\n",
    "    print(\"Number is an odd\")"
   ]
  },
  {
   "cell_type": "code",
   "execution_count": 10,
   "metadata": {},
   "outputs": [
    {
     "name": "stdout",
     "output_type": "stream",
     "text": [
      "The odd number is: 1\n",
      "The even number is: 2\n",
      "The odd number is: 3\n",
      "The even number is: 4\n",
      "The odd number is: 5\n",
      "The even number is: 6\n",
      "The odd number is: 7\n",
      "The even number is: 8\n",
      "The odd number is: 9\n",
      "The even number is: 10\n",
      "The odd number is: 11\n",
      "The even number is: 12\n",
      "The odd number is: 13\n",
      "The even number is: 14\n",
      "The odd number is: 15\n",
      "The even number is: 16\n",
      "The odd number is: 17\n",
      "The even number is: 18\n",
      "The odd number is: 19\n",
      "The even number is: 20\n",
      "The odd number is: 21\n",
      "The even number is: 22\n",
      "The odd number is: 23\n",
      "The even number is: 24\n",
      "The odd number is: 25\n",
      "The even number is: 26\n",
      "The odd number is: 27\n",
      "The even number is: 28\n",
      "The odd number is: 29\n",
      "The even number is: 30\n",
      "The odd number is: 31\n",
      "The even number is: 32\n",
      "The odd number is: 33\n",
      "The even number is: 34\n",
      "The odd number is: 35\n",
      "The even number is: 36\n",
      "The odd number is: 37\n",
      "The even number is: 38\n",
      "The odd number is: 39\n",
      "The even number is: 40\n",
      "The odd number is: 41\n",
      "The even number is: 42\n",
      "The odd number is: 43\n",
      "The even number is: 44\n",
      "The odd number is: 45\n",
      "The even number is: 46\n",
      "The odd number is: 47\n",
      "The even number is: 48\n",
      "The odd number is: 49\n",
      "The even number is: 50\n",
      "The odd number is: 51\n",
      "The even number is: 52\n",
      "The odd number is: 53\n",
      "The even number is: 54\n",
      "The odd number is: 55\n",
      "The even number is: 56\n",
      "The odd number is: 57\n",
      "The even number is: 58\n",
      "The odd number is: 59\n",
      "The even number is: 60\n",
      "The odd number is: 61\n",
      "The even number is: 62\n",
      "The odd number is: 63\n",
      "The even number is: 64\n",
      "The odd number is: 65\n",
      "The even number is: 66\n",
      "The odd number is: 67\n",
      "The even number is: 68\n",
      "The odd number is: 69\n",
      "The even number is: 70\n",
      "The odd number is: 71\n",
      "The even number is: 72\n",
      "The odd number is: 73\n",
      "The even number is: 74\n",
      "The odd number is: 75\n",
      "The even number is: 76\n",
      "The odd number is: 77\n",
      "The even number is: 78\n",
      "The odd number is: 79\n",
      "The even number is: 80\n",
      "The odd number is: 81\n",
      "The even number is: 82\n",
      "The odd number is: 83\n",
      "The even number is: 84\n",
      "The odd number is: 85\n",
      "The even number is: 86\n",
      "The odd number is: 87\n",
      "The even number is: 88\n",
      "The odd number is: 89\n",
      "The even number is: 90\n",
      "The odd number is: 91\n",
      "The even number is: 92\n",
      "The odd number is: 93\n",
      "The even number is: 94\n",
      "The odd number is: 95\n",
      "The even number is: 96\n",
      "The odd number is: 97\n",
      "The even number is: 98\n",
      "The odd number is: 99\n",
      "The even number is: 100\n"
     ]
    }
   ],
   "source": [
    "#WAP to find even numbers & odd numbers btw 1 to 100 \n",
    "\n",
    "\n",
    "for i in range(1,101):\n",
    "    if i%2==0:\n",
    "        print(\"The even number is:\",i)\n",
    "    else:\n",
    "        print(\"The odd number is:\",i)\n"
   ]
  },
  {
   "cell_type": "code",
   "execution_count": 11,
   "metadata": {},
   "outputs": [
    {
     "name": "stdout",
     "output_type": "stream",
     "text": [
      "The odd number is: 1\n",
      "The even number is: 2\n",
      "The odd number is: 3\n",
      "The even number is: 4\n",
      "The odd number is: 5\n",
      "The even number is: 6\n",
      "The odd number is: 7\n",
      "The even number is: 8\n",
      "The odd number is: 9\n",
      "The even number is: 10\n",
      "The odd number is: 11\n",
      "The even number is: 12\n",
      "The odd number is: 13\n",
      "The even number is: 14\n",
      "The odd number is: 15\n",
      "The even number is: 16\n",
      "The odd number is: 17\n",
      "The even number is: 18\n",
      "The odd number is: 19\n",
      "The even number is: 20\n",
      "The odd number is: 21\n",
      "The even number is: 22\n",
      "The odd number is: 23\n",
      "The even number is: 24\n",
      "The odd number is: 25\n",
      "The even number is: 26\n",
      "The odd number is: 27\n",
      "The even number is: 28\n",
      "The odd number is: 29\n",
      "The even number is: 30\n",
      "The odd number is: 31\n",
      "The even number is: 32\n",
      "The odd number is: 33\n",
      "The even number is: 34\n",
      "The odd number is: 35\n",
      "The even number is: 36\n",
      "The odd number is: 37\n",
      "The even number is: 38\n",
      "The odd number is: 39\n",
      "The even number is: 40\n",
      "The odd number is: 41\n",
      "The even number is: 42\n",
      "The odd number is: 43\n",
      "The even number is: 44\n",
      "The odd number is: 45\n",
      "The even number is: 46\n",
      "The odd number is: 47\n",
      "The even number is: 48\n",
      "The odd number is: 49\n",
      "The even number is: 50\n",
      "The odd number is: 51\n",
      "The even number is: 52\n",
      "The odd number is: 53\n",
      "The even number is: 54\n",
      "The odd number is: 55\n",
      "The even number is: 56\n",
      "The odd number is: 57\n",
      "The even number is: 58\n",
      "The odd number is: 59\n",
      "The even number is: 60\n",
      "The odd number is: 61\n",
      "The even number is: 62\n",
      "The odd number is: 63\n",
      "The even number is: 64\n",
      "The odd number is: 65\n",
      "The even number is: 66\n",
      "The odd number is: 67\n",
      "The even number is: 68\n",
      "The odd number is: 69\n",
      "The even number is: 70\n",
      "The odd number is: 71\n",
      "The even number is: 72\n",
      "The odd number is: 73\n",
      "The even number is: 74\n",
      "The odd number is: 75\n",
      "The even number is: 76\n",
      "The odd number is: 77\n",
      "The even number is: 78\n",
      "The odd number is: 79\n",
      "The even number is: 80\n",
      "The odd number is: 81\n",
      "The even number is: 82\n",
      "The odd number is: 83\n",
      "The even number is: 84\n",
      "The odd number is: 85\n",
      "The even number is: 86\n",
      "The odd number is: 87\n",
      "The even number is: 88\n",
      "The odd number is: 89\n",
      "The even number is: 90\n",
      "The odd number is: 91\n",
      "The even number is: 92\n",
      "The odd number is: 93\n",
      "The even number is: 94\n",
      "The odd number is: 95\n",
      "The even number is: 96\n",
      "The odd number is: 97\n",
      "The even number is: 98\n",
      "The odd number is: 99\n",
      "The even number is: 100\n"
     ]
    }
   ],
   "source": [
    "#Above prog using fun's\n",
    "def number():\n",
    "    for i in range(1,101):\n",
    "        if i%2==0:\n",
    "            print(\"The even number is:\",i)\n",
    "        else:\n",
    "            print(\"The odd number is:\",i)\n",
    "number()"
   ]
  },
  {
   "cell_type": "code",
   "execution_count": 19,
   "metadata": {},
   "outputs": [
    {
     "name": "stdout",
     "output_type": "stream",
     "text": [
      "14\n",
      "47\n",
      "The even number is: 14\n",
      "The odd number is: 15\n",
      "The even number is: 16\n",
      "The odd number is: 17\n",
      "The even number is: 18\n",
      "The odd number is: 19\n",
      "The even number is: 20\n",
      "The odd number is: 21\n",
      "The even number is: 22\n",
      "The odd number is: 23\n",
      "The even number is: 24\n",
      "The odd number is: 25\n",
      "The even number is: 26\n",
      "The odd number is: 27\n",
      "The even number is: 28\n",
      "The odd number is: 29\n",
      "The even number is: 30\n",
      "The odd number is: 31\n",
      "The even number is: 32\n",
      "The odd number is: 33\n",
      "The even number is: 34\n",
      "The odd number is: 35\n",
      "The even number is: 36\n",
      "The odd number is: 37\n",
      "The even number is: 38\n",
      "The odd number is: 39\n",
      "The even number is: 40\n",
      "The odd number is: 41\n",
      "The even number is: 42\n",
      "The odd number is: 43\n",
      "The even number is: 44\n",
      "The odd number is: 45\n",
      "The even number is: 46\n"
     ]
    }
   ],
   "source": [
    "#Numbers should be printed randomly\n",
    "#So Use random for above prog'\n",
    "\n",
    "import random\n",
    "num1=random.randint(1,20)\n",
    "print(num1)\n",
    "num2=random.randint(30,50)\n",
    "print(num2)\n",
    "for i in range(num1,num2):\n",
    "    if i%2==0:\n",
    "        print(\"The even number is:\",i)\n",
    "    else:\n",
    "        print(\"The odd number is:\",i)\n"
   ]
  },
  {
   "cell_type": "code",
   "execution_count": 20,
   "metadata": {},
   "outputs": [
    {
     "name": "stdout",
     "output_type": "stream",
     "text": [
      "5\n",
      "Enter a value: 20\n",
      "The square of a number is: 400\n",
      "Enter a value: 10\n",
      "The square of a number is: 100\n",
      "Enter a value: 4\n",
      "The square of a number is: 16\n",
      "Enter a value: 5\n",
      "The square of a number is: 25\n",
      "Enter a value: 6\n",
      "The square of a number is: 36\n"
     ]
    }
   ],
   "source": [
    "#Square of a no. using random , for & user i/p\n",
    "\n",
    "import random\n",
    "num=random.randint(1,10)\n",
    "print(num)\n",
    "for i in range(num):\n",
    "    value=eval(input(\"Enter a value: \"))\n",
    "    print(\"The square of a number is:\",value*value)\n",
    "    \n",
    "#First step-- Importing random & storing random value in num & printing num for clarity\n",
    "#Second step-- For loop --- num is given as range\n",
    "#third step-- user i/p --- value --- \n",
    "#Prints sq of no. ( Based on the random number generated, value i/p stmnt is asked, \n",
    "#cont'-- here in prog', 5 is taken, so value stmnt is asked for 5 times)"
   ]
  },
  {
   "cell_type": "code",
   "execution_count": 37,
   "metadata": {},
   "outputs": [
    {
     "name": "stdout",
     "output_type": "stream",
     "text": [
      "The system generated number is: 6\n",
      "Enter a value:1\n",
      "Don't allow the user\n",
      "The system generated number is: 2\n",
      "Enter a value:2\n",
      "Allow the user in\n",
      "The system generated number is: 4\n",
      "Enter a value:3\n",
      "Don't allow the user\n",
      "The system generated number is: 9\n",
      "Enter a value:4\n",
      "Don't allow the user\n",
      "The system generated number is: 3\n",
      "Enter a value:5\n",
      "Don't allow the user\n"
     ]
    }
   ],
   "source": [
    "#Guess a number program (Run a loop for 5 times & randomly generate a no. & compare system &user no., if matches-allow, if not- don't allow)\n",
    "\n",
    "#method-1\n",
    "\n",
    "import random\n",
    "for i in range(5):\n",
    "    sys_num=random.randint(1,10)\n",
    "    print(\"The system generated number is:\",sys_num)\n",
    "    user_num=eval(input(\"Enter a value:\"))\n",
    "    #print(\"The user number is:\",user_num)\n",
    "    if sys_num==user_num:\n",
    "        print(\"Allow the user in\")\n",
    "    else:\n",
    "        print(\"Don't allow the user\")\n",
    "        \n",
    "#In O/p-- loop has runned for 5 times"
   ]
  },
  {
   "cell_type": "code",
   "execution_count": null,
   "metadata": {},
   "outputs": [],
   "source": [
    "#break statement\n",
    "\n",
    "- It is used to stop the loop "
   ]
  },
  {
   "cell_type": "code",
   "execution_count": 39,
   "metadata": {},
   "outputs": [
    {
     "name": "stdout",
     "output_type": "stream",
     "text": [
      "The system generated number is: 7\n",
      "Enter a value:7\n",
      "Allow the user in\n"
     ]
    }
   ],
   "source": [
    "#Method-2\n",
    "#Using break\n",
    "\n",
    "import random\n",
    "for i in range(5):\n",
    "    sys_num=random.randint(1,10)\n",
    "    print(\"The system generated number is:\",sys_num)\n",
    "    user_num=eval(input(\"Enter a value:\"))\n",
    "    #print(\"The user number is:\",user_num)\n",
    "    if sys_num==user_num:\n",
    "        print(\"Allow the user in\")\n",
    "        break  -----------# Since loop range is 5, it runs for 5 times .. But, here break is used , so when user is in, loop stops over there \n",
    "    else:\n",
    "        print(\"Don't allow the user\")\n"
   ]
  },
  {
   "cell_type": "code",
   "execution_count": 40,
   "metadata": {},
   "outputs": [
    {
     "name": "stdout",
     "output_type": "stream",
     "text": [
      "The system generated number is: 3\n",
      "Enter a value:2\n",
      "Don't allow the user\n",
      "The system generated number is: 2\n",
      "Enter a value:3\n",
      "Don't allow the user\n",
      "The system generated number is: 7\n",
      "Enter a value:4\n",
      "Don't allow the user\n",
      "The system generated number is: 3\n",
      "Enter a value:2\n",
      "Don't allow the user\n",
      "The system generated number is: 9\n",
      "Enter a value:1\n",
      "Don't allow the user\n",
      "you have completed your 5 chances\n"
     ]
    }
   ],
   "source": [
    "#Above prog , print a stmnt after user looses for 5 times as \"You have cmpltd your 5 chances\"\n",
    "\n",
    "\n",
    "import random\n",
    "for i in range(5):\n",
    "    sys_num=random.randint(1,10)\n",
    "    print(\"The system generated number is:\",sys_num)\n",
    "    user_num=eval(input(\"Enter a value:\"))\n",
    "    #print(\"The user number is:\",user_num)\n",
    "    if sys_num==user_num:\n",
    "        print(\"Allow the user in\")\n",
    "        break\n",
    "    else:\n",
    "        print(\"Don't allow the user\")\n",
    "print(\"you have completed your 5 chances\")\n",
    "        "
   ]
  },
  {
   "cell_type": "code",
   "execution_count": 58,
   "metadata": {},
   "outputs": [
    {
     "name": "stdout",
     "output_type": "stream",
     "text": [
      "The system generated number is: 3\n",
      "Enter a value:hiie\n",
      "The error is: name 'hiie' is not defined\n"
     ]
    }
   ],
   "source": [
    "#Method--3\n",
    "\n",
    "#try & except \n",
    "\n",
    "\n",
    "\n",
    "import random\n",
    "try:\n",
    "    for i in range(5):\n",
    "        sys_num=random.randint(1,10)\n",
    "        print(\"The system generated number is:\",sys_num)\n",
    "        user_num=eval(input(\"Enter a value:\"))\n",
    "        #print(\"The user number is:\",user_num)\n",
    "        if sys_num==user_num:\n",
    "            print(\"Allow the user in\")\n",
    "            break\n",
    "        else:\n",
    "            print(\"Don't allow the user\")\n",
    "    print(\"you have completed your 5 chances\")\n",
    "except Exception as e:\n",
    "    print(\"The error is:\",e)\n",
    "        \n",
    "    "
   ]
  },
  {
   "cell_type": "code",
   "execution_count": null,
   "metadata": {},
   "outputs": [],
   "source": [
    "#In above prog', if an error is encountered, an error msg is displayed & loop is ending there\n",
    "\n",
    "# In order to run a loop even after an error msg, function call can be used"
   ]
  },
  {
   "cell_type": "code",
   "execution_count": 61,
   "metadata": {},
   "outputs": [
    {
     "name": "stdout",
     "output_type": "stream",
     "text": [
      "The system generated number is: 3\n",
      "Enter a value:2\n",
      "Don't allow the user\n",
      "The system generated number is: 5\n",
      "Enter a value:1\n",
      "Don't allow the user\n",
      "The system generated number is: 6\n",
      "Enter a value:3\n",
      "Don't allow the user\n",
      "The system generated number is: 8\n",
      "Enter a value:5\n",
      "Don't allow the user\n",
      "The system generated number is: 6\n",
      "Enter a value:7\n",
      "Don't allow the user\n",
      "you have completed your 5 chances\n"
     ]
    }
   ],
   "source": [
    "# fun'\n",
    "\n",
    "def choose_num():\n",
    "    for i in range(5):\n",
    "        sys_num=random.randint(1,10)\n",
    "        print(\"The system generated number is:\",sys_num)\n",
    "        user_num=eval(input(\"Enter a value:\"))\n",
    "        if sys_num==user_num:\n",
    "            print(\"Allow the user in\")\n",
    "            break\n",
    "        else:\n",
    "            print(\"Don't allow the user\")\n",
    "    print(\"you have completed your 5 chances\")\n",
    "choose_num()"
   ]
  },
  {
   "cell_type": "code",
   "execution_count": 66,
   "metadata": {},
   "outputs": [
    {
     "name": "stdout",
     "output_type": "stream",
     "text": [
      "The system generated number is: 3\n",
      "Enter a value:2\n",
      "Don't allow the user\n",
      "The system generated number is: 1\n",
      "Enter a value:3\n",
      "Don't allow the user\n",
      "The system generated number is: 4\n",
      "Enter a value:ie\n",
      "The error is: name 'ie' is not defined\n",
      "The system generated number is: 7\n",
      "Enter a value:3\n",
      "Don't allow the user\n",
      "The system generated number is: 3\n",
      "Enter a value:4\n",
      "Don't allow the user\n",
      "The system generated number is: 7\n",
      "Enter a value:3\n",
      "Don't allow the user\n",
      "The system generated number is: 6\n",
      "Enter a value:2\n",
      "Don't allow the user\n",
      "The system generated number is: 6\n",
      "Enter a value:1\n",
      "Don't allow the user\n",
      "you have completed your 5 chances\n"
     ]
    }
   ],
   "source": [
    "#Method-4\n",
    "\n",
    "#Fun' call\n",
    "\n",
    "\n",
    "import random\n",
    "try:\n",
    "    choose_num()\n",
    "except Exception as e:\n",
    "    print(\"The error is:\",e)\n",
    "    choose_num()    \n",
    "    \n",
    "#after error msg, loop start counting from 1 .. so 5 times is runned which in shown as below"
   ]
  },
  {
   "cell_type": "markdown",
   "metadata": {},
   "source": [
    "# Date:-March 5th,2022"
   ]
  },
  {
   "cell_type": "code",
   "execution_count": 25,
   "metadata": {},
   "outputs": [
    {
     "name": "stdout",
     "output_type": "stream",
     "text": [
      "15\n"
     ]
    }
   ],
   "source": [
    "#WAP to find sum of all numbers in a given range \n",
    "\n",
    "sum=0\n",
    "for i in range(1,6):\n",
    "    sum=sum+i\n",
    "print(sum)\n",
    "    \n",
    "#In o/p, intially sum is intialized to (0), then after entering into for loop,  stmnt gets executed (sum=sum+i)\n",
    "# cnt' -- sum=sum+i -- sum =0 + 1 (i) = 1 =>sum=1\n",
    "#sum = sum +i ==> sum = 1+2(i) = 3 ==>sum=3\n",
    "#sum = sum +i ==> 3+3(i)==>sum=6\n",
    "# sum = 6 +4== > sum =10 \n",
    "# sum =10+5==>sum=15\n"
   ]
  },
  {
   "cell_type": "code",
   "execution_count": null,
   "metadata": {},
   "outputs": [],
   "source": [
    "#types of files in python \n",
    "\n",
    "- .ipynb (i python notebook ) -- It can be opened through jupyter notebook & it can be opened only if jupyter NB is opened\n",
    "\n",
    "- File name is as (http://localhost:8888/notebooks/practice1.ipynb)\n",
    "\n",
    "- .py (Python) --- In file ->Download as -> .py\n",
    "\n",
    "- .html ----File ->download as -> .html --> read only --(No modifications can be done)\n",
    "\n",
    "- Html is UI (user interface)"
   ]
  },
  {
   "cell_type": "markdown",
   "metadata": {},
   "source": [
    "#while\n",
    "- intialization\n",
    "- condition\n",
    "- increment/decrement\n",
    "- Above 3 should be declared step by step"
   ]
  },
  {
   "cell_type": "code",
   "execution_count": 26,
   "metadata": {},
   "outputs": [
    {
     "name": "stdout",
     "output_type": "stream",
     "text": [
      "1 2 3 4 5 6 7 8 9 10 "
     ]
    }
   ],
   "source": [
    "# To print range upto 10 using for loop \n",
    "\n",
    "for i in range (1,11):\n",
    "    print(i,end=' ')"
   ]
  },
  {
   "cell_type": "code",
   "execution_count": 29,
   "metadata": {},
   "outputs": [
    {
     "name": "stdout",
     "output_type": "stream",
     "text": [
      "1 2 3 4 5 6 7 8 9 10 "
     ]
    }
   ],
   "source": [
    "# To print range upto 10 using while loop  \n",
    "\n",
    "i=1-----------------------#Intialization -- #start point\n",
    "while(i<11):--------------#Condition --- #end point\n",
    "    print(i,end=' ')\n",
    "    i=i+1-----------------#Increment --# direction (positive or negative)\n",
    "    \n",
    "O/P:--\n",
    "#i=1, then it goes to while loop.. Since 1<11 , enters into while loop, prints (i) value i.e., '1'\n",
    "# Then, i=i+1 (i= 1 + 1)==> i=2\n",
    "\n",
    "#i=2, since 2 <11-->print(i)--> 2 --> i= i+1 (i= 2 +1)==> i=3\n",
    "# so on..........\n",
    "    "
   ]
  },
  {
   "cell_type": "code",
   "execution_count": 30,
   "metadata": {},
   "outputs": [
    {
     "name": "stdout",
     "output_type": "stream",
     "text": [
      "2 3 4 5 6 7 8 9 10 11 "
     ]
    }
   ],
   "source": [
    "#While loop\n",
    "\n",
    "i=1\n",
    "while(i<11):\n",
    "    i=i+1\n",
    "    print(i,end=' ')\n",
    "    \n",
    "#O/p:-\n",
    "#i=1 -->1<11 -->i=i+1 --> i= 1+1= 2 ==> i is printed \n",
    "#i=2-->2<11 -->i=i+1 -->i= 2+1==3\n"
   ]
  },
  {
   "cell_type": "code",
   "execution_count": 34,
   "metadata": {},
   "outputs": [
    {
     "name": "stdout",
     "output_type": "stream",
     "text": [
      "1 4 9 16 25 36 49 64 81 100 "
     ]
    }
   ],
   "source": [
    "#To print square of each number in a range of 10 using while loop\n",
    "\n",
    "i=1\n",
    "while(i<11):\n",
    "    sq_number=i*i\n",
    "    print(sq_number,end=' ')\n",
    "    i=i+1\n",
    "    "
   ]
  },
  {
   "cell_type": "code",
   "execution_count": 36,
   "metadata": {},
   "outputs": [
    {
     "name": "stdout",
     "output_type": "stream",
     "text": [
      "1\n"
     ]
    }
   ],
   "source": [
    "# \n",
    "i=1\n",
    "while True:\n",
    "    print(i)\n",
    "    break\n",
    "    \n",
    "    # whatever code present within True , it runs ... But if break stmnt is not defined in last line , the loop do not stop\n",
    "    #So to stop the loop, break is defined in last line"
   ]
  },
  {
   "cell_type": "code",
   "execution_count": 1,
   "metadata": {},
   "outputs": [
    {
     "name": "stdout",
     "output_type": "stream",
     "text": [
      "1\n",
      "2\n",
      "3\n",
      "4\n",
      "5\n",
      "6\n",
      "7\n",
      "8\n",
      "9\n"
     ]
    }
   ],
   "source": [
    "#\n",
    "i=1\n",
    "while True:\n",
    "    print(i)\n",
    "    i=i+1\n",
    "    if i==10:\n",
    "        break\n",
    "        \n",
    "#o/p\n",
    "#From program, In order  to stop the above while loop, a condition is defined if i is equals to 10, break the loop (breal stmnt is used)"
   ]
  },
  {
   "cell_type": "code",
   "execution_count": 6,
   "metadata": {},
   "outputs": [
    {
     "name": "stdout",
     "output_type": "stream",
     "text": [
      "The number is:  1 odd no.\n",
      "2\n",
      "The number is : 2 even no.\n",
      "3\n",
      "The number is:  3 odd no.\n",
      "4\n",
      "The number is : 4 even no.\n",
      "5\n",
      "The number is:  5 odd no.\n",
      "6\n",
      "The number is : 6 even no.\n",
      "7\n",
      "The number is:  7 odd no.\n",
      "8\n",
      "The number is : 8 even no.\n",
      "9\n",
      "The number is:  9 odd no.\n",
      "10\n",
      "The number is : 10 even no.\n",
      "11\n",
      "The number is:  11 odd no.\n",
      "12\n",
      "The number is : 12 even no.\n",
      "13\n",
      "The number is:  13 odd no.\n",
      "14\n",
      "The number is : 14 even no.\n",
      "15\n",
      "The number is:  15 odd no.\n",
      "16\n",
      "The number is : 16 even no.\n",
      "17\n",
      "The number is:  17 odd no.\n",
      "18\n",
      "The number is : 18 even no.\n",
      "19\n",
      "The number is:  19 odd no.\n",
      "20\n"
     ]
    }
   ],
   "source": [
    "#even &odd no.\n",
    "\n",
    "i=1\n",
    "while(i<20):\n",
    "    if i%2==0:\n",
    "        print(\"The number is :\",i,\"even no.\")\n",
    "    else:\n",
    "        print(\"The number is: \",i,\"odd no.\")\n",
    "    i=i+1\n",
    "    print(i)\n",
    "    "
   ]
  },
  {
   "cell_type": "code",
   "execution_count": 12,
   "metadata": {},
   "outputs": [
    {
     "name": "stdout",
     "output_type": "stream",
     "text": [
      "Enter a number: 1\n",
      "square of a number is: 1\n",
      "Enter a number: 2\n",
      "square of a number is: 4\n",
      "Enter a number: 3\n",
      "square of a number is: 9\n",
      "Enter a number: 4\n",
      "square of a number is: 16\n",
      "Enter a number: 5\n",
      "square of a number is: 25\n"
     ]
    }
   ],
   "source": [
    "# Using while loop,run a loop for 5 tmes & ask user to enter a number \n",
    "#square of a no.\n",
    "\n",
    "i=1\n",
    "while(i<6):\n",
    "    i=eval(input(\"Enter a number: \"))\n",
    "    sq_number=i*i\n",
    "    print(\"square of a number is:\",sq_number)\n",
    "    i=i+1\n"
   ]
  },
  {
   "cell_type": "markdown",
   "metadata": {},
   "source": [
    "# Date:- March 9th,2022"
   ]
  },
  {
   "cell_type": "code",
   "execution_count": 2,
   "metadata": {},
   "outputs": [
    {
     "name": "stdout",
     "output_type": "stream",
     "text": [
      "Enter a number: 1\n",
      "The square of a number is 1\n",
      "Enter a number: 2\n",
      "The square of a number is 4\n",
      "Enter a number: 3\n",
      "The square of a number is 9\n",
      "Enter a number: 4\n",
      "The square of a number is 16\n",
      "Enter a number: 5\n",
      "The square of a number is 25\n"
     ]
    }
   ],
   "source": [
    "#Square of a number using format\n",
    "#Refer above program\n",
    "i=1\n",
    "while(i<6):\n",
    "    i=eval(input(\"Enter a number: \"))\n",
    "    sq_number=i*i\n",
    "    print(\"The square of a number is {}\".format(sq_number))\n",
    "    i=i+1"
   ]
  },
  {
   "cell_type": "code",
   "execution_count": 6,
   "metadata": {},
   "outputs": [
    {
     "name": "stdout",
     "output_type": "stream",
     "text": [
      "Enter a number: 1\n",
      "The square of a number is 1\n",
      "Enter a number: 2\n",
      "The square of a number is 4\n",
      "Enter a number: hello\n",
      "The error is:  name 'hello' is not defined\n"
     ]
    }
   ],
   "source": [
    "#Above program using Try & Except\n",
    "\n",
    "try:\n",
    "    i=1\n",
    "    while(i<6):\n",
    "        i=eval(input(\"Enter a number: \"))\n",
    "        sq_number=i*i\n",
    "        print(\"The square of a number is {}\".format(sq_number))\n",
    "        i=i+1\n",
    "except Exception as e:\n",
    "    print(\"The error is: \",e)\n",
    "    \n",
    "#In o/p--- Since hello is given as i/p, the program has stopped showing an error msg. To avoid this ,function is used \n"
   ]
  },
  {
   "cell_type": "code",
   "execution_count": 13,
   "metadata": {},
   "outputs": [
    {
     "name": "stdout",
     "output_type": "stream",
     "text": [
      "Enter a number: 1\n",
      "The square of a number is 1\n",
      "Enter a number: 2\n",
      "The square of a number is 4\n",
      "Enter a number: 2\n",
      "The square of a number is 4\n",
      "Enter a number: 3\n",
      "The square of a number is 9\n",
      "Enter a number: 4\n",
      "The square of a number is 16\n",
      "Enter a number: 5\n",
      "The square of a number is 25\n"
     ]
    }
   ],
   "source": [
    "#Creating a function for above code by removing try & except block\n",
    "\n",
    "def sq():\n",
    "    i=1\n",
    "    while(i<6):\n",
    "        i=eval(input(\"Enter a number: \"))\n",
    "        sq_number=i*i\n",
    "        print(\"The square of a number is {}\".format(sq_number))\n",
    "        i=i+1\n",
    "sq()\n",
    "    "
   ]
  },
  {
   "cell_type": "code",
   "execution_count": 16,
   "metadata": {},
   "outputs": [
    {
     "name": "stdout",
     "output_type": "stream",
     "text": [
      "Enter a number: 1\n",
      "The square of a number is 1\n",
      "Enter a number: 2\n",
      "The square of a number is 4\n",
      "Enter a number: hellohfjs\n",
      "The error is:  name 'hellohfjs' is not defined\n",
      "Enter a number: 4\n",
      "The square of a number is 16\n",
      "Enter a number: 9\n",
      "The square of a number is 81\n"
     ]
    }
   ],
   "source": [
    "#Above program using function call\n",
    "\n",
    "\n",
    "try:\n",
    "    sq()           #This function is created in above cell, by calling this function sq(), the block will be executed\n",
    "except Exception as e:\n",
    "    print(\"The error is: \",e)\n",
    "    sq()           #This function is called .. So that even an error msg is displayed, the block runs again for 6 tms which is given in above prog'(<6)"
   ]
  },
  {
   "cell_type": "code",
   "execution_count": 18,
   "metadata": {},
   "outputs": [
    {
     "name": "stdout",
     "output_type": "stream",
     "text": [
      "the system number is: 7\n",
      "Enter a number: 1\n",
      "the user number is: 1\n",
      "Don't allow the user\n",
      "Enter a number: 2\n",
      "the user number is: 2\n",
      "Don't allow the user\n",
      "Enter a number: 3\n",
      "the user number is: 3\n",
      "Don't allow the user\n",
      "Enter a number: 4\n",
      "the user number is: 4\n",
      "Don't allow the user\n",
      "Enter a number: 5\n",
      "the user number is: 5\n",
      "Don't allow the user\n",
      "Your all chances are over\n"
     ]
    }
   ],
   "source": [
    "# Guess a number \n",
    "#For loop\n",
    "import random\n",
    "system_num=random.randint(1,10)\n",
    "print(\"the system number is:\",system_num)\n",
    "for i in range(5):\n",
    "    user_num=eval(input(\"Enter a number: \"))\n",
    "    print(\"the user number is:\",user_num)\n",
    "    if(system_num==user_num):\n",
    "        print(\"Allow the user\")\n",
    "        break                     #When condition is satisfied, loop must be ended so break stmnt is used\n",
    "    else:\n",
    "        print(\"Don't allow the user\")\n",
    "print(\"Your all chances are over\")"
   ]
  },
  {
   "cell_type": "code",
   "execution_count": 22,
   "metadata": {},
   "outputs": [
    {
     "name": "stdout",
     "output_type": "stream",
     "text": [
      "the system number is: 9\n",
      "Enter a number: 1\n",
      "the user number is: 1\n",
      "Don't allow the user\n",
      "Enter a number: 2\n",
      "the user number is: 2\n",
      "Don't allow the user\n",
      "Enter a number: 3\n",
      "the user number is: 3\n",
      "Don't allow the user\n",
      "Enter a number: 6\n",
      "the user number is: 6\n",
      "Don't allow the user\n",
      "Your all chances are over\n"
     ]
    }
   ],
   "source": [
    "#Guess a number using while loop\n",
    "\n",
    "import random\n",
    "i=1\n",
    "system_num=random.randint(1,10)\n",
    "print(\"the system number is:\",system_num)\n",
    "while(i<5):\n",
    "    user_num=eval(input(\"Enter a number: \"))\n",
    "    print(\"the user number is:\",user_num)\n",
    "    if(system_num==user_num):\n",
    "        print(\"Allow the user\")\n",
    "        break                     \n",
    "    else:\n",
    "        print(\"Don't allow the user\")\n",
    "        i=i+1\n",
    "print(\"Your all chances are over\")\n"
   ]
  },
  {
   "cell_type": "code",
   "execution_count": 40,
   "metadata": {},
   "outputs": [
    {
     "name": "stdout",
     "output_type": "stream",
     "text": [
      "10\n"
     ]
    }
   ],
   "source": [
    "#WAP to find sum of all numbers in a given range (say range is 5, so 1+2+3+4= 10)\n",
    "#for loop \n",
    "\n",
    "sum2=0\n",
    "for i in range(1,5):\n",
    "    sum2=sum2+i\n",
    "print(sum2)\n",
    "\n",
    "    "
   ]
  },
  {
   "cell_type": "code",
   "execution_count": 50,
   "metadata": {},
   "outputs": [
    {
     "name": "stdout",
     "output_type": "stream",
     "text": [
      "1\n",
      "3\n",
      "6\n",
      "10\n",
      "15\n"
     ]
    }
   ],
   "source": [
    "#WAP \n",
    "\n",
    "i=1\n",
    "sum2=0\n",
    "while(i<6):\n",
    "    sum2=sum2+i\n",
    "    i=i+1\n",
    "    print(sum2)      #Since print is given within loop, values are printed step by step"
   ]
  },
  {
   "cell_type": "code",
   "execution_count": 49,
   "metadata": {},
   "outputs": [
    {
     "name": "stdout",
     "output_type": "stream",
     "text": [
      "15\n"
     ]
    }
   ],
   "source": [
    "#WAP to find sum of all numbers in a given range using while loop\n",
    "i=1\n",
    "sum2=0\n",
    "while(i<6):\n",
    "    sum2=sum2+i\n",
    "    i=i+1\n",
    "print(sum2)"
   ]
  },
  {
   "cell_type": "code",
   "execution_count": 21,
   "metadata": {},
   "outputs": [
    {
     "name": "stdout",
     "output_type": "stream",
     "text": [
      "Enter a password hello\n",
      "Password is not matched\n",
      "Enter a password hi\n",
      "Password is not matched\n",
      "Enter a password Daddy123\n",
      "Password is matched\n"
     ]
    }
   ],
   "source": [
    "#How will you make a computer to do a certain task untill a condition is satisfied\n",
    "#For example keep prompting an user for the password untill it matches\n",
    "\n",
    "\n",
    "system_password=\"Daddy123\"\n",
    "i=1\n",
    "while(i<=10):\n",
    "    user_pass=input(\"Enter a password \")\n",
    "    if(user_pass==system_password):\n",
    "        print(\"Password is matched\")\n",
    "        break\n",
    "    else:\n",
    "        print(\"Password is not matched\")\n",
    "        i=i+1\n"
   ]
  },
  {
   "cell_type": "code",
   "execution_count": 24,
   "metadata": {},
   "outputs": [
    {
     "name": "stdout",
     "output_type": "stream",
     "text": [
      "Enter system password hlo\n",
      "Enter user password hi\n",
      "Password is not matched\n",
      "Enter system password hlo\n",
      "Enter user password hi\n",
      "Password is not matched\n",
      "Enter system password dad\n",
      "Enter user password dad\n",
      "Password is matched\n"
     ]
    }
   ],
   "source": [
    "#System pswrd using user i/p\n",
    "\n",
    "i=1\n",
    "while(i<=10):\n",
    "    system_password=input(\"Enter system password \")\n",
    "    user_pass=input(\"Enter user password \")\n",
    "    if(user_pass==system_password):\n",
    "        print(\"Password is matched\")\n",
    "        break\n",
    "    else:\n",
    "        print(\"Password is not matched\")\n",
    "        i=i+1\n",
    "\n"
   ]
  },
  {
   "cell_type": "code",
   "execution_count": 69,
   "metadata": {},
   "outputs": [
    {
     "name": "stdout",
     "output_type": "stream",
     "text": [
      "ENter a password: Daddy123\n",
      "ENter a password: hii\n",
      "ENter a password: hello\n"
     ]
    }
   ],
   "source": [
    "#How will you make a computer to do a certain task untill a condition is satisfied\n",
    "#For example keep prompting an user for the password untill it matches\n",
    "\n",
    "password=\"Daddy123\"\n",
    "while(password!=\"hello\"):\n",
    "    password=input(\"ENter a password: \")\n",
    "    \n",
    "#Password is intialized to \"Daddy123\"\n",
    "#Since \"Daddy123\" is not equal to hello, it enters the while block & keeps on asking for password untill password is = to \"hello\""
   ]
  },
  {
   "cell_type": "code",
   "execution_count": null,
   "metadata": {},
   "outputs": [],
   "source": []
  },
  {
   "cell_type": "markdown",
   "metadata": {},
   "source": [
    "# Date:-March 12th,2022"
   ]
  },
  {
   "cell_type": "code",
   "execution_count": null,
   "metadata": {},
   "outputs": [],
   "source": [
    "True statement\n",
    "\n",
    "- Whatever might be inside of true , loop runs at any cost \n",
    "\n",
    "- while writing \"True\", condition must be defined inorder to avoid infinite loop"
   ]
  },
  {
   "cell_type": "code",
   "execution_count": null,
   "metadata": {},
   "outputs": [],
   "source": [
    "#Above pswrd program using True\n",
    "#No intialization is given\n",
    "#Loop keeps on running , bcz no condition is given or no break stmnt is defined\n",
    "\n",
    "while True:\n",
    "    password=input(\"ENter a password: \")"
   ]
  },
  {
   "cell_type": "code",
   "execution_count": 15,
   "metadata": {},
   "outputs": [
    {
     "name": "stdout",
     "output_type": "stream",
     "text": [
      "ENter a password: gh\\\n",
      "ENter a password: sdqaj\n",
      "ENter a password: 12\n",
      "ENter a password: hello\n"
     ]
    }
   ],
   "source": [
    "#Defining condition \n",
    "\n",
    "while True:\n",
    "    password=input(\"ENter a password: \")\n",
    "    if password=='hello':\n",
    "        break\n",
    "        \n",
    "#since if condition is given, loop strts when the condition is satisified"
   ]
  },
  {
   "cell_type": "code",
   "execution_count": 39,
   "metadata": {},
   "outputs": [
    {
     "name": "stdout",
     "output_type": "stream",
     "text": [
      "Enter a password:h\n",
      "1\n",
      "Enter a password:e\n",
      "2\n",
      "Enter a password:\n",
      "3\n",
      "Enter a password:ee\n",
      "4\n",
      "Enter a password:hello \n",
      "5\n",
      "You have completed your 5 chances, better luck next time\n"
     ]
    }
   ],
   "source": [
    "#If the user fails to enter password in 5 chances display a msg \"You lost your five chances\" & stop them\n",
    "\n",
    "password=''        #intializtn\n",
    "count=0\n",
    "while(password!='hello'):\n",
    "    password=input(\"Enter a password:\")\n",
    "    count=count+1\n",
    "    print(count)    #prints no. of counts\n",
    "    if(count>=5):\n",
    "        print(\"You have completed your 5 chances, better luck next time\")\n",
    "        break"
   ]
  },
  {
   "cell_type": "code",
   "execution_count": 37,
   "metadata": {},
   "outputs": [
    {
     "name": "stdout",
     "output_type": "stream",
     "text": [
      "Enter a password:h\n",
      "Enter a password:i\n",
      "Enter a password:dad\n",
      "Correct password\n"
     ]
    }
   ],
   "source": [
    "#using true \n",
    "#so condition should be defined inside the block\n",
    "\n",
    "count=0\n",
    "while True:\n",
    "    password=input(\"Enter a password:\")\n",
    "    count=count+1\n",
    "    if password==\"dad\":\n",
    "        print(\"Correct password\")\n",
    " ########### above code is for crct password       \n",
    "        break\n",
    "    if(count>=5):\n",
    "        print(\"You have completed your 5 chances, better luck next time\")\n",
    "        break\n",
    "    ############count loop "
   ]
  },
  {
   "cell_type": "code",
   "execution_count": 48,
   "metadata": {},
   "outputs": [
    {
     "name": "stdout",
     "output_type": "stream",
     "text": [
      "Enter password: hhe\n",
      "Enter password: forgot password\n",
      "Hint\n"
     ]
    }
   ],
   "source": [
    "#Forgot pswrd (print hint)\n",
    "\n",
    "password=''\n",
    "count=0\n",
    "while(password!='hello'):\n",
    "    password=input(\"Enter password: \")\n",
    "    count=count+1\n",
    "    if(password=='forgot password'):\n",
    "        print(\"Hint\")\n",
    "        break\n",
    "    if(count>=5):\n",
    "        print(\"Your chances are cmpltd\")\n",
    "        break\n",
    "        \n",
    "# O/p--- But once user enters 'forgot password', Hint is printed & loop has stopped, so inorder to not break the loop, Continue is used"
   ]
  },
  {
   "cell_type": "code",
   "execution_count": 49,
   "metadata": {},
   "outputs": [
    {
     "name": "stdout",
     "output_type": "stream",
     "text": [
      "Enter password: h\n",
      "Enter password: e\n",
      "Enter password: forgot password\n",
      "Hint\n",
      "Enter password: hello\n"
     ]
    }
   ],
   "source": [
    "#Forgot pswrd (print hint) --using continue\n",
    "\n",
    "password=''\n",
    "count=0\n",
    "while(password!='hello'):\n",
    "    password=input(\"Enter password: \")\n",
    "    count=count+1\n",
    "    if(password=='forgot password'):\n",
    "        print(\"Hint\")\n",
    "        continue\n",
    "    if(count>=5):\n",
    "        print(\"Your chances are cmpltd\")\n",
    "        break"
   ]
  },
  {
   "cell_type": "code",
   "execution_count": 6,
   "metadata": {},
   "outputs": [
    {
     "name": "stdout",
     "output_type": "stream",
     "text": [
      "Enter a password: hi\n",
      "Enter a password: he\n",
      "Enter a password: forgot password\n",
      "Hint:your name is \n",
      "Enter a password: hellohi\n"
     ]
    }
   ],
   "source": [
    "#Forgot pswrd (print hint) --using continue & True\n",
    "\n",
    "password=''\n",
    "count=0\n",
    "while(True):\n",
    "    password=input(\"Enter a password: \")\n",
    "    count+=1\n",
    "    if(password=='hellohi'):\n",
    "        break\n",
    "#===============================part-1(crct pswrd code)\n",
    "    if(password=='forgot password'):\n",
    "        print(\"Hint:your name is \")\n",
    "        continue\n",
    "#---------------------------------part-2(forgot password code)\n",
    "    if(count>=5):\n",
    "        print(\"Your chances are cmpltd\")\n",
    "        \n",
    "#----------------------------------part-3(count loop)"
   ]
  },
  {
   "cell_type": "code",
   "execution_count": 12,
   "metadata": {},
   "outputs": [
    {
     "name": "stdout",
     "output_type": "stream",
     "text": [
      "Enter password: he\n",
      "Enter password: hii\n",
      "Enter password: forgot password\n",
      "Hint:My name\n",
      "try again\n",
      "Enter password: Hello\n",
      "Correct password\n",
      "Your chances are cmpltd\n"
     ]
    }
   ],
   "source": [
    "password=''\n",
    "count=0\n",
    "while(count<5):\n",
    "    password=input(\"Enter password: \")\n",
    "    count=count+1\n",
    "    if password=='Hello':\n",
    "        print(\"Correct password\")\n",
    "        break\n",
    "    if(password=='forgot password'):\n",
    "        print(\"Hint:My name\")\n",
    "        print(\"try again\")\n",
    "        continue\n",
    "print(\"Your chances are cmpltd\") # This stmnt prints after completing 5 chances (or) when user enters crct pswrd\n"
   ]
  },
  {
   "cell_type": "code",
   "execution_count": 6,
   "metadata": {},
   "outputs": [
    {
     "name": "stdout",
     "output_type": "stream",
     "text": [
      "Enter current balance: 500\n",
      "Enter withdrawal amount from wallet: 300\n",
      "The withdrawal amount from wallet is:  300\n",
      "The total balance is:  800\n",
      "Enter withdrawal amount: 400\n",
      "The withdrawal amount is:  400\n",
      "Enter withdrawal amount: 500\n",
      "The withdrawal amount is:  500\n",
      "user can play the game\n",
      "The total balance is & current account balance is:  1000 500"
     ]
    }
   ],
   "source": [
    "#A user wants to play a game for which he need Rs.1000/-\n",
    "#If current bal in his account is < Rs.1000/- , he needs to withdraw the extra money from his wallet\n",
    "#If sum of money in his current account & the amount withdrawed is >= Rs.1000 , then he can start playing the game\n",
    "#However,if sum is < Rs.1000/-, then display a msg \"You don't have enough money to play the game \" &\n",
    "# cont' -- keep prompting the user untill withdraw money > Rs.1,000/-\n",
    "#If the current account balance crosses Rs.1000/- , then display a msg \"You are ready to play the game\"\n",
    "#Program should display account bal & current bal\n",
    "\n",
    "current_bal=eval(input(\"Enter current balance: \"))\n",
    "if(current_bal<1000):\n",
    "    withdraw_amnt=eval(input(\"Enter withdrawal amount from wallet: \"))\n",
    "    print(\"The withdrawal amount from wallet is: \",withdraw_amnt)\n",
    "    total_bal=current_bal+withdraw_amnt\n",
    "    print(\"The total balance is: \",total_bal)\n",
    "while(total_bal<1000):\n",
    "    withdraw_amnt=eval(input(\"Enter withdrawal amount: \"))\n",
    "    print(\"The withdrawal amount is: \",withdraw_amnt)\n",
    "    total_bal=current_bal+withdraw_amnt\n",
    "if(total_bal>=1000):\n",
    "    print(\"user can play the game\")\n",
    "print(\"The total balance is & current account balance is: \",total_bal,current_bal,end='')\n",
    "    \n",
    "    "
   ]
  },
  {
   "cell_type": "code",
   "execution_count": 5,
   "metadata": {},
   "outputs": [
    {
     "name": "stdout",
     "output_type": "stream",
     "text": [
      "Enter current balance: 500\n",
      "Enter withdrawal amount from wallet: 500\n",
      "The withdrawal amount from wallet is:  500\n",
      "The total balance is:  1000\n",
      "user can play the game\n",
      "The total balance is & current account balance is:  1000 500"
     ]
    }
   ],
   "source": [
    "#above prg w/o using elif\n",
    "\n",
    "current_bal=eval(input(\"Enter current balance: \"))\n",
    "if(current_bal<1000):\n",
    "    withdraw_amnt=eval(input(\"Enter withdrawal amount from wallet: \"))\n",
    "    print(\"The withdrawal amount from wallet is: \",withdraw_amnt)\n",
    "    total_bal=current_bal+withdraw_amnt\n",
    "    print(\"The total balance is: \",total_bal)\n",
    "while(total_bal<1000):\n",
    "    print(\"You don't have enough money to play the game\")\n",
    "    withdraw_amnt=eval(input(\"Enter withdrawal amount: \"))\n",
    "    print(\"The withdrawal amount is: \",withdraw_amnt)\n",
    "    total_bal=current_bal+withdraw_amnt\n",
    "if(total_bal>=1000):\n",
    "    print(\"user can play the game\")\n",
    "print(\"The total balance is & current account balance is: \",total_bal,current_bal,end='')\n"
   ]
  },
  {
   "cell_type": "markdown",
   "metadata": {},
   "source": [
    "# Date:- March 15th, 2022"
   ]
  },
  {
   "cell_type": "markdown",
   "metadata": {},
   "source": [
    "String:-\n",
    "\n",
    "- Set of characters \n",
    "\n",
    "- Ex: \"pragnya\" -- Any character which is enclosed in single quote or double quote is rfrd to as String\n",
    "    \n"
   ]
  },
  {
   "cell_type": "code",
   "execution_count": 1,
   "metadata": {},
   "outputs": [
    {
     "data": {
      "text/plain": [
       "str"
      ]
     },
     "execution_count": 1,
     "metadata": {},
     "output_type": "execute_result"
    }
   ],
   "source": [
    "a=\"pragnya\"\n",
    "type(a)"
   ]
  },
  {
   "cell_type": "code",
   "execution_count": 3,
   "metadata": {},
   "outputs": [
    {
     "data": {
      "text/plain": [
       "'pragnya'"
      ]
     },
     "execution_count": 3,
     "metadata": {},
     "output_type": "execute_result"
    }
   ],
   "source": [
    "a\n",
    "\n",
    "#o/p- Along with quotes pragnya is displayed"
   ]
  },
  {
   "cell_type": "code",
   "execution_count": 4,
   "metadata": {},
   "outputs": [
    {
     "name": "stdout",
     "output_type": "stream",
     "text": [
      "pragnya\n"
     ]
    }
   ],
   "source": [
    "print(a)\n",
    "\n",
    "#O/p--while printing 'a', without quotes pragnya is displayed "
   ]
  },
  {
   "cell_type": "code",
   "execution_count": 2,
   "metadata": {},
   "outputs": [
    {
     "data": {
      "text/plain": [
       "str"
      ]
     },
     "execution_count": 2,
     "metadata": {},
     "output_type": "execute_result"
    }
   ],
   "source": [
    "b='pragnya'\n",
    "type(a)"
   ]
  },
  {
   "cell_type": "code",
   "execution_count": 6,
   "metadata": {},
   "outputs": [
    {
     "name": "stdout",
     "output_type": "stream",
     "text": [
      "hi my name is 'pragnya'\n"
     ]
    }
   ],
   "source": [
    "a1=\"hi my name is 'pragnya'\"\n",
    "print(a1)\n",
    "\n",
    "#O/p--To highlight pragnya , since the sentence is enclosed in double quotes, pragnya is enclosed by single quotes"
   ]
  },
  {
   "cell_type": "code",
   "execution_count": 8,
   "metadata": {},
   "outputs": [
    {
     "name": "stdout",
     "output_type": "stream",
     "text": [
      "hi my name is \"pragnya\"\n"
     ]
    }
   ],
   "source": [
    "a1='hi my name is \"pragnya\"'\n",
    "print(a1)\n",
    "\n",
    "#O/p--To highlight pragnya , since the sentence is enclosed in single quote, pragnya is enclosed by double quotes"
   ]
  },
  {
   "cell_type": "code",
   "execution_count": 13,
   "metadata": {},
   "outputs": [
    {
     "name": "stdout",
     "output_type": "stream",
     "text": [
      " hi\n",
      "    how are you\n"
     ]
    }
   ],
   "source": [
    "a1=''' hi\n",
    "    how are you'''\n",
    "print(a1)\n",
    "\n",
    "#O/p-- To print stmt which is of more than one line , use triple quotes"
   ]
  },
  {
   "cell_type": "markdown",
   "metadata": {},
   "source": [
    "# Extracting the letters:-"
   ]
  },
  {
   "cell_type": "code",
   "execution_count": 15,
   "metadata": {},
   "outputs": [
    {
     "data": {
      "text/plain": [
       "6"
      ]
     },
     "execution_count": 15,
     "metadata": {},
     "output_type": "execute_result"
    }
   ],
   "source": [
    "s='python'\n",
    "len(s)"
   ]
  },
  {
   "cell_type": "code",
   "execution_count": 17,
   "metadata": {},
   "outputs": [
    {
     "data": {
      "text/plain": [
       "14"
      ]
     },
     "execution_count": 17,
     "metadata": {},
     "output_type": "execute_result"
    }
   ],
   "source": [
    "s1='hello hi there'\n",
    "len(s1)\n",
    "\n",
    "#O/p--along with spaces , length is 14"
   ]
  },
  {
   "cell_type": "markdown",
   "metadata": {},
   "source": [
    "# Indexing"
   ]
  },
  {
   "cell_type": "code",
   "execution_count": 18,
   "metadata": {},
   "outputs": [
    {
     "data": {
      "text/plain": [
       "'n'"
      ]
     },
     "execution_count": 18,
     "metadata": {},
     "output_type": "execute_result"
    }
   ],
   "source": [
    "#Indexing\n",
    "\n",
    "s1='python is a scripting language'\n",
    "s1[5]"
   ]
  },
  {
   "cell_type": "code",
   "execution_count": 19,
   "metadata": {},
   "outputs": [
    {
     "data": {
      "text/plain": [
       "'a'"
      ]
     },
     "execution_count": 19,
     "metadata": {},
     "output_type": "execute_result"
    }
   ],
   "source": [
    "#Indexing\n",
    "\n",
    "s1[10]"
   ]
  },
  {
   "cell_type": "code",
   "execution_count": 20,
   "metadata": {},
   "outputs": [
    {
     "data": {
      "text/plain": [
       "'h'"
      ]
     },
     "execution_count": 20,
     "metadata": {},
     "output_type": "execute_result"
    }
   ],
   "source": [
    "#Indexing\n",
    "\n",
    "s1[3]"
   ]
  },
  {
   "cell_type": "code",
   "execution_count": 21,
   "metadata": {},
   "outputs": [
    {
     "data": {
      "text/plain": [
       "'g'"
      ]
     },
     "execution_count": 21,
     "metadata": {},
     "output_type": "execute_result"
    }
   ],
   "source": [
    "s1[-5]\n",
    "\n",
    "#count strts from right i.e., (-1)------ language \n",
    "#g  u  a  g  e\n",
    "#-5 -4 -3 -2 -1"
   ]
  },
  {
   "cell_type": "code",
   "execution_count": 22,
   "metadata": {},
   "outputs": [
    {
     "data": {
      "text/plain": [
       "'i'"
      ]
     },
     "execution_count": 22,
     "metadata": {},
     "output_type": "execute_result"
    }
   ],
   "source": [
    "s1='python is a scripting language'\n",
    "s1[-15]"
   ]
  },
  {
   "cell_type": "markdown",
   "metadata": {},
   "source": [
    "# Slicing"
   ]
  },
  {
   "cell_type": "code",
   "execution_count": 23,
   "metadata": {},
   "outputs": [
    {
     "data": {
      "text/plain": [
       "'python'"
      ]
     },
     "execution_count": 23,
     "metadata": {},
     "output_type": "execute_result"
    }
   ],
   "source": [
    "s1='python is a scripting language'\n",
    "s1[0:6]\n",
    "\n",
    "#O/p== start=0, end= 6-1=5.. SO 0 to 5 digits are displayed"
   ]
  },
  {
   "cell_type": "code",
   "execution_count": 24,
   "metadata": {},
   "outputs": [
    {
     "data": {
      "text/plain": [
       "'python'"
      ]
     },
     "execution_count": 24,
     "metadata": {},
     "output_type": "execute_result"
    }
   ],
   "source": [
    "s1='python is a scripting language'\n",
    "s1[0:6:1]\n",
    "\n",
    "#Gap by 1 unit so no chnge in O/p .. Same as above"
   ]
  },
  {
   "cell_type": "code",
   "execution_count": 25,
   "metadata": {},
   "outputs": [
    {
     "data": {
      "text/plain": [
       "'python'"
      ]
     },
     "execution_count": 25,
     "metadata": {},
     "output_type": "execute_result"
    }
   ],
   "source": [
    "s1='python is a scripting language'\n",
    "s1[:6]\n",
    "\n",
    "#o/p---since strt index is not mentioned, by default system takes it as '0'"
   ]
  },
  {
   "cell_type": "code",
   "execution_count": 26,
   "metadata": {},
   "outputs": [
    {
     "data": {
      "text/plain": [
       "'pyth'"
      ]
     },
     "execution_count": 26,
     "metadata": {},
     "output_type": "execute_result"
    }
   ],
   "source": [
    "s1='python is a scripting language'\n",
    "s1[:4]"
   ]
  },
  {
   "cell_type": "markdown",
   "metadata": {},
   "source": [
    "# Date:-March 16th,2022"
   ]
  },
  {
   "cell_type": "code",
   "execution_count": 1,
   "metadata": {},
   "outputs": [
    {
     "data": {
      "text/plain": [
       "'hon is a scripting language'"
      ]
     },
     "execution_count": 1,
     "metadata": {},
     "output_type": "execute_result"
    }
   ],
   "source": [
    "s1='python is a scripting language'\n",
    "s1[3:]\n",
    "\n",
    "#o/p---start=3\n",
    "#since end is not defined it takes as length of s1 i.e., upto language"
   ]
  },
  {
   "cell_type": "code",
   "execution_count": 2,
   "metadata": {},
   "outputs": [
    {
     "data": {
      "text/plain": [
       "'hai how are you'"
      ]
     },
     "execution_count": 2,
     "metadata": {},
     "output_type": "execute_result"
    }
   ],
   "source": [
    "s2='hai how are you'\n",
    "s2"
   ]
  },
  {
   "cell_type": "code",
   "execution_count": 3,
   "metadata": {},
   "outputs": [
    {
     "data": {
      "text/plain": [
       "' how are you'"
      ]
     },
     "execution_count": 3,
     "metadata": {},
     "output_type": "execute_result"
    }
   ],
   "source": [
    "s2[3:]\n",
    "\n",
    "#o/p---start =3 ( after 'i' ,space )"
   ]
  },
  {
   "cell_type": "code",
   "execution_count": 4,
   "metadata": {},
   "outputs": [
    {
     "data": {
      "text/plain": [
       "'h wry'"
      ]
     },
     "execution_count": 4,
     "metadata": {},
     "output_type": "execute_result"
    }
   ],
   "source": [
    "s2='hai how are you'\n",
    "s2[::3]\n",
    "\n",
    "#h a i  _  h o w  _  a r e   _   y  o  u\n",
    "#0 1 2  3  4 5 6  7  8 9 10  11  12 13 14"
   ]
  },
  {
   "cell_type": "code",
   "execution_count": 12,
   "metadata": {},
   "outputs": [
    {
     "data": {
      "text/plain": [
       "'ph  sii na'"
      ]
     },
     "execution_count": 12,
     "metadata": {},
     "output_type": "execute_result"
    }
   ],
   "source": [
    "s1='python is a scripting language'\n",
    "s1[::3]\n",
    "\n",
    "#start=0\n",
    "#end=0\n",
    "#gap=3\n",
    "# p  y  t  h  o  n  _  i  s  _  a   _  s  c  r  i  p  t  i  n  g  _  l  a  n  g  u  a  g  e\n",
    "# 0  1  2  3  4  5  6  7  8  9  10 11 12 13 14 15 16 17 18 19 20 21 22 23 24 25 26 27 28 29\n",
    "\n",
    "#In o/p->'ph' followed by '2' spaces and 'sii' then a single space & 'na' is printed"
   ]
  },
  {
   "cell_type": "code",
   "execution_count": 10,
   "metadata": {},
   "outputs": [
    {
     "data": {
      "text/plain": [
       "'pyt'"
      ]
     },
     "execution_count": 10,
     "metadata": {},
     "output_type": "execute_result"
    }
   ],
   "source": [
    "s3='python'\n",
    "s3[:3]"
   ]
  },
  {
   "cell_type": "code",
   "execution_count": 11,
   "metadata": {},
   "outputs": [
    {
     "data": {
      "text/plain": [
       "'hltrhuife'"
      ]
     },
     "execution_count": 11,
     "metadata": {},
     "output_type": "execute_result"
    }
   ],
   "source": [
    "s4='hello there hwruh im fine'\n",
    "s4[::3]\n",
    "\n"
   ]
  },
  {
   "cell_type": "code",
   "execution_count": 13,
   "metadata": {},
   "outputs": [
    {
     "data": {
      "text/plain": [
       "'hai how are you'"
      ]
     },
     "execution_count": 13,
     "metadata": {},
     "output_type": "execute_result"
    }
   ],
   "source": [
    "s2='hai how are you'\n",
    "s2"
   ]
  },
  {
   "cell_type": "code",
   "execution_count": 14,
   "metadata": {},
   "outputs": [
    {
     "data": {
      "text/plain": [
       "'hihwaeyu'"
      ]
     },
     "execution_count": 14,
     "metadata": {},
     "output_type": "execute_result"
    }
   ],
   "source": [
    "s2[::2]\n",
    "\n",
    "#start=0\n",
    "#end=len(s2)\n",
    "#gap=2\n",
    "#h i h w a e y u"
   ]
  },
  {
   "cell_type": "code",
   "execution_count": 15,
   "metadata": {},
   "outputs": [
    {
     "data": {
      "text/plain": [
       "'uoy era woh iah'"
      ]
     },
     "execution_count": 15,
     "metadata": {},
     "output_type": "execute_result"
    }
   ],
   "source": [
    "s2[::-1]\n",
    "\n",
    "#strt=0\n",
    "#end=len(s2)\n",
    "#gap=-1 (i.e., from right )\n",
    "#'uoy era woh iah'"
   ]
  },
  {
   "cell_type": "code",
   "execution_count": 16,
   "metadata": {},
   "outputs": [
    {
     "data": {
      "text/plain": [
       "'hai how are you'"
      ]
     },
     "execution_count": 16,
     "metadata": {},
     "output_type": "execute_result"
    }
   ],
   "source": [
    "s2[::1]\n",
    "\n",
    "#gap=1\n",
    "#'hai how are you'"
   ]
  },
  {
   "cell_type": "code",
   "execution_count": 17,
   "metadata": {},
   "outputs": [
    {
     "data": {
      "text/plain": [
       "' how ar'"
      ]
     },
     "execution_count": 17,
     "metadata": {},
     "output_type": "execute_result"
    }
   ],
   "source": [
    "s2[3:10]\n",
    "\n",
    "#strt=3\n",
    "#end=9\n",
    "#' how ar'"
   ]
  },
  {
   "cell_type": "code",
   "execution_count": 21,
   "metadata": {},
   "outputs": [
    {
     "data": {
      "text/plain": [
       "''"
      ]
     },
     "execution_count": 21,
     "metadata": {},
     "output_type": "execute_result"
    }
   ],
   "source": [
    "s2[10:3]\n",
    "\n",
    "\n",
    "#strt=10\n",
    "#end=2\n",
    "# 0 1 2  3 4 5 6 7 8 9 10 ....... postve drction -> no where '2' can be found since '2' is towards left side\n",
    "#\n",
    "#prog's runs bt no o/p is displayed"
   ]
  },
  {
   "cell_type": "code",
   "execution_count": 22,
   "metadata": {},
   "outputs": [
    {
     "data": {
      "text/plain": [
       "' o r'"
      ]
     },
     "execution_count": 22,
     "metadata": {},
     "output_type": "execute_result"
    }
   ],
   "source": [
    "s2[3:10:2]\n",
    "\n",
    "#'hai how are you'\n",
    "#strt=3 , end=9, gap->2\n",
    "#' o  r'"
   ]
  },
  {
   "cell_type": "code",
   "execution_count": 23,
   "metadata": {},
   "outputs": [
    {
     "data": {
      "text/plain": [
       "''"
      ]
     },
     "execution_count": 23,
     "metadata": {},
     "output_type": "execute_result"
    }
   ],
   "source": [
    "s2[10:3:2]\n",
    "\n",
    "#start=10, end=2 , gap=2\n",
    "#it is impossible bcz strt is 10 so 10-11-12--- it goes on ,bt end is '2' "
   ]
  },
  {
   "cell_type": "code",
   "execution_count": 24,
   "metadata": {},
   "outputs": [
    {
     "data": {
      "text/plain": [
       "''"
      ]
     },
     "execution_count": 24,
     "metadata": {},
     "output_type": "execute_result"
    }
   ],
   "source": [
    "s2[3:10:-2]\n",
    "\n",
    "#strt=3, end=10(10+1)=11 , since gap is ngtve, gap= 2 (reverse drctn)\n",
    "#'hai how are you'\n",
    "#it is not possible,since direction is going towards left (-) since gap is ngtve "
   ]
  },
  {
   "cell_type": "code",
   "execution_count": 25,
   "metadata": {},
   "outputs": [
    {
     "data": {
      "text/plain": [
       "'eawh'"
      ]
     },
     "execution_count": 25,
     "metadata": {},
     "output_type": "execute_result"
    }
   ],
   "source": [
    "s2[10:3:-2]\n",
    "\n",
    "#strt =10, end=3+1=4,  gap= 2(reverse drctn)\n",
    "#'hai how are you'\n",
    "#'h a i _ h o w _ a r e  _  y  o  u'\n",
    "# 0 1 2 3 4 5 6 7 8 9 10 11 12 13 14\n",
    "#         h    w   a    <-strt(e-10) (reverse drctn)"
   ]
  },
  {
   "cell_type": "code",
   "execution_count": 14,
   "metadata": {},
   "outputs": [
    {
     "data": {
      "text/plain": [
       "''"
      ]
     },
     "execution_count": 14,
     "metadata": {},
     "output_type": "execute_result"
    }
   ],
   "source": [
    "s2[-3:10]\n",
    "\n",
    "#start=-3, end=10(9)\n",
    "#0    1   2    3    4   5   6    7   8   9   10   11   12   13   14\n",
    "# h   a   i    _    h   o   w    _   a   r   e    _    y    o    u\n",
    "#-15 -14  -13 -12  -11 -10 -9   -8  -7  -6  -5   -4   -3   -2   -1\n",
    "\n",
    "#                                                     start=-3------->postve after -3, 12,13,14 no. are there , \n",
    "#cont'--but here end is 9 which is towrads left side,so no O/p is displayed"
   ]
  },
  {
   "cell_type": "code",
   "execution_count": 27,
   "metadata": {},
   "outputs": [
    {
     "data": {
      "text/plain": [
       "' h'"
      ]
     },
     "execution_count": 27,
     "metadata": {},
     "output_type": "execute_result"
    }
   ],
   "source": [
    "s2[3:-10]\n",
    "\n",
    "#start=3, end= -10  (no gap is mentioned so by default positive-->-10-1 =-11)\n",
    "#'hai _ how_ are _you'\n",
    "#'012 3 '-- 3rd position is \"h\"\n",
    "                 \n",
    "              strt=3(space)\n",
    "               ------>\n",
    "#0    1   2    3    4   5   6    7   8   9   10   11   12   13   14\n",
    "# h   a   i    _    h   o   w    _   a   r   e    _    y    o    u\n",
    "#-15 -14  -13 -12  -11 -10 -9   -8  -7  -6  -5   -4   -3   -2   -1\n",
    " #                  end(-11-->h)"
   ]
  },
  {
   "cell_type": "markdown",
   "metadata": {},
   "source": [
    "# Date:-March 18th,2022"
   ]
  },
  {
   "cell_type": "code",
   "execution_count": 2,
   "metadata": {},
   "outputs": [
    {
     "data": {
      "text/plain": [
       "'e '"
      ]
     },
     "execution_count": 2,
     "metadata": {},
     "output_type": "execute_result"
    }
   ],
   "source": [
    "s2='hai how are you'\n",
    "s2[10:-3]\n",
    "\n",
    "#strt=10, end= -3-1 = -4\n",
    "#10 (h a i _ h o w _ a r e(10))\n",
    "#                                            strt=10(e)\n",
    "#0    1   2    3    4   5   6    7   8   9   10   11   12   13   14\n",
    "# h   a   i    _    h   o   w    _   a   r   e    _    y    o    u\n",
    "#-15 -14  -13 -12  -11 -10 -9   -8  -7  -6  -5   -4   -3   -2   -1\n",
    "#                                            ----->end=-4( space)"
   ]
  },
  {
   "cell_type": "code",
   "execution_count": 3,
   "metadata": {},
   "outputs": [
    {
     "data": {
      "text/plain": [
       "''"
      ]
     },
     "execution_count": 3,
     "metadata": {},
     "output_type": "execute_result"
    }
   ],
   "source": [
    "s2[-10:3]\n",
    "\n",
    "#strt = -10, end= 3-1 =2\n",
    "\n",
    "#0    1   2    3    4   5   6    7   8   9   10   11   12   13   14\n",
    "# h   a   i    _    h   o   w    _   a   r   e    _    y    o    u\n",
    "#-15 -14  -13 -12  -11 -10 -9   -8  -7  -6  -5   -4   -3   -2   -1\n",
    "#                       strt=10----------------------so on, no where 2 touches,so code doesn't runs"
   ]
  },
  {
   "cell_type": "code",
   "execution_count": 4,
   "metadata": {},
   "outputs": [
    {
     "data": {
      "text/plain": [
       "''"
      ]
     },
     "execution_count": 4,
     "metadata": {},
     "output_type": "execute_result"
    }
   ],
   "source": [
    "s2[-3:10:2]\n",
    "\n",
    "#strt= -3, end =10 -1 =9, gap=2 \n",
    "\n",
    "#0    1   2    3    4   5   6    7   8   9   10   11   12   13   14\n",
    "# h   a   i    _    h   o   w    _   a   r   e    _    y    o    u\n",
    "#-15 -14  -13 -12  -11 -10 -9   -8  -7  -6  -5   -4   -3   -2   -1\n",
    "#                                                     --------->postve drctn\n",
    "#                                               strt= -3 (opposite to -3->12,13,14 no.s are there, but here end value is 9)"
   ]
  },
  {
   "cell_type": "code",
   "execution_count": 5,
   "metadata": {},
   "outputs": [
    {
     "data": {
      "text/plain": [
       "' '"
      ]
     },
     "execution_count": 5,
     "metadata": {},
     "output_type": "execute_result"
    }
   ],
   "source": [
    "s2[3:-10:2]\n",
    "\n",
    "#strt=3, end=-11 ,postve drctn (gap=2)\n",
    "#          strt=3(space)------>\n",
    "#0    1   2    3    4   5   6    7   8   9   10   11   12   13   14\n",
    "# h   a   i    _    h   o   w    _   a   r   e    _    y    o    u\n",
    "#-15 -14  -13 -12  -11 -10 -9   -8  -7  -6  -5   -4   -3   -2   -1\n",
    "\n",
    "#                  end=-11( but gap is '2', so after space , o(-10) is printed , but end is '-11', nly space is printed)"
   ]
  },
  {
   "cell_type": "code",
   "execution_count": 7,
   "metadata": {},
   "outputs": [
    {
     "data": {
      "text/plain": [
       "''"
      ]
     },
     "execution_count": 7,
     "metadata": {},
     "output_type": "execute_result"
    }
   ],
   "source": [
    "s2[-3:-10:2]\n",
    "\n",
    "#strt =-3, end= -11 , gap=2 \n",
    "\n",
    "#0    1   2    3    4   5   6    7   8   9   10   11   12   13   14\n",
    "# h   a   i    _    h   o   w    _   a   r   e    _    y    o    u\n",
    "#-15 -14  -13 -12  -11 -10 -9   -8  -7  -6  -5   -4   -3   -2   -1\n",
    "#                                                 strt=-3-------->towards postve drctn(since gap is postve& gap by 2 units )\n",
    "# cont' --- But end(-11) is towards left side .. bt drctn here is postve so code doesn't run"
   ]
  },
  {
   "cell_type": "code",
   "execution_count": 9,
   "metadata": {},
   "outputs": [
    {
     "data": {
      "text/plain": [
       "'y'"
      ]
     },
     "execution_count": 9,
     "metadata": {},
     "output_type": "execute_result"
    }
   ],
   "source": [
    "s2[-3:10:-2]\n",
    "\n",
    "#strt=-3 ,end= 10+1=11(since gap is ngtve) , gap = 2( ngtve drctn towards left)\n",
    "\n",
    "#0    1   2    3    4   5   6    7   8   9   10   11   12   13   14\n",
    "# h   a   i    _    h   o   w    _   a   r   e    _    y    o    u\n",
    "#-15 -14  -13 -12  -11 -10 -9   -8  -7  -6  -5   -4   -3   -2   -1\n",
    "                                                       |\n",
    "#                                           <----strt=-3(y), since gap is '2', 'e'(10) prints but here, end is 11 which is 1 unit after y"
   ]
  },
  {
   "cell_type": "code",
   "execution_count": 10,
   "metadata": {},
   "outputs": [
    {
     "data": {
      "text/plain": [
       "''"
      ]
     },
     "execution_count": 10,
     "metadata": {},
     "output_type": "execute_result"
    }
   ],
   "source": [
    "s2[3:-10:-2]\n",
    "\n",
    "#strt=3, end= -10 +1 =-9 , gap=2(ngtve drctn-left )\n",
    "#         <left----strt=3 (no where -9 comes, bcz it s towards postve)\n",
    "#0    1   2    3    4   5   6    7   8   9   10   11   12   13   14\n",
    "# h   a   i    _    h   o   w    _   a   r   e    _    y    o    u\n",
    "#-15 -14  -13 -12  -11 -10 -9   -8  -7  -6  -5   -4   -3   -2   -1"
   ]
  },
  {
   "cell_type": "code",
   "execution_count": 11,
   "metadata": {},
   "outputs": [
    {
     "data": {
      "text/plain": [
       "'yeaw'"
      ]
     },
     "execution_count": 11,
     "metadata": {},
     "output_type": "execute_result"
    }
   ],
   "source": [
    "s2[-3:-10:-2]\n",
    "\n",
    "#strt= -3, end= -10 +1= -9, gap =2(ngtve drctn- left)"
   ]
  },
  {
   "cell_type": "code",
   "execution_count": 12,
   "metadata": {},
   "outputs": [
    {
     "data": {
      "text/plain": [
       "'o r '"
      ]
     },
     "execution_count": 12,
     "metadata": {},
     "output_type": "execute_result"
    }
   ],
   "source": [
    "s2[-10:-3:2]\n",
    "#strt= -10, end= -4, gap= 2(postve-right)\n",
    "\n",
    "#0    1   2    3    4   5   6    7   8   9   10   11   12   13   14\n",
    "# h   a   i    _    h   o   w    _   a   r   e    _    y    o    u\n",
    "#-15 -14  -13 -12  -11 -10 -9   -8  -7  -6  -5   -4   -3   -2   -1\n",
    "#                 strt=-10(o)------------------->end= -4\n",
    "#                       |        |       |        |\n",
    "#                       o       space    r        space"
   ]
  },
  {
   "cell_type": "code",
   "execution_count": 13,
   "metadata": {},
   "outputs": [
    {
     "data": {
      "text/plain": [
       "''"
      ]
     },
     "execution_count": 13,
     "metadata": {},
     "output_type": "execute_result"
    }
   ],
   "source": [
    "s2[-10:-3:-2]\n",
    "\n"
   ]
  },
  {
   "cell_type": "code",
   "execution_count": 18,
   "metadata": {},
   "outputs": [],
   "source": [
    "#in operator\n",
    "s='pragnya'"
   ]
  },
  {
   "cell_type": "code",
   "execution_count": 25,
   "metadata": {},
   "outputs": [
    {
     "name": "stdout",
     "output_type": "stream",
     "text": [
      "pragnya"
     ]
    }
   ],
   "source": [
    "#Using for loop, print 's'\n",
    "\n",
    "for i in range(7):\n",
    "    print(s[i],end='')"
   ]
  },
  {
   "cell_type": "code",
   "execution_count": 26,
   "metadata": {},
   "outputs": [
    {
     "name": "stdout",
     "output_type": "stream",
     "text": [
      "pragnya"
     ]
    }
   ],
   "source": [
    "#Instead of '7' in for loop, give length(s) so that system takes based on given string\n",
    "\n",
    "for i in range(len(s)):\n",
    "    print(s[i],end='')"
   ]
  },
  {
   "cell_type": "code",
   "execution_count": 30,
   "metadata": {},
   "outputs": [
    {
     "name": "stdout",
     "output_type": "stream",
     "text": [
      "pragnya"
     ]
    }
   ],
   "source": [
    "#Using while\n",
    "\n",
    "i=0\n",
    "while(i<len(s)):\n",
    "    print(s[i],end='')\n",
    "    i+=1"
   ]
  },
  {
   "cell_type": "code",
   "execution_count": null,
   "metadata": {},
   "outputs": [],
   "source": []
  }
 ],
 "metadata": {
  "kernelspec": {
   "display_name": "Python 3",
   "language": "python",
   "name": "python3"
  },
  "language_info": {
   "codemirror_mode": {
    "name": "ipython",
    "version": 3
   },
   "file_extension": ".py",
   "mimetype": "text/x-python",
   "name": "python",
   "nbconvert_exporter": "python",
   "pygments_lexer": "ipython3",
   "version": "3.8.5"
  }
 },
 "nbformat": 4,
 "nbformat_minor": 4
}
