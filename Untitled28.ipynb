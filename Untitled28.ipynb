{
 "cells": [
  {
   "cell_type": "code",
   "execution_count": null,
   "metadata": {},
   "outputs": [],
   "source": [
    "a=print(\"hello\",end=\" \")\n",
    "b=print(\"hi\")"
   ]
  },
  {
   "cell_type": "code",
   "execution_count": null,
   "metadata": {},
   "outputs": [],
   "source": [
    "a=10\n",
    "b=20\n",
    "c=a+b\n",
    "d=b-a\n",
    "print(\"The value of c is: {}\".format(c))\n",
    "print(\"The value of d is: {}\".format(d))"
   ]
  },
  {
   "cell_type": "code",
   "execution_count": 14,
   "metadata": {},
   "outputs": [
    {
     "name": "stdout",
     "output_type": "stream",
     "text": [
      "Enter value of a: 100\n",
      "Enter value of b: 200\n",
      "The value of c1 is: 300\n",
      "The value of d1 is: 100\n"
     ]
    }
   ],
   "source": [
    "a=int(input(\"Enter value of a: \"))\n",
    "b=int(input(\"Enter value of b: \"))\n",
    "c1=a+b\n",
    "d1=b-a\n",
    "print(\"The value of c1 is: {}\".format(c1))\n",
    "print(\"The value of d1 is: {}\".format(d1))"
   ]
  },
  {
   "cell_type": "code",
   "execution_count": 16,
   "metadata": {},
   "outputs": [
    {
     "name": "stdout",
     "output_type": "stream",
     "text": [
      "Enter value of a: 10\n",
      "Enter value of b: 20\n",
      "The sum of 10 & 20 is: 30\n",
      "The sub of 10 & 20 is: 10\n"
     ]
    }
   ],
   "source": [
    "a=int(input(\"Enter value of a: \"))\n",
    "b=int(input(\"Enter value of b: \"))\n",
    "c1=a+b\n",
    "d1=b-a\n",
    "print(\"The sum of {} & {} is: {}\".format(a,b,c1))\n",
    "print(\"The sub of {} & {} is: {}\".format(a,b,d1))"
   ]
  },
  {
   "cell_type": "code",
   "execution_count": 23,
   "metadata": {},
   "outputs": [
    {
     "name": "stdout",
     "output_type": "stream",
     "text": [
      "hihello.\n"
     ]
    }
   ],
   "source": [
    "print(\"hihello\",'.',sep='')"
   ]
  },
  {
   "cell_type": "code",
   "execution_count": 24,
   "metadata": {},
   "outputs": [
    {
     "name": "stdout",
     "output_type": "stream",
     "text": [
      "hi .\n"
     ]
    }
   ],
   "source": [
    "print(\"hi\",'.')"
   ]
  },
  {
   "cell_type": "code",
   "execution_count": 25,
   "metadata": {},
   "outputs": [
    {
     "name": "stdout",
     "output_type": "stream",
     "text": [
      "hi."
     ]
    }
   ],
   "source": [
    "print(\"hi\",end='.')"
   ]
  },
  {
   "cell_type": "code",
   "execution_count": 28,
   "metadata": {},
   "outputs": [
    {
     "name": "stdout",
     "output_type": "stream",
     "text": [
      "hellohi.\n"
     ]
    }
   ],
   "source": [
    "print(\"hello\",\"hi\",'.',sep='')"
   ]
  },
  {
   "cell_type": "code",
   "execution_count": 38,
   "metadata": {},
   "outputs": [
    {
     "name": "stdout",
     "output_type": "stream",
     "text": [
      "Enter a number10\n",
      "the square of the number is:  100\n",
      "the square of the number is:  100 .\n",
      "the square of the number is: 100.\n",
      "the square of the number is:  100."
     ]
    }
   ],
   "source": [
    "n=eval(input(\"Enter a number\"))\n",
    "sq=n*n\n",
    "print(\"the square of the number is: \",sq)\n",
    "print(\"the square of the number is: \",sq,'.')\n",
    "print(\"the square of the number is: \",sq,'.',sep='')\n",
    "print(\"the square of the number is: \",sq,end='.')\n",
    "\n",
    "\n"
   ]
  },
  {
   "cell_type": "code",
   "execution_count": 39,
   "metadata": {},
   "outputs": [
    {
     "name": "stdout",
     "output_type": "stream",
     "text": [
      "Enter value of a: 10\n",
      "Enter value of b: 20\n",
      "30\n",
      "10\n"
     ]
    }
   ],
   "source": [
    "def fun():\n",
    "    a=int(input(\"Enter value of a: \"))\n",
    "    b=int(input(\"Enter value of b: \"))\n",
    "    c1=a+b\n",
    "    d1=b-a\n",
    "    print(c1)\n",
    "    print(d1)\n",
    "fun()"
   ]
  },
  {
   "cell_type": "code",
   "execution_count": 43,
   "metadata": {},
   "outputs": [
    {
     "name": "stdout",
     "output_type": "stream",
     "text": [
      "45\n",
      "15\n"
     ]
    }
   ],
   "source": [
    "def fun(a1,b1):\n",
    "    c1=a1+b1\n",
    "    d1=b1-a1\n",
    "    print(c1)\n",
    "    print(d1)\n",
    "fun(15,30)"
   ]
  },
  {
   "cell_type": "code",
   "execution_count": 44,
   "metadata": {},
   "outputs": [
    {
     "name": "stdout",
     "output_type": "stream",
     "text": [
      "Enter value of b: 20\n",
      "30\n",
      "10\n"
     ]
    }
   ],
   "source": [
    "def fun(a):\n",
    "    b=int(input(\"Enter value of b: \"))\n",
    "    c1=a+b\n",
    "    d1=b-a\n",
    "    print(c1)\n",
    "    print(d1)\n",
    "fun(10)"
   ]
  },
  {
   "cell_type": "code",
   "execution_count": 50,
   "metadata": {},
   "outputs": [
    {
     "name": "stdout",
     "output_type": "stream",
     "text": [
      "110\n",
      "-90\n"
     ]
    }
   ],
   "source": [
    "def fun(a5,b=10):\n",
    "    c1=a5+b\n",
    "    d1=b-a5\n",
    "    print(c1)\n",
    "    print(d1)\n",
    "fun(100)"
   ]
  },
  {
   "cell_type": "code",
   "execution_count": 52,
   "metadata": {},
   "outputs": [
    {
     "name": "stdout",
     "output_type": "stream",
     "text": [
      "Enter value of b: 20\n",
      "120\n",
      "-80\n"
     ]
    }
   ],
   "source": [
    "a=100\n",
    "def fun():\n",
    "    b=int(input(\"Enter value of b: \"))\n",
    "    c1=a+b\n",
    "    d1=b-a\n",
    "    print(c1)\n",
    "    print(d1)\n",
    "fun()"
   ]
  },
  {
   "cell_type": "code",
   "execution_count": 53,
   "metadata": {},
   "outputs": [
    {
     "name": "stdout",
     "output_type": "stream",
     "text": [
      "enter a value1000\n",
      "Enter value of b: 3000\n",
      "4000\n",
      "2000\n"
     ]
    }
   ],
   "source": [
    "a=eval(input(\"enter a value\"))\n",
    "def fun():\n",
    "    b=int(input(\"Enter value of b: \"))\n",
    "    c1=a+b\n",
    "    d1=b-a\n",
    "    print(c1)\n",
    "    print(d1)\n",
    "fun()"
   ]
  },
  {
   "cell_type": "code",
   "execution_count": null,
   "metadata": {},
   "outputs": [],
   "source": []
  }
 ],
 "metadata": {
  "kernelspec": {
   "display_name": "Python 3",
   "language": "python",
   "name": "python3"
  },
  "language_info": {
   "codemirror_mode": {
    "name": "ipython",
    "version": 3
   },
   "file_extension": ".py",
   "mimetype": "text/x-python",
   "name": "python",
   "nbconvert_exporter": "python",
   "pygments_lexer": "ipython3",
   "version": "3.8.5"
  }
 },
 "nbformat": 4,
 "nbformat_minor": 4
}
