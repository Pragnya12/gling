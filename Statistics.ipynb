{
 "cells": [
  {
   "cell_type": "markdown",
   "id": "5945c4dd",
   "metadata": {},
   "source": [
    "#Numerical Data"
   ]
  },
  {
   "cell_type": "markdown",
   "id": "fc0c9466",
   "metadata": {},
   "source": [
    "**Nominal Data**\n",
    "- Which don't follow any order & don't have any relation between the data\n",
    "- Ex's--->\n",
    "- Name of the person\n",
    "- Name of the city  (Hyd,banglore)--> Here hyd & bangalore are not related to anything\n",
    "- It is very very base level data"
   ]
  },
  {
   "cell_type": "code",
   "execution_count": null,
   "id": "554c6e46",
   "metadata": {},
   "outputs": [],
   "source": []
  }
 ],
 "metadata": {
  "kernelspec": {
   "display_name": "Python 3",
   "language": "python",
   "name": "python3"
  },
  "language_info": {
   "codemirror_mode": {
    "name": "ipython",
    "version": 3
   },
   "file_extension": ".py",
   "mimetype": "text/x-python",
   "name": "python",
   "nbconvert_exporter": "python",
   "pygments_lexer": "ipython3",
   "version": "3.11.4"
  }
 },
 "nbformat": 4,
 "nbformat_minor": 5
}
