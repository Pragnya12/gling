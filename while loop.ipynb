{
 "cells": [
  {
   "cell_type": "code",
   "execution_count": 9,
   "id": "65cba67e",
   "metadata": {},
   "outputs": [
    {
     "name": "stdout",
     "output_type": "stream",
     "text": [
      "Enter n value: 10\n",
      "1\n",
      "4\n",
      "9\n",
      "16\n",
      "25\n",
      "36\n",
      "49\n",
      "64\n",
      "81\n",
      "100\n",
      "Sum of First 10 square numbers is 121\n"
     ]
    }
   ],
   "source": [
    "#WAP to ask the user to print first 10 square numbers (1 to 10) & sum of it\n",
    "\n",
    "i=1\n",
    "n=eval(input(\"Enter n value: \"))\n",
    "while(i<n+1):   # 1<11 (10+1)     #2<11\n",
    "    print(i**2)   #1 *1 =1        #2*2 = 4\n",
    "    i=i+1          #i=1+1 (2)     #i=2+1= 3\n",
    "else:\n",
    "    print(\"Sum of First 10 square numbers is {}\".format(i**2))"
   ]
  },
  {
   "cell_type": "code",
   "execution_count": 13,
   "id": "a2376b67",
   "metadata": {},
   "outputs": [
    {
     "name": "stdout",
     "output_type": "stream",
     "text": [
      "Table 7 is 7X1=7\n",
      "Table 7 is 7X2=14\n",
      "Table 7 is 7X3=21\n",
      "Table 7 is 7X4=28\n",
      "Table 7 is 7X5=35\n",
      "Table 7 is 7X6=42\n",
      "Table 7 is 7X7=49\n",
      "Table 7 is 7X8=56\n",
      "Table 7 is 7X9=63\n",
      "Table 7 is 7X10=70\n"
     ]
    }
   ],
   "source": [
    "#to write 7 table\n",
    "\n",
    "n=7\n",
    "i=1\n",
    "while(i<11):\n",
    "    print(\"Table 7 is {}X{}={}\".format(n,i,n*i))\n",
    "    i=i+1"
   ]
  },
  {
   "cell_type": "code",
   "execution_count": 16,
   "id": "c9c0b5c0",
   "metadata": {},
   "outputs": [
    {
     "name": "stdout",
     "output_type": "stream",
     "text": [
      "Enter n value: 7\n",
      "Table 7*1=7\n",
      "Table 7*2=14\n",
      "Table 7*3=21\n",
      "Table 7*4=28\n",
      "Table 7*5=35\n",
      "Table 7*6=42\n",
      "Table 7*7=49\n",
      "Table 7*8=56\n",
      "Table 7*9=63\n",
      "Table 7*10=70\n"
     ]
    }
   ],
   "source": [
    "\n",
    "n=eval(input(\"Enter n value: \"))\n",
    "i=1\n",
    "while(i<11):\n",
    "    print(\"Table 7*{}={}\".format(i,n*i))\n",
    "    i=i+1"
   ]
  },
  {
   "cell_type": "code",
   "execution_count": 45,
   "id": "f9052148",
   "metadata": {},
   "outputs": [
    {
     "name": "stdout",
     "output_type": "stream",
     "text": [
      "Random number is: 31\n",
      "Square of a 31 is 961\n",
      "Random number is: 30\n",
      "Square of a 30 is 900\n",
      "Random number is: 52\n",
      "Square of a 52 is 2704\n",
      "Random number is: 63\n",
      "Square of a 63 is 3969\n",
      "Random number is: 38\n",
      "Square of a 38 is 1444\n"
     ]
    }
   ],
   "source": [
    "#WAP to take random value bw 1 to 100 & find square of it for 5 times using for loop\n",
    "\n",
    "import random\n",
    "i=0\n",
    "while(i<5):\n",
    "    number=random.randint(1,100)\n",
    "    print(\"Random number is:\",number)\n",
    "    print(\"Square of a {} is {}\".format(number,number*number))\n",
    "    i=i+1\n"
   ]
  },
  {
   "cell_type": "code",
   "execution_count": 46,
   "id": "74d4e63b",
   "metadata": {},
   "outputs": [
    {
     "name": "stdout",
     "output_type": "stream",
     "text": [
      "hello\n",
      "hello\n",
      "hello\n",
      "hello\n",
      "hello\n"
     ]
    }
   ],
   "source": [
    "#to print hello for 5 times\n",
    "i=0\n",
    "while(i<5):\n",
    "    print(\"hello\")\n",
    "    i=i+1"
   ]
  },
  {
   "cell_type": "code",
   "execution_count": 78,
   "id": "fc0be217",
   "metadata": {},
   "outputs": [
    {
     "name": "stdout",
     "output_type": "stream",
     "text": [
      "1 is a odd number\n",
      "2 is a even number\n",
      "3 is a odd number\n",
      "4 is a even number\n",
      "5 is a odd number\n",
      "6 is a even number\n",
      "7 is a odd number\n",
      "8 is a even number\n",
      "9 is a odd number\n",
      "10 is a even number\n",
      "11 is a odd number\n",
      "12 is a even number\n",
      "13 is a odd number\n",
      "14 is a even number\n",
      "15 is a odd number\n",
      "16 is a even number\n",
      "17 is a odd number\n",
      "18 is a even number\n",
      "19 is a odd number\n",
      "20 is a even number\n",
      "21 is a odd number\n",
      "22 is a even number\n",
      "23 is a odd number\n",
      "24 is a even number\n",
      "25 is a odd number\n",
      "26 is a even number\n",
      "27 is a odd number\n",
      "28 is a even number\n",
      "29 is a odd number\n",
      "30 is a even number\n",
      "31 is a odd number\n",
      "32 is a even number\n",
      "33 is a odd number\n",
      "34 is a even number\n",
      "35 is a odd number\n",
      "36 is a even number\n",
      "37 is a odd number\n",
      "38 is a even number\n",
      "39 is a odd number\n",
      "40 is a even number\n",
      "41 is a odd number\n",
      "42 is a even number\n",
      "43 is a odd number\n",
      "44 is a even number\n",
      "45 is a odd number\n",
      "46 is a even number\n",
      "47 is a odd number\n",
      "48 is a even number\n",
      "49 is a odd number\n",
      "50 is a even number\n",
      "51 is a odd number\n",
      "52 is a even number\n",
      "53 is a odd number\n",
      "54 is a even number\n",
      "55 is a odd number\n",
      "56 is a even number\n",
      "57 is a odd number\n",
      "58 is a even number\n",
      "59 is a odd number\n",
      "60 is a even number\n",
      "61 is a odd number\n",
      "62 is a even number\n",
      "63 is a odd number\n",
      "64 is a even number\n",
      "65 is a odd number\n",
      "66 is a even number\n",
      "67 is a odd number\n",
      "68 is a even number\n",
      "69 is a odd number\n",
      "70 is a even number\n",
      "71 is a odd number\n",
      "72 is a even number\n",
      "73 is a odd number\n",
      "74 is a even number\n",
      "75 is a odd number\n",
      "76 is a even number\n",
      "77 is a odd number\n",
      "78 is a even number\n",
      "79 is a odd number\n",
      "80 is a even number\n",
      "81 is a odd number\n",
      "82 is a even number\n",
      "83 is a odd number\n",
      "84 is a even number\n",
      "85 is a odd number\n",
      "86 is a even number\n",
      "87 is a odd number\n",
      "88 is a even number\n",
      "89 is a odd number\n",
      "90 is a even number\n",
      "91 is a odd number\n",
      "92 is a even number\n",
      "93 is a odd number\n",
      "94 is a even number\n",
      "95 is a odd number\n",
      "96 is a even number\n",
      "97 is a odd number\n",
      "98 is a even number\n",
      "99 is a odd number\n",
      "100 is a even number\n"
     ]
    }
   ],
   "source": [
    "#WAP to ask the user to print whther number is even or odd number till 100\n",
    "\n",
    "i=1\n",
    "while(i<=100): \n",
    "    if(i%2==0):\n",
    "        print(\"{} is a even number\".format(i))   \n",
    "    else:\n",
    "        print(\"{} is a odd number\".format(i))\n",
    "    i=i+1"
   ]
  },
  {
   "cell_type": "code",
   "execution_count": 81,
   "id": "bf7f9c81",
   "metadata": {},
   "outputs": [
    {
     "name": "stdout",
     "output_type": "stream",
     "text": [
      "10 is a even number\n",
      "11 is a odd number\n",
      "12 is a even number\n",
      "13 is a odd number\n",
      "14 is a even number\n",
      "15 is a odd number\n",
      "16 is a even number\n",
      "17 is a odd number\n",
      "18 is a even number\n",
      "19 is a odd number\n",
      "20 is a even number\n",
      "21 is a odd number\n",
      "22 is a even number\n",
      "23 is a odd number\n",
      "24 is a even number\n",
      "25 is a odd number\n",
      "26 is a even number\n",
      "27 is a odd number\n",
      "28 is a even number\n",
      "29 is a odd number\n",
      "30 is a even number\n",
      "31 is a odd number\n",
      "32 is a even number\n",
      "33 is a odd number\n",
      "34 is a even number\n",
      "35 is a odd number\n",
      "36 is a even number\n",
      "37 is a odd number\n",
      "38 is a even number\n",
      "39 is a odd number\n",
      "40 is a even number\n"
     ]
    }
   ],
   "source": [
    "#WAP to ask the user to print whther number is even or odd number\n",
    "#Range btw 10 to 40\n",
    "\n",
    "i=10\n",
    "while(i<41): \n",
    "    if(i%2==0):\n",
    "        print(\"{} is a even number\".format(i))   \n",
    "    else:\n",
    "        print(\"{} is a odd number\".format(i))\n",
    "    i=i+1"
   ]
  },
  {
   "cell_type": "code",
   "execution_count": 80,
   "id": "4b6f8000",
   "metadata": {},
   "outputs": [
    {
     "name": "stdout",
     "output_type": "stream",
     "text": [
      "10 is a even number\n",
      "11 is a odd number\n",
      "12 is a even number\n",
      "13 is a odd number\n",
      "14 is a even number\n",
      "15 is a odd number\n",
      "16 is a even number\n",
      "17 is a odd number\n",
      "18 is a even number\n",
      "19 is a odd number\n",
      "20 is a even number\n",
      "21 is a odd number\n",
      "22 is a even number\n",
      "23 is a odd number\n",
      "24 is a even number\n",
      "25 is a odd number\n",
      "26 is a even number\n",
      "27 is a odd number\n",
      "28 is a even number\n",
      "29 is a odd number\n",
      "30 is a even number\n",
      "31 is a odd number\n",
      "32 is a even number\n",
      "33 is a odd number\n",
      "34 is a even number\n",
      "35 is a odd number\n",
      "36 is a even number\n",
      "37 is a odd number\n",
      "38 is a even number\n",
      "39 is a odd number\n",
      "40 is a even number\n"
     ]
    }
   ],
   "source": [
    "#using try & exception\n",
    "\n",
    "try:\n",
    "    i=10\n",
    "    while(i<41): \n",
    "        if(i%2==0):\n",
    "            print(\"{} is a even number\".format(i))   \n",
    "        else:\n",
    "            print(\"{} is a odd number\".format(i))\n",
    "        i=i+1\n",
    "except Exception as e:\n",
    "    print(e)\n",
    "    "
   ]
  },
  {
   "cell_type": "code",
   "execution_count": 84,
   "id": "d749edfd",
   "metadata": {},
   "outputs": [
    {
     "name": "stdout",
     "output_type": "stream",
     "text": [
      "1 is a odd number\n",
      "2 is a even number\n",
      "3 is a odd number\n",
      "4 is a even number\n",
      "5 is a odd number\n",
      "6 is a even number\n",
      "7 is a odd number\n",
      "8 is a even number\n",
      "9 is a odd number\n",
      "10 is a even number\n"
     ]
    }
   ],
   "source": [
    "#using functions\n",
    "\n",
    "def evn_odd():\n",
    "    i=1\n",
    "    while(i<11): \n",
    "        if(i%2==0):\n",
    "            print(\"{} is a even number\".format(i))   \n",
    "        else:\n",
    "            print(\"{} is a odd number\".format(i))\n",
    "        i=i+1\n",
    "evn_odd()\n"
   ]
  },
  {
   "cell_type": "code",
   "execution_count": 86,
   "id": "909207a9",
   "metadata": {},
   "outputs": [
    {
     "name": "stdout",
     "output_type": "stream",
     "text": [
      "10 is a even number\n"
     ]
    }
   ],
   "source": [
    "#func's with argumnts\n",
    "\n",
    "def evn_odd(i):\n",
    "    #i=1\n",
    "    while(i<11): \n",
    "        if(i%2==0):\n",
    "            print(\"{} is a even number\".format(i))   \n",
    "        else:\n",
    "            print(\"{} is a odd number\".format(i))\n",
    "        i=i+1\n",
    "evn_odd(10)\n"
   ]
  },
  {
   "cell_type": "code",
   "execution_count": 87,
   "id": "11c7ede2",
   "metadata": {},
   "outputs": [
    {
     "name": "stdout",
     "output_type": "stream",
     "text": [
      "10 is a even number\n"
     ]
    }
   ],
   "source": [
    "#default arg\n",
    "\n",
    "def evn_odd(i=10):\n",
    "    #i=1\n",
    "    while(i<11): \n",
    "        if(i%2==0):\n",
    "            print(\"{} is a even number\".format(i))   \n",
    "        else:\n",
    "            print(\"{} is a odd number\".format(i))\n",
    "        i=i+1\n",
    "evn_odd()"
   ]
  },
  {
   "cell_type": "code",
   "execution_count": 93,
   "id": "708275de",
   "metadata": {},
   "outputs": [
    {
     "name": "stdout",
     "output_type": "stream",
     "text": [
      "69 is a odd number\n",
      "70 is a even number\n",
      "6 is a even number\n",
      "70 is a even number\n",
      "99 is a odd number\n",
      "84 is a even number\n",
      "5 is a odd number\n",
      "96 is a even number\n",
      "7 is a odd number\n",
      "96 is a even number\n"
     ]
    }
   ],
   "source": [
    "#wap to get 10 random numbers & print it is a even or odd number \n",
    "\n",
    "import random\n",
    "i=1\n",
    "while(i<11):\n",
    "    number=random.randint(1,100)\n",
    "    if(number%2==0):\n",
    "        print(\"{} is a even number\".format(number))\n",
    "    else:\n",
    "        print(\"{} is a odd number\".format(number))\n",
    "    i=i+1\n",
    "    \n"
   ]
  },
  {
   "cell_type": "code",
   "execution_count": 94,
   "id": "f54ca6d8",
   "metadata": {},
   "outputs": [
    {
     "name": "stdout",
     "output_type": "stream",
     "text": [
      "Number 1 is 14\n",
      "Enter a number: 5\n",
      "Enter a number: 7\n",
      "Enter a number: 8\n"
     ]
    }
   ],
   "source": [
    "#Guess a number\n",
    "#get a random numebr bw 1 to 20(num1)\n",
    "# ask the user to enter a number (num2)\n",
    "#if(num1==num2), print(you won)\n",
    "#otherwise, u lost\n",
    "#i will gve nly 3 chncs\n",
    "#every tme yu are wrong: (ask the user to enter a number )\n",
    "#check the condition (num1==num2)\n",
    "\n",
    "\n",
    "number1=random.randint(1,20)\n",
    "print(\"Number 1 is {}\".format(number1))\n",
    "i=0\n",
    "while(i<3):\n",
    "    number2=eval(input(\"Enter a number: \"))\n",
    "    if(number1==number2):\n",
    "        print(\"you won\")\n",
    "        break\n",
    "    else:\n",
    "        (\"You lost\")\n",
    "    i=i+1\n",
    "    "
   ]
  },
  {
   "cell_type": "code",
   "execution_count": null,
   "id": "c83382e8",
   "metadata": {},
   "outputs": [
    {
     "name": "stdout",
     "output_type": "stream",
     "text": [
      "Enter chances: 2\n",
      "Number 1 is 18\n",
      "Enter a number2: 11\n",
      "You lost\n",
      "chncs left 1\n",
      "Enter a number2: 10\n",
      "You lost\n",
      "chncs left 0\n"
     ]
    }
   ],
   "source": [
    "#to print how many chances are left\n",
    "\n",
    "chances=eval(input(\"Enter chances: \"))\n",
    "number1=random.randint(1,20)\n",
    "print(\"Number 1 is {}\".format(number1))\n",
    "i=0\n",
    "while(i<3):\n",
    "    number2=eval(input(\"Enter a number2: \"))\n",
    "    if(number1==number2):\n",
    "        print(\"you won\")\n",
    "        break\n",
    "    else:\n",
    "        print(\"You lost\")\n",
    "        print(\"chncs left {}\".format(chances-i-1))  \n",
    "    i=i+1\n",
    "    "
   ]
  },
  {
   "cell_type": "code",
   "execution_count": null,
   "id": "f66bf2bc",
   "metadata": {},
   "outputs": [],
   "source": []
  }
 ],
 "metadata": {
  "kernelspec": {
   "display_name": "Python 3",
   "language": "python",
   "name": "python3"
  },
  "language_info": {
   "codemirror_mode": {
    "name": "ipython",
    "version": 3
   },
   "file_extension": ".py",
   "mimetype": "text/x-python",
   "name": "python",
   "nbconvert_exporter": "python",
   "pygments_lexer": "ipython3",
   "version": "3.11.4"
  }
 },
 "nbformat": 4,
 "nbformat_minor": 5
}
