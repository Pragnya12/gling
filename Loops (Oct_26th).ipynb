{
 "cells": [
  {
   "cell_type": "markdown",
   "id": "10351c70",
   "metadata": {},
   "source": [
    "**for loop**\n",
    "- initialization \n",
    "- condition\n",
    "- increment/decrement\n",
    "- In python, index starts with zero"
   ]
  },
  {
   "cell_type": "code",
   "execution_count": 1,
   "id": "32dae3eb",
   "metadata": {},
   "outputs": [
    {
     "name": "stdout",
     "output_type": "stream",
     "text": [
      "i is 0\n",
      "i is 1\n",
      "i is 2\n",
      "i is 3\n",
      "i is 4\n",
      "i is 5\n",
      "i is 6\n",
      "i is 7\n",
      "i is 8\n",
      "i is 9\n"
     ]
    }
   ],
   "source": [
    "for i in range(10):          #start=0  (if nothing is mentioned, by default '0' is the starting point)\n",
    "    print(\"i is\",i)"
   ]
  },
  {
   "cell_type": "markdown",
   "id": "b27e5c86",
   "metadata": {},
   "source": [
    "#pattern-1\n",
    "#range(stop)\n",
    "- start=0\n",
    "- end= stop-1\n",
    "- increment"
   ]
  },
  {
   "cell_type": "code",
   "execution_count": 2,
   "id": "44a41747",
   "metadata": {},
   "outputs": [
    {
     "name": "stdout",
     "output_type": "stream",
     "text": [
      "0\n",
      "1\n",
      "2\n",
      "3\n",
      "4\n",
      "5\n",
      "6\n",
      "7\n",
      "8\n",
      "9\n",
      "10\n",
      "11\n",
      "12\n",
      "13\n",
      "14\n",
      "15\n",
      "16\n",
      "17\n",
      "18\n",
      "19\n"
     ]
    }
   ],
   "source": [
    "for i in range(20):\n",
    "    print(i)"
   ]
  },
  {
   "cell_type": "code",
   "execution_count": 6,
   "id": "955a708d",
   "metadata": {},
   "outputs": [
    {
     "name": "stdout",
     "output_type": "stream",
     "text": [
      "0 1 2 3 4 5 6 7 8 9 10 11 12 13 14 15 16 17 18 19 "
     ]
    }
   ],
   "source": [
    "#to print the numbers horizontally\n",
    "for i in range(20):\n",
    "    print(i,end=' ')"
   ]
  },
  {
   "cell_type": "markdown",
   "id": "a4c28247",
   "metadata": {},
   "source": [
    "**Pattern-2**\n"
   ]
  },
  {
   "cell_type": "markdown",
   "id": "2df0ca19",
   "metadata": {},
   "source": [
    "range(start,stop)\n",
    "- start= start value\n",
    "- end value= stop-1\n",
    "- increment"
   ]
  },
  {
   "cell_type": "code",
   "execution_count": 7,
   "id": "8e1e9578",
   "metadata": {},
   "outputs": [
    {
     "name": "stdout",
     "output_type": "stream",
     "text": [
      "2\n",
      "3\n",
      "4\n",
      "5\n",
      "6\n",
      "7\n",
      "8\n",
      "9\n"
     ]
    }
   ],
   "source": [
    "for i in range(2,10):\n",
    "    print(i)"
   ]
  },
  {
   "cell_type": "code",
   "execution_count": 8,
   "id": "f815e3e4",
   "metadata": {},
   "outputs": [
    {
     "name": "stdout",
     "output_type": "stream",
     "text": [
      "i is 10\n",
      "i is 11\n",
      "i is 12\n",
      "i is 13\n",
      "i is 14\n",
      "i is 15\n",
      "i is 16\n",
      "i is 17\n",
      "i is 18\n",
      "i is 19\n"
     ]
    }
   ],
   "source": [
    "for i in range(10,20):      #start=10, stop= 20-1, increment( by default, since  end is not mentioned anything)\n",
    "    print(\"i is\",i)"
   ]
  },
  {
   "cell_type": "code",
   "execution_count": 9,
   "id": "a3d31589",
   "metadata": {},
   "outputs": [
    {
     "name": "stdout",
     "output_type": "stream",
     "text": [
      "1\n",
      "2\n",
      "3\n",
      "4\n",
      "5\n",
      "6\n"
     ]
    }
   ],
   "source": [
    "for i in range(1,7):\n",
    "    print(i)"
   ]
  },
  {
   "cell_type": "code",
   "execution_count": 10,
   "id": "53ef8a2c",
   "metadata": {},
   "outputs": [
    {
     "name": "stdout",
     "output_type": "stream",
     "text": [
      "1 2 3 4 5 6 "
     ]
    }
   ],
   "source": [
    "for i in range(1,7):\n",
    "    print(i,end=' ')"
   ]
  },
  {
   "cell_type": "markdown",
   "id": "16875f21",
   "metadata": {},
   "source": [
    "**pattern-3**"
   ]
  },
  {
   "cell_type": "markdown",
   "id": "59aaf19b",
   "metadata": {},
   "source": [
    "range(start,stop,step)\n",
    "\n",
    "1) if step is positive\n",
    "- start-> start value\n",
    "- end = stop-1 (it depends on sign of step value)\n",
    "\n",
    "2) if step is negative\n",
    "- start-> start value\n",
    "- end = stop + 1"
   ]
  },
  {
   "cell_type": "code",
   "execution_count": 13,
   "id": "7c792657",
   "metadata": {},
   "outputs": [
    {
     "name": "stdout",
     "output_type": "stream",
     "text": [
      "5\n",
      "8\n",
      "11\n",
      "14\n",
      "17\n"
     ]
    }
   ],
   "source": [
    "for i in range(5,20,3):       #start=5, end=stop-1(20-1= 19)  , step -> postve (with 3 interval, i is printed)\n",
    "    print(i)"
   ]
  },
  {
   "cell_type": "code",
   "execution_count": 14,
   "id": "b570b659",
   "metadata": {},
   "outputs": [],
   "source": [
    "for i in range(5,20,-3):         #    -3 -2 -1 0 1 2 3 -----  5 to 10 is towards rght, but step value is -3 which is twrds left , so no o/p comes\n",
    "    print(i)"
   ]
  },
  {
   "cell_type": "code",
   "execution_count": 15,
   "id": "559cd556",
   "metadata": {},
   "outputs": [
    {
     "name": "stdout",
     "output_type": "stream",
     "text": [
      "20\n",
      "17\n",
      "14\n",
      "11\n",
      "8\n"
     ]
    }
   ],
   "source": [
    "for i in range(20,5,-3):\n",
    "    print(i)"
   ]
  },
  {
   "cell_type": "code",
   "execution_count": null,
   "id": "e5a8c7e0",
   "metadata": {},
   "outputs": [],
   "source": [
    "for i in range(5,20,3)\n",
    "\n",
    "#observation-1 --> Fix the values\n",
    "- start=5\n",
    "- end= 20-1 = 19\n",
    "- step= positive\n",
    "\n",
    "#observation-2 -->check if answr is possible or not\n",
    "\n",
    "- 5 8 11 14 17\n",
    "\n",
    "#observation-3 "
   ]
  },
  {
   "cell_type": "code",
   "execution_count": 16,
   "id": "52e288bc",
   "metadata": {},
   "outputs": [
    {
     "name": "stdout",
     "output_type": "stream",
     "text": [
      "-5\n",
      "-8\n",
      "-11\n",
      "-14\n",
      "-17\n"
     ]
    }
   ],
   "source": [
    "for i in range(-5,-20,-3):         #step--> -3 (ngtve drctn)          -2 -1 0\n",
    "    print(i)"
   ]
  },
  {
   "cell_type": "code",
   "execution_count": 18,
   "id": "a2250a66",
   "metadata": {},
   "outputs": [],
   "source": [
    "for i in range(5,20,-3):\n",
    "    print(i)\n",
    "\n",
    "#start= 5, end= 20+1 = 21 (step-->ngtve)\n",
    "#Since stp is ngtve, it goes in ngtve drctn-->                      -4 -3 -2 -1 0 1 2 3 4 5 6  --- 20\n",
    "#                                                                         ________________ but 20 is towards rgt, answer is not displayed\n",
    "#                                                                        (ngtve drctn)"
   ]
  },
  {
   "cell_type": "code",
   "execution_count": 19,
   "id": "e920bd77",
   "metadata": {},
   "outputs": [
    {
     "name": "stdout",
     "output_type": "stream",
     "text": [
      "10\n",
      "13\n",
      "16\n",
      "19\n",
      "22\n",
      "25\n",
      "28\n"
     ]
    }
   ],
   "source": [
    "for i in range(10,30,3):\n",
    "    print(i)\n",
    "#start=10, end= 30-1 (step= pstve), with 3 interval\n",
    "#10 13 16 19 22 25 28"
   ]
  },
  {
   "cell_type": "code",
   "execution_count": 24,
   "id": "6923f8d6",
   "metadata": {},
   "outputs": [
    {
     "name": "stdout",
     "output_type": "stream",
     "text": [
      "10\n",
      "13\n",
      "16\n",
      "19\n",
      "22\n",
      "25\n",
      "28\n"
     ]
    }
   ],
   "source": [
    "for i in range(10,30,3):\n",
    "    print(i)\n",
    "\n",
    "#start=10, end= 30+1= 31 , step->ngtve "
   ]
  },
  {
   "cell_type": "code",
   "execution_count": 25,
   "id": "177bec7b",
   "metadata": {},
   "outputs": [],
   "source": [
    "for i in range(10,30,-3):\n",
    "    print(i)"
   ]
  },
  {
   "cell_type": "code",
   "execution_count": 26,
   "id": "f0467944",
   "metadata": {},
   "outputs": [],
   "source": [
    "for i in range(10,-30,3):\n",
    "    print(i)"
   ]
  },
  {
   "cell_type": "code",
   "execution_count": 27,
   "id": "e167636b",
   "metadata": {},
   "outputs": [],
   "source": [
    "for i in range(10,30,-3):\n",
    "    print(i)\n",
    "    \n",
    "#start=10, end= 30+1 = 31, step--> ngtve\n",
    "#ngtve drctn ->  "
   ]
  },
  {
   "cell_type": "code",
   "execution_count": 28,
   "id": "f8658177",
   "metadata": {},
   "outputs": [
    {
     "name": "stdout",
     "output_type": "stream",
     "text": [
      "-10\n",
      "-13\n",
      "-16\n",
      "-19\n",
      "-22\n",
      "-25\n",
      "-28\n"
     ]
    }
   ],
   "source": [
    "for i in range(-10,-30,-3):\n",
    "    print(i)\n",
    "    \n",
    "#start= -10, end= -30+1 = -29 , step--> ngtve\n",
    "# ngtve drctn-->      -30 -29 --- -10 --- 0 1 2--- 30\n",
    "#                                   (from -10 to -30->ngtve drctn-> answer is possible)"
   ]
  },
  {
   "cell_type": "code",
   "execution_count": 30,
   "id": "1f38475f",
   "metadata": {},
   "outputs": [],
   "source": [
    "for i in range(-10,-30,3):\n",
    "    print(i)\n",
    "\n",
    "    #start= -10, end= -30-1 = -31 ( step is pstve)\n",
    "    # postve drctn... but -10 to -30 is twrds ngtve ,so answr is nt displayed"
   ]
  },
  {
   "cell_type": "code",
   "execution_count": 31,
   "id": "967b50ac",
   "metadata": {},
   "outputs": [],
   "source": [
    "for i in range(-10,30,-3):\n",
    "    print(i)\n",
    "\n",
    "#start= -10, end= 30+1 = 31 (step is ngtve)\n",
    "#Ngtve drctn -- answer nt possible"
   ]
  },
  {
   "cell_type": "code",
   "execution_count": 32,
   "id": "811bdf89",
   "metadata": {},
   "outputs": [
    {
     "name": "stdout",
     "output_type": "stream",
     "text": [
      "-10\n",
      "-7\n",
      "-4\n",
      "-1\n",
      "2\n",
      "5\n",
      "8\n",
      "11\n",
      "14\n",
      "17\n",
      "20\n",
      "23\n",
      "26\n",
      "29\n"
     ]
    }
   ],
   "source": [
    "for i in range(-10,30,3):\n",
    "    print(i)\n",
    "    \n",
    "#start= -10, end= 30-1 =29 ,step->postve\n",
    "# positive drctn -- >     -10 -9 ---- 0  1 2 3 --- 30\n",
    "#                          from here(-10 to 30 in pstve drctn, answer is possible)"
   ]
  },
  {
   "cell_type": "code",
   "execution_count": 33,
   "id": "1614b62e",
   "metadata": {},
   "outputs": [
    {
     "name": "stdout",
     "output_type": "stream",
     "text": [
      "Enter n value :10\n",
      "1\n",
      "4\n",
      "9\n",
      "16\n",
      "25\n",
      "36\n",
      "49\n",
      "64\n",
      "81\n",
      "100\n"
     ]
    }
   ],
   "source": [
    "#WAP ask the user to print first 10 square numbers (1 to 10)\n",
    "n=eval(input(\"Enter n value :\"))\n",
    "for i in range(1,11):\n",
    "    print(i*i)"
   ]
  },
  {
   "cell_type": "code",
   "execution_count": 34,
   "id": "52288128",
   "metadata": {},
   "outputs": [
    {
     "name": "stdout",
     "output_type": "stream",
     "text": [
      "Enter n value :10\n",
      "0\n",
      "1\n",
      "4\n",
      "9\n",
      "16\n",
      "25\n",
      "36\n",
      "49\n",
      "64\n",
      "81\n",
      "100\n"
     ]
    }
   ],
   "source": [
    "#WAP ask the user to print first 10 square numbers (1 to 10)\n",
    "n=eval(input(\"Enter n value :\"))\n",
    "for i in range(11):\n",
    "    print(i*i)"
   ]
  },
  {
   "cell_type": "code",
   "execution_count": null,
   "id": "a3121587",
   "metadata": {},
   "outputs": [],
   "source": [
    "#WAP to print 7 table\n",
    "\n",
    "n=eval(input(\"Enter n value: \"))\n"
   ]
  }
 ],
 "metadata": {
  "kernelspec": {
   "display_name": "Python 3",
   "language": "python",
   "name": "python3"
  },
  "language_info": {
   "codemirror_mode": {
    "name": "ipython",
    "version": 3
   },
   "file_extension": ".py",
   "mimetype": "text/x-python",
   "name": "python",
   "nbconvert_exporter": "python",
   "pygments_lexer": "ipython3",
   "version": "3.11.4"
  }
 },
 "nbformat": 4,
 "nbformat_minor": 5
}
