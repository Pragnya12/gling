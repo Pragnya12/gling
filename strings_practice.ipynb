{
 "cells": [
  {
   "cell_type": "code",
   "execution_count": 1,
   "id": "2fd85234",
   "metadata": {},
   "outputs": [],
   "source": [
    "name=\"pranavi\""
   ]
  },
  {
   "cell_type": "code",
   "execution_count": 2,
   "id": "22eadbbb",
   "metadata": {},
   "outputs": [
    {
     "data": {
      "text/plain": [
       "'p'"
      ]
     },
     "execution_count": 2,
     "metadata": {},
     "output_type": "execute_result"
    }
   ],
   "source": [
    "name[0]"
   ]
  },
  {
   "cell_type": "code",
   "execution_count": 3,
   "id": "26d44af3",
   "metadata": {},
   "outputs": [
    {
     "data": {
      "text/plain": [
       "'r'"
      ]
     },
     "execution_count": 3,
     "metadata": {},
     "output_type": "execute_result"
    }
   ],
   "source": [
    "name[1]"
   ]
  },
  {
   "cell_type": "code",
   "execution_count": 4,
   "id": "7513e63e",
   "metadata": {},
   "outputs": [
    {
     "data": {
      "text/plain": [
       "'i'"
      ]
     },
     "execution_count": 4,
     "metadata": {},
     "output_type": "execute_result"
    }
   ],
   "source": [
    "name[-1]"
   ]
  },
  {
   "cell_type": "code",
   "execution_count": 5,
   "id": "25054d79",
   "metadata": {},
   "outputs": [
    {
     "data": {
      "text/plain": [
       "'v'"
      ]
     },
     "execution_count": 5,
     "metadata": {},
     "output_type": "execute_result"
    }
   ],
   "source": [
    "name[-2]"
   ]
  },
  {
   "cell_type": "code",
   "execution_count": 7,
   "id": "b297e574",
   "metadata": {},
   "outputs": [
    {
     "name": "stdout",
     "output_type": "stream",
     "text": [
      "p\n",
      "r\n",
      "a\n",
      "n\n",
      "a\n",
      "v\n",
      "i\n"
     ]
    }
   ],
   "source": [
    "#using for loop print name\n",
    "\n",
    "for i in name:\n",
    "    print(i)"
   ]
  },
  {
   "cell_type": "code",
   "execution_count": 8,
   "id": "43c755e8",
   "metadata": {},
   "outputs": [
    {
     "name": "stdout",
     "output_type": "stream",
     "text": [
      "p\n",
      "r\n",
      "a\n",
      "n\n",
      "a\n",
      "v\n",
      "i\n"
     ]
    }
   ],
   "source": [
    "#\n",
    "for i in range(len(name)):     #len(name) meant --> 7 i.e., pranavi has 7 letters \n",
    "    print(name[i])"
   ]
  },
  {
   "cell_type": "code",
   "execution_count": 16,
   "id": "21d56788",
   "metadata": {},
   "outputs": [
    {
     "name": "stdout",
     "output_type": "stream",
     "text": [
      "Number of a is 2\n"
     ]
    }
   ],
   "source": [
    "#to print a's in name\n",
    "\n",
    "name=\"pranavi\"\n",
    "count=0\n",
    "i=0\n",
    "for i in range(len(name)):\n",
    "    if(name[i]==\"a\"):\n",
    "        count=count+1\n",
    "print(\"Number of a is {}\".format(count))"
   ]
  },
  {
   "cell_type": "code",
   "execution_count": 19,
   "id": "9f3a8f8b",
   "metadata": {},
   "outputs": [
    {
     "name": "stdout",
     "output_type": "stream",
     "text": [
      "Number of y in name is 0\n"
     ]
    }
   ],
   "source": [
    "# to print \"y\" in name\n",
    "\n",
    "name=\"pranavi\"\n",
    "count=0\n",
    "i=0\n",
    "for i in range(len(name)):\n",
    "    if(name[i]==\"y\"):\n",
    "        count=count+1\n",
    "print(\"Number of y in name is\",count)"
   ]
  },
  {
   "cell_type": "code",
   "execution_count": 28,
   "id": "2ac9f18a",
   "metadata": {},
   "outputs": [
    {
     "name": "stdout",
     "output_type": "stream",
     "text": [
      "Vowel is a\n",
      "Vowel is a\n",
      "Vowel is i\n",
      "Vowels count is 3\n"
     ]
    }
   ],
   "source": [
    "#To print number of vowels in name & vowels \n",
    "\n",
    "name=\"pranavi\"\n",
    "count=0\n",
    "#i=0\n",
    "for i in range(len(name)):\n",
    "    if name[i] in \"aeiou\":    #say name[2]--> \"a\",, then \"a\" == \"aeiou\" --> count = 0+1 = 1 , name[4]->a,name[6]->i (so 3)\n",
    "        count=count+1\n",
    "        print(\"Vowel is\",name[i])\n",
    "print(\"Vowels count is\",count)"
   ]
  },
  {
   "cell_type": "code",
   "execution_count": 30,
   "id": "7b12c2b8",
   "metadata": {},
   "outputs": [
    {
     "name": "stdout",
     "output_type": "stream",
     "text": [
      "Vowel is a\n",
      "Vowel is e\n",
      "Vowel is e\n",
      "Vowel count is 3\n"
     ]
    }
   ],
   "source": [
    "#To print number of vowels in name & vowels \n",
    "\n",
    "name=\"MathewPerry\"\n",
    "count=0\n",
    "for i in range(len(name)):\n",
    "    if name[i] in \"aeiou\":\n",
    "        count=count+1\n",
    "        print(\"Vowel is {}\".format(name[i]))\n",
    "print(\"Vowel count is {}\".format(count))"
   ]
  },
  {
   "cell_type": "code",
   "execution_count": 32,
   "id": "fe7ee3fd",
   "metadata": {},
   "outputs": [
    {
     "name": "stdout",
     "output_type": "stream",
     "text": [
      "Consonant is M\n",
      "Consonant is t\n",
      "Consonant is h\n",
      "Consonant is w\n",
      "Consonant is P\n",
      "Consonant is r\n",
      "Consonant is r\n",
      "Consonant is y\n",
      "Consonant count is 8\n"
     ]
    }
   ],
   "source": [
    "#To print number of consonants in name & print them\n",
    "\n",
    "name=\"MathewPerry\"\n",
    "count=0\n",
    "for i in range(len(name)):\n",
    "    if name[i] not in \"aeiou\":\n",
    "        count=count+1\n",
    "        print(\"Consonant is {}\".format(name[i]))\n",
    "print(\"Consonant count is {}\".format(count))"
   ]
  },
  {
   "cell_type": "code",
   "execution_count": 33,
   "id": "667d80a5",
   "metadata": {},
   "outputs": [],
   "source": [
    "name=\"pranavi\""
   ]
  },
  {
   "cell_type": "code",
   "execution_count": 35,
   "id": "38bba272",
   "metadata": {},
   "outputs": [
    {
     "name": "stdout",
     "output_type": "stream",
     "text": [
      "0\n",
      "1\n",
      "2\n",
      "3\n",
      "4\n",
      "5\n"
     ]
    }
   ],
   "source": [
    "#to print pstve indexing values\n",
    "\n",
    "#step-1--> printing indexes\n",
    "for i in range(0,6):\n",
    "    print(i)"
   ]
  },
  {
   "cell_type": "code",
   "execution_count": 39,
   "id": "3516b87b",
   "metadata": {},
   "outputs": [
    {
     "name": "stdout",
     "output_type": "stream",
     "text": [
      "The index of p is 0\n",
      "The index of r is 1\n",
      "The index of a is 2\n",
      "The index of n is 3\n",
      "The index of a is 4\n",
      "The index of v is 5\n",
      "The index of i is 6\n"
     ]
    }
   ],
   "source": [
    "#printing index values  & indexes \n",
    "\n",
    "for i in range(len(name)):\n",
    "    print(\"The index of {} is {}\".format(name[i],i))"
   ]
  },
  {
   "cell_type": "code",
   "execution_count": 43,
   "id": "2f913b3e",
   "metadata": {},
   "outputs": [
    {
     "name": "stdout",
     "output_type": "stream",
     "text": [
      "p\n",
      "r\n",
      "a\n",
      "n\n",
      "a\n",
      "v\n",
      "i\n"
     ]
    }
   ],
   "source": [
    "#printing negtve index\n",
    "\n",
    "for i in range(-7,0):\n",
    "    print(name[i])"
   ]
  },
  {
   "cell_type": "code",
   "execution_count": 44,
   "id": "9bfef381",
   "metadata": {},
   "outputs": [
    {
     "name": "stdout",
     "output_type": "stream",
     "text": [
      "-7 p\n",
      "-6 r\n",
      "-5 a\n",
      "-4 n\n",
      "-3 a\n",
      "-2 v\n",
      "-1 i\n"
     ]
    }
   ],
   "source": [
    "for i in range(-len(name),0):\n",
    "    print(i,name[i])"
   ]
  },
  {
   "cell_type": "code",
   "execution_count": 46,
   "id": "e9a0340c",
   "metadata": {},
   "outputs": [
    {
     "name": "stdout",
     "output_type": "stream",
     "text": [
      "THe negative index of p is -7\n",
      "THe negative index of r is -6\n",
      "THe negative index of a is -5\n",
      "THe negative index of n is -4\n",
      "THe negative index of a is -3\n",
      "THe negative index of v is -2\n",
      "THe negative index of i is -1\n"
     ]
    }
   ],
   "source": [
    "for i in range(-len(name),0):\n",
    "    print(\"THe negative index of {} is {}\".format(name[i],i))"
   ]
  },
  {
   "cell_type": "code",
   "execution_count": 54,
   "id": "1b0038c6",
   "metadata": {},
   "outputs": [
    {
     "name": "stdout",
     "output_type": "stream",
     "text": [
      "-7\n",
      "-6\n",
      "-5\n",
      "-4\n",
      "-3\n",
      "-2\n",
      "-1\n"
     ]
    }
   ],
   "source": [
    "for i in range(len(name)):\n",
    "    print(i-len(name))"
   ]
  },
  {
   "cell_type": "code",
   "execution_count": 56,
   "id": "d76fa21c",
   "metadata": {},
   "outputs": [
    {
     "name": "stdout",
     "output_type": "stream",
     "text": [
      "p 0 -7\n",
      "r 1 -6\n",
      "a 2 -5\n",
      "n 3 -4\n",
      "a 4 -3\n",
      "v 5 -2\n",
      "i 6 -1\n"
     ]
    }
   ],
   "source": [
    "#Now print both at a time\n",
    "#Positve index of p is 0 & ngtve index is -7\n",
    "\n",
    "for i in range(len(name)):\n",
    "    print(name[i],i,i-len(name))"
   ]
  },
  {
   "cell_type": "code",
   "execution_count": 65,
   "id": "11eb3553",
   "metadata": {},
   "outputs": [
    {
     "name": "stdout",
     "output_type": "stream",
     "text": [
      "The positive index is 0 & The ngtve index of is -7 for p\n",
      "The positive index is 1 & The ngtve index of is -6 for r\n",
      "The positive index is 2 & The ngtve index of is -5 for a\n",
      "The positive index is 3 & The ngtve index of is -4 for n\n",
      "The positive index is 4 & The ngtve index of is -3 for a\n",
      "The positive index is 5 & The ngtve index of is -2 for v\n",
      "The positive index is 6 & The ngtve index of is -1 for i\n"
     ]
    }
   ],
   "source": [
    "for i in range(len(name)):\n",
    "    print(\"The positive index is {} & The ngtve index of is {} for {}\".format(i,i-len(name),name[i]))"
   ]
  },
  {
   "cell_type": "code",
   "execution_count": 8,
   "id": "72b1a2c7",
   "metadata": {},
   "outputs": [
    {
     "name": "stdout",
     "output_type": "stream",
     "text": [
      "a\n",
      "a\n",
      "a\n",
      "a\n",
      "Vowels count is 4\n"
     ]
    }
   ],
   "source": [
    "#to print no. of vowels in pragnya gaddam\n",
    "\n",
    "s=\"pragnya gaddam\"\n",
    "count=0\n",
    "for i in range(len(s)):\n",
    "    if s[i] in \"aeiou\":      #i=p, r, i =a        #i= g,n,y, i= \"a\"\n",
    "        count=count+1     #count= 0 +1 = 1\n",
    "        print(s[i])          # i= \"a\"\n",
    "print(\"Vowels count is {}\".format(count))"
   ]
  },
  {
   "cell_type": "code",
   "execution_count": 18,
   "id": "be5baa0e",
   "metadata": {},
   "outputs": [
    {
     "name": "stdout",
     "output_type": "stream",
     "text": [
      "a\n",
      "a\n",
      "i\n",
      "a\n",
      "a\n",
      "o\n",
      "u\n",
      "Vowel count is 7\n"
     ]
    }
   ],
   "source": [
    "#To print number of vowels & consonants in Gaddam Linganna Goud\n",
    "\n",
    "s=\"Gaddam Linganna Goud\"\n",
    "count=0\n",
    "for i in range(len(s)):\n",
    "    if s[i] in \"aeiou\":\n",
    "        count=count+1\n",
    "        print(s[i])\n",
    "print(\"Vowel count is\",count)\n",
    "    "
   ]
  },
  {
   "cell_type": "code",
   "execution_count": 26,
   "id": "8d544bc7",
   "metadata": {},
   "outputs": [
    {
     "name": "stdout",
     "output_type": "stream",
     "text": [
      "G d d m   L n g n n   G d \n",
      " Consonant count is 13\n"
     ]
    }
   ],
   "source": [
    "#To print number of consonants in Gaddam Linganna Goud\n",
    "\n",
    "s=\"Gaddam Linganna Goud\"\n",
    "count=0\n",
    "for i in range(len(s)):\n",
    "    if s[i] not in \"aeiou\":\n",
    "        count=count+1\n",
    "        print(s[i],end=\" \")\n",
    "print(\"\\n Consonant count is\",count)\n",
    "    "
   ]
  },
  {
   "cell_type": "code",
   "execution_count": null,
   "id": "b8fab4a9",
   "metadata": {},
   "outputs": [],
   "source": [
    "capitalize/casefold/upper/lower\n",
    "count\n",
    "replace\n",
    "index/find"
   ]
  },
  {
   "cell_type": "code",
   "execution_count": 28,
   "id": "8cb3dfcb",
   "metadata": {},
   "outputs": [
    {
     "data": {
      "text/plain": [
       "'Pranavi'"
      ]
     },
     "execution_count": 28,
     "metadata": {},
     "output_type": "execute_result"
    }
   ],
   "source": [
    "#capitalize\n",
    "s=\"pranavi\"\n",
    "s.capitalize()"
   ]
  },
  {
   "cell_type": "code",
   "execution_count": 30,
   "id": "c35ec03a",
   "metadata": {},
   "outputs": [
    {
     "ename": "AttributeError",
     "evalue": "'tuple' object has no attribute 'capitalize'",
     "output_type": "error",
     "traceback": [
      "\u001b[1;31m---------------------------------------------------------------------------\u001b[0m",
      "\u001b[1;31mAttributeError\u001b[0m                            Traceback (most recent call last)",
      "Cell \u001b[1;32mIn[30], line 2\u001b[0m\n\u001b[0;32m      1\u001b[0m s\u001b[38;5;241m=\u001b[39m(\u001b[38;5;124m\"\u001b[39m\u001b[38;5;124mpranavi\u001b[39m\u001b[38;5;124m\"\u001b[39m,\u001b[38;5;124m\"\u001b[39m\u001b[38;5;124mpragnya\u001b[39m\u001b[38;5;124m\"\u001b[39m,\u001b[38;5;124m\"\u001b[39m\u001b[38;5;124mpython\u001b[39m\u001b[38;5;124m\"\u001b[39m)\n\u001b[1;32m----> 2\u001b[0m s\u001b[38;5;241m.\u001b[39mcapitalize()\n",
      "\u001b[1;31mAttributeError\u001b[0m: 'tuple' object has no attribute 'capitalize'"
     ]
    }
   ],
   "source": [
    "s=(\"pranavi\",\"pragnya\",\"python\")\n",
    "s.capitalize()"
   ]
  },
  {
   "cell_type": "code",
   "execution_count": 31,
   "id": "dbbbfc01",
   "metadata": {},
   "outputs": [
    {
     "ename": "AttributeError",
     "evalue": "'list' object has no attribute 'capitalize'",
     "output_type": "error",
     "traceback": [
      "\u001b[1;31m---------------------------------------------------------------------------\u001b[0m",
      "\u001b[1;31mAttributeError\u001b[0m                            Traceback (most recent call last)",
      "Cell \u001b[1;32mIn[31], line 2\u001b[0m\n\u001b[0;32m      1\u001b[0m s\u001b[38;5;241m=\u001b[39m[\u001b[38;5;124m\"\u001b[39m\u001b[38;5;124mpranavi\u001b[39m\u001b[38;5;124m\"\u001b[39m,\u001b[38;5;124m\"\u001b[39m\u001b[38;5;124mpragnya\u001b[39m\u001b[38;5;124m\"\u001b[39m,\u001b[38;5;124m\"\u001b[39m\u001b[38;5;124mpython\u001b[39m\u001b[38;5;124m\"\u001b[39m]\n\u001b[1;32m----> 2\u001b[0m s\u001b[38;5;241m.\u001b[39mcapitalize()\n",
      "\u001b[1;31mAttributeError\u001b[0m: 'list' object has no attribute 'capitalize'"
     ]
    }
   ],
   "source": [
    "s=[\"pranavi\",\"pragnya\",\"python\"]\n",
    "s.capitalize()"
   ]
  },
  {
   "cell_type": "code",
   "execution_count": 32,
   "id": "0d5a75bf",
   "metadata": {},
   "outputs": [
    {
     "data": {
      "text/plain": [
       "'pragnya'"
      ]
     },
     "execution_count": 32,
     "metadata": {},
     "output_type": "execute_result"
    }
   ],
   "source": [
    "#Lower\n",
    "s=\"PrAgNYa\"\n",
    "s.lower()"
   ]
  },
  {
   "cell_type": "code",
   "execution_count": 33,
   "id": "b31c73a6",
   "metadata": {},
   "outputs": [
    {
     "data": {
      "text/plain": [
       "'pragnya'"
      ]
     },
     "execution_count": 33,
     "metadata": {},
     "output_type": "execute_result"
    }
   ],
   "source": [
    "s=\"PRAGNYA\"\n",
    "s.lower()"
   ]
  },
  {
   "cell_type": "code",
   "execution_count": 34,
   "id": "e2d198cc",
   "metadata": {},
   "outputs": [
    {
     "data": {
      "text/plain": [
       "'pranavi'"
      ]
     },
     "execution_count": 34,
     "metadata": {},
     "output_type": "execute_result"
    }
   ],
   "source": [
    "#casefold\n",
    "\n",
    "s=\"PRANAVI\"\n",
    "s.casefold()"
   ]
  },
  {
   "cell_type": "code",
   "execution_count": 35,
   "id": "7001b552",
   "metadata": {},
   "outputs": [
    {
     "data": {
      "text/plain": [
       "'PRAGNYA'"
      ]
     },
     "execution_count": 35,
     "metadata": {},
     "output_type": "execute_result"
    }
   ],
   "source": [
    "#upper\n",
    "s=\"pragnya\"\n",
    "s.upper()"
   ]
  },
  {
   "cell_type": "code",
   "execution_count": 37,
   "id": "88056faa",
   "metadata": {},
   "outputs": [
    {
     "data": {
      "text/plain": [
       "2"
      ]
     },
     "execution_count": 37,
     "metadata": {},
     "output_type": "execute_result"
    }
   ],
   "source": [
    "#count\n",
    "\n",
    "s=\"pragnya\"\n",
    "s.count(\"a\")"
   ]
  },
  {
   "cell_type": "code",
   "execution_count": 38,
   "id": "e4540ba7",
   "metadata": {},
   "outputs": [
    {
     "data": {
      "text/plain": [
       "4"
      ]
     },
     "execution_count": 38,
     "metadata": {},
     "output_type": "execute_result"
    }
   ],
   "source": [
    "s=\"pranavigaddam\"\n",
    "s.count(\"a\")"
   ]
  },
  {
   "cell_type": "code",
   "execution_count": 39,
   "id": "0e1bdaf7",
   "metadata": {},
   "outputs": [
    {
     "data": {
      "text/plain": [
       "'pRagnya'"
      ]
     },
     "execution_count": 39,
     "metadata": {},
     "output_type": "execute_result"
    }
   ],
   "source": [
    "#Replace(To replace \"r\" by \"R\")\n",
    "s=\"pragnya\"\n",
    "s.replace(\"r\",\"R\")"
   ]
  },
  {
   "cell_type": "code",
   "execution_count": 42,
   "id": "1142f36f",
   "metadata": {},
   "outputs": [
    {
     "name": "stdout",
     "output_type": "stream",
     "text": [
      "pRagnya\n"
     ]
    }
   ],
   "source": [
    "#\n",
    "s1=s[0:1]\n",
    "s2=s[2:]\n",
    "s3=s1+\"R\"+s2\n",
    "print(s3)"
   ]
  },
  {
   "cell_type": "code",
   "execution_count": 43,
   "id": "f57bdb80",
   "metadata": {},
   "outputs": [
    {
     "name": "stdout",
     "output_type": "stream",
     "text": [
      "$esta$t\n",
      "$estart\n",
      "resta$t\n",
      "resta$t\n",
      "resta$t\n"
     ]
    }
   ],
   "source": [
    "string1='restart'\n",
    "print(string1.replace('r','$'))\n",
    "# in above code im not providing count value\n",
    "# what is default value=-1\n",
    "# replace maximum occurences\n",
    "print(string1.replace('r','$',1))\n",
    "# whenever you see '/' in the function inside\n",
    "# then dont provide variable name\n",
    "# 1 means what , only replace one occurence\n",
    "# Now I want to do second occurence\n",
    "# as of now we are counting the index\n",
    "str1=string1[1:] #'estart'\n",
    "str2=string1[:1] #'r'\n",
    "str3=str1.replace('r','$',1)\n",
    "print(str2+str3)\n",
    "print(string1[:1]+string1[1:].replace('r','$',1))\n",
    "print(string1[::-1].replace('r','$',1)[::-1])"
   ]
  },
  {
   "cell_type": "code",
   "execution_count": 45,
   "id": "90f96442",
   "metadata": {},
   "outputs": [
    {
     "data": {
      "text/plain": [
       "'$esta$t'"
      ]
     },
     "execution_count": 45,
     "metadata": {},
     "output_type": "execute_result"
    }
   ],
   "source": [
    "s=\"restart\"\n",
    "#Replace \"r\" by \"$\"\n",
    "s.replace(\"r\",\"$\")"
   ]
  },
  {
   "cell_type": "code",
   "execution_count": 46,
   "id": "9e585d1a",
   "metadata": {},
   "outputs": [
    {
     "data": {
      "text/plain": [
       "'$estart'"
      ]
     },
     "execution_count": 46,
     "metadata": {},
     "output_type": "execute_result"
    }
   ],
   "source": [
    "#Replace first \"r\" by \"$\"\n",
    "\n",
    "s.replace(\"r\",\"$\",1)"
   ]
  },
  {
   "cell_type": "code",
   "execution_count": 52,
   "id": "e70ca570",
   "metadata": {},
   "outputs": [
    {
     "name": "stdout",
     "output_type": "stream",
     "text": [
      "resta$t\n"
     ]
    }
   ],
   "source": [
    "#Replace second \"r\" by \"$\"  (\"resta$t\")\n",
    "\n",
    "s1=s[0:1]  # \"r\"\n",
    "s2=s[1:]   # \"estart\"\n",
    "s3=s2.replace(\"r\",\"$\",1)   #\"esta$t\"\n",
    "s4=s1+s3\n",
    "print(s4)\n"
   ]
  },
  {
   "cell_type": "code",
   "execution_count": 54,
   "id": "3de9d5e8",
   "metadata": {},
   "outputs": [
    {
     "name": "stdout",
     "output_type": "stream",
     "text": [
      "resta$t\n"
     ]
    }
   ],
   "source": [
    "print(s[0:1]+s[1:].replace(\"r\",\"$\",1))"
   ]
  },
  {
   "cell_type": "code",
   "execution_count": 58,
   "id": "24283a80",
   "metadata": {},
   "outputs": [
    {
     "data": {
      "text/plain": [
       "0"
      ]
     },
     "execution_count": 58,
     "metadata": {},
     "output_type": "execute_result"
    }
   ],
   "source": [
    "#Find\n",
    "\n",
    "s=\"Python\"\n",
    "s.find(\"P\")"
   ]
  },
  {
   "cell_type": "code",
   "execution_count": 59,
   "id": "8fb9b674",
   "metadata": {},
   "outputs": [
    {
     "data": {
      "text/plain": [
       "4"
      ]
     },
     "execution_count": 59,
     "metadata": {},
     "output_type": "execute_result"
    }
   ],
   "source": [
    "s.find(\"o\")"
   ]
  },
  {
   "cell_type": "code",
   "execution_count": 60,
   "id": "b69cc832",
   "metadata": {},
   "outputs": [
    {
     "data": {
      "text/plain": [
       "-1"
      ]
     },
     "execution_count": 60,
     "metadata": {},
     "output_type": "execute_result"
    }
   ],
   "source": [
    "s.find(\"Z\")   #since \"Z\" is not there in \"s\", -1is returned "
   ]
  },
  {
   "cell_type": "code",
   "execution_count": 61,
   "id": "9d4f60cd",
   "metadata": {},
   "outputs": [
    {
     "data": {
      "text/plain": [
       "0"
      ]
     },
     "execution_count": 61,
     "metadata": {},
     "output_type": "execute_result"
    }
   ],
   "source": [
    "#Index\n",
    "s=\"python\"\n",
    "s.index(\"p\")"
   ]
  },
  {
   "cell_type": "code",
   "execution_count": 62,
   "id": "9da593a5",
   "metadata": {},
   "outputs": [
    {
     "data": {
      "text/plain": [
       "5"
      ]
     },
     "execution_count": 62,
     "metadata": {},
     "output_type": "execute_result"
    }
   ],
   "source": [
    "s.index(\"n\")"
   ]
  },
  {
   "cell_type": "code",
   "execution_count": 68,
   "id": "8f3fd7b8",
   "metadata": {},
   "outputs": [
    {
     "name": "stdout",
     "output_type": "stream",
     "text": [
      "0\n"
     ]
    }
   ],
   "source": [
    "#frst occurence of \"p\"\n",
    "s=\"pythonprogram\"\n",
    "first_occ=s.index(\"p\")\n",
    "print(first_occ)"
   ]
  },
  {
   "cell_type": "code",
   "execution_count": 70,
   "id": "e2b1a430",
   "metadata": {},
   "outputs": [
    {
     "name": "stdout",
     "output_type": "stream",
     "text": [
      "6\n"
     ]
    }
   ],
   "source": [
    "#second occurence of \"p\"\n",
    "\n",
    "s=\"pythonprogram\"\n",
    "second_occ=s.index(\"p\",first_occ+1)\n",
    "print(second_occ)"
   ]
  },
  {
   "cell_type": "code",
   "execution_count": 73,
   "id": "f24d79b8",
   "metadata": {},
   "outputs": [
    {
     "name": "stdout",
     "output_type": "stream",
     "text": [
      "First occurence of a is 10\n"
     ]
    }
   ],
   "source": [
    "#First occurence of \"a\"\n",
    "\n",
    "s=\"Python is a scripting language\"\n",
    "first_occ=s.index(\"a\")\n",
    "print(\"First occurence of {} is {}\".format(\"a\",first_occ))"
   ]
  },
  {
   "cell_type": "code",
   "execution_count": 74,
   "id": "95d240ea",
   "metadata": {},
   "outputs": [
    {
     "name": "stdout",
     "output_type": "stream",
     "text": [
      "Second occurence of a is 23\n"
     ]
    }
   ],
   "source": [
    "#Second occurence of \"a\"\n",
    "\n",
    "s=\"Python is a scripting language\"\n",
    "second_occ=s.index(\"a\",first_occ+1)\n",
    "print(\"Second occurence of {} is {}\".format(\"a\",second_occ))"
   ]
  },
  {
   "cell_type": "code",
   "execution_count": 75,
   "id": "3072156f",
   "metadata": {},
   "outputs": [
    {
     "name": "stdout",
     "output_type": "stream",
     "text": [
      "Third occurence of a is 27\n"
     ]
    }
   ],
   "source": [
    "#Third occurence of \"a\"\n",
    "\n",
    "s=\"Python is a scripting language\"\n",
    "third_occ=s.index(\"a\",second_occ+1)\n",
    "print(\"Third occurence of {} is {}\".format(\"a\",third_occ))"
   ]
  },
  {
   "cell_type": "code",
   "execution_count": 76,
   "id": "54c3937a",
   "metadata": {},
   "outputs": [
    {
     "name": "stdout",
     "output_type": "stream",
     "text": [
      "First occurence of a is 10\n",
      "Second occurence of a is 23\n",
      "Third occurence of a is 27\n"
     ]
    }
   ],
   "source": [
    "#overall occurences of \"a\" in s=\"Python is a scripting language\"\n",
    "\n",
    "s=\"Python is a scripting language\"\n",
    "first_occ=s.index(\"a\")\n",
    "print(\"First occurence of {} is {}\".format(\"a\",first_occ))\n",
    "second_occ=s.index(\"a\",first_occ+1)\n",
    "print(\"Second occurence of {} is {}\".format(\"a\",second_occ))\n",
    "third_occ=s.index(\"a\",second_occ+1)\n",
    "print(\"Third occurence of {} is {}\".format(\"a\",third_occ))"
   ]
  },
  {
   "cell_type": "code",
   "execution_count": 78,
   "id": "555ba727",
   "metadata": {},
   "outputs": [
    {
     "data": {
      "text/plain": [
       "0"
      ]
     },
     "execution_count": 78,
     "metadata": {},
     "output_type": "execute_result"
    }
   ],
   "source": [
    "s=\"Python is a scripting language\"\n",
    "s.count(\"Z\")"
   ]
  },
  {
   "cell_type": "code",
   "execution_count": 79,
   "id": "c85fc0e0",
   "metadata": {},
   "outputs": [
    {
     "ename": "ValueError",
     "evalue": "substring not found",
     "output_type": "error",
     "traceback": [
      "\u001b[1;31m---------------------------------------------------------------------------\u001b[0m",
      "\u001b[1;31mValueError\u001b[0m                                Traceback (most recent call last)",
      "Cell \u001b[1;32mIn[79], line 1\u001b[0m\n\u001b[1;32m----> 1\u001b[0m s\u001b[38;5;241m.\u001b[39mindex(\u001b[38;5;124m\"\u001b[39m\u001b[38;5;124mZ\u001b[39m\u001b[38;5;124m\"\u001b[39m)\n",
      "\u001b[1;31mValueError\u001b[0m: substring not found"
     ]
    }
   ],
   "source": [
    "s.index(\"Z\")     #since z is not found, value error is returned"
   ]
  },
  {
   "cell_type": "code",
   "execution_count": 80,
   "id": "ece40fd2",
   "metadata": {},
   "outputs": [
    {
     "data": {
      "text/plain": [
       "'Python is a scripting language'"
      ]
     },
     "execution_count": 80,
     "metadata": {},
     "output_type": "execute_result"
    }
   ],
   "source": [
    "s.replace(\"z\",\"ZZZ\")         #No error occurs"
   ]
  },
  {
   "cell_type": "code",
   "execution_count": 81,
   "id": "4e0cf6dd",
   "metadata": {},
   "outputs": [
    {
     "data": {
      "text/plain": [
       "-1"
      ]
     },
     "execution_count": 81,
     "metadata": {},
     "output_type": "execute_result"
    }
   ],
   "source": [
    "s.find(\"Z\")            #-1 is returned since value is not there "
   ]
  },
  {
   "cell_type": "code",
   "execution_count": 86,
   "id": "4143eaa3",
   "metadata": {},
   "outputs": [
    {
     "name": "stdout",
     "output_type": "stream",
     "text": [
      "Help on method_descriptor:\n",
      "\n",
      "join(self, iterable, /)\n",
      "    Concatenate any number of strings.\n",
      "    \n",
      "    The string whose method is called is inserted in between each given string.\n",
      "    The result is returned as a new string.\n",
      "    \n",
      "    Example: '.'.join(['ab', 'pq', 'rs']) -> 'ab.pq.rs'\n",
      "\n"
     ]
    }
   ],
   "source": [
    "help(str.join)"
   ]
  },
  {
   "cell_type": "code",
   "execution_count": 87,
   "id": "ca61d3ef",
   "metadata": {},
   "outputs": [
    {
     "data": {
      "text/plain": [
       "'cabd'"
      ]
     },
     "execution_count": 87,
     "metadata": {},
     "output_type": "execute_result"
    }
   ],
   "source": [
    "a=\"ab\"\n",
    "b=\"cd\"\n",
    "a.join(b)"
   ]
  },
  {
   "cell_type": "code",
   "execution_count": 88,
   "id": "016e0ff4",
   "metadata": {},
   "outputs": [
    {
     "data": {
      "text/plain": [
       "'acdb'"
      ]
     },
     "execution_count": 88,
     "metadata": {},
     "output_type": "execute_result"
    }
   ],
   "source": [
    "b.join(a)"
   ]
  },
  {
   "cell_type": "code",
   "execution_count": 92,
   "id": "e0a2bb78",
   "metadata": {},
   "outputs": [
    {
     "data": {
      "text/plain": [
       "'acdb'"
      ]
     },
     "execution_count": 92,
     "metadata": {},
     "output_type": "execute_result"
    }
   ],
   "source": [
    "a=\"ab\"\n",
    "b=\"cd\"\n",
    "c=\"ef\"\n",
    "b.join(a)"
   ]
  },
  {
   "cell_type": "code",
   "execution_count": 96,
   "id": "ec4a6601",
   "metadata": {},
   "outputs": [
    {
     "data": {
      "text/plain": [
       "['this', 'is', 'a', 'string']"
      ]
     },
     "execution_count": 96,
     "metadata": {},
     "output_type": "execute_result"
    }
   ],
   "source": [
    "line=\"this is a string\"\n",
    "l=line.split(\" \")\n",
    "l"
   ]
  },
  {
   "cell_type": "code",
   "execution_count": 99,
   "id": "33639a20",
   "metadata": {},
   "outputs": [
    {
     "ename": "AttributeError",
     "evalue": "'list' object has no attribute 'join'",
     "output_type": "error",
     "traceback": [
      "\u001b[1;31m---------------------------------------------------------------------------\u001b[0m",
      "\u001b[1;31mAttributeError\u001b[0m                            Traceback (most recent call last)",
      "Cell \u001b[1;32mIn[99], line 1\u001b[0m\n\u001b[1;32m----> 1\u001b[0m l\u001b[38;5;241m.\u001b[39mjoin(\u001b[38;5;124m'\u001b[39m\u001b[38;5;124m-\u001b[39m\u001b[38;5;124m'\u001b[39m)\n",
      "\u001b[1;31mAttributeError\u001b[0m: 'list' object has no attribute 'join'"
     ]
    }
   ],
   "source": [
    "l.join('-')\n"
   ]
  },
  {
   "cell_type": "code",
   "execution_count": 123,
   "id": "68919b9e",
   "metadata": {},
   "outputs": [
    {
     "name": "stdout",
     "output_type": "stream",
     "text": [
      "Hello Ross Taylor! You just delved into python.\n"
     ]
    }
   ],
   "source": [
    "def print_full_name(first,last):\n",
    "    print(\"Hello \" + first, last+ \"! You just delved into python.\")\n",
    "print_full_name(\"Ross\",\"Taylor\")"
   ]
  },
  {
   "cell_type": "code",
   "execution_count": 139,
   "id": "d3243786",
   "metadata": {},
   "outputs": [
    {
     "data": {
      "text/plain": [
       "'gaddam'"
      ]
     },
     "execution_count": 139,
     "metadata": {},
     "output_type": "execute_result"
    }
   ],
   "source": [
    "#Extracting gaddam\n",
    "s=\"pragnya.gaddam5@gmail.com\"\n",
    "s1=s.index(\".\")        #it gives dot index\n",
    "s2=s.index(\"m\")          #\n",
    "s[s.index(\".\")+1:s.index(\"m\")+1]     # after dot (i.e.,g) & upto \"m\" +1 --> gaddam"
   ]
  },
  {
   "cell_type": "code",
   "execution_count": 134,
   "id": "8bd9cc1a",
   "metadata": {},
   "outputs": [
    {
     "name": "stdout",
     "output_type": "stream",
     "text": [
      "5\n"
     ]
    },
    {
     "data": {
      "text/plain": [
       "'mlr'"
      ]
     },
     "execution_count": 134,
     "metadata": {},
     "output_type": "execute_result"
    }
   ],
   "source": [
    "#extratng mlr\n",
    "sent2='mobin.sourav@uma.com'\n",
    "print(sent2.index('.'))\n",
    "sent2='mobin.souravsahoo@nareshit.ac.in'\n",
    "sent2='bikas.sourav@mlr.edu.ac.in'\n",
    "sent2[sent2.index(\"@\")+1:sent2.index(\".\",sent2.index('.')+1)]"
   ]
  },
  {
   "cell_type": "code",
   "execution_count": 148,
   "id": "2d3aef87",
   "metadata": {},
   "outputs": [
    {
     "data": {
      "text/plain": [
       "'pranavi98'"
      ]
     },
     "execution_count": 148,
     "metadata": {},
     "output_type": "execute_result"
    }
   ],
   "source": [
    "#extracting  pranavi98\n",
    "s=\"gaddam.678pranavi98.76@gmail.com\"\n",
    "s.index(\"8\")\n",
    "\n",
    "s[s.index(\"8\")+1:+s.index(\".\",s.index(\".\")+1)]"
   ]
  },
  {
   "cell_type": "code",
   "execution_count": 158,
   "id": "5bde19e6",
   "metadata": {},
   "outputs": [
    {
     "name": "stdout",
     "output_type": "stream",
     "text": [
      "h\n",
      "h\n",
      "h\n",
      "0.0\n",
      "3\n"
     ]
    }
   ],
   "source": [
    "#count h \n",
    "s=\"hello hai how are you\"\n",
    "import time\n",
    "start=time.time()\n",
    "count=0\n",
    "i=0\n",
    "for i in s:\n",
    "    if i==\"h\":\n",
    "        print(i)\n",
    "        count=count+1\n",
    "end=time.time()\n",
    "print(end-start)\n",
    "print(count)"
   ]
  },
  {
   "cell_type": "code",
   "execution_count": 157,
   "id": "0b3d6184",
   "metadata": {},
   "outputs": [
    {
     "data": {
      "text/plain": [
       "1699464214.9705915"
      ]
     },
     "execution_count": 157,
     "metadata": {},
     "output_type": "execute_result"
    }
   ],
   "source": [
    "import time\n",
    "time.time()"
   ]
  },
  {
   "cell_type": "code",
   "execution_count": null,
   "id": "68c66cdc",
   "metadata": {},
   "outputs": [],
   "source": [
    "import time\n",
    "start=time.time()\n",
    "count=0\n",
    "for i in string:\n",
    " if i=='h':\n",
    " count+=1\n",
    " \n",
    "print(count)\n",
    "end=time.time()\n",
    "print(end-start)"
   ]
  },
  {
   "cell_type": "code",
   "execution_count": 159,
   "id": "c1c6bb7c",
   "metadata": {},
   "outputs": [
    {
     "name": "stdout",
     "output_type": "stream",
     "text": [
      "p\n",
      "y\n",
      "t\n",
      "h\n",
      "o\n",
      "n\n"
     ]
    }
   ],
   "source": [
    "name=\"python\"\n",
    "for i in name:\n",
    "    print(i)"
   ]
  },
  {
   "cell_type": "code",
   "execution_count": 163,
   "id": "16630048",
   "metadata": {},
   "outputs": [
    {
     "name": "stdout",
     "output_type": "stream",
     "text": [
      "p 0\n",
      "y 1\n",
      "t 2\n",
      "h 3\n",
      "o 4\n",
      "n 5\n"
     ]
    }
   ],
   "source": [
    "for i in range(len(name)):\n",
    "    print(name[i],i)"
   ]
  },
  {
   "cell_type": "code",
   "execution_count": 164,
   "id": "414ea265",
   "metadata": {},
   "outputs": [
    {
     "data": {
      "text/plain": [
       "2"
      ]
     },
     "execution_count": 164,
     "metadata": {},
     "output_type": "execute_result"
    }
   ],
   "source": [
    "s1=\"HAI HAI hai hai\"\n",
    "s1.count(\"H\")"
   ]
  },
  {
   "cell_type": "code",
   "execution_count": 165,
   "id": "0b3e665f",
   "metadata": {},
   "outputs": [
    {
     "data": {
      "text/plain": [
       "2"
      ]
     },
     "execution_count": 165,
     "metadata": {},
     "output_type": "execute_result"
    }
   ],
   "source": [
    "s1.count(\"h\")"
   ]
  },
  {
   "cell_type": "code",
   "execution_count": 169,
   "id": "85cf285c",
   "metadata": {},
   "outputs": [
    {
     "data": {
      "text/plain": [
       "'hai hai hai hai'"
      ]
     },
     "execution_count": 169,
     "metadata": {},
     "output_type": "execute_result"
    }
   ],
   "source": [
    "#Take s1 & find lower then count \"h\"\n",
    "#MEthod-1\n",
    "\n",
    "s1=\"HAI HAI hai hai\"\n",
    "s3=s1.lower()\n",
    "s3"
   ]
  },
  {
   "cell_type": "code",
   "execution_count": 170,
   "id": "47fe3378",
   "metadata": {},
   "outputs": [
    {
     "data": {
      "text/plain": [
       "4"
      ]
     },
     "execution_count": 170,
     "metadata": {},
     "output_type": "execute_result"
    }
   ],
   "source": [
    "s3.count(\"h\")"
   ]
  },
  {
   "cell_type": "code",
   "execution_count": 172,
   "id": "c22059a9",
   "metadata": {},
   "outputs": [
    {
     "data": {
      "text/plain": [
       "4"
      ]
     },
     "execution_count": 172,
     "metadata": {},
     "output_type": "execute_result"
    }
   ],
   "source": [
    "#Method-2\n",
    "\n",
    "s1.lower().count(\"h\")"
   ]
  },
  {
   "cell_type": "code",
   "execution_count": 173,
   "id": "8b4554a8",
   "metadata": {},
   "outputs": [
    {
     "data": {
      "text/plain": [
       "4"
      ]
     },
     "execution_count": 173,
     "metadata": {},
     "output_type": "execute_result"
    }
   ],
   "source": [
    "#MEthod-3\n",
    "\n",
    "\"HAI HAI hai hai\".lower().count(\"h\")"
   ]
  },
  {
   "cell_type": "code",
   "execution_count": 174,
   "id": "128f4716",
   "metadata": {},
   "outputs": [
    {
     "data": {
      "text/plain": [
       "4"
      ]
     },
     "execution_count": 174,
     "metadata": {},
     "output_type": "execute_result"
    }
   ],
   "source": [
    "#Method-4\n",
    "\n",
    "\"hai hai hai hai\".count(\"h\")"
   ]
  },
  {
   "cell_type": "code",
   "execution_count": 178,
   "id": "5a34a900",
   "metadata": {},
   "outputs": [
    {
     "name": "stdout",
     "output_type": "stream",
     "text": [
      "4\n"
     ]
    }
   ],
   "source": [
    "#using for loop\n",
    "\n",
    "s=\"HAI HAI hai hai\"\n",
    "count=0\n",
    "for i in s:\n",
    "    if i==\"h\" or i==\"H\":\n",
    "        count=count+1\n",
    "print(count)\n",
    "    "
   ]
  },
  {
   "cell_type": "code",
   "execution_count": 179,
   "id": "9851345a",
   "metadata": {},
   "outputs": [
    {
     "name": "stdout",
     "output_type": "stream",
     "text": [
      "4\n"
     ]
    }
   ],
   "source": [
    "#\n",
    "\n",
    "s=\"HAI HAI hai hai\"\n",
    "count=0\n",
    "for i in s.lower():\n",
    "    if i==\"h\" or i==\"H\":\n",
    "        count=count+1\n",
    "print(count)\n",
    "    \n"
   ]
  },
  {
   "cell_type": "code",
   "execution_count": 180,
   "id": "d6ffd198",
   "metadata": {},
   "outputs": [
    {
     "name": "stdout",
     "output_type": "stream",
     "text": [
      "4\n"
     ]
    }
   ],
   "source": [
    "#\n",
    "\n",
    "s=\"HAI HAI hai hai\"\n",
    "count=0\n",
    "for i in s:\n",
    "    if i.lower()==\"h\" or i.lower==\"H\":   #\"s\" value gets stored in \"i\", so applying lower() on \"i\"\n",
    "        count=count+1\n",
    "print(count)\n",
    "    \n"
   ]
  },
  {
   "cell_type": "code",
   "execution_count": 184,
   "id": "3035c6f8",
   "metadata": {},
   "outputs": [
    {
     "name": "stdout",
     "output_type": "stream",
     "text": [
      "4\n"
     ]
    }
   ],
   "source": [
    "#\n",
    "\n",
    "s=\"HAI HAI hai hai\"\n",
    "count=0\n",
    "for i in range(len(s)):\n",
    "    if s[i].lower()==\"h\":\n",
    "        count=count+1\n",
    "print(count)\n",
    "    "
   ]
  },
  {
   "cell_type": "code",
   "execution_count": 188,
   "id": "83a8761a",
   "metadata": {},
   "outputs": [
    {
     "name": "stdout",
     "output_type": "stream",
     "text": [
      " mOBIn 2 aRE\n"
     ]
    }
   ],
   "source": [
    "s_in=\"MobiN 2 Are\"\n",
    "s_out=\" \"\n",
    "for i in s_in:\n",
    "    if i.isupper()==True:\n",
    "        s_out=s_out+i.lower()\n",
    "    else:\n",
    "        s_out=s_out+i.upper()\n",
    "print(s_out)"
   ]
  },
  {
   "cell_type": "code",
   "execution_count": 190,
   "id": "7ca5d049",
   "metadata": {},
   "outputs": [
    {
     "data": {
      "text/plain": [
       "15"
      ]
     },
     "execution_count": 190,
     "metadata": {},
     "output_type": "execute_result"
    }
   ],
   "source": [
    "s=\"ola ola ola ola\"\n",
    "len(s)"
   ]
  },
  {
   "cell_type": "code",
   "execution_count": 191,
   "id": "327e1f26",
   "metadata": {},
   "outputs": [
    {
     "data": {
      "text/plain": [
       "3"
      ]
     },
     "execution_count": 191,
     "metadata": {},
     "output_type": "execute_result"
    }
   ],
   "source": [
    "#To print no. of a's after 4th index\n",
    "\n",
    "s.count('a',4)"
   ]
  },
  {
   "cell_type": "code",
   "execution_count": 192,
   "id": "c4d1f5d7",
   "metadata": {},
   "outputs": [
    {
     "data": {
      "text/plain": [
       "1"
      ]
     },
     "execution_count": 192,
     "metadata": {},
     "output_type": "execute_result"
    }
   ],
   "source": [
    "##To print no. of a's bw 4th to 8th\n",
    "\n",
    "s.count(\"a\",4,9) #similar to slicing. count is internally taking slicing (4,9)"
   ]
  },
  {
   "cell_type": "code",
   "execution_count": 193,
   "id": "0be7f772",
   "metadata": {},
   "outputs": [
    {
     "data": {
      "text/plain": [
       "3"
      ]
     },
     "execution_count": 193,
     "metadata": {},
     "output_type": "execute_result"
    }
   ],
   "source": [
    "s[4:].count(\"ola\")"
   ]
  },
  {
   "cell_type": "code",
   "execution_count": 198,
   "id": "6c99e9e8",
   "metadata": {},
   "outputs": [
    {
     "name": "stdout",
     "output_type": "stream",
     "text": [
      "3\n"
     ]
    }
   ],
   "source": [
    "count=0\n",
    "for i in range(len(s)-2): # 0 to 12\n",
    "    if i>=4:\n",
    "         if s[i]+s[i+1]+s[i+2]=='ola':# 'o'=='ola' F \n",
    "            count=count+1\n",
    "print(count)"
   ]
  },
  {
   "cell_type": "code",
   "execution_count": 200,
   "id": "4cc6e18e",
   "metadata": {},
   "outputs": [
    {
     "data": {
      "text/plain": [
       "'123abc'"
      ]
     },
     "execution_count": 200,
     "metadata": {},
     "output_type": "execute_result"
    }
   ],
   "source": [
    "s=\"123abc\"\n",
    "s"
   ]
  },
  {
   "cell_type": "code",
   "execution_count": 202,
   "id": "43604b34",
   "metadata": {},
   "outputs": [
    {
     "data": {
      "text/plain": [
       "'s'"
      ]
     },
     "execution_count": 202,
     "metadata": {},
     "output_type": "execute_result"
    }
   ],
   "source": [
    "s=\"python\"\n",
    "max(\"s\")"
   ]
  },
  {
   "cell_type": "code",
   "execution_count": 210,
   "id": "c005bf1a",
   "metadata": {},
   "outputs": [
    {
     "name": "stdout",
     "output_type": "stream",
     "text": [
      "C\n",
      "D\n",
      "C\n",
      "C\n",
      "D\n",
      "C\n",
      "6\n"
     ]
    }
   ],
   "source": [
    "s=\"ABCDCCDC\"\n",
    "count=0\n",
    "for i in s:\n",
    "    if i in \"CDC\":\n",
    "        print(i)\n",
    "        count=count+1\n",
    "print(count)\n",
    "        "
   ]
  },
  {
   "cell_type": "code",
   "execution_count": 234,
   "id": "40afdce4",
   "metadata": {},
   "outputs": [
    {
     "name": "stdout",
     "output_type": "stream",
     "text": [
      "A\n",
      "B\n",
      "C\n",
      "D\n",
      "C\n",
      "C\n",
      "D\n",
      "C\n",
      "8\n"
     ]
    }
   ],
   "source": [
    "s=\"ABCDCCDC\"\n",
    "count=0\n",
    "for i in range(0,len(s)):\n",
    "    if i==\"CDC\" or \"CDC\":\n",
    "        print(s[i])\n",
    "        count=count+1\n",
    "print(count)\n",
    "        "
   ]
  },
  {
   "cell_type": "code",
   "execution_count": 222,
   "id": "89a908cf",
   "metadata": {},
   "outputs": [
    {
     "data": {
      "text/plain": [
       "'CDC'"
      ]
     },
     "execution_count": 222,
     "metadata": {},
     "output_type": "execute_result"
    }
   ],
   "source": [
    "s=\"ABCDCCDC\"\n",
    "s[2:5]\n",
    "s[5:]"
   ]
  },
  {
   "cell_type": "code",
   "execution_count": 230,
   "id": "3053be5b",
   "metadata": {},
   "outputs": [
    {
     "data": {
      "text/plain": [
       "'A'"
      ]
     },
     "execution_count": 230,
     "metadata": {},
     "output_type": "execute_result"
    }
   ],
   "source": [
    "s[0]"
   ]
  },
  {
   "cell_type": "code",
   "execution_count": 231,
   "id": "8cdde228",
   "metadata": {},
   "outputs": [
    {
     "data": {
      "text/plain": [
       "'AB'"
      ]
     },
     "execution_count": 231,
     "metadata": {},
     "output_type": "execute_result"
    }
   ],
   "source": [
    "s[0:2]"
   ]
  },
  {
   "cell_type": "code",
   "execution_count": 232,
   "id": "410b2b70",
   "metadata": {},
   "outputs": [
    {
     "ename": "TypeError",
     "evalue": "'str' object does not support item assignment",
     "output_type": "error",
     "traceback": [
      "\u001b[1;31m---------------------------------------------------------------------------\u001b[0m",
      "\u001b[1;31mTypeError\u001b[0m                                 Traceback (most recent call last)",
      "Cell \u001b[1;32mIn[232], line 1\u001b[0m\n\u001b[1;32m----> 1\u001b[0m s[\u001b[38;5;241m0\u001b[39m]\u001b[38;5;241m=\u001b[39m\u001b[38;5;241m10\u001b[39m\n",
      "\u001b[1;31mTypeError\u001b[0m: 'str' object does not support item assignment"
     ]
    }
   ],
   "source": [
    "s[0]=10"
   ]
  },
  {
   "cell_type": "code",
   "execution_count": 238,
   "id": "42c37d11",
   "metadata": {},
   "outputs": [
    {
     "ename": "NameError",
     "evalue": "name 'index' is not defined",
     "output_type": "error",
     "traceback": [
      "\u001b[1;31m---------------------------------------------------------------------------\u001b[0m",
      "\u001b[1;31mNameError\u001b[0m                                 Traceback (most recent call last)",
      "Cell \u001b[1;32mIn[238], line 2\u001b[0m\n\u001b[0;32m      1\u001b[0m s\u001b[38;5;241m=\u001b[39m\u001b[38;5;124m\"\u001b[39m\u001b[38;5;124mABCDCCDC\u001b[39m\u001b[38;5;124m\"\u001b[39m\n\u001b[1;32m----> 2\u001b[0m s[s\u001b[38;5;241m.\u001b[39mindex(\u001b[38;5;124m\"\u001b[39m\u001b[38;5;124mC\u001b[39m\u001b[38;5;124m\"\u001b[39m)\u001b[38;5;241m+\u001b[39m\u001b[38;5;241m1\u001b[39m:s\u001b[38;5;241m.\u001b[39mindex(\u001b[38;5;124m\"\u001b[39m\u001b[38;5;124mC\u001b[39m\u001b[38;5;124m\"\u001b[39m,index(\u001b[38;5;124m\"\u001b[39m\u001b[38;5;124mC\u001b[39m\u001b[38;5;124m\"\u001b[39m)\u001b[38;5;241m+\u001b[39m\u001b[38;5;241m1\u001b[39m)]\n",
      "\u001b[1;31mNameError\u001b[0m: name 'index' is not defined"
     ]
    }
   ],
   "source": [
    "s=\"ABCDCCDC\"\n",
    "s[s.index(\"C\")+1:s.index(\"C\",index(\"C\")+1)]"
   ]
  },
  {
   "cell_type": "code",
   "execution_count": 239,
   "id": "bd2c9512",
   "metadata": {},
   "outputs": [
    {
     "data": {
      "text/plain": [
       "2"
      ]
     },
     "execution_count": 239,
     "metadata": {},
     "output_type": "execute_result"
    }
   ],
   "source": [
    "s.index(\"C\")"
   ]
  },
  {
   "cell_type": "code",
   "execution_count": 240,
   "id": "97bc5d98",
   "metadata": {},
   "outputs": [
    {
     "data": {
      "text/plain": [
       "'ABCDCCDC'"
      ]
     },
     "execution_count": 240,
     "metadata": {},
     "output_type": "execute_result"
    }
   ],
   "source": [
    "s=\"ABCDCCDC\"\n",
    "s.lstrip(\"CDC\")"
   ]
  },
  {
   "cell_type": "code",
   "execution_count": 241,
   "id": "e9d725f4",
   "metadata": {},
   "outputs": [
    {
     "data": {
      "text/plain": [
       "'AB'"
      ]
     },
     "execution_count": 241,
     "metadata": {},
     "output_type": "execute_result"
    }
   ],
   "source": [
    "s.rstrip(\"CDC\")"
   ]
  },
  {
   "cell_type": "code",
   "execution_count": 251,
   "id": "9aa85f0f",
   "metadata": {},
   "outputs": [],
   "source": [
    "def count_substring(string, sub_string):\n",
    "    count = 0\n",
    "    for i in range(len(string) - len(sub_string) + 1):\n",
    "        if string[i:i + len(sub_string)] == sub_string:\n",
    "            count += 1\n",
    "    print(count)"
   ]
  },
  {
   "cell_type": "code",
   "execution_count": 252,
   "id": "31468ea3",
   "metadata": {},
   "outputs": [
    {
     "data": {
      "text/plain": [
       "30"
      ]
     },
     "execution_count": 252,
     "metadata": {},
     "output_type": "execute_result"
    }
   ],
   "source": [
    "s=\"Python is a scripting language\"\n",
    "len(s)"
   ]
  },
  {
   "cell_type": "code",
   "execution_count": 262,
   "id": "dd937b89",
   "metadata": {},
   "outputs": [
    {
     "data": {
      "text/plain": [
       "'rohit.sharma@mumbai.com'"
      ]
     },
     "execution_count": 262,
     "metadata": {},
     "output_type": "execute_result"
    }
   ],
   "source": [
    "string1=\"kl.rahul@lucknow.com,virat.kohli@bangalore.com,rohit.sharma@mumbai.com\"\n",
    "list1=string1.split(\",\")\n",
    "list1\n",
    "for i in list1:\n",
    "    i.split(\".\")[0]\n",
    "i\n",
    "    "
   ]
  },
  {
   "cell_type": "code",
   "execution_count": 265,
   "id": "49e22ac1",
   "metadata": {},
   "outputs": [
    {
     "data": {
      "text/plain": [
       "'rohit'"
      ]
     },
     "execution_count": 265,
     "metadata": {},
     "output_type": "execute_result"
    }
   ],
   "source": [
    "i.split(\".\")[0]"
   ]
  },
  {
   "cell_type": "code",
   "execution_count": 268,
   "id": "2963ec17",
   "metadata": {},
   "outputs": [
    {
     "data": {
      "text/plain": [
       "'sharma@mumbai'"
      ]
     },
     "execution_count": 268,
     "metadata": {},
     "output_type": "execute_result"
    }
   ],
   "source": [
    "i.split(\".\")[1]"
   ]
  },
  {
   "cell_type": "code",
   "execution_count": 270,
   "id": "f210f359",
   "metadata": {},
   "outputs": [
    {
     "ename": "TypeError",
     "evalue": "can only concatenate list (not \"int\") to list",
     "output_type": "error",
     "traceback": [
      "\u001b[1;31m---------------------------------------------------------------------------\u001b[0m",
      "\u001b[1;31mTypeError\u001b[0m                                 Traceback (most recent call last)",
      "Cell \u001b[1;32mIn[270], line 1\u001b[0m\n\u001b[1;32m----> 1\u001b[0m i\u001b[38;5;241m.\u001b[39msplit(\u001b[38;5;124m\"\u001b[39m\u001b[38;5;124m@\u001b[39m\u001b[38;5;124m\"\u001b[39m)\u001b[38;5;241m+\u001b[39m\u001b[38;5;241m1\u001b[39m\n",
      "\u001b[1;31mTypeError\u001b[0m: can only concatenate list (not \"int\") to list"
     ]
    }
   ],
   "source": [
    "i.split(\"@\")+1"
   ]
  },
  {
   "cell_type": "code",
   "execution_count": null,
   "id": "53553a09",
   "metadata": {},
   "outputs": [],
   "source": []
  }
 ],
 "metadata": {
  "kernelspec": {
   "display_name": "Python 3",
   "language": "python",
   "name": "python3"
  },
  "language_info": {
   "codemirror_mode": {
    "name": "ipython",
    "version": 3
   },
   "file_extension": ".py",
   "mimetype": "text/x-python",
   "name": "python",
   "nbconvert_exporter": "python",
   "pygments_lexer": "ipython3",
   "version": "3.11.4"
  }
 },
 "nbformat": 4,
 "nbformat_minor": 5
}
