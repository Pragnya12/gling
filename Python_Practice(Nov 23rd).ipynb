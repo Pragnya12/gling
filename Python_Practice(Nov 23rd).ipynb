{
 "cells": [
  {
   "cell_type": "markdown",
   "id": "6e346fac",
   "metadata": {},
   "source": [
    "- Data Types(Int,float,bool,complex,string)\n",
    "- Type casting(int to float,bool,complex,string.  bool to other data types , complex to other data types & string to other data types)\n",
    "- decimal to octal, octal to hexa, hexa to decimal \n",
    "- break statment\n",
    "- end function, seperator\n",
    "- Basic Python programs\n",
    "- Functions\n",
    "#- Func w/o , with arguments,default arg', return stmnt\n",
    "- Global, local variables\n",
    "- Global keyword\n",
    "- Function within a function\n",
    "- Strings\n",
    "- Lists\n",
    "- Tuple\n",
    "- Dictionary\n",
    "- Packages(Random, time, math)\n",
    "- File Handling\n"
   ]
  },
  {
   "cell_type": "code",
   "execution_count": 1,
   "id": "868aecf5",
   "metadata": {},
   "outputs": [],
   "source": [
    "#Strings\n",
    "s=\"Data Science\""
   ]
  },
  {
   "cell_type": "code",
   "execution_count": 12,
   "id": "00f00ee5",
   "metadata": {},
   "outputs": [],
   "source": [
    "s='Data Science'"
   ]
  },
  {
   "cell_type": "code",
   "execution_count": 14,
   "id": "fc93909d",
   "metadata": {},
   "outputs": [
    {
     "name": "stdout",
     "output_type": "stream",
     "text": [
      " hhhh hhhhh\n",
      "dfghjk fhjk\n",
      "fghhj\n"
     ]
    }
   ],
   "source": [
    "s=\"\"\" hhhh hhhhh\n",
    "dfghjk fhjk\n",
    "fghhj\"\"\"\n",
    "print(s)"
   ]
  },
  {
   "cell_type": "code",
   "execution_count": 15,
   "id": "d8a6886d",
   "metadata": {},
   "outputs": [
    {
     "name": "stdout",
     "output_type": "stream",
     "text": [
      "hhhh hhhhh\n",
      "dfghjk fhjk\n",
      "fghhj\n"
     ]
    }
   ],
   "source": [
    "s='''hhhh hhhhh\n",
    "dfghjk fhjk\n",
    "fghhj'''\n",
    "print(s)"
   ]
  },
  {
   "cell_type": "code",
   "execution_count": 2,
   "id": "bf501478",
   "metadata": {},
   "outputs": [
    {
     "data": {
      "text/plain": [
       "str"
      ]
     },
     "execution_count": 2,
     "metadata": {},
     "output_type": "execute_result"
    }
   ],
   "source": [
    "type(s)"
   ]
  },
  {
   "cell_type": "code",
   "execution_count": 3,
   "id": "6b96840a",
   "metadata": {},
   "outputs": [
    {
     "data": {
      "text/plain": [
       "12"
      ]
     },
     "execution_count": 3,
     "metadata": {},
     "output_type": "execute_result"
    }
   ],
   "source": [
    "len(s)"
   ]
  },
  {
   "cell_type": "code",
   "execution_count": 4,
   "id": "e9037df2",
   "metadata": {},
   "outputs": [
    {
     "data": {
      "text/plain": [
       "'t'"
      ]
     },
     "execution_count": 4,
     "metadata": {},
     "output_type": "execute_result"
    }
   ],
   "source": [
    "max(s)"
   ]
  },
  {
   "cell_type": "code",
   "execution_count": 5,
   "id": "47bb951a",
   "metadata": {},
   "outputs": [
    {
     "data": {
      "text/plain": [
       "' '"
      ]
     },
     "execution_count": 5,
     "metadata": {},
     "output_type": "execute_result"
    }
   ],
   "source": [
    "min(s)"
   ]
  },
  {
   "cell_type": "code",
   "execution_count": 6,
   "id": "385f42f6",
   "metadata": {},
   "outputs": [
    {
     "data": {
      "text/plain": [
       "116"
      ]
     },
     "execution_count": 6,
     "metadata": {},
     "output_type": "execute_result"
    }
   ],
   "source": [
    "#to find Ascii value\n",
    "\n",
    "ord(\"t\")"
   ]
  },
  {
   "cell_type": "code",
   "execution_count": 8,
   "id": "e30da9bb",
   "metadata": {},
   "outputs": [
    {
     "data": {
      "text/plain": [
       "'t'"
      ]
     },
     "execution_count": 8,
     "metadata": {},
     "output_type": "execute_result"
    }
   ],
   "source": [
    "#chr takes value & gives the letter\n",
    "\n",
    "chr(116)"
   ]
  },
  {
   "cell_type": "code",
   "execution_count": 9,
   "id": "d71544ac",
   "metadata": {},
   "outputs": [
    {
     "data": {
      "text/plain": [
       "65"
      ]
     },
     "execution_count": 9,
     "metadata": {},
     "output_type": "execute_result"
    }
   ],
   "source": [
    "ord(\"A\")"
   ]
  },
  {
   "cell_type": "code",
   "execution_count": 10,
   "id": "383f3d25",
   "metadata": {},
   "outputs": [
    {
     "data": {
      "text/plain": [
       "'A'"
      ]
     },
     "execution_count": 10,
     "metadata": {},
     "output_type": "execute_result"
    }
   ],
   "source": [
    "chr(65)"
   ]
  },
  {
   "cell_type": "code",
   "execution_count": 16,
   "id": "1655aba1",
   "metadata": {},
   "outputs": [
    {
     "data": {
      "text/plain": [
       "'hellohiee'"
      ]
     },
     "execution_count": 16,
     "metadata": {},
     "output_type": "execute_result"
    }
   ],
   "source": [
    "s1=\"hello\"\n",
    "s2=\"hiee\"\n",
    "s1+s2"
   ]
  },
  {
   "cell_type": "code",
   "execution_count": 17,
   "id": "49ed3156",
   "metadata": {},
   "outputs": [
    {
     "ename": "TypeError",
     "evalue": "unsupported operand type(s) for -: 'str' and 'str'",
     "output_type": "error",
     "traceback": [
      "\u001b[1;31m---------------------------------------------------------------------------\u001b[0m",
      "\u001b[1;31mTypeError\u001b[0m                                 Traceback (most recent call last)",
      "Cell \u001b[1;32mIn[17], line 1\u001b[0m\n\u001b[1;32m----> 1\u001b[0m s1\u001b[38;5;241m-\u001b[39ms2\n",
      "\u001b[1;31mTypeError\u001b[0m: unsupported operand type(s) for -: 'str' and 'str'"
     ]
    }
   ],
   "source": [
    "s1-s2"
   ]
  },
  {
   "cell_type": "code",
   "execution_count": 18,
   "id": "3875a116",
   "metadata": {},
   "outputs": [
    {
     "ename": "TypeError",
     "evalue": "can't multiply sequence by non-int of type 'str'",
     "output_type": "error",
     "traceback": [
      "\u001b[1;31m---------------------------------------------------------------------------\u001b[0m",
      "\u001b[1;31mTypeError\u001b[0m                                 Traceback (most recent call last)",
      "Cell \u001b[1;32mIn[18], line 1\u001b[0m\n\u001b[1;32m----> 1\u001b[0m s1\u001b[38;5;241m*\u001b[39ms2\n",
      "\u001b[1;31mTypeError\u001b[0m: can't multiply sequence by non-int of type 'str'"
     ]
    }
   ],
   "source": [
    "s1*s2"
   ]
  },
  {
   "cell_type": "code",
   "execution_count": 19,
   "id": "289c5dc7",
   "metadata": {},
   "outputs": [
    {
     "ename": "TypeError",
     "evalue": "unsupported operand type(s) for /: 'str' and 'str'",
     "output_type": "error",
     "traceback": [
      "\u001b[1;31m---------------------------------------------------------------------------\u001b[0m",
      "\u001b[1;31mTypeError\u001b[0m                                 Traceback (most recent call last)",
      "Cell \u001b[1;32mIn[19], line 1\u001b[0m\n\u001b[1;32m----> 1\u001b[0m s1\u001b[38;5;241m/\u001b[39ms2\n",
      "\u001b[1;31mTypeError\u001b[0m: unsupported operand type(s) for /: 'str' and 'str'"
     ]
    }
   ],
   "source": [
    "s1/s2"
   ]
  },
  {
   "cell_type": "code",
   "execution_count": 20,
   "id": "12f2da88",
   "metadata": {},
   "outputs": [
    {
     "ename": "TypeError",
     "evalue": "unsupported operand type(s) for //: 'str' and 'str'",
     "output_type": "error",
     "traceback": [
      "\u001b[1;31m---------------------------------------------------------------------------\u001b[0m",
      "\u001b[1;31mTypeError\u001b[0m                                 Traceback (most recent call last)",
      "Cell \u001b[1;32mIn[20], line 1\u001b[0m\n\u001b[1;32m----> 1\u001b[0m s1\u001b[38;5;241m/\u001b[39m\u001b[38;5;241m/\u001b[39ms2\n",
      "\u001b[1;31mTypeError\u001b[0m: unsupported operand type(s) for //: 'str' and 'str'"
     ]
    }
   ],
   "source": [
    "s1//s2"
   ]
  },
  {
   "cell_type": "code",
   "execution_count": 21,
   "id": "fdb1d7b5",
   "metadata": {},
   "outputs": [
    {
     "ename": "TypeError",
     "evalue": "not all arguments converted during string formatting",
     "output_type": "error",
     "traceback": [
      "\u001b[1;31m---------------------------------------------------------------------------\u001b[0m",
      "\u001b[1;31mTypeError\u001b[0m                                 Traceback (most recent call last)",
      "Cell \u001b[1;32mIn[21], line 1\u001b[0m\n\u001b[1;32m----> 1\u001b[0m s1\u001b[38;5;241m%\u001b[39ms2\n",
      "\u001b[1;31mTypeError\u001b[0m: not all arguments converted during string formatting"
     ]
    }
   ],
   "source": [
    "s1%s2"
   ]
  },
  {
   "cell_type": "code",
   "execution_count": 26,
   "id": "a1ac2d10",
   "metadata": {},
   "outputs": [
    {
     "data": {
      "text/plain": [
       "'hellohello'"
      ]
     },
     "execution_count": 26,
     "metadata": {},
     "output_type": "execute_result"
    }
   ],
   "source": [
    "s1*2"
   ]
  },
  {
   "cell_type": "code",
   "execution_count": 27,
   "id": "b3b645ba",
   "metadata": {},
   "outputs": [
    {
     "data": {
      "text/plain": [
       "'hieehieehieehieehiee'"
      ]
     },
     "execution_count": 27,
     "metadata": {},
     "output_type": "execute_result"
    }
   ],
   "source": [
    "s2*5\n"
   ]
  },
  {
   "cell_type": "code",
   "execution_count": 28,
   "id": "3e25bef8",
   "metadata": {},
   "outputs": [
    {
     "data": {
      "text/plain": [
       "'hello'"
      ]
     },
     "execution_count": 28,
     "metadata": {},
     "output_type": "execute_result"
    }
   ],
   "source": [
    "s1"
   ]
  },
  {
   "cell_type": "code",
   "execution_count": 29,
   "id": "1428d52c",
   "metadata": {},
   "outputs": [
    {
     "name": "stdout",
     "output_type": "stream",
     "text": [
      "h\n",
      "e\n",
      "l\n",
      "l\n",
      "o\n"
     ]
    }
   ],
   "source": [
    "for i in s1:\n",
    "    print(i)"
   ]
  },
  {
   "cell_type": "code",
   "execution_count": 33,
   "id": "ad788aff",
   "metadata": {},
   "outputs": [
    {
     "name": "stdout",
     "output_type": "stream",
     "text": [
      "h\n",
      "e\n",
      "l\n",
      "l\n",
      "o\n"
     ]
    }
   ],
   "source": [
    "i=0\n",
    "while(i<len(s1)):\n",
    "    print(s1[i])\n",
    "    i=i+1"
   ]
  },
  {
   "cell_type": "code",
   "execution_count": 35,
   "id": "8ff0ebdc",
   "metadata": {},
   "outputs": [
    {
     "name": "stdout",
     "output_type": "stream",
     "text": [
      "p\n",
      "y\n",
      "t\n",
      "h\n",
      "o\n",
      "n\n",
      " \n",
      "p\n",
      "r\n",
      "o\n",
      "g\n",
      "r\n",
      "a\n",
      "m\n"
     ]
    }
   ],
   "source": [
    "s2=\"python program\"\n",
    "for i in s2:\n",
    "    print(i)"
   ]
  },
  {
   "cell_type": "code",
   "execution_count": 36,
   "id": "c22cc13f",
   "metadata": {},
   "outputs": [
    {
     "name": "stdout",
     "output_type": "stream",
     "text": [
      "p\n",
      "y\n",
      "t\n",
      "h\n",
      "o\n",
      "n\n",
      " \n",
      "p\n",
      "r\n",
      "o\n",
      "g\n",
      "r\n",
      "a\n",
      "m\n"
     ]
    }
   ],
   "source": [
    "i=0\n",
    "while(i<len(s2)):\n",
    "    print(s2[i])\n",
    "    i=i+1"
   ]
  },
  {
   "cell_type": "code",
   "execution_count": 39,
   "id": "3bf20096",
   "metadata": {},
   "outputs": [
    {
     "data": {
      "text/plain": [
       "'python programming'"
      ]
     },
     "execution_count": 39,
     "metadata": {},
     "output_type": "execute_result"
    }
   ],
   "source": [
    "s2=\"python programming\"\n",
    "s2"
   ]
  },
  {
   "cell_type": "code",
   "execution_count": 40,
   "id": "8ae58bf9",
   "metadata": {},
   "outputs": [
    {
     "data": {
      "text/plain": [
       "'p'"
      ]
     },
     "execution_count": 40,
     "metadata": {},
     "output_type": "execute_result"
    }
   ],
   "source": [
    "s2[0]"
   ]
  },
  {
   "cell_type": "code",
   "execution_count": 41,
   "id": "add1f8cb",
   "metadata": {},
   "outputs": [
    {
     "data": {
      "text/plain": [
       "'y'"
      ]
     },
     "execution_count": 41,
     "metadata": {},
     "output_type": "execute_result"
    }
   ],
   "source": [
    "s2[1]"
   ]
  },
  {
   "cell_type": "code",
   "execution_count": 42,
   "id": "bfd6e279",
   "metadata": {},
   "outputs": [
    {
     "data": {
      "text/plain": [
       "'p'"
      ]
     },
     "execution_count": 42,
     "metadata": {},
     "output_type": "execute_result"
    }
   ],
   "source": [
    "s2[7]"
   ]
  },
  {
   "cell_type": "code",
   "execution_count": 43,
   "id": "101c1533",
   "metadata": {},
   "outputs": [
    {
     "data": {
      "text/plain": [
       "' '"
      ]
     },
     "execution_count": 43,
     "metadata": {},
     "output_type": "execute_result"
    }
   ],
   "source": [
    "s2[6]"
   ]
  },
  {
   "cell_type": "code",
   "execution_count": 44,
   "id": "b3ad635f",
   "metadata": {},
   "outputs": [
    {
     "data": {
      "text/plain": [
       "'g'"
      ]
     },
     "execution_count": 44,
     "metadata": {},
     "output_type": "execute_result"
    }
   ],
   "source": [
    "s2[-1]"
   ]
  },
  {
   "cell_type": "code",
   "execution_count": 45,
   "id": "3514a7b4",
   "metadata": {},
   "outputs": [
    {
     "data": {
      "text/plain": [
       "'i'"
      ]
     },
     "execution_count": 45,
     "metadata": {},
     "output_type": "execute_result"
    }
   ],
   "source": [
    "s2[-3]"
   ]
  },
  {
   "cell_type": "code",
   "execution_count": 46,
   "id": "79613193",
   "metadata": {},
   "outputs": [
    {
     "data": {
      "text/plain": [
       "'python programming'"
      ]
     },
     "execution_count": 46,
     "metadata": {},
     "output_type": "execute_result"
    }
   ],
   "source": [
    "s2[0:]"
   ]
  },
  {
   "cell_type": "code",
   "execution_count": 47,
   "id": "6c740017",
   "metadata": {},
   "outputs": [
    {
     "data": {
      "text/plain": [
       "'python programming'"
      ]
     },
     "execution_count": 47,
     "metadata": {},
     "output_type": "execute_result"
    }
   ],
   "source": [
    "s2[:]"
   ]
  },
  {
   "cell_type": "code",
   "execution_count": 48,
   "id": "dddf0843",
   "metadata": {},
   "outputs": [
    {
     "data": {
      "text/plain": [
       "'python programming'"
      ]
     },
     "execution_count": 48,
     "metadata": {},
     "output_type": "execute_result"
    }
   ],
   "source": [
    "s2[::]"
   ]
  },
  {
   "cell_type": "code",
   "execution_count": 49,
   "id": "dbc74b83",
   "metadata": {},
   "outputs": [
    {
     "data": {
      "text/plain": [
       "'gnimmargorp nohtyp'"
      ]
     },
     "execution_count": 49,
     "metadata": {},
     "output_type": "execute_result"
    }
   ],
   "source": [
    "s2[::-1]"
   ]
  },
  {
   "cell_type": "code",
   "execution_count": 50,
   "id": "c0c5f0a5",
   "metadata": {},
   "outputs": [
    {
     "data": {
      "text/plain": [
       "'thon p'"
      ]
     },
     "execution_count": 50,
     "metadata": {},
     "output_type": "execute_result"
    }
   ],
   "source": [
    "s2[2:8]"
   ]
  },
  {
   "cell_type": "code",
   "execution_count": 51,
   "id": "b05969ce",
   "metadata": {},
   "outputs": [
    {
     "data": {
      "text/plain": [
       "'to '"
      ]
     },
     "execution_count": 51,
     "metadata": {},
     "output_type": "execute_result"
    }
   ],
   "source": [
    "s2[2:8:2]"
   ]
  },
  {
   "cell_type": "code",
   "execution_count": 52,
   "id": "2970de8c",
   "metadata": {},
   "outputs": [
    {
     "data": {
      "text/plain": [
       "''"
      ]
     },
     "execution_count": 52,
     "metadata": {},
     "output_type": "execute_result"
    }
   ],
   "source": [
    "s2[2:8:-2]"
   ]
  },
  {
   "cell_type": "code",
   "execution_count": 53,
   "id": "848e09fb",
   "metadata": {},
   "outputs": [
    {
     "data": {
      "text/plain": [
       "'rgam'"
      ]
     },
     "execution_count": 53,
     "metadata": {},
     "output_type": "execute_result"
    }
   ],
   "source": [
    "s2[8:15:2]"
   ]
  },
  {
   "cell_type": "code",
   "execution_count": 54,
   "id": "961db94b",
   "metadata": {},
   "outputs": [
    {
     "data": {
      "text/plain": [
       "''"
      ]
     },
     "execution_count": 54,
     "metadata": {},
     "output_type": "execute_result"
    }
   ],
   "source": [
    "s2[8:15:-2]"
   ]
  },
  {
   "cell_type": "code",
   "execution_count": 55,
   "id": "fa318b5a",
   "metadata": {},
   "outputs": [
    {
     "data": {
      "text/plain": [
       "'python programming'"
      ]
     },
     "execution_count": 55,
     "metadata": {},
     "output_type": "execute_result"
    }
   ],
   "source": [
    "s2"
   ]
  },
  {
   "cell_type": "code",
   "execution_count": 58,
   "id": "9ea7f917",
   "metadata": {},
   "outputs": [
    {
     "name": "stdout",
     "output_type": "stream",
     "text": [
      "p\n",
      "y\n",
      "t\n",
      "h\n",
      "o\n",
      "n\n",
      " \n",
      "p\n",
      "r\n",
      "o\n",
      "g\n",
      "r\n",
      "a\n",
      "m\n",
      "m\n",
      "i\n",
      "n\n",
      "g\n"
     ]
    }
   ],
   "source": [
    "#using range\n",
    "\n",
    "for i in range(len(s2)):\n",
    "    print(s2[i])"
   ]
  },
  {
   "cell_type": "code",
   "execution_count": 61,
   "id": "1548c334",
   "metadata": {},
   "outputs": [
    {
     "name": "stdout",
     "output_type": "stream",
     "text": [
      "p y t h o n   p r o g r a m m i n g "
     ]
    }
   ],
   "source": [
    "for i in range(len(s2)):\n",
    "    print(s2[i],end=' ')"
   ]
  },
  {
   "cell_type": "code",
   "execution_count": 60,
   "id": "a41468fc",
   "metadata": {},
   "outputs": [
    {
     "name": "stdout",
     "output_type": "stream",
     "text": [
      "p\n",
      "y\n",
      "t\n",
      "h\n",
      "o\n",
      "n\n",
      " \n",
      "p\n",
      "r\n",
      "o\n",
      "g\n",
      "r\n",
      "a\n",
      "m\n",
      "m\n",
      "i\n",
      "n\n",
      "g\n"
     ]
    }
   ],
   "source": [
    "#\n",
    "\n",
    "i=0\n",
    "while(i<len(s2)):\n",
    "    print(s2[i])\n",
    "    i=i+1"
   ]
  },
  {
   "cell_type": "code",
   "execution_count": 66,
   "id": "721add96",
   "metadata": {},
   "outputs": [
    {
     "name": "stdout",
     "output_type": "stream",
     "text": [
      "the index of p is 0\n",
      "the index of y is 1\n",
      "the index of t is 2\n",
      "the index of h is 3\n",
      "the index of o is 4\n",
      "the index of n is 5\n",
      "the index of   is 6\n",
      "the index of p is 7\n",
      "the index of r is 8\n",
      "the index of o is 9\n",
      "the index of g is 10\n",
      "the index of r is 11\n",
      "the index of a is 12\n",
      "the index of m is 13\n",
      "the index of m is 14\n",
      "the index of i is 15\n",
      "the index of n is 16\n",
      "the index of g is 17\n"
     ]
    }
   ],
   "source": [
    "#using range\n",
    "#index\n",
    "\n",
    "for i in range(len(s2)):\n",
    "    print(\"the index of {} is {}\".format(s2[i],i))"
   ]
  },
  {
   "cell_type": "code",
   "execution_count": 71,
   "id": "a517b2f3",
   "metadata": {},
   "outputs": [
    {
     "name": "stdout",
     "output_type": "stream",
     "text": [
      "The ngtve index of p is -18\n",
      "The ngtve index of y is -17\n",
      "The ngtve index of t is -16\n",
      "The ngtve index of h is -15\n",
      "The ngtve index of o is -14\n",
      "The ngtve index of n is -13\n",
      "The ngtve index of   is -12\n",
      "The ngtve index of p is -11\n",
      "The ngtve index of r is -10\n",
      "The ngtve index of o is -9\n",
      "The ngtve index of g is -8\n",
      "The ngtve index of r is -7\n",
      "The ngtve index of a is -6\n",
      "The ngtve index of m is -5\n",
      "The ngtve index of m is -4\n",
      "The ngtve index of i is -3\n",
      "The ngtve index of n is -2\n",
      "The ngtve index of g is -1\n"
     ]
    }
   ],
   "source": [
    "#ngtve index\n",
    "\n",
    "for i in range(-len(s2),0):\n",
    "    print(\"The ngtve index of {} is {}\".format(s2[i],i))"
   ]
  },
  {
   "cell_type": "code",
   "execution_count": 73,
   "id": "1e2dba44",
   "metadata": {},
   "outputs": [
    {
     "name": "stdout",
     "output_type": "stream",
     "text": [
      "The ngtve index of p is -18\n",
      "The ngtve index of y is -17\n",
      "The ngtve index of t is -16\n",
      "The ngtve index of h is -15\n",
      "The ngtve index of o is -14\n",
      "The ngtve index of n is -13\n",
      "The ngtve index of   is -12\n",
      "The ngtve index of p is -11\n",
      "The ngtve index of r is -10\n",
      "The ngtve index of o is -9\n",
      "The ngtve index of g is -8\n",
      "The ngtve index of r is -7\n",
      "The ngtve index of a is -6\n",
      "The ngtve index of m is -5\n",
      "The ngtve index of m is -4\n",
      "The ngtve index of i is -3\n",
      "The ngtve index of n is -2\n",
      "The ngtve index of g is -1\n"
     ]
    }
   ],
   "source": [
    "#\n",
    "\n",
    "i=-len(s2)\n",
    "while(i<0):\n",
    "    print(\"The ngtve index of {} is {}\".format(s2[i],i))\n",
    "    i=i+1"
   ]
  },
  {
   "cell_type": "code",
   "execution_count": 76,
   "id": "e331f7a2",
   "metadata": {},
   "outputs": [
    {
     "data": {
      "text/plain": [
       "'HelloHithere'"
      ]
     },
     "execution_count": 76,
     "metadata": {},
     "output_type": "execute_result"
    }
   ],
   "source": [
    "s1=\"HelloHithere\"\n",
    "s1"
   ]
  },
  {
   "cell_type": "code",
   "execution_count": 77,
   "id": "3ae53fcf",
   "metadata": {},
   "outputs": [
    {
     "name": "stdout",
     "output_type": "stream",
     "text": [
      "H\n",
      "e\n",
      "l\n",
      "l\n",
      "o\n",
      "H\n",
      "i\n",
      "t\n",
      "h\n",
      "e\n",
      "r\n",
      "e\n"
     ]
    }
   ],
   "source": [
    "for i in range(len(s1)):\n",
    "    print(s1[i])"
   ]
  },
  {
   "cell_type": "code",
   "execution_count": 78,
   "id": "e3710ac6",
   "metadata": {},
   "outputs": [
    {
     "name": "stdout",
     "output_type": "stream",
     "text": [
      "the pstve index of H is 0\n",
      "the pstve index of e is 1\n",
      "the pstve index of l is 2\n",
      "the pstve index of l is 3\n",
      "the pstve index of o is 4\n",
      "the pstve index of H is 5\n",
      "the pstve index of i is 6\n",
      "the pstve index of t is 7\n",
      "the pstve index of h is 8\n",
      "the pstve index of e is 9\n",
      "the pstve index of r is 10\n",
      "the pstve index of e is 11\n"
     ]
    }
   ],
   "source": [
    "for i in range(len(s1)):\n",
    "    print(\"the pstve index of {} is {}\".format(s1[i],i))"
   ]
  },
  {
   "cell_type": "code",
   "execution_count": 87,
   "id": "0ee6a27f",
   "metadata": {},
   "outputs": [
    {
     "name": "stdout",
     "output_type": "stream",
     "text": [
      "ngtve index of H is -12\n",
      "ngtve index of e is -11\n",
      "ngtve index of l is -10\n",
      "ngtve index of l is -9\n",
      "ngtve index of o is -8\n",
      "ngtve index of H is -7\n",
      "ngtve index of i is -6\n",
      "ngtve index of t is -5\n",
      "ngtve index of h is -4\n",
      "ngtve index of e is -3\n",
      "ngtve index of r is -2\n",
      "ngtve index of e is -1\n"
     ]
    }
   ],
   "source": [
    "for i in range(len(s1)):\n",
    "    print(\"ngtve index of {} is {}\".format(s1[i],i-len(s1)))"
   ]
  },
  {
   "cell_type": "code",
   "execution_count": 81,
   "id": "28ffc10c",
   "metadata": {},
   "outputs": [
    {
     "name": "stdout",
     "output_type": "stream",
     "text": [
      "H e l l o H i t h e r e "
     ]
    }
   ],
   "source": [
    "i=0\n",
    "while(i<len(s1)):\n",
    "    print(s1[i],end=' ')\n",
    "    i=i+1"
   ]
  },
  {
   "cell_type": "code",
   "execution_count": 83,
   "id": "1c3d14fc",
   "metadata": {},
   "outputs": [
    {
     "name": "stdout",
     "output_type": "stream",
     "text": [
      "The pstve index of H is 0\n",
      "The pstve index of e is 1\n",
      "The pstve index of l is 2\n",
      "The pstve index of l is 3\n",
      "The pstve index of o is 4\n",
      "The pstve index of H is 5\n",
      "The pstve index of i is 6\n",
      "The pstve index of t is 7\n",
      "The pstve index of h is 8\n",
      "The pstve index of e is 9\n",
      "The pstve index of r is 10\n",
      "The pstve index of e is 11\n"
     ]
    }
   ],
   "source": [
    "#\n",
    "\n",
    "i=0\n",
    "while(i<len(s1)):\n",
    "    print(\"The pstve index of {} is {}\".format(s1[i],i))\n",
    "    i=i+1"
   ]
  },
  {
   "cell_type": "code",
   "execution_count": 84,
   "id": "68387d0e",
   "metadata": {},
   "outputs": [
    {
     "name": "stdout",
     "output_type": "stream",
     "text": [
      "The negative index of H is -12\n",
      "The negative index of e is -11\n",
      "The negative index of l is -10\n",
      "The negative index of l is -9\n",
      "The negative index of o is -8\n",
      "The negative index of H is -7\n",
      "The negative index of i is -6\n",
      "The negative index of t is -5\n",
      "The negative index of h is -4\n",
      "The negative index of e is -3\n",
      "The negative index of r is -2\n",
      "The negative index of e is -1\n"
     ]
    }
   ],
   "source": [
    "#\n",
    "\n",
    "i=-len(s1)\n",
    "while(i<0):\n",
    "    print(\"The negative index of {} is {}\".format(s1[i],i))\n",
    "    i=i+1"
   ]
  },
  {
   "cell_type": "code",
   "execution_count": 90,
   "id": "9e2d51a5",
   "metadata": {},
   "outputs": [
    {
     "name": "stdout",
     "output_type": "stream",
     "text": [
      "ngtve index of H is -24\n",
      "ngtve index of e is -23\n",
      "ngtve index of l is -22\n",
      "ngtve index of l is -21\n",
      "ngtve index of o is -20\n",
      "ngtve index of H is -19\n",
      "ngtve index of i is -18\n",
      "ngtve index of t is -17\n",
      "ngtve index of h is -16\n",
      "ngtve index of e is -15\n",
      "ngtve index of r is -14\n",
      "ngtve index of e is -13\n"
     ]
    }
   ],
   "source": [
    "i=-len(s1)\n",
    "while(i<0):\n",
    "    print(\"ngtve index of {} is {}\".format(s1[i],i-len(s1)))\n",
    "    i=i+1"
   ]
  },
  {
   "cell_type": "code",
   "execution_count": 96,
   "id": "4ffaecdd",
   "metadata": {},
   "outputs": [
    {
     "name": "stdout",
     "output_type": "stream",
     "text": [
      "The postve index is 0 and ngtve index is -12 for H\n",
      "The postve index is 1 and ngtve index is -11 for e\n",
      "The postve index is 2 and ngtve index is -10 for l\n",
      "The postve index is 3 and ngtve index is -9 for l\n",
      "The postve index is 4 and ngtve index is -8 for o\n",
      "The postve index is 5 and ngtve index is -7 for H\n",
      "The postve index is 6 and ngtve index is -6 for i\n",
      "The postve index is 7 and ngtve index is -5 for t\n",
      "The postve index is 8 and ngtve index is -4 for h\n",
      "The postve index is 9 and ngtve index is -3 for e\n",
      "The postve index is 10 and ngtve index is -2 for r\n",
      "The postve index is 11 and ngtve index is -1 for e\n"
     ]
    }
   ],
   "source": [
    "#print both the indices\n",
    "\n",
    "for i in range(len(s1)):\n",
    "    print(\"The postve index is {} and ngtve index is {} for {}\".format(i,i-len(s1),s1[i]))"
   ]
  },
  {
   "cell_type": "code",
   "execution_count": 97,
   "id": "c68283c9",
   "metadata": {},
   "outputs": [
    {
     "data": {
      "text/plain": [
       "'python programming'"
      ]
     },
     "execution_count": 97,
     "metadata": {},
     "output_type": "execute_result"
    }
   ],
   "source": [
    "#\n",
    "s2"
   ]
  },
  {
   "cell_type": "code",
   "execution_count": 98,
   "id": "602735d8",
   "metadata": {},
   "outputs": [
    {
     "name": "stdout",
     "output_type": "stream",
     "text": [
      "The pstve index is 0 , ngtve index is -18 for p\n",
      "The pstve index is 1 , ngtve index is -17 for y\n",
      "The pstve index is 2 , ngtve index is -16 for t\n",
      "The pstve index is 3 , ngtve index is -15 for h\n",
      "The pstve index is 4 , ngtve index is -14 for o\n",
      "The pstve index is 5 , ngtve index is -13 for n\n",
      "The pstve index is 6 , ngtve index is -12 for  \n",
      "The pstve index is 7 , ngtve index is -11 for p\n",
      "The pstve index is 8 , ngtve index is -10 for r\n",
      "The pstve index is 9 , ngtve index is -9 for o\n",
      "The pstve index is 10 , ngtve index is -8 for g\n",
      "The pstve index is 11 , ngtve index is -7 for r\n",
      "The pstve index is 12 , ngtve index is -6 for a\n",
      "The pstve index is 13 , ngtve index is -5 for m\n",
      "The pstve index is 14 , ngtve index is -4 for m\n",
      "The pstve index is 15 , ngtve index is -3 for i\n",
      "The pstve index is 16 , ngtve index is -2 for n\n",
      "The pstve index is 17 , ngtve index is -1 for g\n"
     ]
    }
   ],
   "source": [
    "for i in range(len(s2)):\n",
    "    print(\"The pstve index is {} , ngtve index is {} for {}\".format(i,i-len(s2),s2[i]))"
   ]
  },
  {
   "cell_type": "code",
   "execution_count": 99,
   "id": "1133aa16",
   "metadata": {},
   "outputs": [
    {
     "data": {
      "text/plain": [
       "'python programming'"
      ]
     },
     "execution_count": 99,
     "metadata": {},
     "output_type": "execute_result"
    }
   ],
   "source": [
    "s2"
   ]
  },
  {
   "cell_type": "code",
   "execution_count": 103,
   "id": "cdd38682",
   "metadata": {},
   "outputs": [
    {
     "name": "stdout",
     "output_type": "stream",
     "text": [
      "2\n"
     ]
    }
   ],
   "source": [
    "#how many p's are there\n",
    "\n",
    "count=0\n",
    "for i in range(len(s2)):\n",
    "    if s2[i]==\"p\":\n",
    "        count=count+1\n",
    "print(count)"
   ]
  },
  {
   "cell_type": "code",
   "execution_count": 104,
   "id": "6ef497e3",
   "metadata": {},
   "outputs": [
    {
     "data": {
      "text/plain": [
       "'HelloHithere'"
      ]
     },
     "execution_count": 104,
     "metadata": {},
     "output_type": "execute_result"
    }
   ],
   "source": [
    "s1"
   ]
  },
  {
   "cell_type": "code",
   "execution_count": 105,
   "id": "7bacad2e",
   "metadata": {},
   "outputs": [
    {
     "name": "stdout",
     "output_type": "stream",
     "text": [
      "2\n"
     ]
    }
   ],
   "source": [
    "#count \"H\"\n",
    "\n",
    "count=0\n",
    "for i in range(len(s1)):\n",
    "    if s1[i]==\"H\":\n",
    "        count=count+1\n",
    "print(count)\n",
    "    "
   ]
  },
  {
   "cell_type": "code",
   "execution_count": 113,
   "id": "f08b1c13",
   "metadata": {},
   "outputs": [
    {
     "name": "stdout",
     "output_type": "stream",
     "text": [
      "Vowels are e\n",
      "Vowels are o\n",
      "Vowels are i\n",
      "Vowels are e\n",
      "Vowels are e\n",
      "5\n"
     ]
    }
   ],
   "source": [
    "#to find vowels in s1\n",
    "\n",
    "count=0\n",
    "for i in range(len(s1)):\n",
    "    if s1[i] in \"aeiou\":\n",
    "        count=count+1\n",
    "        print(\"Vowels are\",s1[i])\n",
    "print(count)"
   ]
  },
  {
   "cell_type": "code",
   "execution_count": 114,
   "id": "18e72785",
   "metadata": {},
   "outputs": [
    {
     "name": "stdout",
     "output_type": "stream",
     "text": [
      "Consonants are H\n",
      "Consonants are l\n",
      "Consonants are l\n",
      "Consonants are H\n",
      "Consonants are t\n",
      "Consonants are h\n",
      "Consonants are r\n",
      "7\n"
     ]
    }
   ],
   "source": [
    "#to find consonants in s1\n",
    "\n",
    "count=0\n",
    "for i in range(len(s1)):\n",
    "    if s1[i] not in \"aeiou\":\n",
    "        count=count+1\n",
    "        print(\"Consonants are\",s1[i])\n",
    "print(count)\n"
   ]
  },
  {
   "cell_type": "code",
   "execution_count": 110,
   "id": "e9bd326c",
   "metadata": {},
   "outputs": [
    {
     "data": {
      "text/plain": [
       "'python programming'"
      ]
     },
     "execution_count": 110,
     "metadata": {},
     "output_type": "execute_result"
    }
   ],
   "source": [
    "s2"
   ]
  },
  {
   "cell_type": "code",
   "execution_count": 115,
   "id": "fdf2787c",
   "metadata": {},
   "outputs": [
    {
     "name": "stdout",
     "output_type": "stream",
     "text": [
      "Vowels are o\n",
      "Vowels are o\n",
      "Vowels are a\n",
      "Vowels are i\n",
      "4\n"
     ]
    }
   ],
   "source": [
    "#To count &print vowels in s2\n",
    "\n",
    "count=0\n",
    "for i in range(len(s2)):\n",
    "    if s2[i] in \"aeiou\":\n",
    "        count=count+1\n",
    "        print(\"Vowels are\",s2[i])\n",
    "print(count)\n",
    "    "
   ]
  },
  {
   "cell_type": "code",
   "execution_count": 116,
   "id": "b27c1e46",
   "metadata": {},
   "outputs": [
    {
     "data": {
      "text/plain": [
       "'python programming'"
      ]
     },
     "execution_count": 116,
     "metadata": {},
     "output_type": "execute_result"
    }
   ],
   "source": [
    "s2"
   ]
  },
  {
   "cell_type": "code",
   "execution_count": 117,
   "id": "7917da6c",
   "metadata": {},
   "outputs": [
    {
     "data": {
      "text/plain": [
       "'p'"
      ]
     },
     "execution_count": 117,
     "metadata": {},
     "output_type": "execute_result"
    }
   ],
   "source": [
    "s2[0]"
   ]
  },
  {
   "cell_type": "code",
   "execution_count": 118,
   "id": "78a66a7f",
   "metadata": {},
   "outputs": [
    {
     "ename": "TypeError",
     "evalue": "'str' object does not support item assignment",
     "output_type": "error",
     "traceback": [
      "\u001b[1;31m---------------------------------------------------------------------------\u001b[0m",
      "\u001b[1;31mTypeError\u001b[0m                                 Traceback (most recent call last)",
      "Cell \u001b[1;32mIn[118], line 1\u001b[0m\n\u001b[1;32m----> 1\u001b[0m s2[\u001b[38;5;241m0\u001b[39m]\u001b[38;5;241m=\u001b[39m\u001b[38;5;124m\"\u001b[39m\u001b[38;5;124mP\u001b[39m\u001b[38;5;124m\"\u001b[39m\n",
      "\u001b[1;31mTypeError\u001b[0m: 'str' object does not support item assignment"
     ]
    }
   ],
   "source": [
    "s2[0]=\"P\"   #Str is immutable"
   ]
  },
  {
   "cell_type": "code",
   "execution_count": 120,
   "id": "368b7ea4",
   "metadata": {},
   "outputs": [
    {
     "data": {
      "text/plain": [
       "['__add__',\n",
       " '__class__',\n",
       " '__contains__',\n",
       " '__delattr__',\n",
       " '__dir__',\n",
       " '__doc__',\n",
       " '__eq__',\n",
       " '__format__',\n",
       " '__ge__',\n",
       " '__getattribute__',\n",
       " '__getitem__',\n",
       " '__getnewargs__',\n",
       " '__getstate__',\n",
       " '__gt__',\n",
       " '__hash__',\n",
       " '__init__',\n",
       " '__init_subclass__',\n",
       " '__iter__',\n",
       " '__le__',\n",
       " '__len__',\n",
       " '__lt__',\n",
       " '__mod__',\n",
       " '__mul__',\n",
       " '__ne__',\n",
       " '__new__',\n",
       " '__reduce__',\n",
       " '__reduce_ex__',\n",
       " '__repr__',\n",
       " '__rmod__',\n",
       " '__rmul__',\n",
       " '__setattr__',\n",
       " '__sizeof__',\n",
       " '__str__',\n",
       " '__subclasshook__',\n",
       " 'capitalize',\n",
       " 'casefold',\n",
       " 'center',\n",
       " 'count',\n",
       " 'encode',\n",
       " 'endswith',\n",
       " 'expandtabs',\n",
       " 'find',\n",
       " 'format',\n",
       " 'format_map',\n",
       " 'index',\n",
       " 'isalnum',\n",
       " 'isalpha',\n",
       " 'isascii',\n",
       " 'isdecimal',\n",
       " 'isdigit',\n",
       " 'isidentifier',\n",
       " 'islower',\n",
       " 'isnumeric',\n",
       " 'isprintable',\n",
       " 'isspace',\n",
       " 'istitle',\n",
       " 'isupper',\n",
       " 'join',\n",
       " 'ljust',\n",
       " 'lower',\n",
       " 'lstrip',\n",
       " 'maketrans',\n",
       " 'partition',\n",
       " 'removeprefix',\n",
       " 'removesuffix',\n",
       " 'replace',\n",
       " 'rfind',\n",
       " 'rindex',\n",
       " 'rjust',\n",
       " 'rpartition',\n",
       " 'rsplit',\n",
       " 'rstrip',\n",
       " 'split',\n",
       " 'splitlines',\n",
       " 'startswith',\n",
       " 'strip',\n",
       " 'swapcase',\n",
       " 'title',\n",
       " 'translate',\n",
       " 'upper',\n",
       " 'zfill']"
      ]
     },
     "execution_count": 120,
     "metadata": {},
     "output_type": "execute_result"
    }
   ],
   "source": [
    "dir(s1)"
   ]
  },
  {
   "cell_type": "code",
   "execution_count": 121,
   "id": "5e132136",
   "metadata": {},
   "outputs": [
    {
     "data": {
      "text/plain": [
       "'HelloHithere'"
      ]
     },
     "execution_count": 121,
     "metadata": {},
     "output_type": "execute_result"
    }
   ],
   "source": [
    "s1"
   ]
  },
  {
   "cell_type": "code",
   "execution_count": 122,
   "id": "e3f184e3",
   "metadata": {},
   "outputs": [
    {
     "data": {
      "text/plain": [
       "'Hello hi there'"
      ]
     },
     "execution_count": 122,
     "metadata": {},
     "output_type": "execute_result"
    }
   ],
   "source": [
    "s1=\"hello hi there\"\n",
    "s1.capitalize()"
   ]
  },
  {
   "cell_type": "code",
   "execution_count": 123,
   "id": "db4beb55",
   "metadata": {},
   "outputs": [
    {
     "name": "stdout",
     "output_type": "stream",
     "text": [
      "HELLO HI THERE\n",
      "hello hi there\n"
     ]
    }
   ],
   "source": [
    "print(s1.upper())\n",
    "print(s1.lower())\n"
   ]
  },
  {
   "cell_type": "code",
   "execution_count": 125,
   "id": "fd759cb3",
   "metadata": {},
   "outputs": [
    {
     "data": {
      "text/plain": [
       "True"
      ]
     },
     "execution_count": 125,
     "metadata": {},
     "output_type": "execute_result"
    }
   ],
   "source": [
    "s4=\"1234\"\n",
    "s4.isnumeric()"
   ]
  },
  {
   "cell_type": "code",
   "execution_count": 126,
   "id": "e18a2aff",
   "metadata": {},
   "outputs": [
    {
     "data": {
      "text/plain": [
       "True"
      ]
     },
     "execution_count": 126,
     "metadata": {},
     "output_type": "execute_result"
    }
   ],
   "source": [
    "s4=\"1234fcgjhj\"\n",
    "s4.isalnum()"
   ]
  },
  {
   "cell_type": "code",
   "execution_count": 127,
   "id": "311ca096",
   "metadata": {},
   "outputs": [
    {
     "name": "stdout",
     "output_type": "stream",
     "text": [
      "python\n",
      "python program\n",
      "python program\n"
     ]
    }
   ],
   "source": [
    "s1=\"  python    \"\n",
    "s2=\"  python program\"\n",
    "s3=\"python program   \"\n",
    "print(s1.strip())\n",
    "print(s2.strip())\n",
    "print(s3.strip())"
   ]
  },
  {
   "cell_type": "code",
   "execution_count": 129,
   "id": "c08c65c9",
   "metadata": {},
   "outputs": [
    {
     "name": "stdout",
     "output_type": "stream",
     "text": [
      "\n"
     ]
    }
   ],
   "source": [
    "s1=\"python\"\n",
    "s2=\"\"\n",
    "s2.join(s1)\n",
    "print(s2)"
   ]
  },
  {
   "cell_type": "code",
   "execution_count": 131,
   "id": "ca55a14f",
   "metadata": {},
   "outputs": [
    {
     "name": "stdout",
     "output_type": "stream",
     "text": [
      "python\n"
     ]
    }
   ],
   "source": [
    "s1=\"python\"\n",
    "s2=\"\"\n",
    "s1.join(s2)\n",
    "print(s1)"
   ]
  },
  {
   "cell_type": "code",
   "execution_count": 132,
   "id": "43ea2b2b",
   "metadata": {},
   "outputs": [
    {
     "data": {
      "text/plain": [
       "'python'"
      ]
     },
     "execution_count": 132,
     "metadata": {},
     "output_type": "execute_result"
    }
   ],
   "source": [
    "s1"
   ]
  },
  {
   "cell_type": "code",
   "execution_count": 133,
   "id": "073d57ff",
   "metadata": {},
   "outputs": [
    {
     "data": {
      "text/plain": [
       "0"
      ]
     },
     "execution_count": 133,
     "metadata": {},
     "output_type": "execute_result"
    }
   ],
   "source": [
    "s1.index(\"p\")"
   ]
  },
  {
   "cell_type": "code",
   "execution_count": 134,
   "id": "5ca941bb",
   "metadata": {},
   "outputs": [
    {
     "data": {
      "text/plain": [
       "0"
      ]
     },
     "execution_count": 134,
     "metadata": {},
     "output_type": "execute_result"
    }
   ],
   "source": [
    "s1.find(\"p\")"
   ]
  },
  {
   "cell_type": "code",
   "execution_count": 136,
   "id": "43f32629",
   "metadata": {},
   "outputs": [],
   "source": [
    "s3=\"python is a\""
   ]
  },
  {
   "cell_type": "code",
   "execution_count": 142,
   "id": "bfcbb280",
   "metadata": {},
   "outputs": [
    {
     "data": {
      "text/plain": [
       "['p', 'thon is a']"
      ]
     },
     "execution_count": 142,
     "metadata": {},
     "output_type": "execute_result"
    }
   ],
   "source": [
    "s3.split(\"y\")"
   ]
  },
  {
   "cell_type": "code",
   "execution_count": 151,
   "id": "4ef7db16",
   "metadata": {},
   "outputs": [
    {
     "data": {
      "text/plain": [
       "'pragnya@gmail.com'"
      ]
     },
     "execution_count": 151,
     "metadata": {},
     "output_type": "execute_result"
    }
   ],
   "source": [
    "#extract pragnya using split\n",
    "\n",
    "s1=\"gaddam.pragnya@gmail.com\"\n",
    "s2=s1.split(\"gaddam.\")[1]\n",
    "s2"
   ]
  },
  {
   "cell_type": "code",
   "execution_count": 153,
   "id": "158ea882",
   "metadata": {},
   "outputs": [
    {
     "data": {
      "text/plain": [
       "'pragnya'"
      ]
     },
     "execution_count": 153,
     "metadata": {},
     "output_type": "execute_result"
    }
   ],
   "source": [
    "s2.split(\"@\")[0]"
   ]
  },
  {
   "cell_type": "code",
   "execution_count": 160,
   "id": "06c41364",
   "metadata": {},
   "outputs": [
    {
     "name": "stdout",
     "output_type": "stream",
     "text": [
      "pragnya\n",
      "pragnya\n"
     ]
    }
   ],
   "source": [
    "#extract pragnya using index\n",
    "\n",
    "s1=\"gaddam.pragnya@gmail.com\"\n",
    "print(s1[s1.index(\"p\"):s1.index(\"@\")])\n",
    "\n",
    "#or\n",
    "\n",
    "print(s1[s1.index(\".\")+1:s1.index(\"@\")])\n",
    "\n",
    "\n"
   ]
  },
  {
   "cell_type": "code",
   "execution_count": 163,
   "id": "7e5e70c0",
   "metadata": {},
   "outputs": [
    {
     "data": {
      "text/plain": [
       "'pragnya'"
      ]
     },
     "execution_count": 163,
     "metadata": {},
     "output_type": "execute_result"
    }
   ],
   "source": [
    "#Extract pragnya using find\n",
    "\n",
    "s1=\"gaddam.pragnya@gmail.com\"\n",
    "s1[s1.find(\".\")+1:s1.find(\"@\")]"
   ]
  },
  {
   "cell_type": "code",
   "execution_count": 166,
   "id": "253305fc",
   "metadata": {},
   "outputs": [
    {
     "data": {
      "text/plain": [
       "1"
      ]
     },
     "execution_count": 166,
     "metadata": {},
     "output_type": "execute_result"
    }
   ],
   "source": [
    "#find the index of fourth occurence of a\n",
    "\n",
    "s1=\"gaddam.pragnya@gmail.com\"\n",
    "first_occ=s1.find(\"a\")\n",
    "first_occ"
   ]
  },
  {
   "cell_type": "code",
   "execution_count": 170,
   "id": "9716390e",
   "metadata": {},
   "outputs": [
    {
     "data": {
      "text/plain": [
       "4"
      ]
     },
     "execution_count": 170,
     "metadata": {},
     "output_type": "execute_result"
    }
   ],
   "source": [
    "#second_occ=s1.find(\"a\",s1.find(\"a\")+1)\n",
    "#second_occ\n",
    "\n",
    "#or\n",
    "\n",
    "second_occ=s1.find(\"a\",first_occ+1)\n",
    "second_occ"
   ]
  },
  {
   "cell_type": "code",
   "execution_count": 171,
   "id": "1bf6b471",
   "metadata": {},
   "outputs": [
    {
     "data": {
      "text/plain": [
       "9"
      ]
     },
     "execution_count": 171,
     "metadata": {},
     "output_type": "execute_result"
    }
   ],
   "source": [
    "#thrd\n",
    "\n",
    "third_occ=s1.find(\"a\",second_occ+1)\n",
    "third_occ"
   ]
  },
  {
   "cell_type": "code",
   "execution_count": 172,
   "id": "6cda4ce5",
   "metadata": {},
   "outputs": [
    {
     "data": {
      "text/plain": [
       "13"
      ]
     },
     "execution_count": 172,
     "metadata": {},
     "output_type": "execute_result"
    }
   ],
   "source": [
    "#fourth\n",
    "\n",
    "fourth_occ=s1.find(\"a\",third_occ+1)\n",
    "fourth_occ"
   ]
  },
  {
   "cell_type": "code",
   "execution_count": 174,
   "id": "b91f1d20",
   "metadata": {},
   "outputs": [],
   "source": [
    "s3=\"pythonsa\""
   ]
  },
  {
   "cell_type": "code",
   "execution_count": 175,
   "id": "cf6d2bf8",
   "metadata": {},
   "outputs": [
    {
     "data": {
      "text/plain": [
       "0"
      ]
     },
     "execution_count": 175,
     "metadata": {},
     "output_type": "execute_result"
    }
   ],
   "source": [
    "s3.find(\"p\")"
   ]
  },
  {
   "cell_type": "code",
   "execution_count": 176,
   "id": "e6a1a84d",
   "metadata": {},
   "outputs": [
    {
     "data": {
      "text/plain": [
       "-1"
      ]
     },
     "execution_count": 176,
     "metadata": {},
     "output_type": "execute_result"
    }
   ],
   "source": [
    "s3.find(\"z\")  #-1 is returned"
   ]
  },
  {
   "cell_type": "code",
   "execution_count": 177,
   "id": "cbe9ad7e",
   "metadata": {},
   "outputs": [
    {
     "data": {
      "text/plain": [
       "0"
      ]
     },
     "execution_count": 177,
     "metadata": {},
     "output_type": "execute_result"
    }
   ],
   "source": [
    "s3.index(\"p\")"
   ]
  },
  {
   "cell_type": "code",
   "execution_count": 178,
   "id": "dd6521ab",
   "metadata": {},
   "outputs": [
    {
     "ename": "ValueError",
     "evalue": "substring not found",
     "output_type": "error",
     "traceback": [
      "\u001b[1;31m---------------------------------------------------------------------------\u001b[0m",
      "\u001b[1;31mValueError\u001b[0m                                Traceback (most recent call last)",
      "Cell \u001b[1;32mIn[178], line 1\u001b[0m\n\u001b[1;32m----> 1\u001b[0m s3\u001b[38;5;241m.\u001b[39mindex(\u001b[38;5;124m\"\u001b[39m\u001b[38;5;124mz\u001b[39m\u001b[38;5;124m\"\u001b[39m)\n",
      "\u001b[1;31mValueError\u001b[0m: substring not found"
     ]
    }
   ],
   "source": [
    "s3.index(\"z\") #error "
   ]
  },
  {
   "cell_type": "code",
   "execution_count": 179,
   "id": "6dbe8c77",
   "metadata": {},
   "outputs": [
    {
     "data": {
      "text/plain": [
       "'Python'"
      ]
     },
     "execution_count": 179,
     "metadata": {},
     "output_type": "execute_result"
    }
   ],
   "source": [
    "#replace\n",
    "\n",
    "s=\"python\"\n",
    "s.replace(\"p\",\"P\")"
   ]
  },
  {
   "cell_type": "code",
   "execution_count": 184,
   "id": "d286157e",
   "metadata": {},
   "outputs": [
    {
     "data": {
      "text/plain": [
       "'Python'"
      ]
     },
     "execution_count": 184,
     "metadata": {},
     "output_type": "execute_result"
    }
   ],
   "source": [
    "s=\"python\"\n",
    "\"P\"+s[1:]"
   ]
  },
  {
   "cell_type": "code",
   "execution_count": 182,
   "id": "85e7afff",
   "metadata": {},
   "outputs": [
    {
     "name": "stdout",
     "output_type": "stream",
     "text": [
      "Hello\n",
      "Hie\n"
     ]
    }
   ],
   "source": [
    "s1=\"hello\"\n",
    "s2=\"hie\"\n",
    "print(s1.replace(\"h\",\"H\"))\n",
    "print(s2.replace(\"h\",\"H\"))"
   ]
  },
  {
   "cell_type": "code",
   "execution_count": 186,
   "id": "ffad5eb7",
   "metadata": {},
   "outputs": [
    {
     "data": {
      "text/plain": [
       "'$estart'"
      ]
     },
     "execution_count": 186,
     "metadata": {},
     "output_type": "execute_result"
    }
   ],
   "source": [
    "#input -> restart\n",
    "#output1-> $estart\n",
    "#output 2-> resta$t\n",
    "\n",
    "s1=\"restart\"\n",
    "s1.replace(\"r\",\"$\",1)"
   ]
  },
  {
   "cell_type": "code",
   "execution_count": 197,
   "id": "1ea0ffa6",
   "metadata": {},
   "outputs": [
    {
     "name": "stdout",
     "output_type": "stream",
     "text": [
      "resta$t\n"
     ]
    }
   ],
   "source": [
    "#resta$t\n",
    "\n",
    "s1=\"restart\"\n",
    "s1[1:]\n",
    "s=s1[1:].replace(\"r\",\"$\")\n",
    "s2=s1[0]\n",
    "print(s2+s)"
   ]
  },
  {
   "cell_type": "code",
   "execution_count": null,
   "id": "f5fd1abf",
   "metadata": {},
   "outputs": [],
   "source": []
  }
 ],
 "metadata": {
  "kernelspec": {
   "display_name": "Python 3",
   "language": "python",
   "name": "python3"
  },
  "language_info": {
   "codemirror_mode": {
    "name": "ipython",
    "version": 3
   },
   "file_extension": ".py",
   "mimetype": "text/x-python",
   "name": "python",
   "nbconvert_exporter": "python",
   "pygments_lexer": "ipython3",
   "version": "3.11.4"
  }
 },
 "nbformat": 4,
 "nbformat_minor": 5
}
