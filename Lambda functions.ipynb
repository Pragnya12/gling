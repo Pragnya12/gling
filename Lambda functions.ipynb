{
 "cells": [
  {
   "cell_type": "markdown",
   "id": "313c9ddb",
   "metadata": {},
   "source": [
    "**Lambda function with one argument**"
   ]
  },
  {
   "cell_type": "code",
   "execution_count": 7,
   "id": "54120115",
   "metadata": {},
   "outputs": [
    {
     "data": {
      "text/plain": [
       "20"
      ]
     },
     "execution_count": 7,
     "metadata": {},
     "output_type": "execute_result"
    }
   ],
   "source": [
    "#normal fun'\n",
    "\n",
    "def add(x):\n",
    "    return(x+10)\n",
    "add(10)"
   ]
  },
  {
   "cell_type": "code",
   "execution_count": 2,
   "id": "2d0282b2",
   "metadata": {},
   "outputs": [
    {
     "data": {
      "text/plain": [
       "20"
      ]
     },
     "execution_count": 2,
     "metadata": {},
     "output_type": "execute_result"
    }
   ],
   "source": [
    "#How many args are there ? \"x\"\n",
    "#what are uh returning ( x+10)\n",
    "# <function_name>=lambda <argument_name>:<return_value>\n",
    "\n",
    "add=lambda x :x+10\n",
    "add(10)"
   ]
  },
  {
   "cell_type": "code",
   "execution_count": 3,
   "id": "054969af",
   "metadata": {},
   "outputs": [
    {
     "data": {
      "text/plain": [
       "25"
      ]
     },
     "execution_count": 3,
     "metadata": {},
     "output_type": "execute_result"
    }
   ],
   "source": [
    "def mul(num):\n",
    "    return(num*num)\n",
    "mul(5)"
   ]
  },
  {
   "cell_type": "code",
   "execution_count": 4,
   "id": "d96d9e29",
   "metadata": {},
   "outputs": [
    {
     "data": {
      "text/plain": [
       "25"
      ]
     },
     "execution_count": 4,
     "metadata": {},
     "output_type": "execute_result"
    }
   ],
   "source": [
    "#Arguments --> 1 (num)\n",
    "#return value-> num*num\n",
    "\n",
    "mul=lambda num:num*num\n",
    "mul(5)"
   ]
  },
  {
   "cell_type": "code",
   "execution_count": 5,
   "id": "2382a893",
   "metadata": {},
   "outputs": [
    {
     "data": {
      "text/plain": [
       "125"
      ]
     },
     "execution_count": 5,
     "metadata": {},
     "output_type": "execute_result"
    }
   ],
   "source": [
    "def cube(val):\n",
    "    return(val*val*val)\n",
    "cube(5)"
   ]
  },
  {
   "cell_type": "code",
   "execution_count": 6,
   "id": "0dba5da2",
   "metadata": {},
   "outputs": [
    {
     "data": {
      "text/plain": [
       "125"
      ]
     },
     "execution_count": 6,
     "metadata": {},
     "output_type": "execute_result"
    }
   ],
   "source": [
    "cube=lambda val:val*val*val\n",
    "cube(5)"
   ]
  },
  {
   "cell_type": "markdown",
   "id": "416a4d71",
   "metadata": {},
   "source": [
    "**Lambda function with two arguments**"
   ]
  },
  {
   "cell_type": "code",
   "execution_count": 9,
   "id": "ffb2e8ea",
   "metadata": {},
   "outputs": [
    {
     "data": {
      "text/plain": [
       "30"
      ]
     },
     "execution_count": 9,
     "metadata": {},
     "output_type": "execute_result"
    }
   ],
   "source": [
    "def sum1(a,b):\n",
    "    return(a+b)\n",
    "sum1(10,20)"
   ]
  },
  {
   "cell_type": "code",
   "execution_count": 10,
   "id": "a336a577",
   "metadata": {},
   "outputs": [
    {
     "data": {
      "text/plain": [
       "30"
      ]
     },
     "execution_count": 10,
     "metadata": {},
     "output_type": "execute_result"
    }
   ],
   "source": [
    "sum1=lambda a,b:a+b\n",
    "sum1(10,20)"
   ]
  },
  {
   "cell_type": "code",
   "execution_count": 11,
   "id": "ded7398c",
   "metadata": {},
   "outputs": [
    {
     "data": {
      "text/plain": [
       "20.0"
      ]
     },
     "execution_count": 11,
     "metadata": {},
     "output_type": "execute_result"
    }
   ],
   "source": [
    "def avg(a,b,c):\n",
    "    return((a+b+c)/3)\n",
    "avg(10,20,30)"
   ]
  },
  {
   "cell_type": "code",
   "execution_count": 12,
   "id": "a00c99fc",
   "metadata": {},
   "outputs": [
    {
     "data": {
      "text/plain": [
       "20.0"
      ]
     },
     "execution_count": 12,
     "metadata": {},
     "output_type": "execute_result"
    }
   ],
   "source": [
    "avg=lambda a,b,c:(a+b+c)/3\n",
    "avg(10,20,30)"
   ]
  },
  {
   "cell_type": "code",
   "execution_count": 13,
   "id": "84791826",
   "metadata": {},
   "outputs": [
    {
     "data": {
      "text/plain": [
       "43.333333333333336"
      ]
     },
     "execution_count": 13,
     "metadata": {},
     "output_type": "execute_result"
    }
   ],
   "source": [
    "def avg(a,b,c=100):\n",
    "    return((a+b+c)/3)\n",
    "avg(10,20)"
   ]
  },
  {
   "cell_type": "code",
   "execution_count": 15,
   "id": "65e17d43",
   "metadata": {},
   "outputs": [
    {
     "data": {
      "text/plain": [
       "43.33"
      ]
     },
     "execution_count": 15,
     "metadata": {},
     "output_type": "execute_result"
    }
   ],
   "source": [
    "avg=lambda a,b,c=100:round((a+b+c)/3,2)\n",
    "avg(10,20)"
   ]
  },
  {
   "cell_type": "markdown",
   "id": "5324a28f",
   "metadata": {},
   "source": [
    "**Lambda function with ifelse**\n",
    "\n"
   ]
  },
  {
   "cell_type": "code",
   "execution_count": 16,
   "id": "cb52ec84",
   "metadata": {},
   "outputs": [
    {
     "data": {
      "text/plain": [
       "100"
      ]
     },
     "execution_count": 16,
     "metadata": {},
     "output_type": "execute_result"
    }
   ],
   "source": [
    "def greater(num1,num2):\n",
    "    if num1>num2:\n",
    "        return(num1)\n",
    "    else:\n",
    "        return(num2)\n",
    "greater(50,100)"
   ]
  },
  {
   "cell_type": "code",
   "execution_count": 24,
   "id": "3a2c5529",
   "metadata": {},
   "outputs": [
    {
     "data": {
      "text/plain": [
       "100"
      ]
     },
     "execution_count": 24,
     "metadata": {},
     "output_type": "execute_result"
    }
   ],
   "source": [
    "#<fucntion_name>=lambda <arg1,arg2>:<if_output> <if_condition> else <else_output>\n",
    "\n",
    "greater=lambda num1,num2:num1 if num1>num2 else num2\n",
    "greater(50,100)"
   ]
  },
  {
   "cell_type": "markdown",
   "id": "64418c42",
   "metadata": {},
   "source": [
    "**Lambda functions with list**"
   ]
  },
  {
   "cell_type": "code",
   "execution_count": 35,
   "id": "62c0f109",
   "metadata": {},
   "outputs": [
    {
     "name": "stdout",
     "output_type": "stream",
     "text": [
      "Hyd\n",
      "Mumbai\n",
      "Bangalore\n"
     ]
    }
   ],
   "source": [
    "list1=[\"hyd\",\"mumbai\",\"bangalore\"]\n",
    "output=[]\n",
    "for i in list1:\n",
    "    print(i.capitalize())"
   ]
  },
  {
   "cell_type": "code",
   "execution_count": 38,
   "id": "9857f382",
   "metadata": {},
   "outputs": [
    {
     "data": {
      "text/plain": [
       "['Hyd', 'Mumbai', 'Bangalore']"
      ]
     },
     "execution_count": 38,
     "metadata": {},
     "output_type": "execute_result"
    }
   ],
   "source": [
    "#MEthod-1\n",
    "#output-->[\"Hyd\",\"Mumbai\",\"Bangalore\"]\n",
    "\n",
    "list1=[\"hyd\",\"mumbai\",\"bangalore\"]\n",
    "output=[]\n",
    "for i in list1:\n",
    "    output.append(i.capitalize())\n",
    "output"
   ]
  },
  {
   "cell_type": "code",
   "execution_count": 40,
   "id": "1f669c7d",
   "metadata": {},
   "outputs": [
    {
     "data": {
      "text/plain": [
       "['Hyd', 'Mumbai', 'Bangalore']"
      ]
     },
     "execution_count": 40,
     "metadata": {},
     "output_type": "execute_result"
    }
   ],
   "source": [
    "#Method-2\n",
    "\n",
    "output=[i.capitalize() for i in list1]\n",
    "output"
   ]
  },
  {
   "cell_type": "code",
   "execution_count": 44,
   "id": "485b1696",
   "metadata": {},
   "outputs": [
    {
     "data": {
      "text/plain": [
       "(<function __main__.<lambda>(i)>, ['hyd', 'mumbai', 'bangalore'])"
      ]
     },
     "execution_count": 44,
     "metadata": {},
     "output_type": "execute_result"
    }
   ],
   "source": [
    "#Method-3 (With Lambda)\n",
    "\n",
    "#lambda <var>: <o/p> , <list1/str/tuple>\n",
    "\n",
    "list1=[\"hyd\",\"mumbai\",\"bangalore\"]\n",
    "\n",
    "lambda i:i.capitalize(),list1\n",
    "\n",
    "#step-1: create a lmbda function--> lambda i:i.capitalize()  (i is variable)\n",
    "\n",
    "#step-2: add your iterator (here list1 is iterator) --> storing values in list1 ( for i in list1:\n",
    "                                                                                        print(i))\n",
    "\n",
    "#step-3: both 1 & 2 (lambda i:i.capitalize(),list1)\n",
    "\n",
    "#map(step1,step2)\n",
    "#map(lambda i:i.capitalize(),list1)\n",
    "\n",
    "#step-4: you need to save the result again in a list or tuple\n",
    "\n",
    "#list(map(step1,step2))\n",
    "# list(map(lambda i:i.capitalize(),list1))"
   ]
  },
  {
   "cell_type": "code",
   "execution_count": 45,
   "id": "fd5a47f6",
   "metadata": {},
   "outputs": [
    {
     "data": {
      "text/plain": [
       "['Hyd', 'Mumbai', 'Bangalore']"
      ]
     },
     "execution_count": 45,
     "metadata": {},
     "output_type": "execute_result"
    }
   ],
   "source": [
    "#map\n",
    "\n",
    "list(map(lambda i:i.capitalize(),list1))   #using map , then store in list"
   ]
  },
  {
   "cell_type": "code",
   "execution_count": 51,
   "id": "b91b1459",
   "metadata": {},
   "outputs": [
    {
     "data": {
      "text/plain": [
       "100"
      ]
     },
     "execution_count": 51,
     "metadata": {},
     "output_type": "execute_result"
    }
   ],
   "source": [
    "#list1=[1,2,3,4]\n",
    "\n",
    "#o/p--> [1,4,9,16]\n",
    "\n",
    "#def square(num):\n",
    "#    return(num*num)\n",
    "#square(10)\n",
    "    "
   ]
  },
  {
   "cell_type": "code",
   "execution_count": 58,
   "id": "ee11b3e3",
   "metadata": {},
   "outputs": [
    {
     "data": {
      "text/plain": [
       "(<function __main__.<lambda>(num)>, [1, 2, 3, 4])"
      ]
     },
     "execution_count": 58,
     "metadata": {},
     "output_type": "execute_result"
    }
   ],
   "source": [
    "#using lambda\n",
    "\n",
    "list1=[1,2,3,4]\n",
    "lambda num:num*num,list1"
   ]
  },
  {
   "cell_type": "code",
   "execution_count": 60,
   "id": "68bb23e9",
   "metadata": {},
   "outputs": [
    {
     "data": {
      "text/plain": [
       "[1, 4, 9, 16]"
      ]
     },
     "execution_count": 60,
     "metadata": {},
     "output_type": "execute_result"
    }
   ],
   "source": [
    "#using map & list\n",
    "\n",
    "list(map(lambda num:num*num,list1))"
   ]
  },
  {
   "cell_type": "code",
   "execution_count": 61,
   "id": "849c2963",
   "metadata": {},
   "outputs": [],
   "source": [
    "####ex--O/p-->[\"Biryani\",\"Buvaneshwar\",\"rasagulla\"]  (len >3)\n",
    "\n",
    "list1=[\"hyd\",\"Biryani\",\"Buvaneshwar\",\"rasagulla\"]\n"
   ]
  },
  {
   "cell_type": "code",
   "execution_count": 75,
   "id": "a7ccc8a2",
   "metadata": {},
   "outputs": [
    {
     "name": "stdout",
     "output_type": "stream",
     "text": [
      "Biryani\n",
      "Buvaneshwar\n",
      "rasagulla\n"
     ]
    }
   ],
   "source": [
    "for i in list1:\n",
    "    if len(i)>3:\n",
    "        print(i)\n",
    "    "
   ]
  },
  {
   "cell_type": "code",
   "execution_count": 76,
   "id": "5a4a861e",
   "metadata": {},
   "outputs": [
    {
     "data": {
      "text/plain": [
       "(<function __main__.<lambda>(i)>,\n",
       " ['hyd', 'Biryani', 'Buvaneshwar', 'rasagulla'])"
      ]
     },
     "execution_count": 76,
     "metadata": {},
     "output_type": "execute_result"
    }
   ],
   "source": [
    "#step-1 &2 \n",
    "#using lambda\n",
    "\n",
    "#lambda variable(i): o/p, list1/str1\n",
    " \n",
    "lambda i:len(i)>3,list1   #here list1 is iterator "
   ]
  },
  {
   "cell_type": "code",
   "execution_count": 77,
   "id": "82d5df18",
   "metadata": {},
   "outputs": [
    {
     "data": {
      "text/plain": [
       "<map at 0x21a04d28370>"
      ]
     },
     "execution_count": 77,
     "metadata": {},
     "output_type": "execute_result"
    }
   ],
   "source": [
    "#step-3\n",
    "\n",
    "map(lambda i:len(i)>3,list1)"
   ]
  },
  {
   "cell_type": "code",
   "execution_count": 78,
   "id": "dac94420",
   "metadata": {},
   "outputs": [
    {
     "data": {
      "text/plain": [
       "[False, True, True, True]"
      ]
     },
     "execution_count": 78,
     "metadata": {},
     "output_type": "execute_result"
    }
   ],
   "source": [
    "#step-4\n",
    "\n",
    "list(map(lambda i:len(i)>3,list1))"
   ]
  },
  {
   "cell_type": "code",
   "execution_count": 79,
   "id": "ab80e872",
   "metadata": {},
   "outputs": [
    {
     "data": {
      "text/plain": [
       "['Biryani', 'Buvaneshwar', 'rasagulla']"
      ]
     },
     "execution_count": 79,
     "metadata": {},
     "output_type": "execute_result"
    }
   ],
   "source": [
    "#here we are filtering by condition saying len shoudl be >3 so use filter\n",
    "\n",
    "list(filter(lambda i:len(i)>3,list1))"
   ]
  },
  {
   "cell_type": "code",
   "execution_count": 90,
   "id": "c2c21114",
   "metadata": {},
   "outputs": [
    {
     "name": "stdout",
     "output_type": "stream",
     "text": [
      "hyd\n",
      "Biry#ani\n",
      "Buvaneshw#ar\n",
      "rasa#gulla\n"
     ]
    }
   ],
   "source": [
    "##return the op those has hash symbol\n",
    "\n",
    "list1=[\"hyd\",\"Biry#ani\",\"Buvaneshw#ar\",\"rasa#gulla\"]\n",
    "\n",
    "for i in list1:\n",
    "    print(i)"
   ]
  },
  {
   "cell_type": "code",
   "execution_count": 92,
   "id": "f74286d1",
   "metadata": {},
   "outputs": [
    {
     "name": "stdout",
     "output_type": "stream",
     "text": [
      "Biry#ani\n",
      "Buvaneshw#ar\n",
      "rasa#gulla\n"
     ]
    }
   ],
   "source": [
    "for i in list1:\n",
    "    if \"#\" in i:\n",
    "        print(i)"
   ]
  },
  {
   "cell_type": "code",
   "execution_count": 93,
   "id": "d4d5284c",
   "metadata": {},
   "outputs": [
    {
     "data": {
      "text/plain": [
       "<function __main__.<lambda>(i)>"
      ]
     },
     "execution_count": 93,
     "metadata": {},
     "output_type": "execute_result"
    }
   ],
   "source": [
    "lambda i:\"#\" in i"
   ]
  },
  {
   "cell_type": "code",
   "execution_count": 94,
   "id": "1c1058c9",
   "metadata": {},
   "outputs": [
    {
     "data": {
      "text/plain": [
       "(<function __main__.<lambda>(i)>,\n",
       " ['hyd', 'Biry#ani', 'Buvaneshw#ar', 'rasa#gulla'])"
      ]
     },
     "execution_count": 94,
     "metadata": {},
     "output_type": "execute_result"
    }
   ],
   "source": [
    "lambda i:\"#\" in i,list1"
   ]
  },
  {
   "cell_type": "code",
   "execution_count": 95,
   "id": "4aae5d2e",
   "metadata": {},
   "outputs": [
    {
     "data": {
      "text/plain": [
       "<map at 0x21a04d22e60>"
      ]
     },
     "execution_count": 95,
     "metadata": {},
     "output_type": "execute_result"
    }
   ],
   "source": [
    "map(lambda i:\"#\" in i,list1)"
   ]
  },
  {
   "cell_type": "code",
   "execution_count": 96,
   "id": "06ddb762",
   "metadata": {},
   "outputs": [
    {
     "data": {
      "text/plain": [
       "[False, True, True, True]"
      ]
     },
     "execution_count": 96,
     "metadata": {},
     "output_type": "execute_result"
    }
   ],
   "source": [
    "list(map(lambda i:\"#\" in i,list1))"
   ]
  },
  {
   "cell_type": "code",
   "execution_count": 97,
   "id": "8152457c",
   "metadata": {},
   "outputs": [
    {
     "data": {
      "text/plain": [
       "['Biry#ani', 'Buvaneshw#ar', 'rasa#gulla']"
      ]
     },
     "execution_count": 97,
     "metadata": {},
     "output_type": "execute_result"
    }
   ],
   "source": [
    "#using filter\n",
    "\n",
    "list(filter(lambda i:\"#\" in i,list1))"
   ]
  },
  {
   "cell_type": "code",
   "execution_count": 103,
   "id": "94f87491",
   "metadata": {},
   "outputs": [
    {
     "name": "stdout",
     "output_type": "stream",
     "text": [
      "Odd: 1\n",
      "Evn: 2\n",
      "Odd: 3\n",
      "Evn: 4\n",
      "Odd: 5\n",
      "Evn: 6\n"
     ]
    }
   ],
   "source": [
    "##ex--- \n",
    "\n",
    "#o/p=[{'even':[2,4,6],'odd':[1,3,5]}]\n",
    "#o/p- [{1:'odd',2:'even'}]\n",
    "\n",
    "list1=[1,2,3,4,5,6]\n",
    "for i in list1:\n",
    "    if(i%2==0):\n",
    "        print(\"Evn:\",i)\n",
    "    else:\n",
    "        print(\"Odd:\",i)"
   ]
  },
  {
   "cell_type": "code",
   "execution_count": 107,
   "id": "1786ba76",
   "metadata": {},
   "outputs": [
    {
     "data": {
      "text/plain": [
       "<function __main__.<lambda>(i)>"
      ]
     },
     "execution_count": 107,
     "metadata": {},
     "output_type": "execute_result"
    }
   ],
   "source": [
    "#lambda\n",
    "\n",
    "lambda i:i%2==0 "
   ]
  },
  {
   "cell_type": "code",
   "execution_count": 108,
   "id": "33f8de21",
   "metadata": {},
   "outputs": [
    {
     "data": {
      "text/plain": [
       "(<function __main__.<lambda>(i)>, [1, 2, 3, 4, 5, 6])"
      ]
     },
     "execution_count": 108,
     "metadata": {},
     "output_type": "execute_result"
    }
   ],
   "source": [
    "#\n",
    "\n",
    "lambda i:i%2==0 ,llist1"
   ]
  },
  {
   "cell_type": "code",
   "execution_count": 109,
   "id": "bb48e11b",
   "metadata": {},
   "outputs": [
    {
     "data": {
      "text/plain": [
       "<map at 0x21a04d2a2c0>"
      ]
     },
     "execution_count": 109,
     "metadata": {},
     "output_type": "execute_result"
    }
   ],
   "source": [
    "#using map\n",
    "\n",
    "map(lambda i:i%2==0 ,list1)"
   ]
  },
  {
   "cell_type": "code",
   "execution_count": 121,
   "id": "5ded0ce2",
   "metadata": {},
   "outputs": [
    {
     "data": {
      "text/plain": [
       "[2, 4, 6]"
      ]
     },
     "execution_count": 121,
     "metadata": {},
     "output_type": "execute_result"
    }
   ],
   "source": [
    "#using filter\n",
    "\n",
    "list(filter(lambda i:i%2==0 ,list1))"
   ]
  },
  {
   "cell_type": "code",
   "execution_count": 123,
   "id": "4c60c56c",
   "metadata": {},
   "outputs": [
    {
     "data": {
      "text/plain": [
       "([2, 4, 6], [1, 3, 5])"
      ]
     },
     "execution_count": 123,
     "metadata": {},
     "output_type": "execute_result"
    }
   ],
   "source": [
    "dict1={}\n",
    "even=list(filter(lambda i:i%2==0 ,list1))\n",
    "odd=list(filter(lambda i:i%2!=0 ,list1))\n",
    "even,odd"
   ]
  },
  {
   "cell_type": "code",
   "execution_count": 124,
   "id": "84dc1825",
   "metadata": {},
   "outputs": [
    {
     "name": "stdout",
     "output_type": "stream",
     "text": [
      "Biryani\n",
      "Buvaneshwar\n",
      "rasagulla\n"
     ]
    }
   ],
   "source": [
    "####ex--O/p-->[\"Biryani\",\"Buvaneshwar\",\"rasagulla\"]  (len >3)\n",
    "\n",
    "list1=[\"hyd\",\"Biryani\",\"Buvaneshwar\",\"rasagulla\"]\n",
    "for i in list1:\n",
    "    if len(i)>3:\n",
    "        print(i)"
   ]
  },
  {
   "cell_type": "code",
   "execution_count": 126,
   "id": "a347b7b3",
   "metadata": {},
   "outputs": [
    {
     "data": {
      "text/plain": [
       "(<function __main__.<lambda>(i)>,\n",
       " ['hyd', 'Biryani', 'Buvaneshwar', 'rasagulla'])"
      ]
     },
     "execution_count": 126,
     "metadata": {},
     "output_type": "execute_result"
    }
   ],
   "source": [
    "#using lambda\n",
    "\n",
    "lambda i:len(i)>3,list1"
   ]
  },
  {
   "cell_type": "code",
   "execution_count": 127,
   "id": "85e9fa5a",
   "metadata": {},
   "outputs": [
    {
     "data": {
      "text/plain": [
       "<filter at 0x21a04d29ea0>"
      ]
     },
     "execution_count": 127,
     "metadata": {},
     "output_type": "execute_result"
    }
   ],
   "source": [
    "#since we have filtered through a condtn(len>3)-> use filter\n",
    "\n",
    "filter(lambda i:len(i)>3,list1)"
   ]
  },
  {
   "cell_type": "code",
   "execution_count": 128,
   "id": "a2bdf4a6",
   "metadata": {},
   "outputs": [
    {
     "data": {
      "text/plain": [
       "['Biryani', 'Buvaneshwar', 'rasagulla']"
      ]
     },
     "execution_count": 128,
     "metadata": {},
     "output_type": "execute_result"
    }
   ],
   "source": [
    "#store in list\n",
    "\n",
    "list(filter(lambda i:len(i)>3,list1))"
   ]
  },
  {
   "cell_type": "code",
   "execution_count": 129,
   "id": "8b41ecde",
   "metadata": {},
   "outputs": [
    {
     "data": {
      "text/plain": [
       "1000"
      ]
     },
     "execution_count": 129,
     "metadata": {},
     "output_type": "execute_result"
    }
   ],
   "source": [
    "##cubes\n",
    "\n",
    "l4=[10,20,30,40]\n",
    "\n",
    "def cube(n):\n",
    "    n1=n*n*n\n",
    "    return(n1)\n",
    "cube(10)\n"
   ]
  },
  {
   "cell_type": "code",
   "execution_count": 136,
   "id": "969e5626",
   "metadata": {},
   "outputs": [
    {
     "data": {
      "text/plain": [
       "(<function __main__.<lambda>(n)>, [10, 20, 30, 40])"
      ]
     },
     "execution_count": 136,
     "metadata": {},
     "output_type": "execute_result"
    }
   ],
   "source": [
    "#using lambda & list\n",
    "\n",
    "lambda n:n*n*n,l4\n"
   ]
  },
  {
   "cell_type": "code",
   "execution_count": 138,
   "id": "8ef1eed9",
   "metadata": {},
   "outputs": [
    {
     "data": {
      "text/plain": [
       "<map at 0x21a04d2a5c0>"
      ]
     },
     "execution_count": 138,
     "metadata": {},
     "output_type": "execute_result"
    }
   ],
   "source": [
    "map(lambda n:n*n*n,l4)"
   ]
  },
  {
   "cell_type": "code",
   "execution_count": 139,
   "id": "77dd3ee9",
   "metadata": {},
   "outputs": [
    {
     "data": {
      "text/plain": [
       "[1000, 8000, 27000, 64000]"
      ]
     },
     "execution_count": 139,
     "metadata": {},
     "output_type": "execute_result"
    }
   ],
   "source": [
    "list(map(lambda n:n*n*n,l4))"
   ]
  },
  {
   "cell_type": "code",
   "execution_count": 137,
   "id": "3190629e",
   "metadata": {},
   "outputs": [
    {
     "data": {
      "text/plain": [
       "[{1: 'odd'}, {2: 'even'}, {3: 'odd'}, {4: 'even'}, {5: 'odd'}, {6: 'even'}]"
      ]
     },
     "execution_count": 137,
     "metadata": {},
     "output_type": "execute_result"
    }
   ],
   "source": [
    "####ex--- \n",
    "\n",
    "#o/p=[{'even':[2,4,6],'odd':[1,3,5]}]\n",
    "#o/p- [{1:'odd',2:'even'}]\n",
    "\n",
    "list1=[1,2,3,4,5,6]\n",
    "list(map(lambda i: {i:'even'} if i%2==0 else {i:'odd'},list1))"
   ]
  },
  {
   "cell_type": "code",
   "execution_count": 142,
   "id": "fe2c5166",
   "metadata": {},
   "outputs": [
    {
     "data": {
      "text/plain": [
       "{'even': [2, 4, 6, 8], 'odd': [1, 3, 5, 7]}"
      ]
     },
     "execution_count": 142,
     "metadata": {},
     "output_type": "execute_result"
    }
   ],
   "source": [
    "l3=[1,2,3,4,5,6,7,8]\n",
    "d1={}\n",
    "d1['even']=list(filter(lambda i:i%2==0,l3))\n",
    "d1['odd']=list(filter(lambda i:i%2!=0,l3))\n",
    "d1"
   ]
  },
  {
   "cell_type": "code",
   "execution_count": 141,
   "id": "1011a918",
   "metadata": {},
   "outputs": [
    {
     "data": {
      "text/plain": [
       "([2, 4, 6], [1, 3, 5])"
      ]
     },
     "execution_count": 141,
     "metadata": {},
     "output_type": "execute_result"
    }
   ],
   "source": [
    "list1=[1,2,3,4,5,6]\n",
    "even=list(filter(lambda i:i%2==0 ,list1))\n",
    "odd=list(filter(lambda i:i%2!=0,list1))\n",
    "even,odd"
   ]
  },
  {
   "cell_type": "code",
   "execution_count": null,
   "id": "a0c41db3",
   "metadata": {},
   "outputs": [],
   "source": []
  }
 ],
 "metadata": {
  "kernelspec": {
   "display_name": "Python 3",
   "language": "python",
   "name": "python3"
  },
  "language_info": {
   "codemirror_mode": {
    "name": "ipython",
    "version": 3
   },
   "file_extension": ".py",
   "mimetype": "text/x-python",
   "name": "python",
   "nbconvert_exporter": "python",
   "pygments_lexer": "ipython3",
   "version": "3.11.4"
  }
 },
 "nbformat": 4,
 "nbformat_minor": 5
}
